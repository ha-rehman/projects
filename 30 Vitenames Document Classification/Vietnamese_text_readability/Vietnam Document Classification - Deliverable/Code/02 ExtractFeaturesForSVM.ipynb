{
 "cells": [
  {
   "cell_type": "code",
   "execution_count": 1,
   "metadata": {
    "executionInfo": {
     "elapsed": 9,
     "status": "ok",
     "timestamp": 1625212816856,
     "user": {
      "displayName": "Trong-Hung Huynh",
      "photoUrl": "",
      "userId": "05059296324934067674"
     },
     "user_tz": -420
    },
    "id": "4XE7BlS7Vih_"
   },
   "outputs": [],
   "source": [
    "import pandas as pd\n",
    "import numpy as np\n",
    "from collections import Counter\n",
    "import os\n",
    "import glob\n",
    "from sklearn.metrics import classification_report, confusion_matrix,accuracy_score, plot_confusion_matrix, precision_score, recall_score,r2_score, mean_squared_error, f1_score\n",
    "from sklearn.model_selection import cross_val_score\n",
    "import matplotlib.pyplot as plt\n",
    "import seaborn as sns\n",
    "from sklearn.svm import SVC\n",
    "from sklearn.ensemble import RandomForestClassifier"
   ]
  },
  {
   "cell_type": "code",
   "execution_count": 2,
   "metadata": {},
   "outputs": [],
   "source": [
    "path='dataset/Vietnamese Text Readability Corpus/'"
   ]
  },
  {
   "cell_type": "code",
   "execution_count": 3,
   "metadata": {},
   "outputs": [],
   "source": [
    "def read_text_files(files):\n",
    "    \n",
    "    data=pd.DataFrame()\n",
    "    texts=[]\n",
    "    labels=[]\n",
    "\n",
    "    path=os.path.join(files, '*.txt')\n",
    "\n",
    "    for txt_file in glob.glob(path):\n",
    "        \n",
    "        lbl=txt_file.split('/')[-1].split('\\\\')[-1].split('_')[0]\n",
    "        #print(lbl)\n",
    "        text=open(txt_file,'r', encoding=\"utf8\").read().replace('\\n','')\n",
    "\n",
    "        texts.append(text)\n",
    "        labels.append(lbl)\n",
    "    data['text']=texts\n",
    "    data['label']=labels\n",
    "    return data"
   ]
  },
  {
   "cell_type": "code",
   "execution_count": 4,
   "metadata": {},
   "outputs": [
    {
     "data": {
      "text/html": [
       "<div>\n",
       "<style scoped>\n",
       "    .dataframe tbody tr th:only-of-type {\n",
       "        vertical-align: middle;\n",
       "    }\n",
       "\n",
       "    .dataframe tbody tr th {\n",
       "        vertical-align: top;\n",
       "    }\n",
       "\n",
       "    .dataframe thead th {\n",
       "        text-align: right;\n",
       "    }\n",
       "</style>\n",
       "<table border=\"1\" class=\"dataframe\">\n",
       "  <thead>\n",
       "    <tr style=\"text-align: right;\">\n",
       "      <th></th>\n",
       "      <th>text</th>\n",
       "      <th>label</th>\n",
       "    </tr>\n",
       "  </thead>\n",
       "  <tbody>\n",
       "    <tr>\n",
       "      <th>0</th>\n",
       "      <td>Truyện cổ tích : Người thợ săn và mụ chằngNgày...</td>\n",
       "      <td>easy</td>\n",
       "    </tr>\n",
       "    <tr>\n",
       "      <th>1</th>\n",
       "      <td>Hộp thư mậtHai Long phóng xe về phía Phú Lâm t...</td>\n",
       "      <td>veryeasy</td>\n",
       "    </tr>\n",
       "    <tr>\n",
       "      <th>2</th>\n",
       "      <td>Xu hướng vận động của điểm nhìn trần thuật tro...</td>\n",
       "      <td>difficult</td>\n",
       "    </tr>\n",
       "    <tr>\n",
       "      <th>3</th>\n",
       "      <td>Mua kínhAnh nọ dốt đặc cán mai , thấy các ông ...</td>\n",
       "      <td>veryeasy</td>\n",
       "    </tr>\n",
       "    <tr>\n",
       "      <th>4</th>\n",
       "      <td>Thư thăm bạnHòa Bình , ngày 5 tháng 8 năm 2000...</td>\n",
       "      <td>veryeasy</td>\n",
       "    </tr>\n",
       "    <tr>\n",
       "      <th>...</th>\n",
       "      <td>...</td>\n",
       "      <td>...</td>\n",
       "    </tr>\n",
       "    <tr>\n",
       "      <th>1820</th>\n",
       "      <td>Về nội dung và cấu trúc của khái niệm văn học ...</td>\n",
       "      <td>difficult</td>\n",
       "    </tr>\n",
       "    <tr>\n",
       "      <th>1821</th>\n",
       "      <td>Về ký hiệu quyểnCác hệ thống rạch ròi và đơn n...</td>\n",
       "      <td>difficult</td>\n",
       "    </tr>\n",
       "    <tr>\n",
       "      <th>1822</th>\n",
       "      <td>Tiểu thuyết Đọa đầy của nhà văn Vi Hồng - Một ...</td>\n",
       "      <td>difficult</td>\n",
       "    </tr>\n",
       "    <tr>\n",
       "      <th>1823</th>\n",
       "      <td>Đám tang lão Gô-ri-ôKhi cỗ xe đòn đến , Ơ-gien...</td>\n",
       "      <td>medium</td>\n",
       "    </tr>\n",
       "    <tr>\n",
       "      <th>1824</th>\n",
       "      <td>Trò đùa của nhền nhệnMột con Khỉ được mời tới ...</td>\n",
       "      <td>veryeasy</td>\n",
       "    </tr>\n",
       "  </tbody>\n",
       "</table>\n",
       "<p>1825 rows × 2 columns</p>\n",
       "</div>"
      ],
      "text/plain": [
       "                                                   text      label\n",
       "0     Truyện cổ tích : Người thợ săn và mụ chằngNgày...       easy\n",
       "1     Hộp thư mậtHai Long phóng xe về phía Phú Lâm t...   veryeasy\n",
       "2     Xu hướng vận động của điểm nhìn trần thuật tro...  difficult\n",
       "3     Mua kínhAnh nọ dốt đặc cán mai , thấy các ông ...   veryeasy\n",
       "4     Thư thăm bạnHòa Bình , ngày 5 tháng 8 năm 2000...   veryeasy\n",
       "...                                                 ...        ...\n",
       "1820  Về nội dung và cấu trúc của khái niệm văn học ...  difficult\n",
       "1821  Về ký hiệu quyểnCác hệ thống rạch ròi và đơn n...  difficult\n",
       "1822  Tiểu thuyết Đọa đầy của nhà văn Vi Hồng - Một ...  difficult\n",
       "1823  Đám tang lão Gô-ri-ôKhi cỗ xe đòn đến , Ơ-gien...     medium\n",
       "1824  Trò đùa của nhền nhệnMột con Khỉ được mời tới ...   veryeasy\n",
       "\n",
       "[1825 rows x 2 columns]"
      ]
     },
     "execution_count": 4,
     "metadata": {},
     "output_type": "execute_result"
    }
   ],
   "source": [
    "df=read_text_files(path)\n",
    "df"
   ]
  },
  {
   "cell_type": "code",
   "execution_count": 5,
   "metadata": {
    "colab": {
     "base_uri": "https://localhost:8080/"
    },
    "executionInfo": {
     "elapsed": 17,
     "status": "ok",
     "timestamp": 1625212817197,
     "user": {
      "displayName": "Trong-Hung Huynh",
      "photoUrl": "",
      "userId": "05059296324934067674"
     },
     "user_tz": -420
    },
    "id": "0DQHupBQb_DF",
    "outputId": "6bac5f0e-b2b3-4a2a-9b08-6df8dd85d6b0"
   },
   "outputs": [
    {
     "data": {
      "text/plain": [
       "(1825, 2)"
      ]
     },
     "execution_count": 5,
     "metadata": {},
     "output_type": "execute_result"
    }
   ],
   "source": [
    "df.shape"
   ]
  },
  {
   "cell_type": "code",
   "execution_count": 6,
   "metadata": {},
   "outputs": [
    {
     "data": {
      "text/plain": [
       "veryeasy     809\n",
       "easy         453\n",
       "difficult    321\n",
       "medium       242\n",
       "Name: label, dtype: int64"
      ]
     },
     "execution_count": 6,
     "metadata": {},
     "output_type": "execute_result"
    }
   ],
   "source": [
    "df['label'].value_counts()"
   ]
  },
  {
   "cell_type": "code",
   "execution_count": null,
   "metadata": {},
   "outputs": [],
   "source": [
    "df['text'] = df['text'].apply(\n",
    "    lambda x: \" \".join(x.lower() for x in x.split()))  # lower case conversion\n",
    "df['text'] = df['text'].str.replace('[^\\w\\s]', '')  # getting rid of special characters\n",
    "df['text'] = df['text'].str.replace('\\d+',\n",
    "                                                        '')  # removing numeric values from between the words\n",
    "df['text'] = df['text'].apply(\n",
    "    lambda x: x.translate(string.digits))  # removing numerical numbers\n",
    "stop = stopwords.words('english')\n",
    "df['text'] = df['text'].apply(\n",
    "    lambda x: \" \".join(x for x in x.split() if x not in stop))  # removing stop words"
   ]
  },
  {
   "cell_type": "code",
   "execution_count": 7,
   "metadata": {},
   "outputs": [
    {
     "data": {
      "text/html": [
       "<div>\n",
       "<style scoped>\n",
       "    .dataframe tbody tr th:only-of-type {\n",
       "        vertical-align: middle;\n",
       "    }\n",
       "\n",
       "    .dataframe tbody tr th {\n",
       "        vertical-align: top;\n",
       "    }\n",
       "\n",
       "    .dataframe thead th {\n",
       "        text-align: right;\n",
       "    }\n",
       "</style>\n",
       "<table border=\"1\" class=\"dataframe\">\n",
       "  <thead>\n",
       "    <tr style=\"text-align: right;\">\n",
       "      <th></th>\n",
       "      <th>text</th>\n",
       "      <th>label</th>\n",
       "    </tr>\n",
       "  </thead>\n",
       "  <tbody>\n",
       "    <tr>\n",
       "      <th>0</th>\n",
       "      <td>Truyện cổ tích : Người thợ săn và mụ chằngNgày...</td>\n",
       "      <td>1</td>\n",
       "    </tr>\n",
       "    <tr>\n",
       "      <th>1</th>\n",
       "      <td>Hộp thư mậtHai Long phóng xe về phía Phú Lâm t...</td>\n",
       "      <td>3</td>\n",
       "    </tr>\n",
       "    <tr>\n",
       "      <th>2</th>\n",
       "      <td>Xu hướng vận động của điểm nhìn trần thuật tro...</td>\n",
       "      <td>0</td>\n",
       "    </tr>\n",
       "    <tr>\n",
       "      <th>3</th>\n",
       "      <td>Mua kínhAnh nọ dốt đặc cán mai , thấy các ông ...</td>\n",
       "      <td>3</td>\n",
       "    </tr>\n",
       "    <tr>\n",
       "      <th>4</th>\n",
       "      <td>Thư thăm bạnHòa Bình , ngày 5 tháng 8 năm 2000...</td>\n",
       "      <td>3</td>\n",
       "    </tr>\n",
       "    <tr>\n",
       "      <th>...</th>\n",
       "      <td>...</td>\n",
       "      <td>...</td>\n",
       "    </tr>\n",
       "    <tr>\n",
       "      <th>1820</th>\n",
       "      <td>Về nội dung và cấu trúc của khái niệm văn học ...</td>\n",
       "      <td>0</td>\n",
       "    </tr>\n",
       "    <tr>\n",
       "      <th>1821</th>\n",
       "      <td>Về ký hiệu quyểnCác hệ thống rạch ròi và đơn n...</td>\n",
       "      <td>0</td>\n",
       "    </tr>\n",
       "    <tr>\n",
       "      <th>1822</th>\n",
       "      <td>Tiểu thuyết Đọa đầy của nhà văn Vi Hồng - Một ...</td>\n",
       "      <td>0</td>\n",
       "    </tr>\n",
       "    <tr>\n",
       "      <th>1823</th>\n",
       "      <td>Đám tang lão Gô-ri-ôKhi cỗ xe đòn đến , Ơ-gien...</td>\n",
       "      <td>2</td>\n",
       "    </tr>\n",
       "    <tr>\n",
       "      <th>1824</th>\n",
       "      <td>Trò đùa của nhền nhệnMột con Khỉ được mời tới ...</td>\n",
       "      <td>3</td>\n",
       "    </tr>\n",
       "  </tbody>\n",
       "</table>\n",
       "<p>1825 rows × 2 columns</p>\n",
       "</div>"
      ],
      "text/plain": [
       "                                                   text  label\n",
       "0     Truyện cổ tích : Người thợ săn và mụ chằngNgày...      1\n",
       "1     Hộp thư mậtHai Long phóng xe về phía Phú Lâm t...      3\n",
       "2     Xu hướng vận động của điểm nhìn trần thuật tro...      0\n",
       "3     Mua kínhAnh nọ dốt đặc cán mai , thấy các ông ...      3\n",
       "4     Thư thăm bạnHòa Bình , ngày 5 tháng 8 năm 2000...      3\n",
       "...                                                 ...    ...\n",
       "1820  Về nội dung và cấu trúc của khái niệm văn học ...      0\n",
       "1821  Về ký hiệu quyểnCác hệ thống rạch ròi và đơn n...      0\n",
       "1822  Tiểu thuyết Đọa đầy của nhà văn Vi Hồng - Một ...      0\n",
       "1823  Đám tang lão Gô-ri-ôKhi cỗ xe đòn đến , Ơ-gien...      2\n",
       "1824  Trò đùa của nhền nhệnMột con Khỉ được mời tới ...      3\n",
       "\n",
       "[1825 rows x 2 columns]"
      ]
     },
     "execution_count": 7,
     "metadata": {},
     "output_type": "execute_result"
    }
   ],
   "source": [
    "from sklearn.preprocessing import LabelEncoder\n",
    "le = LabelEncoder()\n",
    "df['label'] = le.fit_transform(df['label'])\n",
    "df"
   ]
  },
  {
   "cell_type": "code",
   "execution_count": 13,
   "metadata": {},
   "outputs": [
    {
     "data": {
      "text/plain": [
       "array(['difficult', 'easy', 'medium', 'veryeasy'], dtype=object)"
      ]
     },
     "execution_count": 13,
     "metadata": {},
     "output_type": "execute_result"
    }
   ],
   "source": [
    "le.classes_"
   ]
  },
  {
   "cell_type": "code",
   "execution_count": 8,
   "metadata": {
    "executionInfo": {
     "elapsed": 448,
     "status": "ok",
     "timestamp": 1625212817630,
     "user": {
      "displayName": "Trong-Hung Huynh",
      "photoUrl": "",
      "userId": "05059296324934067674"
     },
     "user_tz": -420
    },
    "id": "zZ33gN9leVUx"
   },
   "outputs": [],
   "source": [
    "word = []\n",
    "punctuation = set({'.', '?', '!', ';', ':'})\n",
    "for text in df.text.values:\n",
    "    word.append([])\n",
    "    sent = []\n",
    "    text = text.split('\\n')\n",
    "    for t in text:\n",
    "        if t != \"\" and t != '\\n':\n",
    "            t = t.split()\n",
    "            if t[-1] not in punctuation:\n",
    "                t.append('.')\n",
    "            word[-1].extend(t)\n",
    "df['word'] = word"
   ]
  },
  {
   "cell_type": "code",
   "execution_count": 9,
   "metadata": {},
   "outputs": [
    {
     "data": {
      "text/html": [
       "<div>\n",
       "<style scoped>\n",
       "    .dataframe tbody tr th:only-of-type {\n",
       "        vertical-align: middle;\n",
       "    }\n",
       "\n",
       "    .dataframe tbody tr th {\n",
       "        vertical-align: top;\n",
       "    }\n",
       "\n",
       "    .dataframe thead th {\n",
       "        text-align: right;\n",
       "    }\n",
       "</style>\n",
       "<table border=\"1\" class=\"dataframe\">\n",
       "  <thead>\n",
       "    <tr style=\"text-align: right;\">\n",
       "      <th></th>\n",
       "      <th>text</th>\n",
       "      <th>label</th>\n",
       "      <th>word</th>\n",
       "    </tr>\n",
       "  </thead>\n",
       "  <tbody>\n",
       "    <tr>\n",
       "      <th>0</th>\n",
       "      <td>Truyện cổ tích : Người thợ săn và mụ chằngNgày...</td>\n",
       "      <td>1</td>\n",
       "      <td>[Truyện, cổ, tích, :, Người, thợ, săn, và, mụ,...</td>\n",
       "    </tr>\n",
       "    <tr>\n",
       "      <th>1</th>\n",
       "      <td>Hộp thư mậtHai Long phóng xe về phía Phú Lâm t...</td>\n",
       "      <td>3</td>\n",
       "      <td>[Hộp, thư, mậtHai, Long, phóng, xe, về, phía, ...</td>\n",
       "    </tr>\n",
       "    <tr>\n",
       "      <th>2</th>\n",
       "      <td>Xu hướng vận động của điểm nhìn trần thuật tro...</td>\n",
       "      <td>0</td>\n",
       "      <td>[Xu, hướng, vận, động, của, điểm, nhìn, trần, ...</td>\n",
       "    </tr>\n",
       "    <tr>\n",
       "      <th>3</th>\n",
       "      <td>Mua kínhAnh nọ dốt đặc cán mai , thấy các ông ...</td>\n",
       "      <td>3</td>\n",
       "      <td>[Mua, kínhAnh, nọ, dốt, đặc, cán, mai, ,, thấy...</td>\n",
       "    </tr>\n",
       "    <tr>\n",
       "      <th>4</th>\n",
       "      <td>Thư thăm bạnHòa Bình , ngày 5 tháng 8 năm 2000...</td>\n",
       "      <td>3</td>\n",
       "      <td>[Thư, thăm, bạnHòa, Bình, ,, ngày, 5, tháng, 8...</td>\n",
       "    </tr>\n",
       "    <tr>\n",
       "      <th>...</th>\n",
       "      <td>...</td>\n",
       "      <td>...</td>\n",
       "      <td>...</td>\n",
       "    </tr>\n",
       "    <tr>\n",
       "      <th>1820</th>\n",
       "      <td>Về nội dung và cấu trúc của khái niệm văn học ...</td>\n",
       "      <td>0</td>\n",
       "      <td>[Về, nội, dung, và, cấu, trúc, của, khái, niệm...</td>\n",
       "    </tr>\n",
       "    <tr>\n",
       "      <th>1821</th>\n",
       "      <td>Về ký hiệu quyểnCác hệ thống rạch ròi và đơn n...</td>\n",
       "      <td>0</td>\n",
       "      <td>[Về, ký, hiệu, quyểnCác, hệ, thống, rạch, ròi,...</td>\n",
       "    </tr>\n",
       "    <tr>\n",
       "      <th>1822</th>\n",
       "      <td>Tiểu thuyết Đọa đầy của nhà văn Vi Hồng - Một ...</td>\n",
       "      <td>0</td>\n",
       "      <td>[Tiểu, thuyết, Đọa, đầy, của, nhà, văn, Vi, Hồ...</td>\n",
       "    </tr>\n",
       "    <tr>\n",
       "      <th>1823</th>\n",
       "      <td>Đám tang lão Gô-ri-ôKhi cỗ xe đòn đến , Ơ-gien...</td>\n",
       "      <td>2</td>\n",
       "      <td>[Đám, tang, lão, Gô-ri-ôKhi, cỗ, xe, đòn, đến,...</td>\n",
       "    </tr>\n",
       "    <tr>\n",
       "      <th>1824</th>\n",
       "      <td>Trò đùa của nhền nhệnMột con Khỉ được mời tới ...</td>\n",
       "      <td>3</td>\n",
       "      <td>[Trò, đùa, của, nhền, nhệnMột, con, Khỉ, được,...</td>\n",
       "    </tr>\n",
       "  </tbody>\n",
       "</table>\n",
       "<p>1825 rows × 3 columns</p>\n",
       "</div>"
      ],
      "text/plain": [
       "                                                   text  label  \\\n",
       "0     Truyện cổ tích : Người thợ săn và mụ chằngNgày...      1   \n",
       "1     Hộp thư mậtHai Long phóng xe về phía Phú Lâm t...      3   \n",
       "2     Xu hướng vận động của điểm nhìn trần thuật tro...      0   \n",
       "3     Mua kínhAnh nọ dốt đặc cán mai , thấy các ông ...      3   \n",
       "4     Thư thăm bạnHòa Bình , ngày 5 tháng 8 năm 2000...      3   \n",
       "...                                                 ...    ...   \n",
       "1820  Về nội dung và cấu trúc của khái niệm văn học ...      0   \n",
       "1821  Về ký hiệu quyểnCác hệ thống rạch ròi và đơn n...      0   \n",
       "1822  Tiểu thuyết Đọa đầy của nhà văn Vi Hồng - Một ...      0   \n",
       "1823  Đám tang lão Gô-ri-ôKhi cỗ xe đòn đến , Ơ-gien...      2   \n",
       "1824  Trò đùa của nhền nhệnMột con Khỉ được mời tới ...      3   \n",
       "\n",
       "                                                   word  \n",
       "0     [Truyện, cổ, tích, :, Người, thợ, săn, và, mụ,...  \n",
       "1     [Hộp, thư, mậtHai, Long, phóng, xe, về, phía, ...  \n",
       "2     [Xu, hướng, vận, động, của, điểm, nhìn, trần, ...  \n",
       "3     [Mua, kínhAnh, nọ, dốt, đặc, cán, mai, ,, thấy...  \n",
       "4     [Thư, thăm, bạnHòa, Bình, ,, ngày, 5, tháng, 8...  \n",
       "...                                                 ...  \n",
       "1820  [Về, nội, dung, và, cấu, trúc, của, khái, niệm...  \n",
       "1821  [Về, ký, hiệu, quyểnCác, hệ, thống, rạch, ròi,...  \n",
       "1822  [Tiểu, thuyết, Đọa, đầy, của, nhà, văn, Vi, Hồ...  \n",
       "1823  [Đám, tang, lão, Gô-ri-ôKhi, cỗ, xe, đòn, đến,...  \n",
       "1824  [Trò, đùa, của, nhền, nhệnMột, con, Khỉ, được,...  \n",
       "\n",
       "[1825 rows x 3 columns]"
      ]
     },
     "execution_count": 9,
     "metadata": {},
     "output_type": "execute_result"
    }
   ],
   "source": [
    "df"
   ]
  },
  {
   "cell_type": "code",
   "execution_count": 10,
   "metadata": {
    "executionInfo": {
     "elapsed": 10,
     "status": "ok",
     "timestamp": 1625212817630,
     "user": {
      "displayName": "Trong-Hung Huynh",
      "photoUrl": "",
      "userId": "05059296324934067674"
     },
     "user_tz": -420
    },
    "id": "EokX3oTOfMN_"
   },
   "outputs": [],
   "source": [
    "punctuation_str = u\". , ; : ? !\"\n",
    "special_characters_str = u\"~ ` @ # $ % ^ & * ( ) - _ + = { } [ ] \\\\ | \\\" \\' < > / ‘ ’  “ ” … ° ″ ‰ ‱ ¶ § ‖ © ℗ ® ℠ ™\"\n",
    "indexing_characters_str = u\"I. II. III. IV. V. VI. VII. VIII. IX. X. XI. XII. 1. 2. 3. 4. 5. 6. 7. 8. 9. \\\n",
    "                            10. 11. 12. a) b) c) d) e) f) g) h) i) j) k) l) m) n) o) p) q) r) s) t) u) v w) x) y) z)\""
   ]
  },
  {
   "cell_type": "code",
   "execution_count": 11,
   "metadata": {
    "executionInfo": {
     "elapsed": 10,
     "status": "ok",
     "timestamp": 1625212817631,
     "user": {
      "displayName": "Trong-Hung Huynh",
      "photoUrl": "",
      "userId": "05059296324934067674"
     },
     "user_tz": -420
    },
    "id": "CqbwBFCefVWN"
   },
   "outputs": [],
   "source": [
    "punctuation_set = set(punctuation_str.split())\n",
    "special_character_set = set(special_characters_str.split())\n",
    "indexing_character_set = set(indexing_characters_str.split())"
   ]
  },
  {
   "cell_type": "code",
   "execution_count": 12,
   "metadata": {
    "executionInfo": {
     "elapsed": 10,
     "status": "ok",
     "timestamp": 1625212817631,
     "user": {
      "displayName": "Trong-Hung Huynh",
      "photoUrl": "",
      "userId": "05059296324934067674"
     },
     "user_tz": -420
    },
    "id": "481yMCMJfYf8"
   },
   "outputs": [
    {
     "name": "stdout",
     "output_type": "stream",
     "text": [
      "(3000,)\n"
     ]
    }
   ],
   "source": [
    "# 3000 words\n",
    "most_used_words=[]\n",
    "#most_used_words = set()\n",
    "with open('dataset/tan_suat_tu.txt','r',encoding='utf-8') as f:\n",
    "     for line in f.readlines():\n",
    "            most_used_words.append(line.split('\\t')[0])\n",
    "print(np.shape(most_used_words))"
   ]
  },
  {
   "cell_type": "code",
   "execution_count": 13,
   "metadata": {},
   "outputs": [
    {
     "name": "stdout",
     "output_type": "stream",
     "text": [
      "(3000,)\n"
     ]
    }
   ],
   "source": [
    "# 3000 syllables\n",
    "most_used_syls = []\n",
    "#most_used_syls = set()\n",
    "with open('dataset/tan_suat_tieng.txt',encoding=\"utf-8\") as f:\n",
    "    for line in f.readlines():\n",
    "        most_used_syls.append(line.split('\\t')[0])\n",
    "        #most_used_syls.add(line.split('\\t')[0])\n",
    "        if len(most_used_syls)==3000:\n",
    "            break\n",
    "print(np.shape(most_used_syls))\n"
   ]
  },
  {
   "cell_type": "code",
   "execution_count": 14,
   "metadata": {},
   "outputs": [
    {
     "name": "stdout",
     "output_type": "stream",
     "text": [
      "(3000,) (3000,)\n"
     ]
    }
   ],
   "source": [
    "print(np.shape(most_used_words),np.shape(most_used_syls))"
   ]
  },
  {
   "cell_type": "code",
   "execution_count": 15,
   "metadata": {
    "executionInfo": {
     "elapsed": 7,
     "status": "ok",
     "timestamp": 1625212817632,
     "user": {
      "displayName": "Trong-Hung Huynh",
      "photoUrl": "",
      "userId": "05059296324934067674"
     },
     "user_tz": -420
    },
    "id": "VCQJPRa-fbWQ"
   },
   "outputs": [
    {
     "name": "stdout",
     "output_type": "stream",
     "text": [
      "(3000,)\n"
     ]
    }
   ],
   "source": [
    "#sino_words = set()\n",
    "sino_words=[]\n",
    "with open('dataset/ds_han_viet.txt','r',encoding=\"utf-8\") as f:\n",
    "    for line in f.readlines():\n",
    "        sino_words.append(line.strip())\n",
    "        if len(sino_words)==3000:\n",
    "            break\n",
    "        #sino_words.add(line.strip())\n",
    "print(np.shape(sino_words))"
   ]
  },
  {
   "cell_type": "code",
   "execution_count": 16,
   "metadata": {
    "executionInfo": {
     "elapsed": 7,
     "status": "ok",
     "timestamp": 1625212817633,
     "user": {
      "displayName": "Trong-Hung Huynh",
      "photoUrl": "",
      "userId": "05059296324934067674"
     },
     "user_tz": -420
    },
    "id": "FAbvqkEAlJbO"
   },
   "outputs": [],
   "source": [
    "text = list(df.text.values)"
   ]
  },
  {
   "cell_type": "code",
   "execution_count": 17,
   "metadata": {},
   "outputs": [
    {
     "data": {
      "text/html": [
       "<div>\n",
       "<style scoped>\n",
       "    .dataframe tbody tr th:only-of-type {\n",
       "        vertical-align: middle;\n",
       "    }\n",
       "\n",
       "    .dataframe tbody tr th {\n",
       "        vertical-align: top;\n",
       "    }\n",
       "\n",
       "    .dataframe thead th {\n",
       "        text-align: right;\n",
       "    }\n",
       "</style>\n",
       "<table border=\"1\" class=\"dataframe\">\n",
       "  <thead>\n",
       "    <tr style=\"text-align: right;\">\n",
       "      <th></th>\n",
       "      <th>text</th>\n",
       "      <th>label</th>\n",
       "      <th>word</th>\n",
       "    </tr>\n",
       "  </thead>\n",
       "  <tbody>\n",
       "    <tr>\n",
       "      <th>0</th>\n",
       "      <td>Truyện cổ tích : Người thợ săn và mụ chằngNgày...</td>\n",
       "      <td>1</td>\n",
       "      <td>[Truyện, cổ, tích, :, Người, thợ, săn, và, mụ,...</td>\n",
       "    </tr>\n",
       "    <tr>\n",
       "      <th>1</th>\n",
       "      <td>Hộp thư mậtHai Long phóng xe về phía Phú Lâm t...</td>\n",
       "      <td>3</td>\n",
       "      <td>[Hộp, thư, mậtHai, Long, phóng, xe, về, phía, ...</td>\n",
       "    </tr>\n",
       "    <tr>\n",
       "      <th>2</th>\n",
       "      <td>Xu hướng vận động của điểm nhìn trần thuật tro...</td>\n",
       "      <td>0</td>\n",
       "      <td>[Xu, hướng, vận, động, của, điểm, nhìn, trần, ...</td>\n",
       "    </tr>\n",
       "    <tr>\n",
       "      <th>3</th>\n",
       "      <td>Mua kínhAnh nọ dốt đặc cán mai , thấy các ông ...</td>\n",
       "      <td>3</td>\n",
       "      <td>[Mua, kínhAnh, nọ, dốt, đặc, cán, mai, ,, thấy...</td>\n",
       "    </tr>\n",
       "    <tr>\n",
       "      <th>4</th>\n",
       "      <td>Thư thăm bạnHòa Bình , ngày 5 tháng 8 năm 2000...</td>\n",
       "      <td>3</td>\n",
       "      <td>[Thư, thăm, bạnHòa, Bình, ,, ngày, 5, tháng, 8...</td>\n",
       "    </tr>\n",
       "    <tr>\n",
       "      <th>...</th>\n",
       "      <td>...</td>\n",
       "      <td>...</td>\n",
       "      <td>...</td>\n",
       "    </tr>\n",
       "    <tr>\n",
       "      <th>1820</th>\n",
       "      <td>Về nội dung và cấu trúc của khái niệm văn học ...</td>\n",
       "      <td>0</td>\n",
       "      <td>[Về, nội, dung, và, cấu, trúc, của, khái, niệm...</td>\n",
       "    </tr>\n",
       "    <tr>\n",
       "      <th>1821</th>\n",
       "      <td>Về ký hiệu quyểnCác hệ thống rạch ròi và đơn n...</td>\n",
       "      <td>0</td>\n",
       "      <td>[Về, ký, hiệu, quyểnCác, hệ, thống, rạch, ròi,...</td>\n",
       "    </tr>\n",
       "    <tr>\n",
       "      <th>1822</th>\n",
       "      <td>Tiểu thuyết Đọa đầy của nhà văn Vi Hồng - Một ...</td>\n",
       "      <td>0</td>\n",
       "      <td>[Tiểu, thuyết, Đọa, đầy, của, nhà, văn, Vi, Hồ...</td>\n",
       "    </tr>\n",
       "    <tr>\n",
       "      <th>1823</th>\n",
       "      <td>Đám tang lão Gô-ri-ôKhi cỗ xe đòn đến , Ơ-gien...</td>\n",
       "      <td>2</td>\n",
       "      <td>[Đám, tang, lão, Gô-ri-ôKhi, cỗ, xe, đòn, đến,...</td>\n",
       "    </tr>\n",
       "    <tr>\n",
       "      <th>1824</th>\n",
       "      <td>Trò đùa của nhền nhệnMột con Khỉ được mời tới ...</td>\n",
       "      <td>3</td>\n",
       "      <td>[Trò, đùa, của, nhền, nhệnMột, con, Khỉ, được,...</td>\n",
       "    </tr>\n",
       "  </tbody>\n",
       "</table>\n",
       "<p>1825 rows × 3 columns</p>\n",
       "</div>"
      ],
      "text/plain": [
       "                                                   text  label  \\\n",
       "0     Truyện cổ tích : Người thợ săn và mụ chằngNgày...      1   \n",
       "1     Hộp thư mậtHai Long phóng xe về phía Phú Lâm t...      3   \n",
       "2     Xu hướng vận động của điểm nhìn trần thuật tro...      0   \n",
       "3     Mua kínhAnh nọ dốt đặc cán mai , thấy các ông ...      3   \n",
       "4     Thư thăm bạnHòa Bình , ngày 5 tháng 8 năm 2000...      3   \n",
       "...                                                 ...    ...   \n",
       "1820  Về nội dung và cấu trúc của khái niệm văn học ...      0   \n",
       "1821  Về ký hiệu quyểnCác hệ thống rạch ròi và đơn n...      0   \n",
       "1822  Tiểu thuyết Đọa đầy của nhà văn Vi Hồng - Một ...      0   \n",
       "1823  Đám tang lão Gô-ri-ôKhi cỗ xe đòn đến , Ơ-gien...      2   \n",
       "1824  Trò đùa của nhền nhệnMột con Khỉ được mời tới ...      3   \n",
       "\n",
       "                                                   word  \n",
       "0     [Truyện, cổ, tích, :, Người, thợ, săn, và, mụ,...  \n",
       "1     [Hộp, thư, mậtHai, Long, phóng, xe, về, phía, ...  \n",
       "2     [Xu, hướng, vận, động, của, điểm, nhìn, trần, ...  \n",
       "3     [Mua, kínhAnh, nọ, dốt, đặc, cán, mai, ,, thấy...  \n",
       "4     [Thư, thăm, bạnHòa, Bình, ,, ngày, 5, tháng, 8...  \n",
       "...                                                 ...  \n",
       "1820  [Về, nội, dung, và, cấu, trúc, của, khái, niệm...  \n",
       "1821  [Về, ký, hiệu, quyểnCác, hệ, thống, rạch, ròi,...  \n",
       "1822  [Tiểu, thuyết, Đọa, đầy, của, nhà, văn, Vi, Hồ...  \n",
       "1823  [Đám, tang, lão, Gô-ri-ôKhi, cỗ, xe, đòn, đến,...  \n",
       "1824  [Trò, đùa, của, nhền, nhệnMột, con, Khỉ, được,...  \n",
       "\n",
       "[1825 rows x 3 columns]"
      ]
     },
     "execution_count": 17,
     "metadata": {},
     "output_type": "execute_result"
    }
   ],
   "source": [
    "df"
   ]
  },
  {
   "cell_type": "code",
   "execution_count": 18,
   "metadata": {
    "executionInfo": {
     "elapsed": 2464,
     "status": "ok",
     "timestamp": 1625212820089,
     "user": {
      "displayName": "Trong-Hung Huynh",
      "photoUrl": "",
      "userId": "05059296324934067674"
     },
     "user_tz": -420
    },
    "id": "bl_xZpzdlbC2"
   },
   "outputs": [
    {
     "name": "stdout",
     "output_type": "stream",
     "text": [
      "(1825,)\n"
     ]
    }
   ],
   "source": [
    "#dONE\n",
    "words_list = []\n",
    "for words in df.word.astype(object):\n",
    "    words_list.append([])\n",
    "    for word in words:\n",
    "        w = word.lower()\n",
    "        if not w.isdigit() and w not in punctuation_set and w not in special_character_set and w not in indexing_character_set:\n",
    "              words_list[-1].append(w)\n",
    "print(np.shape(words_list))"
   ]
  },
  {
   "cell_type": "code",
   "execution_count": 19,
   "metadata": {},
   "outputs": [
    {
     "name": "stdout",
     "output_type": "stream",
     "text": [
      "(1825,)\n"
     ]
    }
   ],
   "source": [
    "#DONE\n",
    "syls_list=[]\n",
    "for words in words_list:\n",
    "    syls = []\n",
    "    for word in words:\n",
    "        for syl in word.split('_'):\n",
    "            syls.append(syl)\n",
    "    syls_list.append(syls)\n",
    "        \n",
    "print(np.shape(syls_list))\n",
    "    "
   ]
  },
  {
   "cell_type": "code",
   "execution_count": 20,
   "metadata": {},
   "outputs": [
    {
     "name": "stdout",
     "output_type": "stream",
     "text": [
      "[[2 1 4]\n",
      " [5 1 2]]\n"
     ]
    }
   ],
   "source": [
    "import numpy as np\n",
    "\n",
    "#define matrices\n",
    "C = np.array([7, 5, 6, 3]).reshape(2, 2)\n",
    "D = np.array([2, 1, 4, 5, 1, 2]).reshape(2, 3)\n",
    "\n",
    "#perform matrix multiplication\n",
    "#C.dot(D)\n",
    "print(D)\n"
   ]
  },
  {
   "cell_type": "code",
   "execution_count": 21,
   "metadata": {
    "colab": {
     "base_uri": "https://localhost:8080/"
    },
    "executionInfo": {
     "elapsed": 23,
     "status": "ok",
     "timestamp": 1625212821226,
     "user": {
      "displayName": "Trong-Hung Huynh",
      "photoUrl": "",
      "userId": "05059296324934067674"
     },
     "user_tz": -420
    },
    "id": "wuLmztPOluuM",
    "outputId": "6d0f2cea-9c6b-4bd8-f9fe-2156dfdc543b"
   },
   "outputs": [
    {
     "data": {
      "text/plain": [
       "array([1, 1, 1, 1, 1])"
      ]
     },
     "execution_count": 21,
     "metadata": {},
     "output_type": "execute_result"
    }
   ],
   "source": [
    "# Number of Sentences\n",
    "NSen = np.array([len(t.split('\\n')) for t in text], dtype=int)\n",
    "NSen[:5]"
   ]
  },
  {
   "cell_type": "code",
   "execution_count": 22,
   "metadata": {
    "colab": {
     "base_uri": "https://localhost:8080/"
    },
    "executionInfo": {
     "elapsed": 20,
     "status": "ok",
     "timestamp": 1625212821228,
     "user": {
      "displayName": "Trong-Hung Huynh",
      "photoUrl": "",
      "userId": "05059296324934067674"
     },
     "user_tz": -420
    },
    "id": "JwyNFJCimNKY",
    "outputId": "c9e88de4-f5f4-4b37-be2a-a6209a001fe8"
   },
   "outputs": [
    {
     "data": {
      "text/plain": [
       "array([1150,  272, 4858,  173,  216])"
      ]
     },
     "execution_count": 22,
     "metadata": {},
     "output_type": "execute_result"
    }
   ],
   "source": [
    "# Number of Words\n",
    "NWo = np.array([len(words) for words in words_list], dtype=int)\n",
    "NWo[:5]"
   ]
  },
  {
   "cell_type": "code",
   "execution_count": 23,
   "metadata": {
    "colab": {
     "base_uri": "https://localhost:8080/"
    },
    "executionInfo": {
     "elapsed": 17,
     "status": "ok",
     "timestamp": 1625212821229,
     "user": {
      "displayName": "Trong-Hung Huynh",
      "photoUrl": "",
      "userId": "05059296324934067674"
     },
     "user_tz": -420
    },
    "id": "bUqoi4SxmUeF",
    "outputId": "a22e8b9e-454e-4bd5-a6ca-07f3a991a831"
   },
   "outputs": [
    {
     "data": {
      "text/plain": [
       "array([1150,  272, 4858,  173,  216])"
      ]
     },
     "execution_count": 23,
     "metadata": {},
     "output_type": "execute_result"
    }
   ],
   "source": [
    "# Number of Syllables\n",
    "NSyl = np.array([len(syls) for syls in syls_list], dtype=int)\n",
    "NSyl[:5]"
   ]
  },
  {
   "cell_type": "code",
   "execution_count": 24,
   "metadata": {
    "colab": {
     "base_uri": "https://localhost:8080/"
    },
    "executionInfo": {
     "elapsed": 521,
     "status": "ok",
     "timestamp": 1625212821737,
     "user": {
      "displayName": "Trong-Hung Huynh",
      "photoUrl": "",
      "userId": "05059296324934067674"
     },
     "user_tz": -420
    },
    "id": "S8bnn1Iumik9",
    "outputId": "649c170a-1acf-4958-f8ff-3fa9f87efa27"
   },
   "outputs": [
    {
     "data": {
      "text/plain": [
       "array([ 3762,   915, 17055,   558,   755])"
      ]
     },
     "execution_count": 24,
     "metadata": {},
     "output_type": "execute_result"
    }
   ],
   "source": [
    "# Number of Characters\n",
    "NCha = np.array([sum([len(syl) for syl in syls]) for syls in syls_list], dtype=int)\n",
    "NCha[:5]"
   ]
  },
  {
   "cell_type": "code",
   "execution_count": 25,
   "metadata": {
    "colab": {
     "base_uri": "https://localhost:8080/"
    },
    "executionInfo": {
     "elapsed": 31,
     "status": "ok",
     "timestamp": 1625212821740,
     "user": {
      "displayName": "Trong-Hung Huynh",
      "photoUrl": "",
      "userId": "05059296324934067674"
     },
     "user_tz": -420
    },
    "id": "2A-PRKUloblm",
    "outputId": "2865fa80-2f80-4f55-ccab-a775bdce050f"
   },
   "outputs": [
    {
     "data": {
      "text/plain": [
       "array([ 481,  182, 1036,   90,  151])"
      ]
     },
     "execution_count": 25,
     "metadata": {},
     "output_type": "execute_result"
    }
   ],
   "source": [
    "# Number of Distinct Words\n",
    "distinct_words = [Counter(words) for words in words_list]\n",
    "NDWo = np.array([len(w) for w in distinct_words], dtype=int)\n",
    "NDWo[:5]"
   ]
  },
  {
   "cell_type": "code",
   "execution_count": 26,
   "metadata": {
    "colab": {
     "base_uri": "https://localhost:8080/"
    },
    "executionInfo": {
     "elapsed": 24,
     "status": "ok",
     "timestamp": 1625212821741,
     "user": {
      "displayName": "Trong-Hung Huynh",
      "photoUrl": "",
      "userId": "05059296324934067674"
     },
     "user_tz": -420
    },
    "id": "ZozmoOPDmopG",
    "outputId": "15e60d23-3d53-4f63-ce64-47d05bcf0696"
   },
   "outputs": [
    {
     "data": {
      "text/plain": [
       "array([1., 1., 1., 1., 1.])"
      ]
     },
     "execution_count": 26,
     "metadata": {},
     "output_type": "execute_result"
    }
   ],
   "source": [
    "# Average Word Length calculated in Syllables\n",
    "AWLS = np.array(NSyl/NWo, dtype=float)\n",
    "AWLS[:5]"
   ]
  },
  {
   "cell_type": "code",
   "execution_count": 29,
   "metadata": {},
   "outputs": [],
   "source": [
    "# print(np.shape(n_difficult),np.shape(NWo))"
   ]
  },
  {
   "cell_type": "code",
   "execution_count": 30,
   "metadata": {},
   "outputs": [
    {
     "data": {
      "text/plain": [
       "1825"
      ]
     },
     "execution_count": 30,
     "metadata": {},
     "output_type": "execute_result"
    }
   ],
   "source": [
    "len(words_list)"
   ]
  },
  {
   "cell_type": "code",
   "execution_count": 31,
   "metadata": {},
   "outputs": [
    {
     "data": {
      "text/plain": [
       "1825"
      ]
     },
     "execution_count": 31,
     "metadata": {},
     "output_type": "execute_result"
    }
   ],
   "source": [
    "len(NWo)"
   ]
  },
  {
   "cell_type": "code",
   "execution_count": 32,
   "metadata": {},
   "outputs": [],
   "source": [
    "n_difficult=[]\n",
    "for words in words_list:\n",
    "    temp=0\n",
    "    for word in words:\n",
    "        if word in most_used_words:\n",
    "            temp +=1\n",
    "            n_difficult.append(temp)"
   ]
  },
  {
   "cell_type": "code",
   "execution_count": 33,
   "metadata": {},
   "outputs": [
    {
     "data": {
      "text/plain": [
       "array([0.99945205, 0.99890411, 0.99835616, 0.99780822, 0.99726027])"
      ]
     },
     "execution_count": 33,
     "metadata": {},
     "output_type": "execute_result"
    }
   ],
   "source": [
    "n_difficult=np.array(n_difficult,dtype=int)\n",
    "PWD=np.array((1-n_difficult/len(NWo)),dtype=float)\n",
    "PWD[:5]    "
   ]
  },
  {
   "cell_type": "code",
   "execution_count": 34,
   "metadata": {},
   "outputs": [
    {
     "data": {
      "text/plain": [
       "1825"
      ]
     },
     "execution_count": 34,
     "metadata": {},
     "output_type": "execute_result"
    }
   ],
   "source": [
    "len(NWo)"
   ]
  },
  {
   "cell_type": "code",
   "execution_count": 35,
   "metadata": {},
   "outputs": [],
   "source": [
    "n_difficult=[]\n",
    "for syls in syls_list:\n",
    "    temp=0\n",
    "    for syl in syls:\n",
    "        if syl in most_used_syls:\n",
    "            temp +=1\n",
    "        n_difficult.append(temp)"
   ]
  },
  {
   "cell_type": "code",
   "execution_count": 36,
   "metadata": {},
   "outputs": [
    {
     "data": {
      "text/plain": [
       "array([0.99945205, 0.99890411, 0.99835616, 0.99780822, 0.99726027])"
      ]
     },
     "execution_count": 36,
     "metadata": {},
     "output_type": "execute_result"
    }
   ],
   "source": [
    "n_difficult=np.array(n_difficult,dtype=int)\n",
    "PDS=np.array((1-n_difficult/len(NSyl)),dtype=float)\n",
    "PDS[:5]"
   ]
  },
  {
   "cell_type": "code",
   "execution_count": 39,
   "metadata": {},
   "outputs": [],
   "source": [
    "# print(len(PDS),len(PWD),len(PSVW),len(PDSVW))"
   ]
  },
  {
   "cell_type": "code",
   "execution_count": 40,
   "metadata": {
    "colab": {
     "base_uri": "https://localhost:8080/"
    },
    "executionInfo": {
     "elapsed": 9,
     "status": "ok",
     "timestamp": 1625212823316,
     "user": {
      "displayName": "Trong-Hung Huynh",
      "photoUrl": "",
      "userId": "05059296324934067674"
     },
     "user_tz": -420
    },
    "id": "66rZNrfXnYzh",
    "outputId": "0640e17a-f0d1-499b-fd54-b874adcde569"
   },
   "outputs": [],
   "source": [
    "# Percentage of Sino-Vietnamese Words\n",
    "sino_viet_words = []\n",
    "for words in words_list:\n",
    "    \n",
    "    temp = []\n",
    "    for word in words:\n",
    "        if word in sino_words:\n",
    "            temp.append(word)"
   ]
  },
  {
   "cell_type": "code",
   "execution_count": 41,
   "metadata": {},
   "outputs": [
    {
     "data": {
      "text/plain": [
       "array([0.00869565, 0.03676471, 0.00205846, 0.05780347, 0.0462963 ])"
      ]
     },
     "execution_count": 41,
     "metadata": {},
     "output_type": "execute_result"
    }
   ],
   "source": [
    "sino_viet_words.append(temp)\n",
    "NSVW = np.array([len(words) for words in sino_viet_words])\n",
    "PSVW = np.array(NSVW/NWo, dtype=float)\n",
    "PSVW[:5]"
   ]
  },
  {
   "cell_type": "code",
   "execution_count": 42,
   "metadata": {
    "colab": {
     "base_uri": "https://localhost:8080/"
    },
    "executionInfo": {
     "elapsed": 7,
     "status": "ok",
     "timestamp": 1625212823317,
     "user": {
      "displayName": "Trong-Hung Huynh",
      "photoUrl": "",
      "userId": "05059296324934067674"
     },
     "user_tz": -420
    },
    "id": "UOUZtUeeoKn3",
    "outputId": "4a6b88dd-7042-48d2-d63e-c642578e26fb"
   },
   "outputs": [
    {
     "data": {
      "text/plain": [
       "array([0.01871102, 0.04945055, 0.00868726, 0.1       , 0.05960265])"
      ]
     },
     "execution_count": 42,
     "metadata": {},
     "output_type": "execute_result"
    }
   ],
   "source": [
    "# Percentage of Distinct Sino-Vietnamese Words\n",
    "NDSVW = np.array([len(Counter(words)) for words in sino_viet_words])\n",
    "PDSVW = np.array(NDSVW/NDWo, dtype=float)\n",
    "PDSVW[:5]"
   ]
  },
  {
   "cell_type": "code",
   "execution_count": 43,
   "metadata": {},
   "outputs": [
    {
     "data": {
      "text/html": [
       "<div>\n",
       "<style scoped>\n",
       "    .dataframe tbody tr th:only-of-type {\n",
       "        vertical-align: middle;\n",
       "    }\n",
       "\n",
       "    .dataframe tbody tr th {\n",
       "        vertical-align: top;\n",
       "    }\n",
       "\n",
       "    .dataframe thead th {\n",
       "        text-align: right;\n",
       "    }\n",
       "</style>\n",
       "<table border=\"1\" class=\"dataframe\">\n",
       "  <thead>\n",
       "    <tr style=\"text-align: right;\">\n",
       "      <th></th>\n",
       "      <th>text</th>\n",
       "      <th>label</th>\n",
       "      <th>word</th>\n",
       "      <th>NSen</th>\n",
       "      <th>NCha</th>\n",
       "      <th>AWLS</th>\n",
       "      <th>PWD</th>\n",
       "      <th>PDS</th>\n",
       "      <th>PSVW</th>\n",
       "      <th>PDSVW</th>\n",
       "    </tr>\n",
       "  </thead>\n",
       "  <tbody>\n",
       "    <tr>\n",
       "      <th>0</th>\n",
       "      <td>Truyện cổ tích : Người thợ săn và mụ chằngNgày...</td>\n",
       "      <td>1</td>\n",
       "      <td>[Truyện, cổ, tích, :, Người, thợ, săn, và, mụ,...</td>\n",
       "      <td>1</td>\n",
       "      <td>3762</td>\n",
       "      <td>1.0</td>\n",
       "      <td>0.999452</td>\n",
       "      <td>0.999452</td>\n",
       "      <td>0.008696</td>\n",
       "      <td>0.018711</td>\n",
       "    </tr>\n",
       "    <tr>\n",
       "      <th>1</th>\n",
       "      <td>Hộp thư mậtHai Long phóng xe về phía Phú Lâm t...</td>\n",
       "      <td>3</td>\n",
       "      <td>[Hộp, thư, mậtHai, Long, phóng, xe, về, phía, ...</td>\n",
       "      <td>1</td>\n",
       "      <td>915</td>\n",
       "      <td>1.0</td>\n",
       "      <td>0.998904</td>\n",
       "      <td>0.998904</td>\n",
       "      <td>0.036765</td>\n",
       "      <td>0.049451</td>\n",
       "    </tr>\n",
       "    <tr>\n",
       "      <th>2</th>\n",
       "      <td>Xu hướng vận động của điểm nhìn trần thuật tro...</td>\n",
       "      <td>0</td>\n",
       "      <td>[Xu, hướng, vận, động, của, điểm, nhìn, trần, ...</td>\n",
       "      <td>1</td>\n",
       "      <td>17055</td>\n",
       "      <td>1.0</td>\n",
       "      <td>0.998356</td>\n",
       "      <td>0.998356</td>\n",
       "      <td>0.002058</td>\n",
       "      <td>0.008687</td>\n",
       "    </tr>\n",
       "    <tr>\n",
       "      <th>3</th>\n",
       "      <td>Mua kínhAnh nọ dốt đặc cán mai , thấy các ông ...</td>\n",
       "      <td>3</td>\n",
       "      <td>[Mua, kínhAnh, nọ, dốt, đặc, cán, mai, ,, thấy...</td>\n",
       "      <td>1</td>\n",
       "      <td>558</td>\n",
       "      <td>1.0</td>\n",
       "      <td>0.997808</td>\n",
       "      <td>0.997808</td>\n",
       "      <td>0.057803</td>\n",
       "      <td>0.100000</td>\n",
       "    </tr>\n",
       "    <tr>\n",
       "      <th>4</th>\n",
       "      <td>Thư thăm bạnHòa Bình , ngày 5 tháng 8 năm 2000...</td>\n",
       "      <td>3</td>\n",
       "      <td>[Thư, thăm, bạnHòa, Bình, ,, ngày, 5, tháng, 8...</td>\n",
       "      <td>1</td>\n",
       "      <td>755</td>\n",
       "      <td>1.0</td>\n",
       "      <td>0.997260</td>\n",
       "      <td>0.997260</td>\n",
       "      <td>0.046296</td>\n",
       "      <td>0.059603</td>\n",
       "    </tr>\n",
       "  </tbody>\n",
       "</table>\n",
       "</div>"
      ],
      "text/plain": [
       "                                                text  label  \\\n",
       "0  Truyện cổ tích : Người thợ săn và mụ chằngNgày...      1   \n",
       "1  Hộp thư mậtHai Long phóng xe về phía Phú Lâm t...      3   \n",
       "2  Xu hướng vận động của điểm nhìn trần thuật tro...      0   \n",
       "3  Mua kínhAnh nọ dốt đặc cán mai , thấy các ông ...      3   \n",
       "4  Thư thăm bạnHòa Bình , ngày 5 tháng 8 năm 2000...      3   \n",
       "\n",
       "                                                word  NSen   NCha  AWLS  \\\n",
       "0  [Truyện, cổ, tích, :, Người, thợ, săn, và, mụ,...     1   3762   1.0   \n",
       "1  [Hộp, thư, mậtHai, Long, phóng, xe, về, phía, ...     1    915   1.0   \n",
       "2  [Xu, hướng, vận, động, của, điểm, nhìn, trần, ...     1  17055   1.0   \n",
       "3  [Mua, kínhAnh, nọ, dốt, đặc, cán, mai, ,, thấy...     1    558   1.0   \n",
       "4  [Thư, thăm, bạnHòa, Bình, ,, ngày, 5, tháng, 8...     1    755   1.0   \n",
       "\n",
       "        PWD       PDS      PSVW     PDSVW  \n",
       "0  0.999452  0.999452  0.008696  0.018711  \n",
       "1  0.998904  0.998904  0.036765  0.049451  \n",
       "2  0.998356  0.998356  0.002058  0.008687  \n",
       "3  0.997808  0.997808  0.057803  0.100000  \n",
       "4  0.997260  0.997260  0.046296  0.059603  "
      ]
     },
     "execution_count": 43,
     "metadata": {},
     "output_type": "execute_result"
    }
   ],
   "source": [
    "df['NSen']=NSen\n",
    "df['NCha']=NCha\n",
    "df['AWLS']=AWLS\n",
    "df['PWD']=PWD[:1825]\n",
    "df['PDS']=PDS[:1825]\n",
    "df['PSVW']=PSVW\n",
    "df['PDSVW']=PDSVW\n",
    "df.head()\n"
   ]
  },
  {
   "cell_type": "code",
   "execution_count": 44,
   "metadata": {},
   "outputs": [],
   "source": [
    "df.to_csv(\"feature_df.csv\", index=False)"
   ]
  },
  {
   "cell_type": "code",
   "execution_count": 110,
   "metadata": {
    "colab": {
     "base_uri": "https://localhost:8080/",
     "height": 195
    },
    "executionInfo": {
     "elapsed": 43,
     "status": "ok",
     "timestamp": 1625212823742,
     "user": {
      "displayName": "Trong-Hung Huynh",
      "photoUrl": "",
      "userId": "05059296324934067674"
     },
     "user_tz": -420
    },
    "id": "OT8yJKRJpvOP",
    "outputId": "53bcbef4-6c56-464c-d1c9-4c16906f1cf1"
   },
   "outputs": [
    {
     "data": {
      "text/html": [
       "<div>\n",
       "<style scoped>\n",
       "    .dataframe tbody tr th:only-of-type {\n",
       "        vertical-align: middle;\n",
       "    }\n",
       "\n",
       "    .dataframe tbody tr th {\n",
       "        vertical-align: top;\n",
       "    }\n",
       "\n",
       "    .dataframe thead th {\n",
       "        text-align: right;\n",
       "    }\n",
       "</style>\n",
       "<table border=\"1\" class=\"dataframe\">\n",
       "  <thead>\n",
       "    <tr style=\"text-align: right;\">\n",
       "      <th></th>\n",
       "      <th>text</th>\n",
       "      <th>label</th>\n",
       "      <th>NSen</th>\n",
       "      <th>NCha</th>\n",
       "      <th>AWLS</th>\n",
       "      <th>PDW</th>\n",
       "      <th>PDS</th>\n",
       "      <th>PSVW</th>\n",
       "      <th>PDSVW</th>\n",
       "    </tr>\n",
       "  </thead>\n",
       "  <tbody>\n",
       "    <tr>\n",
       "      <th>0</th>\n",
       "      <td>Âm_thanh thành_phố Hồi còn đi học , Hải rất sa...</td>\n",
       "      <td>0</td>\n",
       "      <td>1.0</td>\n",
       "      <td>507.0</td>\n",
       "      <td>1.237705</td>\n",
       "      <td>0.204918</td>\n",
       "      <td>0.052980</td>\n",
       "      <td>0.204918</td>\n",
       "      <td>0.244681</td>\n",
       "    </tr>\n",
       "    <tr>\n",
       "      <th>1</th>\n",
       "      <td>Cóc kiện trời Ngày_xưa , có một năm nắng hạn r...</td>\n",
       "      <td>0</td>\n",
       "      <td>1.0</td>\n",
       "      <td>977.0</td>\n",
       "      <td>1.108303</td>\n",
       "      <td>0.216606</td>\n",
       "      <td>0.045603</td>\n",
       "      <td>0.245487</td>\n",
       "      <td>0.252874</td>\n",
       "    </tr>\n",
       "    <tr>\n",
       "      <th>2</th>\n",
       "      <td>Ai có lỗi Tôi đang nắn_nót viết từng chữ thì C...</td>\n",
       "      <td>0</td>\n",
       "      <td>1.0</td>\n",
       "      <td>936.0</td>\n",
       "      <td>1.128631</td>\n",
       "      <td>0.165975</td>\n",
       "      <td>0.058824</td>\n",
       "      <td>0.211618</td>\n",
       "      <td>0.253521</td>\n",
       "    </tr>\n",
       "    <tr>\n",
       "      <th>3</th>\n",
       "      <td>Tiếng cười là liều thuốc_bổ Một nhà_văn đã từn...</td>\n",
       "      <td>0</td>\n",
       "      <td>1.0</td>\n",
       "      <td>599.0</td>\n",
       "      <td>1.273381</td>\n",
       "      <td>0.093525</td>\n",
       "      <td>0.016949</td>\n",
       "      <td>0.223022</td>\n",
       "      <td>0.295918</td>\n",
       "    </tr>\n",
       "    <tr>\n",
       "      <th>4</th>\n",
       "      <td>Thưa chuyện với mẹ Từ ngày phải nghỉ học , Cươ...</td>\n",
       "      <td>0</td>\n",
       "      <td>1.0</td>\n",
       "      <td>821.0</td>\n",
       "      <td>1.117391</td>\n",
       "      <td>0.178261</td>\n",
       "      <td>0.042802</td>\n",
       "      <td>0.156522</td>\n",
       "      <td>0.212766</td>\n",
       "    </tr>\n",
       "  </tbody>\n",
       "</table>\n",
       "</div>"
      ],
      "text/plain": [
       "                                                text  label  ...      PSVW     PDSVW\n",
       "0  Âm_thanh thành_phố Hồi còn đi học , Hải rất sa...      0  ...  0.204918  0.244681\n",
       "1  Cóc kiện trời Ngày_xưa , có một năm nắng hạn r...      0  ...  0.245487  0.252874\n",
       "2  Ai có lỗi Tôi đang nắn_nót viết từng chữ thì C...      0  ...  0.211618  0.253521\n",
       "3  Tiếng cười là liều thuốc_bổ Một nhà_văn đã từn...      0  ...  0.223022  0.295918\n",
       "4  Thưa chuyện với mẹ Từ ngày phải nghỉ học , Cươ...      0  ...  0.156522  0.212766\n",
       "\n",
       "[5 rows x 9 columns]"
      ]
     },
     "execution_count": 110,
     "metadata": {
      "tags": []
     },
     "output_type": "execute_result"
    }
   ],
   "source": [
    "feature_df = pd.DataFrame(np.array([NSen, NCha, AWLS, PWD, PDS, PSVW, PDSVW]).T,\n",
    "                          columns = ['NSen', 'NCha', 'AWLS', 'PWD', 'PDS', 'PSVW', 'PDSVW'])\n",
    "df = df[['text', 'label']]\n",
    "df = pd.concat([df, feature_df], axis=1)\n",
    "df.head()"
   ]
  },
  {
   "cell_type": "code",
   "execution_count": 111,
   "metadata": {
    "colab": {
     "base_uri": "https://localhost:8080/"
    },
    "executionInfo": {
     "elapsed": 40,
     "status": "ok",
     "timestamp": 1625212823746,
     "user": {
      "displayName": "Trong-Hung Huynh",
      "photoUrl": "",
      "userId": "05059296324934067674"
     },
     "user_tz": -420
    },
    "id": "YuTC3-Bsp9NS",
    "outputId": "ad1ec688-9bab-4e0d-b332-0b3ffe22aa0a"
   },
   "outputs": [
    {
     "data": {
      "text/plain": [
       "(1819, 9)"
      ]
     },
     "execution_count": 111,
     "metadata": {
      "tags": []
     },
     "output_type": "execute_result"
    }
   ],
   "source": [
    "df.shape"
   ]
  },
  {
   "cell_type": "code",
   "execution_count": 112,
   "metadata": {
    "executionInfo": {
     "elapsed": 878,
     "status": "ok",
     "timestamp": 1625212824594,
     "user": {
      "displayName": "Trong-Hung Huynh",
      "photoUrl": "",
      "userId": "05059296324934067674"
     },
     "user_tz": -420
    },
    "id": "ds8EGRkzp_sH"
   },
   "outputs": [],
   "source": [
    "df.to_csv('/content/drive/MyDrive/KhoaLuan/Data/literature_large_features_for_SVM.csv', index=False)"
   ]
  },
  {
   "cell_type": "code",
   "execution_count": 145,
   "metadata": {
    "executionInfo": {
     "elapsed": 16,
     "status": "ok",
     "timestamp": 1625212824596,
     "user": {
      "displayName": "Trong-Hung Huynh",
      "photoUrl": "",
      "userId": "05059296324934067674"
     },
     "user_tz": -420
    },
    "id": "-X_O-tWDqIvI"
   },
   "outputs": [],
   "source": [
    "\n",
    "def modelEvaluation(predictions, y_test_set, model_name):\n",
    "    # Print model evaluation to predicted result    \n",
    "    print(\"==========\",model_name,\"==========\")\n",
    "    print (\"\\nAccuracy on validation set: {:.4f}\".format(accuracy_score(y_test_set, predictions)))    \n",
    "    print (\"\\nClassification report : \\n\", classification_report(y_test_set, predictions))\n",
    "    print (\"\\nConfusion Matrix : \\n\", confusion_matrix(y_test_set, predictions))\n",
    "    plt.figure(figsize=(5,5))\n",
    "    sns.heatmap(confusion_matrix(y_test_set, predictions),annot=True, fmt='g',cmap='viridis')\n",
    "    plt.tight_layout()\n",
    "    plt.show()\n",
    "    results = [accuracy_score(y_test_set, predictions), precision_score(y_test_set, predictions, average='macro'),\n",
    "              recall_score(y_test_set, predictions, average='macro'),f1_score(y_test_set, predictions, average='macro')]\n",
    "    return results"
   ]
  },
  {
   "cell_type": "code",
   "execution_count": null,
   "metadata": {},
   "outputs": [],
   "source": [
    "`1"
   ]
  },
  {
   "cell_type": "code",
   "execution_count": 146,
   "metadata": {},
   "outputs": [],
   "source": [
    "x=df.iloc[:,3:10]\n",
    "y=df.iloc[:,1]"
   ]
  },
  {
   "cell_type": "code",
   "execution_count": 147,
   "metadata": {},
   "outputs": [],
   "source": [
    "from sklearn.model_selection import train_test_split\n",
    "X_train,X_test,y_train,y_test = train_test_split(x,y,test_size=0.3,random_state=0)"
   ]
  },
  {
   "cell_type": "code",
   "execution_count": 151,
   "metadata": {},
   "outputs": [
    {
     "name": "stdout",
     "output_type": "stream",
     "text": [
      "========== Support Vector Machine ==========\n",
      "\n",
      "Accuracy on validation set: 0.8777\n",
      "\n",
      "Classification report : \n",
      "               precision    recall  f1-score   support\n",
      "\n",
      "           0       0.82      0.73      0.77       105\n",
      "           1       0.89      0.93      0.91       134\n",
      "           2       0.64      0.62      0.63        76\n",
      "           3       0.97      1.00      0.98       233\n",
      "\n",
      "    accuracy                           0.88       548\n",
      "   macro avg       0.83      0.82      0.82       548\n",
      "weighted avg       0.87      0.88      0.88       548\n",
      "\n",
      "\n",
      "Confusion Matrix : \n",
      " [[ 77   4  24   0]\n",
      " [  0 124   3   7]\n",
      " [ 17  11  47   1]\n",
      " [  0   0   0 233]]\n"
     ]
    },
    {
     "data": {
      "image/png": "[encoded data removed]",
      "text/plain": [
       "<Figure size 360x360 with 2 Axes>"
      ]
     },
     "metadata": {
      "needs_background": "light"
     },
     "output_type": "display_data"
    }
   ],
   "source": [
    "\n",
    "sv=SVC()\n",
    "sv.fit(X_train,y_train)\n",
    "y_pred_svc=sv.predict(X_test)\n",
    "result_svc= modelEvaluation(y_pred_svc, y_test, 'Support Vector Machine')"
   ]
  },
  {
   "cell_type": "code",
   "execution_count": 154,
   "metadata": {},
   "outputs": [
    {
     "name": "stdout",
     "output_type": "stream",
     "text": [
      "==========  RandomForestClassifier ==========\n",
      "\n",
      "Accuracy on validation set: 0.9982\n",
      "\n",
      "Classification report : \n",
      "               precision    recall  f1-score   support\n",
      "\n",
      "           0       1.00      1.00      1.00       105\n",
      "           1       1.00      1.00      1.00       134\n",
      "           2       1.00      0.99      0.99        76\n",
      "           3       1.00      1.00      1.00       233\n",
      "\n",
      "    accuracy                           1.00       548\n",
      "   macro avg       1.00      1.00      1.00       548\n",
      "weighted avg       1.00      1.00      1.00       548\n",
      "\n",
      "\n",
      "Confusion Matrix : \n",
      " [[105   0   0   0]\n",
      " [  0 134   0   0]\n",
      " [  0   0  75   1]\n",
      " [  0   0   0 233]]\n"
     ]
    },
    {
     "data": {
      "image/png": "[encoded data removed]",
      "text/plain": [
       "<Figure size 360x360 with 2 Axes>"
      ]
     },
     "metadata": {
      "needs_background": "light"
     },
     "output_type": "display_data"
    }
   ],
   "source": [
    "\n",
    "rfc= RandomForestClassifier()\n",
    "rfc.fit(X_train,y_train)\n",
    "y_pred_rfc=rfc.predict(X_test)\n",
    "result_rfc= modelEvaluation(y_pred_rfc, y_test, ' RandomForestClassifier')"
   ]
  },
  {
   "cell_type": "code",
   "execution_count": null,
   "metadata": {},
   "outputs": [],
   "source": []
  },
  {
   "cell_type": "code",
   "execution_count": 149,
   "metadata": {},
   "outputs": [
    {
     "name": "stdout",
     "output_type": "stream",
     "text": [
      "========== SVC ==========\n",
      "\n",
      "Accuracy on validation set: 0.8796\n",
      "\n",
      "Classification report : \n",
      "               precision    recall  f1-score   support\n",
      "\n",
      "           0       0.82      0.73      0.77       105\n",
      "           1       0.89      0.93      0.91       134\n",
      "           2       0.64      0.62      0.63        76\n",
      "           3       0.97      1.00      0.99       233\n",
      "\n",
      "    accuracy                           0.88       548\n",
      "   macro avg       0.83      0.82      0.82       548\n",
      "weighted avg       0.88      0.88      0.88       548\n",
      "\n",
      "\n",
      "Confusion Matrix : \n",
      " [[ 77   4  24   0]\n",
      " [  0 125   3   6]\n",
      " [ 17  11  47   1]\n",
      " [  0   0   0 233]]\n"
     ]
    },
    {
     "data": {
      "image/png": "[encoded data removed]",
      "text/plain": [
       "<Figure size 360x360 with 2 Axes>"
      ]
     },
     "metadata": {
      "needs_background": "light"
     },
     "output_type": "display_data"
    },
    {
     "ename": "NameError",
     "evalue": "name 'collect_results_of_all_model' is not defined",
     "output_type": "error",
     "traceback": [
      "\u001b[1;31m---------------------------------------------------------------------------\u001b[0m",
      "\u001b[1;31mNameError\u001b[0m                                 Traceback (most recent call last)",
      "\u001b[1;32mC:\\Users\\MICROT~1\\AppData\\Local\\Temp/ipykernel_7456/1568428031.py\u001b[0m in \u001b[0;36m<module>\u001b[1;34m\u001b[0m\n\u001b[0;32m      1\u001b[0m \u001b[0mSVC_res\u001b[0m\u001b[1;33m=\u001b[0m\u001b[0mmodelEvaluation\u001b[0m\u001b[1;33m(\u001b[0m\u001b[0mpreds\u001b[0m\u001b[1;33m,\u001b[0m \u001b[0my_test\u001b[0m\u001b[1;33m,\u001b[0m \u001b[1;34m'SVC'\u001b[0m\u001b[1;33m)\u001b[0m\u001b[1;33m\u001b[0m\u001b[1;33m\u001b[0m\u001b[0m\n\u001b[1;32m----> 2\u001b[1;33m \u001b[0mcollect_results_of_all_model\u001b[0m\u001b[1;33m[\u001b[0m\u001b[1;34m\"SVC\"\u001b[0m\u001b[1;33m]\u001b[0m \u001b[1;33m=\u001b[0m \u001b[0mSVC_res\u001b[0m\u001b[1;33m\u001b[0m\u001b[1;33m\u001b[0m\u001b[0m\n\u001b[0m",
      "\u001b[1;31mNameError\u001b[0m: name 'collect_results_of_all_model' is not defined"
     ]
    }
   ],
   "source": []
  }
 ],
 "metadata": {
  "colab": {
   "authorship_tag": "ABX9TyOYm/Srt8KB4hZ+wCR/x/+W",
   "collapsed_sections": [],
   "mount_file_id": "1d-z3Qcqd9AUeq_OslQytuXDKe5G-uWv6",
   "name": "ExtractFeaturesForSVM.ipynb",
   "provenance": []
  },
  "kernelspec": {
   "display_name": "Python 3 (ipykernel)",
   "language": "python",
   "name": "python3"
  },
  "language_info": {
   "codemirror_mode": {
    "name": "ipython",
    "version": 3
   },
   "file_extension": ".py",
   "mimetype": "text/x-python",
   "name": "python",
   "nbconvert_exporter": "python",
   "pygments_lexer": "ipython3",
   "version": "3.7.11"
  }
 },
 "nbformat": 4,
 "nbformat_minor": 1
}
