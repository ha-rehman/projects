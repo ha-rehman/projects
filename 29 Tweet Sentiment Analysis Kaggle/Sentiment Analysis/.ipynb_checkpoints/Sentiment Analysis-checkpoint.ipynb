{
 "cells": [
  {
   "cell_type": "markdown",
   "id": "4e295651",
   "metadata": {},
   "source": [
    "## import libraries"
   ]
  },
  {
   "cell_type": "code",
   "execution_count": 1,
   "id": "855dd73a",
   "metadata": {},
   "outputs": [],
   "source": [
    "import warnings\n",
    "warnings.filterwarnings('ignore')"
   ]
  },
  {
   "cell_type": "code",
   "execution_count": 2,
   "id": "4713165f",
   "metadata": {},
   "outputs": [
    {
     "name": "stderr",
     "output_type": "stream",
     "text": [
      "[nltk_data] Downloading package stopwords to\n",
      "[nltk_data]     C:\\Users\\abdul\\AppData\\Roaming\\nltk_data...\n",
      "[nltk_data]   Package stopwords is already up-to-date!\n",
      "[nltk_data] Downloading package wordnet to\n",
      "[nltk_data]     C:\\Users\\abdul\\AppData\\Roaming\\nltk_data...\n",
      "[nltk_data]   Package wordnet is already up-to-date!\n"
     ]
    },
    {
     "data": {
      "text/plain": [
       "True"
      ]
     },
     "execution_count": 2,
     "metadata": {},
     "output_type": "execute_result"
    }
   ],
   "source": [
    "# run only once\n",
    "import nltk\n",
    "nltk.download('stopwords')\n",
    "nltk.download('wordnet')"
   ]
  },
  {
   "cell_type": "code",
   "execution_count": 3,
   "id": "00cf1c17",
   "metadata": {},
   "outputs": [],
   "source": [
    "import string\n",
    "import numpy as np\n",
    "import pandas as pd\n",
    "import seaborn as sns\n",
    "import matplotlib.pyplot as plt\n",
    "\n",
    "from nltk.corpus import stopwords\n",
    "from nltk.stem import WordNetLemmatizer\n",
    "\n",
    "from sklearn.model_selection import train_test_split\n",
    "from sklearn.feature_extraction.text import CountVectorizer\n",
    "from sklearn.metrics import confusion_matrix,classification_report, accuracy_score,precision_score, recall_score, f1_score\n",
    "\n",
    "import tensorflow as tf\n",
    "from tensorflow.keras.models import Sequential, Model \n",
    "from tensorflow.keras.layers import Dense,Activation,Dropout, SpatialDropout1D \n",
    "from tensorflow.keras.layers import BatchNormalization, Input, Embedding, LSTM \n",
    "from tensorflow.keras.utils import to_categorical"
   ]
  },
  {
   "cell_type": "markdown",
   "id": "eb5b3391",
   "metadata": {},
   "source": [
    "## Read CSV"
   ]
  },
  {
   "cell_type": "code",
   "execution_count": 4,
   "id": "8ed7e65d",
   "metadata": {},
   "outputs": [
    {
     "name": "stdout",
     "output_type": "stream",
     "text": [
      "Index(['id', 'candidate', 'candidate_confidence', 'relevant_yn',\n",
      "       'relevant_yn_confidence', 'sentiment', 'sentiment_confidence',\n",
      "       'subject_matter', 'subject_matter_confidence', 'candidate_gold', 'name',\n",
      "       'relevant_yn_gold', 'retweet_count', 'sentiment_gold',\n",
      "       'subject_matter_gold', 'text', 'tweet_coord', 'tweet_created',\n",
      "       'tweet_id', 'tweet_location', 'user_timezone'],\n",
      "      dtype='object')\n"
     ]
    },
    {
     "data": {
      "text/html": [
       "<div>\n",
       "<style scoped>\n",
       "    .dataframe tbody tr th:only-of-type {\n",
       "        vertical-align: middle;\n",
       "    }\n",
       "\n",
       "    .dataframe tbody tr th {\n",
       "        vertical-align: top;\n",
       "    }\n",
       "\n",
       "    .dataframe thead th {\n",
       "        text-align: right;\n",
       "    }\n",
       "</style>\n",
       "<table border=\"1\" class=\"dataframe\">\n",
       "  <thead>\n",
       "    <tr style=\"text-align: right;\">\n",
       "      <th></th>\n",
       "      <th>id</th>\n",
       "      <th>candidate</th>\n",
       "      <th>candidate_confidence</th>\n",
       "      <th>relevant_yn</th>\n",
       "      <th>relevant_yn_confidence</th>\n",
       "      <th>sentiment</th>\n",
       "      <th>sentiment_confidence</th>\n",
       "      <th>subject_matter</th>\n",
       "      <th>subject_matter_confidence</th>\n",
       "      <th>candidate_gold</th>\n",
       "      <th>...</th>\n",
       "      <th>relevant_yn_gold</th>\n",
       "      <th>retweet_count</th>\n",
       "      <th>sentiment_gold</th>\n",
       "      <th>subject_matter_gold</th>\n",
       "      <th>text</th>\n",
       "      <th>tweet_coord</th>\n",
       "      <th>tweet_created</th>\n",
       "      <th>tweet_id</th>\n",
       "      <th>tweet_location</th>\n",
       "      <th>user_timezone</th>\n",
       "    </tr>\n",
       "  </thead>\n",
       "  <tbody>\n",
       "    <tr>\n",
       "      <th>0</th>\n",
       "      <td>1</td>\n",
       "      <td>No candidate mentioned</td>\n",
       "      <td>1.0</td>\n",
       "      <td>yes</td>\n",
       "      <td>1.0</td>\n",
       "      <td>Neutral</td>\n",
       "      <td>0.6578</td>\n",
       "      <td>None of the above</td>\n",
       "      <td>1.0000</td>\n",
       "      <td>NaN</td>\n",
       "      <td>...</td>\n",
       "      <td>NaN</td>\n",
       "      <td>5</td>\n",
       "      <td>NaN</td>\n",
       "      <td>NaN</td>\n",
       "      <td>RT @NancyLeeGrahn: How did everyone feel about...</td>\n",
       "      <td>NaN</td>\n",
       "      <td>2015-08-07 09:54:46 -0700</td>\n",
       "      <td>629697200650592256</td>\n",
       "      <td>NaN</td>\n",
       "      <td>Quito</td>\n",
       "    </tr>\n",
       "    <tr>\n",
       "      <th>1</th>\n",
       "      <td>2</td>\n",
       "      <td>Scott Walker</td>\n",
       "      <td>1.0</td>\n",
       "      <td>yes</td>\n",
       "      <td>1.0</td>\n",
       "      <td>Positive</td>\n",
       "      <td>0.6333</td>\n",
       "      <td>None of the above</td>\n",
       "      <td>1.0000</td>\n",
       "      <td>NaN</td>\n",
       "      <td>...</td>\n",
       "      <td>NaN</td>\n",
       "      <td>26</td>\n",
       "      <td>NaN</td>\n",
       "      <td>NaN</td>\n",
       "      <td>RT @ScottWalker: Didn't catch the full #GOPdeb...</td>\n",
       "      <td>NaN</td>\n",
       "      <td>2015-08-07 09:54:46 -0700</td>\n",
       "      <td>629697199560069120</td>\n",
       "      <td>NaN</td>\n",
       "      <td>NaN</td>\n",
       "    </tr>\n",
       "    <tr>\n",
       "      <th>2</th>\n",
       "      <td>3</td>\n",
       "      <td>No candidate mentioned</td>\n",
       "      <td>1.0</td>\n",
       "      <td>yes</td>\n",
       "      <td>1.0</td>\n",
       "      <td>Neutral</td>\n",
       "      <td>0.6629</td>\n",
       "      <td>None of the above</td>\n",
       "      <td>0.6629</td>\n",
       "      <td>NaN</td>\n",
       "      <td>...</td>\n",
       "      <td>NaN</td>\n",
       "      <td>27</td>\n",
       "      <td>NaN</td>\n",
       "      <td>NaN</td>\n",
       "      <td>RT @TJMShow: No mention of Tamir Rice and the ...</td>\n",
       "      <td>NaN</td>\n",
       "      <td>2015-08-07 09:54:46 -0700</td>\n",
       "      <td>629697199312482304</td>\n",
       "      <td>NaN</td>\n",
       "      <td>NaN</td>\n",
       "    </tr>\n",
       "    <tr>\n",
       "      <th>3</th>\n",
       "      <td>4</td>\n",
       "      <td>No candidate mentioned</td>\n",
       "      <td>1.0</td>\n",
       "      <td>yes</td>\n",
       "      <td>1.0</td>\n",
       "      <td>Positive</td>\n",
       "      <td>1.0000</td>\n",
       "      <td>None of the above</td>\n",
       "      <td>0.7039</td>\n",
       "      <td>NaN</td>\n",
       "      <td>...</td>\n",
       "      <td>NaN</td>\n",
       "      <td>138</td>\n",
       "      <td>NaN</td>\n",
       "      <td>NaN</td>\n",
       "      <td>RT @RobGeorge: That Carly Fiorina is trending ...</td>\n",
       "      <td>NaN</td>\n",
       "      <td>2015-08-07 09:54:45 -0700</td>\n",
       "      <td>629697197118861312</td>\n",
       "      <td>Texas</td>\n",
       "      <td>Central Time (US &amp; Canada)</td>\n",
       "    </tr>\n",
       "    <tr>\n",
       "      <th>4</th>\n",
       "      <td>5</td>\n",
       "      <td>Donald Trump</td>\n",
       "      <td>1.0</td>\n",
       "      <td>yes</td>\n",
       "      <td>1.0</td>\n",
       "      <td>Positive</td>\n",
       "      <td>0.7045</td>\n",
       "      <td>None of the above</td>\n",
       "      <td>1.0000</td>\n",
       "      <td>NaN</td>\n",
       "      <td>...</td>\n",
       "      <td>NaN</td>\n",
       "      <td>156</td>\n",
       "      <td>NaN</td>\n",
       "      <td>NaN</td>\n",
       "      <td>RT @DanScavino: #GOPDebate w/ @realDonaldTrump...</td>\n",
       "      <td>NaN</td>\n",
       "      <td>2015-08-07 09:54:45 -0700</td>\n",
       "      <td>629697196967903232</td>\n",
       "      <td>NaN</td>\n",
       "      <td>Arizona</td>\n",
       "    </tr>\n",
       "  </tbody>\n",
       "</table>\n",
       "<p>5 rows × 21 columns</p>\n",
       "</div>"
      ],
      "text/plain": [
       "   id               candidate  candidate_confidence relevant_yn  \\\n",
       "0   1  No candidate mentioned                   1.0         yes   \n",
       "1   2            Scott Walker                   1.0         yes   \n",
       "2   3  No candidate mentioned                   1.0         yes   \n",
       "3   4  No candidate mentioned                   1.0         yes   \n",
       "4   5            Donald Trump                   1.0         yes   \n",
       "\n",
       "   relevant_yn_confidence sentiment  sentiment_confidence     subject_matter  \\\n",
       "0                     1.0   Neutral                0.6578  None of the above   \n",
       "1                     1.0  Positive                0.6333  None of the above   \n",
       "2                     1.0   Neutral                0.6629  None of the above   \n",
       "3                     1.0  Positive                1.0000  None of the above   \n",
       "4                     1.0  Positive                0.7045  None of the above   \n",
       "\n",
       "   subject_matter_confidence candidate_gold  ... relevant_yn_gold  \\\n",
       "0                     1.0000            NaN  ...              NaN   \n",
       "1                     1.0000            NaN  ...              NaN   \n",
       "2                     0.6629            NaN  ...              NaN   \n",
       "3                     0.7039            NaN  ...              NaN   \n",
       "4                     1.0000            NaN  ...              NaN   \n",
       "\n",
       "  retweet_count  sentiment_gold subject_matter_gold  \\\n",
       "0             5             NaN                 NaN   \n",
       "1            26             NaN                 NaN   \n",
       "2            27             NaN                 NaN   \n",
       "3           138             NaN                 NaN   \n",
       "4           156             NaN                 NaN   \n",
       "\n",
       "                                                text tweet_coord  \\\n",
       "0  RT @NancyLeeGrahn: How did everyone feel about...         NaN   \n",
       "1  RT @ScottWalker: Didn't catch the full #GOPdeb...         NaN   \n",
       "2  RT @TJMShow: No mention of Tamir Rice and the ...         NaN   \n",
       "3  RT @RobGeorge: That Carly Fiorina is trending ...         NaN   \n",
       "4  RT @DanScavino: #GOPDebate w/ @realDonaldTrump...         NaN   \n",
       "\n",
       "               tweet_created            tweet_id  tweet_location  \\\n",
       "0  2015-08-07 09:54:46 -0700  629697200650592256             NaN   \n",
       "1  2015-08-07 09:54:46 -0700  629697199560069120             NaN   \n",
       "2  2015-08-07 09:54:46 -0700  629697199312482304             NaN   \n",
       "3  2015-08-07 09:54:45 -0700  629697197118861312           Texas   \n",
       "4  2015-08-07 09:54:45 -0700  629697196967903232             NaN   \n",
       "\n",
       "                user_timezone  \n",
       "0                       Quito  \n",
       "1                         NaN  \n",
       "2                         NaN  \n",
       "3  Central Time (US & Canada)  \n",
       "4                     Arizona  \n",
       "\n",
       "[5 rows x 21 columns]"
      ]
     },
     "execution_count": 4,
     "metadata": {},
     "output_type": "execute_result"
    }
   ],
   "source": [
    "# https://www.kaggle.com/code/seunowo/sentiment-analysis-twitter-dataset/data\n",
    "df = pd.read_csv('Sentiment.csv')\n",
    "print(df.columns)\n",
    "df.head()"
   ]
  },
  {
   "cell_type": "markdown",
   "id": "0e93b232",
   "metadata": {},
   "source": [
    "# Preprocessing\n",
    "## Utils Functions"
   ]
  },
  {
   "cell_type": "code",
   "execution_count": 5,
   "id": "aa339a08",
   "metadata": {},
   "outputs": [],
   "source": [
    "def count_digit(num):\n",
    "    count = 0\n",
    "    while num != 0:\n",
    "        num //= 10\n",
    "        count += 1\n",
    "    return count\n",
    "\n",
    "def check_shape(df):\n",
    "    rows, cols = df.shape\n",
    "    print(\"\\nNumber or rows in dataset: {}\".format(rows))\n",
    "    print(\"==========================={}\".format(count_digit(rows)*'='))\n",
    "    print(\"\\nNumber or columns in dataset: {}\".format(cols))\n",
    "    print(\"=============================={}\".format(count_digit(cols)*'='))\n",
    "    \n",
    "def modelEvaluation(predictions, y_test_set, model_name, classes):\n",
    "    # Print model evaluation to predicted result    \n",
    "    print(\"==========\",model_name,\"==========\")\n",
    "    print (\"\\nAccuracy on validation set: {:.4f}\".format(accuracy_score(y_test_set, predictions)))    \n",
    "    print (\"\\nClassification report : \\n\", classification_report(y_test_set, predictions, target_names = classes))\n",
    "    print (\"\\nConfusion Matrix : \\n\", confusion_matrix(y_test_set,predictions))\n",
    "    sns.heatmap(confusion_matrix(y_test_set, predictions),annot=True,yticklabels=classes, xticklabels=classes, fmt='g',cmap='jet')\n",
    "   \n",
    "    plt.tight_layout()\n",
    "    plt.show()\n",
    "    results = [accuracy_score(y_test_set, predictions), precision_score(y_test_set, predictions,average='macro'),\n",
    "              recall_score(y_test_set, predictions,average='macro'),f1_score(y_test_set, predictions,average='macro')]#store results of model\n",
    "    return results"
   ]
  },
  {
   "cell_type": "markdown",
   "id": "895f526b",
   "metadata": {},
   "source": [
    "## Remove NAN Values"
   ]
  },
  {
   "cell_type": "code",
   "execution_count": 6,
   "id": "b97ec2bc",
   "metadata": {},
   "outputs": [
    {
     "name": "stdout",
     "output_type": "stream",
     "text": [
      "\n",
      "Number or rows in dataset: 13871\n",
      "================================\n",
      "\n",
      "Number or columns in dataset: 21\n",
      "================================\n"
     ]
    }
   ],
   "source": [
    "df = df[df.sentiment.notnull()]\n",
    "df = df[df.text.notnull()]\n",
    "check_shape(df)"
   ]
  },
  {
   "cell_type": "markdown",
   "id": "75caec1e",
   "metadata": {},
   "source": [
    "## Clean Tweets"
   ]
  },
  {
   "cell_type": "code",
   "execution_count": 7,
   "id": "697760d0",
   "metadata": {},
   "outputs": [],
   "source": [
    "df['Text_Data'] = df['text'].apply(\n",
    "    lambda x: \" \".join(x.lower() for x in x.split()))  # lower case conversion\n",
    "df['Text_Data'] = df['Text_Data'].str.replace('[^\\w\\s]', '')  # getting rid of special characters\n",
    "df['Text_Data'] = df['Text_Data'].str.replace('\\d+',\n",
    "                                                        '')  # removing numeric values from between the words\n",
    "df['Text_Data'] = df['Text_Data'].apply(\n",
    "    lambda x: x.translate(string.digits))  # removing numerical numbers\n",
    "stop = stopwords.words('english')\n",
    "df['Text_Data'] = df['Text_Data'].apply(\n",
    "    lambda x: \" \".join(x for x in x.split() if x not in stop))  # removing stop words\n",
    "stemmer = WordNetLemmatizer()\n",
    "df['Text_Data'] = [stemmer.lemmatize(word) for word in\n",
    "                        df['Text_Data']]  # converting words to their dictionary form\n",
    "df['Text_Data'] = df['Text_Data'].str.replace('shall', '')"
   ]
  },
  {
   "cell_type": "markdown",
   "id": "f7eea2c5",
   "metadata": {},
   "source": [
    "# Data Modeling\n",
    "## Most Commenly Mentioned Candidated"
   ]
  },
  {
   "cell_type": "code",
   "execution_count": 8,
   "id": "bef53cbe",
   "metadata": {},
   "outputs": [
    {
     "data": {
      "image/png": "[encoded data removed]",
      "text/plain": [
       "<Figure size 432x288 with 1 Axes>"
      ]
     },
     "metadata": {
      "needs_background": "light"
     },
     "output_type": "display_data"
    }
   ],
   "source": [
    "candidate_counts = df['candidate'].value_counts()\n",
    "del candidate_counts['No candidate mentioned']\n",
    "\n",
    "temp_df = pd.DataFrame(list(candidate_counts.items()), columns=['candidates', 'counts'])\n",
    "ax = sns.barplot(y=\"candidates\", x=\"counts\", data=temp_df, saturation=.5)"
   ]
  },
  {
   "cell_type": "markdown",
   "id": "e6a37a7a",
   "metadata": {},
   "source": [
    "## Moslty Discussd Subjects in Tweets"
   ]
  },
  {
   "cell_type": "code",
   "execution_count": 9,
   "id": "9b5a70af",
   "metadata": {},
   "outputs": [
    {
     "data": {
      "image/png": "[encoded data removed]",
      "text/plain": [
       "<Figure size 432x288 with 1 Axes>"
      ]
     },
     "metadata": {
      "needs_background": "light"
     },
     "output_type": "display_data"
    }
   ],
   "source": [
    "subject_counts = df['subject_matter'].value_counts()\n",
    "del subject_counts['None of the above']\n",
    "\n",
    "temp_df = pd.DataFrame(list(subject_counts.items()), columns=['subject', 'counts'])\n",
    "ax = sns.barplot(y=\"subject\", x=\"counts\", data=temp_df, saturation=.5)"
   ]
  },
  {
   "cell_type": "markdown",
   "id": "17204410",
   "metadata": {},
   "source": [
    "## Tweets Source Analysis"
   ]
  },
  {
   "cell_type": "code",
   "execution_count": 10,
   "id": "216b94b5",
   "metadata": {},
   "outputs": [
    {
     "data": {
      "image/png": "[encoded data removed]",
      "text/plain": [
       "<Figure size 432x288 with 1 Axes>"
      ]
     },
     "metadata": {},
     "output_type": "display_data"
    }
   ],
   "source": [
    "location_counts = df['tweet_location'].value_counts(dropna=True)\n",
    "location_counts = location_counts[:10]\n",
    "\n",
    "values = list(location_counts.values)\n",
    "mylabels = list(location_counts.keys())\n",
    "\n",
    "plt.pie(values, labels = mylabels, autopct='%1.1f%%')\n",
    "# plt.legend()\n",
    "plt.show() "
   ]
  },
  {
   "cell_type": "markdown",
   "id": "fdc04059",
   "metadata": {},
   "source": [
    "## Most Freuqntly Words Analysis"
   ]
  },
  {
   "cell_type": "code",
   "execution_count": 11,
   "id": "11419559",
   "metadata": {},
   "outputs": [
    {
     "data": {
      "text/plain": [
       "<AxesSubplot:>"
      ]
     },
     "execution_count": 11,
     "metadata": {},
     "output_type": "execute_result"
    },
    {
     "data": {
      "image/png": "[encoded data removed]",
      "text/plain": [
       "<Figure size 432x288 with 1 Axes>"
      ]
     },
     "metadata": {
      "needs_background": "light"
     },
     "output_type": "display_data"
    }
   ],
   "source": [
    "taxfreq = pd.Series(' '.join(df['Text_Data']).split()).value_counts()[:10]\n",
    "taxfreq.plot(kind='bar')"
   ]
  },
  {
   "cell_type": "markdown",
   "id": "204bd632",
   "metadata": {},
   "source": [
    "## Sentiment Class Counts"
   ]
  },
  {
   "cell_type": "code",
   "execution_count": 12,
   "id": "1f34a1cf",
   "metadata": {},
   "outputs": [
    {
     "name": "stdout",
     "output_type": "stream",
     "text": [
      "\n",
      "Nummber of classes in dataset: 3\n",
      "================================\n",
      "\n",
      "Name of the classes\n",
      "===================\n",
      "\n",
      "['Neutral', 'Positive', 'Negative'] \n",
      "\n"
     ]
    }
   ],
   "source": [
    "classes = list(df.sentiment.unique())\n",
    "possible_labels = df.sentiment.unique()\n",
    "\n",
    "print(\"\\nNummber of classes in dataset: {}\".format(len(classes)))\n",
    "print(\"==============================={}\".format(count_digit(len(classes))*'='))\n",
    "print(\"\\nName of the classes\")\n",
    "print(\"===================\\n\")\n",
    "print(classes,\"\\n\")"
   ]
  },
  {
   "cell_type": "code",
   "execution_count": 13,
   "id": "d48e4348",
   "metadata": {},
   "outputs": [
    {
     "name": "stdout",
     "output_type": "stream",
     "text": [
      "\n",
      "classes counts\n",
      "==============\n",
      "\n",
      "Negative    8493\n",
      "Neutral     3142\n",
      "Positive    2236\n",
      "Name: sentiment, dtype: int64\n"
     ]
    }
   ],
   "source": [
    "classes_counts = df.sentiment.value_counts()\n",
    "\n",
    "print(\"\\nclasses counts\")\n",
    "print(\"==============\\n\")\n",
    "print(classes_counts)"
   ]
  },
  {
   "cell_type": "code",
   "execution_count": 14,
   "id": "77785ae7",
   "metadata": {},
   "outputs": [
    {
     "data": {
      "image/png": "[encoded data removed]",
      "text/plain": [
       "<Figure size 432x288 with 1 Axes>"
      ]
     },
     "metadata": {},
     "output_type": "display_data"
    }
   ],
   "source": [
    "values = np.array(classes_counts)\n",
    "mylabels = list(classes_counts.index)\n",
    "\n",
    "plt.pie(values, labels = mylabels)\n",
    "plt.legend()\n",
    "plt.show() "
   ]
  },
  {
   "cell_type": "code",
   "execution_count": 15,
   "id": "845ec0e2",
   "metadata": {},
   "outputs": [
    {
     "data": {
      "image/png": "[encoded data removed]",
      "text/plain": [
       "<Figure size 720x360 with 1 Axes>"
      ]
     },
     "metadata": {
      "needs_background": "light"
     },
     "output_type": "display_data"
    }
   ],
   "source": [
    "# creating the bar plot\n",
    "fig = plt.figure(figsize = (10, 5))\n",
    "plt.bar(mylabels, values, color ='maroon', width=0.3)\n",
    "plt.xlabel(\"CLASSES\")\n",
    "plt.ylabel(\"No. of Tweets\")\n",
    "plt.title(\"Sentiment analysis\")\n",
    "plt.show()"
   ]
  },
  {
   "cell_type": "markdown",
   "id": "c2600bb0",
   "metadata": {},
   "source": [
    "# Machine Learning\n",
    "## Extract Relevent Features"
   ]
  },
  {
   "cell_type": "code",
   "execution_count": 16,
   "id": "a2aa7b33",
   "metadata": {},
   "outputs": [
    {
     "name": "stdout",
     "output_type": "stream",
     "text": [
      "\n",
      "Number or rows in dataset: 13871\n",
      "================================\n",
      "\n",
      "Number or columns in dataset: 2\n",
      "===============================\n"
     ]
    }
   ],
   "source": [
    "df = df[['Text_Data', 'sentiment']]\n",
    "check_shape(df)"
   ]
  },
  {
   "cell_type": "markdown",
   "id": "f3c0a94d",
   "metadata": {},
   "source": [
    "## Label Encoding"
   ]
  },
  {
   "cell_type": "code",
   "execution_count": 17,
   "id": "caac7e50",
   "metadata": {},
   "outputs": [
    {
     "name": "stdout",
     "output_type": "stream",
     "text": [
      "{'Neutral': 0, 'Positive': 1, 'Negative': 2}\n"
     ]
    },
    {
     "data": {
      "text/html": [
       "<div>\n",
       "<style scoped>\n",
       "    .dataframe tbody tr th:only-of-type {\n",
       "        vertical-align: middle;\n",
       "    }\n",
       "\n",
       "    .dataframe tbody tr th {\n",
       "        vertical-align: top;\n",
       "    }\n",
       "\n",
       "    .dataframe thead th {\n",
       "        text-align: right;\n",
       "    }\n",
       "</style>\n",
       "<table border=\"1\" class=\"dataframe\">\n",
       "  <thead>\n",
       "    <tr style=\"text-align: right;\">\n",
       "      <th></th>\n",
       "      <th>Text_Data</th>\n",
       "      <th>sentiment</th>\n",
       "      <th>label</th>\n",
       "    </tr>\n",
       "  </thead>\n",
       "  <tbody>\n",
       "    <tr>\n",
       "      <th>0</th>\n",
       "      <td>rt nancyleegrahn everyone feel climate change ...</td>\n",
       "      <td>Neutral</td>\n",
       "      <td>0</td>\n",
       "    </tr>\n",
       "    <tr>\n",
       "      <th>1</th>\n",
       "      <td>rt scottwalker didnt catch full gopdebate last...</td>\n",
       "      <td>Positive</td>\n",
       "      <td>1</td>\n",
       "    </tr>\n",
       "    <tr>\n",
       "      <th>2</th>\n",
       "      <td>rt tjmshow mention tamir rice gopdebate held c...</td>\n",
       "      <td>Neutral</td>\n",
       "      <td>0</td>\n",
       "    </tr>\n",
       "    <tr>\n",
       "      <th>3</th>\n",
       "      <td>rt robgeorge carly fiorina trending hours deba...</td>\n",
       "      <td>Positive</td>\n",
       "      <td>1</td>\n",
       "    </tr>\n",
       "    <tr>\n",
       "      <th>4</th>\n",
       "      <td>rt danscavino gopdebate w realdonaldtrump deli...</td>\n",
       "      <td>Positive</td>\n",
       "      <td>1</td>\n",
       "    </tr>\n",
       "  </tbody>\n",
       "</table>\n",
       "</div>"
      ],
      "text/plain": [
       "                                           Text_Data sentiment  label\n",
       "0  rt nancyleegrahn everyone feel climate change ...   Neutral      0\n",
       "1  rt scottwalker didnt catch full gopdebate last...  Positive      1\n",
       "2  rt tjmshow mention tamir rice gopdebate held c...   Neutral      0\n",
       "3  rt robgeorge carly fiorina trending hours deba...  Positive      1\n",
       "4  rt danscavino gopdebate w realdonaldtrump deli...  Positive      1"
      ]
     },
     "execution_count": 17,
     "metadata": {},
     "output_type": "execute_result"
    }
   ],
   "source": [
    "label_dict = {}\n",
    "possible_labels = df.sentiment.unique()\n",
    "\n",
    "for index, possible_label in enumerate(possible_labels):\n",
    "    label_dict[possible_label]= index\n",
    "\n",
    "df['label'] = df.sentiment.replace(label_dict)\n",
    "print(label_dict)\n",
    "df.head()"
   ]
  },
  {
   "cell_type": "markdown",
   "id": "86589f52",
   "metadata": {},
   "source": [
    "## Feature Extraction (Count Vectorizer)"
   ]
  },
  {
   "cell_type": "code",
   "execution_count": 18,
   "id": "dac57014",
   "metadata": {},
   "outputs": [],
   "source": [
    "from sklearn.feature_extraction.text import TfidfVectorizer\n",
    "from tensorflow.keras.preprocessing.text import Tokenizer\n",
    "from tensorflow.keras.preprocessing.sequence import pad_sequences\n",
    "\n",
    "max_fatures = 2000\n",
    "tokenizer = Tokenizer(num_words=max_fatures, split=' ')\n",
    "tokenizer.fit_on_texts(df['Text_Data'].values)\n",
    "X = tokenizer.texts_to_sequences(df['Text_Data'].values)\n",
    "X = pad_sequences(X)\n",
    "\n",
    "# cv = CountVectorizer(ngram_range=(1,2))\n",
    "# X = cv.fit_transform(df['Text_Data'])\n",
    "# vectorizer = TfidfVectorizer(max_features=100)\n",
    "# X = vectorizer.fit_transform(df['Text_Data'])\n",
    "\n",
    "y = df['label']"
   ]
  },
  {
   "cell_type": "markdown",
   "id": "c23a95c4",
   "metadata": {},
   "source": [
    "## Train Test Split"
   ]
  },
  {
   "cell_type": "code",
   "execution_count": 19,
   "id": "9a8400bb",
   "metadata": {},
   "outputs": [
    {
     "name": "stdout",
     "output_type": "stream",
     "text": [
      "\n",
      "Number or rows in dataset: 9709\n",
      "===============================\n",
      "\n",
      "Number or columns in dataset: 22\n",
      "================================\n",
      "\n",
      "Number or rows in dataset: 4162\n",
      "===============================\n",
      "\n",
      "Number or columns in dataset: 22\n",
      "================================\n"
     ]
    }
   ],
   "source": [
    "X_train,X_test,y_train,y_test = train_test_split(X,y,test_size=0.3,random_state=123)\n",
    "\n",
    "check_shape(X_train)\n",
    "check_shape(X_test)"
   ]
  },
  {
   "cell_type": "code",
   "execution_count": 20,
   "id": "bc92dd20",
   "metadata": {},
   "outputs": [],
   "source": [
    "collect_results_of_all_model= {\n",
    "    'Metrics':['accuracy','precision','recall','f1-score']\n",
    "}#dic form store results of all models"
   ]
  },
  {
   "cell_type": "markdown",
   "id": "bd1e9181",
   "metadata": {},
   "source": [
    "## SVC Model"
   ]
  },
  {
   "cell_type": "code",
   "execution_count": 21,
   "id": "9391ea0b",
   "metadata": {},
   "outputs": [],
   "source": [
    "from sklearn.svm import SVC\n",
    "\n",
    "SVC_classifier = SVC(max_iter=200)\n",
    "SVC_classifier.fit(X_train,y_train)\n",
    "\n",
    "preds = SVC_classifier.predict(X_test)"
   ]
  },
  {
   "cell_type": "markdown",
   "id": "51d62a64",
   "metadata": {},
   "source": [
    "### Results"
   ]
  },
  {
   "cell_type": "code",
   "execution_count": 22,
   "id": "b89cb84b",
   "metadata": {},
   "outputs": [
    {
     "name": "stdout",
     "output_type": "stream",
     "text": [
      "========== SVC ==========\n",
      "\n",
      "Accuracy on validation set: 0.3681\n",
      "\n",
      "Classification report : \n",
      "               precision    recall  f1-score   support\n",
      "\n",
      "     Neutral       0.20      0.43      0.28       937\n",
      "    Positive       0.17      0.09      0.12       653\n",
      "    Negative       0.59      0.41      0.49      2572\n",
      "\n",
      "    accuracy                           0.37      4162\n",
      "   macro avg       0.32      0.31      0.29      4162\n",
      "weighted avg       0.44      0.37      0.38      4162\n",
      "\n",
      "\n",
      "Confusion Matrix : \n",
      " [[ 406   79  452]\n",
      " [ 297   61  295]\n",
      " [1292  215 1065]]\n"
     ]
    },
    {
     "data": {
      "image/png": "[encoded data removed]",
      "text/plain": [
       "<Figure size 432x288 with 2 Axes>"
      ]
     },
     "metadata": {
      "needs_background": "light"
     },
     "output_type": "display_data"
    }
   ],
   "source": [
    "SVC_res=modelEvaluation(preds, y_test, 'SVC', classes)\n",
    "collect_results_of_all_model[\"SVC\"] = SVC_res"
   ]
  },
  {
   "cell_type": "markdown",
   "id": "2adf34eb",
   "metadata": {},
   "source": [
    "## Random Forest"
   ]
  },
  {
   "cell_type": "code",
   "execution_count": 23,
   "id": "0781834c",
   "metadata": {},
   "outputs": [],
   "source": [
    "from sklearn.ensemble import RandomForestClassifier\n",
    "\n",
    "RF = RandomForestClassifier()\n",
    "RF_model=RF.fit(X_train,y_train)\n",
    "\n",
    "preds_RF = RF.predict(X_test)"
   ]
  },
  {
   "cell_type": "markdown",
   "id": "8b91f66f",
   "metadata": {},
   "source": [
    "### Results"
   ]
  },
  {
   "cell_type": "code",
   "execution_count": 24,
   "id": "bec3be23",
   "metadata": {},
   "outputs": [
    {
     "name": "stdout",
     "output_type": "stream",
     "text": [
      "========== RF_CLassifier ==========\n",
      "\n",
      "Accuracy on validation set: 0.6430\n",
      "\n",
      "Classification report : \n",
      "               precision    recall  f1-score   support\n",
      "\n",
      "     Neutral       0.45      0.21      0.28       937\n",
      "    Positive       0.61      0.23      0.33       653\n",
      "    Negative       0.67      0.91      0.77      2572\n",
      "\n",
      "    accuracy                           0.64      4162\n",
      "   macro avg       0.57      0.45      0.46      4162\n",
      "weighted avg       0.61      0.64      0.59      4162\n",
      "\n",
      "\n",
      "Confusion Matrix : \n",
      " [[ 193   48  696]\n",
      " [  49  150  454]\n",
      " [ 190   49 2333]]\n"
     ]
    },
    {
     "data": {
      "image/png": "[encoded data removed]",
      "text/plain": [
       "<Figure size 432x288 with 2 Axes>"
      ]
     },
     "metadata": {
      "needs_background": "light"
     },
     "output_type": "display_data"
    }
   ],
   "source": [
    "RF_res=modelEvaluation(preds_RF, y_test, 'RF_CLassifier', classes)\n",
    "collect_results_of_all_model[\"RF_CLassifier\"] = RF_res"
   ]
  },
  {
   "cell_type": "markdown",
   "id": "c25d6347",
   "metadata": {},
   "source": [
    "## KNN "
   ]
  },
  {
   "cell_type": "code",
   "execution_count": 25,
   "id": "7cfdc7ac",
   "metadata": {},
   "outputs": [],
   "source": [
    "from sklearn.neighbors import KNeighborsClassifier\n",
    "\n",
    "neighbors_clf = KNeighborsClassifier(n_neighbors=5,)\n",
    "neighbors_clf.fit(X_train,y_train)\n",
    "\n",
    "KNN_preds = neighbors_clf.predict(X_test)"
   ]
  },
  {
   "cell_type": "markdown",
   "id": "606c1ed0",
   "metadata": {},
   "source": [
    "### Results"
   ]
  },
  {
   "cell_type": "code",
   "execution_count": 26,
   "id": "62600aca",
   "metadata": {},
   "outputs": [
    {
     "name": "stdout",
     "output_type": "stream",
     "text": [
      "========== KNN_test ==========\n",
      "\n",
      "Accuracy on validation set: 0.5632\n",
      "\n",
      "Classification report : \n",
      "               precision    recall  f1-score   support\n",
      "\n",
      "     Neutral       0.31      0.30      0.31       937\n",
      "    Positive       0.35      0.23      0.28       653\n",
      "    Negative       0.68      0.74      0.71      2572\n",
      "\n",
      "    accuracy                           0.56      4162\n",
      "   macro avg       0.45      0.43      0.43      4162\n",
      "weighted avg       0.54      0.56      0.55      4162\n",
      "\n",
      "\n",
      "Confusion Matrix : \n",
      " [[ 285  104  548]\n",
      " [ 151  153  349]\n",
      " [ 485  181 1906]]\n"
     ]
    },
    {
     "data": {
      "image/png": "[encoded data removed]",
      "text/plain": [
       "<Figure size 432x288 with 2 Axes>"
      ]
     },
     "metadata": {
      "needs_background": "light"
     },
     "output_type": "display_data"
    }
   ],
   "source": [
    "KNN_res=modelEvaluation(KNN_preds,y_test,'KNN_test',classes)\n",
    "collect_results_of_all_model[\"KNN\"] = KNN_res"
   ]
  },
  {
   "cell_type": "markdown",
   "id": "02ff0ca4",
   "metadata": {},
   "source": [
    "## Customize NN Model"
   ]
  },
  {
   "cell_type": "code",
   "execution_count": 27,
   "id": "9acd888d",
   "metadata": {},
   "outputs": [],
   "source": [
    "X_train, X_val, y_train, y_val = train_test_split(X_train, y_train, test_size=0.20, random_state=2)"
   ]
  },
  {
   "cell_type": "code",
   "execution_count": 28,
   "id": "cba0bd0c",
   "metadata": {},
   "outputs": [],
   "source": [
    "y_train1 = to_categorical(y_train,num_classes=3)\n",
    "y_test1 = to_categorical(y_test,num_classes=3)\n",
    "y_val1 = to_categorical(y_val,num_classes=3)"
   ]
  },
  {
   "cell_type": "code",
   "execution_count": 29,
   "id": "b3b99f0a",
   "metadata": {},
   "outputs": [
    {
     "name": "stdout",
     "output_type": "stream",
     "text": [
      "Model: \"sequential\"\n",
      "_________________________________________________________________\n",
      "Layer (type)                 Output Shape              Param #   \n",
      "=================================================================\n",
      "embedding (Embedding)        (None, 22, 128)           256000    \n",
      "_________________________________________________________________\n",
      "spatial_dropout1d (SpatialDr (None, 22, 128)           0         \n",
      "_________________________________________________________________\n",
      "lstm (LSTM)                  (None, 196)               254800    \n",
      "_________________________________________________________________\n",
      "dense (Dense)                (None, 3)                 591       \n",
      "=================================================================\n",
      "Total params: 511,391\n",
      "Trainable params: 511,391\n",
      "Non-trainable params: 0\n",
      "_________________________________________________________________\n",
      "None\n"
     ]
    }
   ],
   "source": [
    "embed_dim = 128\n",
    "lstm_out = 196\n",
    "\n",
    "model = Sequential()\n",
    "model.add(Embedding(max_fatures, embed_dim,input_length = X.shape[1]))\n",
    "model.add(SpatialDropout1D(0.4))\n",
    "model.add(LSTM(lstm_out, dropout=0.2, recurrent_dropout=0.2))\n",
    "model.add(Dense(3,activation='softmax'))\n",
    "model.compile(loss = 'categorical_crossentropy', optimizer='adam',metrics = ['accuracy'])\n",
    "print(model.summary())"
   ]
  },
  {
   "cell_type": "code",
   "execution_count": null,
   "id": "41b47d42",
   "metadata": {},
   "outputs": [
    {
     "name": "stdout",
     "output_type": "stream",
     "text": [
      "Epoch 1/15\n",
      "243/243 [==============================] - 17s 68ms/step - loss: 0.8496 - accuracy: 0.6306 - val_loss: 0.7587 - val_accuracy: 0.6668\n",
      "Epoch 2/15\n",
      "110/243 [============>.................] - ETA: 7s - loss: 0.7038 - accuracy: 0.7071"
     ]
    }
   ],
   "source": [
    "batch_size = 32\n",
    "model.fit(X_train, y_train1, validation_data=(X_val, y_val1), epochs = 15, batch_size=batch_size, verbose = 1)"
   ]
  },
  {
   "cell_type": "code",
   "execution_count": null,
   "id": "365dc7e9",
   "metadata": {},
   "outputs": [],
   "source": [
    "# # deep learning model initialization\n",
    "# model = tf.keras.models.Sequential()  \n",
    "# model.add(Dense(2048,input_dim=100,activation='relu'))\n",
    "# model.add(Dense(1024, activation='relu'))\n",
    "# model.add(Dense(512,activation='relu'))\n",
    "# # model.add(Dense(256,activation='relu'))\n",
    "# # model.add(Dense(128,activation='relu'))\n",
    "# # model.add(Dense(64, activation='relu'))\n",
    "# # model.add(Dense(32,activation='relu'))\n",
    "# # model.add(Dense(16,activation='relu'))\n",
    "# # model.add(Dropout(0.1))\n",
    "# model.add(Dense(3,activation='softmax'))\n",
    "\n",
    "# model.compile(loss='categorical_crossentropy',optimizer='adam',metrics=['accuracy'])"
   ]
  },
  {
   "cell_type": "code",
   "execution_count": null,
   "id": "46cdf76f",
   "metadata": {},
   "outputs": [],
   "source": [
    "# # congigure early stopping teachnique\n",
    "# callback = tf.keras.callbacks.EarlyStopping(monitor='accuracy', patience=10, min_delta=.001, verbose=True, mode='max')\n",
    "# # fit model\n",
    "# history = model.fit(X_train,y_train1,validation_data=(X_val,y_val1), batch_size=100,epochs=50,verbose=1, callbacks=[callback])"
   ]
  },
  {
   "cell_type": "code",
   "execution_count": null,
   "id": "d94fb1e2",
   "metadata": {},
   "outputs": [],
   "source": [
    "# make prediction using trained model\n",
    "predictions = model.predict(X_test)\n",
    "# calculate accuracy and other evaluation measures\n",
    "y_pred = [np.argmax(prediction) for prediction in predictions]"
   ]
  },
  {
   "cell_type": "code",
   "execution_count": null,
   "id": "d05eea92",
   "metadata": {},
   "outputs": [],
   "source": [
    "NN_res=modelEvaluation(y_pred, y_test,'NN_test',classes)\n",
    "collect_results_of_all_model[\"NN\"] = NN_res"
   ]
  },
  {
   "cell_type": "markdown",
   "id": "b084283f",
   "metadata": {},
   "source": [
    "# Results Comparison\n",
    "## Comparison Table"
   ]
  },
  {
   "cell_type": "code",
   "execution_count": null,
   "id": "40573891",
   "metadata": {},
   "outputs": [],
   "source": [
    "from tabulate import tabulate \n",
    "metrics_data_frame = pd.DataFrame(collect_results_of_all_model)#create dataframe\n",
    "metrics_data_frame = metrics_data_frame.set_index('Metrics')#set index\n",
    "# displaying the DataFrame\n",
    "print(tabulate(metrics_data_frame, headers = 'keys', tablefmt = 'psql'))#convert results in to table"
   ]
  },
  {
   "cell_type": "code",
   "execution_count": null,
   "id": "900fa5f1",
   "metadata": {},
   "outputs": [],
   "source": [
    "metrics_data_frame.plot(kind='bar', figsize=(20,10))#sho comparison base of mertics\n",
    "plt.show()"
   ]
  },
  {
   "cell_type": "code",
   "execution_count": null,
   "id": "a5bfea7d",
   "metadata": {},
   "outputs": [],
   "source": []
  }
 ],
 "metadata": {
  "kernelspec": {
   "display_name": "Python 3 (ipykernel)",
   "language": "python",
   "name": "python3"
  },
  "language_info": {
   "codemirror_mode": {
    "name": "ipython",
    "version": 3
   },
   "file_extension": ".py",
   "mimetype": "text/x-python",
   "name": "python",
   "nbconvert_exporter": "python",
   "pygments_lexer": "ipython3",
   "version": "3.7.11"
  }
 },
 "nbformat": 4,
 "nbformat_minor": 5
}
