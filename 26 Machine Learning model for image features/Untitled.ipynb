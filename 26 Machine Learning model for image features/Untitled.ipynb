{
 "cells": [
  {
   "cell_type": "code",
   "execution_count": 1,
   "id": "77706bd7",
   "metadata": {},
   "outputs": [],
   "source": [
    "import numpy as np\n",
    "import pandas as pd\n",
    "# import seaborn as sns\n",
    "\n",
    "# sklearn package\n",
    "from sklearn.model_selection import train_test_split\n",
    "from sklearn.ensemble import RandomForestClassifier\n",
    "from sklearn.inspection import permutation_importance\n",
    "from sklearn.metrics import confusion_matrix, classification_report\n",
    "from sklearn.metrics import accuracy_score, precision_score, recall_score, f1_score\n",
    "\n",
    "from matplotlib import pyplot as plt\n",
    "from ipynb.fs.full.utils import check_shape, printmd, modelEvaluation"
   ]
  },
  {
   "cell_type": "markdown",
   "id": "679f2954",
   "metadata": {},
   "source": [
    "## Read CSV"
   ]
  },
  {
   "cell_type": "code",
   "execution_count": 2,
   "id": "1eeebed4",
   "metadata": {},
   "outputs": [],
   "source": [
    "# read training file 1\n",
    "training1 = pd.read_csv(\"data/training1.csv\")\n",
    "\n",
    "# read training file 2\n",
    "training2 = pd.read_csv(\"data/training2.csv\")\n",
    "\n",
    "# read testing file\n",
    "X_test = pd.read_csv('data/test.csv')\n",
    "\n",
    "# read testing labels\n",
    "y_test = pd.read_csv('data/sample_valid_predictions.csv')"
   ]
  },
  {
   "cell_type": "markdown",
   "id": "60303d8d",
   "metadata": {},
   "source": [
    "# Overview of Datasets\n",
    "## check dimensions"
   ]
  },
  {
   "cell_type": "code",
   "execution_count": 20,
   "id": "66aaf1f7",
   "metadata": {},
   "outputs": [
    {
     "data": {
      "text/markdown": [
       "<span style='color:blue'>**Training Set 1:**</span>"
      ],
      "text/plain": [
       "<IPython.core.display.Markdown object>"
      ]
     },
     "metadata": {},
     "output_type": "display_data"
    },
    {
     "name": "stdout",
     "output_type": "stream",
     "text": [
      "\n",
      "Number or rows in dataset: 600\n",
      "==============================\n",
      "\n",
      "Number or columns in dataset: 4610\n",
      "==================================\n"
     ]
    },
    {
     "data": {
      "text/markdown": [
       "<span style='color:blue'>**Training Set 2:**</span>"
      ],
      "text/plain": [
       "<IPython.core.display.Markdown object>"
      ]
     },
     "metadata": {},
     "output_type": "display_data"
    },
    {
     "name": "stdout",
     "output_type": "stream",
     "text": [
      "\n",
      "Number or rows in dataset: 2800\n",
      "===============================\n",
      "\n",
      "Number or columns in dataset: 4610\n",
      "==================================\n"
     ]
    },
    {
     "data": {
      "text/markdown": [
       "<span style='color:blue'>**Test Features:**</span>"
      ],
      "text/plain": [
       "<IPython.core.display.Markdown object>"
      ]
     },
     "metadata": {},
     "output_type": "display_data"
    },
    {
     "name": "stdout",
     "output_type": "stream",
     "text": [
      "\n",
      "Number or rows in dataset: 2000\n",
      "===============================\n",
      "\n",
      "Number or columns in dataset: 4608\n",
      "==================================\n"
     ]
    },
    {
     "data": {
      "text/markdown": [
       "<span style='color:blue'>**Test Labels:**</span>"
      ],
      "text/plain": [
       "<IPython.core.display.Markdown object>"
      ]
     },
     "metadata": {},
     "output_type": "display_data"
    },
    {
     "name": "stdout",
     "output_type": "stream",
     "text": [
      "\n",
      "Number or rows in dataset: 2000\n",
      "===============================\n",
      "\n",
      "Number or columns in dataset: 1\n",
      "===============================\n"
     ]
    }
   ],
   "source": [
    "# print shape of training and testing datasets\n",
    "printmd(\"**Training Set 1:**\", color='blue')\n",
    "check_shape(training1)\n",
    "printmd(\"**Training Set 2:**\", color='blue')\n",
    "check_shape(training2)\n",
    "printmd(\"**Test Features:**\", color='blue')\n",
    "check_shape(X_test)\n",
    "printmd(\"**Test Labels:**\", color='blue')\n",
    "check_shape(y_test)"
   ]
  },
  {
   "cell_type": "markdown",
   "id": "4f107d73",
   "metadata": {},
   "source": [
    "## Count NAN in each Column"
   ]
  },
  {
   "cell_type": "code",
   "execution_count": 21,
   "id": "5ae965e0",
   "metadata": {},
   "outputs": [
    {
     "data": {
      "text/markdown": [
       "<span style='color:blue'>**Training Set 1:**</span>"
      ],
      "text/plain": [
       "<IPython.core.display.Markdown object>"
      ]
     },
     "metadata": {},
     "output_type": "display_data"
    },
    {
     "name": "stdout",
     "output_type": "stream",
     "text": [
      "CNNs          0\n",
      "CNNs.1        0\n",
      "CNNs.2        0\n",
      "CNNs.3        0\n",
      "CNNs.4        0\n",
      "             ..\n",
      "GIST.509      0\n",
      "GIST.510      0\n",
      "GIST.511      0\n",
      "label         0\n",
      "confidence    0\n",
      "Length: 4610, dtype: int64\n"
     ]
    },
    {
     "data": {
      "text/markdown": [
       "<span style='color:blue'>**Training Set 2:**</span>"
      ],
      "text/plain": [
       "<IPython.core.display.Markdown object>"
      ]
     },
     "metadata": {},
     "output_type": "display_data"
    },
    {
     "name": "stdout",
     "output_type": "stream",
     "text": [
      "CNNs          0\n",
      "CNNs.1        0\n",
      "CNNs.2        0\n",
      "CNNs.3        0\n",
      "CNNs.4        0\n",
      "             ..\n",
      "GIST.509      0\n",
      "GIST.510      0\n",
      "GIST.511      0\n",
      "label         0\n",
      "confidence    0\n",
      "Length: 4610, dtype: int64\n"
     ]
    },
    {
     "data": {
      "text/markdown": [
       "<span style='color:blue'>**Test Features:**</span>"
      ],
      "text/plain": [
       "<IPython.core.display.Markdown object>"
      ]
     },
     "metadata": {},
     "output_type": "display_data"
    },
    {
     "name": "stdout",
     "output_type": "stream",
     "text": [
      "CNNs        0\n",
      "CNNs.1      0\n",
      "CNNs.2      0\n",
      "CNNs.3      0\n",
      "CNNs.4      0\n",
      "           ..\n",
      "GIST.507    0\n",
      "GIST.508    0\n",
      "GIST.509    0\n",
      "GIST.510    0\n",
      "GIST.511    0\n",
      "Length: 4608, dtype: int64\n"
     ]
    }
   ],
   "source": [
    "# count NAN values in training set 1 \n",
    "printmd(\"**Training Set 1:**\", color='blue')\n",
    "print(training1.isna().sum())\n",
    "# count NAN values in training set 2\n",
    "printmd(\"**Training Set 2:**\", color='blue')\n",
    "print(training2.isna().sum())\n",
    "# count NAN values in testing set \n",
    "printmd(\"**Test Features:**\", color='blue')\n",
    "print(X_test.isna().sum())"
   ]
  },
  {
   "cell_type": "markdown",
   "id": "58b97f82",
   "metadata": {},
   "source": [
    "# Preprocessing\n",
    "## Remove NAN Values"
   ]
  },
  {
   "cell_type": "code",
   "execution_count": 5,
   "id": "37fb5632",
   "metadata": {},
   "outputs": [
    {
     "data": {
      "text/markdown": [
       "<span style='color:blue'>**Training Set 1:**</span>"
      ],
      "text/plain": [
       "<IPython.core.display.Markdown object>"
      ]
     },
     "metadata": {},
     "output_type": "display_data"
    },
    {
     "name": "stdout",
     "output_type": "stream",
     "text": [
      "CNNs          0\n",
      "CNNs.1        0\n",
      "CNNs.2        0\n",
      "CNNs.3        0\n",
      "CNNs.4        0\n",
      "             ..\n",
      "GIST.509      0\n",
      "GIST.510      0\n",
      "GIST.511      0\n",
      "label         0\n",
      "confidence    0\n",
      "Length: 4610, dtype: int64\n"
     ]
    },
    {
     "data": {
      "text/markdown": [
       "<span style='color:blue'>**Training Set 2:**</span>"
      ],
      "text/plain": [
       "<IPython.core.display.Markdown object>"
      ]
     },
     "metadata": {},
     "output_type": "display_data"
    },
    {
     "name": "stdout",
     "output_type": "stream",
     "text": [
      "CNNs          0\n",
      "CNNs.1        0\n",
      "CNNs.2        0\n",
      "CNNs.3        0\n",
      "CNNs.4        0\n",
      "             ..\n",
      "GIST.509      0\n",
      "GIST.510      0\n",
      "GIST.511      0\n",
      "label         0\n",
      "confidence    0\n",
      "Length: 4610, dtype: int64\n"
     ]
    },
    {
     "data": {
      "text/markdown": [
       "<span style='color:blue'>**Test Features:**</span>"
      ],
      "text/plain": [
       "<IPython.core.display.Markdown object>"
      ]
     },
     "metadata": {},
     "output_type": "display_data"
    },
    {
     "name": "stdout",
     "output_type": "stream",
     "text": [
      "CNNs        0\n",
      "CNNs.1      0\n",
      "CNNs.2      0\n",
      "CNNs.3      0\n",
      "CNNs.4      0\n",
      "           ..\n",
      "GIST.507    0\n",
      "GIST.508    0\n",
      "GIST.509    0\n",
      "GIST.510    0\n",
      "GIST.511    0\n",
      "Length: 4608, dtype: int64\n"
     ]
    }
   ],
   "source": [
    "# Replace NAN value by mean value of that row\n",
    "training1 = training1.apply(lambda row: row.fillna(row.mean()), axis=1)\n",
    "training2 = training2.apply(lambda row: row.fillna(row.mean()), axis=1)\n",
    "X_test = X_test.apply(lambda row: row.fillna(row.mean()), axis=1)\n",
    "\n",
    "# print shape of training and testing datasets\n",
    "printmd(\"**Training Set 1:**\", color='blue')\n",
    "print(training1.isna().sum())\n",
    "printmd(\"**Training Set 2:**\", color='blue')\n",
    "print(training2.isna().sum())\n",
    "printmd(\"**Test Features:**\", color='blue')\n",
    "print(X_test.isna().sum())"
   ]
  },
  {
   "cell_type": "markdown",
   "id": "fe559920",
   "metadata": {},
   "source": [
    "## Merge Training Sets"
   ]
  },
  {
   "cell_type": "code",
   "execution_count": 6,
   "id": "5fc10dea",
   "metadata": {},
   "outputs": [
    {
     "data": {
      "text/markdown": [
       "<span style='color:blue'>**Training Set:**</span>"
      ],
      "text/plain": [
       "<IPython.core.display.Markdown object>"
      ]
     },
     "metadata": {},
     "output_type": "display_data"
    },
    {
     "name": "stdout",
     "output_type": "stream",
     "text": [
      "\n",
      "Number or rows in dataset: 3400\n",
      "===============================\n",
      "\n",
      "Number or columns in dataset: 4610\n",
      "==================================\n"
     ]
    }
   ],
   "source": [
    "# merge training set 1 and training set 2\n",
    "df = pd.concat([training1, training2], axis=0)\n",
    "\n",
    "# ccheck shape of final training set after concatination\n",
    "printmd(\"**Training Set:**\", color='blue')\n",
    "check_shape(df)"
   ]
  },
  {
   "cell_type": "markdown",
   "id": "70fb2d6d",
   "metadata": {},
   "source": [
    "## Split training features and labels"
   ]
  },
  {
   "cell_type": "code",
   "execution_count": 7,
   "id": "96a015a3",
   "metadata": {},
   "outputs": [],
   "source": [
    "# split featres and labels of training set\n",
    "X = df.iloc[:,:-2]\n",
    "y = df.iloc[:,-2]"
   ]
  },
  {
   "cell_type": "markdown",
   "id": "87c714ed",
   "metadata": {},
   "source": [
    "# Feature Selection"
   ]
  },
  {
   "cell_type": "code",
   "execution_count": 8,
   "id": "4ff9f08c",
   "metadata": {},
   "outputs": [],
   "source": [
    "# extract feature importance using random forest\n",
    "def RF_feature_selection(X, y, imp_features):\n",
    "    model = RandomForestClassifier()\n",
    "    # fit the model\n",
    "    model.fit(X, y)\n",
    "    \n",
    "    sorted_idx = model.feature_importances_.argsort()[-imp_features:]\n",
    "#     plt.barh(df.columns[sorted_idx], model.feature_importances_[sorted_idx])\n",
    "#     plt.xlabel(\"Random Forest Feature Importance\")\n",
    "    return sorted_idx"
   ]
  },
  {
   "cell_type": "markdown",
   "id": "f7f56472",
   "metadata": {},
   "source": [
    "# Model Training"
   ]
  },
  {
   "cell_type": "code",
   "execution_count": 9,
   "id": "5cd7ac56",
   "metadata": {},
   "outputs": [],
   "source": [
    "classes = ['0','1']\n",
    "#dic form store results of all models\n",
    "collect_results_of_all_model= {\n",
    "    'Metrics':['accuracy','precision','recall','f1-score']\n",
    "}\n",
    "max_score = 0\n",
    "best_model = \"\"\n",
    "final_predictions = []"
   ]
  },
  {
   "cell_type": "markdown",
   "id": "0655d714",
   "metadata": {},
   "source": [
    "## RF with default parameters"
   ]
  },
  {
   "cell_type": "code",
   "execution_count": 10,
   "id": "4c65c43e",
   "metadata": {},
   "outputs": [
    {
     "data": {
      "text/markdown": [
       "<center><h1 style='color:blue'>Results of Random_Forest_50F</h1></center>"
      ],
      "text/plain": [
       "<IPython.core.display.Markdown object>"
      ]
     },
     "metadata": {},
     "output_type": "display_data"
    },
    {
     "name": "stdout",
     "output_type": "stream",
     "text": [
      "========== Random_Forest_50F ==========\n",
      "\n",
      "Accuracy on validation set: 0.5030\n",
      "\n",
      "Classification report : \n",
      "               precision    recall  f1-score   support\n",
      "\n",
      "           0       0.52      0.50      0.51      1024\n",
      "           1       0.49      0.51      0.50       976\n",
      "\n",
      "    accuracy                           0.50      2000\n",
      "   macro avg       0.50      0.50      0.50      2000\n",
      "weighted avg       0.50      0.50      0.50      2000\n",
      "\n"
     ]
    },
    {
     "data": {
      "image/png": "[encoded data removed]",
      "text/plain": [
       "<Figure size 432x288 with 2 Axes>"
      ]
     },
     "metadata": {
      "needs_background": "light"
     },
     "output_type": "display_data"
    },
    {
     "data": {
      "text/markdown": [
       "<center><h1 style='color:blue'>Results of Random_Forest_100F</h1></center>"
      ],
      "text/plain": [
       "<IPython.core.display.Markdown object>"
      ]
     },
     "metadata": {},
     "output_type": "display_data"
    },
    {
     "name": "stdout",
     "output_type": "stream",
     "text": [
      "========== Random_Forest_100F ==========\n",
      "\n",
      "Accuracy on validation set: 0.5045\n",
      "\n",
      "Classification report : \n",
      "               precision    recall  f1-score   support\n",
      "\n",
      "           0       0.52      0.50      0.51      1027\n",
      "           1       0.49      0.51      0.50       973\n",
      "\n",
      "    accuracy                           0.50      2000\n",
      "   macro avg       0.50      0.50      0.50      2000\n",
      "weighted avg       0.50      0.50      0.50      2000\n",
      "\n"
     ]
    },
    {
     "data": {
      "image/png": "[encoded data removed]",
      "text/plain": [
       "<Figure size 432x288 with 2 Axes>"
      ]
     },
     "metadata": {
      "needs_background": "light"
     },
     "output_type": "display_data"
    },
    {
     "data": {
      "text/markdown": [
       "<center><h1 style='color:blue'>Results of Random_Forest_200F</h1></center>"
      ],
      "text/plain": [
       "<IPython.core.display.Markdown object>"
      ]
     },
     "metadata": {},
     "output_type": "display_data"
    },
    {
     "name": "stdout",
     "output_type": "stream",
     "text": [
      "========== Random_Forest_200F ==========\n",
      "\n",
      "Accuracy on validation set: 0.5110\n",
      "\n",
      "Classification report : \n",
      "               precision    recall  f1-score   support\n",
      "\n",
      "           0       0.53      0.51      0.52      1032\n",
      "           1       0.50      0.51      0.50       968\n",
      "\n",
      "    accuracy                           0.51      2000\n",
      "   macro avg       0.51      0.51      0.51      2000\n",
      "weighted avg       0.51      0.51      0.51      2000\n",
      "\n"
     ]
    },
    {
     "data": {
      "image/png": "[encoded data removed]",
      "text/plain": [
       "<Figure size 432x288 with 2 Axes>"
      ]
     },
     "metadata": {
      "needs_background": "light"
     },
     "output_type": "display_data"
    },
    {
     "data": {
      "text/markdown": [
       "<center><h1 style='color:blue'>Results of Random_Forest_500F</h1></center>"
      ],
      "text/plain": [
       "<IPython.core.display.Markdown object>"
      ]
     },
     "metadata": {},
     "output_type": "display_data"
    },
    {
     "name": "stdout",
     "output_type": "stream",
     "text": [
      "========== Random_Forest_500F ==========\n",
      "\n",
      "Accuracy on validation set: 0.5010\n",
      "\n",
      "Classification report : \n",
      "               precision    recall  f1-score   support\n",
      "\n",
      "           0       0.52      0.50      0.51      1046\n",
      "           1       0.48      0.50      0.49       954\n",
      "\n",
      "    accuracy                           0.50      2000\n",
      "   macro avg       0.50      0.50      0.50      2000\n",
      "weighted avg       0.50      0.50      0.50      2000\n",
      "\n"
     ]
    },
    {
     "data": {
      "image/png": "[encoded data removed]",
      "text/plain": [
       "<Figure size 432x288 with 2 Axes>"
      ]
     },
     "metadata": {
      "needs_background": "light"
     },
     "output_type": "display_data"
    },
    {
     "data": {
      "text/markdown": [
       "<center><h1 style='color:blue'>Results of Random_Forest_1000F</h1></center>"
      ],
      "text/plain": [
       "<IPython.core.display.Markdown object>"
      ]
     },
     "metadata": {},
     "output_type": "display_data"
    },
    {
     "name": "stdout",
     "output_type": "stream",
     "text": [
      "========== Random_Forest_1000F ==========\n",
      "\n",
      "Accuracy on validation set: 0.5050\n",
      "\n",
      "Classification report : \n",
      "               precision    recall  f1-score   support\n",
      "\n",
      "           0       0.52      0.50      0.51      1036\n",
      "           1       0.49      0.51      0.50       964\n",
      "\n",
      "    accuracy                           0.51      2000\n",
      "   macro avg       0.51      0.51      0.50      2000\n",
      "weighted avg       0.51      0.51      0.51      2000\n",
      "\n"
     ]
    },
    {
     "data": {
      "image/png": "[encoded data removed]",
      "text/plain": [
       "<Figure size 432x288 with 2 Axes>"
      ]
     },
     "metadata": {
      "needs_background": "light"
     },
     "output_type": "display_data"
    }
   ],
   "source": [
    "feature_list = [50, 100, 200, 500, 1000]\n",
    "\n",
    "# extract number of features according to the \n",
    "# feature list and then train random forest with\n",
    "# default parameters on importan feature set.\n",
    "for feature_len in feature_list:\n",
    "    Model_Name = \"Random_Forest_{}F\".format(feature_len)\n",
    "    # select  important feature\n",
    "    sorted_idx = RF_feature_selection(X, y, feature_len)\n",
    "    # fetch training set with important features \n",
    "    X_train = X[X.columns[sorted_idx]]\n",
    "    y_train = y\n",
    "    \n",
    "    # fetch testing set with important features \n",
    "    XX_test = X_test[X_test.columns[sorted_idx]]\n",
    "    y_test = y_test\n",
    "\n",
    "    # initialize model\n",
    "    model = RandomForestClassifier()\n",
    "    # fit the model\n",
    "    model.fit(X_train, y_train)\n",
    "\n",
    "    # make predictions on test set\n",
    "    y_pred = model.predict(XX_test)\n",
    "    y_pred = list(map(int, y_pred))\n",
    "    \n",
    "    # calculate evaluation measures like accuracy, prcision, recall, and F1 Score.\n",
    "    printmd(\"Results of {}\".format(Model_Name), color=\"blue\", center=True)\n",
    "    rf_results = modelEvaluation(y_test['prediction'], y_pred, Model_Name, classes)\n",
    "    collect_results_of_all_model[Model_Name] = rf_results\n",
    "    \n",
    "    # calculate highest accuracy among the all trained models\n",
    "    acc = rf_results[0]\n",
    "    if acc > max_score:\n",
    "        max_score = acc\n",
    "        final_predictions = y_pred\n",
    "        best_model = Model_Name"
   ]
  },
  {
   "cell_type": "markdown",
   "id": "6baa336a",
   "metadata": {},
   "source": [
    "## RF with tunned Parameters"
   ]
  },
  {
   "cell_type": "code",
   "execution_count": 11,
   "id": "176e1458",
   "metadata": {},
   "outputs": [
    {
     "data": {
      "text/markdown": [
       "<center><h1 style='color:blue'>Results of Tuned Random_Forest_50F</h1></center>"
      ],
      "text/plain": [
       "<IPython.core.display.Markdown object>"
      ]
     },
     "metadata": {},
     "output_type": "display_data"
    },
    {
     "name": "stdout",
     "output_type": "stream",
     "text": [
      "========== Tuned Random_Forest_50F ==========\n",
      "\n",
      "Accuracy on validation set: 0.5035\n",
      "\n",
      "Classification report : \n",
      "               precision    recall  f1-score   support\n",
      "\n",
      "           0       0.50      0.50      0.50      1001\n",
      "           1       0.50      0.51      0.50       999\n",
      "\n",
      "    accuracy                           0.50      2000\n",
      "   macro avg       0.50      0.50      0.50      2000\n",
      "weighted avg       0.50      0.50      0.50      2000\n",
      "\n"
     ]
    },
    {
     "data": {
      "image/png": "[encoded data removed]",
      "text/plain": [
       "<Figure size 432x288 with 2 Axes>"
      ]
     },
     "metadata": {
      "needs_background": "light"
     },
     "output_type": "display_data"
    },
    {
     "data": {
      "text/markdown": [
       "<center><h1 style='color:blue'>Results of Tuned Random_Forest_100F</h1></center>"
      ],
      "text/plain": [
       "<IPython.core.display.Markdown object>"
      ]
     },
     "metadata": {},
     "output_type": "display_data"
    },
    {
     "name": "stdout",
     "output_type": "stream",
     "text": [
      "========== Tuned Random_Forest_100F ==========\n",
      "\n",
      "Accuracy on validation set: 0.5030\n",
      "\n",
      "Classification report : \n",
      "               precision    recall  f1-score   support\n",
      "\n",
      "           0       0.52      0.50      0.51      1030\n",
      "           1       0.49      0.51      0.50       970\n",
      "\n",
      "    accuracy                           0.50      2000\n",
      "   macro avg       0.50      0.50      0.50      2000\n",
      "weighted avg       0.50      0.50      0.50      2000\n",
      "\n"
     ]
    },
    {
     "data": {
      "image/png": "[encoded data removed]",
      "text/plain": [
       "<Figure size 432x288 with 2 Axes>"
      ]
     },
     "metadata": {
      "needs_background": "light"
     },
     "output_type": "display_data"
    },
    {
     "data": {
      "text/markdown": [
       "<center><h1 style='color:blue'>Results of Tuned Random_Forest_200F</h1></center>"
      ],
      "text/plain": [
       "<IPython.core.display.Markdown object>"
      ]
     },
     "metadata": {},
     "output_type": "display_data"
    },
    {
     "name": "stdout",
     "output_type": "stream",
     "text": [
      "========== Tuned Random_Forest_200F ==========\n",
      "\n",
      "Accuracy on validation set: 0.5060\n",
      "\n",
      "Classification report : \n",
      "               precision    recall  f1-score   support\n",
      "\n",
      "           0       0.53      0.50      0.52      1046\n",
      "           1       0.48      0.51      0.50       954\n",
      "\n",
      "    accuracy                           0.51      2000\n",
      "   macro avg       0.51      0.51      0.51      2000\n",
      "weighted avg       0.51      0.51      0.51      2000\n",
      "\n"
     ]
    },
    {
     "data": {
      "image/png": "[encoded data removed]",
      "text/plain": [
       "<Figure size 432x288 with 2 Axes>"
      ]
     },
     "metadata": {
      "needs_background": "light"
     },
     "output_type": "display_data"
    },
    {
     "data": {
      "text/markdown": [
       "<center><h1 style='color:blue'>Results of Tuned Random_Forest_500F</h1></center>"
      ],
      "text/plain": [
       "<IPython.core.display.Markdown object>"
      ]
     },
     "metadata": {},
     "output_type": "display_data"
    },
    {
     "name": "stdout",
     "output_type": "stream",
     "text": [
      "========== Tuned Random_Forest_500F ==========\n",
      "\n",
      "Accuracy on validation set: 0.5115\n",
      "\n",
      "Classification report : \n",
      "               precision    recall  f1-score   support\n",
      "\n",
      "           0       0.53      0.51      0.52      1041\n",
      "           1       0.49      0.52      0.50       959\n",
      "\n",
      "    accuracy                           0.51      2000\n",
      "   macro avg       0.51      0.51      0.51      2000\n",
      "weighted avg       0.51      0.51      0.51      2000\n",
      "\n"
     ]
    },
    {
     "data": {
      "image/png": "[encoded data removed]",
      "text/plain": [
       "<Figure size 432x288 with 2 Axes>"
      ]
     },
     "metadata": {
      "needs_background": "light"
     },
     "output_type": "display_data"
    },
    {
     "data": {
      "text/markdown": [
       "<center><h1 style='color:blue'>Results of Tuned Random_Forest_1000F</h1></center>"
      ],
      "text/plain": [
       "<IPython.core.display.Markdown object>"
      ]
     },
     "metadata": {},
     "output_type": "display_data"
    },
    {
     "name": "stdout",
     "output_type": "stream",
     "text": [
      "========== Tuned Random_Forest_1000F ==========\n",
      "\n",
      "Accuracy on validation set: 0.4990\n",
      "\n",
      "Classification report : \n",
      "               precision    recall  f1-score   support\n",
      "\n",
      "           0       0.52      0.50      0.51      1048\n",
      "           1       0.48      0.50      0.49       952\n",
      "\n",
      "    accuracy                           0.50      2000\n",
      "   macro avg       0.50      0.50      0.50      2000\n",
      "weighted avg       0.50      0.50      0.50      2000\n",
      "\n"
     ]
    },
    {
     "data": {
      "image/png": "[encoded data removed]",
      "text/plain": [
       "<Figure size 432x288 with 2 Axes>"
      ]
     },
     "metadata": {
      "needs_background": "light"
     },
     "output_type": "display_data"
    }
   ],
   "source": [
    "feature_list = [50, 100, 200, 500, 1000]\n",
    "\n",
    "# extract number of features according to the \n",
    "# feature list and then train random forest with\n",
    "# default parameters on importan feature set.\n",
    "for feature_len in feature_list:\n",
    "    Model_Name = \"Tuned Random_Forest_{}F\".format(feature_len)\n",
    "    # select  important feature\n",
    "    sorted_idx = RF_feature_selection(X, y, feature_len)\n",
    "    # fetch training set with important features \n",
    "    X_train = X[X.columns[sorted_idx]]\n",
    "    y_train = y\n",
    "    \n",
    "    # fetch testing set with important features \n",
    "    XX_test = X_test[X_test.columns[sorted_idx]]\n",
    "    y_test = y_test\n",
    "\n",
    "    # initialize model\n",
    "    model = RandomForestClassifier(n_estimators=100, max_depth=None, bootstrap=True)\n",
    "    # fit the model\n",
    "    model.fit(X_train, y_train)\n",
    "\n",
    "    # make predictions on test set\n",
    "    y_pred = model.predict(XX_test)\n",
    "    y_pred = list(map(int, y_pred))\n",
    "    \n",
    "    # calculate evaluation measures like accuracy, prcision, recall, and F1 Score.\n",
    "    printmd(\"Results of {}\".format(Model_Name), color=\"blue\", center=True)\n",
    "    rf_results = modelEvaluation(y_test['prediction'], y_pred, Model_Name, classes)\n",
    "    collect_results_of_all_model[Model_Name] = rf_results\n",
    "    \n",
    "    # calculate highest accuracy among the all trained models\n",
    "    acc = rf_results[0]\n",
    "    if acc > max_score:\n",
    "        max_score = acc\n",
    "        final_predictions = y_pred\n",
    "        best_model = Model_Name"
   ]
  },
  {
   "cell_type": "markdown",
   "id": "d03d1eae",
   "metadata": {},
   "source": [
    "## Best Model Name and Score"
   ]
  },
  {
   "cell_type": "code",
   "execution_count": 12,
   "id": "dabb7e17",
   "metadata": {},
   "outputs": [
    {
     "data": {
      "text/markdown": [
       "<center><h1 style='color:blue'>Tuned Random_Forest_500F</h1></center>"
      ],
      "text/plain": [
       "<IPython.core.display.Markdown object>"
      ]
     },
     "metadata": {},
     "output_type": "display_data"
    },
    {
     "data": {
      "text/markdown": [
       "<center><h1 style='color:blue'>0.5115</h1></center>"
      ],
      "text/plain": [
       "<IPython.core.display.Markdown object>"
      ]
     },
     "metadata": {},
     "output_type": "display_data"
    },
    {
     "data": {
      "text/markdown": [
       "<center><h1 style='color:blue'>**************************************</h1></center>"
      ],
      "text/plain": [
       "<IPython.core.display.Markdown object>"
      ]
     },
     "metadata": {},
     "output_type": "display_data"
    }
   ],
   "source": [
    "# print name and score of best model\n",
    "printmd(best_model, color=\"blue\", center=True)\n",
    "printmd(max_score, color=\"blue\", center=True)\n",
    "printmd(\"**************************************\", color=\"blue\", center=True)"
   ]
  },
  {
   "cell_type": "markdown",
   "id": "0fabd27b",
   "metadata": {},
   "source": [
    "# Plot Graphs"
   ]
  },
  {
   "cell_type": "code",
   "execution_count": 13,
   "id": "1ac64730",
   "metadata": {},
   "outputs": [],
   "source": [
    "from tabulate import tabulate \n",
    "# create dataframe of models results\n",
    "metrics_data_frame = pd.DataFrame(collect_results_of_all_model)#create dataframe\n",
    "metrics_data_frame = metrics_data_frame.set_index('Metrics')#set index\n",
    "metrics_data_frame.T"
   ]
  },
  {
   "cell_type": "markdown",
   "id": "1087d2c7",
   "metadata": {},
   "source": [
    "## Accuracy Comparison of RF with Different Parametrs"
   ]
  },
  {
   "cell_type": "code",
   "execution_count": 14,
   "id": "3fb2a76b",
   "metadata": {},
   "outputs": [
    {
     "data": {
      "image/png": "[encoded data removed]",
      "text/plain": [
       "<Figure size 864x432 with 1 Axes>"
      ]
     },
     "metadata": {
      "needs_background": "light"
     },
     "output_type": "display_data"
    }
   ],
   "source": [
    "plot_df = metrics_data_frame.iloc[:, 0:5]\n",
    "models_accuracy = plot_df.iloc[0].tolist()#accuracy\n",
    "models_names = plot_df.columns.tolist()#name of model\n",
    "plt.figure(figsize=(12,6))\n",
    "plt.bar(models_names,models_accuracy)#bar plot\n",
    "plt.title(\"Models Accuracies\", fontsize=18)#title\n",
    "\n",
    "def addLabels(names,acc):\n",
    "    for i in range(len(names)):\n",
    "        plt.text(i,round(acc[i],2),f\"{round(acc[i],4)}%\", ha = 'center', bbox=dict(facecolor='gray', alpha=0.9))\n",
    "\n",
    "addLabels(models_names,models_accuracy)#adding labels\n",
    "plt.xlabel(\"Model Name\") # x-axis title\n",
    "plt.ylabel(\"Accuracy Score\") # y-axis title\n",
    "plt.title(\"Accuracy Comparison of RF with different Features Set\") # bar plot title\n",
    "plt.show()"
   ]
  },
  {
   "cell_type": "code",
   "execution_count": 15,
   "id": "7cf593fa",
   "metadata": {},
   "outputs": [
    {
     "data": {
      "text/plain": [
       "<matplotlib.legend.Legend at 0x19392e8bd08>"
      ]
     },
     "execution_count": 15,
     "metadata": {},
     "output_type": "execute_result"
    },
    {
     "data": {
      "image/png": "[encoded data removed]",
      "text/plain": [
       "<Figure size 432x288 with 1 Axes>"
      ]
     },
     "metadata": {
      "needs_background": "light"
     },
     "output_type": "display_data"
    }
   ],
   "source": [
    "rf_default = list(metrics_data_frame.iloc[0,0:5]) # default models result\n",
    "rf_tuned = list(metrics_data_frame.iloc[0,5:]) # tuned models results\n",
    "data = [rf_default, rf_tuned] \n",
    "X = np.arange(5) # axis range\n",
    "fig = plt.figure()\n",
    "ax = fig.add_axes([0,0,1,1])\n",
    "ax.bar(X + 0.00, data[0], color = 'b', width = 0.30) # configure position and color of firts bar\n",
    "ax.bar(X + 0.30, data[1], color = 'r', width = 0.30) # configure position and color of second bar\n",
    "\n",
    "ax.set_ylabel('Accuracy Scores', fontsize= 14) # X-axis label\n",
    "ax.set_xlabel('Number of features', fontsize= 14) # y-axis label\n",
    "ax.set_title('Accuracy  with default and tuned parameters', fontsize= 14) # bar plot title\n",
    "plt.xticks(ticks = X ,labels = [\"50_Features\", \"100_Features\", \"200_Features\", \"500_Features\", \"1000_Features\"])\n",
    "# ax.set_yticks(np.arange(0, 81, 10))\n",
    "ax.legend(labels=['default model', 'Tuned model'])"
   ]
  },
  {
   "cell_type": "code",
   "execution_count": 16,
   "id": "8f1a511a",
   "metadata": {},
   "outputs": [],
   "source": [
    "predictions_df = pd.DataFrame(final_predictions, columns=['prediction']) # create dataframe of final predictions\n",
    "predictions_df.to_csv(\"predictions.csv\", index=False) # write predictions"
   ]
  },
  {
   "cell_type": "code",
   "execution_count": null,
   "id": "23e42cad",
   "metadata": {},
   "outputs": [],
   "source": []
  }
 ],
 "metadata": {
  "kernelspec": {
   "display_name": "Python 3 (ipykernel)",
   "language": "python",
   "name": "python3"
  },
  "language_info": {
   "codemirror_mode": {
    "name": "ipython",
    "version": 3
   },
   "file_extension": ".py",
   "mimetype": "text/x-python",
   "name": "python",
   "nbconvert_exporter": "python",
   "pygments_lexer": "ipython3",
   "version": "3.7.11"
  }
 },
 "nbformat": 4,
 "nbformat_minor": 5
}
