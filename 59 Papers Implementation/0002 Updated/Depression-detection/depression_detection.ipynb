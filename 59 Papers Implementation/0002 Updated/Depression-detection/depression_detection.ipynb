{
 "cells": [
  {
   "cell_type": "markdown",
   "id": "6aa66fd1",
   "metadata": {},
   "source": [
    "### Import Libraries"
   ]
  },
  {
   "cell_type": "code",
   "execution_count": 42,
   "id": "4fe27e1e-e31e-4132-a74f-6cc7083d0c96",
   "metadata": {},
   "outputs": [],
   "source": [
    "import nltk\n",
    "import warnings\n",
    "import numpy as np\n",
    "import pandas as pd\n",
    "import seaborn as sns\n",
    "warnings.simplefilter(\"ignore\")\n",
    "import matplotlib.pyplot as plt\n",
    "from nltk.corpus import stopwords\n",
    "from nltk.stem import WordNetLemmatizer\n",
    "from sklearn.tree import DecisionTreeClassifier\n",
    "from sklearn.neighbors import KNeighborsClassifier # KNN\n",
    "from sklearn.ensemble import RandomForestClassifier # Random Forest\n",
    "from sklearn.svm import SVC # Logistic Regression\n",
    "from sklearn.metrics import accuracy_score\n",
    "from sklearn.preprocessing import LabelEncoder\n",
    "from sklearn.metrics import confusion_matrix\n",
    "from sklearn.metrics import classification_report\n",
    "from sklearn.model_selection import train_test_split\n",
    "from sklearn.feature_extraction.text import CountVectorizer\n",
    "from sklearn.metrics import f1_score, recall_score, precision_score"
   ]
  },
  {
   "cell_type": "markdown",
   "id": "99fc4ace",
   "metadata": {},
   "source": [
    "### Reading Train & Test Data"
   ]
  },
  {
   "cell_type": "code",
   "execution_count": 43,
   "id": "6d85e404",
   "metadata": {},
   "outputs": [],
   "source": [
    "df_train = pd.read_csv('original_dataset/train.tsv', delimiter= '\\t')\n",
    "df_test = pd.read_csv('original_dataset/test.tsv', delimiter= '\\t')"
   ]
  },
  {
   "cell_type": "code",
   "execution_count": 44,
   "id": "d3f83598",
   "metadata": {},
   "outputs": [
    {
     "data": {
      "text/html": [
       "<div>\n",
       "<style scoped>\n",
       "    .dataframe tbody tr th:only-of-type {\n",
       "        vertical-align: middle;\n",
       "    }\n",
       "\n",
       "    .dataframe tbody tr th {\n",
       "        vertical-align: top;\n",
       "    }\n",
       "\n",
       "    .dataframe thead th {\n",
       "        text-align: right;\n",
       "    }\n",
       "</style>\n",
       "<table border=\"1\" class=\"dataframe\">\n",
       "  <thead>\n",
       "    <tr style=\"text-align: right;\">\n",
       "      <th></th>\n",
       "      <th>PID</th>\n",
       "      <th>Text_data</th>\n",
       "      <th>Label</th>\n",
       "    </tr>\n",
       "  </thead>\n",
       "  <tbody>\n",
       "    <tr>\n",
       "      <th>0</th>\n",
       "      <td>train_pid_1</td>\n",
       "      <td>Waiting for my mind to have a breakdown once t...</td>\n",
       "      <td>moderate</td>\n",
       "    </tr>\n",
       "    <tr>\n",
       "      <th>1</th>\n",
       "      <td>train_pid_2</td>\n",
       "      <td>My new years resolution : I'm gonna get my ass...</td>\n",
       "      <td>moderate</td>\n",
       "    </tr>\n",
       "    <tr>\n",
       "      <th>2</th>\n",
       "      <td>train_pid_3</td>\n",
       "      <td>New year : Somone else Feeling like 2020 will ...</td>\n",
       "      <td>moderate</td>\n",
       "    </tr>\n",
       "    <tr>\n",
       "      <th>3</th>\n",
       "      <td>train_pid_4</td>\n",
       "      <td>My story I guess : Hi, Im from Germany and my ...</td>\n",
       "      <td>moderate</td>\n",
       "    </tr>\n",
       "    <tr>\n",
       "      <th>4</th>\n",
       "      <td>train_pid_5</td>\n",
       "      <td>Sat in the dark and cried myself going into th...</td>\n",
       "      <td>moderate</td>\n",
       "    </tr>\n",
       "  </tbody>\n",
       "</table>\n",
       "</div>"
      ],
      "text/plain": [
       "           PID                                          Text_data     Label\n",
       "0  train_pid_1  Waiting for my mind to have a breakdown once t...  moderate\n",
       "1  train_pid_2  My new years resolution : I'm gonna get my ass...  moderate\n",
       "2  train_pid_3  New year : Somone else Feeling like 2020 will ...  moderate\n",
       "3  train_pid_4  My story I guess : Hi, Im from Germany and my ...  moderate\n",
       "4  train_pid_5  Sat in the dark and cried myself going into th...  moderate"
      ]
     },
     "execution_count": 44,
     "metadata": {},
     "output_type": "execute_result"
    }
   ],
   "source": [
    "# Traning data\n",
    "df_train.head()"
   ]
  },
  {
   "cell_type": "code",
   "execution_count": 45,
   "id": "21ef717e",
   "metadata": {},
   "outputs": [
    {
     "data": {
      "text/html": [
       "<div>\n",
       "<style scoped>\n",
       "    .dataframe tbody tr th:only-of-type {\n",
       "        vertical-align: middle;\n",
       "    }\n",
       "\n",
       "    .dataframe tbody tr th {\n",
       "        vertical-align: top;\n",
       "    }\n",
       "\n",
       "    .dataframe thead th {\n",
       "        text-align: right;\n",
       "    }\n",
       "</style>\n",
       "<table border=\"1\" class=\"dataframe\">\n",
       "  <thead>\n",
       "    <tr style=\"text-align: right;\">\n",
       "      <th></th>\n",
       "      <th>Pid</th>\n",
       "      <th>text data</th>\n",
       "      <th>Class labels</th>\n",
       "    </tr>\n",
       "  </thead>\n",
       "  <tbody>\n",
       "    <tr>\n",
       "      <th>0</th>\n",
       "      <td>test_pid_1</td>\n",
       "      <td>Im scared : This is it. I lie to myself every ...</td>\n",
       "      <td>moderate</td>\n",
       "    </tr>\n",
       "    <tr>\n",
       "      <th>1</th>\n",
       "      <td>test_pid_2</td>\n",
       "      <td>New to this but just wanted to vent : I just f...</td>\n",
       "      <td>moderate</td>\n",
       "    </tr>\n",
       "    <tr>\n",
       "      <th>2</th>\n",
       "      <td>test_pid_3</td>\n",
       "      <td>I’m sad : It’s kinda always been an issue. I w...</td>\n",
       "      <td>moderate</td>\n",
       "    </tr>\n",
       "    <tr>\n",
       "      <th>3</th>\n",
       "      <td>test_pid_4</td>\n",
       "      <td>Lonely but not alone. : All of my immediately ...</td>\n",
       "      <td>moderate</td>\n",
       "    </tr>\n",
       "    <tr>\n",
       "      <th>4</th>\n",
       "      <td>test_pid_5</td>\n",
       "      <td>This year has been trash. : I dont know why I’...</td>\n",
       "      <td>moderate</td>\n",
       "    </tr>\n",
       "  </tbody>\n",
       "</table>\n",
       "</div>"
      ],
      "text/plain": [
       "          Pid                                          text data Class labels\n",
       "0  test_pid_1  Im scared : This is it. I lie to myself every ...     moderate\n",
       "1  test_pid_2  New to this but just wanted to vent : I just f...     moderate\n",
       "2  test_pid_3  I’m sad : It’s kinda always been an issue. I w...     moderate\n",
       "3  test_pid_4  Lonely but not alone. : All of my immediately ...     moderate\n",
       "4  test_pid_5  This year has been trash. : I dont know why I’...     moderate"
      ]
     },
     "execution_count": 45,
     "metadata": {},
     "output_type": "execute_result"
    }
   ],
   "source": [
    "# Testing data\n",
    "df_test.head()"
   ]
  },
  {
   "cell_type": "code",
   "execution_count": 46,
   "id": "c86b3673",
   "metadata": {},
   "outputs": [
    {
     "name": "stdout",
     "output_type": "stream",
     "text": [
      "Shape of Train Data Frame: (8891, 3)\n",
      "Shape of Test Data Frame : (3245, 3)\n"
     ]
    }
   ],
   "source": [
    "# Shape of Traning and Testing Data Frames\n",
    "print('Shape of Train Data Frame:', df_train.shape)\n",
    "print('Shape of Test Data Frame :', df_test.shape)"
   ]
  },
  {
   "cell_type": "code",
   "execution_count": 47,
   "id": "4a01cc6c",
   "metadata": {},
   "outputs": [
    {
     "name": "stdout",
     "output_type": "stream",
     "text": [
      "Sum of null values in Traning data =  0\n",
      "Sum of null values in Testing data =  0\n"
     ]
    }
   ],
   "source": [
    "# Null values\n",
    "print('Sum of null values in Traning data = ', df_train.isna().sum().sum())\n",
    "print('Sum of null values in Testing data = ', df_test.isna().sum().sum())"
   ]
  },
  {
   "cell_type": "markdown",
   "id": "a07845dc",
   "metadata": {},
   "source": [
    "### Data Preprocessing\n",
    "* Lowercase Converiosn\n",
    "* Removing Special Characters\n",
    "* Removal of Numeric values\n",
    "* Removing stopwords\n",
    "* Lemmatization"
   ]
  },
  {
   "cell_type": "markdown",
   "id": "c62929d6",
   "metadata": {},
   "source": [
    "#### Lowercase Converiosn"
   ]
  },
  {
   "cell_type": "code",
   "execution_count": 48,
   "id": "12b31b7b",
   "metadata": {},
   "outputs": [],
   "source": [
    "df_train['Text_data'] = df_train['Text_data'].apply(\n",
    "    lambda x: \" \".join(x.lower() for x in x.split()))\n",
    "\n",
    "df_test['text data'] = df_test['text data'].apply(\n",
    "    lambda x: \" \".join(x.lower() for x in x.split()))"
   ]
  },
  {
   "cell_type": "markdown",
   "id": "40c9363d",
   "metadata": {},
   "source": [
    "#### Removing Special Characters"
   ]
  },
  {
   "cell_type": "code",
   "execution_count": 49,
   "id": "aa8e5b8f",
   "metadata": {},
   "outputs": [],
   "source": [
    "df_train['Text_data']= df_train['Text_data'].str.replace('[^\\w\\s]', ' ')\n",
    "df_test['text data']= df_test['text data'].str.replace('[^\\w\\s]', ' ')  "
   ]
  },
  {
   "cell_type": "markdown",
   "id": "f643d33d",
   "metadata": {},
   "source": [
    "#### Removal of Numeric values"
   ]
  },
  {
   "cell_type": "code",
   "execution_count": 50,
   "id": "1fb5fd9a",
   "metadata": {},
   "outputs": [],
   "source": [
    "df_train['Text_data'] = df_train['Text_data'].str.replace('\\d+',' ') # removing numeric values from between the words\n",
    "df_train['Text_data'] = df_train['Text_data'].str.replace('_',' ') # Removing underscores\n",
    "df_test['text data'] = df_test['text data'].str.replace('\\d+',' ') # removing numeric values from between the words\n",
    "df_test['text data'] = df_test['text data'].str.replace('_',' ') # Removing underscores"
   ]
  },
  {
   "cell_type": "markdown",
   "id": "177b2765",
   "metadata": {},
   "source": [
    "#### Removing stopwords"
   ]
  },
  {
   "cell_type": "code",
   "execution_count": 51,
   "id": "b488576b",
   "metadata": {},
   "outputs": [],
   "source": [
    "stop = stopwords.words('english')\n",
    "\n",
    "df_train['Text_data'] = df_train['Text_data'].apply( \n",
    "    lambda x: \" \".join(x for x in x.split() if x not in stop))\n",
    "\n",
    "df_test['text data'] = df_test['text data'].apply( \n",
    "    lambda x: \" \".join(x for x in x.split() if x not in stop))"
   ]
  },
  {
   "cell_type": "markdown",
   "id": "52b03e4a",
   "metadata": {},
   "source": [
    "#### Lemmatization"
   ]
  },
  {
   "cell_type": "code",
   "execution_count": 52,
   "id": "74e63878",
   "metadata": {},
   "outputs": [],
   "source": [
    "stemmer = WordNetLemmatizer() # converting words to their dictionary form\n",
    "df_train['Text_data'] = [stemmer.lemmatize(word) for word in df_train['Text_data']] \n",
    "df_test['text data'] = [stemmer.lemmatize(word) for word in df_test['text data']] "
   ]
  },
  {
   "cell_type": "markdown",
   "id": "2f4d23da",
   "metadata": {},
   "source": [
    "### Data Visualization"
   ]
  },
  {
   "cell_type": "code",
   "execution_count": 53,
   "id": "8669dac0",
   "metadata": {},
   "outputs": [
    {
     "data": {
      "text/plain": [
       "Text(0.5, 0.98, 'Depression analysis on Traning data')"
      ]
     },
     "execution_count": 53,
     "metadata": {},
     "output_type": "execute_result"
    },
    {
     "data": {
      "image/png": "[encoded data removed]",
      "text/plain": [
       "<Figure size 720x360 with 2 Axes>"
      ]
     },
     "metadata": {},
     "output_type": "display_data"
    }
   ],
   "source": [
    "fig, ax = plt.subplots(1, 2, figsize=(10,5))\n",
    "x= df_train['Label'].value_counts().index\n",
    "y= df_train['Label'].value_counts().values.tolist()\n",
    "data = df_train.groupby(\"Label\").size()\n",
    "sns.set(style = 'white', color_codes=True)\n",
    "pal = sns.color_palette(\"winter\", len(data))\n",
    "rank = data.argsort().argsort() \n",
    "sns.barplot(x=x,y=y,palette=np.array(pal[::-1])[rank],ax = ax[0])\n",
    "for p in ax[0].patches:\n",
    "        ax[0].annotate('{:.0f}'.format(p.get_height()), (p.get_x()+0.3, p.get_height()),\n",
    "                    ha='center', va='bottom',\n",
    "                    color= 'black')\n",
    "ax[0].set_xlabel('', weight='semibold', fontname = 'monospace')\n",
    "_, _, autotexts= ax[1].pie(y, labels = x, colors = pal, autopct='%1.1f%%',\n",
    "        explode=[0.00 for i in df_train['Label'].value_counts().index])\n",
    "for autotext in autotexts:\n",
    "    autotext.set_color('white')\n",
    "plt.legend(bbox_to_anchor=(1, 1))\n",
    "plt.suptitle ('Depression analysis on Traning data',weight = 'bold')"
   ]
  },
  {
   "cell_type": "code",
   "execution_count": 54,
   "id": "413ec4b1",
   "metadata": {},
   "outputs": [],
   "source": [
    "df_train['Label'] = df_train['Label'].replace({'moderate': 0, 'not depression': 1, 'severe': 2})\n",
    "df_test['Class labels'] = df_test['Class labels'].replace({'moderate': 0, 'not depression': 1, 'severe': 2})"
   ]
  },
  {
   "cell_type": "markdown",
   "id": "a85a6c41",
   "metadata": {},
   "source": [
    "### Vectorization"
   ]
  },
  {
   "cell_type": "code",
   "execution_count": 55,
   "id": "33f3bd55",
   "metadata": {},
   "outputs": [],
   "source": [
    "# CountVectorizer\n",
    "vectorizer = CountVectorizer(max_features=1000) \n",
    "x_train = vectorizer.fit_transform(df_train['Text_data']).toarray()\n",
    "x_test = vectorizer.fit_transform(df_test['text data']).toarray()"
   ]
  },
  {
   "cell_type": "code",
   "execution_count": 56,
   "id": "74299187",
   "metadata": {},
   "outputs": [],
   "source": [
    "y_train = df_train['Label']\n",
    "y_test = df_test['Class labels']"
   ]
  },
  {
   "cell_type": "code",
   "execution_count": 57,
   "id": "68232dde",
   "metadata": {},
   "outputs": [
    {
     "name": "stdout",
     "output_type": "stream",
     "text": [
      "Shape of Train data: (8891, 1000)\n",
      "Shape of Test data: (3245, 1000)\n"
     ]
    }
   ],
   "source": [
    "print('Shape of Train data:', x_train.shape)\n",
    "print('Shape of Test data:', x_test.shape)"
   ]
  },
  {
   "cell_type": "markdown",
   "id": "0e1e7483",
   "metadata": {},
   "source": [
    "### Model Developement"
   ]
  },
  {
   "cell_type": "code",
   "execution_count": 58,
   "id": "99359d9c",
   "metadata": {},
   "outputs": [
    {
     "name": "stdout",
     "output_type": "stream",
     "text": [
      "278/278 [==============================] - 2s 8ms/step\n",
      "102/102 [==============================] - 1s 8ms/step\n"
     ]
    }
   ],
   "source": [
    "import tensorflow as tf\n",
    "from tensorflow.keras.layers import Dense\n",
    "from tensorflow.keras.layers import Dropout\n",
    "# deep learning model initialization\n",
    "model = tf.keras.models.Sequential()  \n",
    "model.add(Dense(1000,input_shape=(1000,),activation='relu'))\n",
    "model.add(Dense(500,activation='relu'))\n",
    "model.add(Dense(300,activation='relu'))\n",
    "model.add(Dense(150,activation='relu'))\n",
    "model.add(Dense(75,activation='relu'))\n",
    "model.add(Dense(30,activation='relu'))\n",
    "model.add(Dense(15,activation='relu'))\n",
    "model.add(Dropout(0.5))\n",
    "\n",
    "x_train = model.predict(x_train)\n",
    "x_test = model.predict(x_test)"
   ]
  },
  {
   "cell_type": "code",
   "execution_count": 59,
   "id": "6682d3b3",
   "metadata": {},
   "outputs": [
    {
     "name": "stdout",
     "output_type": "stream",
     "text": [
      "Train data shape: (8891, 15)\n",
      "Test data shape: (3245, 15)\n"
     ]
    }
   ],
   "source": [
    "print('Train data shape:', x_train.shape)\n",
    "print('Test data shape:', x_test.shape)"
   ]
  },
  {
   "cell_type": "markdown",
   "id": "d66979c0",
   "metadata": {},
   "source": [
    "### KNN"
   ]
  },
  {
   "cell_type": "code",
   "execution_count": 60,
   "id": "3f872dc2",
   "metadata": {},
   "outputs": [
    {
     "name": "stdout",
     "output_type": "stream",
     "text": [
      "\u001b[47mClassification Report\n",
      "\n",
      "\u001b[0m\u001b[31m               precision    recall  f1-score   support\n",
      "\n",
      "           0       0.68      0.66      0.67      2169\n",
      "           1       0.29      0.29      0.29       848\n",
      "           2       0.09      0.12      0.10       228\n",
      "\n",
      "    accuracy                           0.52      3245\n",
      "   macro avg       0.35      0.35      0.35      3245\n",
      "weighted avg       0.53      0.52      0.53      3245\n",
      "\n"
     ]
    }
   ],
   "source": [
    "knn_model = KNeighborsClassifier(n_neighbors=3)\n",
    "knn_model.fit(x_train, y_train)\n",
    "knn_pred = knn_model.predict(x_test)\n",
    "knn_acc = 100 * round(accuracy_score(y_test, knn_pred), 2)\n",
    "knn_pre = round(precision_score(y_test, knn_pred, average= 'weighted'), 2)\n",
    "knn_rec = round(recall_score(y_test, knn_pred, average= 'weighted'), 2)\n",
    "knn_f1 = round(f1_score(y_test, knn_pred, average= 'weighted'), 2)\n",
    "print('\\033[47m' + 'Classification Report\\n\\n' + '\\033[0m' + '\\033[31m', classification_report(y_test, knn_pred))"
   ]
  },
  {
   "cell_type": "markdown",
   "id": "d75d9f1e",
   "metadata": {},
   "source": [
    "### Decision Tree"
   ]
  },
  {
   "cell_type": "code",
   "execution_count": 61,
   "id": "f1bdb077",
   "metadata": {},
   "outputs": [
    {
     "name": "stdout",
     "output_type": "stream",
     "text": [
      "\u001b[47mClassification Report\n",
      "\n",
      "\u001b[0m\u001b[35m               precision    recall  f1-score   support\n",
      "\n",
      "           0       0.68      0.76      0.72      2169\n",
      "           1       0.33      0.24      0.28       848\n",
      "           2       0.10      0.09      0.10       228\n",
      "\n",
      "    accuracy                           0.58      3245\n",
      "   macro avg       0.37      0.36      0.36      3245\n",
      "weighted avg       0.55      0.58      0.56      3245\n",
      "\n"
     ]
    }
   ],
   "source": [
    "dt_model = DecisionTreeClassifier(max_depth=10)\n",
    "dt_model.fit(x_train, y_train)\n",
    "dt_pred = dt_model.predict(x_test)\n",
    "dt_acc = 100 * round(accuracy_score(y_test, dt_pred), 2)\n",
    "dt_pre = round(precision_score(y_test, dt_pred, average = 'micro'), 2)\n",
    "dt_rec = round(recall_score(y_test, dt_pred, average = 'micro'), 2)\n",
    "dt_f1 = round(f1_score(y_test, dt_pred, average = 'micro'), 2)\n",
    "print('\\033[47m' + 'Classification Report\\n\\n' + '\\033[0m' + '\\033[35m', classification_report(y_test, dt_pred))"
   ]
  },
  {
   "cell_type": "markdown",
   "id": "3c8243a1",
   "metadata": {},
   "source": [
    "### Random Forest"
   ]
  },
  {
   "cell_type": "code",
   "execution_count": 62,
   "id": "2644e7b4",
   "metadata": {},
   "outputs": [
    {
     "name": "stdout",
     "output_type": "stream",
     "text": [
      "\u001b[47mClassification Report\n",
      "\n",
      "\u001b[0m\u001b[34m               precision    recall  f1-score   support\n",
      "\n",
      "           0       0.68      0.90      0.78      2169\n",
      "           1       0.39      0.16      0.23       848\n",
      "           2       0.27      0.01      0.03       228\n",
      "\n",
      "    accuracy                           0.65      3245\n",
      "   macro avg       0.45      0.36      0.34      3245\n",
      "weighted avg       0.58      0.65      0.58      3245\n",
      "\n"
     ]
    }
   ],
   "source": [
    "# model initialization\n",
    "clf = RandomForestClassifier(n_estimators=20, max_depth=10, random_state=42)\n",
    "clf = clf.fit(x_train, y_train)\n",
    "rf_pred = clf.predict(x_test)\n",
    "rf_acc = 100 * round(accuracy_score(y_test, rf_pred), 2)\n",
    "rf_pre = round(precision_score(y_test, rf_pred, average= 'weighted'), 2)\n",
    "rf_rec = round(recall_score(y_test, rf_pred, average= 'weighted'), 2)\n",
    "rf_f1 = round(f1_score(y_test, rf_pred, average= 'weighted'), 2)\n",
    "print('\\033[47m' + 'Classification Report\\n\\n' + '\\033[0m' + '\\033[34m', classification_report(y_test, rf_pred))"
   ]
  },
  {
   "cell_type": "markdown",
   "id": "07e49c55",
   "metadata": {},
   "source": [
    "### Support Vector"
   ]
  },
  {
   "cell_type": "code",
   "execution_count": 63,
   "id": "9caca2e9",
   "metadata": {},
   "outputs": [
    {
     "name": "stdout",
     "output_type": "stream",
     "text": [
      "\u001b[47mClassification Report\n",
      "\n",
      "\u001b[0m\u001b[32m               precision    recall  f1-score   support\n",
      "\n",
      "           0       0.67      1.00      0.80      2169\n",
      "           1       0.00      0.00      0.00       848\n",
      "           2       0.00      0.00      0.00       228\n",
      "\n",
      "    accuracy                           0.67      3245\n",
      "   macro avg       0.22      0.33      0.27      3245\n",
      "weighted avg       0.45      0.67      0.54      3245\n",
      "\n"
     ]
    }
   ],
   "source": [
    "svc_model = SVC()\n",
    "svc_model.fit(x_train, y_train)\n",
    "svc_pred = svc_model.predict(x_test)\n",
    "svc_acc = 100 * round(accuracy_score(y_test, svc_pred), 2)\n",
    "svc_pre = round(precision_score(y_test, svc_pred, average= 'weighted'), 2)\n",
    "svc_rec = round(recall_score(y_test, svc_pred, average= 'weighted'), 2)\n",
    "svc_f1 = round(f1_score(y_test, svc_pred, average= 'weighted'), 2)\n",
    "print('\\033[47m' + 'Classification Report\\n\\n' + '\\033[0m' + '\\033[32m', classification_report(y_test, svc_pred))"
   ]
  },
  {
   "cell_type": "markdown",
   "id": "c6804a7a",
   "metadata": {},
   "source": [
    "### Accuracy Comparison"
   ]
  },
  {
   "cell_type": "code",
   "execution_count": 77,
   "id": "54553974",
   "metadata": {},
   "outputs": [
    {
     "data": {
      "text/html": [
       "<div>\n",
       "<style scoped>\n",
       "    .dataframe tbody tr th:only-of-type {\n",
       "        vertical-align: middle;\n",
       "    }\n",
       "\n",
       "    .dataframe tbody tr th {\n",
       "        vertical-align: top;\n",
       "    }\n",
       "\n",
       "    .dataframe thead th {\n",
       "        text-align: right;\n",
       "    }\n",
       "</style>\n",
       "<table border=\"1\" class=\"dataframe\">\n",
       "  <thead>\n",
       "    <tr style=\"text-align: right;\">\n",
       "      <th></th>\n",
       "      <th>Models</th>\n",
       "      <th>Accuracy</th>\n",
       "      <th>Precision</th>\n",
       "      <th>Recall</th>\n",
       "      <th>F1-score</th>\n",
       "    </tr>\n",
       "  </thead>\n",
       "  <tbody>\n",
       "    <tr>\n",
       "      <th>0</th>\n",
       "      <td>Decision Tree</td>\n",
       "      <td>58.0</td>\n",
       "      <td>0.58</td>\n",
       "      <td>0.58</td>\n",
       "      <td>0.58</td>\n",
       "    </tr>\n",
       "    <tr>\n",
       "      <th>1</th>\n",
       "      <td>Random Forest</td>\n",
       "      <td>65.0</td>\n",
       "      <td>0.58</td>\n",
       "      <td>0.65</td>\n",
       "      <td>0.58</td>\n",
       "    </tr>\n",
       "    <tr>\n",
       "      <th>2</th>\n",
       "      <td>KNeighbours</td>\n",
       "      <td>52.0</td>\n",
       "      <td>0.53</td>\n",
       "      <td>0.52</td>\n",
       "      <td>0.53</td>\n",
       "    </tr>\n",
       "    <tr>\n",
       "      <th>3</th>\n",
       "      <td>Support Vector</td>\n",
       "      <td>67.0</td>\n",
       "      <td>0.45</td>\n",
       "      <td>0.67</td>\n",
       "      <td>0.54</td>\n",
       "    </tr>\n",
       "  </tbody>\n",
       "</table>\n",
       "</div>"
      ],
      "text/plain": [
       "           Models  Accuracy  Precision  Recall  F1-score\n",
       "0   Decision Tree      58.0       0.58    0.58      0.58\n",
       "1   Random Forest      65.0       0.58    0.65      0.58\n",
       "2     KNeighbours      52.0       0.53    0.52      0.53\n",
       "3  Support Vector      67.0       0.45    0.67      0.54"
      ]
     },
     "execution_count": 77,
     "metadata": {},
     "output_type": "execute_result"
    }
   ],
   "source": [
    "acc_models = {'Models': ['Decision Tree', 'Random Forest', 'KNeighbours', 'Support Vector'],\n",
    "             'Accuracy': [dt_acc, rf_acc, knn_acc, svc_acc],\n",
    "             'Precision': [dt_pre, rf_pre, knn_pre, svc_pre],\n",
    "             'Recall': [dt_rec, rf_rec, knn_rec, svc_rec],\n",
    "             'F1-score': [dt_f1, rf_f1, knn_f1, svc_f1]}\n",
    "df_acc = pd.DataFrame(acc_models)\n",
    "df_acc.head()"
   ]
  },
  {
   "cell_type": "markdown",
   "id": "c74d45c3",
   "metadata": {},
   "source": [
    "### Confusion matrix"
   ]
  },
  {
   "cell_type": "code",
   "execution_count": 241,
   "id": "99db04d6",
   "metadata": {},
   "outputs": [
    {
     "data": {
      "text/plain": [
       "<AxesSubplot:>"
      ]
     },
     "execution_count": 241,
     "metadata": {},
     "output_type": "execute_result"
    },
    {
     "data": {
      "image/png": "[encoded data removed]",
      "text/plain": [
       "<Figure size 432x288 with 2 Axes>"
      ]
     },
     "metadata": {},
     "output_type": "display_data"
    }
   ],
   "source": [
    "plt.suptitle('Random Forest', fontsize = 15)\n",
    "sns.heatmap(confusion_matrix(y_test, rf_pred),annot=True, fmt='g',cmap='viridis')"
   ]
  },
  {
   "cell_type": "code",
   "execution_count": 240,
   "id": "32d9daf9",
   "metadata": {},
   "outputs": [
    {
     "data": {
      "text/plain": [
       "<AxesSubplot:>"
      ]
     },
     "execution_count": 240,
     "metadata": {},
     "output_type": "execute_result"
    },
    {
     "data": {
      "image/png": "[encoded data removed]",
      "text/plain": [
       "<Figure size 432x288 with 2 Axes>"
      ]
     },
     "metadata": {},
     "output_type": "display_data"
    }
   ],
   "source": [
    "plt.suptitle('Decision Tree', fontsize = 20)\n",
    "sns.heatmap(confusion_matrix(y_test, dt_pred),annot=True, fmt='g',cmap='viridis')"
   ]
  },
  {
   "cell_type": "code",
   "execution_count": 239,
   "id": "fdf47ece",
   "metadata": {},
   "outputs": [
    {
     "data": {
      "text/plain": [
       "<AxesSubplot:>"
      ]
     },
     "execution_count": 239,
     "metadata": {},
     "output_type": "execute_result"
    },
    {
     "data": {
      "image/png": "[encoded data removed]",
      "text/plain": [
       "<Figure size 432x288 with 2 Axes>"
      ]
     },
     "metadata": {},
     "output_type": "display_data"
    }
   ],
   "source": [
    "plt.suptitle('KNN', fontsize = 15)\n",
    "sns.heatmap(confusion_matrix(y_test, knn_pred),annot=True, fmt='g',cmap='viridis')"
   ]
  },
  {
   "cell_type": "code",
   "execution_count": 237,
   "id": "9dfa80a1",
   "metadata": {},
   "outputs": [
    {
     "data": {
      "text/plain": [
       "<AxesSubplot:>"
      ]
     },
     "execution_count": 237,
     "metadata": {},
     "output_type": "execute_result"
    },
    {
     "data": {
      "image/png": "[encoded data removed]",
      "text/plain": [
       "<Figure size 432x288 with 2 Axes>"
      ]
     },
     "metadata": {},
     "output_type": "display_data"
    }
   ],
   "source": [
    "plt.suptitle('Support Vector Machine', fontsize = 15)\n",
    "sns.heatmap(confusion_matrix(y_test, svc_pred),annot=True, fmt='g',cmap='viridis')"
   ]
  }
 ],
 "metadata": {
  "kernelspec": {
   "display_name": "Python 3 (ipykernel)",
   "language": "python",
   "name": "python3"
  },
  "language_info": {
   "codemirror_mode": {
    "name": "ipython",
    "version": 3
   },
   "file_extension": ".py",
   "mimetype": "text/x-python",
   "name": "python",
   "nbconvert_exporter": "python",
   "pygments_lexer": "ipython3",
   "version": "3.9.7"
  }
 },
 "nbformat": 4,
 "nbformat_minor": 5
}
