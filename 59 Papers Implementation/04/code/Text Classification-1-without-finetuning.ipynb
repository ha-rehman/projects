{
 "cells": [
  {
   "cell_type": "markdown",
   "id": "bb87dd1e",
   "metadata": {},
   "source": [
    "## Import Libraries"
   ]
  },
  {
   "cell_type": "code",
   "execution_count": 2,
   "id": "473c2f18",
   "metadata": {},
   "outputs": [],
   "source": [
    "import warnings\n",
    "warnings.filterwarnings('ignore')"
   ]
  },
  {
   "cell_type": "code",
   "execution_count": 3,
   "id": "480eca97",
   "metadata": {},
   "outputs": [],
   "source": [
    "import os\n",
    "import json\n",
    "import math\n",
    "import random\n",
    "import pickle\n",
    "import numpy as np\n",
    "import pandas as pd\n",
    "from tabulate import tabulate\n",
    "from tqdm.notebook import tqdm\n",
    "from matplotlib import pyplot as plt\n",
    "from sklearn.metrics import classification_report\n",
    "from sklearn.model_selection import train_test_split\n",
    "from sklearn.metrics import ConfusionMatrixDisplay, confusion_matrix\n",
    "from sklearn.metrics import accuracy_score,precision_score, recall_score, f1_score, matthews_corrcoef\n",
    "\n",
    "import torch\n",
    "import torch.nn as nn\n",
    "from torch.optim import Adam, AdamW, SGD\n",
    "from torch.nn.utils import clip_grad_norm_\n",
    "from torch.utils.data import TensorDataset, DataLoader, RandomSampler, SequentialSampler\n",
    "\n",
    "from transformers import get_linear_schedule_with_warmup\n",
    "from transformers import BertTokenizer, Trainer, TrainingArguments,AutoTokenizer, BertForPreTraining\n",
    "from transformers import DataCollatorWithPadding,AutoModelForSequenceClassification, AutoModel,AutoConfig\n",
    "from transformers.modeling_outputs import TokenClassifierOutput\n"
   ]
  },
  {
   "cell_type": "markdown",
   "id": "8fa03fec",
   "metadata": {},
   "source": [
    "## Read Dataset"
   ]
  },
  {
   "cell_type": "code",
   "execution_count": 4,
   "id": "18daa3ff",
   "metadata": {},
   "outputs": [
    {
     "name": "stdout",
     "output_type": "stream",
     "text": [
      "Requirement already satisfied: fsspec in /home/icrl/anaconda3/envs/transformer/lib/python3.7/site-packages (2023.1.0)\r\n"
     ]
    }
   ],
   "source": [
    "!pip install fsspec"
   ]
  },
  {
   "cell_type": "code",
   "execution_count": 5,
   "id": "0dd20a97",
   "metadata": {},
   "outputs": [
    {
     "data": {
      "text/plain": [
       "array([ 0,  1,  2,  3,  4,  5,  6,  7,  8,  9, 10, 11, 12, 13, 14, 15, 16,\n",
       "       17, 18, 19, 20, 21], dtype=int8)"
      ]
     },
     "execution_count": 5,
     "metadata": {},
     "output_type": "execute_result"
    }
   ],
   "source": [
    "#df = pickle.load(open('dataset/230130_SmallOberkategorie.pickle', 'rb'))\n",
    "df = pd.read_pickle(\"dataset/230130_SmallOberkategorie.pickle\")\n",
    "label_names = df['labels'].unique()\n",
    "label_names"
   ]
  },
  {
   "cell_type": "markdown",
   "id": "6f4cbbfd",
   "metadata": {},
   "source": [
    "# Data Preprocessing\n",
    "## Train Test Split"
   ]
  },
  {
   "cell_type": "code",
   "execution_count": 6,
   "id": "62dd0641",
   "metadata": {},
   "outputs": [],
   "source": [
    "def split_df(X, y):    \n",
    "\n",
    "    X_train, X_val, y_train, y_val = train_test_split(X, y, test_size=0.10, random_state=42)\n",
    "\n",
    "    fig, axes = plt.subplots(figsize=(12,4),nrows=1, ncols=2)\n",
    "\n",
    "    ax1=axes[0]\n",
    "    y_train.value_counts().plot(ax= ax1, kind='bar')\n",
    "    ax1.set_title(\"Class Distribution in the Train Set\")\n",
    "    ax1.set_xlabel(\"Label\")\n",
    "    ax1.set_ylabel(\"Count\")\n",
    "\n",
    "\n",
    "    ax2=axes[1]\n",
    "    y_val.value_counts().plot(ax=ax2, kind='bar')\n",
    "    ax2.set_title(\"Class Distribution in the Test Set\")\n",
    "    ax2.set_xlabel(\"Label\")\n",
    "    ax2.set_ylabel(\"Count\")\n",
    "    plt.show()\n",
    "    \n",
    "    return X_train, X_val, y_train, y_val"
   ]
  },
  {
   "cell_type": "markdown",
   "id": "5b5abfdf",
   "metadata": {},
   "source": [
    "## Tokenization"
   ]
  },
  {
   "cell_type": "code",
   "execution_count": 7,
   "id": "0f1feac9",
   "metadata": {},
   "outputs": [],
   "source": [
    "def tokenize(model_name):\n",
    "    random_seed = 42\n",
    "    np.random.seed(random_seed)\n",
    "    torch.manual_seed(random_seed)\n",
    "    torch.cuda.manual_seed(random_seed)\n",
    "    torch.backends.cudnn.deterministic = True\n",
    "    torch.backends.cudnn.benchmark = False\n",
    "    \n",
    "    tokenizer = AutoTokenizer.from_pretrained(model_name, do_lower_case=True)\n",
    "    \n",
    "    # Set the seed for the tokenizer\n",
    "    tokenizer.set_seed(random_seed)\n",
    "    return tokenizer\n",
    "\n",
    "# uncommment this function in case of mot propoerly encode the model\n",
    "# def tokenize(model_name):\n",
    "#     try:\n",
    "#         tokenizer = BertTokenizer.from_pretrained(model_name, do_lower_case=True)\n",
    "#     except:\n",
    "#         tokenizer = AutoTokenizer.from_pretrained(model_name, do_lower_case=True)\n",
    "#     return tokenizer"
   ]
  },
  {
   "cell_type": "markdown",
   "id": "d667bb17",
   "metadata": {},
   "source": [
    "## Encode datasets"
   ]
  },
  {
   "cell_type": "code",
   "execution_count": 8,
   "id": "2d9e873c",
   "metadata": {},
   "outputs": [],
   "source": [
    "def encode(docs, tokenizer):\n",
    "    '''\n",
    "    This function takes list of texts and returns input_ids and attention_mask of texts\n",
    "    '''\n",
    "    encoded_dict = tokenizer.batch_encode_plus(docs, add_special_tokens=True, max_length=128, padding='max_length',\n",
    "                            return_attention_mask=True, truncation=True, return_tensors='pt')\n",
    "    input_ids = encoded_dict['input_ids']\n",
    "    attention_masks = encoded_dict['attention_mask']\n",
    "    return input_ids, attention_masks"
   ]
  },
  {
   "cell_type": "markdown",
   "id": "fef25089",
   "metadata": {},
   "source": [
    "## Process datasets"
   ]
  },
  {
   "cell_type": "code",
   "execution_count": 9,
   "id": "4187590d",
   "metadata": {},
   "outputs": [],
   "source": [
    "def preprocess_dataset(model_name, X, y, batch_size):\n",
    "    # initialize tokenizer\n",
    "    tokenizer = tokenize(model_name)\n",
    "    \n",
    "    # encode dataset with the tokenizer\n",
    "    train_input_ids, train_att_masks = encode(X['text'].values.tolist(), tokenizer)\n",
    "\n",
    "    \n",
    "    # convert the labels into tensor\n",
    "    train_y = torch.LongTensor(y.values.tolist())\n",
    "\n",
    "    \n",
    "    # convert the encoded dataset into dataloaders\n",
    "    torch.manual_seed(42)\n",
    "    \n",
    "    generator = torch.Generator().manual_seed(42)\n",
    "    train_dataset = TensorDataset(train_input_ids, train_att_masks, train_y)\n",
    "    train_sampler = RandomSampler(train_dataset)\n",
    "    train_dataloader = DataLoader(train_dataset, sampler=train_sampler, batch_size=batch_size, num_workers=4, generator=generator)\n",
    "    \n",
    "    return train_dataloader"
   ]
  },
  {
   "cell_type": "markdown",
   "id": "d2afdf32",
   "metadata": {},
   "source": [
    "# Transformer Models\n",
    "## Model Creation"
   ]
  },
  {
   "cell_type": "markdown",
   "id": "9bce7ed1-2412-4d35-9bdf-58b07846a42a",
   "metadata": {},
   "source": [
    "### Model without custom head"
   ]
  },
  {
   "cell_type": "code",
   "execution_count": 10,
   "id": "a9b5f001",
   "metadata": {},
   "outputs": [],
   "source": [
    "class CustomModel1(nn.Module):\n",
    "    def __init__(self, checkpoint, num_labels, freeze_layers=True):\n",
    "        super(CustomModel1, self).__init__()\n",
    "        self.num_labels = num_labels\n",
    "        \n",
    "        # Load pre-trained model and freeze all layers except the classifier\n",
    "        config = AutoConfig.from_pretrained(checkpoint, num_labels=num_labels)\n",
    "        pretrain_model = AutoModelForSequenceClassification.from_pretrained(checkpoint, config=config)\n",
    "        # pretrain_model = BertForPreTraining.from_pretrained(checkpoint, config=config)\n",
    "        self.model = pretrain_model.bert\n",
    "        \n",
    "        for name, param in self.model.named_parameters():\n",
    "            if 'classifier' not in name:\n",
    "                param.requires_grad = not freeze_layers\n",
    "            \n",
    "    def forward(self, input_ids=None, attention_mask=None, labels=None):\n",
    "        # Feed input through the base model\n",
    "        outputs = self.model(input_ids=input_ids, attention_mask=attention_mask, labels=labels)\n",
    "\n",
    "        # Extract the last hidden state and compute logits\n",
    "        last_hidden_state = outputs.last_hidden_state[:, 0]\n",
    "        logits = self.classifier(last_hidden_state)\n",
    "\n",
    "        # Compute loss if labels are provided\n",
    "        loss = None\n",
    "        if labels is not None:\n",
    "            loss = outputs.loss\n",
    "            logits = outputs.logits\n",
    "\n",
    "        return TokenClassifierOutput(loss=loss, logits=logits, hidden_states=outputs.hidden_states, attentions=outputs.attentions)"
   ]
  },
  {
   "cell_type": "markdown",
   "id": "0d4dd5cf-83c3-458b-970b-e13cb06d315f",
   "metadata": {},
   "source": [
    "### Model with custom head"
   ]
  },
  {
   "cell_type": "code",
   "execution_count": 11,
   "id": "9799ab43",
   "metadata": {},
   "outputs": [],
   "source": [
    "class CustomModel2(nn.Module):\n",
    "    def __init__(self, checkpoint, num_labels, freeze_layers=True): \n",
    "        super(CustomModel2, self).__init__() \n",
    "        self.num_labels = num_labels \n",
    "\n",
    "        # Load Model with given checkpoint and extract its body\n",
    "        config = AutoConfig.from_pretrained(checkpoint, num_labels=num_labels, output_attentions=True, output_hidden_states=True)\n",
    "        pretrain_model = AutoModelForSequenceClassification.from_pretrained(checkpoint, config=config)\n",
    "        # pretrain_model = BertForPreTraining.from_pretrained(checkpoint, config=config)\n",
    "        self.model = pretrain_model.bert\n",
    "\n",
    "        # Freeze all base model layers except the classification layer\n",
    "        for name, param in self.model.named_parameters():\n",
    "            if 'classifier' not in name:  # classifier layer should not be frozen\n",
    "                param.requires_grad = not freeze_layers\n",
    "\n",
    "        \n",
    "        # Add custom layers\n",
    "        self.activation = nn.ReLU()\n",
    "        self.dropout = nn.Dropout(0.1)\n",
    "        self.hidden_layer1 = nn.Linear(768, 512)\n",
    "        self.hidden_layer2 = nn.Linear(512, 256)\n",
    "        self.hidden_layer3 = nn.Linear(256, 768)\n",
    "        self.classifier = nn.Linear(768, num_labels)\n",
    "        \n",
    "        \n",
    "    def forward(self, input_ids=None, attention_mask=None, labels=None):\n",
    "        # Extract outputs from the body\n",
    "        outputs = self.model(input_ids=input_ids, attention_mask=attention_mask)\n",
    "\n",
    "        # Add custom layers\n",
    "        sequence_output = self.dropout(outputs[0])  # outputs[0]=last hidden state\n",
    "        hidden_output1 = self.activation(self.hidden_layer1(sequence_output))\n",
    "        hidden_output2 = self.activation(self.hidden_layer2(hidden_output1))\n",
    "        hidden_output3 = self.hidden_layer3(hidden_output2)\n",
    "        final_output = self.dropout(hidden_output3)\n",
    "        logits = self.classifier(final_output[:,0,:].view(-1, final_output.size(-1)))  # calculate losses\n",
    "\n",
    "        loss = None\n",
    "        if labels is not None:\n",
    "        # set class weights here  \n",
    "#           device = torch.device(\"cuda\" if torch.cuda.is_available() else \"cpu\")\n",
    "#           class_weights = torch.tensor([1.0, 1.0, 1.0, 1.0, 1.0, 1.0, 1.0, 1.0, 1.0, 1.0, 1.0, 1.0, 1.0, 1.0, 1.0, 1.0, 1.0, 1.0, 1.0, 1.0, 1.0, 1.0]).to(device) # set weights here\n",
    "            # self.model.classifier.weights = class_weights\n",
    "            loss_fct = nn.CrossEntropyLoss()\n",
    "            loss = loss_fct(logits.view(-1, self.num_labels), labels.view(-1))\n",
    "\n",
    "        return TokenClassifierOutput(loss=loss, logits=logits, hidden_states=outputs.hidden_states, attentions=outputs.attentions)\n"
   ]
  },
  {
   "cell_type": "markdown",
   "id": "498a3d74",
   "metadata": {},
   "source": [
    "## Model Trainer\n",
    "<span style='color:red'>P1<span>"
   ]
  },
  {
   "cell_type": "code",
   "execution_count": 12,
   "id": "9cb683fd",
   "metadata": {},
   "outputs": [],
   "source": [
    "def trainer(model, batch_size, optimizer, epochs, train_dataloader, valid_dataloader, val_steps):\n",
    "\n",
    "    steps = 0\n",
    "    train_acc_per_epoch = []\n",
    "    train_loss_per_epoch = []\n",
    "    val_acc_per_epoch = []\n",
    "    val_loss_per_epoch = []\n",
    "    \n",
    "    # Set the seed for reproducibility\n",
    "    seed_val = 42\n",
    "    random.seed(seed_val)\n",
    "    np.random.seed(seed_val)\n",
    "    torch.manual_seed(seed_val)\n",
    "    torch.cuda.manual_seed_all(seed_val)\n",
    "\n",
    "    device = torch.device(\"cuda\" if torch.cuda.is_available() else \"cpu\")\n",
    "    scheduler = get_linear_schedule_with_warmup(optimizer, \n",
    "                 num_warmup_steps=0,\n",
    "                num_training_steps=len(train_dataloader)*epochs )\n",
    "\n",
    "    \n",
    "    train_loss = 0\n",
    "    train_total_correct = 0\n",
    "    train_total_examples = 0\n",
    "    \n",
    "    for epoch_num in range(epochs):\n",
    "        print('Epoch: ', epoch_num + 1)\n",
    "        '''\n",
    "        Training\n",
    "        '''\n",
    "        model.train()\n",
    "\n",
    "        for step_num, batch_data in enumerate(tqdm(train_dataloader,desc='Training')):\n",
    "            input_ids, att_mask, labels = [data.to(device) for data in batch_data]\n",
    "            output = model(input_ids = input_ids, attention_mask=att_mask, labels= labels)\n",
    "\n",
    "            loss = output.loss\n",
    "            train_loss += loss.item()\n",
    "\n",
    "            model.zero_grad()\n",
    "            loss.backward()\n",
    "            del loss\n",
    "\n",
    "            clip_grad_norm_(parameters=model.parameters(), max_norm=1.0)\n",
    "            optimizer.step()\n",
    "            scheduler.step()\n",
    "            \n",
    "            # update accuracy\n",
    "            _, predicted = torch.max(output.logits, dim=1)\n",
    "            train_total_correct += (predicted == labels).sum().item()\n",
    "            train_total_examples += labels.size(0)            \n",
    "            steps += 1\n",
    "            \n",
    "            '''\n",
    "            Validation\n",
    "            '''\n",
    "\n",
    "            if steps >= val_steps:\n",
    "                \n",
    "                model.eval()\n",
    "                val_total_correct = 0\n",
    "                val_total_examples = 0\n",
    "                valid_loss = 0\n",
    "                valid_pred = []\n",
    "                valid_label = []\n",
    "                with torch.no_grad():\n",
    "                    for step_num_e, batch_data in enumerate(tqdm(valid_dataloader,desc='Validation')):\n",
    "                        input_ids, att_mask, labels = [data.to(device) for data in batch_data]\n",
    "                        output = model(input_ids = input_ids, attention_mask=att_mask, labels= labels)\n",
    "\n",
    "                        loss = output.loss\n",
    "                        valid_loss += loss.item()\n",
    "\n",
    "                        valid_label.append(labels.cpu().detach().numpy())\n",
    "                        valid_pred.append(np.argmax(output.logits.cpu().detach().numpy(),axis=-1))\n",
    "\n",
    "                        # update accuracy\n",
    "                        _, predicted = torch.max(output.logits, dim=1)\n",
    "                        val_total_correct += (predicted == labels).sum().item()\n",
    "                        val_total_examples += labels.size(0)\n",
    "                \n",
    "                val_acc_per_epoch.append(val_total_correct / val_total_examples)\n",
    "                val_loss_per_epoch.append(valid_loss / steps)\n",
    "                \n",
    "                valid_label = np.concatenate(valid_label)\n",
    "                valid_pred = np.concatenate(valid_pred)\n",
    "                \n",
    "                print(\"{0}/{1} val accuracy: {2} \".format(steps, math.ceil(len(X_val) / batch_size), val_total_correct / val_total_examples))\n",
    "                print(\"{0}/{1} val loss: {2} \".format(steps, math.ceil(len(X_val) / batch_size), valid_loss / steps))\n",
    "                \n",
    "                \n",
    "                train_acc_per_epoch.append(train_total_correct / train_total_examples)\n",
    "                train_loss_per_epoch.append(train_loss / steps)  \n",
    "\n",
    "                print(\"{0}/{1} train accuracy: {2} \".format(steps, math.ceil(len(X_train) / batch_size), train_total_correct / train_total_examples))\n",
    "                print(\"{0}/{1} train loss: {2} \".format(steps, math.ceil(len(X_train) / batch_size), train_loss / steps + 1))\n",
    "                \n",
    "                steps = 0\n",
    "                train_loss = 0\n",
    "                train_total_correct = 0\n",
    "                train_total_examples = 0\n",
    "    return model, train_acc_per_epoch, train_loss_per_epoch, val_acc_per_epoch, val_loss_per_epoch, valid_label, valid_pred"
   ]
  },
  {
   "cell_type": "markdown",
   "id": "9c66bec5",
   "metadata": {},
   "source": [
    "## Evaluation and Plotting"
   ]
  },
  {
   "cell_type": "code",
   "execution_count": 13,
   "id": "a5832fad",
   "metadata": {},
   "outputs": [],
   "source": [
    "def plot_acc(epochs, train_acc_per_epoch, val_acc_per_epoch, model_name=\"Initial\"):\n",
    "    epochs_list = range(1, len(train_acc_per_epoch) +1 )\n",
    "    fig, ax = plt.subplots()\n",
    "    ax.plot(epochs_list,train_acc_per_epoch,label ='training accuracy')\n",
    "    ax.plot(epochs_list,val_acc_per_epoch,label ='validation accuracy')\n",
    "    ax.set_title('Training and Validation Accuracy of {} model'.format(model_name))\n",
    "    ax.set_xlabel('Steps')\n",
    "    ax.set_ylabel('Accuracy')\n",
    "    ax.legend()\n",
    "    img_url = 'figures/accuracy-train-' + model_name + '.png' \n",
    "    plt.savefig(img_url)\n",
    "    plt.show()\n",
    "    \n",
    "def plot_loss(epochs, train_loss_per_epoch, val_loss_per_epoch, model_name=\"Initial\"):\n",
    "    epochs_list = range(1, len(train_loss_per_epoch) +1 )\n",
    "    fig, ax = plt.subplots()\n",
    "    ax.plot(epochs_list,train_loss_per_epoch,label ='train loss')\n",
    "    ax.plot(epochs_list, val_loss_per_epoch, label = 'validation loss' )\n",
    "    ax.set_title('Training and Validation Loss of {} model'.format(model_name))\n",
    "    ax.set_xlabel('Steps')\n",
    "    ax.set_ylabel('Loss')\n",
    "    ax.legend()\n",
    "    img_url = 'figures/loss-train-' + model_name + '.png' \n",
    "    plt.savefig(img_url)\n",
    "    plt.show()"
   ]
  },
  {
   "cell_type": "code",
   "execution_count": 14,
   "id": "55fe3982",
   "metadata": {},
   "outputs": [],
   "source": [
    "def calculate_classification_reprot(label_names, val_label, valid_pred, model_name=\"Initial\"):\n",
    "    label_names_str = [str(x) for x in label_names]\n",
    "    print('classifiation report of {} model'.format(model_name))\n",
    "    print(classification_report(valid_pred, val_label, target_names=label_names_str))"
   ]
  },
  {
   "cell_type": "code",
   "execution_count": 15,
   "id": "f97370ed",
   "metadata": {},
   "outputs": [],
   "source": [
    "def plot_confusion_matrix(y_preds, y_true, label_names, training=False, model_name=\"Initial\"):\n",
    "    label_names_str = [str(x) for x in label_names]\n",
    "    cm = confusion_matrix(y_true, y_preds, normalize=None)\n",
    "    \n",
    "    index= 0\n",
    "    data = []\n",
    "    for row in cm:\n",
    "        label = label_names[index]\n",
    "        total_correct = row[index]\n",
    "        total_count = row.sum()\n",
    "        data.append([label, total_correct, total_count])\n",
    "        index += 1\n",
    "    \n",
    "    # Create the pandas DataFrame\n",
    "    df = pd.DataFrame(data, columns = ['Label', 'Correct_preds', 'Total_preds'])\n",
    "    print(df)\n",
    "    return df"
   ]
  },
  {
   "cell_type": "code",
   "execution_count": 16,
   "id": "9b7e5c7e",
   "metadata": {},
   "outputs": [],
   "source": [
    "def get_evaluation_results(y_test_set, predictions):\n",
    "    #store results of model\n",
    "    acc = accuracy_score(y_test_set, predictions)\n",
    "    precision = precision_score(y_test_set, predictions,average='macro')\n",
    "    recall = recall_score(y_test_set, predictions,average='macro')\n",
    "    f1 = f1_score(y_test_set, predictions,average='macro')\n",
    "    mcc = matthews_corrcoef(y_test_set, predictions)\n",
    "    \n",
    "    results = [round(acc, 4), round(precision, 4), round(recall, 4), round(f1, 4), round(mcc, 4)]\n",
    "    return results"
   ]
  },
  {
   "cell_type": "markdown",
   "id": "cf6f3b4f",
   "metadata": {},
   "source": [
    "## Training"
   ]
  },
  {
   "cell_type": "code",
   "execution_count": 17,
   "id": "f5d4a367",
   "metadata": {},
   "outputs": [],
   "source": [
    "def training(models, configs, dataset):\n",
    "    custom_head = configs['custom_head']\n",
    "    freeze_layers = configs['freeze_layers']\n",
    "    optimizers = configs['optimizers']\n",
    "    epochs = configs['epochs']\n",
    "    batch_sizes = configs['batch_sizes']\n",
    "    learning_rates = configs['learning_rates']\n",
    "    val_steps = configs['val_steps']\n",
    "    \n",
    "    custom_head_label = 'custom' if custom_head else 'base'\n",
    "    model_function = CustomModel2 if custom_head else CustomModel1\n",
    "    \n",
    "    X_train, y_train, X_val, y_val = dataset.values() \n",
    "    \n",
    "    # dic form store results of all models\n",
    "    collect_train_results_of_all_model= {\n",
    "        'Metrics':['accuracy','precision','recall','f1-score', 'MCC']\n",
    "    }\n",
    "    \n",
    "    if os.path.exists(trained_models_file):\n",
    "        with open(trained_models_file, 'r') as f:\n",
    "            trained_models = [line.strip() for line in f]\n",
    "            f.close()\n",
    "    else:\n",
    "        trained_models = []\n",
    "            \n",
    "    \n",
    "    if os.path.exists(best_params_dict_path):\n",
    "        with open(best_params_dict_path, 'r') as params_file:\n",
    "            best_prams = json.load(params_file)\n",
    "    else:\n",
    "        best_prams = {}\n",
    "    \n",
    "    \n",
    "    for model_name in models:    \n",
    "        model_str = str(model_name).replace('/', '-')\n",
    "        model_identifier = custom_head_label + '-' + model_str\n",
    "        if best_prams.get(model_str) == None:\n",
    "            best_prams[model_identifier] = dict.fromkeys(['best_acc', 'optimizer', 'epochs',\n",
    "                            'batch_size', 'learning_rate'], 0.0)\n",
    "            \n",
    "        for batch_size in batch_sizes:\n",
    "            device = torch.device(\"cuda\" if torch.cuda.is_available() else \"cpu\")\n",
    "            train_dataloader = preprocess_dataset(model_name, X_train, y_train, batch_size)\n",
    "            valid_dataloader = preprocess_dataset(model_name, X_val, y_val, batch_size)\n",
    "            \n",
    "            for optimizer_name in optimizers:\n",
    "                for learning_rate in learning_rates:\n",
    "                    for num_epochs in epochs:\n",
    "                        \n",
    "                        optimizer_str = str(optimizer_name).split('.')[-1].split(\"'\")[0]\n",
    "                        epoch_str = 'epoch' + str(num_epochs)\n",
    "                        lr_str = 'lr' + str(learning_rate)\n",
    "                        batch_size_str = 'batchsize' + str(batch_size)\n",
    "                        model_variant = f'{custom_head_label}-{model_str}-{optimizer_str}-{epoch_str}-{lr_str}-{batch_size_str}-freeze-layer:{str(freeze_layers)}'\n",
    "                        \n",
    "                        model_url = 'models/' + model_identifier + '.pth'\n",
    "                        \n",
    "                        if model_variant in trained_models:\n",
    "                            continue\n",
    "                            \n",
    "                        print(\"===========================================\")\n",
    "                        print(f\"Hyperparameters: \\n {optimizer_str, lr_str, batch_size_str, epoch_str} \\n\")\n",
    "                        print(\"Start Training of {}\".format(model_variant))\n",
    "                        print(\"===========================================\")\n",
    "                        \n",
    "                        \n",
    "                        model = model_function(checkpoint=model_name, num_labels=len(label_names), freeze_layers=freeze_layers).to(device)\n",
    "                        optimizer = optimizer_name(model.parameters(), lr=learning_rate)\n",
    " \n",
    "                        model, train_acc_per_epoch, train_loss_per_epoch, val_acc_per_epoch, val_loss_per_epoch, valid_label, valid_pred = trainer(model, batch_size, optimizer, num_epochs, train_dataloader, valid_dataloader, val_steps)\n",
    "\n",
    "                        val_total_correct = (valid_label == valid_pred).sum().item()\n",
    "                        val_acc =  val_total_correct/len(valid_label)\n",
    "                        print(val_acc)\n",
    "                        \n",
    "                        plot_acc(num_epochs, train_acc_per_epoch, val_acc_per_epoch, model_variant)\n",
    "                        plot_loss(num_epochs, train_loss_per_epoch, val_loss_per_epoch, model_variant)\n",
    "                        correct_predictions_df = plot_confusion_matrix(valid_pred, valid_label, label_names, True, model_variant)\n",
    "                        collect_train_results_of_all_model[model_variant] = get_evaluation_results(valid_label, valid_pred)\n",
    "                        print(\"\\n\\n\")\n",
    "                        \n",
    "                        with open(trained_models_file, 'a') as f:\n",
    "                            f.write(f'{model_variant} \\n')\n",
    "                            \n",
    "                        if val_acc > best_prams[model_identifier]['best_acc']:\n",
    "                            best_prams[model_identifier]['best_acc'] = val_acc\n",
    "                            best_prams[model_identifier]['optimizer'] = optimizer_str\n",
    "                            best_prams[model_identifier]['epochs'] = num_epochs\n",
    "                            best_prams[model_identifier]['batch_size'] = batch_size\n",
    "                            best_prams[model_identifier]['learning_rate'] = learning_rate\n",
    "                            best_prams[model_identifier]['custom_head'] = custom_head\n",
    "                            best_prams[model_identifier]['freeze_layers'] = freeze_layers\n",
    "\n",
    "                            with open(best_params_dict_path, \"w\") as fp:\n",
    "                                json.dump(best_prams, fp)  # encode dict into JSON\n",
    "                            torch.save(model.state_dict(), model_url)\n",
    "                            csv_path = 'results/' + model_identifier + '.csv'\n",
    "                            correct_predictions_df.to_csv()\n",
    "        \n",
    "    metrics_data_frame = pd.DataFrame.from_dict(collect_train_results_of_all_model, orient='index')\n",
    "    print(tabulate(metrics_data_frame, tablefmt=\"fancy_grid\")) # convert results in to table"
   ]
  },
  {
   "cell_type": "markdown",
   "id": "7cee0b39",
   "metadata": {},
   "source": [
    "## Configurations and Settings\n",
    "<span style='color:red'>P2<span>"
   ]
  },
  {
   "cell_type": "markdown",
   "id": "0981cfcd-2923-4b33-b6c3-3b6ae8144fb7",
   "metadata": {},
   "source": [
    "## Hyperparameter Tuning"
   ]
  },
  {
   "cell_type": "markdown",
   "id": "473a8e55-edd7-421e-b75b-e7cd419d2726",
   "metadata": {},
   "source": [
    "### Running model without custom head and unfreeze layers"
   ]
  },
  {
   "cell_type": "code",
   "execution_count": 16,
   "id": "e239c7a7",
   "metadata": {
    "tags": []
   },
   "outputs": [
    {
     "data": {
      "image/png": "[encoded data removed]",
      "text/plain": [
       "<Figure size 1200x400 with 2 Axes>"
      ]
     },
     "metadata": {},
     "output_type": "display_data"
    },
    {
     "name": "stdout",
     "output_type": "stream",
     "text": [
      "===========================================\n",
      "Hyperparameters: \n",
      " ('Adam', 'lr0.0005', 'batchsize16', 'epoch2') \n",
      "\n",
      "Start Training of base-Bert-base-german-cased-Adam-epoch2-lr0.0005-batchsize16-freeze-layer:False\n",
      "===========================================\n"
     ]
    },
    {
     "name": "stderr",
     "output_type": "stream",
     "text": [
      "Some weights of the model checkpoint at Bert-base-german-cased were not used when initializing BertForSequenceClassification: ['cls.predictions.decoder.weight', 'cls.predictions.transform.dense.weight', 'cls.seq_relationship.bias', 'cls.predictions.transform.LayerNorm.bias', 'cls.predictions.transform.dense.bias', 'cls.seq_relationship.weight', 'cls.predictions.transform.LayerNorm.weight', 'cls.predictions.bias']\n",
      "- This IS expected if you are initializing BertForSequenceClassification from the checkpoint of a model trained on another task or with another architecture (e.g. initializing a BertForSequenceClassification model from a BertForPreTraining model).\n",
      "- This IS NOT expected if you are initializing BertForSequenceClassification from the checkpoint of a model that you expect to be exactly identical (initializing a BertForSequenceClassification model from a BertForSequenceClassification model).\n",
      "Some weights of BertForSequenceClassification were not initialized from the model checkpoint at Bert-base-german-cased and are newly initialized: ['classifier.bias', 'classifier.weight']\n",
      "You should probably TRAIN this model on a down-stream task to be able to use it for predictions and inference.\n"
     ]
    },
    {
     "name": "stdout",
     "output_type": "stream",
     "text": [
      "Epoch:  1\n"
     ]
    },
    {
     "data": {
      "application/vnd.jupyter.widget-view+json": {
       "model_id": "eb5e68adf44949aaab263b800bc418b1",
       "version_major": 2,
       "version_minor": 0
      },
      "text/plain": [
       "Training:   0%|          | 0/298 [00:00<?, ?it/s]"
      ]
     },
     "metadata": {},
     "output_type": "display_data"
    },
    {
     "ename": "TypeError",
     "evalue": "_forward_unimplemented() got an unexpected keyword argument 'input_ids'",
     "output_type": "error",
     "traceback": [
      "\u001b[0;31m---------------------------------------------------------------------------\u001b[0m",
      "\u001b[0;31mTypeError\u001b[0m                                 Traceback (most recent call last)",
      "\u001b[0;32m/var/tmp/ipykernel_8320/790608429.py\u001b[0m in \u001b[0;36m<module>\u001b[0;34m\u001b[0m\n\u001b[1;32m     32\u001b[0m \u001b[0;34m\u001b[0m\u001b[0m\n\u001b[1;32m     33\u001b[0m \u001b[0;31m# training without custom head\u001b[0m\u001b[0;34m\u001b[0m\u001b[0;34m\u001b[0m\u001b[0;34m\u001b[0m\u001b[0m\n\u001b[0;32m---> 34\u001b[0;31m \u001b[0mtraining\u001b[0m\u001b[0;34m(\u001b[0m\u001b[0mmodels\u001b[0m\u001b[0;34m,\u001b[0m \u001b[0mconfigs\u001b[0m\u001b[0;34m,\u001b[0m \u001b[0mdataset\u001b[0m\u001b[0;34m)\u001b[0m\u001b[0;34m\u001b[0m\u001b[0;34m\u001b[0m\u001b[0m\n\u001b[0m\u001b[1;32m     35\u001b[0m \u001b[0;34m\u001b[0m\u001b[0m\n",
      "\u001b[0;32m/var/tmp/ipykernel_8320/4286707236.py\u001b[0m in \u001b[0;36mtraining\u001b[0;34m(models, configs, dataset)\u001b[0m\n\u001b[1;32m     69\u001b[0m                         \u001b[0moptimizer\u001b[0m \u001b[0;34m=\u001b[0m \u001b[0moptimizer_name\u001b[0m\u001b[0;34m(\u001b[0m\u001b[0mmodel\u001b[0m\u001b[0;34m.\u001b[0m\u001b[0mparameters\u001b[0m\u001b[0;34m(\u001b[0m\u001b[0;34m)\u001b[0m\u001b[0;34m,\u001b[0m \u001b[0mlr\u001b[0m\u001b[0;34m=\u001b[0m\u001b[0mlearning_rate\u001b[0m\u001b[0;34m)\u001b[0m\u001b[0;34m\u001b[0m\u001b[0;34m\u001b[0m\u001b[0m\n\u001b[1;32m     70\u001b[0m \u001b[0;34m\u001b[0m\u001b[0m\n\u001b[0;32m---> 71\u001b[0;31m                         \u001b[0mmodel\u001b[0m\u001b[0;34m,\u001b[0m \u001b[0mtrain_acc_per_epoch\u001b[0m\u001b[0;34m,\u001b[0m \u001b[0mtrain_loss_per_epoch\u001b[0m\u001b[0;34m,\u001b[0m \u001b[0mval_acc_per_epoch\u001b[0m\u001b[0;34m,\u001b[0m \u001b[0mval_loss_per_epoch\u001b[0m\u001b[0;34m,\u001b[0m \u001b[0mvalid_label\u001b[0m\u001b[0;34m,\u001b[0m \u001b[0mvalid_pred\u001b[0m \u001b[0;34m=\u001b[0m \u001b[0mtrainer\u001b[0m\u001b[0;34m(\u001b[0m\u001b[0mmodel\u001b[0m\u001b[0;34m,\u001b[0m \u001b[0mbatch_size\u001b[0m\u001b[0;34m,\u001b[0m \u001b[0moptimizer\u001b[0m\u001b[0;34m,\u001b[0m \u001b[0mnum_epochs\u001b[0m\u001b[0;34m,\u001b[0m \u001b[0mtrain_dataloader\u001b[0m\u001b[0;34m,\u001b[0m \u001b[0mvalid_dataloader\u001b[0m\u001b[0;34m,\u001b[0m \u001b[0mval_steps\u001b[0m\u001b[0;34m)\u001b[0m\u001b[0;34m\u001b[0m\u001b[0;34m\u001b[0m\u001b[0m\n\u001b[0m\u001b[1;32m     72\u001b[0m \u001b[0;34m\u001b[0m\u001b[0m\n\u001b[1;32m     73\u001b[0m                         \u001b[0mval_total_correct\u001b[0m \u001b[0;34m=\u001b[0m \u001b[0;34m(\u001b[0m\u001b[0mvalid_label\u001b[0m \u001b[0;34m==\u001b[0m \u001b[0mvalid_pred\u001b[0m\u001b[0;34m)\u001b[0m\u001b[0;34m.\u001b[0m\u001b[0msum\u001b[0m\u001b[0;34m(\u001b[0m\u001b[0;34m)\u001b[0m\u001b[0;34m.\u001b[0m\u001b[0mitem\u001b[0m\u001b[0;34m(\u001b[0m\u001b[0;34m)\u001b[0m\u001b[0;34m\u001b[0m\u001b[0;34m\u001b[0m\u001b[0m\n",
      "\u001b[0;32m/var/tmp/ipykernel_8320/418167340.py\u001b[0m in \u001b[0;36mtrainer\u001b[0;34m(model, batch_size, optimizer, epochs, train_dataloader, valid_dataloader, val_steps)\u001b[0m\n\u001b[1;32m     33\u001b[0m         \u001b[0;32mfor\u001b[0m \u001b[0mstep_num\u001b[0m\u001b[0;34m,\u001b[0m \u001b[0mbatch_data\u001b[0m \u001b[0;32min\u001b[0m \u001b[0menumerate\u001b[0m\u001b[0;34m(\u001b[0m\u001b[0mtqdm\u001b[0m\u001b[0;34m(\u001b[0m\u001b[0mtrain_dataloader\u001b[0m\u001b[0;34m,\u001b[0m\u001b[0mdesc\u001b[0m\u001b[0;34m=\u001b[0m\u001b[0;34m'Training'\u001b[0m\u001b[0;34m)\u001b[0m\u001b[0;34m)\u001b[0m\u001b[0;34m:\u001b[0m\u001b[0;34m\u001b[0m\u001b[0;34m\u001b[0m\u001b[0m\n\u001b[1;32m     34\u001b[0m             \u001b[0minput_ids\u001b[0m\u001b[0;34m,\u001b[0m \u001b[0matt_mask\u001b[0m\u001b[0;34m,\u001b[0m \u001b[0mlabels\u001b[0m \u001b[0;34m=\u001b[0m \u001b[0;34m[\u001b[0m\u001b[0mdata\u001b[0m\u001b[0;34m.\u001b[0m\u001b[0mto\u001b[0m\u001b[0;34m(\u001b[0m\u001b[0mdevice\u001b[0m\u001b[0;34m)\u001b[0m \u001b[0;32mfor\u001b[0m \u001b[0mdata\u001b[0m \u001b[0;32min\u001b[0m \u001b[0mbatch_data\u001b[0m\u001b[0;34m]\u001b[0m\u001b[0;34m\u001b[0m\u001b[0;34m\u001b[0m\u001b[0m\n\u001b[0;32m---> 35\u001b[0;31m             \u001b[0moutput\u001b[0m \u001b[0;34m=\u001b[0m \u001b[0mmodel\u001b[0m\u001b[0;34m(\u001b[0m\u001b[0minput_ids\u001b[0m \u001b[0;34m=\u001b[0m \u001b[0minput_ids\u001b[0m\u001b[0;34m,\u001b[0m \u001b[0mattention_mask\u001b[0m\u001b[0;34m=\u001b[0m\u001b[0matt_mask\u001b[0m\u001b[0;34m,\u001b[0m \u001b[0mlabels\u001b[0m\u001b[0;34m=\u001b[0m \u001b[0mlabels\u001b[0m\u001b[0;34m)\u001b[0m\u001b[0;34m\u001b[0m\u001b[0;34m\u001b[0m\u001b[0m\n\u001b[0m\u001b[1;32m     36\u001b[0m \u001b[0;34m\u001b[0m\u001b[0m\n\u001b[1;32m     37\u001b[0m             \u001b[0mloss\u001b[0m \u001b[0;34m=\u001b[0m \u001b[0moutput\u001b[0m\u001b[0;34m.\u001b[0m\u001b[0mloss\u001b[0m\u001b[0;34m\u001b[0m\u001b[0;34m\u001b[0m\u001b[0m\n",
      "\u001b[0;32m/opt/conda/lib/python3.7/site-packages/torch/nn/modules/module.py\u001b[0m in \u001b[0;36m_call_impl\u001b[0;34m(self, *input, **kwargs)\u001b[0m\n\u001b[1;32m    720\u001b[0m             \u001b[0mresult\u001b[0m \u001b[0;34m=\u001b[0m \u001b[0mself\u001b[0m\u001b[0;34m.\u001b[0m\u001b[0m_slow_forward\u001b[0m\u001b[0;34m(\u001b[0m\u001b[0;34m*\u001b[0m\u001b[0minput\u001b[0m\u001b[0;34m,\u001b[0m \u001b[0;34m**\u001b[0m\u001b[0mkwargs\u001b[0m\u001b[0;34m)\u001b[0m\u001b[0;34m\u001b[0m\u001b[0;34m\u001b[0m\u001b[0m\n\u001b[1;32m    721\u001b[0m         \u001b[0;32melse\u001b[0m\u001b[0;34m:\u001b[0m\u001b[0;34m\u001b[0m\u001b[0;34m\u001b[0m\u001b[0m\n\u001b[0;32m--> 722\u001b[0;31m             \u001b[0mresult\u001b[0m \u001b[0;34m=\u001b[0m \u001b[0mself\u001b[0m\u001b[0;34m.\u001b[0m\u001b[0mforward\u001b[0m\u001b[0;34m(\u001b[0m\u001b[0;34m*\u001b[0m\u001b[0minput\u001b[0m\u001b[0;34m,\u001b[0m \u001b[0;34m**\u001b[0m\u001b[0mkwargs\u001b[0m\u001b[0;34m)\u001b[0m\u001b[0;34m\u001b[0m\u001b[0;34m\u001b[0m\u001b[0m\n\u001b[0m\u001b[1;32m    723\u001b[0m         for hook in itertools.chain(\n\u001b[1;32m    724\u001b[0m                 \u001b[0m_global_forward_hooks\u001b[0m\u001b[0;34m.\u001b[0m\u001b[0mvalues\u001b[0m\u001b[0;34m(\u001b[0m\u001b[0;34m)\u001b[0m\u001b[0;34m,\u001b[0m\u001b[0;34m\u001b[0m\u001b[0;34m\u001b[0m\u001b[0m\n",
      "\u001b[0;31mTypeError\u001b[0m: _forward_unimplemented() got an unexpected keyword argument 'input_ids'"
     ]
    }
   ],
   "source": [
    "trained_models_file = 'trained_models.txt'\n",
    "best_params_dict_path = 'best_params.json'\n",
    "\n",
    "#df = pickle.load(open('dataset/230130_SmallOberkategorie.pickle', 'rb'))\n",
    "df = pd.read_pickle(\"gs://transformer-textclassification/230130_testdata.pickle\")\n",
    "label_names = df['labels'].unique()\n",
    "# label_names\n",
    "\n",
    "X = df[['text']]\n",
    "y = df['labels']\n",
    "X_train, X_val, y_train, y_val = split_df(X, y)\n",
    "\n",
    "custom_head = False\n",
    "freeze_layers = False\n",
    "optimizers = [Adam]\n",
    "learning_rates = [5e-4]\n",
    "epochs = [2, 5]\n",
    "batch_sizes = [16]\n",
    "\n",
    "configs =     {'custom_head': custom_head, 'freeze_layers': freeze_layers,\n",
    "               'optimizers': optimizers, 'epochs': epochs, 'batch_sizes': batch_sizes,\n",
    "               'learning_rates': learning_rates, 'val_steps':100}\n",
    "dataset = {'X_train': X_train, 'y_train': y_train, 'X_val': X_val, 'y_val': y_val}\n",
    "\n",
    "models = [\n",
    "    'Bert-base-german-cased', \n",
    "#'Dbmdz/bert-base-german-uncased',\n",
    "#'Deepset/gbert-base',\n",
    "#'Xlm-roberta-base',\n",
    "#'Uklfr/gottbert-base'\n",
    "]\n",
    "\n",
    "# training without custom head\n",
    "training(models, configs, dataset)\n",
    "\n"
   ]
  },
  {
   "cell_type": "markdown",
   "id": "94c358e5-a3f0-4de1-869b-5c87651bc686",
   "metadata": {},
   "source": [
    "### Running model with custom head and unfreeze layers"
   ]
  },
  {
   "cell_type": "code",
   "execution_count": 17,
   "id": "80ccc38e-d695-4bd9-b231-ba5f35bafcce",
   "metadata": {},
   "outputs": [
    {
     "name": "stdout",
     "output_type": "stream",
     "text": [
      "===========================================\n",
      "Hyperparameters: \n",
      " ('Adam', 'lr0.0005', 'batchsize16', 'epoch2') \n",
      "\n",
      "Start Training of custom-Bert-base-german-cased-Adam-epoch2-lr0.0005-batchsize16-freeze-layer:False\n",
      "===========================================\n"
     ]
    },
    {
     "name": "stderr",
     "output_type": "stream",
     "text": [
      "Some weights of the model checkpoint at Bert-base-german-cased were not used when initializing BertForSequenceClassification: ['cls.predictions.decoder.weight', 'cls.predictions.transform.dense.weight', 'cls.seq_relationship.bias', 'cls.predictions.transform.LayerNorm.bias', 'cls.predictions.transform.dense.bias', 'cls.seq_relationship.weight', 'cls.predictions.transform.LayerNorm.weight', 'cls.predictions.bias']\n",
      "- This IS expected if you are initializing BertForSequenceClassification from the checkpoint of a model trained on another task or with another architecture (e.g. initializing a BertForSequenceClassification model from a BertForPreTraining model).\n",
      "- This IS NOT expected if you are initializing BertForSequenceClassification from the checkpoint of a model that you expect to be exactly identical (initializing a BertForSequenceClassification model from a BertForSequenceClassification model).\n",
      "Some weights of BertForSequenceClassification were not initialized from the model checkpoint at Bert-base-german-cased and are newly initialized: ['classifier.bias', 'classifier.weight']\n",
      "You should probably TRAIN this model on a down-stream task to be able to use it for predictions and inference.\n"
     ]
    },
    {
     "name": "stdout",
     "output_type": "stream",
     "text": [
      "Epoch:  1\n"
     ]
    },
    {
     "data": {
      "application/vnd.jupyter.widget-view+json": {
       "model_id": "432946d8e6c6455584a297a04a560552",
       "version_major": 2,
       "version_minor": 0
      },
      "text/plain": [
       "Training:   0%|          | 0/298 [00:00<?, ?it/s]"
      ]
     },
     "metadata": {},
     "output_type": "display_data"
    },
    {
     "data": {
      "application/vnd.jupyter.widget-view+json": {
       "model_id": "d2fb8bd208dc4b479abd540570b2707d",
       "version_major": 2,
       "version_minor": 0
      },
      "text/plain": [
       "Validation:   0%|          | 0/34 [00:00<?, ?it/s]"
      ]
     },
     "metadata": {},
     "output_type": "display_data"
    },
    {
     "name": "stdout",
     "output_type": "stream",
     "text": [
      "100/34 val accuracy: 0.04716981132075472 \n",
      "100/34 val loss: 1.0546339058876038 \n",
      "100/298 train accuracy: 0.055625 \n",
      "100/298 train loss: 4.102965278625488 \n"
     ]
    },
    {
     "data": {
      "application/vnd.jupyter.widget-view+json": {
       "model_id": "dd810f345da3440190e5380bb4400f3f",
       "version_major": 2,
       "version_minor": 0
      },
      "text/plain": [
       "Validation:   0%|          | 0/34 [00:00<?, ?it/s]"
      ]
     },
     "metadata": {},
     "output_type": "display_data"
    },
    {
     "name": "stdout",
     "output_type": "stream",
     "text": [
      "100/34 val accuracy: 0.033962264150943396 \n",
      "100/34 val loss: 1.0529068088531495 \n",
      "100/298 train accuracy: 0.039375 \n",
      "100/298 train loss: 4.094925365447998 \n",
      "Epoch:  2\n"
     ]
    },
    {
     "data": {
      "application/vnd.jupyter.widget-view+json": {
       "model_id": "2bc7b12aa7d44f6e95c0f907d74d4948",
       "version_major": 2,
       "version_minor": 0
      },
      "text/plain": [
       "Training:   0%|          | 0/298 [00:00<?, ?it/s]"
      ]
     },
     "metadata": {},
     "output_type": "display_data"
    },
    {
     "data": {
      "application/vnd.jupyter.widget-view+json": {
       "model_id": "7fcf6bf3625f43eb9b2d18859ff199c0",
       "version_major": 2,
       "version_minor": 0
      },
      "text/plain": [
       "Validation:   0%|          | 0/34 [00:00<?, ?it/s]"
      ]
     },
     "metadata": {},
     "output_type": "display_data"
    },
    {
     "name": "stdout",
     "output_type": "stream",
     "text": [
      "100/34 val accuracy: 0.04716981132075472 \n",
      "100/34 val loss: 1.051956512928009 \n",
      "100/298 train accuracy: 0.05572949279899812 \n",
      "100/298 train loss: 4.090721151828766 \n"
     ]
    },
    {
     "data": {
      "application/vnd.jupyter.widget-view+json": {
       "model_id": "039ea1e543fd4d0497e8223d2a9acae3",
       "version_major": 2,
       "version_minor": 0
      },
      "text/plain": [
       "Validation:   0%|          | 0/34 [00:00<?, ?it/s]"
      ]
     },
     "metadata": {},
     "output_type": "display_data"
    },
    {
     "name": "stdout",
     "output_type": "stream",
     "text": [
      "100/34 val accuracy: 0.04716981132075472 \n",
      "100/34 val loss: 1.0522683954238892 \n",
      "100/298 train accuracy: 0.06125 \n",
      "100/298 train loss: 4.088041198253632 \n"
     ]
    },
    {
     "data": {
      "application/vnd.jupyter.widget-view+json": {
       "model_id": "89d0ade434db43799aa9d5b5983dee7b",
       "version_major": 2,
       "version_minor": 0
      },
      "text/plain": [
       "Validation:   0%|          | 0/34 [00:00<?, ?it/s]"
      ]
     },
     "metadata": {},
     "output_type": "display_data"
    },
    {
     "name": "stdout",
     "output_type": "stream",
     "text": [
      "100/34 val accuracy: 0.04716981132075472 \n",
      "100/34 val loss: 1.0510843372344971 \n",
      "100/298 train accuracy: 0.05875 \n",
      "100/298 train loss: 4.086252598762512 \n",
      "0.04716981132075472\n"
     ]
    },
    {
     "data": {
      "image/png": "[encoded data removed]",
      "text/plain": [
       "<Figure size 640x480 with 1 Axes>"
      ]
     },
     "metadata": {},
     "output_type": "display_data"
    },
    {
     "data": {
      "image/png": "[encoded data removed]",
      "text/plain": [
       "<Figure size 640x480 with 1 Axes>"
      ]
     },
     "metadata": {},
     "output_type": "display_data"
    },
    {
     "name": "stdout",
     "output_type": "stream",
     "text": [
      "    Label  Correct_preds  Total_preds\n",
      "0       0              0           28\n",
      "1       1              0           28\n",
      "2       2              0           22\n",
      "3       3              0           24\n",
      "4       4              0           26\n",
      "5       5              0           24\n",
      "6       6              0           24\n",
      "7       7              0           24\n",
      "8       8              0           27\n",
      "9       9              0           24\n",
      "10     10              0           23\n",
      "11     11              0           20\n",
      "12     12              0           20\n",
      "13     13              0           28\n",
      "14     14              0           24\n",
      "15     15              0           29\n",
      "16     16             25           25\n",
      "17     17              0           21\n",
      "18     18              0           18\n",
      "19     19              0           26\n",
      "20     20              0           26\n",
      "21     21              0           19\n",
      "\n",
      "\n",
      "\n",
      "===========================================\n",
      "Hyperparameters: \n",
      " ('Adam', 'lr0.0005', 'batchsize16', 'epoch5') \n",
      "\n",
      "Start Training of custom-Bert-base-german-cased-Adam-epoch5-lr0.0005-batchsize16-freeze-layer:False\n",
      "===========================================\n"
     ]
    },
    {
     "name": "stderr",
     "output_type": "stream",
     "text": [
      "Some weights of the model checkpoint at Bert-base-german-cased were not used when initializing BertForSequenceClassification: ['cls.predictions.decoder.weight', 'cls.predictions.transform.dense.weight', 'cls.seq_relationship.bias', 'cls.predictions.transform.LayerNorm.bias', 'cls.predictions.transform.dense.bias', 'cls.seq_relationship.weight', 'cls.predictions.transform.LayerNorm.weight', 'cls.predictions.bias']\n",
      "- This IS expected if you are initializing BertForSequenceClassification from the checkpoint of a model trained on another task or with another architecture (e.g. initializing a BertForSequenceClassification model from a BertForPreTraining model).\n",
      "- This IS NOT expected if you are initializing BertForSequenceClassification from the checkpoint of a model that you expect to be exactly identical (initializing a BertForSequenceClassification model from a BertForSequenceClassification model).\n",
      "Some weights of BertForSequenceClassification were not initialized from the model checkpoint at Bert-base-german-cased and are newly initialized: ['classifier.bias', 'classifier.weight']\n",
      "You should probably TRAIN this model on a down-stream task to be able to use it for predictions and inference.\n"
     ]
    },
    {
     "name": "stdout",
     "output_type": "stream",
     "text": [
      "Epoch:  1\n"
     ]
    },
    {
     "data": {
      "application/vnd.jupyter.widget-view+json": {
       "model_id": "9396758884c648a98cb503ae272e9263",
       "version_major": 2,
       "version_minor": 0
      },
      "text/plain": [
       "Training:   0%|          | 0/298 [00:00<?, ?it/s]"
      ]
     },
     "metadata": {},
     "output_type": "display_data"
    },
    {
     "data": {
      "application/vnd.jupyter.widget-view+json": {
       "model_id": "f4f304e2d74d465cbca1a5d2a6a39f18",
       "version_major": 2,
       "version_minor": 0
      },
      "text/plain": [
       "Validation:   0%|          | 0/34 [00:00<?, ?it/s]"
      ]
     },
     "metadata": {},
     "output_type": "display_data"
    },
    {
     "name": "stdout",
     "output_type": "stream",
     "text": [
      "100/34 val accuracy: 0.04716981132075472 \n",
      "100/34 val loss: 1.0533196926116943 \n",
      "100/298 train accuracy: 0.060625 \n",
      "100/298 train loss: 4.105037069320678 \n"
     ]
    },
    {
     "data": {
      "application/vnd.jupyter.widget-view+json": {
       "model_id": "1224ee895247496d887185e4832c2f68",
       "version_major": 2,
       "version_minor": 0
      },
      "text/plain": [
       "Validation:   0%|          | 0/34 [00:00<?, ?it/s]"
      ]
     },
     "metadata": {},
     "output_type": "display_data"
    },
    {
     "name": "stdout",
     "output_type": "stream",
     "text": [
      "100/34 val accuracy: 0.05471698113207547 \n",
      "100/34 val loss: 1.0525263166427612 \n",
      "100/298 train accuracy: 0.045625 \n",
      "100/298 train loss: 4.095240137577057 \n",
      "Epoch:  2\n"
     ]
    },
    {
     "data": {
      "application/vnd.jupyter.widget-view+json": {
       "model_id": "a1c3f53f0db449808a65229f3a753a16",
       "version_major": 2,
       "version_minor": 0
      },
      "text/plain": [
       "Training:   0%|          | 0/298 [00:00<?, ?it/s]"
      ]
     },
     "metadata": {},
     "output_type": "display_data"
    },
    {
     "data": {
      "application/vnd.jupyter.widget-view+json": {
       "model_id": "d701abe9053242479b1affd595f1bb8b",
       "version_major": 2,
       "version_minor": 0
      },
      "text/plain": [
       "Validation:   0%|          | 0/34 [00:00<?, ?it/s]"
      ]
     },
     "metadata": {},
     "output_type": "display_data"
    },
    {
     "name": "stdout",
     "output_type": "stream",
     "text": [
      "100/34 val accuracy: 0.0509433962264151 \n",
      "100/34 val loss: 1.051968777179718 \n",
      "100/298 train accuracy: 0.06011271133375078 \n",
      "100/298 train loss: 4.089409000873566 \n"
     ]
    },
    {
     "data": {
      "application/vnd.jupyter.widget-view+json": {
       "model_id": "c0ff508c1bad423cbc2d8e91e58d3a62",
       "version_major": 2,
       "version_minor": 0
      },
      "text/plain": [
       "Validation:   0%|          | 0/34 [00:00<?, ?it/s]"
      ]
     },
     "metadata": {},
     "output_type": "display_data"
    },
    {
     "name": "stdout",
     "output_type": "stream",
     "text": [
      "100/34 val accuracy: 0.04716981132075472 \n",
      "100/34 val loss: 1.0521558260917663 \n",
      "100/298 train accuracy: 0.059375 \n",
      "100/298 train loss: 4.089001801013946 \n"
     ]
    },
    {
     "data": {
      "application/vnd.jupyter.widget-view+json": {
       "model_id": "622171c27ebe4c06bf234f5ced20a94f",
       "version_major": 2,
       "version_minor": 0
      },
      "text/plain": [
       "Validation:   0%|          | 0/34 [00:00<?, ?it/s]"
      ]
     },
     "metadata": {},
     "output_type": "display_data"
    },
    {
     "name": "stdout",
     "output_type": "stream",
     "text": [
      "100/34 val accuracy: 0.0509433962264151 \n",
      "100/34 val loss: 1.051285207271576 \n",
      "100/298 train accuracy: 0.05625 \n",
      "100/298 train loss: 4.086808311939239 \n",
      "Epoch:  3\n"
     ]
    },
    {
     "data": {
      "application/vnd.jupyter.widget-view+json": {
       "model_id": "8a4884cc0c4b41799bc2cc1f8cb9833a",
       "version_major": 2,
       "version_minor": 0
      },
      "text/plain": [
       "Training:   0%|          | 0/298 [00:00<?, ?it/s]"
      ]
     },
     "metadata": {},
     "output_type": "display_data"
    },
    {
     "data": {
      "application/vnd.jupyter.widget-view+json": {
       "model_id": "2829ddff1fee4401b7f566d54c03bd12",
       "version_major": 2,
       "version_minor": 0
      },
      "text/plain": [
       "Validation:   0%|          | 0/34 [00:00<?, ?it/s]"
      ]
     },
     "metadata": {},
     "output_type": "display_data"
    },
    {
     "name": "stdout",
     "output_type": "stream",
     "text": [
      "100/34 val accuracy: 0.0509433962264151 \n",
      "100/34 val loss: 1.0512054395675658 \n",
      "100/298 train accuracy: 0.055103318722604884 \n",
      "100/298 train loss: 4.086415429115295 \n"
     ]
    },
    {
     "data": {
      "application/vnd.jupyter.widget-view+json": {
       "model_id": "ce322bda08894ffaab6ac8a3051f78d9",
       "version_major": 2,
       "version_minor": 0
      },
      "text/plain": [
       "Validation:   0%|          | 0/34 [00:00<?, ?it/s]"
      ]
     },
     "metadata": {},
     "output_type": "display_data"
    },
    {
     "name": "stdout",
     "output_type": "stream",
     "text": [
      "100/34 val accuracy: 0.04716981132075472 \n",
      "100/34 val loss: 1.0514585590362548 \n",
      "100/298 train accuracy: 0.060625 \n",
      "100/298 train loss: 4.0862067246437075 \n"
     ]
    },
    {
     "data": {
      "application/vnd.jupyter.widget-view+json": {
       "model_id": "a90ce84191e146de88df88dcc373e953",
       "version_major": 2,
       "version_minor": 0
      },
      "text/plain": [
       "Validation:   0%|          | 0/34 [00:00<?, ?it/s]"
      ]
     },
     "metadata": {},
     "output_type": "display_data"
    },
    {
     "name": "stdout",
     "output_type": "stream",
     "text": [
      "100/34 val accuracy: 0.04716981132075472 \n",
      "100/34 val loss: 1.053031985759735 \n",
      "100/298 train accuracy: 0.05375 \n",
      "100/298 train loss: 4.086735544204712 \n",
      "Epoch:  4\n"
     ]
    },
    {
     "data": {
      "application/vnd.jupyter.widget-view+json": {
       "model_id": "3ca2a06692f0485c8d34530f776033d8",
       "version_major": 2,
       "version_minor": 0
      },
      "text/plain": [
       "Training:   0%|          | 0/298 [00:00<?, ?it/s]"
      ]
     },
     "metadata": {},
     "output_type": "display_data"
    },
    {
     "data": {
      "application/vnd.jupyter.widget-view+json": {
       "model_id": "4f66757b5edf4c9ba5f7eb77092aeee0",
       "version_major": 2,
       "version_minor": 0
      },
      "text/plain": [
       "Validation:   0%|          | 0/34 [00:00<?, ?it/s]"
      ]
     },
     "metadata": {},
     "output_type": "display_data"
    },
    {
     "name": "stdout",
     "output_type": "stream",
     "text": [
      "100/34 val accuracy: 0.0509433962264151 \n",
      "100/34 val loss: 1.0509459161758423 \n",
      "100/298 train accuracy: 0.06073888541014402 \n",
      "100/298 train loss: 4.0869673037529 \n"
     ]
    },
    {
     "data": {
      "application/vnd.jupyter.widget-view+json": {
       "model_id": "7f8eab6ffdd74cdba388e5c9cf92b141",
       "version_major": 2,
       "version_minor": 0
      },
      "text/plain": [
       "Validation:   0%|          | 0/34 [00:00<?, ?it/s]"
      ]
     },
     "metadata": {},
     "output_type": "display_data"
    },
    {
     "name": "stdout",
     "output_type": "stream",
     "text": [
      "100/34 val accuracy: 0.0509433962264151 \n",
      "100/34 val loss: 1.052938494682312 \n",
      "100/298 train accuracy: 0.05 \n",
      "100/298 train loss: 4.08565443277359 \n"
     ]
    },
    {
     "data": {
      "application/vnd.jupyter.widget-view+json": {
       "model_id": "d523271769fd44b19f575b75eb3db6ed",
       "version_major": 2,
       "version_minor": 0
      },
      "text/plain": [
       "Validation:   0%|          | 0/34 [00:00<?, ?it/s]"
      ]
     },
     "metadata": {},
     "output_type": "display_data"
    },
    {
     "name": "stdout",
     "output_type": "stream",
     "text": [
      "100/34 val accuracy: 0.0509433962264151 \n",
      "100/34 val loss: 1.0525619888305664 \n",
      "100/298 train accuracy: 0.054375 \n",
      "100/298 train loss: 4.089876437187195 \n",
      "Epoch:  5\n"
     ]
    },
    {
     "data": {
      "application/vnd.jupyter.widget-view+json": {
       "model_id": "ced2f7aa70804a4b8800d716b48ee300",
       "version_major": 2,
       "version_minor": 0
      },
      "text/plain": [
       "Training:   0%|          | 0/298 [00:00<?, ?it/s]"
      ]
     },
     "metadata": {},
     "output_type": "display_data"
    },
    {
     "data": {
      "application/vnd.jupyter.widget-view+json": {
       "model_id": "1d4dbca3c3734f6494c9b7250b1a0e0b",
       "version_major": 2,
       "version_minor": 0
      },
      "text/plain": [
       "Validation:   0%|          | 0/34 [00:00<?, ?it/s]"
      ]
     },
     "metadata": {},
     "output_type": "display_data"
    },
    {
     "name": "stdout",
     "output_type": "stream",
     "text": [
      "100/34 val accuracy: 0.0509433962264151 \n",
      "100/34 val loss: 1.053115336894989 \n",
      "100/298 train accuracy: 0.06762680025046963 \n",
      "100/298 train loss: 4.081214854717254 \n"
     ]
    },
    {
     "data": {
      "application/vnd.jupyter.widget-view+json": {
       "model_id": "37cb8af3c9324fd68db24f4031c31125",
       "version_major": 2,
       "version_minor": 0
      },
      "text/plain": [
       "Validation:   0%|          | 0/34 [00:00<?, ?it/s]"
      ]
     },
     "metadata": {},
     "output_type": "display_data"
    },
    {
     "name": "stdout",
     "output_type": "stream",
     "text": [
      "100/34 val accuracy: 0.0509433962264151 \n",
      "100/34 val loss: 1.0526241707801818 \n",
      "100/298 train accuracy: 0.06125 \n",
      "100/298 train loss: 4.082020483016968 \n"
     ]
    },
    {
     "data": {
      "application/vnd.jupyter.widget-view+json": {
       "model_id": "953b8cead8814564acd08d24ce2d57d3",
       "version_major": 2,
       "version_minor": 0
      },
      "text/plain": [
       "Validation:   0%|          | 0/34 [00:00<?, ?it/s]"
      ]
     },
     "metadata": {},
     "output_type": "display_data"
    },
    {
     "name": "stdout",
     "output_type": "stream",
     "text": [
      "100/34 val accuracy: 0.0509433962264151 \n",
      "100/34 val loss: 1.0516885280609132 \n",
      "100/298 train accuracy: 0.054375 \n",
      "100/298 train loss: 4.083760042190551 \n",
      "0.0509433962264151\n"
     ]
    },
    {
     "data": {
      "image/png": "[encoded data removed]",
      "text/plain": [
       "<Figure size 640x480 with 1 Axes>"
      ]
     },
     "metadata": {},
     "output_type": "display_data"
    },
    {
     "data": {
      "image/png": "[encoded data removed]",
      "text/plain": [
       "<Figure size 640x480 with 1 Axes>"
      ]
     },
     "metadata": {},
     "output_type": "display_data"
    },
    {
     "name": "stdout",
     "output_type": "stream",
     "text": [
      "    Label  Correct_preds  Total_preds\n",
      "0       0              0           28\n",
      "1       1              0           28\n",
      "2       2              0           22\n",
      "3       3              0           24\n",
      "4       4              0           26\n",
      "5       5              0           24\n",
      "6       6              0           24\n",
      "7       7              0           24\n",
      "8       8             27           27\n",
      "9       9              0           24\n",
      "10     10              0           23\n",
      "11     11              0           20\n",
      "12     12              0           20\n",
      "13     13              0           28\n",
      "14     14              0           24\n",
      "15     15              0           29\n",
      "16     16              0           25\n",
      "17     17              0           21\n",
      "18     18              0           18\n",
      "19     19              0           26\n",
      "20     20              0           26\n",
      "21     21              0           19\n",
      "\n",
      "\n",
      "\n",
      "╒═══════════════════════════════════════════════════════════════════════════════════╤══════════╤═══════════╤════════╤══════════╤═════╕\n",
      "│ Metrics                                                                           │ accuracy │ precision │ recall │ f1-score │ MCC │\n",
      "├───────────────────────────────────────────────────────────────────────────────────┼──────────┼───────────┼────────┼──────────┼─────┤\n",
      "│ custom-Bert-base-german-cased-Adam-epoch2-lr0.0005-batchsize16-freeze-layer:False │ 0.0472   │ 0.0021    │ 0.0455 │ 0.0041   │ 0.0 │\n",
      "├───────────────────────────────────────────────────────────────────────────────────┼──────────┼───────────┼────────┼──────────┼─────┤\n",
      "│ custom-Bert-base-german-cased-Adam-epoch5-lr0.0005-batchsize16-freeze-layer:False │ 0.0509   │ 0.0023    │ 0.0455 │ 0.0044   │ 0.0 │\n",
      "╘═══════════════════════════════════════════════════════════════════════════════════╧══════════╧═══════════╧════════╧══════════╧═════╛\n"
     ]
    }
   ],
   "source": [
    "# training with custom head\n",
    "configs['custom_head'] = True\n",
    "training(models, configs, dataset)"
   ]
  },
  {
   "cell_type": "markdown",
   "id": "2734338a",
   "metadata": {},
   "source": [
    "# Testing"
   ]
  },
  {
   "cell_type": "code",
   "execution_count": 19,
   "id": "6fac7371",
   "metadata": {},
   "outputs": [],
   "source": [
    "def validator(model, test_dataloader):\n",
    "    model.eval()\n",
    "    test_label = []\n",
    "    test_pred = []\n",
    "    test_loss= 0\n",
    "    device = torch.device(\"cuda\" if torch.cuda.is_available() else \"cpu\")\n",
    "    with torch.no_grad():\n",
    "        for step_num, batch_data in tqdm(enumerate(test_dataloader)):\n",
    "            input_ids, att_mask, labels = [data.to(device) for data in batch_data]\n",
    "            output = model(input_ids = input_ids, attention_mask=att_mask, labels= labels)\n",
    "            \n",
    "            attention_weights_final_layer = outputs[-1].cpu().detach().numpy()\n",
    "            for sampleindex in range(len(inputs['input_ids'])):\n",
    "                sample_attention_weights = []\n",
    "                for keyindex in range(len(attention_weights_final_layer[sampleindex, 0, 0])):\n",
    "                    x = attention_weights_final_layer[sampleindex, :, 0, keyindex].mean() \n",
    "                    sample_attention_weights.append(x)\n",
    "                attention_weights.append(sample_attention_weights)\n",
    "            \n",
    "            loss = output.loss\n",
    "            test_loss += loss.item()\n",
    "            \n",
    "            test_label.append(labels.cpu().detach().numpy())\n",
    "            test_pred.append(np.argmax(output.logits.cpu().detach().numpy(),axis=-1))\n",
    "    \n",
    "    test_label = np.concatenate(test_label)\n",
    "    test_pred = np.concatenate(test_pred)\n",
    "    \n",
    "    return test_label, test_pred"
   ]
  },
  {
   "cell_type": "code",
   "execution_count": 20,
   "id": "2e9fb71f",
   "metadata": {},
   "outputs": [],
   "source": [
    "def testing(models, best_params, configs, dataset):\n",
    "    \n",
    "    custom_head = configs['custom_head']\n",
    "    freeze_layers = True\n",
    "    X_test, y_test = dataset.values() \n",
    "    \n",
    "    custom_head_label = 'custom' if custom_head else 'base'\n",
    "    model_function = CustomModel2 if custom_head else CustomModel1\n",
    "\n",
    "    #dic form store results of all models\n",
    "    collect_test_results_of_all_model= {\n",
    "        'Metrics':['accuracy','precision','recall','f1-score', 'MCC']\n",
    "    }\n",
    "    \n",
    "    for model_name in models:\n",
    "        model_str = str(model_name).replace('/', '-')\n",
    "        model_identifier = custom_head_label + '-' + model_str\n",
    "        model_params = best_params[model_identifier]\n",
    "        optimizer = model_params['optimizer']\n",
    "        batch_size = model_params['batch_size']\n",
    "        learning_rate = model_params['learning_rate']\n",
    "        num_epochs = model_params['epochs']\n",
    "\n",
    "        device = torch.device(\"cuda\" if torch.cuda.is_available() else \"cpu\")\n",
    "        test_dataloader = preprocess_dataset(model_name, X_test, y_test, batch_size)\n",
    "        \n",
    "        \n",
    "        optimizer_str = str(optimizer).split('.')[-1].split(\"'\")[0]\n",
    "        epoch_str = 'epoch' + str(num_epochs)\n",
    "        lr_str = 'lr' + str(learning_rate)\n",
    "        batch_size_str = 'batchsize' + str(batch_size)\n",
    "        model_variant = f'{custom_head_label}-{model_str}-{optimizer_str}-{epoch_str}-{lr_str}-{batch_size_str}'\n",
    "        model_url = 'models/' + model_identifier + '.pth'\n",
    "\n",
    "        if os.path.exists(model_url): \n",
    "            \n",
    "            print(\"===========================================\")\n",
    "            print(f\"Hyperparameters: \\n {optimizer_str, lr_str, batch_size_str, epoch_str} \\n\")\n",
    "            print(\"Start Testing of {}\".format(model_variant))\n",
    "            print(\"===========================================\")\n",
    "        \n",
    "        \n",
    "            model = model_function(checkpoint=model_name, num_labels=len(label_names)).to(device)\n",
    "            model.load_state_dict(torch.load(model_url))\n",
    "            test_label, test_pred = validator(model, test_dataloader)\n",
    "\n",
    "            calculate_classification_reprot(label_names, test_label, test_pred, model_variant)\n",
    "            plot_confusion_matrix(test_pred, test_label, label_names, False, model_variant)\n",
    "            \n",
    "            collect_test_results_of_all_model[model_variant] = get_evaluation_results(test_label, test_pred)\n",
    "    \n",
    "    metrics_data_frame = pd.DataFrame.from_dict(collect_test_results_of_all_model, orient='index')\n",
    "    return metrics_data_frame"
   ]
  },
  {
   "cell_type": "markdown",
   "id": "24da2d19",
   "metadata": {},
   "source": [
    "<span style='color:red'>P3<span>"
   ]
  },
  {
   "cell_type": "code",
   "execution_count": 32,
   "id": "acdb3db7",
   "metadata": {
    "tags": []
   },
   "outputs": [
    {
     "name": "stdout",
     "output_type": "stream",
     "text": [
      "===========================================\n",
      "Hyperparameters: \n",
      " ('Adam', 'lr0.0005', 'batchsize16', 'epoch5') \n",
      "\n",
      "Start Testing of base-Bert-base-german-cased-Adam-epoch5-lr0.0005-batchsize16\n",
      "===========================================\n"
     ]
    },
    {
     "data": {
      "application/vnd.jupyter.widget-view+json": {
       "model_id": "fa831793acbc4f3d9248084403e93809",
       "version_major": 2,
       "version_minor": 0
      },
      "text/plain": [
       "0it [00:00, ?it/s]"
      ]
     },
     "metadata": {},
     "output_type": "display_data"
    },
    {
     "name": "stdout",
     "output_type": "stream",
     "text": [
      "classifiation report of base-Bert-base-german-cased-Adam-epoch5-lr0.0005-batchsize16 model\n",
      "              precision    recall  f1-score   support\n",
      "\n",
      "           0       0.00      0.00      0.00         0\n",
      "           1       0.00      0.00      0.00         0\n",
      "           2       0.00      0.00      0.00         0\n",
      "           3       0.00      0.00      0.00         0\n",
      "           4       0.00      0.00      0.00         0\n",
      "           5       0.00      0.00      0.00         0\n",
      "           6       0.00      0.00      0.00         0\n",
      "           7       0.00      0.00      0.00         0\n",
      "           8       0.00      0.00      0.00         0\n",
      "           9       0.00      0.00      0.00         0\n",
      "          10       0.00      0.00      0.00         0\n",
      "          11       0.00      0.00      0.00         0\n",
      "          12       0.00      0.00      0.00         0\n",
      "          13       0.00      0.00      0.00         0\n",
      "          14       0.00      0.00      0.00         0\n",
      "          15       0.00      0.00      0.00         0\n",
      "          16       1.00      0.06      0.11      2647\n",
      "          17       0.00      0.00      0.00         0\n",
      "          18       0.00      0.00      0.00         0\n",
      "          19       0.00      0.00      0.00         0\n",
      "          20       0.00      0.00      0.00         0\n",
      "          21       0.00      0.00      0.00         0\n",
      "\n",
      "    accuracy                           0.06      2647\n",
      "   macro avg       0.05      0.00      0.00      2647\n",
      "weighted avg       1.00      0.06      0.11      2647\n",
      "\n",
      "    Label  Correct_preds  Total_preds\n",
      "0       0              0          125\n",
      "1       1              0          126\n",
      "2       2              0          120\n",
      "3       3              0          131\n",
      "4       4              0          109\n",
      "5       5              0          112\n",
      "6       6              0          109\n",
      "7       7              0          123\n",
      "8       8              0          152\n",
      "9       9              0          114\n",
      "10     10              0          122\n",
      "11     11              0          119\n",
      "12     12              0          101\n",
      "13     13              0          112\n",
      "14     14              0          105\n",
      "15     15              0          139\n",
      "16     16            153          153\n",
      "17     17              0          104\n",
      "18     18              0          127\n",
      "19     19              0          124\n",
      "20     20              0          117\n",
      "21     21              0          103\n",
      "\n",
      "\n",
      "\n"
     ]
    },
    {
     "data": {
      "text/html": [
       "<div>\n",
       "<style scoped>\n",
       "    .dataframe tbody tr th:only-of-type {\n",
       "        vertical-align: middle;\n",
       "    }\n",
       "\n",
       "    .dataframe tbody tr th {\n",
       "        vertical-align: top;\n",
       "    }\n",
       "\n",
       "    .dataframe thead th {\n",
       "        text-align: right;\n",
       "    }\n",
       "</style>\n",
       "<table border=\"1\" class=\"dataframe\">\n",
       "  <thead>\n",
       "    <tr style=\"text-align: right;\">\n",
       "      <th></th>\n",
       "      <th>0</th>\n",
       "      <th>1</th>\n",
       "      <th>2</th>\n",
       "      <th>3</th>\n",
       "      <th>4</th>\n",
       "    </tr>\n",
       "  </thead>\n",
       "  <tbody>\n",
       "    <tr>\n",
       "      <th>Metrics</th>\n",
       "      <td>accuracy</td>\n",
       "      <td>precision</td>\n",
       "      <td>recall</td>\n",
       "      <td>f1-score</td>\n",
       "      <td>MCC</td>\n",
       "    </tr>\n",
       "    <tr>\n",
       "      <th>base-Bert-base-german-cased-Adam-epoch5-lr0.0005-batchsize16</th>\n",
       "      <td>0.0578</td>\n",
       "      <td>0.0026</td>\n",
       "      <td>0.0455</td>\n",
       "      <td>0.005</td>\n",
       "      <td>0.0</td>\n",
       "    </tr>\n",
       "  </tbody>\n",
       "</table>\n",
       "</div>"
      ],
      "text/plain": [
       "                                                           0          1  \\\n",
       "Metrics                                             accuracy  precision   \n",
       "base-Bert-base-german-cased-Adam-epoch5-lr0.000...    0.0578     0.0026   \n",
       "\n",
       "                                                         2         3    4  \n",
       "Metrics                                             recall  f1-score  MCC  \n",
       "base-Bert-base-german-cased-Adam-epoch5-lr0.000...  0.0455     0.005  0.0  "
      ]
     },
     "execution_count": 32,
     "metadata": {},
     "output_type": "execute_result"
    }
   ],
   "source": [
    "# df = pickle.load(open('path of the test set.pickle', 'rb'))\n",
    "\n",
    "df = pd.read_pickle(\"gs://transformer-textclassification/data_for_testing.pickle\")\n",
    "X = df[['text']] #X_val # change with df['text'] for test text\n",
    "y = df['labels'] #y_val # change with df['label'] for test labels\n",
    "\n",
    "with open(\"best_params.json\", \"r\") as fp:\n",
    "    best_prams = json.load(fp)\n",
    "\n",
    "custom_head = False # custom_head = True means the model with custom heads will be loaded; if False the base model (no custom head) will be loaded\n",
    "# freeze_layers = False\n",
    "dataset = {'X_test': X, 'y_test': y}\n",
    "configs =     {'custom_head': custom_head}\n",
    "\n",
    "models = [\n",
    "    'Bert-base-german-cased' #change this to change the model type\n",
    "]\n",
    "\n",
    "metrics_data_frame = testing(models, best_prams, configs, dataset)\n",
    "print(\"\\n\\n\")\n",
    "metrics_data_frame"
   ]
  },
  {
   "cell_type": "markdown",
   "id": "82b10773",
   "metadata": {},
   "source": [
    "## check mismatches"
   ]
  },
  {
   "cell_type": "code",
   "execution_count": 33,
   "id": "11f987f5",
   "metadata": {},
   "outputs": [],
   "source": [
    "label_df = pd.read_csv('label_dict.csv')\n",
    "keys = label_df['Id']\n",
    "label = label_df['Product']\n",
    "label_dict = dict(zip(keys, label))"
   ]
  },
  {
   "cell_type": "code",
   "execution_count": 34,
   "id": "c5627aef",
   "metadata": {},
   "outputs": [
    {
     "data": {
      "application/vnd.jupyter.widget-view+json": {
       "model_id": "ff3c2ff9bf674c87a186580276c048b4",
       "version_major": 2,
       "version_minor": 0
      },
      "text/plain": [
       "0it [00:00, ?it/s]"
      ]
     },
     "metadata": {},
     "output_type": "display_data"
    },
    {
     "name": "stdout",
     "output_type": "stream",
     "text": [
      "(1469, 5)\n"
     ]
    },
    {
     "data": {
      "text/html": [
       "<div>\n",
       "<style scoped>\n",
       "    .dataframe tbody tr th:only-of-type {\n",
       "        vertical-align: middle;\n",
       "    }\n",
       "\n",
       "    .dataframe tbody tr th {\n",
       "        vertical-align: top;\n",
       "    }\n",
       "\n",
       "    .dataframe thead th {\n",
       "        text-align: right;\n",
       "    }\n",
       "</style>\n",
       "<table border=\"1\" class=\"dataframe\">\n",
       "  <thead>\n",
       "    <tr style=\"text-align: right;\">\n",
       "      <th></th>\n",
       "      <th>text</th>\n",
       "      <th>test_key</th>\n",
       "      <th>test_label</th>\n",
       "      <th>pred_key</th>\n",
       "      <th>pred_label</th>\n",
       "    </tr>\n",
       "  </thead>\n",
       "  <tbody>\n",
       "    <tr>\n",
       "      <th>2807</th>\n",
       "      <td>&lt;b&gt;PHS-memory 8GB RAM für HP 15-ba027cl - Spei...</td>\n",
       "      <td>15</td>\n",
       "      <td>Pullover</td>\n",
       "      <td>18</td>\n",
       "      <td>Schutzfolien</td>\n",
       "    </tr>\n",
       "    <tr>\n",
       "      <th>29884</th>\n",
       "      <td>val_130323_12x54_de&lt;br /&gt;Fenster Volant für Ih...</td>\n",
       "      <td>8</td>\n",
       "      <td>Hüllen</td>\n",
       "      <td>16</td>\n",
       "      <td>Puzzle</td>\n",
       "    </tr>\n",
       "    <tr>\n",
       "      <th>100108</th>\n",
       "      <td>Modische Umhängetasche von Liebeskind. Die Tas...</td>\n",
       "      <td>6</td>\n",
       "      <td>Halsketten</td>\n",
       "      <td>15</td>\n",
       "      <td>Pullover</td>\n",
       "    </tr>\n",
       "    <tr>\n",
       "      <th>10864</th>\n",
       "      <td>Indiana Jones Kingdom of the Crystal Skull</td>\n",
       "      <td>17</td>\n",
       "      <td>Schuhe</td>\n",
       "      <td>10</td>\n",
       "      <td>Kalender</td>\n",
       "    </tr>\n",
       "    <tr>\n",
       "      <th>43009</th>\n",
       "      <td>LOOK: Modische Damen Steppjacke mit tollem Mat...</td>\n",
       "      <td>18</td>\n",
       "      <td>Schutzfolien</td>\n",
       "      <td>13</td>\n",
       "      <td>Lampen</td>\n",
       "    </tr>\n",
       "    <tr>\n",
       "      <th>20268</th>\n",
       "      <td>sc_115366_175x180_de&lt;br /&gt;Gestalten Sie Ihr Ba...</td>\n",
       "      <td>19</td>\n",
       "      <td>Schürzen</td>\n",
       "      <td>14</td>\n",
       "      <td>Ohrringe</td>\n",
       "    </tr>\n",
       "    <tr>\n",
       "      <th>102155</th>\n",
       "      <td>kit_116038_de&lt;br /&gt;Verändern Sie Ihre Küche mi...</td>\n",
       "      <td>18</td>\n",
       "      <td>Schutzfolien</td>\n",
       "      <td>8</td>\n",
       "      <td>Hüllen</td>\n",
       "    </tr>\n",
       "    <tr>\n",
       "      <th>20414</th>\n",
       "      <td>stall_95763_120x180_de&lt;br /&gt;Abmessung: 120 cm ...</td>\n",
       "      <td>21</td>\n",
       "      <td>Staubsaugerbeutel</td>\n",
       "      <td>3</td>\n",
       "      <td>Bilder</td>\n",
       "    </tr>\n",
       "    <tr>\n",
       "      <th>42049</th>\n",
       "      <td>&lt;p&gt;&lt;strong&gt;OnePlus 5 Tasche mit magnetischer L...</td>\n",
       "      <td>21</td>\n",
       "      <td>Staubsaugerbeutel</td>\n",
       "      <td>15</td>\n",
       "      <td>Pullover</td>\n",
       "    </tr>\n",
       "    <tr>\n",
       "      <th>84159</th>\n",
       "      <td>blau Synthetik Rieker Businesschuh Blau 14023001</td>\n",
       "      <td>9</td>\n",
       "      <td>Jacken</td>\n",
       "      <td>18</td>\n",
       "      <td>Schutzfolien</td>\n",
       "    </tr>\n",
       "  </tbody>\n",
       "</table>\n",
       "</div>"
      ],
      "text/plain": [
       "                                                     text  test_key  \\\n",
       "2807    <b>PHS-memory 8GB RAM für HP 15-ba027cl - Spei...        15   \n",
       "29884   val_130323_12x54_de<br />Fenster Volant für Ih...         8   \n",
       "100108  Modische Umhängetasche von Liebeskind. Die Tas...         6   \n",
       "10864          Indiana Jones Kingdom of the Crystal Skull        17   \n",
       "43009   LOOK: Modische Damen Steppjacke mit tollem Mat...        18   \n",
       "20268   sc_115366_175x180_de<br />Gestalten Sie Ihr Ba...        19   \n",
       "102155  kit_116038_de<br />Verändern Sie Ihre Küche mi...        18   \n",
       "20414   stall_95763_120x180_de<br />Abmessung: 120 cm ...        21   \n",
       "42049   <p><strong>OnePlus 5 Tasche mit magnetischer L...        21   \n",
       "84159    blau Synthetik Rieker Businesschuh Blau 14023001         9   \n",
       "\n",
       "               test_label  pred_key    pred_label  \n",
       "2807             Pullover        18  Schutzfolien  \n",
       "29884              Hüllen        16        Puzzle  \n",
       "100108         Halsketten        15      Pullover  \n",
       "10864              Schuhe        10      Kalender  \n",
       "43009        Schutzfolien        13        Lampen  \n",
       "20268            Schürzen        14      Ohrringe  \n",
       "102155       Schutzfolien         8        Hüllen  \n",
       "20414   Staubsaugerbeutel         3        Bilder  \n",
       "42049   Staubsaugerbeutel        15      Pullover  \n",
       "84159              Jacken        18  Schutzfolien  "
      ]
     },
     "execution_count": 34,
     "metadata": {},
     "output_type": "execute_result"
    }
   ],
   "source": [
    "def unit_testing(model_name, best_params, configs, test_dataloader):\n",
    "    custom_head = configs['custom_head']\n",
    "#     freeze_layers = configs['freeze_layers']\n",
    "    \n",
    "    custom_head_label = 'custom' if custom_head else 'base'\n",
    "    model_function = CustomModel2 if custom_head else CustomModel1\n",
    "    X, y = dataset.values() \n",
    "    \n",
    "    model_str = str(model_name).replace('/', '-')\n",
    "    model_identifier = custom_head_label + '-' + model_str\n",
    "    model_params = best_params[model_identifier]\n",
    "    optimizer = model_params['optimizer']\n",
    "    batch_size = model_params['batch_size']\n",
    "    learning_rate = model_params['learning_rate']\n",
    "    num_epochs = model_params['epochs']\n",
    "    \n",
    "    device = torch.device(\"cuda\" if torch.cuda.is_available() else \"cpu\")\n",
    "    test_dataloader = preprocess_dataset(model_name, X, y, batch_size)\n",
    "    \n",
    "    optimizer_str = str(optimizer).split('.')[-1].split(\"'\")[0]\n",
    "    epoch_str = 'epoch' + str(num_epochs)\n",
    "    lr_str = 'lr' + str(learning_rate)\n",
    "    batch_size_str = 'batchsize' + str(batch_size)\n",
    "    model_variant = f'{custom_head_label}-{model_str}-{optimizer_str}-{epoch_str}-{lr_str}-{batch_size_str}'\n",
    "    model_url = 'models/' + model_identifier + '.pth'\n",
    "    \n",
    "    \n",
    "    if os.path.exists(model_url):\n",
    "\n",
    "        model = model_function(checkpoint=model_name, num_labels=len(label_names)).to(device)\n",
    "        model.load_state_dict(torch.load(model_url))\n",
    "        test_label, test_pred = validator(model, test_dataloader)\n",
    "\n",
    "        return test_label, test_pred\n",
    "    \n",
    "    return \"trained model doesn't exist on path!\"\n",
    "\n",
    "\n",
    "with open(\"best_params.json\", \"r\") as fp:\n",
    "    best_prams = json.load(fp)\n",
    "\n",
    "custom_head = True #put to False if you want to check mismatches from model without custom head\n",
    "freeze_layers = False\n",
    "configs = {'custom_head': custom_head, 'freeze_layers': freeze_layers}\n",
    "dataset = {'X_test': X, 'y_test': y}\n",
    "model_name = 'Bert-base-german-cased' #change the model name to test another model\n",
    "\n",
    "test_label, test_pred = unit_testing(model_name, best_prams, configs, dataset)\n",
    "\n",
    "pred_df = X\n",
    "pred_df['test_key'] = test_label\n",
    "pred_df['test_label'] = pred_df['test_key'].replace(label_dict)\n",
    "pred_df['pred_key'] = test_pred\n",
    "pred_df['pred_label'] = pred_df['pred_key'].replace(label_dict)\n",
    "\n",
    "mismatch_df = pred_df[pred_df['test_key'] != pred_df['pred_key']]\n",
    "mismatch_df.to_csv(f'predictions/{model_name}-incorrect-predictions.csv')\n",
    "print(mismatch_df.shape)\n",
    "mismatch_df.head(10)"
   ]
  },
  {
   "cell_type": "code",
   "execution_count": 36,
   "id": "c9744741-d567-4474-b53f-d1bece9dbd0f",
   "metadata": {},
   "outputs": [
    {
     "data": {
      "text/html": [
       "<div>\n",
       "<style scoped>\n",
       "    .dataframe tbody tr th:only-of-type {\n",
       "        vertical-align: middle;\n",
       "    }\n",
       "\n",
       "    .dataframe tbody tr th {\n",
       "        vertical-align: top;\n",
       "    }\n",
       "\n",
       "    .dataframe thead th {\n",
       "        text-align: right;\n",
       "    }\n",
       "</style>\n",
       "<table border=\"1\" class=\"dataframe\">\n",
       "  <thead>\n",
       "    <tr style=\"text-align: right;\">\n",
       "      <th></th>\n",
       "      <th>text</th>\n",
       "      <th>test_key</th>\n",
       "      <th>test_label</th>\n",
       "      <th>pred_key</th>\n",
       "      <th>pred_label</th>\n",
       "    </tr>\n",
       "  </thead>\n",
       "  <tbody>\n",
       "    <tr>\n",
       "      <th>2807</th>\n",
       "      <td>&lt;b&gt;PHS-memory 8GB RAM für HP 15-ba027cl - Spei...</td>\n",
       "      <td>15</td>\n",
       "      <td>Pullover</td>\n",
       "      <td>18</td>\n",
       "      <td>Schutzfolien</td>\n",
       "    </tr>\n",
       "    <tr>\n",
       "      <th>29884</th>\n",
       "      <td>val_130323_12x54_de&lt;br /&gt;Fenster Volant für Ih...</td>\n",
       "      <td>8</td>\n",
       "      <td>Hüllen</td>\n",
       "      <td>16</td>\n",
       "      <td>Puzzle</td>\n",
       "    </tr>\n",
       "    <tr>\n",
       "      <th>100108</th>\n",
       "      <td>Modische Umhängetasche von Liebeskind. Die Tas...</td>\n",
       "      <td>6</td>\n",
       "      <td>Halsketten</td>\n",
       "      <td>15</td>\n",
       "      <td>Pullover</td>\n",
       "    </tr>\n",
       "    <tr>\n",
       "      <th>10864</th>\n",
       "      <td>Indiana Jones Kingdom of the Crystal Skull</td>\n",
       "      <td>17</td>\n",
       "      <td>Schuhe</td>\n",
       "      <td>10</td>\n",
       "      <td>Kalender</td>\n",
       "    </tr>\n",
       "    <tr>\n",
       "      <th>43009</th>\n",
       "      <td>LOOK: Modische Damen Steppjacke mit tollem Mat...</td>\n",
       "      <td>18</td>\n",
       "      <td>Schutzfolien</td>\n",
       "      <td>13</td>\n",
       "      <td>Lampen</td>\n",
       "    </tr>\n",
       "    <tr>\n",
       "      <th>20268</th>\n",
       "      <td>sc_115366_175x180_de&lt;br /&gt;Gestalten Sie Ihr Ba...</td>\n",
       "      <td>19</td>\n",
       "      <td>Schürzen</td>\n",
       "      <td>14</td>\n",
       "      <td>Ohrringe</td>\n",
       "    </tr>\n",
       "    <tr>\n",
       "      <th>102155</th>\n",
       "      <td>kit_116038_de&lt;br /&gt;Verändern Sie Ihre Küche mi...</td>\n",
       "      <td>18</td>\n",
       "      <td>Schutzfolien</td>\n",
       "      <td>8</td>\n",
       "      <td>Hüllen</td>\n",
       "    </tr>\n",
       "    <tr>\n",
       "      <th>20414</th>\n",
       "      <td>stall_95763_120x180_de&lt;br /&gt;Abmessung: 120 cm ...</td>\n",
       "      <td>21</td>\n",
       "      <td>Staubsaugerbeutel</td>\n",
       "      <td>3</td>\n",
       "      <td>Bilder</td>\n",
       "    </tr>\n",
       "    <tr>\n",
       "      <th>42049</th>\n",
       "      <td>&lt;p&gt;&lt;strong&gt;OnePlus 5 Tasche mit magnetischer L...</td>\n",
       "      <td>21</td>\n",
       "      <td>Staubsaugerbeutel</td>\n",
       "      <td>15</td>\n",
       "      <td>Pullover</td>\n",
       "    </tr>\n",
       "    <tr>\n",
       "      <th>84159</th>\n",
       "      <td>blau Synthetik Rieker Businesschuh Blau 14023001</td>\n",
       "      <td>9</td>\n",
       "      <td>Jacken</td>\n",
       "      <td>18</td>\n",
       "      <td>Schutzfolien</td>\n",
       "    </tr>\n",
       "    <tr>\n",
       "      <th>42012</th>\n",
       "      <td>&lt;p&gt;&lt;strong&gt;Produktdetails&lt;/strong&gt;&lt;br /&gt; Die f...</td>\n",
       "      <td>13</td>\n",
       "      <td>Lampen</td>\n",
       "      <td>8</td>\n",
       "      <td>Hüllen</td>\n",
       "    </tr>\n",
       "    <tr>\n",
       "      <th>88200</th>\n",
       "      <td>Romantischer Look aus sportivem Material: Das ...</td>\n",
       "      <td>7</td>\n",
       "      <td>Hosen</td>\n",
       "      <td>19</td>\n",
       "      <td>Schürzen</td>\n",
       "    </tr>\n",
       "    <tr>\n",
       "      <th>36143</th>\n",
       "      <td>Get lucky! Zeige dein Glück mit unseren Lucky ...</td>\n",
       "      <td>6</td>\n",
       "      <td>Halsketten</td>\n",
       "      <td>15</td>\n",
       "      <td>Pullover</td>\n",
       "    </tr>\n",
       "    <tr>\n",
       "      <th>65728</th>\n",
       "      <td>Gewicht : 0.9 gr. &lt;br /&gt;&lt;br /&gt;Schmuckkauf ist ...</td>\n",
       "      <td>14</td>\n",
       "      <td>Ohrringe</td>\n",
       "      <td>3</td>\n",
       "      <td>Bilder</td>\n",
       "    </tr>\n",
       "    <tr>\n",
       "      <th>40102</th>\n",
       "      <td>&lt;b&gt;ESPARTO Sporthose Daylu Herren und Damen&lt;/b...</td>\n",
       "      <td>15</td>\n",
       "      <td>Pullover</td>\n",
       "      <td>18</td>\n",
       "      <td>Schutzfolien</td>\n",
       "    </tr>\n",
       "    <tr>\n",
       "      <th>86159</th>\n",
       "      <td>apron_25180_de&lt;br /&gt;Verschönern Sie Ihr Zuhaus...</td>\n",
       "      <td>9</td>\n",
       "      <td>Jacken</td>\n",
       "      <td>18</td>\n",
       "      <td>Schutzfolien</td>\n",
       "    </tr>\n",
       "    <tr>\n",
       "      <th>88237</th>\n",
       "      <td>&lt;p&gt;Kein Shirt wie jedes andere … &lt;br /&gt; Langew...</td>\n",
       "      <td>19</td>\n",
       "      <td>Schürzen</td>\n",
       "      <td>8</td>\n",
       "      <td>Hüllen</td>\n",
       "    </tr>\n",
       "    <tr>\n",
       "      <th>86063</th>\n",
       "      <td>kap_14284_de&lt;br /&gt;Diese fröhlichen und origine...</td>\n",
       "      <td>10</td>\n",
       "      <td>Kalender</td>\n",
       "      <td>20</td>\n",
       "      <td>Shirts</td>\n",
       "    </tr>\n",
       "    <tr>\n",
       "      <th>84310</th>\n",
       "      <td>Hier kommt der New Balance Schuh in Schwarz, d...</td>\n",
       "      <td>12</td>\n",
       "      <td>Kleider</td>\n",
       "      <td>2</td>\n",
       "      <td>Bettwäsche</td>\n",
       "    </tr>\n",
       "    <tr>\n",
       "      <th>42048</th>\n",
       "      <td>&lt;p&gt;&lt;strong&gt;Produktdetails&lt;/strong&gt;&lt;/p&gt; &lt;p&gt;Die ...</td>\n",
       "      <td>15</td>\n",
       "      <td>Pullover</td>\n",
       "      <td>20</td>\n",
       "      <td>Shirts</td>\n",
       "    </tr>\n",
       "    <tr>\n",
       "      <th>101994</th>\n",
       "      <td>wid_125387_60x40_de&lt;br /&gt;verschönern Sie Ihr H...</td>\n",
       "      <td>18</td>\n",
       "      <td>Schutzfolien</td>\n",
       "      <td>8</td>\n",
       "      <td>Hüllen</td>\n",
       "    </tr>\n",
       "    <tr>\n",
       "      <th>84306</th>\n",
       "      <td>&lt;strong&gt;Artikelmerkmale:&lt;/strong&gt;&lt;ul&gt;&lt;li&gt;Schuh...</td>\n",
       "      <td>3</td>\n",
       "      <td>Bilder</td>\n",
       "      <td>14</td>\n",
       "      <td>Ohrringe</td>\n",
       "    </tr>\n",
       "    <tr>\n",
       "      <th>102073</th>\n",
       "      <td>door_170218_de&lt;br /&gt;Begrüßen Sie Ihre Gäste mi...</td>\n",
       "      <td>5</td>\n",
       "      <td>Gardinen</td>\n",
       "      <td>10</td>\n",
       "      <td>Kalender</td>\n",
       "    </tr>\n",
       "    <tr>\n",
       "      <th>102030</th>\n",
       "      <td>kit_170744_de&lt;br /&gt;Verändern Sie Ihre Küche mi...</td>\n",
       "      <td>19</td>\n",
       "      <td>Schürzen</td>\n",
       "      <td>15</td>\n",
       "      <td>Pullover</td>\n",
       "    </tr>\n",
       "    <tr>\n",
       "      <th>108236</th>\n",
       "      <td>&lt;h3&gt;ORIENT&lt;/h3&gt;&lt;p&gt;Seit unseren Anfängen haben ...</td>\n",
       "      <td>5</td>\n",
       "      <td>Gardinen</td>\n",
       "      <td>10</td>\n",
       "      <td>Kalender</td>\n",
       "    </tr>\n",
       "    <tr>\n",
       "      <th>29934</th>\n",
       "      <td>micp_108540_150x175_de&lt;br /&gt;verschönern Sie Ih...</td>\n",
       "      <td>6</td>\n",
       "      <td>Halsketten</td>\n",
       "      <td>11</td>\n",
       "      <td>Kissen</td>\n",
       "    </tr>\n",
       "    <tr>\n",
       "      <th>84144</th>\n",
       "      <td>- hochwertig verarbeiteter Sneaker aus Leder u...</td>\n",
       "      <td>11</td>\n",
       "      <td>Kissen</td>\n",
       "      <td>8</td>\n",
       "      <td>Hüllen</td>\n",
       "    </tr>\n",
       "    <tr>\n",
       "      <th>42129</th>\n",
       "      <td>&lt;p&gt;&lt;b&gt;Du legst Wert auf höchsten Komfort, Sich...</td>\n",
       "      <td>10</td>\n",
       "      <td>Kalender</td>\n",
       "      <td>8</td>\n",
       "      <td>Hüllen</td>\n",
       "    </tr>\n",
       "    <tr>\n",
       "      <th>2788</th>\n",
       "      <td>&lt;b&gt;PHS-memory 2GB RAM für QNAP TS-239 Pro - Sp...</td>\n",
       "      <td>15</td>\n",
       "      <td>Pullover</td>\n",
       "      <td>19</td>\n",
       "      <td>Schürzen</td>\n",
       "    </tr>\n",
       "    <tr>\n",
       "      <th>84290</th>\n",
       "      <td>- für alle Batman-Fans - verstärkte Fersenpart...</td>\n",
       "      <td>19</td>\n",
       "      <td>Schürzen</td>\n",
       "      <td>8</td>\n",
       "      <td>Hüllen</td>\n",
       "    </tr>\n",
       "    <tr>\n",
       "      <th>53749</th>\n",
       "      <td>18 Lichter &amp;#61; 6 Beleuchtungsmodi x 3 Beleuc...</td>\n",
       "      <td>6</td>\n",
       "      <td>Halsketten</td>\n",
       "      <td>20</td>\n",
       "      <td>Shirts</td>\n",
       "    </tr>\n",
       "    <tr>\n",
       "      <th>2694</th>\n",
       "      <td>&lt;b&gt;PHS-memory 32GB RAM für HP 14s-dq1023nb - S...</td>\n",
       "      <td>11</td>\n",
       "      <td>Kissen</td>\n",
       "      <td>1</td>\n",
       "      <td>Arbeitsspeicher</td>\n",
       "    </tr>\n",
       "    <tr>\n",
       "      <th>36177</th>\n",
       "      <td>Mit dieser Kette bist du bei den unterschiedli...</td>\n",
       "      <td>3</td>\n",
       "      <td>Bilder</td>\n",
       "      <td>11</td>\n",
       "      <td>Kissen</td>\n",
       "    </tr>\n",
       "    <tr>\n",
       "      <th>84344</th>\n",
       "      <td>Ihr neuer modischer Begleiter: der Schnürschuh...</td>\n",
       "      <td>21</td>\n",
       "      <td>Staubsaugerbeutel</td>\n",
       "      <td>8</td>\n",
       "      <td>Hüllen</td>\n",
       "    </tr>\n",
       "    <tr>\n",
       "      <th>43010</th>\n",
       "      <td>Unsere Neuerung und ein aktiver Beitrag zum Um...</td>\n",
       "      <td>13</td>\n",
       "      <td>Lampen</td>\n",
       "      <td>16</td>\n",
       "      <td>Puzzle</td>\n",
       "    </tr>\n",
       "    <tr>\n",
       "      <th>88145</th>\n",
       "      <td>-</td>\n",
       "      <td>19</td>\n",
       "      <td>Schürzen</td>\n",
       "      <td>15</td>\n",
       "      <td>Pullover</td>\n",
       "    </tr>\n",
       "    <tr>\n",
       "      <th>86068</th>\n",
       "      <td>apron_123573_de&lt;br /&gt;Verschönern Sie Ihr Zuhau...</td>\n",
       "      <td>11</td>\n",
       "      <td>Kissen</td>\n",
       "      <td>19</td>\n",
       "      <td>Schürzen</td>\n",
       "    </tr>\n",
       "    <tr>\n",
       "      <th>20270</th>\n",
       "      <td>sc_86833_175x240_de&lt;br /&gt;Gestalten Sie Ihr Bad...</td>\n",
       "      <td>7</td>\n",
       "      <td>Hosen</td>\n",
       "      <td>8</td>\n",
       "      <td>Hüllen</td>\n",
       "    </tr>\n",
       "    <tr>\n",
       "      <th>108331</th>\n",
       "      <td>&lt;p&gt;&lt;/p&gt;&lt;p&gt;Bruno Söhnle: Chronograph&amp;#39;&lt;br /&gt;...</td>\n",
       "      <td>20</td>\n",
       "      <td>Shirts</td>\n",
       "      <td>10</td>\n",
       "      <td>Kalender</td>\n",
       "    </tr>\n",
       "    <tr>\n",
       "      <th>9949</th>\n",
       "      <td>nevde_200005_155x220_deVerschönern Sie Ihr Hei...</td>\n",
       "      <td>11</td>\n",
       "      <td>Kissen</td>\n",
       "      <td>15</td>\n",
       "      <td>Pullover</td>\n",
       "    </tr>\n",
       "    <tr>\n",
       "      <th>100164</th>\n",
       "      <td>Schicke und gleichzeitig praktische Umhängetas...</td>\n",
       "      <td>12</td>\n",
       "      <td>Kleider</td>\n",
       "      <td>11</td>\n",
       "      <td>Kissen</td>\n",
       "    </tr>\n",
       "    <tr>\n",
       "      <th>84195</th>\n",
       "      <td>Weiches dunkelrotes Lackleder mit markanten Zi...</td>\n",
       "      <td>9</td>\n",
       "      <td>Jacken</td>\n",
       "      <td>18</td>\n",
       "      <td>Schutzfolien</td>\n",
       "    </tr>\n",
       "    <tr>\n",
       "      <th>72197</th>\n",
       "      <td>Dieser Kalender zeigt interessante Porträts au...</td>\n",
       "      <td>3</td>\n",
       "      <td>Bilder</td>\n",
       "      <td>8</td>\n",
       "      <td>Hüllen</td>\n",
       "    </tr>\n",
       "    <tr>\n",
       "      <th>47304</th>\n",
       "      <td>mictwo_142810_20x20_de&lt;br /&gt;Verschönern Sie Ih...</td>\n",
       "      <td>11</td>\n",
       "      <td>Kissen</td>\n",
       "      <td>8</td>\n",
       "      <td>Hüllen</td>\n",
       "    </tr>\n",
       "    <tr>\n",
       "      <th>10062</th>\n",
       "      <td>Diese Kleine Wolke Mako-Satin Bettwäsche beste...</td>\n",
       "      <td>0</td>\n",
       "      <td>Akkus</td>\n",
       "      <td>16</td>\n",
       "      <td>Puzzle</td>\n",
       "    </tr>\n",
       "    <tr>\n",
       "      <th>72167</th>\n",
       "      <td>Ein Motiv aus der Reihe Papierreise. Durch die...</td>\n",
       "      <td>11</td>\n",
       "      <td>Kissen</td>\n",
       "      <td>21</td>\n",
       "      <td>Staubsaugerbeutel</td>\n",
       "    </tr>\n",
       "    <tr>\n",
       "      <th>100294</th>\n",
       "      <td>Umhängetasche von Joop! aus Kunstleder mit abn...</td>\n",
       "      <td>7</td>\n",
       "      <td>Hosen</td>\n",
       "      <td>18</td>\n",
       "      <td>Schutzfolien</td>\n",
       "    </tr>\n",
       "    <tr>\n",
       "      <th>2657</th>\n",
       "      <td>&lt;b&gt;PHS-memory 16GB RAM für Asus VivoBook S530U...</td>\n",
       "      <td>19</td>\n",
       "      <td>Schürzen</td>\n",
       "      <td>18</td>\n",
       "      <td>Schutzfolien</td>\n",
       "    </tr>\n",
       "    <tr>\n",
       "      <th>72239</th>\n",
       "      <td>Der Kalender zeigt Mazda in ihrer ganzen Flexi...</td>\n",
       "      <td>7</td>\n",
       "      <td>Hosen</td>\n",
       "      <td>18</td>\n",
       "      <td>Schutzfolien</td>\n",
       "    </tr>\n",
       "    <tr>\n",
       "      <th>86069</th>\n",
       "      <td>apron_37305_de&lt;br /&gt;Verschönern Sie Ihr Zuhaus...</td>\n",
       "      <td>9</td>\n",
       "      <td>Jacken</td>\n",
       "      <td>8</td>\n",
       "      <td>Hüllen</td>\n",
       "    </tr>\n",
       "  </tbody>\n",
       "</table>\n",
       "</div>"
      ],
      "text/plain": [
       "                                                     text  test_key  \\\n",
       "2807    <b>PHS-memory 8GB RAM für HP 15-ba027cl - Spei...        15   \n",
       "29884   val_130323_12x54_de<br />Fenster Volant für Ih...         8   \n",
       "100108  Modische Umhängetasche von Liebeskind. Die Tas...         6   \n",
       "10864          Indiana Jones Kingdom of the Crystal Skull        17   \n",
       "43009   LOOK: Modische Damen Steppjacke mit tollem Mat...        18   \n",
       "20268   sc_115366_175x180_de<br />Gestalten Sie Ihr Ba...        19   \n",
       "102155  kit_116038_de<br />Verändern Sie Ihre Küche mi...        18   \n",
       "20414   stall_95763_120x180_de<br />Abmessung: 120 cm ...        21   \n",
       "42049   <p><strong>OnePlus 5 Tasche mit magnetischer L...        21   \n",
       "84159    blau Synthetik Rieker Businesschuh Blau 14023001         9   \n",
       "42012   <p><strong>Produktdetails</strong><br /> Die f...        13   \n",
       "88200   Romantischer Look aus sportivem Material: Das ...         7   \n",
       "36143   Get lucky! Zeige dein Glück mit unseren Lucky ...         6   \n",
       "65728   Gewicht : 0.9 gr. <br /><br />Schmuckkauf ist ...        14   \n",
       "40102   <b>ESPARTO Sporthose Daylu Herren und Damen</b...        15   \n",
       "86159   apron_25180_de<br />Verschönern Sie Ihr Zuhaus...         9   \n",
       "88237   <p>Kein Shirt wie jedes andere … <br /> Langew...        19   \n",
       "86063   kap_14284_de<br />Diese fröhlichen und origine...        10   \n",
       "84310   Hier kommt der New Balance Schuh in Schwarz, d...        12   \n",
       "42048   <p><strong>Produktdetails</strong></p> <p>Die ...        15   \n",
       "101994  wid_125387_60x40_de<br />verschönern Sie Ihr H...        18   \n",
       "84306   <strong>Artikelmerkmale:</strong><ul><li>Schuh...         3   \n",
       "102073  door_170218_de<br />Begrüßen Sie Ihre Gäste mi...         5   \n",
       "102030  kit_170744_de<br />Verändern Sie Ihre Küche mi...        19   \n",
       "108236  <h3>ORIENT</h3><p>Seit unseren Anfängen haben ...         5   \n",
       "29934   micp_108540_150x175_de<br />verschönern Sie Ih...         6   \n",
       "84144   - hochwertig verarbeiteter Sneaker aus Leder u...        11   \n",
       "42129   <p><b>Du legst Wert auf höchsten Komfort, Sich...        10   \n",
       "2788    <b>PHS-memory 2GB RAM für QNAP TS-239 Pro - Sp...        15   \n",
       "84290   - für alle Batman-Fans - verstärkte Fersenpart...        19   \n",
       "53749   18 Lichter &#61; 6 Beleuchtungsmodi x 3 Beleuc...         6   \n",
       "2694    <b>PHS-memory 32GB RAM für HP 14s-dq1023nb - S...        11   \n",
       "36177   Mit dieser Kette bist du bei den unterschiedli...         3   \n",
       "84344   Ihr neuer modischer Begleiter: der Schnürschuh...        21   \n",
       "43010   Unsere Neuerung und ein aktiver Beitrag zum Um...        13   \n",
       "88145                                                   -        19   \n",
       "86068   apron_123573_de<br />Verschönern Sie Ihr Zuhau...        11   \n",
       "20270   sc_86833_175x240_de<br />Gestalten Sie Ihr Bad...         7   \n",
       "108331  <p></p><p>Bruno Söhnle: Chronograph&#39;<br />...        20   \n",
       "9949    nevde_200005_155x220_deVerschönern Sie Ihr Hei...        11   \n",
       "100164  Schicke und gleichzeitig praktische Umhängetas...        12   \n",
       "84195   Weiches dunkelrotes Lackleder mit markanten Zi...         9   \n",
       "72197   Dieser Kalender zeigt interessante Porträts au...         3   \n",
       "47304   mictwo_142810_20x20_de<br />Verschönern Sie Ih...        11   \n",
       "10062   Diese Kleine Wolke Mako-Satin Bettwäsche beste...         0   \n",
       "72167   Ein Motiv aus der Reihe Papierreise. Durch die...        11   \n",
       "100294  Umhängetasche von Joop! aus Kunstleder mit abn...         7   \n",
       "2657    <b>PHS-memory 16GB RAM für Asus VivoBook S530U...        19   \n",
       "72239   Der Kalender zeigt Mazda in ihrer ganzen Flexi...         7   \n",
       "86069   apron_37305_de<br />Verschönern Sie Ihr Zuhaus...         9   \n",
       "\n",
       "               test_label  pred_key         pred_label  \n",
       "2807             Pullover        18       Schutzfolien  \n",
       "29884              Hüllen        16             Puzzle  \n",
       "100108         Halsketten        15           Pullover  \n",
       "10864              Schuhe        10           Kalender  \n",
       "43009        Schutzfolien        13             Lampen  \n",
       "20268            Schürzen        14           Ohrringe  \n",
       "102155       Schutzfolien         8             Hüllen  \n",
       "20414   Staubsaugerbeutel         3             Bilder  \n",
       "42049   Staubsaugerbeutel        15           Pullover  \n",
       "84159              Jacken        18       Schutzfolien  \n",
       "42012              Lampen         8             Hüllen  \n",
       "88200               Hosen        19           Schürzen  \n",
       "36143          Halsketten        15           Pullover  \n",
       "65728            Ohrringe         3             Bilder  \n",
       "40102            Pullover        18       Schutzfolien  \n",
       "86159              Jacken        18       Schutzfolien  \n",
       "88237            Schürzen         8             Hüllen  \n",
       "86063            Kalender        20             Shirts  \n",
       "84310             Kleider         2         Bettwäsche  \n",
       "42048            Pullover        20             Shirts  \n",
       "101994       Schutzfolien         8             Hüllen  \n",
       "84306              Bilder        14           Ohrringe  \n",
       "102073           Gardinen        10           Kalender  \n",
       "102030           Schürzen        15           Pullover  \n",
       "108236           Gardinen        10           Kalender  \n",
       "29934          Halsketten        11             Kissen  \n",
       "84144              Kissen         8             Hüllen  \n",
       "42129            Kalender         8             Hüllen  \n",
       "2788             Pullover        19           Schürzen  \n",
       "84290            Schürzen         8             Hüllen  \n",
       "53749          Halsketten        20             Shirts  \n",
       "2694               Kissen         1    Arbeitsspeicher  \n",
       "36177              Bilder        11             Kissen  \n",
       "84344   Staubsaugerbeutel         8             Hüllen  \n",
       "43010              Lampen        16             Puzzle  \n",
       "88145            Schürzen        15           Pullover  \n",
       "86068              Kissen        19           Schürzen  \n",
       "20270               Hosen         8             Hüllen  \n",
       "108331             Shirts        10           Kalender  \n",
       "9949               Kissen        15           Pullover  \n",
       "100164            Kleider        11             Kissen  \n",
       "84195              Jacken        18       Schutzfolien  \n",
       "72197              Bilder         8             Hüllen  \n",
       "47304              Kissen         8             Hüllen  \n",
       "10062               Akkus        16             Puzzle  \n",
       "72167              Kissen        21  Staubsaugerbeutel  \n",
       "100294              Hosen        18       Schutzfolien  \n",
       "2657             Schürzen        18       Schutzfolien  \n",
       "72239               Hosen        18       Schutzfolien  \n",
       "86069              Jacken         8             Hüllen  "
      ]
     },
     "execution_count": 36,
     "metadata": {},
     "output_type": "execute_result"
    }
   ],
   "source": [
    "mismatch_df.head(50)"
   ]
  },
  {
   "cell_type": "markdown",
   "id": "a3bda951",
   "metadata": {},
   "source": [
    "## Attention Wights"
   ]
  },
  {
   "cell_type": "code",
   "execution_count": 80,
   "id": "870a53b5",
   "metadata": {},
   "outputs": [],
   "source": [
    "pd.set_option('display.max_colwidth', 500)"
   ]
  },
  {
   "cell_type": "markdown",
   "id": "e49f2f7d",
   "metadata": {},
   "source": [
    "## old one and the updated is in below cell"
   ]
  },
  {
   "cell_type": "code",
   "execution_count": 20,
   "id": "50098b1c",
   "metadata": {},
   "outputs": [],
   "source": [
    "# with open(\"best_params.json\", \"r\") as fp:\n",
    "#     best_params = json.load(fp)\n",
    "    \n",
    "# custom_head = True\n",
    "# freeze_layers = False\n",
    "# configs = {'custom_head': custom_head}\n",
    "\n",
    "# custom_head_label = 'custom' if custom_head else 'base'\n",
    "# model_function = CustomModel2 if custom_head else CustomModel1\n",
    "\n",
    "# # Load pre-trained model and tokenizer\n",
    "# model_name = 'Bert-base-german-cased'\n",
    "# model_str = str(model_name).replace('/', '-')\n",
    "# model_identifier = custom_head_label + '-' + model_str\n",
    "# model_params = best_params[model_identifier]\n",
    "# optimizer = model_params['optimizer']\n",
    "# batch_size = model_params['batch_size']\n",
    "# learning_rate = model_params['learning_rate']\n",
    "# num_epochs = model_params['epochs']\n",
    "\n",
    "# optimizer_str = str(optimizer).split('.')[-1].split(\"'\")[0]\n",
    "# epoch_str = 'epoch' + str(num_epochs)\n",
    "# lr_str = 'lr' + str(learning_rate)\n",
    "# batch_size_str = 'batchsize' + str(batch_size)\n",
    "# model_variant = f'{custom_head_label}-{model_str}-{optimizer_str}-{epoch_str}-{lr_str}-{batch_size_str}'\n",
    "# model_url = 'models/' + model_identifier + '.pth'\n",
    "\n",
    "# device = torch.device(\"cuda\" if torch.cuda.is_available() else \"cpu\")\n",
    "\n",
    "# tokenizer = AutoTokenizer.from_pretrained(model_name)\n",
    "# model = model_function(checkpoint=model_name, num_labels=len(label_names)).to(device)\n",
    "# model.load_state_dict(torch.load(model_url))\n",
    "\n",
    "# # Encode input sentence and get attention masks\n",
    "# input_sentence = \"This is a sample input sentence to visualize attention weights.\"\n",
    "# input_tokens = tokenizer.encode(input_sentence, add_special_tokens=True)\n",
    "# input_tensor = torch.tensor([input_tokens]).to(device)\n",
    "# attention_mask = torch.ones_like(input_tensor).to(device)\n",
    "\n",
    "# # Forward pass through the model to get attention weights\n",
    "# outputs = model(input_tensor, attention_mask=attention_mask)\n",
    "# attentions = outputs[-1]\n",
    "\n",
    "# # Iterate over each layer and head to visualize attention weights\n",
    "# for layer, layer_attentions in enumerate(attentions):\n",
    "#     print(f\"Layer {layer+1}:\")\n",
    "#     for head, head_attentions in enumerate(layer_attentions):\n",
    "#         print(f\"Head {head+1}:\")\n",
    "#         for token, weight in zip(input_tokens, head_attentions):\n",
    "#             print(f\"{tokenizer.decode([token])} - {weight[0][0].item():.4f}\")\n",
    "#         print(\"\\n\")"
   ]
  },
  {
   "cell_type": "code",
   "execution_count": 21,
   "id": "7ec88aab",
   "metadata": {},
   "outputs": [
    {
     "name": "stderr",
     "output_type": "stream",
     "text": [
      "Some weights of the model checkpoint at Bert-base-german-cased were not used when initializing BertForSequenceClassification: ['cls.predictions.transform.dense.weight', 'cls.seq_relationship.bias', 'cls.predictions.bias', 'cls.predictions.transform.LayerNorm.bias', 'cls.predictions.transform.dense.bias', 'cls.predictions.decoder.weight', 'cls.predictions.transform.LayerNorm.weight', 'cls.seq_relationship.weight']\n",
      "- This IS expected if you are initializing BertForSequenceClassification from the checkpoint of a model trained on another task or with another architecture (e.g. initializing a BertForSequenceClassification model from a BertForPreTraining model).\n",
      "- This IS NOT expected if you are initializing BertForSequenceClassification from the checkpoint of a model that you expect to be exactly identical (initializing a BertForSequenceClassification model from a BertForSequenceClassification model).\n",
      "Some weights of BertForSequenceClassification were not initialized from the model checkpoint at Bert-base-german-cased and are newly initialized: ['classifier.bias', 'classifier.weight']\n",
      "You should probably TRAIN this model on a down-stream task to be able to use it for predictions and inference.\n"
     ]
    },
    {
     "data": {
      "text/html": [
       "<div>\n",
       "<style scoped>\n",
       "    .dataframe tbody tr th:only-of-type {\n",
       "        vertical-align: middle;\n",
       "    }\n",
       "\n",
       "    .dataframe tbody tr th {\n",
       "        vertical-align: top;\n",
       "    }\n",
       "\n",
       "    .dataframe thead th {\n",
       "        text-align: right;\n",
       "    }\n",
       "</style>\n",
       "<table border=\"1\" class=\"dataframe\">\n",
       "  <thead>\n",
       "    <tr style=\"text-align: right;\">\n",
       "      <th></th>\n",
       "      <th>sentence</th>\n",
       "      <th>tokens</th>\n",
       "      <th>weights</th>\n",
       "    </tr>\n",
       "  </thead>\n",
       "  <tbody>\n",
       "    <tr>\n",
       "      <th>0</th>\n",
       "      <td>This is a sample input sentence to visualize attention weights.</td>\n",
       "      <td>[[CLS], Th, ##is, is, a, sa, ##m, ##ple, in, ##put, sen, ##ten, ##ce, to, vis, ##ual, ##ize, att, ##ent, ##ion, wei, ##gh, ##ts, ., [SEP]]</td>\n",
       "      <td>[0.0006482226, 0.010999533, 0.0036354167, 0.01061138, 0.007142212, 0.0012308075, 0.0018438777, 0.0052743386, 0.0027150728, 0.018212618, 0.0009557281, 0.0022653544, 0.0012973904, 0.005123466, 0.0147302365, 0.011957143, 0.009833987, 0.005171948, 0.004918638, 0.010447311, 0.0012520222, 0.0026403472, 0.0048224484, 0.009015404, 0.85325515]</td>\n",
       "    </tr>\n",
       "  </tbody>\n",
       "</table>\n",
       "</div>"
      ],
      "text/plain": [
       "                                                          sentence  \\\n",
       "0  This is a sample input sentence to visualize attention weights.   \n",
       "\n",
       "                                                                                                                                       tokens  \\\n",
       "0  [[CLS], Th, ##is, is, a, sa, ##m, ##ple, in, ##put, sen, ##ten, ##ce, to, vis, ##ual, ##ize, att, ##ent, ##ion, wei, ##gh, ##ts, ., [SEP]]   \n",
       "\n",
       "                                                                                                                                                                                                                                                                                                                                            weights  \n",
       "0  [0.0006482226, 0.010999533, 0.0036354167, 0.01061138, 0.007142212, 0.0012308075, 0.0018438777, 0.0052743386, 0.0027150728, 0.018212618, 0.0009557281, 0.0022653544, 0.0012973904, 0.005123466, 0.0147302365, 0.011957143, 0.009833987, 0.005171948, 0.004918638, 0.010447311, 0.0012520222, 0.0026403472, 0.0048224484, 0.009015404, 0.85325515]  "
      ]
     },
     "execution_count": 21,
     "metadata": {},
     "output_type": "execute_result"
    }
   ],
   "source": [
    "with open(\"best_params.json\", \"r\") as fp:\n",
    "    best_params = json.load(fp)\n",
    "    \n",
    "custom_head = True\n",
    "freeze_layers = False\n",
    "configs = {'custom_head': custom_head}\n",
    "\n",
    "custom_head_label = 'custom' if custom_head else 'base'\n",
    "model_function = CustomModel2 if custom_head else CustomModel1\n",
    "\n",
    "# Load pre-trained model and tokenizer\n",
    "model_name = 'Bert-base-german-cased'\n",
    "model_str = str(model_name).replace('/', '-')\n",
    "model_identifier = custom_head_label + '-' + model_str\n",
    "model_params = best_params[model_identifier]\n",
    "optimizer = model_params['optimizer']\n",
    "batch_size = model_params['batch_size']\n",
    "learning_rate = model_params['learning_rate']\n",
    "num_epochs = model_params['epochs']\n",
    "\n",
    "optimizer_str = str(optimizer).split('.')[-1].split(\"'\")[0]\n",
    "epoch_str = 'epoch' + str(num_epochs)\n",
    "lr_str = 'lr' + str(learning_rate)\n",
    "batch_size_str = 'batchsize' + str(batch_size)\n",
    "model_variant = f'{custom_head_label}-{model_str}-{optimizer_str}-{epoch_str}-{lr_str}-{batch_size_str}'\n",
    "model_url = 'models/' + model_identifier + '.pth'\n",
    "\n",
    "device = torch.device(\"cuda\" if torch.cuda.is_available() else \"cpu\")\n",
    "\n",
    "tokenizer = AutoTokenizer.from_pretrained(model_name)\n",
    "model = model_function(checkpoint=model_name, num_labels=len(label_names)).to(device)\n",
    "model.load_state_dict(torch.load(model_url))\n",
    "\n",
    "# Encode input sentence and get attention masks\n",
    "input_sentence = \"This is a sample input sentence to visualize attention weights.\"\n",
    "input_tokens = tokenizer.encode(input_sentence, add_special_tokens=True)\n",
    "input_tensor_str = tokenizer.convert_ids_to_tokens(input_tokens)\n",
    "input_tensor = torch.tensor([input_tokens]).to(device)\n",
    "attention_mask = torch.ones_like(input_tensor).to(device)\n",
    "\n",
    "# Forward pass through the model to get attention weights\n",
    "outputs = model(input_tensor, attention_mask=attention_mask)\n",
    "attention_weights_final_layer = outputs.attentions[-1].cpu().detach().numpy()\n",
    "\n",
    " "
   ]
  },
  {
   "cell_type": "code",
   "execution_count": null,
   "id": "dabc3726",
   "metadata": {},
   "outputs": [],
   "source": []
  },
  {
   "cell_type": "code",
   "execution_count": null,
   "id": "1a38ead8",
   "metadata": {},
   "outputs": [],
   "source": []
  },
  {
   "cell_type": "code",
   "execution_count": null,
   "id": "b10821da",
   "metadata": {},
   "outputs": [],
   "source": []
  }
 ],
 "metadata": {
  "environment": {
   "kernel": "python3",
   "name": "common-cu110.m103",
   "type": "gcloud",
   "uri": "gcr.io/deeplearning-platform-release/base-cu110:m103"
  },
  "kernelspec": {
   "display_name": "Python 3 (ipykernel)",
   "language": "python",
   "name": "python3"
  },
  "language_info": {
   "codemirror_mode": {
    "name": "ipython",
    "version": 3
   },
   "file_extension": ".py",
   "mimetype": "text/x-python",
   "name": "python",
   "nbconvert_exporter": "python",
   "pygments_lexer": "ipython3",
   "version": "3.8.0"
  }
 },
 "nbformat": 4,
 "nbformat_minor": 5
}
