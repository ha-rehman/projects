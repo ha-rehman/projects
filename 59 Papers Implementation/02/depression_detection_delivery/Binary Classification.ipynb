{
 "cells": [
  {
   "cell_type": "code",
   "execution_count": 9,
   "id": "f9eff08e",
   "metadata": {},
   "outputs": [],
   "source": [
    "import pandas as pd\n",
    "from sentence_transformers import SentenceTransformer\n",
    "from sklearn.neural_network import MLPClassifier\n",
    "from sklearn.model_selection import train_test_split\n",
    "from sklearn.metrics import classification_report, confusion_matrix\n",
    "from sklearn.metrics import accuracy_score\n",
    "import seaborn as sns"
   ]
  },
  {
   "cell_type": "markdown",
   "id": "5f45491e",
   "metadata": {},
   "source": [
    "## read dataset"
   ]
  },
  {
   "cell_type": "code",
   "execution_count": 2,
   "id": "b9ff991b",
   "metadata": {},
   "outputs": [
    {
     "data": {
      "text/html": [
       "<div>\n",
       "<style scoped>\n",
       "    .dataframe tbody tr th:only-of-type {\n",
       "        vertical-align: middle;\n",
       "    }\n",
       "\n",
       "    .dataframe tbody tr th {\n",
       "        vertical-align: top;\n",
       "    }\n",
       "\n",
       "    .dataframe thead th {\n",
       "        text-align: right;\n",
       "    }\n",
       "</style>\n",
       "<table border=\"1\" class=\"dataframe\">\n",
       "  <thead>\n",
       "    <tr style=\"text-align: right;\">\n",
       "      <th></th>\n",
       "      <th>post</th>\n",
       "      <th>class</th>\n",
       "    </tr>\n",
       "  </thead>\n",
       "  <tbody>\n",
       "    <tr>\n",
       "      <th>0</th>\n",
       "      <td>\" : jewish harvard professor noel ignatiev w...</td>\n",
       "      <td>implicit_hate</td>\n",
       "    </tr>\n",
       "    <tr>\n",
       "      <th>1</th>\n",
       "      <td>b.higher education is a part of european cult...</td>\n",
       "      <td>not_hate</td>\n",
       "    </tr>\n",
       "    <tr>\n",
       "      <th>2</th>\n",
       "      <td>has a problem with  \" the whites \" \" and \" \" ...</td>\n",
       "      <td>not_hate</td>\n",
       "    </tr>\n",
       "  </tbody>\n",
       "</table>\n",
       "</div>"
      ],
      "text/plain": [
       "                                                post          class\n",
       "0    \" : jewish harvard professor noel ignatiev w...  implicit_hate\n",
       "1   b.higher education is a part of european cult...       not_hate\n",
       "2   has a problem with  \" the whites \" \" and \" \" ...       not_hate"
      ]
     },
     "execution_count": 2,
     "metadata": {},
     "output_type": "execute_result"
    }
   ],
   "source": [
    "df = pd.read_csv('datatset/implicit-hate-corpus/implicit_hate_v1_stg1_posts.tsv', sep='\\t')\n",
    "df.head(3)"
   ]
  },
  {
   "cell_type": "code",
   "execution_count": 16,
   "id": "cfbcf150",
   "metadata": {},
   "outputs": [
    {
     "data": {
      "text/plain": [
       "(21480, 2)"
      ]
     },
     "execution_count": 16,
     "metadata": {},
     "output_type": "execute_result"
    }
   ],
   "source": [
    "df.shape"
   ]
  },
  {
   "cell_type": "code",
   "execution_count": 3,
   "id": "4af27cef",
   "metadata": {},
   "outputs": [
    {
     "name": "stdout",
     "output_type": "stream",
     "text": [
      "not_hate         13291\n",
      "implicit_hate     7100\n",
      "explicit_hate     1089\n",
      "Name: class, dtype: int64\n",
      "not_hate    13291\n",
      "hate         8189\n",
      "Name: class, dtype: int64\n"
     ]
    }
   ],
   "source": [
    "print(df['class'].value_counts())\n",
    "df['class'] = df['class'].replace('implicit_hate', 'hate')\n",
    "df['class'] = df['class'].replace('explicit_hate', 'hate')\n",
    "print(df['class'].value_counts())\n",
    "\n",
    "X = df['post']\n",
    "y = df['class']\n",
    "classes = list(df['class'].unique())"
   ]
  },
  {
   "cell_type": "markdown",
   "id": "62b7297d",
   "metadata": {},
   "source": [
    "## Binary Classification (baseline)"
   ]
  },
  {
   "cell_type": "code",
   "execution_count": 4,
   "id": "38e298a9",
   "metadata": {},
   "outputs": [],
   "source": [
    "# Load pre-trained BERT model\n",
    "model_name = 'bert-base-nli-mean-tokens'\n",
    "model = SentenceTransformer(model_name)\n",
    "\n",
    "# Encode text using pre-trained BERT model\n",
    "encoded_text = model.encode(X.tolist())"
   ]
  },
  {
   "cell_type": "code",
   "execution_count": 7,
   "id": "6a6933bb",
   "metadata": {},
   "outputs": [],
   "source": [
    "X_train, X_test, y_train, y_test = train_test_split(encoded_text, df['class'], test_size=0.2, random_state=42)"
   ]
  },
  {
   "cell_type": "code",
   "execution_count": 10,
   "id": "36641213",
   "metadata": {},
   "outputs": [
    {
     "name": "stdout",
     "output_type": "stream",
     "text": [
      "Accuracy: 0.7274208566108007 \n",
      "\n",
      "              precision    recall  f1-score   support\n",
      "\n",
      "        hate       0.66      0.58      0.62      1622\n",
      "    not_hate       0.76      0.82      0.79      2674\n",
      "\n",
      "    accuracy                           0.73      4296\n",
      "   macro avg       0.71      0.70      0.70      4296\n",
      "weighted avg       0.72      0.73      0.72      4296\n",
      "\n"
     ]
    },
    {
     "data": {
      "text/plain": [
       "<AxesSubplot:>"
      ]
     },
     "execution_count": 10,
     "metadata": {},
     "output_type": "execute_result"
    },
    {
     "data": {
      "image/png": "[encoded data removed]",
      "text/plain": [
       "<Figure size 640x480 with 2 Axes>"
      ]
     },
     "metadata": {},
     "output_type": "display_data"
    }
   ],
   "source": [
    "# Define MLP classifier with 6 output classes\n",
    "classifier = MLPClassifier(hidden_layer_sizes=(256, 128), max_iter=1000)\n",
    "\n",
    "# Train the classifier on the encoded text\n",
    "classifier.fit(X_train, y_train)\n",
    "\n",
    "# Predict the labels for the encoded text\n",
    "y_pred = classifier.predict(X_test)\n",
    "\n",
    "# Calculate accuracy of the predictions\n",
    "accuracy = accuracy_score(y_test, y_pred)\n",
    "print(f\"Accuracy: {accuracy} \\n\")\n",
    "\n",
    "# Calculate classification report and confusion matrix\n",
    "target_names = ['class1', 'class2', 'class3', 'class4', 'class5', 'class6']\n",
    "print(classification_report(y_test, y_pred, target_names=classes))\n",
    "\n",
    "cm = confusion_matrix(y_test, y_pred)\n",
    "sns.heatmap(cm, annot=True, cmap='Blues', xticklabels=classes, yticklabels=classes, fmt='d')"
   ]
  },
  {
   "cell_type": "markdown",
   "id": "9fd89a55",
   "metadata": {},
   "source": [
    "## Binary Classification (baseline + BK)"
   ]
  },
  {
   "cell_type": "code",
   "execution_count": 11,
   "id": "14767001",
   "metadata": {},
   "outputs": [
    {
     "name": "stderr",
     "output_type": "stream",
     "text": [
      "[nltk_data] Downloading package punkt to\n",
      "[nltk_data]     C:\\Users\\abdul\\AppData\\Roaming\\nltk_data...\n",
      "[nltk_data]   Package punkt is already up-to-date!\n",
      "[nltk_data] Downloading package stopwords to\n",
      "[nltk_data]     C:\\Users\\abdul\\AppData\\Roaming\\nltk_data...\n",
      "[nltk_data]   Package stopwords is already up-to-date!\n",
      "[nltk_data] Downloading package wordnet to\n",
      "[nltk_data]     C:\\Users\\abdul\\AppData\\Roaming\\nltk_data...\n",
      "[nltk_data]   Package wordnet is already up-to-date!\n"
     ]
    },
    {
     "data": {
      "text/plain": [
       "True"
      ]
     },
     "execution_count": 11,
     "metadata": {},
     "output_type": "execute_result"
    }
   ],
   "source": [
    "import nltk\n",
    "from nltk.tokenize import word_tokenize\n",
    "from nltk.corpus import stopwords\n",
    "from nltk.stem import WordNetLemmatizer\n",
    "\n",
    "nltk.download('punkt')\n",
    "nltk.download('stopwords')\n",
    "nltk.download('wordnet')"
   ]
  },
  {
   "cell_type": "code",
   "execution_count": 12,
   "id": "48373d63",
   "metadata": {},
   "outputs": [],
   "source": [
    "def extract_background_knowledge(tweet_text):\n",
    "    # Tokenize the tweet text\n",
    "    tokens = word_tokenize(tweet_text.lower())\n",
    "\n",
    "    # Remove stopwords\n",
    "    stop_words = set(stopwords.words('english'))\n",
    "    tokens = [token for token in tokens if token not in stop_words]\n",
    "\n",
    "    # Lemmatize tokens\n",
    "    lemmatizer = WordNetLemmatizer()\n",
    "    tokens = [lemmatizer.lemmatize(token) for token in tokens]\n",
    "\n",
    "    # Extract background knowledge from tokens\n",
    "    background_knowledge = set()\n",
    "    for token in tokens:\n",
    "        if len(token) > 3:\n",
    "            background_knowledge.add(token)\n",
    "\n",
    "    background_knowledge = list(background_knowledge)\n",
    "    return ' '.join(background_knowledge)"
   ]
  },
  {
   "cell_type": "code",
   "execution_count": 13,
   "id": "00fe16de",
   "metadata": {},
   "outputs": [],
   "source": [
    "text_with_BK = [x + extract_background_knowledge(x) for x in X]\n",
    "\n",
    "# Load pre-trained BERT model\n",
    "model_name = 'bert-base-nli-mean-tokens'\n",
    "model = SentenceTransformer(model_name)\n",
    "\n",
    "# Encode text using pre-trained BERT model\n",
    "encoded_text = model.encode(text_with_BK)"
   ]
  },
  {
   "cell_type": "code",
   "execution_count": 14,
   "id": "3a959406",
   "metadata": {},
   "outputs": [],
   "source": [
    "X_train, X_test, y_train, y_test = train_test_split(encoded_text, df['class'], test_size=0.2, random_state=42)"
   ]
  },
  {
   "cell_type": "code",
   "execution_count": 15,
   "id": "e3e0a56a",
   "metadata": {},
   "outputs": [
    {
     "name": "stdout",
     "output_type": "stream",
     "text": [
      "Accuracy: 0.7232309124767226 \n",
      "\n",
      "              precision    recall  f1-score   support\n",
      "\n",
      "        hate       0.66      0.55      0.60      1622\n",
      "    not_hate       0.75      0.83      0.79      2674\n",
      "\n",
      "    accuracy                           0.72      4296\n",
      "   macro avg       0.71      0.69      0.69      4296\n",
      "weighted avg       0.72      0.72      0.72      4296\n",
      "\n"
     ]
    },
    {
     "data": {
      "text/plain": [
       "<AxesSubplot:>"
      ]
     },
     "execution_count": 15,
     "metadata": {},
     "output_type": "execute_result"
    },
    {
     "data": {
      "image/png": "[encoded data removed]",
      "text/plain": [
       "<Figure size 640x480 with 2 Axes>"
      ]
     },
     "metadata": {},
     "output_type": "display_data"
    }
   ],
   "source": [
    "# Define MLP classifier with 6 output classes\n",
    "classifier = MLPClassifier(hidden_layer_sizes=(256, 128), max_iter=1000)\n",
    "\n",
    "# Train the classifier on the encoded text\n",
    "classifier.fit(X_train, y_train)\n",
    "\n",
    "# Predict the labels for the encoded text\n",
    "y_pred = classifier.predict(X_test)\n",
    "\n",
    "# Calculate accuracy of the predictions\n",
    "accuracy = accuracy_score(y_test, y_pred)\n",
    "print(f\"Accuracy: {accuracy} \\n\")\n",
    "\n",
    "# Calculate classification report and confusion matrix\n",
    "target_names = ['class1', 'class2', 'class3', 'class4', 'class5', 'class6']\n",
    "print(classification_report(y_test, y_pred, target_names=classes))\n",
    "\n",
    "cm = confusion_matrix(y_test, y_pred)\n",
    "sns.heatmap(cm, annot=True, cmap='Blues', xticklabels=classes, yticklabels=classes, fmt='d')"
   ]
  },
  {
   "cell_type": "code",
   "execution_count": null,
   "id": "b648130e",
   "metadata": {},
   "outputs": [],
   "source": []
  }
 ],
 "metadata": {
  "kernelspec": {
   "display_name": "Python 3 (ipykernel)",
   "language": "python",
   "name": "python3"
  },
  "language_info": {
   "codemirror_mode": {
    "name": "ipython",
    "version": 3
   },
   "file_extension": ".py",
   "mimetype": "text/x-python",
   "name": "python",
   "nbconvert_exporter": "python",
   "pygments_lexer": "ipython3",
   "version": "3.8.0"
  }
 },
 "nbformat": 4,
 "nbformat_minor": 5
}
