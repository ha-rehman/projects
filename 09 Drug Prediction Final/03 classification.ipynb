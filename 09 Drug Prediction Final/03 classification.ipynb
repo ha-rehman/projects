{
 "cells": [
  {
   "cell_type": "markdown",
   "metadata": {},
   "source": [
    "### import libraries"
   ]
  },
  {
   "cell_type": "code",
   "execution_count": 1,
   "metadata": {},
   "outputs": [],
   "source": [
    "import pandas as pd\n",
    "from sklearn.metrics import classification_report, confusion_matrix, accuracy_score\n",
    "from sklearn.preprocessing import LabelEncoder"
   ]
  },
  {
   "cell_type": "markdown",
   "metadata": {},
   "source": [
    "### Read CSV"
   ]
  },
  {
   "cell_type": "code",
   "execution_count": 2,
   "metadata": {},
   "outputs": [],
   "source": [
    "df = pd.read_csv(\"dataset.csv\")"
   ]
  },
  {
   "cell_type": "code",
   "execution_count": 14,
   "metadata": {},
   "outputs": [
    {
     "data": {
      "text/html": [
       "<div>\n",
       "<style scoped>\n",
       "    .dataframe tbody tr th:only-of-type {\n",
       "        vertical-align: middle;\n",
       "    }\n",
       "\n",
       "    .dataframe tbody tr th {\n",
       "        vertical-align: top;\n",
       "    }\n",
       "\n",
       "    .dataframe thead th {\n",
       "        text-align: right;\n",
       "    }\n",
       "</style>\n",
       "<table border=\"1\" class=\"dataframe\">\n",
       "  <thead>\n",
       "    <tr style=\"text-align: right;\">\n",
       "      <th></th>\n",
       "      <th>drugName</th>\n",
       "      <th>condition</th>\n",
       "      <th>review</th>\n",
       "      <th>sentiment</th>\n",
       "      <th>ENRS</th>\n",
       "    </tr>\n",
       "  </thead>\n",
       "  <tbody>\n",
       "    <tr>\n",
       "      <th>0</th>\n",
       "      <td>Levonorgestrel</td>\n",
       "      <td>Emergency Contraception</td>\n",
       "      <td>pulled cummed bit took plan b hours later took...</td>\n",
       "      <td>1</td>\n",
       "      <td>Normal</td>\n",
       "    </tr>\n",
       "    <tr>\n",
       "      <th>1</th>\n",
       "      <td>Ethinyl estradiol / levonorgestrel</td>\n",
       "      <td>Birth Control</td>\n",
       "      <td>pill many years doctor changed rx chateal effe...</td>\n",
       "      <td>1</td>\n",
       "      <td>acne</td>\n",
       "    </tr>\n",
       "    <tr>\n",
       "      <th>2</th>\n",
       "      <td>Nexplanon</td>\n",
       "      <td>Birth Control</td>\n",
       "      <td>started nexplanon months ago minimal amount co...</td>\n",
       "      <td>1</td>\n",
       "      <td>acne</td>\n",
       "    </tr>\n",
       "    <tr>\n",
       "      <th>3</th>\n",
       "      <td>Etonogestrel</td>\n",
       "      <td>Birth Control</td>\n",
       "      <td>nexplanon job worry free sex thing periods som...</td>\n",
       "      <td>1</td>\n",
       "      <td>depressed</td>\n",
       "    </tr>\n",
       "    <tr>\n",
       "      <th>4</th>\n",
       "      <td>Sertraline</td>\n",
       "      <td>Depression</td>\n",
       "      <td>week zoloft anxiety mood swings take mg mornin...</td>\n",
       "      <td>1</td>\n",
       "      <td>zoloft anxiety mood</td>\n",
       "    </tr>\n",
       "  </tbody>\n",
       "</table>\n",
       "</div>"
      ],
      "text/plain": [
       "                             drugName                condition  \\\n",
       "0                      Levonorgestrel  Emergency Contraception   \n",
       "1  Ethinyl estradiol / levonorgestrel            Birth Control   \n",
       "2                           Nexplanon            Birth Control   \n",
       "3                        Etonogestrel            Birth Control   \n",
       "4                          Sertraline               Depression   \n",
       "\n",
       "                                              review  sentiment  \\\n",
       "0  pulled cummed bit took plan b hours later took...          1   \n",
       "1  pill many years doctor changed rx chateal effe...          1   \n",
       "2  started nexplanon months ago minimal amount co...          1   \n",
       "3  nexplanon job worry free sex thing periods som...          1   \n",
       "4  week zoloft anxiety mood swings take mg mornin...          1   \n",
       "\n",
       "                  ENRS  \n",
       "0               Normal  \n",
       "1                 acne  \n",
       "2                 acne  \n",
       "3            depressed  \n",
       "4  zoloft anxiety mood  "
      ]
     },
     "execution_count": 14,
     "metadata": {},
     "output_type": "execute_result"
    }
   ],
   "source": [
    "df.head()"
   ]
  },
  {
   "cell_type": "markdown",
   "metadata": {},
   "source": [
    "### Label Encoding"
   ]
  },
  {
   "cell_type": "code",
   "execution_count": 15,
   "metadata": {},
   "outputs": [],
   "source": [
    "label_encoder = LabelEncoder() \n",
    "df['drugName']  = label_encoder.fit_transform(df['drugName'].astype(str))\n",
    "label_encoder = LabelEncoder() \n",
    "df['condition']  = label_encoder.fit_transform(df['condition'].astype(str))\n",
    "label_encoder = LabelEncoder() \n",
    "df['ENRS']  = label_encoder.fit_transform(df['ENRS'].astype(str))"
   ]
  },
  {
   "cell_type": "code",
   "execution_count": 16,
   "metadata": {},
   "outputs": [
    {
     "data": {
      "text/html": [
       "<div>\n",
       "<style scoped>\n",
       "    .dataframe tbody tr th:only-of-type {\n",
       "        vertical-align: middle;\n",
       "    }\n",
       "\n",
       "    .dataframe tbody tr th {\n",
       "        vertical-align: top;\n",
       "    }\n",
       "\n",
       "    .dataframe thead th {\n",
       "        text-align: right;\n",
       "    }\n",
       "</style>\n",
       "<table border=\"1\" class=\"dataframe\">\n",
       "  <thead>\n",
       "    <tr style=\"text-align: right;\">\n",
       "      <th></th>\n",
       "      <th>drugName</th>\n",
       "      <th>condition</th>\n",
       "      <th>review</th>\n",
       "      <th>sentiment</th>\n",
       "      <th>ENRS</th>\n",
       "    </tr>\n",
       "  </thead>\n",
       "  <tbody>\n",
       "    <tr>\n",
       "      <th>0</th>\n",
       "      <td>16</td>\n",
       "      <td>55</td>\n",
       "      <td>pulled cummed bit took plan b hours later took...</td>\n",
       "      <td>1</td>\n",
       "      <td>0</td>\n",
       "    </tr>\n",
       "    <tr>\n",
       "      <th>1</th>\n",
       "      <td>10</td>\n",
       "      <td>36</td>\n",
       "      <td>pill many years doctor changed rx chateal effe...</td>\n",
       "      <td>1</td>\n",
       "      <td>51</td>\n",
       "    </tr>\n",
       "    <tr>\n",
       "      <th>2</th>\n",
       "      <td>22</td>\n",
       "      <td>36</td>\n",
       "      <td>started nexplanon months ago minimal amount co...</td>\n",
       "      <td>1</td>\n",
       "      <td>51</td>\n",
       "    </tr>\n",
       "    <tr>\n",
       "      <th>3</th>\n",
       "      <td>13</td>\n",
       "      <td>36</td>\n",
       "      <td>nexplanon job worry free sex thing periods som...</td>\n",
       "      <td>1</td>\n",
       "      <td>1546</td>\n",
       "    </tr>\n",
       "    <tr>\n",
       "      <th>4</th>\n",
       "      <td>25</td>\n",
       "      <td>51</td>\n",
       "      <td>week zoloft anxiety mood swings take mg mornin...</td>\n",
       "      <td>1</td>\n",
       "      <td>4857</td>\n",
       "    </tr>\n",
       "  </tbody>\n",
       "</table>\n",
       "</div>"
      ],
      "text/plain": [
       "   drugName  condition                                             review  \\\n",
       "0        16         55  pulled cummed bit took plan b hours later took...   \n",
       "1        10         36  pill many years doctor changed rx chateal effe...   \n",
       "2        22         36  started nexplanon months ago minimal amount co...   \n",
       "3        13         36  nexplanon job worry free sex thing periods som...   \n",
       "4        25         51  week zoloft anxiety mood swings take mg mornin...   \n",
       "\n",
       "   sentiment  ENRS  \n",
       "0          1     0  \n",
       "1          1    51  \n",
       "2          1    51  \n",
       "3          1  1546  \n",
       "4          1  4857  "
      ]
     },
     "execution_count": 16,
     "metadata": {},
     "output_type": "execute_result"
    }
   ],
   "source": [
    "df.head()\n"
   ]
  },
  {
   "cell_type": "code",
   "execution_count": 18,
   "metadata": {},
   "outputs": [
    {
     "data": {
      "text/html": [
       "<div>\n",
       "<style scoped>\n",
       "    .dataframe tbody tr th:only-of-type {\n",
       "        vertical-align: middle;\n",
       "    }\n",
       "\n",
       "    .dataframe tbody tr th {\n",
       "        vertical-align: top;\n",
       "    }\n",
       "\n",
       "    .dataframe thead th {\n",
       "        text-align: right;\n",
       "    }\n",
       "</style>\n",
       "<table border=\"1\" class=\"dataframe\">\n",
       "  <thead>\n",
       "    <tr style=\"text-align: right;\">\n",
       "      <th></th>\n",
       "      <th>drugName</th>\n",
       "      <th>condition</th>\n",
       "      <th>sentiment</th>\n",
       "      <th>ENRS</th>\n",
       "    </tr>\n",
       "  </thead>\n",
       "  <tbody>\n",
       "    <tr>\n",
       "      <th>0</th>\n",
       "      <td>16</td>\n",
       "      <td>55</td>\n",
       "      <td>1</td>\n",
       "      <td>0</td>\n",
       "    </tr>\n",
       "    <tr>\n",
       "      <th>1</th>\n",
       "      <td>10</td>\n",
       "      <td>36</td>\n",
       "      <td>1</td>\n",
       "      <td>51</td>\n",
       "    </tr>\n",
       "    <tr>\n",
       "      <th>2</th>\n",
       "      <td>22</td>\n",
       "      <td>36</td>\n",
       "      <td>1</td>\n",
       "      <td>51</td>\n",
       "    </tr>\n",
       "    <tr>\n",
       "      <th>3</th>\n",
       "      <td>13</td>\n",
       "      <td>36</td>\n",
       "      <td>1</td>\n",
       "      <td>1546</td>\n",
       "    </tr>\n",
       "    <tr>\n",
       "      <th>4</th>\n",
       "      <td>25</td>\n",
       "      <td>51</td>\n",
       "      <td>1</td>\n",
       "      <td>4857</td>\n",
       "    </tr>\n",
       "  </tbody>\n",
       "</table>\n",
       "</div>"
      ],
      "text/plain": [
       "   drugName  condition  sentiment  ENRS\n",
       "0        16         55          1     0\n",
       "1        10         36          1    51\n",
       "2        22         36          1    51\n",
       "3        13         36          1  1546\n",
       "4        25         51          1  4857"
      ]
     },
     "execution_count": 18,
     "metadata": {},
     "output_type": "execute_result"
    }
   ],
   "source": [
    "df = df[['drugName', 'condition', 'sentiment', 'ENRS']]\n",
    "X = df.drop(['drugName'], axis=1)\n",
    "y = df['drugName']\n",
    "df.head()"
   ]
  },
  {
   "cell_type": "markdown",
   "metadata": {},
   "source": [
    "### train test split"
   ]
  },
  {
   "cell_type": "code",
   "execution_count": 19,
   "metadata": {},
   "outputs": [],
   "source": [
    "from sklearn.model_selection import train_test_split \n",
    "X_train, X_test, y_train, y_test = train_test_split(X, y, test_size=0.2, random_state=42)  "
   ]
  },
  {
   "cell_type": "code",
   "execution_count": 20,
   "metadata": {},
   "outputs": [
    {
     "data": {
      "text/html": [
       "<div>\n",
       "<style scoped>\n",
       "    .dataframe tbody tr th:only-of-type {\n",
       "        vertical-align: middle;\n",
       "    }\n",
       "\n",
       "    .dataframe tbody tr th {\n",
       "        vertical-align: top;\n",
       "    }\n",
       "\n",
       "    .dataframe thead th {\n",
       "        text-align: right;\n",
       "    }\n",
       "</style>\n",
       "<table border=\"1\" class=\"dataframe\">\n",
       "  <thead>\n",
       "    <tr style=\"text-align: right;\">\n",
       "      <th></th>\n",
       "      <th>condition</th>\n",
       "      <th>sentiment</th>\n",
       "      <th>ENRS</th>\n",
       "    </tr>\n",
       "  </thead>\n",
       "  <tbody>\n",
       "    <tr>\n",
       "      <th>37662</th>\n",
       "      <td>36</td>\n",
       "      <td>-1</td>\n",
       "      <td>935</td>\n",
       "    </tr>\n",
       "    <tr>\n",
       "      <th>26392</th>\n",
       "      <td>36</td>\n",
       "      <td>1</td>\n",
       "      <td>2965</td>\n",
       "    </tr>\n",
       "    <tr>\n",
       "      <th>22019</th>\n",
       "      <td>36</td>\n",
       "      <td>-1</td>\n",
       "      <td>3465</td>\n",
       "    </tr>\n",
       "    <tr>\n",
       "      <th>9473</th>\n",
       "      <td>81</td>\n",
       "      <td>-1</td>\n",
       "      <td>3434</td>\n",
       "    </tr>\n",
       "    <tr>\n",
       "      <th>1442</th>\n",
       "      <td>21</td>\n",
       "      <td>-1</td>\n",
       "      <td>1527</td>\n",
       "    </tr>\n",
       "  </tbody>\n",
       "</table>\n",
       "</div>"
      ],
      "text/plain": [
       "       condition  sentiment  ENRS\n",
       "37662         36         -1   935\n",
       "26392         36          1  2965\n",
       "22019         36         -1  3465\n",
       "9473          81         -1  3434\n",
       "1442          21         -1  1527"
      ]
     },
     "execution_count": 20,
     "metadata": {},
     "output_type": "execute_result"
    }
   ],
   "source": [
    "X_train.head()"
   ]
  },
  {
   "cell_type": "markdown",
   "metadata": {},
   "source": [
    "### Random Forest"
   ]
  },
  {
   "cell_type": "code",
   "execution_count": 21,
   "metadata": {},
   "outputs": [
    {
     "name": "stdout",
     "output_type": "stream",
     "text": [
      "              precision    recall  f1-score   support\n",
      "\n",
      "           0       0.66      0.61      0.64       200\n",
      "           1       0.34      0.37      0.35       189\n",
      "           2       0.45      0.68      0.54       203\n",
      "           3       0.45      0.50      0.47       164\n",
      "           4       0.30      0.24      0.27       177\n",
      "           5       0.18      0.08      0.11       169\n",
      "           6       0.37      0.27      0.32       182\n",
      "           7       0.57      0.21      0.31       179\n",
      "           8       0.25      0.27      0.26       162\n",
      "           9       0.25      0.46      0.33       233\n",
      "          10       0.46      0.18      0.26       388\n",
      "          11       0.26      0.25      0.26       548\n",
      "          12       0.38      0.31      0.34       428\n",
      "          13       0.24      0.62      0.34       639\n",
      "          14       0.74      0.61      0.67       216\n",
      "          15       0.07      0.01      0.02       231\n",
      "          16       0.53      0.64      0.58       753\n",
      "          17       0.21      0.09      0.13       189\n",
      "          18       0.36      0.39      0.37       207\n",
      "          19       0.96      0.98      0.97       188\n",
      "          20       1.00      0.99      1.00       188\n",
      "          21       0.35      0.20      0.26       257\n",
      "          22       0.11      0.03      0.05       446\n",
      "          23       0.84      0.87      0.86       332\n",
      "          24       0.67      0.77      0.72       183\n",
      "          25       0.40      0.40      0.40       263\n",
      "          26       0.36      0.15      0.21       151\n",
      "          27       0.62      0.82      0.71       152\n",
      "          28       0.48      0.36      0.41       226\n",
      "          29       0.21      0.08      0.11       166\n",
      "\n",
      "    accuracy                           0.42      8009\n",
      "   macro avg       0.44      0.42      0.41      8009\n",
      "weighted avg       0.42      0.42      0.40      8009\n",
      "\n"
     ]
    }
   ],
   "source": [
    "from sklearn.ensemble import RandomForestClassifier\n",
    "#Create a Gaussian Classifier\n",
    "from sklearn.model_selection import GridSearchCV\n",
    "# Create the parameter grid based on the results of random search \n",
    "param_grid = {\n",
    "    'bootstrap': [True],\n",
    "    'max_depth': [80],\n",
    "    'max_features': [2],\n",
    "    'min_samples_leaf': [3],\n",
    "    'min_samples_split': [10],\n",
    "    'n_estimators': [1000]\n",
    "}\n",
    "s=RandomForestClassifier(bootstrap=True,max_depth=80,max_features=2,min_samples_leaf=3,min_samples_split=10,n_estimators=1000)\n",
    "s.fit(X_train, y_train)\n",
    "y_pred = s.predict(X_test)\n",
    "# print('Accuracy: %s' % accuracy_score(y_test, y_pred))\n",
    "print(classification_report(y_test, y_pred)) "
   ]
  },
  {
   "cell_type": "markdown",
   "metadata": {},
   "source": [
    "### K-Neighbour"
   ]
  },
  {
   "cell_type": "code",
   "execution_count": 22,
   "metadata": {},
   "outputs": [
    {
     "name": "stderr",
     "output_type": "stream",
     "text": [
      "C:\\Users\\cvml\\Anaconda3\\lib\\site-packages\\sklearn\\base.py:441: UserWarning: X does not have valid feature names, but KNeighborsClassifier was fitted with feature names\n",
      "  warnings.warn(\n"
     ]
    },
    {
     "name": "stdout",
     "output_type": "stream",
     "text": [
      "Accuracy: 0.383069047321763\n",
      "              precision    recall  f1-score   support\n",
      "\n",
      "           0       0.54      0.55      0.54       200\n",
      "           1       0.31      0.43      0.36       189\n",
      "           2       0.38      0.57      0.46       203\n",
      "           3       0.45      0.44      0.45       164\n",
      "           4       0.13      0.08      0.10       177\n",
      "           5       0.18      0.17      0.17       169\n",
      "           6       0.28      0.27      0.28       182\n",
      "           7       0.37      0.13      0.19       179\n",
      "           8       0.21      0.19      0.20       162\n",
      "           9       0.25      0.42      0.31       233\n",
      "          10       0.42      0.19      0.26       388\n",
      "          11       0.24      0.32      0.28       548\n",
      "          12       0.34      0.29      0.31       428\n",
      "          13       0.24      0.48      0.32       639\n",
      "          14       0.65      0.56      0.61       216\n",
      "          15       0.00      0.00      0.00       231\n",
      "          16       0.50      0.68      0.58       753\n",
      "          17       0.09      0.05      0.07       189\n",
      "          18       0.29      0.28      0.28       207\n",
      "          19       0.77      0.74      0.75       188\n",
      "          20       0.90      0.91      0.90       188\n",
      "          21       0.07      0.02      0.03       257\n",
      "          22       0.11      0.07      0.08       446\n",
      "          23       0.82      0.82      0.82       332\n",
      "          24       0.62      0.63      0.63       183\n",
      "          25       0.42      0.40      0.41       263\n",
      "          26       0.30      0.14      0.19       151\n",
      "          27       0.56      0.72      0.63       152\n",
      "          28       0.61      0.37      0.46       226\n",
      "          29       0.12      0.04      0.06       166\n",
      "\n",
      "    accuracy                           0.38      8009\n",
      "   macro avg       0.37      0.37      0.36      8009\n",
      "weighted avg       0.37      0.38      0.36      8009\n",
      "\n"
     ]
    }
   ],
   "source": [
    "from sklearn.metrics import classification_report\n",
    "from sklearn.model_selection import GridSearchCV\n",
    "from sklearn.neighbors import KNeighborsClassifier\n",
    "\n",
    "s=KNeighborsClassifier(n_neighbors=49, weights='distance')\n",
    "s.fit(X_train, y_train)\n",
    "y_pred = s.predict(X_test)\n",
    "print('Accuracy: %s' % accuracy_score(y_test, y_pred))\n",
    "print(classification_report(y_test, y_pred)) "
   ]
  },
  {
   "cell_type": "markdown",
   "metadata": {},
   "source": [
    "### Support Vector Machine"
   ]
  },
  {
   "cell_type": "code",
   "execution_count": null,
   "metadata": {},
   "outputs": [],
   "source": [
    "from sklearn.model_selection import GridSearchCV\n",
    "from sklearn.svm import SVC \n",
    "from sklearn.metrics import classification_report\n",
    "param_grid = {'gamma': [1, 0.1, 0.01], \n",
    "              'gamma':['scale', 'auto'],\n",
    "              'kernel': ['linear','rbf']} \n",
    "s = GridSearchCV(SVC(), param_grid, refit = True,cv=3, verbose = 3,n_jobs=-1,scoring='accuracy')\n",
    "s.fit(X_train, y_train)\n",
    "y_pred = s.predict(X_test)\n",
    "print(classification_report(y_test, y_pred))"
   ]
  },
  {
   "cell_type": "code",
   "execution_count": null,
   "metadata": {},
   "outputs": [],
   "source": []
  }
 ],
 "metadata": {
  "kernelspec": {
   "display_name": "Python 3 (ipykernel)",
   "language": "python",
   "name": "python3"
  },
  "language_info": {
   "codemirror_mode": {
    "name": "ipython",
    "version": 3
   },
   "file_extension": ".py",
   "mimetype": "text/x-python",
   "name": "python",
   "nbconvert_exporter": "python",
   "pygments_lexer": "ipython3",
   "version": "3.9.7"
  }
 },
 "nbformat": 4,
 "nbformat_minor": 4
}
