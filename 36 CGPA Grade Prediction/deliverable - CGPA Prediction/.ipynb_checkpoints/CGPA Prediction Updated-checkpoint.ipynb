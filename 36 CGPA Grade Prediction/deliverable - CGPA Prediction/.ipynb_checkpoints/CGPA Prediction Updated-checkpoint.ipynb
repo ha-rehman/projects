{
 "cells": [
  {
   "cell_type": "markdown",
   "id": "a532765a",
   "metadata": {},
   "source": [
    "## Import Libraries"
   ]
  },
  {
   "cell_type": "code",
   "execution_count": 1,
   "id": "566691d4",
   "metadata": {},
   "outputs": [],
   "source": [
    "import warnings\n",
    "warnings.filterwarnings('ignore')"
   ]
  },
  {
   "cell_type": "code",
   "execution_count": 2,
   "id": "a753fb57",
   "metadata": {},
   "outputs": [],
   "source": [
    "import pandas as pd\n",
    "import glob\n",
    "import os\n",
    "\n",
    "import re\n",
    "import string\n",
    "import numpy as np\n",
    "import pandas as pd\n",
    "import matplotlib.pyplot as plt\n",
    "import seaborn as sns\n",
    "from tqdm import tqdm # Progress Bar\n",
    "import statistics\n",
    "import math\n",
    "\n",
    "from sklearn.preprocessing import LabelEncoder\n",
    "from sklearn.feature_extraction.text import TfidfVectorizer, CountVectorizer\n",
    "from sklearn.naive_bayes import MultinomialNB\n",
    "from sklearn.pipeline import make_pipeline, Pipeline\n",
    "from sklearn.model_selection import train_test_split\n",
    "from sklearn.metrics import confusion_matrix,classification_report, accuracy_score,precision_score, recall_score, f1_score\n",
    "\n",
    "pd.set_option(\"display.max_rows\", None, \"display.max_columns\", None)\n",
    "\n",
    "import tensorflow.python.keras.backend as K \n",
    "sess = K.get_session()\n",
    "from tensorflow.keras.utils import to_categorical\n",
    "from tensorflow.keras.models import Sequential, Model \n",
    "from tensorflow.keras.layers import Dense,Activation,Dropout, SpatialDropout1D \n",
    "from tensorflow.keras.layers import BatchNormalization, Input, Embedding, LSTM \n",
    "from tensorflow.keras.callbacks import ModelCheckpoint, ReduceLROnPlateau, EarlyStopping"
   ]
  },
  {
   "cell_type": "markdown",
   "id": "cd92606f",
   "metadata": {},
   "source": [
    "## Read Data"
   ]
  },
  {
   "cell_type": "code",
   "execution_count": 3,
   "id": "871a71ed",
   "metadata": {},
   "outputs": [
    {
     "name": "stdout",
     "output_type": "stream",
     "text": [
      "\n",
      "\n",
      "Sample Data:\n",
      "============\n",
      "\n",
      "        ID         DOB Marital status Sex  High school Result  \\\n",
      "0   241611  04/05/1993         Single   M                99.0   \n",
      "1   241611  04/05/1993         Single   M                99.0   \n",
      "2   241611  04/05/1993         Single   M                99.0   \n",
      "3   241611  04/05/1993         Single   M                99.0   \n",
      "4   241611  04/05/1993         Single   M                99.0   \n",
      "5   241611  04/05/1993         Single   M                99.0   \n",
      "6   241611  04/05/1993         Single   M                99.0   \n",
      "7   241611  04/05/1993         Single   M                99.0   \n",
      "8   241611  04/05/1993         Single   M                99.0   \n",
      "9   241611  04/05/1993         Single   M                99.0   \n",
      "10  241611  04/05/1993         Single   M                99.0   \n",
      "11  241611  04/05/1993         Single   M                99.0   \n",
      "12  241611  04/05/1993         Single   M                99.0   \n",
      "13  241611  04/05/1993         Single   M                99.0   \n",
      "14  241611  04/05/1993         Single   M                99.0   \n",
      "15  241611  04/05/1993         Single   M                99.0   \n",
      "16  241611  04/05/1993         Single   M                99.0   \n",
      "17  241611  04/05/1993         Single   M                99.0   \n",
      "18  241611  04/05/1993         Single   M                99.0   \n",
      "19  241611  04/05/1993         Single   M                99.0   \n",
      "\n",
      "    General Aptitude Test GAT  Academic Achievement Test Course code  \\\n",
      "0                        77.0                       84.0         STA   \n",
      "1                        77.0                       84.0         STA   \n",
      "2                        77.0                       84.0         STA   \n",
      "3                        77.0                       84.0         ACC   \n",
      "4                        77.0                       84.0         BUS   \n",
      "5                        77.0                       84.0         BUS   \n",
      "6                        77.0                       84.0        MATH   \n",
      "7                        77.0                       84.0        MATH   \n",
      "8                        77.0                       84.0         HAD   \n",
      "9                        77.0                       84.0          CS   \n",
      "10                       77.0                       84.0          CS   \n",
      "11                       77.0                       84.0          CS   \n",
      "12                       77.0                       84.0          CS   \n",
      "13                       77.0                       84.0          CS   \n",
      "14                       77.0                       84.0          CS   \n",
      "15                       77.0                       84.0          CS   \n",
      "16                       77.0                       84.0          CS   \n",
      "17                       77.0                       84.0          CS   \n",
      "18                       77.0                       84.0          CS   \n",
      "19                       77.0                       84.0          CS   \n",
      "\n",
      "    Course number                                Course name  \\\n",
      "0             111  INTRODUCTION TO PROBABILITYAND STATISTICS   \n",
      "1             111  INTRODUCTION TO PROBABILITYAND STATISTICS   \n",
      "2             111  INTRODUCTION TO PROBABILITYAND STATISTICS   \n",
      "3             100                   PRINCIPLES OF ACCOUNTING   \n",
      "4             100    INTRODUCTION TO BUSINESS ADMINISTRATION   \n",
      "5             100    INTRODUCTION TO BUSINESS ADMINISTRATION   \n",
      "6             114                         APPLIED CALCULUS I   \n",
      "7             227         LINER ALGEBRA&DIFFRENTIAL EQUATION   \n",
      "8             116                      the prophet biography   \n",
      "9             104                        Discrete Structures   \n",
      "10            140                     Computer Programming-I   \n",
      "11            140                     Computer Programming-I   \n",
      "12            141                    Computer Programming-II   \n",
      "13            224                      Computer Organization   \n",
      "14            242                            Data Structures   \n",
      "15            322                          Operating Systems   \n",
      "16            322                          Operating Systems   \n",
      "17            322                          Operating Systems   \n",
      "18            330                          Computer Networks   \n",
      "19            330                          Computer Networks   \n",
      "\n",
      "    Course credit hour  Grade                   Semester Student status  \\\n",
      "0                     3    DN  Second Semester 1434-1435       Graduate   \n",
      "1                     3    DN  Second Semester 1438-1439       Graduate   \n",
      "2                     3     D   First Semester 1439-1440       Graduate   \n",
      "3                     3    B+  Second Semester 1435-1436       Graduate   \n",
      "4                     0     W   First Semester 1435-1436       Graduate   \n",
      "5                     3     A   First Semester 1441-1442       Graduate   \n",
      "6                     4     A  Second semester 1433-1434       Graduate   \n",
      "7                     4     B   First semester 1434-1435       Graduate   \n",
      "8                     2     A  Second Semester 1435-1436       Graduate   \n",
      "9                     3    B+   First Semester 1433-1434       Graduate   \n",
      "10                    0     W   First Semester 1433-1434       Graduate   \n",
      "11                    4     A  Second semester 1433-1434       Graduate   \n",
      "12                    4     D   First semester 1434-1435       Graduate   \n",
      "13                    4     C   First semester 1436-1437       Graduate   \n",
      "14                    4     D  Second Semester 1434-1435       Graduate   \n",
      "15                    0     W  Second semester 1436-1437       Graduate   \n",
      "16                    4     D   First Semester 1438-1439       Graduate   \n",
      "17                    4     F   First Semester 1437-1438       Graduate   \n",
      "18                    4     C   First Semester 1439-1440       Graduate   \n",
      "19                    4     F  Second Semester 1438-1439       Graduate   \n",
      "\n",
      "                  Major  GPA  \n",
      "0   Information Systems  3.2  \n",
      "1   Information Systems  3.2  \n",
      "2   Information Systems  3.2  \n",
      "3   Information Systems  3.2  \n",
      "4   Information Systems  3.2  \n",
      "5   Information Systems  3.2  \n",
      "6   Information Systems  3.2  \n",
      "7   Information Systems  3.2  \n",
      "8   Information Systems  3.2  \n",
      "9   Information Systems  3.2  \n",
      "10  Information Systems  3.2  \n",
      "11  Information Systems  3.2  \n",
      "12  Information Systems  3.2  \n",
      "13  Information Systems  3.2  \n",
      "14  Information Systems  3.2  \n",
      "15  Information Systems  3.2  \n",
      "16  Information Systems  3.2  \n",
      "17  Information Systems  3.2  \n",
      "18  Information Systems  3.2  \n",
      "19  Information Systems  3.2  \n"
     ]
    }
   ],
   "source": [
    "df = pd.read_excel(\"ccsi.xlsx\")\n",
    "\n",
    "print(\"\\n\\nSample Data:\")\n",
    "print(\"============\\n\")\n",
    "print(df.head(20))"
   ]
  },
  {
   "cell_type": "markdown",
   "id": "23f95d7d",
   "metadata": {},
   "source": [
    "## Utils Functions"
   ]
  },
  {
   "cell_type": "code",
   "execution_count": 4,
   "id": "1b3cdbeb",
   "metadata": {},
   "outputs": [],
   "source": [
    "def count_digit(num):\n",
    "    count = 0\n",
    "    while num != 0:\n",
    "        num //= 10\n",
    "        count += 1\n",
    "    return count\n",
    "\n",
    "def check_shape(df):\n",
    "    rows, cols = df.shape\n",
    "    print(\"\\nNumber or rows in dataset: {}\".format(rows))\n",
    "    print(\"==========================={}\".format(count_digit(rows)*'='))\n",
    "    print(\"\\nNumber or columns in dataset: {}\".format(cols))\n",
    "    print(\"=============================={}\".format(count_digit(cols)*'='))\n",
    "    \n",
    "def modelEvaluation(predictions, y_test_set, model_name, classes):\n",
    "    # Print model evaluation to predicted result    \n",
    "    print(\"==========\",model_name,\"==========\")\n",
    "    print (\"\\nAccuracy on validation set: {:.4f}\".format(accuracy_score(y_test_set, predictions)))    \n",
    "    print (\"\\nClassification report : \\n\", classification_report(y_test_set, predictions, target_names = classes))\n",
    "#     print (\"\\nConfusion Matrix : \\n\", confusion_matrix(y_test_set,predictions))\n",
    "    sns.heatmap(confusion_matrix(y_test_set, predictions),annot=True,yticklabels=classes, xticklabels=classes, fmt='g',cmap='jet')\n",
    "    \n",
    "    plt.title('Confusion Matrix of {}'.format(model_name))\n",
    "    plt.xlabel('predicted Labels')\n",
    "    plt.ylabel('Actual Labels')\n",
    "#     plt.tight_layout()\n",
    "    plt.show()\n",
    "    results = [accuracy_score(y_test_set, predictions), precision_score(y_test_set, predictions,average='macro'),\n",
    "              recall_score(y_test_set, predictions,average='macro'),f1_score(y_test_set, predictions,average='macro')]#store results of model\n",
    "    return results"
   ]
  },
  {
   "cell_type": "markdown",
   "id": "f87fdaa3",
   "metadata": {},
   "source": [
    "# Understand Sample Data\n",
    "## Dataset Samples and Features Count"
   ]
  },
  {
   "cell_type": "code",
   "execution_count": 5,
   "id": "17a13f57",
   "metadata": {},
   "outputs": [
    {
     "name": "stdout",
     "output_type": "stream",
     "text": [
      "\n",
      "\n",
      "Attributes in Sample Data:\n",
      "==========================\n",
      "\n",
      "Index(['ID', 'DOB', 'Marital status', 'Sex', 'High school Result',\n",
      "       'General Aptitude Test GAT', 'Academic Achievement Test', 'Course code',\n",
      "       'Course number', 'Course name', 'Course credit hour ', 'Grade',\n",
      "       'Semester', 'Student status', 'Major', 'GPA'],\n",
      "      dtype='object')\n",
      "\n",
      "\n",
      "Number of Instances in Sample Data: 85842\n",
      "=========================================\n",
      "\n",
      "\n",
      "\n",
      "Number of Unique Instances in Sample Data: 2667\n",
      "===============================================\n",
      "\n"
     ]
    }
   ],
   "source": [
    "# Understand Sample Data\n",
    "\n",
    "print(\"\\n\\nAttributes in Sample Data:\")\n",
    "print(\"==========================\\n\")\n",
    "\n",
    "print(df.columns)\n",
    "\n",
    "print(\"\\n\\nNumber of Instances in Sample Data:\",len(df.index))\n",
    "print(\"===================================={}\\n\".format(count_digit(len(df.index))*'='))\n",
    "\n",
    "print(\"\\n\\nNumber of Unique Instances in Sample Data:\",len(df.ID.unique()))\n",
    "print(\"==========================================={}\\n\".format(count_digit(len(df.ID.unique()))*'='))"
   ]
  },
  {
   "cell_type": "code",
   "execution_count": 6,
   "id": "d8ad1d85",
   "metadata": {},
   "outputs": [
    {
     "name": "stdout",
     "output_type": "stream",
     "text": [
      "(85842, 16)\n",
      "(85585, 16)\n"
     ]
    }
   ],
   "source": [
    "print(df.shape)\n",
    "df = df[df['GPA'] != 0.0]\n",
    "print(df.shape)"
   ]
  },
  {
   "cell_type": "code",
   "execution_count": 7,
   "id": "8eb0c465",
   "metadata": {},
   "outputs": [
    {
     "name": "stdout",
     "output_type": "stream",
     "text": [
      "(85585, 13)\n"
     ]
    }
   ],
   "source": [
    "useable_features = ['ID', 'Marital status', 'Sex', 'High school Result', 'Student status', \n",
    "        'Major', 'General Aptitude Test GAT', 'Academic Achievement Test', 'Course name',\n",
    "        'Course credit hour ', 'Grade', 'Semester', 'GPA']\n",
    "\n",
    "df = df[useable_features]\n",
    "print(df.shape)"
   ]
  },
  {
   "cell_type": "markdown",
   "id": "3390580e",
   "metadata": {},
   "source": [
    "## Label Encoding"
   ]
  },
  {
   "cell_type": "code",
   "execution_count": 8,
   "id": "b4bec2c8",
   "metadata": {},
   "outputs": [
    {
     "data": {
      "text/html": [
       "<div>\n",
       "<style scoped>\n",
       "    .dataframe tbody tr th:only-of-type {\n",
       "        vertical-align: middle;\n",
       "    }\n",
       "\n",
       "    .dataframe tbody tr th {\n",
       "        vertical-align: top;\n",
       "    }\n",
       "\n",
       "    .dataframe thead th {\n",
       "        text-align: right;\n",
       "    }\n",
       "</style>\n",
       "<table border=\"1\" class=\"dataframe\">\n",
       "  <thead>\n",
       "    <tr style=\"text-align: right;\">\n",
       "      <th></th>\n",
       "      <th>ID</th>\n",
       "      <th>Marital status</th>\n",
       "      <th>Sex</th>\n",
       "      <th>High school Result</th>\n",
       "      <th>Student status</th>\n",
       "      <th>Major</th>\n",
       "      <th>General Aptitude Test GAT</th>\n",
       "      <th>Academic Achievement Test</th>\n",
       "      <th>Course name</th>\n",
       "      <th>Course credit hour</th>\n",
       "      <th>Grade</th>\n",
       "      <th>Semester</th>\n",
       "      <th>GPA</th>\n",
       "    </tr>\n",
       "  </thead>\n",
       "  <tbody>\n",
       "    <tr>\n",
       "      <th>0</th>\n",
       "      <td>241611</td>\n",
       "      <td>2</td>\n",
       "      <td>1</td>\n",
       "      <td>99.0</td>\n",
       "      <td>4</td>\n",
       "      <td>2</td>\n",
       "      <td>77.0</td>\n",
       "      <td>84.0</td>\n",
       "      <td>70</td>\n",
       "      <td>3</td>\n",
       "      <td>8</td>\n",
       "      <td>13</td>\n",
       "      <td>3.2</td>\n",
       "    </tr>\n",
       "    <tr>\n",
       "      <th>1</th>\n",
       "      <td>241611</td>\n",
       "      <td>2</td>\n",
       "      <td>1</td>\n",
       "      <td>99.0</td>\n",
       "      <td>4</td>\n",
       "      <td>2</td>\n",
       "      <td>77.0</td>\n",
       "      <td>84.0</td>\n",
       "      <td>70</td>\n",
       "      <td>3</td>\n",
       "      <td>8</td>\n",
       "      <td>15</td>\n",
       "      <td>3.2</td>\n",
       "    </tr>\n",
       "    <tr>\n",
       "      <th>2</th>\n",
       "      <td>241611</td>\n",
       "      <td>2</td>\n",
       "      <td>1</td>\n",
       "      <td>99.0</td>\n",
       "      <td>4</td>\n",
       "      <td>2</td>\n",
       "      <td>77.0</td>\n",
       "      <td>84.0</td>\n",
       "      <td>70</td>\n",
       "      <td>3</td>\n",
       "      <td>6</td>\n",
       "      <td>6</td>\n",
       "      <td>3.2</td>\n",
       "    </tr>\n",
       "    <tr>\n",
       "      <th>3</th>\n",
       "      <td>241611</td>\n",
       "      <td>2</td>\n",
       "      <td>1</td>\n",
       "      <td>99.0</td>\n",
       "      <td>4</td>\n",
       "      <td>2</td>\n",
       "      <td>77.0</td>\n",
       "      <td>84.0</td>\n",
       "      <td>105</td>\n",
       "      <td>3</td>\n",
       "      <td>3</td>\n",
       "      <td>14</td>\n",
       "      <td>3.2</td>\n",
       "    </tr>\n",
       "    <tr>\n",
       "      <th>4</th>\n",
       "      <td>241611</td>\n",
       "      <td>2</td>\n",
       "      <td>1</td>\n",
       "      <td>99.0</td>\n",
       "      <td>4</td>\n",
       "      <td>2</td>\n",
       "      <td>77.0</td>\n",
       "      <td>84.0</td>\n",
       "      <td>69</td>\n",
       "      <td>0</td>\n",
       "      <td>13</td>\n",
       "      <td>3</td>\n",
       "      <td>3.2</td>\n",
       "    </tr>\n",
       "  </tbody>\n",
       "</table>\n",
       "</div>"
      ],
      "text/plain": [
       "       ID  Marital status  Sex  High school Result  Student status  Major  \\\n",
       "0  241611               2    1                99.0               4      2   \n",
       "1  241611               2    1                99.0               4      2   \n",
       "2  241611               2    1                99.0               4      2   \n",
       "3  241611               2    1                99.0               4      2   \n",
       "4  241611               2    1                99.0               4      2   \n",
       "\n",
       "   General Aptitude Test GAT  Academic Achievement Test  Course name  \\\n",
       "0                       77.0                       84.0           70   \n",
       "1                       77.0                       84.0           70   \n",
       "2                       77.0                       84.0           70   \n",
       "3                       77.0                       84.0          105   \n",
       "4                       77.0                       84.0           69   \n",
       "\n",
       "   Course credit hour   Grade  Semester  GPA  \n",
       "0                    3      8        13  3.2  \n",
       "1                    3      8        15  3.2  \n",
       "2                    3      6         6  3.2  \n",
       "3                    3      3        14  3.2  \n",
       "4                    0     13         3  3.2  "
      ]
     },
     "execution_count": 8,
     "metadata": {},
     "output_type": "execute_result"
    }
   ],
   "source": [
    "categ = ['Marital status', 'Sex', 'Student status', 'Major', 'Course name', 'Grade', 'Semester']\n",
    "\n",
    "# Encode Categorical Columns\n",
    "le = LabelEncoder()\n",
    "df[categ] = df[categ].apply(le.fit_transform)\n",
    "df.head()"
   ]
  },
  {
   "cell_type": "markdown",
   "id": "b0fad843",
   "metadata": {},
   "source": [
    "## Correlation Metrix"
   ]
  },
  {
   "cell_type": "code",
   "execution_count": 9,
   "id": "f64a976f",
   "metadata": {},
   "outputs": [
    {
     "data": {
      "image/png": "[encoded data removed]",
      "text/plain": [
       "<Figure size 432x288 with 2 Axes>"
      ]
     },
     "metadata": {
      "needs_background": "light"
     },
     "output_type": "display_data"
    }
   ],
   "source": [
    "corrMatrix = df.corr()\n",
    "sns.heatmap(corrMatrix, annot=True)\n",
    "plt.show()"
   ]
  },
  {
   "cell_type": "markdown",
   "id": "8cdef130",
   "metadata": {},
   "source": [
    "# Feature Extraction"
   ]
  },
  {
   "cell_type": "code",
   "execution_count": 10,
   "id": "cae5bb23",
   "metadata": {},
   "outputs": [
    {
     "data": {
      "text/html": [
       "<div>\n",
       "<style scoped>\n",
       "    .dataframe tbody tr th:only-of-type {\n",
       "        vertical-align: middle;\n",
       "    }\n",
       "\n",
       "    .dataframe tbody tr th {\n",
       "        vertical-align: top;\n",
       "    }\n",
       "\n",
       "    .dataframe thead th {\n",
       "        text-align: right;\n",
       "    }\n",
       "</style>\n",
       "<table border=\"1\" class=\"dataframe\">\n",
       "  <thead>\n",
       "    <tr style=\"text-align: right;\">\n",
       "      <th></th>\n",
       "      <th>Marital status</th>\n",
       "      <th>High school Result</th>\n",
       "      <th>Student status</th>\n",
       "      <th>Major</th>\n",
       "      <th>General Aptitude Test GAT</th>\n",
       "      <th>Academic Achievement Test</th>\n",
       "      <th>Course name</th>\n",
       "      <th>Course credit hour</th>\n",
       "      <th>Grade</th>\n",
       "      <th>Semester</th>\n",
       "    </tr>\n",
       "  </thead>\n",
       "  <tbody>\n",
       "    <tr>\n",
       "      <th>0</th>\n",
       "      <td>2</td>\n",
       "      <td>99.0</td>\n",
       "      <td>4</td>\n",
       "      <td>2</td>\n",
       "      <td>77.0</td>\n",
       "      <td>84.0</td>\n",
       "      <td>70</td>\n",
       "      <td>3</td>\n",
       "      <td>8</td>\n",
       "      <td>13</td>\n",
       "    </tr>\n",
       "    <tr>\n",
       "      <th>1</th>\n",
       "      <td>2</td>\n",
       "      <td>99.0</td>\n",
       "      <td>4</td>\n",
       "      <td>2</td>\n",
       "      <td>77.0</td>\n",
       "      <td>84.0</td>\n",
       "      <td>70</td>\n",
       "      <td>3</td>\n",
       "      <td>8</td>\n",
       "      <td>15</td>\n",
       "    </tr>\n",
       "    <tr>\n",
       "      <th>2</th>\n",
       "      <td>2</td>\n",
       "      <td>99.0</td>\n",
       "      <td>4</td>\n",
       "      <td>2</td>\n",
       "      <td>77.0</td>\n",
       "      <td>84.0</td>\n",
       "      <td>70</td>\n",
       "      <td>3</td>\n",
       "      <td>6</td>\n",
       "      <td>6</td>\n",
       "    </tr>\n",
       "    <tr>\n",
       "      <th>3</th>\n",
       "      <td>2</td>\n",
       "      <td>99.0</td>\n",
       "      <td>4</td>\n",
       "      <td>2</td>\n",
       "      <td>77.0</td>\n",
       "      <td>84.0</td>\n",
       "      <td>105</td>\n",
       "      <td>3</td>\n",
       "      <td>3</td>\n",
       "      <td>14</td>\n",
       "    </tr>\n",
       "    <tr>\n",
       "      <th>4</th>\n",
       "      <td>2</td>\n",
       "      <td>99.0</td>\n",
       "      <td>4</td>\n",
       "      <td>2</td>\n",
       "      <td>77.0</td>\n",
       "      <td>84.0</td>\n",
       "      <td>69</td>\n",
       "      <td>0</td>\n",
       "      <td>13</td>\n",
       "      <td>3</td>\n",
       "    </tr>\n",
       "  </tbody>\n",
       "</table>\n",
       "</div>"
      ],
      "text/plain": [
       "   Marital status  High school Result  Student status  Major  \\\n",
       "0               2                99.0               4      2   \n",
       "1               2                99.0               4      2   \n",
       "2               2                99.0               4      2   \n",
       "3               2                99.0               4      2   \n",
       "4               2                99.0               4      2   \n",
       "\n",
       "   General Aptitude Test GAT  Academic Achievement Test  Course name  \\\n",
       "0                       77.0                       84.0           70   \n",
       "1                       77.0                       84.0           70   \n",
       "2                       77.0                       84.0           70   \n",
       "3                       77.0                       84.0          105   \n",
       "4                       77.0                       84.0           69   \n",
       "\n",
       "   Course credit hour   Grade  Semester  \n",
       "0                    3      8        13  \n",
       "1                    3      8        15  \n",
       "2                    3      6         6  \n",
       "3                    3      3        14  \n",
       "4                    0     13         3  "
      ]
     },
     "execution_count": 10,
     "metadata": {},
     "output_type": "execute_result"
    }
   ],
   "source": [
    "y = df['GPA']\n",
    "X = df.drop(['GPA', 'Sex'], axis=1)\n",
    "X = X.iloc[:,1:]\n",
    "X.head()"
   ]
  },
  {
   "cell_type": "markdown",
   "id": "5237bc3c",
   "metadata": {},
   "source": [
    "# Train Test Split"
   ]
  },
  {
   "cell_type": "code",
   "execution_count": 11,
   "id": "1850ab7d",
   "metadata": {},
   "outputs": [],
   "source": [
    "def split_df(X, y, split_index):\n",
    "    if split_index==0:\n",
    "        X_train,X_test,y_train,y_test = train_test_split(X,y,test_size=0.3)\n",
    "        return X_train,X_test,y_train,y_test\n",
    "    if split_index==1:\n",
    "        X_train,X_test,y_train,y_test = train_test_split(X,y,test_size=0.2)\n",
    "        X_train,X_val,y_train,y_val = train_test_split(X_train, y_train, test_size=0.1)\n",
    "        return X_train, X_test, X_val, y_train, y_test, y_val"
   ]
  },
  {
   "cell_type": "code",
   "execution_count": 12,
   "id": "5d8b0927",
   "metadata": {},
   "outputs": [
    {
     "name": "stdout",
     "output_type": "stream",
     "text": [
      "(61621, 10)\n",
      "(17117, 10)\n",
      "(6847, 10)\n"
     ]
    }
   ],
   "source": [
    "split_index = 1\n",
    "split = ['train_test', 'train_test_val']\n",
    "\n",
    "# y = df['encoded_label']\n",
    "X_train,X_test,X_val,y_train,y_test,y_val = split_df(X, y, split_index)\n",
    "\n",
    "print(X_train.shape)\n",
    "print(X_test.shape)\n",
    "print(X_val.shape)"
   ]
  },
  {
   "cell_type": "markdown",
   "id": "9f6b8d5b",
   "metadata": {},
   "source": [
    "# Deep Learning Model"
   ]
  },
  {
   "cell_type": "code",
   "execution_count": 13,
   "id": "3d584068",
   "metadata": {},
   "outputs": [
    {
     "name": "stdout",
     "output_type": "stream",
     "text": [
      "Model: \"sequential\"\n",
      "_________________________________________________________________\n",
      "Layer (type)                 Output Shape              Param #   \n",
      "=================================================================\n",
      "dense (Dense)                (None, 1000)              11000     \n",
      "_________________________________________________________________\n",
      "dense_1 (Dense)              (None, 500)               500500    \n",
      "_________________________________________________________________\n",
      "dense_2 (Dense)              (None, 250)               125250    \n",
      "_________________________________________________________________\n",
      "dense_3 (Dense)              (None, 125)               31375     \n",
      "_________________________________________________________________\n",
      "dense_4 (Dense)              (None, 50)                6300      \n",
      "_________________________________________________________________\n",
      "dense_5 (Dense)              (None, 10)                510       \n",
      "_________________________________________________________________\n",
      "dense_6 (Dense)              (None, 1)                 11        \n",
      "=================================================================\n",
      "Total params: 674,946\n",
      "Trainable params: 674,946\n",
      "Non-trainable params: 0\n",
      "_________________________________________________________________\n",
      "None\n"
     ]
    }
   ],
   "source": [
    "model = Sequential()\n",
    "model.add(Dense(1000, input_shape=(X_train.shape[1],), activation='relu')) # Add an input shape! (features,)\n",
    "model.add(Dense(500, activation='relu'))\n",
    "model.add(Dense(250, activation='relu'))\n",
    "model.add(Dense(125, activation='relu'))\n",
    "model.add(Dense(50, activation='relu'))\n",
    "model.add(Dense(10, activation='relu'))\n",
    "model.add(Dense(1))\n",
    "model.compile(loss = 'mean_squared_error', optimizer='adam')\n",
    "print(model.summary())"
   ]
  },
  {
   "cell_type": "code",
   "execution_count": 14,
   "id": "f40b1f6a",
   "metadata": {},
   "outputs": [
    {
     "name": "stdout",
     "output_type": "stream",
     "text": [
      "Epoch 1/50\n",
      "1926/1926 [==============================] - 10s 5ms/step - loss: 0.4180 - val_loss: 0.3293\n",
      "Epoch 2/50\n",
      "1926/1926 [==============================] - 9s 5ms/step - loss: 0.3222 - val_loss: 0.4020\n",
      "Epoch 3/50\n",
      "1926/1926 [==============================] - 10s 5ms/step - loss: 0.3220 - val_loss: 0.3290\n",
      "Epoch 4/50\n",
      "1926/1926 [==============================] - 10s 5ms/step - loss: 0.3112 - val_loss: 0.2877\n",
      "Epoch 5/50\n",
      "1926/1926 [==============================] - 11s 6ms/step - loss: 0.3035 - val_loss: 0.2921\n",
      "Epoch 6/50\n",
      "1926/1926 [==============================] - 11s 6ms/step - loss: 0.3017 - val_loss: 0.3084\n",
      "Epoch 7/50\n",
      "1926/1926 [==============================] - 9s 5ms/step - loss: 0.2986 - val_loss: 0.2920\n",
      "Epoch 8/50\n",
      "1926/1926 [==============================] - 9s 5ms/step - loss: 0.2987 - val_loss: 0.2852\n",
      "Epoch 9/50\n",
      "1926/1926 [==============================] - 11s 6ms/step - loss: 0.2976 - val_loss: 0.3645\n",
      "Epoch 10/50\n",
      "1926/1926 [==============================] - 10s 5ms/step - loss: 0.2958 - val_loss: 0.2836\n",
      "Epoch 11/50\n",
      "1926/1926 [==============================] - 11s 6ms/step - loss: 0.2935 - val_loss: 0.2810\n",
      "Epoch 12/50\n",
      "1926/1926 [==============================] - 9s 5ms/step - loss: 0.2911 - val_loss: 0.2827\n",
      "Epoch 13/50\n",
      "1926/1926 [==============================] - 9s 5ms/step - loss: 0.2904 - val_loss: 0.2906\n",
      "Epoch 14/50\n",
      "1926/1926 [==============================] - 9s 5ms/step - loss: 0.2875 - val_loss: 0.2832\n",
      "Epoch 15/50\n",
      "1926/1926 [==============================] - 9s 5ms/step - loss: 0.2872 - val_loss: 0.2931\n",
      "Epoch 16/50\n",
      "1926/1926 [==============================] - 9s 5ms/step - loss: 0.2848 - val_loss: 0.2995\n",
      "Epoch 17/50\n",
      "1926/1926 [==============================] - 10s 5ms/step - loss: 0.2854 - val_loss: 0.2792\n",
      "Epoch 18/50\n",
      "1926/1926 [==============================] - 13s 7ms/step - loss: 0.2836 - val_loss: 0.2809\n",
      "Epoch 19/50\n",
      "1926/1926 [==============================] - 9s 5ms/step - loss: 0.2821 - val_loss: 0.2794\n",
      "Epoch 20/50\n",
      "1926/1926 [==============================] - 10s 5ms/step - loss: 0.2803 - val_loss: 0.2769\n",
      "Epoch 21/50\n",
      "1926/1926 [==============================] - 9s 5ms/step - loss: 0.2812 - val_loss: 0.2773\n",
      "Epoch 22/50\n",
      "1926/1926 [==============================] - 9s 5ms/step - loss: 0.2794 - val_loss: 0.2774\n",
      "Epoch 23/50\n",
      "1926/1926 [==============================] - 9s 5ms/step - loss: 0.2766 - val_loss: 0.2776\n",
      "Epoch 24/50\n",
      "1926/1926 [==============================] - 9s 5ms/step - loss: 0.2767 - val_loss: 0.2679\n",
      "Epoch 25/50\n",
      "1926/1926 [==============================] - 9s 5ms/step - loss: 0.2764 - val_loss: 0.2720\n",
      "Epoch 26/50\n",
      "1926/1926 [==============================] - 9s 5ms/step - loss: 0.2734 - val_loss: 0.2657\n",
      "Epoch 27/50\n",
      "1926/1926 [==============================] - 9s 5ms/step - loss: 0.2760 - val_loss: 0.2693\n",
      "Epoch 28/50\n",
      "1926/1926 [==============================] - 10s 5ms/step - loss: 0.2729 - val_loss: 0.2776\n",
      "Epoch 29/50\n",
      "1926/1926 [==============================] - 10s 5ms/step - loss: 0.2718 - val_loss: 0.2680\n",
      "Epoch 30/50\n",
      "1926/1926 [==============================] - 10s 5ms/step - loss: 0.2734 - val_loss: 0.2694\n",
      "Epoch 31/50\n",
      "1926/1926 [==============================] - 9s 5ms/step - loss: 0.2728 - val_loss: 0.2664\n",
      "Epoch 32/50\n",
      "1926/1926 [==============================] - 9s 5ms/step - loss: 0.2711 - val_loss: 0.2834\n",
      "Epoch 33/50\n",
      "1926/1926 [==============================] - 10s 5ms/step - loss: 0.2719 - val_loss: 0.2652\n",
      "Epoch 34/50\n",
      "1926/1926 [==============================] - 9s 5ms/step - loss: 0.2703 - val_loss: 0.2881\n",
      "Epoch 35/50\n",
      "1926/1926 [==============================] - 10s 5ms/step - loss: 0.2706 - val_loss: 0.2687\n",
      "Epoch 36/50\n",
      "1926/1926 [==============================] - 10s 5ms/step - loss: 0.2689 - val_loss: 0.2723\n",
      "Epoch 37/50\n",
      "1926/1926 [==============================] - 9s 5ms/step - loss: 0.2684 - val_loss: 0.2906\n",
      "Epoch 38/50\n",
      "1926/1926 [==============================] - 10s 5ms/step - loss: 0.2682 - val_loss: 0.2663\n",
      "Epoch 39/50\n",
      "1926/1926 [==============================] - 9s 5ms/step - loss: 0.2671 - val_loss: 0.2713\n",
      "Epoch 40/50\n",
      "1926/1926 [==============================] - 9s 5ms/step - loss: 0.2683 - val_loss: 0.2645\n",
      "Epoch 41/50\n",
      "1926/1926 [==============================] - 9s 5ms/step - loss: 0.2665 - val_loss: 0.2975\n",
      "Epoch 42/50\n",
      "1926/1926 [==============================] - 11s 6ms/step - loss: 0.2649 - val_loss: 0.2620\n",
      "Epoch 43/50\n",
      "1926/1926 [==============================] - 10s 5ms/step - loss: 0.2635 - val_loss: 0.2643\n",
      "Epoch 44/50\n",
      "1926/1926 [==============================] - 9s 5ms/step - loss: 0.2646 - val_loss: 0.2634\n",
      "Epoch 45/50\n",
      "1926/1926 [==============================] - 9s 5ms/step - loss: 0.2630 - val_loss: 0.2675\n",
      "Epoch 46/50\n",
      "1926/1926 [==============================] - 9s 5ms/step - loss: 0.2638 - val_loss: 0.2628\n",
      "Epoch 47/50\n",
      "1926/1926 [==============================] - 9s 5ms/step - loss: 0.2613 - val_loss: 0.2633\n",
      "Epoch 48/50\n",
      "1926/1926 [==============================] - 9s 5ms/step - loss: 0.2617 - val_loss: 0.2677\n",
      "Epoch 49/50\n",
      "1926/1926 [==============================] - 9s 5ms/step - loss: 0.2612 - val_loss: 0.2906\n",
      "Epoch 50/50\n",
      "1926/1926 [==============================] - 9s 5ms/step - loss: 0.2606 - val_loss: 0.2593\n"
     ]
    },
    {
     "data": {
      "text/plain": [
       "<tensorflow.python.keras.callbacks.History at 0x222a7ee6088>"
      ]
     },
     "execution_count": 14,
     "metadata": {},
     "output_type": "execute_result"
    }
   ],
   "source": [
    "batch_size = 32\n",
    "model.fit(X_train, y_train, validation_data=(X_val, y_val), epochs = 50, batch_size=batch_size, verbose = 1)"
   ]
  },
  {
   "cell_type": "code",
   "execution_count": 15,
   "id": "d16126ad",
   "metadata": {},
   "outputs": [],
   "source": [
    "# Generating Predictions on testing data\n",
    "predictions=model.predict(X_test)"
   ]
  },
  {
   "cell_type": "code",
   "execution_count": 16,
   "id": "cb4058d6",
   "metadata": {},
   "outputs": [],
   "source": [
    "preds = []\n",
    "for prediction in predictions:\n",
    "    preds.append(prediction[0])"
   ]
  },
  {
   "cell_type": "code",
   "execution_count": 17,
   "id": "2698ed3e",
   "metadata": {},
   "outputs": [],
   "source": [
    "# Computing the absolute percent error\n",
    "APE=list(100*(abs(y_test-preds)/y_test))"
   ]
  },
  {
   "cell_type": "code",
   "execution_count": 18,
   "id": "5a494c9d",
   "metadata": {},
   "outputs": [
    {
     "name": "stdout",
     "output_type": "stream",
     "text": [
      "The Accuracy of ANN model is: 88.41340656460785\n"
     ]
    }
   ],
   "source": [
    "print('The Accuracy of ANN model is:', 100-np.mean(APE))"
   ]
  },
  {
   "cell_type": "code",
   "execution_count": null,
   "id": "d769d870",
   "metadata": {},
   "outputs": [],
   "source": []
  }
 ],
 "metadata": {
  "kernelspec": {
   "display_name": "Python 3 (ipykernel)",
   "language": "python",
   "name": "python3"
  },
  "language_info": {
   "codemirror_mode": {
    "name": "ipython",
    "version": 3
   },
   "file_extension": ".py",
   "mimetype": "text/x-python",
   "name": "python",
   "nbconvert_exporter": "python",
   "pygments_lexer": "ipython3",
   "version": "3.7.11"
  }
 },
 "nbformat": 4,
 "nbformat_minor": 5
}
