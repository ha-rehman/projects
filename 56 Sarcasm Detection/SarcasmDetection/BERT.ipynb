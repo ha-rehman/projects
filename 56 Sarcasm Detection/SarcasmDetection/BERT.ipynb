{
 "cells": [
  {
   "cell_type": "code",
   "execution_count": 1,
   "id": "721cad58",
   "metadata": {},
   "outputs": [
    {
     "name": "stderr",
     "output_type": "stream",
     "text": [
      "2023-04-04 16:24:44.801136: W tensorflow/stream_executor/platform/default/dso_loader.cc:64] Could not load dynamic library 'libcudart.so.11.0'; dlerror: libcudart.so.11.0: cannot open shared object file: No such file or directory; LD_LIBRARY_PATH: /usr/local/cuda-10.1/lib64\n",
      "2023-04-04 16:24:44.801152: I tensorflow/stream_executor/cuda/cudart_stub.cc:29] Ignore above cudart dlerror if you do not have a GPU set up on your machine.\n"
     ]
    }
   ],
   "source": [
    "import pandas as pd\n",
    "import pandas as pd\n",
    "from sklearn.preprocessing import LabelEncoder\n",
    "from sklearn.model_selection import train_test_split\n",
    "from tqdm import tqdm\n",
    "import numpy as np\n",
    "import string\n",
    "import torch\n",
    "from torch.utils.data import TensorDataset, random_split\n",
    "from torch.utils.data import DataLoader, RandomSampler, SequentialSampler\n",
    "from transformers import BertTokenizer, BertForSequenceClassification, AdamW, get_linear_schedule_with_warmup\n",
    "\n",
    "import nltk\n",
    "from nltk.tokenize import RegexpTokenizer\n",
    "from nltk.corpus import stopwords\n",
    "from nltk.stem import WordNetLemmatizer "
   ]
  },
  {
   "cell_type": "code",
   "execution_count": 2,
   "id": "cef807d6",
   "metadata": {},
   "outputs": [
    {
     "data": {
      "text/html": [
       "<div>\n",
       "<style scoped>\n",
       "    .dataframe tbody tr th:only-of-type {\n",
       "        vertical-align: middle;\n",
       "    }\n",
       "\n",
       "    .dataframe tbody tr th {\n",
       "        vertical-align: top;\n",
       "    }\n",
       "\n",
       "    .dataframe thead th {\n",
       "        text-align: right;\n",
       "    }\n",
       "</style>\n",
       "<table border=\"1\" class=\"dataframe\">\n",
       "  <thead>\n",
       "    <tr style=\"text-align: right;\">\n",
       "      <th></th>\n",
       "      <th>tweet</th>\n",
       "      <th>sarcastic</th>\n",
       "    </tr>\n",
       "  </thead>\n",
       "  <tbody>\n",
       "    <tr>\n",
       "      <th>0</th>\n",
       "      <td>The only thing I got from college is a caffein...</td>\n",
       "      <td>1</td>\n",
       "    </tr>\n",
       "    <tr>\n",
       "      <th>1</th>\n",
       "      <td>I love it when professors draw a big question ...</td>\n",
       "      <td>1</td>\n",
       "    </tr>\n",
       "    <tr>\n",
       "      <th>2</th>\n",
       "      <td>Remember the hundred emails from companies whe...</td>\n",
       "      <td>1</td>\n",
       "    </tr>\n",
       "    <tr>\n",
       "      <th>3</th>\n",
       "      <td>Today my pop-pop told me I was not “forced” to...</td>\n",
       "      <td>1</td>\n",
       "    </tr>\n",
       "    <tr>\n",
       "      <th>4</th>\n",
       "      <td>@VolphanCarol @littlewhitty @mysticalmanatee I...</td>\n",
       "      <td>1</td>\n",
       "    </tr>\n",
       "  </tbody>\n",
       "</table>\n",
       "</div>"
      ],
      "text/plain": [
       "                                               tweet  sarcastic\n",
       "0  The only thing I got from college is a caffein...          1\n",
       "1  I love it when professors draw a big question ...          1\n",
       "2  Remember the hundred emails from companies whe...          1\n",
       "3  Today my pop-pop told me I was not “forced” to...          1\n",
       "4  @VolphanCarol @littlewhitty @mysticalmanatee I...          1"
      ]
     },
     "execution_count": 2,
     "metadata": {},
     "output_type": "execute_result"
    }
   ],
   "source": [
    "df = pd.read_csv('train.En.csv')\n",
    "df = df[['tweet', 'sarcastic']]\n",
    "df.head(5)"
   ]
  },
  {
   "cell_type": "code",
   "execution_count": 3,
   "id": "a7a422c2",
   "metadata": {},
   "outputs": [
    {
     "data": {
      "text/plain": [
       "0    2601\n",
       "1     867\n",
       "Name: sarcastic, dtype: int64"
      ]
     },
     "execution_count": 3,
     "metadata": {},
     "output_type": "execute_result"
    }
   ],
   "source": [
    "df['sarcastic'].value_counts()"
   ]
  },
  {
   "cell_type": "code",
   "execution_count": 4,
   "id": "c9db6951",
   "metadata": {},
   "outputs": [
    {
     "name": "stdout",
     "output_type": "stream",
     "text": [
      "tweet        1\n",
      "sarcastic    0\n",
      "dtype: int64 \n",
      "==================\n",
      "tweet        0\n",
      "sarcastic    0\n",
      "dtype: int64\n"
     ]
    }
   ],
   "source": [
    "print(df.isnull().sum(), \"\\n==================\")\n",
    "df = df.dropna(subset=['tweet'])\n",
    "print(df.isnull().sum())"
   ]
  },
  {
   "cell_type": "code",
   "execution_count": 5,
   "id": "893c3d6e",
   "metadata": {},
   "outputs": [
    {
     "name": "stderr",
     "output_type": "stream",
     "text": [
      "/home/icrl/anaconda3/envs/abdul-tf2x/lib/python3.7/site-packages/ipykernel_launcher.py:1: FutureWarning: The default value of regex will change from True to False in a future version.\n",
      "  \"\"\"Entry point for launching an IPython kernel.\n",
      "/home/icrl/anaconda3/envs/abdul-tf2x/lib/python3.7/site-packages/ipykernel_launcher.py:2: FutureWarning: The default value of regex will change from True to False in a future version.\n",
      "  \n"
     ]
    }
   ],
   "source": [
    "df['tweet'] = df['tweet'].str.replace('[^\\w\\s]', '')  # getting rid of special characters\n",
    "df['tweet'] = df['tweet'].str.replace('\\d+', '')  # removing numeric values from between the words\n",
    "df['tweet'] = df['tweet'].apply(\n",
    "    lambda x: x.translate(string.digits))  # removing numerical numbers\n",
    "df['tweet'] = df['tweet'].apply(\n",
    "    lambda x: \" \".join(x.lower() for x in x.split()))  # lower case conversion\n",
    "stop = stopwords.words('english')\n",
    "df['tweet'] = df['tweet'].apply(\n",
    "    lambda x: \" \".join(x for x in x.split() if x not in stop))  # removing stop words\n",
    "stemmer = WordNetLemmatizer()\n",
    "df['tweet'] = [stemmer.lemmatize(word) for word in df['tweet']]  # converting words to their dictionary form"
   ]
  },
  {
   "cell_type": "code",
   "execution_count": 6,
   "id": "157e2e31",
   "metadata": {},
   "outputs": [],
   "source": [
    "# Encode the labels as integers\n",
    "label_encoder = LabelEncoder()\n",
    "df['sarcastic'] = label_encoder.fit_transform(df['sarcastic'].values)\n",
    "\n",
    "X = df['tweet']\n",
    "y = df['sarcastic']\n",
    "\n",
    "\n",
    "\n",
    "# Split the data into training and validation sets\n",
    "X_train, X_test, y_train, y_test = train_test_split(X, y, random_state=1, test_size=0.3)"
   ]
  },
  {
   "cell_type": "code",
   "execution_count": 7,
   "id": "eb114896",
   "metadata": {},
   "outputs": [
    {
     "name": "stderr",
     "output_type": "stream",
     "text": [
      "/home/icrl/anaconda3/envs/abdul-tf2x/lib/python3.7/site-packages/transformers/tokenization_utils_base.py:2232: FutureWarning: The `pad_to_max_length` argument is deprecated and will be removed in a future version, use `padding=True` or `padding='longest'` to pad to the longest sequence in the batch, or use `padding='max_length'` to pad to a max length. In this case, you can give a specific length with `max_length` (e.g. `max_length=45`) or leave max_length to None to pad to the maximal input size of the model (e.g. 512 for Bert).\n",
      "  FutureWarning,\n"
     ]
    }
   ],
   "source": [
    "def encode_tweet(data, labels, batch_size=64):\n",
    "    input_ids = []\n",
    "    attention_masks = []\n",
    "    \n",
    "    # Convert the preprocessed data to BERT format\n",
    "    tokenizer = BertTokenizer.from_pretrained('bert-base-uncased', do_lower_case=True)\n",
    "    MAX_LEN = 64 # Maximum sequence length \n",
    "\n",
    "    for sentence in data:\n",
    "        encoded_dict = tokenizer.encode_plus(\n",
    "                        sentence,                      # Sentence to encode.\n",
    "                        add_special_tokens = True,     # Add '[CLS]' and '[SEP]'\n",
    "                        max_length = MAX_LEN,          # Pad or truncate all sentences.\n",
    "                        truncation=True,\n",
    "                        pad_to_max_length = True,\n",
    "                        return_attention_mask = True,  # Construct attn. masks.\n",
    "                        return_tensors = 'pt',         # Return tensorflow tensors.\n",
    "                   )\n",
    "\n",
    "        input_ids.append(encoded_dict['input_ids'])\n",
    "        attention_masks.append(encoded_dict['attention_mask'])\n",
    "        \n",
    "    input_ids = torch.cat(input_ids, dim=0)\n",
    "    attention_masks = torch.cat(attention_masks, dim=0)\n",
    "    labels = torch.tensor(labels.values)\n",
    "    \n",
    "    dataset = TensorDataset(input_ids, attention_masks, labels)\n",
    "    dataloader = DataLoader(\n",
    "            dataset,\n",
    "            sampler = RandomSampler(dataset),\n",
    "            batch_size = batch_size\n",
    "        )\n",
    "\n",
    "    return dataloader\n",
    "\n",
    "train_dataloader = encode_tweet(X_train, y_train)\n",
    "test_dataloader = encode_tweet(X_test, y_test)\n",
    "val_dataloader = encode_tweet(X_test, y_test)"
   ]
  },
  {
   "cell_type": "code",
   "execution_count": 8,
   "id": "9ff3e1fe",
   "metadata": {},
   "outputs": [
    {
     "name": "stderr",
     "output_type": "stream",
     "text": [
      "Some weights of the model checkpoint at bert-base-uncased were not used when initializing BertForSequenceClassification: ['cls.seq_relationship.weight', 'cls.predictions.decoder.weight', 'cls.predictions.transform.dense.weight', 'cls.predictions.bias', 'cls.predictions.transform.LayerNorm.bias', 'cls.seq_relationship.bias', 'cls.predictions.transform.dense.bias', 'cls.predictions.transform.LayerNorm.weight']\n",
      "- This IS expected if you are initializing BertForSequenceClassification from the checkpoint of a model trained on another task or with another architecture (e.g. initializing a BertForSequenceClassification model from a BertForPreTraining model).\n",
      "- This IS NOT expected if you are initializing BertForSequenceClassification from the checkpoint of a model that you expect to be exactly identical (initializing a BertForSequenceClassification model from a BertForSequenceClassification model).\n",
      "Some weights of BertForSequenceClassification were not initialized from the model checkpoint at bert-base-uncased and are newly initialized: ['classifier.weight', 'classifier.bias']\n",
      "You should probably TRAIN this model on a down-stream task to be able to use it for predictions and inference.\n"
     ]
    }
   ],
   "source": [
    "model = BertForSequenceClassification.from_pretrained(\n",
    "    \"bert-base-uncased\",\n",
    "    num_labels = 2,\n",
    "    output_attentions = False,\n",
    "    output_hidden_states = False,\n",
    ")"
   ]
  },
  {
   "cell_type": "code",
   "execution_count": 9,
   "id": "c3db486c",
   "metadata": {},
   "outputs": [],
   "source": [
    "# Set the optimizer and learning rate scheduler\n",
    "optimizer = AdamW(model.parameters(), lr = 2e-5, eps = 1e-8)\n",
    "epochs = 40\n",
    "total_steps = len(train_dataloader) * epochs\n",
    "scheduler = get_linear_schedule_with_warmup(optimizer, num_warmup_steps = 0, num_training_steps = total_steps)"
   ]
  },
  {
   "cell_type": "code",
   "execution_count": 10,
   "id": "025dc1f5",
   "metadata": {},
   "outputs": [],
   "source": [
    "# Set the device to GPU if available, otherwise use CPU\n",
    "device = torch.device(\"cuda\" if torch.cuda.is_available() else \"cpu\")"
   ]
  },
  {
   "cell_type": "code",
   "execution_count": 10,
   "id": "aa69b2aa",
   "metadata": {},
   "outputs": [
    {
     "name": "stderr",
     "output_type": "stream",
     "text": [
      "38it [00:13,  3.06it/s]\n",
      "100%|███████████████████████████████████████████| 17/17 [00:01<00:00,  8.78it/s]\n",
      "0it [00:00, ?it/s]"
     ]
    },
    {
     "name": "stdout",
     "output_type": "stream",
     "text": [
      "Epoch: 1/40\n",
      "Training Loss: 0.5651\n",
      "Validation Loss: 0.5610\n",
      "Training Accuracy: 75.19%\n",
      "Validation Accuracy: 74.54%\n"
     ]
    },
    {
     "name": "stderr",
     "output_type": "stream",
     "text": [
      "38it [00:12,  3.04it/s]\n",
      "100%|███████████████████████████████████████████| 17/17 [00:01<00:00,  8.86it/s]\n",
      "0it [00:00, ?it/s]"
     ]
    },
    {
     "name": "stdout",
     "output_type": "stream",
     "text": [
      "Epoch: 2/40\n",
      "Training Loss: 0.5477\n",
      "Validation Loss: 0.5535\n",
      "Training Accuracy: 75.19%\n",
      "Validation Accuracy: 74.54%\n"
     ]
    },
    {
     "name": "stderr",
     "output_type": "stream",
     "text": [
      "38it [00:12,  3.03it/s]\n",
      "100%|███████████████████████████████████████████| 17/17 [00:01<00:00,  8.82it/s]\n",
      "0it [00:00, ?it/s]"
     ]
    },
    {
     "name": "stdout",
     "output_type": "stream",
     "text": [
      "Epoch: 3/40\n",
      "Training Loss: 0.4888\n",
      "Validation Loss: 0.6282\n",
      "Training Accuracy: 75.85%\n",
      "Validation Accuracy: 74.74%\n"
     ]
    },
    {
     "name": "stderr",
     "output_type": "stream",
     "text": [
      "38it [00:12,  3.08it/s]\n",
      "100%|███████████████████████████████████████████| 17/17 [00:01<00:00,  9.51it/s]\n",
      "0it [00:00, ?it/s]"
     ]
    },
    {
     "name": "stdout",
     "output_type": "stream",
     "text": [
      "Epoch: 4/40\n",
      "Training Loss: 0.3513\n",
      "Validation Loss: 0.7572\n",
      "Training Accuracy: 85.04%\n",
      "Validation Accuracy: 70.99%\n"
     ]
    },
    {
     "name": "stderr",
     "output_type": "stream",
     "text": [
      "38it [00:12,  3.10it/s]\n",
      "100%|███████████████████████████████████████████| 17/17 [00:01<00:00,  9.00it/s]\n",
      "0it [00:00, ?it/s]"
     ]
    },
    {
     "name": "stdout",
     "output_type": "stream",
     "text": [
      "Epoch: 5/40\n",
      "Training Loss: 0.2165\n",
      "Validation Loss: 0.8931\n",
      "Training Accuracy: 92.09%\n",
      "Validation Accuracy: 68.30%\n"
     ]
    },
    {
     "name": "stderr",
     "output_type": "stream",
     "text": [
      "38it [00:12,  3.07it/s]\n",
      "100%|███████████████████████████████████████████| 17/17 [00:01<00:00,  8.90it/s]\n",
      "0it [00:00, ?it/s]"
     ]
    },
    {
     "name": "stdout",
     "output_type": "stream",
     "text": [
      "Epoch: 6/40\n",
      "Training Loss: 0.1302\n",
      "Validation Loss: 1.0583\n",
      "Training Accuracy: 95.71%\n",
      "Validation Accuracy: 72.24%\n"
     ]
    },
    {
     "name": "stderr",
     "output_type": "stream",
     "text": [
      "38it [00:12,  3.12it/s]\n",
      "100%|███████████████████████████████████████████| 17/17 [00:01<00:00,  8.99it/s]\n",
      "0it [00:00, ?it/s]"
     ]
    },
    {
     "name": "stdout",
     "output_type": "stream",
     "text": [
      "Epoch: 7/40\n",
      "Training Loss: 0.0920\n",
      "Validation Loss: 1.2138\n",
      "Training Accuracy: 96.87%\n",
      "Validation Accuracy: 71.09%\n"
     ]
    },
    {
     "name": "stderr",
     "output_type": "stream",
     "text": [
      "38it [00:12,  3.11it/s]\n",
      "100%|███████████████████████████████████████████| 17/17 [00:01<00:00,  9.27it/s]\n",
      "0it [00:00, ?it/s]"
     ]
    },
    {
     "name": "stdout",
     "output_type": "stream",
     "text": [
      "Epoch: 8/40\n",
      "Training Loss: 0.0591\n",
      "Validation Loss: 1.3432\n",
      "Training Accuracy: 98.10%\n",
      "Validation Accuracy: 70.70%\n"
     ]
    },
    {
     "name": "stderr",
     "output_type": "stream",
     "text": [
      "38it [00:12,  3.06it/s]\n",
      "100%|███████████████████████████████████████████| 17/17 [00:01<00:00,  9.14it/s]\n",
      "0it [00:00, ?it/s]"
     ]
    },
    {
     "name": "stdout",
     "output_type": "stream",
     "text": [
      "Epoch: 9/40\n",
      "Training Loss: 0.0488\n",
      "Validation Loss: 1.6726\n",
      "Training Accuracy: 98.64%\n",
      "Validation Accuracy: 66.28%\n"
     ]
    },
    {
     "name": "stderr",
     "output_type": "stream",
     "text": [
      "38it [00:12,  3.13it/s]\n",
      "100%|███████████████████████████████████████████| 17/17 [00:01<00:00,  9.68it/s]\n",
      "0it [00:00, ?it/s]"
     ]
    },
    {
     "name": "stdout",
     "output_type": "stream",
     "text": [
      "Epoch: 10/40\n",
      "Training Loss: 0.0435\n",
      "Validation Loss: 1.6435\n",
      "Training Accuracy: 98.56%\n",
      "Validation Accuracy: 70.51%\n"
     ]
    },
    {
     "name": "stderr",
     "output_type": "stream",
     "text": [
      "38it [00:12,  3.13it/s]\n",
      "100%|███████████████████████████████████████████| 17/17 [00:01<00:00,  9.00it/s]\n",
      "0it [00:00, ?it/s]"
     ]
    },
    {
     "name": "stdout",
     "output_type": "stream",
     "text": [
      "Epoch: 11/40\n",
      "Training Loss: 0.0372\n",
      "Validation Loss: 1.6871\n",
      "Training Accuracy: 99.05%\n",
      "Validation Accuracy: 69.64%\n"
     ]
    },
    {
     "name": "stderr",
     "output_type": "stream",
     "text": [
      "38it [00:12,  3.11it/s]\n",
      "100%|███████████████████████████████████████████| 17/17 [00:01<00:00,  9.05it/s]\n",
      "0it [00:00, ?it/s]"
     ]
    },
    {
     "name": "stdout",
     "output_type": "stream",
     "text": [
      "Epoch: 12/40\n",
      "Training Loss: 0.0261\n",
      "Validation Loss: 1.7004\n",
      "Training Accuracy: 99.18%\n",
      "Validation Accuracy: 71.85%\n"
     ]
    },
    {
     "name": "stderr",
     "output_type": "stream",
     "text": [
      "38it [00:12,  3.13it/s]\n",
      "100%|███████████████████████████████████████████| 17/17 [00:01<00:00,  9.19it/s]\n",
      "0it [00:00, ?it/s]"
     ]
    },
    {
     "name": "stdout",
     "output_type": "stream",
     "text": [
      "Epoch: 13/40\n",
      "Training Loss: 0.0232\n",
      "Validation Loss: 1.8448\n",
      "Training Accuracy: 99.26%\n",
      "Validation Accuracy: 68.97%\n"
     ]
    },
    {
     "name": "stderr",
     "output_type": "stream",
     "text": [
      "38it [00:12,  3.13it/s]\n",
      "100%|███████████████████████████████████████████| 17/17 [00:01<00:00,  9.03it/s]\n",
      "0it [00:00, ?it/s]"
     ]
    },
    {
     "name": "stdout",
     "output_type": "stream",
     "text": [
      "Epoch: 14/40\n",
      "Training Loss: 0.0135\n",
      "Validation Loss: 1.9150\n",
      "Training Accuracy: 99.55%\n",
      "Validation Accuracy: 73.01%\n"
     ]
    },
    {
     "name": "stderr",
     "output_type": "stream",
     "text": [
      "38it [00:12,  3.11it/s]\n",
      "100%|███████████████████████████████████████████| 17/17 [00:01<00:00,  9.13it/s]\n",
      "0it [00:00, ?it/s]"
     ]
    },
    {
     "name": "stdout",
     "output_type": "stream",
     "text": [
      "Epoch: 15/40\n",
      "Training Loss: 0.0290\n",
      "Validation Loss: 1.8898\n",
      "Training Accuracy: 99.18%\n",
      "Validation Accuracy: 71.66%\n"
     ]
    },
    {
     "name": "stderr",
     "output_type": "stream",
     "text": [
      "38it [00:12,  3.13it/s]\n",
      "100%|███████████████████████████████████████████| 17/17 [00:01<00:00,  9.02it/s]\n",
      "0it [00:00, ?it/s]"
     ]
    },
    {
     "name": "stdout",
     "output_type": "stream",
     "text": [
      "Epoch: 16/40\n",
      "Training Loss: 0.0193\n",
      "Validation Loss: 2.0121\n",
      "Training Accuracy: 99.46%\n",
      "Validation Accuracy: 70.70%\n"
     ]
    },
    {
     "name": "stderr",
     "output_type": "stream",
     "text": [
      "38it [00:12,  3.14it/s]\n",
      "100%|███████████████████████████████████████████| 17/17 [00:01<00:00,  9.31it/s]\n",
      "0it [00:00, ?it/s]"
     ]
    },
    {
     "name": "stdout",
     "output_type": "stream",
     "text": [
      "Epoch: 17/40\n",
      "Training Loss: 0.0103\n",
      "Validation Loss: 2.0057\n",
      "Training Accuracy: 99.59%\n",
      "Validation Accuracy: 71.95%\n"
     ]
    },
    {
     "name": "stderr",
     "output_type": "stream",
     "text": [
      "38it [00:12,  3.12it/s]\n",
      "100%|███████████████████████████████████████████| 17/17 [00:01<00:00,  9.24it/s]\n",
      "0it [00:00, ?it/s]"
     ]
    },
    {
     "name": "stdout",
     "output_type": "stream",
     "text": [
      "Epoch: 18/40\n",
      "Training Loss: 0.0083\n",
      "Validation Loss: 2.0743\n",
      "Training Accuracy: 99.67%\n",
      "Validation Accuracy: 69.64%\n"
     ]
    },
    {
     "name": "stderr",
     "output_type": "stream",
     "text": [
      "38it [00:12,  3.14it/s]\n",
      "100%|███████████████████████████████████████████| 17/17 [00:01<00:00,  9.25it/s]\n",
      "0it [00:00, ?it/s]"
     ]
    },
    {
     "name": "stdout",
     "output_type": "stream",
     "text": [
      "Epoch: 19/40\n",
      "Training Loss: 0.0169\n",
      "Validation Loss: 2.2341\n",
      "Training Accuracy: 99.55%\n",
      "Validation Accuracy: 66.95%\n"
     ]
    },
    {
     "name": "stderr",
     "output_type": "stream",
     "text": [
      "38it [00:12,  3.14it/s]\n",
      "100%|███████████████████████████████████████████| 17/17 [00:01<00:00,  9.51it/s]\n",
      "0it [00:00, ?it/s]"
     ]
    },
    {
     "name": "stdout",
     "output_type": "stream",
     "text": [
      "Epoch: 20/40\n",
      "Training Loss: 0.0137\n",
      "Validation Loss: 2.0287\n",
      "Training Accuracy: 99.51%\n",
      "Validation Accuracy: 71.95%\n"
     ]
    },
    {
     "name": "stderr",
     "output_type": "stream",
     "text": [
      "38it [00:12,  3.11it/s]\n",
      "100%|███████████████████████████████████████████| 17/17 [00:01<00:00,  9.13it/s]\n",
      "0it [00:00, ?it/s]"
     ]
    },
    {
     "name": "stdout",
     "output_type": "stream",
     "text": [
      "Epoch: 21/40\n",
      "Training Loss: 0.0113\n",
      "Validation Loss: 2.0402\n",
      "Training Accuracy: 99.55%\n",
      "Validation Accuracy: 71.95%\n"
     ]
    },
    {
     "name": "stderr",
     "output_type": "stream",
     "text": [
      "38it [00:12,  3.15it/s]\n",
      "100%|███████████████████████████████████████████| 17/17 [00:01<00:00, 10.00it/s]\n",
      "0it [00:00, ?it/s]"
     ]
    },
    {
     "name": "stdout",
     "output_type": "stream",
     "text": [
      "Epoch: 22/40\n",
      "Training Loss: 0.0126\n",
      "Validation Loss: 2.0972\n",
      "Training Accuracy: 99.63%\n",
      "Validation Accuracy: 70.99%\n"
     ]
    },
    {
     "name": "stderr",
     "output_type": "stream",
     "text": [
      "38it [00:12,  3.14it/s]\n",
      "100%|███████████████████████████████████████████| 17/17 [00:01<00:00, 10.00it/s]\n",
      "0it [00:00, ?it/s]"
     ]
    },
    {
     "name": "stdout",
     "output_type": "stream",
     "text": [
      "Epoch: 23/40\n",
      "Training Loss: 0.0073\n",
      "Validation Loss: 2.0724\n",
      "Training Accuracy: 99.79%\n",
      "Validation Accuracy: 70.22%\n"
     ]
    },
    {
     "name": "stderr",
     "output_type": "stream",
     "text": [
      "38it [00:12,  3.17it/s]\n",
      "100%|███████████████████████████████████████████| 17/17 [00:01<00:00,  9.97it/s]\n",
      "0it [00:00, ?it/s]"
     ]
    },
    {
     "name": "stdout",
     "output_type": "stream",
     "text": [
      "Epoch: 24/40\n",
      "Training Loss: 0.0033\n",
      "Validation Loss: 2.1987\n",
      "Training Accuracy: 99.88%\n",
      "Validation Accuracy: 71.37%\n"
     ]
    },
    {
     "name": "stderr",
     "output_type": "stream",
     "text": [
      "38it [00:12,  3.15it/s]\n",
      "100%|███████████████████████████████████████████| 17/17 [00:01<00:00,  9.95it/s]\n",
      "0it [00:00, ?it/s]"
     ]
    },
    {
     "name": "stdout",
     "output_type": "stream",
     "text": [
      "Epoch: 25/40\n",
      "Training Loss: 0.0044\n",
      "Validation Loss: 2.2212\n",
      "Training Accuracy: 99.84%\n",
      "Validation Accuracy: 70.12%\n"
     ]
    },
    {
     "name": "stderr",
     "output_type": "stream",
     "text": [
      "38it [00:12,  3.15it/s]\n",
      "100%|███████████████████████████████████████████| 17/17 [00:01<00:00,  9.93it/s]\n",
      "0it [00:00, ?it/s]"
     ]
    },
    {
     "name": "stdout",
     "output_type": "stream",
     "text": [
      "Epoch: 26/40\n",
      "Training Loss: 0.0076\n",
      "Validation Loss: 2.2320\n",
      "Training Accuracy: 99.71%\n",
      "Validation Accuracy: 69.64%\n"
     ]
    },
    {
     "name": "stderr",
     "output_type": "stream",
     "text": [
      "38it [00:12,  3.18it/s]\n",
      "100%|███████████████████████████████████████████| 17/17 [00:01<00:00,  9.99it/s]\n",
      "0it [00:00, ?it/s]"
     ]
    },
    {
     "name": "stdout",
     "output_type": "stream",
     "text": [
      "Epoch: 27/40\n",
      "Training Loss: 0.0043\n",
      "Validation Loss: 2.3222\n",
      "Training Accuracy: 99.75%\n",
      "Validation Accuracy: 69.84%\n"
     ]
    },
    {
     "name": "stderr",
     "output_type": "stream",
     "text": [
      "38it [00:12,  3.15it/s]\n",
      "100%|███████████████████████████████████████████| 17/17 [00:01<00:00,  9.98it/s]\n",
      "0it [00:00, ?it/s]"
     ]
    },
    {
     "name": "stdout",
     "output_type": "stream",
     "text": [
      "Epoch: 28/40\n",
      "Training Loss: 0.0047\n",
      "Validation Loss: 2.3505\n",
      "Training Accuracy: 99.79%\n",
      "Validation Accuracy: 68.68%\n"
     ]
    },
    {
     "name": "stderr",
     "output_type": "stream",
     "text": [
      "38it [00:12,  3.15it/s]\n",
      "100%|███████████████████████████████████████████| 17/17 [00:01<00:00,  9.94it/s]\n",
      "0it [00:00, ?it/s]"
     ]
    },
    {
     "name": "stdout",
     "output_type": "stream",
     "text": [
      "Epoch: 29/40\n",
      "Training Loss: 0.0028\n",
      "Validation Loss: 2.2787\n",
      "Training Accuracy: 99.84%\n",
      "Validation Accuracy: 71.28%\n"
     ]
    },
    {
     "name": "stderr",
     "output_type": "stream",
     "text": [
      "38it [00:12,  3.16it/s]\n",
      "100%|███████████████████████████████████████████| 17/17 [00:01<00:00,  9.99it/s]\n",
      "0it [00:00, ?it/s]"
     ]
    },
    {
     "name": "stdout",
     "output_type": "stream",
     "text": [
      "Epoch: 30/40\n",
      "Training Loss: 0.0037\n",
      "Validation Loss: 2.1931\n",
      "Training Accuracy: 99.75%\n",
      "Validation Accuracy: 72.72%\n"
     ]
    },
    {
     "name": "stderr",
     "output_type": "stream",
     "text": [
      "38it [00:12,  2.72it/s]\n",
      "100%|███████████████████████████████████████████| 17/17 [00:01<00:00,  9.07it/s]\n",
      "0it [00:00, ?it/s]"
     ]
    },
    {
     "name": "stdout",
     "output_type": "stream",
     "text": [
      "Epoch: 31/40\n",
      "Training Loss: 0.0055\n",
      "Validation Loss: 2.3012\n",
      "Training Accuracy: 99.71%\n",
      "Validation Accuracy: 70.89%\n"
     ]
    },
    {
     "name": "stderr",
     "output_type": "stream",
     "text": [
      "38it [00:13,  2.90it/s]\n",
      "100%|███████████████████████████████████████████| 17/17 [00:01<00:00,  8.69it/s]\n",
      "0it [00:00, ?it/s]"
     ]
    },
    {
     "name": "stdout",
     "output_type": "stream",
     "text": [
      "Epoch: 32/40\n",
      "Training Loss: 0.0027\n",
      "Validation Loss: 2.3895\n",
      "Training Accuracy: 99.84%\n",
      "Validation Accuracy: 69.45%\n"
     ]
    },
    {
     "name": "stderr",
     "output_type": "stream",
     "text": [
      "38it [00:12,  3.06it/s]\n",
      "100%|███████████████████████████████████████████| 17/17 [00:01<00:00,  8.99it/s]\n",
      "0it [00:00, ?it/s]"
     ]
    },
    {
     "name": "stdout",
     "output_type": "stream",
     "text": [
      "Epoch: 33/40\n",
      "Training Loss: 0.0036\n",
      "Validation Loss: 2.3422\n",
      "Training Accuracy: 99.88%\n",
      "Validation Accuracy: 69.74%\n"
     ]
    },
    {
     "name": "stderr",
     "output_type": "stream",
     "text": [
      "38it [00:12,  3.15it/s]\n",
      "100%|███████████████████████████████████████████| 17/17 [00:01<00:00,  9.28it/s]\n",
      "0it [00:00, ?it/s]"
     ]
    },
    {
     "name": "stdout",
     "output_type": "stream",
     "text": [
      "Epoch: 34/40\n",
      "Training Loss: 0.0060\n",
      "Validation Loss: 2.3653\n",
      "Training Accuracy: 99.79%\n",
      "Validation Accuracy: 70.32%\n"
     ]
    },
    {
     "name": "stderr",
     "output_type": "stream",
     "text": [
      "38it [00:12,  2.95it/s]\n",
      "100%|███████████████████████████████████████████| 17/17 [00:01<00:00,  9.64it/s]\n",
      "0it [00:00, ?it/s]"
     ]
    },
    {
     "name": "stdout",
     "output_type": "stream",
     "text": [
      "Epoch: 35/40\n",
      "Training Loss: 0.0075\n",
      "Validation Loss: 2.2829\n",
      "Training Accuracy: 99.75%\n",
      "Validation Accuracy: 72.24%\n"
     ]
    },
    {
     "name": "stderr",
     "output_type": "stream",
     "text": [
      "38it [00:12,  3.14it/s]\n",
      "100%|███████████████████████████████████████████| 17/17 [00:01<00:00,  9.21it/s]\n",
      "0it [00:00, ?it/s]"
     ]
    },
    {
     "name": "stdout",
     "output_type": "stream",
     "text": [
      "Epoch: 36/40\n",
      "Training Loss: 0.0048\n",
      "Validation Loss: 2.2450\n",
      "Training Accuracy: 99.79%\n",
      "Validation Accuracy: 70.12%\n"
     ]
    },
    {
     "name": "stderr",
     "output_type": "stream",
     "text": [
      "38it [00:12,  3.16it/s]\n",
      "100%|███████████████████████████████████████████| 17/17 [00:01<00:00,  9.23it/s]\n",
      "0it [00:00, ?it/s]"
     ]
    },
    {
     "name": "stdout",
     "output_type": "stream",
     "text": [
      "Epoch: 37/40\n",
      "Training Loss: 0.0022\n",
      "Validation Loss: 2.2895\n",
      "Training Accuracy: 99.84%\n",
      "Validation Accuracy: 69.93%\n"
     ]
    },
    {
     "name": "stderr",
     "output_type": "stream",
     "text": [
      "38it [00:12,  3.14it/s]\n",
      "100%|███████████████████████████████████████████| 17/17 [00:01<00:00,  9.71it/s]\n",
      "0it [00:00, ?it/s]"
     ]
    },
    {
     "name": "stdout",
     "output_type": "stream",
     "text": [
      "Epoch: 38/40\n",
      "Training Loss: 0.0042\n",
      "Validation Loss: 2.4214\n",
      "Training Accuracy: 99.79%\n",
      "Validation Accuracy: 71.09%\n"
     ]
    },
    {
     "name": "stderr",
     "output_type": "stream",
     "text": [
      "38it [00:12,  3.14it/s]\n",
      "100%|███████████████████████████████████████████| 17/17 [00:01<00:00,  9.13it/s]\n",
      "0it [00:00, ?it/s]"
     ]
    },
    {
     "name": "stdout",
     "output_type": "stream",
     "text": [
      "Epoch: 39/40\n",
      "Training Loss: 0.0051\n",
      "Validation Loss: 2.3568\n",
      "Training Accuracy: 99.84%\n",
      "Validation Accuracy: 71.47%\n"
     ]
    },
    {
     "name": "stderr",
     "output_type": "stream",
     "text": [
      "38it [00:12,  3.15it/s]\n",
      "100%|███████████████████████████████████████████| 17/17 [00:01<00:00,  9.06it/s]"
     ]
    },
    {
     "name": "stdout",
     "output_type": "stream",
     "text": [
      "Epoch: 40/40\n",
      "Training Loss: 0.0039\n",
      "Validation Loss: 2.3347\n",
      "Training Accuracy: 99.79%\n",
      "Validation Accuracy: 71.37%\n"
     ]
    },
    {
     "name": "stderr",
     "output_type": "stream",
     "text": [
      "\n"
     ]
    }
   ],
   "source": [
    "\n",
    "\n",
    "# Train the model\n",
    "model.to(device)\n",
    "\n",
    "train_accuracies = []\n",
    "val_accuracies = []\n",
    "train_losses = []\n",
    "val_losses = []\n",
    "\n",
    "\n",
    "for epoch in range(epochs):\n",
    "    # Set the model to training mode\n",
    "    model.train()\n",
    "    \n",
    "    train_loss = 0\n",
    "    val_loss = 0\n",
    "    train_correct = 0\n",
    "    val_correct = 0\n",
    "    train_total = 0\n",
    "    val_total = 0\n",
    "    \n",
    "    for step, batch in tqdm(enumerate(train_dataloader)):\n",
    "        # Load the input data and labels\n",
    "        batch_input_ids = batch[0].to(device)\n",
    "        batch_attention_masks = batch[1].to(device)\n",
    "        batch_labels = batch[2].to(device)\n",
    "\n",
    "        # Clear any previously calculated gradients\n",
    "        model.zero_grad()\n",
    "\n",
    "        # Perform a forward pass\n",
    "        outputs = model(batch_input_ids, \n",
    "                             token_type_ids=None, \n",
    "                             attention_mask=batch_attention_masks, \n",
    "                             labels=batch_labels)\n",
    "\n",
    "        loss, logits = outputs[0], outputs[1]\n",
    "        \n",
    "        # Accumulate the training loss\n",
    "        train_loss += loss.item()\n",
    "        \n",
    "        # Get the predicted labels\n",
    "        logits = logits.detach().cpu().numpy()\n",
    "        label_ids = batch_labels.to('cpu').numpy()\n",
    "        predicted_labels = np.argmax(logits, axis=1)\n",
    "        \n",
    "        # Calculate the validation accuracy\n",
    "        train_total += len(label_ids)\n",
    "        train_correct += (predicted_labels == label_ids).sum().item()\n",
    "\n",
    "        # Perform a backward pass to calculate the gradients\n",
    "        loss.backward()\n",
    "\n",
    "        # Clip the norm of the gradients to prevent explosion\n",
    "        torch.nn.utils.clip_grad_norm_(model.parameters(), 1.0)\n",
    "\n",
    "        # Update the parameters of the model\n",
    "        optimizer.step()\n",
    "\n",
    "        # Update the learning rate scheduler\n",
    "        scheduler.step()\n",
    "        del loss\n",
    "        \n",
    "    # Calculate the average loss for this epoch\n",
    "    avg_train_loss = train_loss / len(train_dataloader)\n",
    "    avg_train_accuracy = train_correct / train_total \n",
    "    \n",
    "    # Set the model to evaluation mode\n",
    "    model.eval()\n",
    "\n",
    "    for batch in tqdm(val_dataloader):\n",
    "        # Load the input data and labels\n",
    "        batch_input_ids = batch[0].to(device)\n",
    "        batch_attention_masks = batch[1].to(device)\n",
    "        batch_labels = batch[2].to(device)\n",
    "\n",
    "        # Disable gradient calculations\n",
    "        with torch.no_grad():\n",
    "            # Perform a forward pass\n",
    "            outputs = model(batch_input_ids, \n",
    "                                   token_type_ids=None, \n",
    "                                   attention_mask=batch_attention_masks,\n",
    "                                   labels=batch_labels)\n",
    "        \n",
    "        loss, logits = outputs[0], outputs[1]\n",
    "        \n",
    "        # Accumulate the validation loss\n",
    "        val_loss += loss.item()\n",
    "\n",
    "        # Get the predicted labels\n",
    "        logits = logits.detach().cpu().numpy()\n",
    "        label_ids = batch_labels.to('cpu').numpy()\n",
    "        predicted_labels = np.argmax(logits, axis=1)\n",
    "\n",
    "        # Calculate the validation accuracy\n",
    "        val_total += len(label_ids)\n",
    "        val_correct += (predicted_labels == label_ids).sum().item()\n",
    "\n",
    "    # Calculate the average loss and accuracy for this epoch\n",
    "    avg_val_loss = val_loss / len(val_dataloader)\n",
    "    avg_val_accuracy = val_correct / val_total\n",
    "    \n",
    "    # append the results of epoch\n",
    "    train_accuracies.append(avg_train_accuracy)\n",
    "    val_accuracies.append(avg_val_accuracy)\n",
    "    train_losses.append(avg_train_loss)\n",
    "    val_losses.append(avg_val_loss)\n",
    "\n",
    "\n",
    "    # Print the loss and accuracy for this epoch\n",
    "    print(\"Epoch: {}/{}\".format(epoch+1, epochs))\n",
    "    print(\"Training Loss: {:.4f}\".format(avg_train_loss))\n",
    "    print(\"Validation Loss: {:.4f}\".format(avg_val_loss))\n",
    "    print(\"Training Accuracy: {:.2f}%\".format(avg_train_accuracy * 100))    \n",
    "    print(\"Validation Accuracy: {:.2f}%\".format(avg_val_accuracy * 100))"
   ]
  },
  {
   "cell_type": "code",
   "execution_count": 11,
   "id": "009dbdd1",
   "metadata": {},
   "outputs": [
    {
     "data": {
      "image/png": "[encoded data removed]",
      "text/plain": [
       "<Figure size 432x288 with 1 Axes>"
      ]
     },
     "metadata": {
      "needs_background": "light"
     },
     "output_type": "display_data"
    }
   ],
   "source": [
    "import matplotlib.pyplot as plt\n",
    "\n",
    "# Plot the training and validation losses\n",
    "plt.plot(train_losses, label='Training loss')\n",
    "plt.plot(val_losses, label='Validation loss')\n",
    "\n",
    "# Plot the training and validation accuracies\n",
    "plt.plot(train_accuracies, label='Training accuracy')\n",
    "plt.plot(val_accuracies, label='Validation accuracy')\n",
    "plt.legend()\n",
    "plt.show()"
   ]
  },
  {
   "cell_type": "code",
   "execution_count": 50,
   "id": "3fd775d7",
   "metadata": {},
   "outputs": [],
   "source": [
    "# Save the trained model\n",
    "# torch.save(model, 'BERT.pt')"
   ]
  },
  {
   "cell_type": "code",
   "execution_count": 11,
   "id": "95dfdd7b",
   "metadata": {},
   "outputs": [],
   "source": [
    "def test(model, test_loader):\n",
    "    model.eval()\n",
    "\n",
    "    val_loss = 0\n",
    "    val_correct = 0\n",
    "    val_total = 0\n",
    "    y_true = []\n",
    "    y_pred = []\n",
    "    for batch in tqdm(val_dataloader):\n",
    "        # Load the input data and labels\n",
    "        batch_input_ids = batch[0].to(device)\n",
    "        batch_attention_masks = batch[1].to(device)\n",
    "        batch_labels = batch[2].to(device)\n",
    "        \n",
    "        # Perform a forward pass\n",
    "        outputs = model(batch_input_ids, \n",
    "                               token_type_ids=None, \n",
    "                               attention_mask=batch_attention_masks,\n",
    "                               labels=batch_labels)\n",
    "        \n",
    "        loss, logits = outputs[0], outputs[1]\n",
    "        # Accumulate the validation loss\n",
    "        val_loss += loss.item()\n",
    "\n",
    "        # Compute the loss for this batch and add it to the total test loss\n",
    "        val_loss += loss.item()\n",
    "\n",
    "        # Get the predicted labels\n",
    "        logits = logits.detach().cpu().numpy()\n",
    "        label_ids = batch_labels.to('cpu').numpy()\n",
    "        predicted_labels = np.argmax(logits, axis=1)\n",
    "\n",
    "        # Calculate the validation accuracy\n",
    "        val_total += len(label_ids)\n",
    "        val_correct += (predicted_labels == label_ids).sum().item()\n",
    "        \n",
    "        # Append the ground truth and predicted labels for confusion matrix\n",
    "        y_true.extend(label_ids.tolist())\n",
    "        y_pred.extend(predicted_labels.tolist())\n",
    "\n",
    "    # Compute the average test loss and accuracy for this epoch\n",
    "    val_loss /= len(test_loader)\n",
    "    accuracy = val_correct / val_total\n",
    "    \n",
    "    print(f' Test Accuracy: {accuracy} \\n Test Loss {val_loss}')\n",
    "    \n",
    "    # Compute and print the confusion matrix\n",
    "    cm = confusion_matrix(y_true, y_pred)\n",
    "    print('Confusion Matrix:')\n",
    "    print(cm)\n",
    "    \n",
    "    return y_true, y_pred"
   ]
  },
  {
   "cell_type": "code",
   "execution_count": 13,
   "id": "abfcda76",
   "metadata": {
    "scrolled": true
   },
   "outputs": [
    {
     "name": "stderr",
     "output_type": "stream",
     "text": [
      "100%|███████████████████████████████████████████| 17/17 [00:01<00:00,  8.64it/s]"
     ]
    },
    {
     "name": "stdout",
     "output_type": "stream",
     "text": [
      " Test Accuracy: 0.9365994236311239 \n",
      " Test Loss 1.109038060202318\n",
      "Confusion Matrix:\n",
      "[[763  13]\n",
      " [ 53 212]]\n"
     ]
    },
    {
     "name": "stderr",
     "output_type": "stream",
     "text": [
      "\n"
     ]
    }
   ],
   "source": [
    "from sklearn.metrics import confusion_matrix\n",
    "import seaborn as sns\n",
    "import matplotlib.pyplot as plt\n",
    "\n",
    "# Load the trained model from its saved state\n",
    "device = torch.device('cuda' if torch.cuda.is_available() else 'cpu')\n",
    "\n",
    "# model = ConvNet()\n",
    "# model.to(device)\n",
    "model = torch.load('BERT.pt')\n",
    "y_true, y_pred =test(model, val_dataloader)"
   ]
  },
  {
   "cell_type": "code",
   "execution_count": null,
   "id": "510556ff",
   "metadata": {},
   "outputs": [],
   "source": [
    "from sklearn.metrics import classification_report\n",
    "\n",
    "# calculate the classification report\n",
    "print(\"Classification Reprot\")\n",
    "print(classification_report(y_true, y_pred))"
   ]
  },
  {
   "cell_type": "code",
   "execution_count": 16,
   "id": "2cb13945",
   "metadata": {},
   "outputs": [
    {
     "data": {
      "image/png": "[encoded data removed]",
      "text/plain": [
       "<Figure size 432x288 with 2 Axes>"
      ]
     },
     "metadata": {
      "needs_background": "light"
     },
     "output_type": "display_data"
    }
   ],
   "source": [
    "# Compute the confusion matrix\n",
    "cm = confusion_matrix(y_true, y_pred)\n",
    "\n",
    "# Create a heatmap of the confusion matrix\n",
    "sns.heatmap(cm, annot=True, cmap='Blues', fmt='g')\n",
    "\n",
    "# Set the axis labels and title\n",
    "plt.xlabel('Predicted labels')\n",
    "plt.ylabel('True labels')\n",
    "plt.title('Confusion Matrix')\n",
    "\n",
    "# Show the plot\n",
    "plt.show()"
   ]
  },
  {
   "cell_type": "code",
   "execution_count": null,
   "id": "1de3030e",
   "metadata": {},
   "outputs": [],
   "source": []
  },
  {
   "cell_type": "code",
   "execution_count": 16,
   "id": "d79997e2",
   "metadata": {},
   "outputs": [],
   "source": [
    "tokenizer = BertTokenizer.from_pretrained('bert-base-uncased', do_lower_case=True)\n",
    "MAX_LEN = 64 # Maximum sequence length \n"
   ]
  },
  {
   "cell_type": "code",
   "execution_count": 13,
   "id": "cdcea42d",
   "metadata": {},
   "outputs": [
    {
     "name": "stdout",
     "output_type": "stream",
     "text": [
      "tensor([0], device='cuda:0')\n",
      "Input text: The only thing I got from college is a caffeine addiction\n",
      "Predicted label: Negative\n"
     ]
    },
    {
     "name": "stderr",
     "output_type": "stream",
     "text": [
      "/home/icrl/anaconda3/envs/abdul-tf2x/lib/python3.7/site-packages/transformers/tokenization_utils_base.py:2232: FutureWarning: The `pad_to_max_length` argument is deprecated and will be removed in a future version, use `padding=True` or `padding='longest'` to pad to the longest sequence in the batch, or use `padding='max_length'` to pad to a max length. In this case, you can give a specific length with `max_length` (e.g. `max_length=45`) or leave max_length to None to pad to the maximal input size of the model (e.g. 512 for Bert).\n",
      "  FutureWarning,\n"
     ]
    }
   ],
   "source": [
    "# Encode the input text\n",
    "text = \"The only thing I got from college is a caffeine addiction\"\n",
    "encoded_dict = tokenizer.encode_plus(\n",
    "                  text,                      # Text to encode.\n",
    "                  add_special_tokens = True, # Add '[CLS]' and '[SEP]'\n",
    "                  max_length = 100,           # Pad & truncate all sentences.\n",
    "                  pad_to_max_length = True,\n",
    "                  return_attention_mask = True,   # Construct attn. masks.\n",
    "                  return_tensors = 'pt',     # Return pytorch tensors.\n",
    "            )\n",
    "input_ids = encoded_dict['input_ids'].to(device)\n",
    "attention_masks = encoded_dict['attention_mask'].to(device)\n",
    "\n",
    "# Make the prediction\n",
    "with torch.no_grad():\n",
    "    outputs = model(input_ids, attention_mask=attention_masks)\n",
    "    _, predicted = torch.max(outputs[0], 1)\n",
    "\n",
    "    \n",
    "print(predicted)\n",
    "# Convert the predicted label to text\n",
    "predicted_label = \"Positive\" if predicted.item() == 1 else \"Negative\"\n",
    "print(f\"Input text: {text}\")\n",
    "print(f\"Predicted label: {predicted_label}\")"
   ]
  },
  {
   "cell_type": "code",
   "execution_count": 20,
   "id": "beeae024",
   "metadata": {},
   "outputs": [],
   "source": [
    "# for batch in tqdm(val_dataloader):\n",
    "#         # Load the input data and labels\n",
    "#         batch_input_ids = batch[0].to(device)\n",
    "#         batch_attention_masks = batch[1].to(device)\n",
    "#         batch_labels = batch[2].to(device)\n",
    "        \n",
    "\n",
    "        \n",
    "#         outputs = model(batch_input_ids, \n",
    "#                                token_type_ids=None, \n",
    "#                                attention_mask=batch_attention_masks,\n",
    "#                                labels=batch_labels)\n",
    "#         loss, logits = outputs[0], outputs[1]\n",
    "#         logits = logits.detach().cpu().numpy()\n",
    "#         label_ids = batch_labels.to('cpu').numpy()\n",
    "#         predicted_labels = np.argmax(logits, axis=1)\n",
    "        \n",
    "#         for input_ids in batch_input_ids:\n",
    "#             print(tokenizer.decode(input_ids.squeeze(), skip_special_tokens=True))\n",
    "#         print(batch_labels)\n",
    "#         print(predicted_labels)\n",
    "#         print(\"==============\")"
   ]
  },
  {
   "cell_type": "code",
   "execution_count": null,
   "id": "a3f4807f",
   "metadata": {},
   "outputs": [],
   "source": []
  },
  {
   "cell_type": "code",
   "execution_count": null,
   "id": "565344db",
   "metadata": {},
   "outputs": [],
   "source": []
  }
 ],
 "metadata": {
  "kernelspec": {
   "display_name": "Python 3 (ipykernel)",
   "language": "python",
   "name": "python3"
  },
  "language_info": {
   "codemirror_mode": {
    "name": "ipython",
    "version": 3
   },
   "file_extension": ".py",
   "mimetype": "text/x-python",
   "name": "python",
   "nbconvert_exporter": "python",
   "pygments_lexer": "ipython3",
   "version": "3.8.0"
  }
 },
 "nbformat": 4,
 "nbformat_minor": 5
}
