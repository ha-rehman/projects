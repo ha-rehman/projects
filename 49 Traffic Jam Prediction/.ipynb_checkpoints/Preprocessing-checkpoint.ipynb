{
 "cells": [
  {
   "cell_type": "markdown",
   "id": "2ec0eaaa",
   "metadata": {},
   "source": [
    "## import libraries"
   ]
  },
  {
   "cell_type": "code",
   "execution_count": 1,
   "id": "11d8d19f",
   "metadata": {},
   "outputs": [],
   "source": [
    "import warnings\n",
    "warnings.filterwarnings('ignore')"
   ]
  },
  {
   "cell_type": "code",
   "execution_count": 2,
   "id": "6ef498ae",
   "metadata": {},
   "outputs": [],
   "source": [
    "import pandas as pd\n",
    "from tqdm import tqdm\n",
    "import tensorflow as tf\n",
    "import matplotlib.pyplot as plt"
   ]
  },
  {
   "cell_type": "markdown",
   "id": "101b44d4",
   "metadata": {},
   "source": [
    "## Read Dataset"
   ]
  },
  {
   "cell_type": "code",
   "execution_count": 4,
   "id": "6f3d6d32",
   "metadata": {},
   "outputs": [
    {
     "name": "stdout",
     "output_type": "stream",
     "text": [
      "(186559, 20)\n"
     ]
    },
    {
     "data": {
      "text/html": [
       "<div>\n",
       "<style scoped>\n",
       "    .dataframe tbody tr th:only-of-type {\n",
       "        vertical-align: middle;\n",
       "    }\n",
       "\n",
       "    .dataframe tbody tr th {\n",
       "        vertical-align: top;\n",
       "    }\n",
       "\n",
       "    .dataframe thead th {\n",
       "        text-align: right;\n",
       "    }\n",
       "</style>\n",
       "<table border=\"1\" class=\"dataframe\">\n",
       "  <thead>\n",
       "    <tr style=\"text-align: right;\">\n",
       "      <th></th>\n",
       "      <th>0</th>\n",
       "      <th>1</th>\n",
       "      <th>2</th>\n",
       "      <th>3</th>\n",
       "      <th>4</th>\n",
       "      <th>5</th>\n",
       "      <th>6</th>\n",
       "      <th>7</th>\n",
       "      <th>8</th>\n",
       "      <th>9</th>\n",
       "      <th>10</th>\n",
       "      <th>11</th>\n",
       "      <th>12</th>\n",
       "      <th>13</th>\n",
       "      <th>14</th>\n",
       "      <th>15</th>\n",
       "      <th>16</th>\n",
       "      <th>17</th>\n",
       "      <th>18</th>\n",
       "      <th>19</th>\n",
       "    </tr>\n",
       "  </thead>\n",
       "  <tbody>\n",
       "    <tr>\n",
       "      <th>0</th>\n",
       "      <td>2940388;2022-02-21;2022-02-21;16:44:34;16:46:00;3</td>\n",
       "      <td>010;2100</td>\n",
       "      <td>000;1</td>\n",
       "      <td>433;142</td>\n",
       "      <td>3;140</td>\n",
       "      <td>2;A;59;A59;oplopend;Rosmalen;Rosmalen-Oost;'s-...</td>\n",
       "      <td>NaN</td>\n",
       "      <td>NaN</td>\n",
       "      <td>NaN</td>\n",
       "      <td>NaN</td>\n",
       "      <td>NaN</td>\n",
       "      <td>NaN</td>\n",
       "      <td>NaN</td>\n",
       "      <td>NaN</td>\n",
       "      <td>NaN</td>\n",
       "      <td>NaN</td>\n",
       "      <td>NaN</td>\n",
       "      <td>NaN</td>\n",
       "      <td>NaN</td>\n",
       "      <td>NaN</td>\n",
       "    </tr>\n",
       "    <tr>\n",
       "      <th>1</th>\n",
       "      <td>2940390;2022-02-21;2022-02-21;16:46:33;18:01:4...</td>\n",
       "      <td>627;2895</td>\n",
       "      <td>000;75</td>\n",
       "      <td>183;56</td>\n",
       "      <td>3;58</td>\n",
       "      <td>6;A;16;A16;aflopend;Breda-Noord;Markbrug;Breda...</td>\n",
       "      <td>[Defecte vrachtwagen(s) 67]</td>\n",
       "      <td>[Geen oorzaakcode opgegeven door VWM 3];[000]</td>\n",
       "      <td>[HBD]</td>\n",
       "      <td>[000];HBD;Defecte vrachtwagen(s);Defecte vrac...</td>\n",
       "      <td>NaN</td>\n",
       "      <td>NaN</td>\n",
       "      <td>NaN</td>\n",
       "      <td>NaN</td>\n",
       "      <td>NaN</td>\n",
       "      <td>NaN</td>\n",
       "      <td>NaN</td>\n",
       "      <td>NaN</td>\n",
       "      <td>NaN</td>\n",
       "      <td>NaN</td>\n",
       "    </tr>\n",
       "  </tbody>\n",
       "</table>\n",
       "</div>"
      ],
      "text/plain": [
       "                                                  0         1       2   \\\n",
       "0  2940388;2022-02-21;2022-02-21;16:44:34;16:46:00;3  010;2100   000;1   \n",
       "1  2940390;2022-02-21;2022-02-21;16:46:33;18:01:4...  627;2895  000;75   \n",
       "\n",
       "        3      4                                                  5   \\\n",
       "0  433;142  3;140  2;A;59;A59;oplopend;Rosmalen;Rosmalen-Oost;'s-...   \n",
       "1   183;56   3;58  6;A;16;A16;aflopend;Breda-Noord;Markbrug;Breda...   \n",
       "\n",
       "                             6   \\\n",
       "0                           NaN   \n",
       "1   [Defecte vrachtwagen(s) 67]   \n",
       "\n",
       "                                               7       8   \\\n",
       "0                                             NaN     NaN   \n",
       "1   [Geen oorzaakcode opgegeven door VWM 3];[000]   [HBD]   \n",
       "\n",
       "                                                  9    10   11   12   13   14  \\\n",
       "0                                                NaN  NaN  NaN  NaN  NaN  NaN   \n",
       "1   [000];HBD;Defecte vrachtwagen(s);Defecte vrac...  NaN  NaN  NaN  NaN  NaN   \n",
       "\n",
       "    15   16   17   18   19  \n",
       "0  NaN  NaN  NaN  NaN  NaN  \n",
       "1  NaN  NaN  NaN  NaN  NaN  "
      ]
     },
     "execution_count": 4,
     "metadata": {},
     "output_type": "execute_result"
    }
   ],
   "source": [
    "df = pd.read_csv('data/combined.csv', header=None)\n",
    "print(df.shape)\n",
    "df.head(2)"
   ]
  },
  {
   "cell_type": "code",
   "execution_count": 5,
   "id": "71697239",
   "metadata": {},
   "outputs": [
    {
     "name": "stdout",
     "output_type": "stream",
     "text": [
      "26\n"
     ]
    },
    {
     "data": {
      "text/plain": [
       "['NLSitNummer',\n",
       " 'DatumFileBegin',\n",
       " 'DatumFileEind',\n",
       " 'TijdFileBegin',\n",
       " 'TijdFileEind',\n",
       " 'FileZwaarte',\n",
       " 'GemLengte',\n",
       " 'FileDuur',\n",
       " 'HectometerKop',\n",
       " 'HectometerStaart',\n",
       " 'RouteLet',\n",
       " 'RouteNum',\n",
       " 'RouteOms',\n",
       " 'hectometreringsrichting',\n",
       " 'KopWegvakVan',\n",
       " 'KopWegvakNaar',\n",
       " 'TrajVan',\n",
       " 'TrajNaar',\n",
       " 'OorzaakGronddetail',\n",
       " 'OorzaakVerloop',\n",
       " 'OorzaakCodeVerloop',\n",
       " 'OorzaakCode',\n",
       " 'Oorzaak_1',\n",
       " 'Oorzaak_2',\n",
       " 'Oorzaak_3',\n",
       " 'Oorzaak_4']"
      ]
     },
     "execution_count": 5,
     "metadata": {},
     "output_type": "execute_result"
    }
   ],
   "source": [
    "columns_str = 'NLSitNummer;DatumFileBegin;DatumFileEind;TijdFileBegin;TijdFileEind;FileZwaarte;GemLengte;FileDuur;HectometerKop;HectometerStaart;RouteLet;RouteNum;RouteOms;hectometreringsrichting;KopWegvakVan;KopWegvakNaar;TrajVan;TrajNaar;OorzaakGronddetail;OorzaakVerloop;OorzaakCodeVerloop;OorzaakCode;Oorzaak_1;Oorzaak_2;Oorzaak_3;Oorzaak_4'\n",
    "columns = columns_str.split(';')\n",
    "print(len(columns))\n",
    "columns"
   ]
  },
  {
   "cell_type": "code",
   "execution_count": 6,
   "id": "a3abb40b",
   "metadata": {},
   "outputs": [
    {
     "name": "stdout",
     "output_type": "stream",
     "text": [
      "(186559, 15)\n"
     ]
    },
    {
     "data": {
      "text/html": [
       "<div>\n",
       "<style scoped>\n",
       "    .dataframe tbody tr th:only-of-type {\n",
       "        vertical-align: middle;\n",
       "    }\n",
       "\n",
       "    .dataframe tbody tr th {\n",
       "        vertical-align: top;\n",
       "    }\n",
       "\n",
       "    .dataframe thead th {\n",
       "        text-align: right;\n",
       "    }\n",
       "</style>\n",
       "<table border=\"1\" class=\"dataframe\">\n",
       "  <thead>\n",
       "    <tr style=\"text-align: right;\">\n",
       "      <th></th>\n",
       "      <th>NLSitNummer</th>\n",
       "      <th>DatumFileBegin</th>\n",
       "      <th>DatumFileEind</th>\n",
       "      <th>TijdFileBegin</th>\n",
       "      <th>TijdFileEind</th>\n",
       "      <th>FileZwaarte</th>\n",
       "      <th>FileDuur</th>\n",
       "      <th>RouteLet</th>\n",
       "      <th>RouteNum</th>\n",
       "      <th>RouteOms</th>\n",
       "      <th>hectometreringsrichting</th>\n",
       "      <th>KopWegvakVan</th>\n",
       "      <th>KopWegvakNaar</th>\n",
       "      <th>TrajVan</th>\n",
       "      <th>TrajNaar</th>\n",
       "    </tr>\n",
       "  </thead>\n",
       "  <tbody>\n",
       "    <tr>\n",
       "      <th>0</th>\n",
       "      <td>2940388</td>\n",
       "      <td>2022-02-21</td>\n",
       "      <td>2022-02-21</td>\n",
       "      <td>16:44:34</td>\n",
       "      <td>16:46:00</td>\n",
       "      <td>3</td>\n",
       "      <td>1</td>\n",
       "      <td>A</td>\n",
       "      <td>59</td>\n",
       "      <td>A59</td>\n",
       "      <td>oplopend</td>\n",
       "      <td>Rosmalen</td>\n",
       "      <td>Rosmalen-Oost</td>\n",
       "      <td>'s-Hertogenbosch</td>\n",
       "      <td>Oss</td>\n",
       "    </tr>\n",
       "    <tr>\n",
       "      <th>1</th>\n",
       "      <td>2940390</td>\n",
       "      <td>2022-02-21</td>\n",
       "      <td>2022-02-21</td>\n",
       "      <td>16:46:33</td>\n",
       "      <td>18:01:44</td>\n",
       "      <td>217</td>\n",
       "      <td>75</td>\n",
       "      <td>A</td>\n",
       "      <td>16</td>\n",
       "      <td>A16</td>\n",
       "      <td>aflopend</td>\n",
       "      <td>Breda-Noord</td>\n",
       "      <td>Markbrug</td>\n",
       "      <td>Breda</td>\n",
       "      <td>Rotterdam</td>\n",
       "    </tr>\n",
       "    <tr>\n",
       "      <th>2</th>\n",
       "      <td>2940391</td>\n",
       "      <td>2022-02-21</td>\n",
       "      <td>2022-02-21</td>\n",
       "      <td>16:46:33</td>\n",
       "      <td>19:03:39</td>\n",
       "      <td>643</td>\n",
       "      <td>137</td>\n",
       "      <td>A</td>\n",
       "      <td>28</td>\n",
       "      <td>A28</td>\n",
       "      <td>oplopend</td>\n",
       "      <td>Zwolle-Noord</td>\n",
       "      <td>brug over de Overijsselse Vecht</td>\n",
       "      <td>Zwolle</td>\n",
       "      <td>Hoogeveen</td>\n",
       "    </tr>\n",
       "    <tr>\n",
       "      <th>3</th>\n",
       "      <td>2940392</td>\n",
       "      <td>2022-02-21</td>\n",
       "      <td>2022-02-21</td>\n",
       "      <td>16:46:33</td>\n",
       "      <td>16:48:00</td>\n",
       "      <td>2</td>\n",
       "      <td>1</td>\n",
       "      <td>A</td>\n",
       "      <td>58</td>\n",
       "      <td>A58</td>\n",
       "      <td>aflopend</td>\n",
       "      <td>Oirschot</td>\n",
       "      <td>Best</td>\n",
       "      <td>Tilburg</td>\n",
       "      <td>Eindhoven</td>\n",
       "    </tr>\n",
       "    <tr>\n",
       "      <th>4</th>\n",
       "      <td>2940533</td>\n",
       "      <td>2022-02-22</td>\n",
       "      <td>2022-02-22</td>\n",
       "      <td>6:26:26</td>\n",
       "      <td>11:11:39</td>\n",
       "      <td>627</td>\n",
       "      <td>285</td>\n",
       "      <td>A</td>\n",
       "      <td>1</td>\n",
       "      <td>A1</td>\n",
       "      <td>aflopend</td>\n",
       "      <td>Hoevelaken</td>\n",
       "      <td>Amersfoort-Noord</td>\n",
       "      <td>Amersfoort</td>\n",
       "      <td>Amsterdam</td>\n",
       "    </tr>\n",
       "  </tbody>\n",
       "</table>\n",
       "</div>"
      ],
      "text/plain": [
       "  NLSitNummer DatumFileBegin DatumFileEind TijdFileBegin TijdFileEind  \\\n",
       "0     2940388     2022-02-21    2022-02-21      16:44:34     16:46:00   \n",
       "1     2940390     2022-02-21    2022-02-21      16:46:33     18:01:44   \n",
       "2     2940391     2022-02-21    2022-02-21      16:46:33     19:03:39   \n",
       "3     2940392     2022-02-21    2022-02-21      16:46:33     16:48:00   \n",
       "4     2940533     2022-02-22    2022-02-22       6:26:26     11:11:39   \n",
       "\n",
       "  FileZwaarte FileDuur RouteLet RouteNum RouteOms hectometreringsrichting  \\\n",
       "0           3        1        A       59      A59                oplopend   \n",
       "1         217       75        A       16      A16                aflopend   \n",
       "2         643      137        A       28      A28                oplopend   \n",
       "3           2        1        A       58      A58                aflopend   \n",
       "4         627      285        A        1       A1                aflopend   \n",
       "\n",
       "   KopWegvakVan                    KopWegvakNaar           TrajVan   TrajNaar  \n",
       "0      Rosmalen                    Rosmalen-Oost  's-Hertogenbosch        Oss  \n",
       "1   Breda-Noord                         Markbrug             Breda  Rotterdam  \n",
       "2  Zwolle-Noord  brug over de Overijsselse Vecht            Zwolle  Hoogeveen  \n",
       "3      Oirschot                             Best           Tilburg  Eindhoven  \n",
       "4    Hoevelaken                 Amersfoort-Noord        Amersfoort  Amsterdam  "
      ]
     },
     "execution_count": 6,
     "metadata": {},
     "output_type": "execute_result"
    }
   ],
   "source": [
    "df[['NLSitNummer',\n",
    " 'DatumFileBegin',\n",
    " 'DatumFileEind',\n",
    " 'TijdFileBegin',\n",
    " 'TijdFileEind',\n",
    " 'FileZwaarte']] = df[0].apply(lambda x: pd.Series(str(x).split(\";\")[:6]))\n",
    "\n",
    "df[['FileDuur']] = df[2].apply(lambda x: pd.Series(str(x).split(\";\")[-1]))\n",
    "\n",
    "df[['unknown',\n",
    "    'RouteLet',\n",
    " 'RouteNum',\n",
    " 'RouteOms',\n",
    " 'hectometreringsrichting',\n",
    " 'KopWegvakVan',\n",
    " 'KopWegvakNaar',\n",
    " 'TrajVan',\n",
    " 'TrajNaar']] = df[5].apply(lambda x: pd.Series(str(x).split(\";\")[:9]))\n",
    "\n",
    "df = df[['NLSitNummer',\n",
    "'DatumFileBegin',\n",
    "'DatumFileEind',\n",
    "'TijdFileBegin',\n",
    "'TijdFileEind',\n",
    "'FileZwaarte',\n",
    "'FileDuur',\n",
    "'RouteLet',\n",
    "'RouteNum',\n",
    "'RouteOms',\n",
    "'hectometreringsrichting',\n",
    "'KopWegvakVan',\n",
    "'KopWegvakNaar',\n",
    "'TrajVan',\n",
    "'TrajNaar']]\n",
    "\n",
    "print(df.shape)\n",
    "df.head()"
   ]
  },
  {
   "cell_type": "code",
   "execution_count": 7,
   "id": "4d3c0083",
   "metadata": {},
   "outputs": [
    {
     "name": "stdout",
     "output_type": "stream",
     "text": [
      "(5365, 15)\n"
     ]
    }
   ],
   "source": [
    "states = ['Breda', 'Tilburg']\n",
    "df = df[df.TrajVan.isin(states)]\n",
    "df = df[df.TrajNaar.isin(states)]\n",
    "\n",
    "print(df.shape)"
   ]
  },
  {
   "cell_type": "code",
   "execution_count": 8,
   "id": "a17b6763",
   "metadata": {},
   "outputs": [
    {
     "name": "stdout",
     "output_type": "stream",
     "text": [
      "(1985, 15)\n",
      "(3380, 15)\n"
     ]
    }
   ],
   "source": [
    "df_B_T = df[df.TrajVan == states[0]]\n",
    "df_T_B = df[df.TrajVan == states[1]]\n",
    "\n",
    "print(df_B_T.shape)\n",
    "print(df_T_B.shape)"
   ]
  },
  {
   "cell_type": "code",
   "execution_count": 9,
   "id": "cd8a762c",
   "metadata": {},
   "outputs": [],
   "source": [
    "df_B_T[[\"DatumFileBegin\", \"DatumFileEind\", \"TijdFileBegin\", \"TijdFileEind\"]] = df_B_T[[\"DatumFileBegin\", \"DatumFileEind\", \"TijdFileBegin\", \"TijdFileEind\"]].apply(pd.to_datetime)\n",
    "df_T_B[[\"DatumFileBegin\", \"DatumFileEind\", \"TijdFileBegin\", \"TijdFileEind\"]] = df_T_B[[\"DatumFileBegin\", \"DatumFileEind\", \"TijdFileBegin\", \"TijdFileEind\"]].apply(pd.to_datetime)\n",
    "\n",
    "df_B_T = df_B_T.sort_values(by=['DatumFileBegin', 'TijdFileBegin'])\n",
    "df_T_B = df_T_B.sort_values(by=['DatumFileBegin', 'TijdFileBegin'])"
   ]
  },
  {
   "cell_type": "code",
   "execution_count": 10,
   "id": "3efa19fb",
   "metadata": {},
   "outputs": [
    {
     "data": {
      "text/plain": [
       "<AxesSubplot:xlabel='DatumFileBegin'>"
      ]
     },
     "execution_count": 10,
     "metadata": {},
     "output_type": "execute_result"
    },
    {
     "data": {
      "image/png": "[encoded data removed]",
      "text/plain": [
       "<Figure size 640x480 with 1 Axes>"
      ]
     },
     "metadata": {},
     "output_type": "display_data"
    }
   ],
   "source": [
    "df_plot = df_B_T[['FileDuur']]\n",
    "df_plot = df_plot.set_index(df_B_T.DatumFileBegin)\n",
    "df_plot['FileDuur'] = df_plot['FileDuur'].astype(str).astype(int)\n",
    "df_plot.plot()"
   ]
  },
  {
   "cell_type": "code",
   "execution_count": 11,
   "id": "7f891d24",
   "metadata": {},
   "outputs": [
    {
     "data": {
      "text/plain": [
       "<AxesSubplot:xlabel='DatumFileBegin'>"
      ]
     },
     "execution_count": 11,
     "metadata": {},
     "output_type": "execute_result"
    },
    {
     "data": {
      "image/png": "[encoded data removed]",
      "text/plain": [
       "<Figure size 640x480 with 1 Axes>"
      ]
     },
     "metadata": {},
     "output_type": "display_data"
    }
   ],
   "source": [
    "df_plot = df_T_B[['FileDuur']]\n",
    "df_plot = df_plot.set_index(df_T_B.DatumFileBegin)\n",
    "df_plot['FileDuur'] = df_plot['FileDuur'].astype(str).astype(int)\n",
    "df_plot.plot()"
   ]
  },
  {
   "cell_type": "code",
   "execution_count": 12,
   "id": "43304fb2",
   "metadata": {},
   "outputs": [],
   "source": [
    "df_B_T['starting_hour'] = df_B_T['TijdFileBegin'].dt.hour\n",
    "df_B_T['starting_minute'] = df_B_T['TijdFileBegin'].dt.minute\n",
    "df_B_T['Ending_hour'] = df_B_T['TijdFileEind'].dt.hour\n",
    "df_B_T['Ending_minute'] = df_B_T['TijdFileEind'].dt.minute\n",
    "\n",
    "df_T_B['starting_hour'] = df_T_B['TijdFileBegin'].dt.hour\n",
    "df_T_B['starting_minute'] = df_T_B['TijdFileBegin'].dt.minute\n",
    "df_T_B['Ending_hour'] = df_T_B['TijdFileEind'].dt.hour\n",
    "df_T_B['Ending_minute'] = df_T_B['TijdFileEind'].dt.minute"
   ]
  },
  {
   "cell_type": "code",
   "execution_count": 14,
   "id": "bc414db5",
   "metadata": {},
   "outputs": [],
   "source": [
    "df_B_T.to_csv('data/df_B_T.csv', index=False)\n",
    "df_T_B.to_csv('data/df_T_B.csv', index=False)"
   ]
  },
  {
   "cell_type": "code",
   "execution_count": 82,
   "id": "eaef621a",
   "metadata": {},
   "outputs": [],
   "source": [
    "def dataset_hourly_mapping(raw_df, state_from, state_to, start_date='2022-02-01', end_date='2022-10-01'):\n",
    "    pending_score = 0\n",
    "    data_rows = []\n",
    "    jem_times = []\n",
    "    \n",
    "    dates = pd.Series(pd.date_range('2022-02-01', '2022-10-01', freq='h'))\n",
    "    df_dates = pd.DataFrame({'Date':dates})\n",
    "\n",
    "    for dd in tqdm(list(df_dates['Date'])):\n",
    "        filtered_df = raw_df[(raw_df['DatumFileBegin'].dt.date==dd.date()) & (raw_df['starting_hour']==dd.hour)]\n",
    "\n",
    "        if filtered_df.shape[0] > 0:        \n",
    "            jem_time = 0 if pending_score == 0 else pending_score\n",
    "            for index, row_item in filtered_df.iterrows():\n",
    "                if row_item.starting_hour == row_item.Ending_hour:\n",
    "                    jem_time += row_item.Ending_minute - row_item.starting_minute\n",
    "                else:\n",
    "                    jem_time += 60 - row_item.starting_minute\n",
    "                    pending_score = row_item.Ending_minute\n",
    "            data_rows.append([dd, jem_time, state_from, state_to])\n",
    "        else:\n",
    "            if pending_score != 0:\n",
    "                jem_time = pending_score\n",
    "                data_rows.append([dd, jem_time, state_from, state_to])\n",
    "                pending_score = 0\n",
    "            else:\n",
    "                data_rows.append([dd, 0, state_from, state_to])\n",
    "    return data_rows"
   ]
  },
  {
   "cell_type": "code",
   "execution_count": 119,
   "id": "198d8d69",
   "metadata": {},
   "outputs": [
    {
     "name": "stderr",
     "output_type": "stream",
     "text": [
      "100%|█████████████████████████████████████████████████████████████████████████████| 5809/5809 [00:07<00:00, 760.79it/s]\n",
      "100%|█████████████████████████████████████████████████████████████████████████████| 5809/5809 [00:10<00:00, 558.95it/s]\n"
     ]
    }
   ],
   "source": [
    "data_rows = dataset_hourly_mapping(df_B_T, 'Breda', 'Tilburg')\n",
    "df_hourly_B_T = pd.DataFrame(data=data_rows, columns=['Date', 'Jem_Time', 'State_from', 'State_to'])\n",
    "df_hourly_B_T.to_csv('df_hourly_B_T.csv', index=False)\n",
    "\n",
    "data_rows = dataset_hourly_mapping(df_T_B, 'Tilburg', 'Breda')\n",
    "df_hourly_T_B = pd.DataFrame(data=data_rows, columns=['Date', 'Jem_Time', 'State_from', 'State_to'])\n",
    "df_hourly_T_B.to_csv('df_hourly_T_B.csv', index=False)"
   ]
  },
  {
   "cell_type": "code",
   "execution_count": 120,
   "id": "bc1cc0e9",
   "metadata": {},
   "outputs": [],
   "source": [
    "finalized_df = pd.concat([df_hourly_B_T, df_hourly_T_B], ignore_index=True)"
   ]
  },
  {
   "cell_type": "code",
   "execution_count": 121,
   "id": "42caf3ee",
   "metadata": {},
   "outputs": [
    {
     "data": {
      "text/plain": [
       "(11618, 4)"
      ]
     },
     "execution_count": 121,
     "metadata": {},
     "output_type": "execute_result"
    }
   ],
   "source": [
    "finalized_df.shape"
   ]
  },
  {
   "cell_type": "code",
   "execution_count": 122,
   "id": "ebc11c75",
   "metadata": {},
   "outputs": [],
   "source": [
    "finalized_df = finalized_df.sort_values(by=['Date', 'State_from'])"
   ]
  },
  {
   "cell_type": "code",
   "execution_count": 123,
   "id": "ad7804fb",
   "metadata": {},
   "outputs": [],
   "source": [
    "finalized_df.to_csv('data/finalized.csv', index=False)"
   ]
  }
 ],
 "metadata": {
  "kernelspec": {
   "display_name": "Python 3 (ipykernel)",
   "language": "python",
   "name": "python3"
  },
  "language_info": {
   "codemirror_mode": {
    "name": "ipython",
    "version": 3
   },
   "file_extension": ".py",
   "mimetype": "text/x-python",
   "name": "python",
   "nbconvert_exporter": "python",
   "pygments_lexer": "ipython3",
   "version": "3.9.7"
  }
 },
 "nbformat": 4,
 "nbformat_minor": 5
}
