{
 "cells": [
  {
   "cell_type": "code",
   "execution_count": 1,
   "id": "9564fd17",
   "metadata": {},
   "outputs": [
    {
     "name": "stderr",
     "output_type": "stream",
     "text": [
      "C:\\Users\\abdul\\anaconda3\\envs\\tf2x\\lib\\site-packages\\numpy\\_distributor_init.py:30: UserWarning: loaded more than 1 DLL from .libs:\n",
      "C:\\Users\\abdul\\anaconda3\\envs\\tf2x\\lib\\site-packages\\numpy\\.libs\\libopenblas.GK7GX5KEQ4F6UYO3P26ULGBQYHGQO7J4.gfortran-win_amd64.dll\n",
      "C:\\Users\\abdul\\anaconda3\\envs\\tf2x\\lib\\site-packages\\numpy\\.libs\\libopenblas.PYQHXLVVQ7VESDPUVUADXEVJOBGHJPAY.gfortran-win_amd64.dll\n",
      "  warnings.warn(\"loaded more than 1 DLL from .libs:\"\n"
     ]
    }
   ],
   "source": [
    "# Load the required libraries\n",
    "import nltk\n",
    "import spacy\n",
    "import pandas as pd\n",
    "import seaborn as sns\n",
    "from sklearn.feature_extraction.text import TfidfVectorizer\n",
    "from sklearn.metrics import accuracy_score, precision_score, recall_score, f1_score\n",
    "from sklearn.model_selection import train_test_split\n",
    "from sklearn.ensemble import RandomForestClassifier\n",
    "from sklearn.neighbors import KNeighborsClassifier\n",
    "from sklearn.preprocessing import LabelEncoder\n",
    "from sklearn.metrics import confusion_matrix, classification_report"
   ]
  },
  {
   "cell_type": "code",
   "execution_count": 2,
   "id": "71ecf1e8",
   "metadata": {},
   "outputs": [
    {
     "name": "stderr",
     "output_type": "stream",
     "text": [
      "[nltk_data] Error loading averaged_perceptron_tagger: <urlopen error\n",
      "[nltk_data]     [SSL: CERTIFICATE_VERIFY_FAILED] certificate verify\n",
      "[nltk_data]     failed: unable to get local issuer certificate\n",
      "[nltk_data]     (_ssl.c:1108)>\n"
     ]
    }
   ],
   "source": [
    "nltk.download('averaged_perceptron_tagger')\n",
    "\n",
    "# Load the English language model\n",
    "nlp = spacy.load('en_core_web_sm')"
   ]
  },
  {
   "cell_type": "code",
   "execution_count": 3,
   "id": "68a62713",
   "metadata": {},
   "outputs": [
    {
     "data": {
      "text/plain": [
       "Index(['label', 'text'], dtype='object')"
      ]
     },
     "execution_count": 3,
     "metadata": {},
     "output_type": "execute_result"
    }
   ],
   "source": [
    "# Load the dataset\n",
    "data = pd.read_csv('dataset/all-data.csv', encoding='ISO-8859-1', names=['label', 'text'])\n",
    "data.columns"
   ]
  },
  {
   "cell_type": "code",
   "execution_count": 4,
   "id": "4125a41a",
   "metadata": {},
   "outputs": [
    {
     "data": {
      "text/plain": [
       "<AxesSubplot:>"
      ]
     },
     "execution_count": 4,
     "metadata": {},
     "output_type": "execute_result"
    },
    {
     "data": {
      "image/png": "[encoded data removed]",
      "text/plain": [
       "<Figure size 640x480 with 1 Axes>"
      ]
     },
     "metadata": {},
     "output_type": "display_data"
    }
   ],
   "source": [
    "X = data['text']\n",
    "y = data['label']\n",
    "\n",
    "y.value_counts().plot(kind='bar')"
   ]
  },
  {
   "cell_type": "code",
   "execution_count": 5,
   "id": "1d9a746f",
   "metadata": {},
   "outputs": [],
   "source": [
    "# initialize a LabelEncoder object\n",
    "le = LabelEncoder()\n",
    "y_encoded = le.fit_transform(y)\n",
    "class_names = list(le.classes_)"
   ]
  },
  {
   "cell_type": "code",
   "execution_count": 6,
   "id": "043537f5",
   "metadata": {},
   "outputs": [],
   "source": [
    "X_train, X_test, y_train, y_test = train_test_split(X, y_encoded, test_size=0.2, random_state=1)"
   ]
  },
  {
   "cell_type": "code",
   "execution_count": 7,
   "id": "87d658b5",
   "metadata": {},
   "outputs": [],
   "source": [
    "# Preprocess the text data and extract features using TF-IDF\n",
    "tfidf = TfidfVectorizer(max_features=1000)\n",
    "X_train_feat = tfidf.fit_transform(X_train)\n",
    "X_test_feat = tfidf.transform(X_test)"
   ]
  },
  {
   "cell_type": "code",
   "execution_count": 8,
   "id": "402f9900",
   "metadata": {},
   "outputs": [],
   "source": [
    "from sklearn.svm import SVC"
   ]
  },
  {
   "cell_type": "code",
   "execution_count": 9,
   "id": "7ba6945b",
   "metadata": {},
   "outputs": [],
   "source": [
    "# Train the SVM model\n",
    "model = SVC(kernel='poly')\n",
    "model.fit(X_train_feat, y_train)\n",
    "\n",
    "# Evaluate the model on the testing set\n",
    "y_pred = model.predict(X_test_feat)"
   ]
  },
  {
   "cell_type": "code",
   "execution_count": 10,
   "id": "83b0d52b",
   "metadata": {},
   "outputs": [
    {
     "name": "stdout",
     "output_type": "stream",
     "text": [
      "Accuracy: 0.7010309278350515\n",
      "Precision: 0.7618369265966787\n",
      "Recall: 0.7010309278350515\n",
      "F1 Score: 0.6474616404820546\n",
      "              precision    recall  f1-score   support\n",
      "\n",
      "    negative       0.93      0.21      0.35       122\n",
      "     neutral       0.67      0.99      0.80       570\n",
      "    positive       0.87      0.31      0.46       278\n",
      "\n",
      "    accuracy                           0.70       970\n",
      "   macro avg       0.82      0.51      0.54       970\n",
      "weighted avg       0.76      0.70      0.65       970\n",
      "\n"
     ]
    }
   ],
   "source": [
    "accuracy = accuracy_score(y_test, y_pred)\n",
    "precision = precision_score(y_test, y_pred, average='weighted')\n",
    "recall = recall_score(y_test, y_pred, average='weighted')\n",
    "f1 = f1_score(y_test, y_pred, average='weighted')\n",
    "\n",
    "# Generate the classification report\n",
    "report = classification_report(y_test, y_pred, target_names=class_names)\n",
    "\n",
    "\n",
    "print(\"Accuracy:\", accuracy)\n",
    "print(\"Precision:\", precision)\n",
    "print(\"Recall:\", recall)\n",
    "print(\"F1 Score:\", f1)\n",
    "print(report)"
   ]
  },
  {
   "cell_type": "code",
   "execution_count": 11,
   "id": "cbb0e566",
   "metadata": {},
   "outputs": [],
   "source": [
    "# Perform POS tagging on the text data\n",
    "def pos_tagging(text):\n",
    "    tokens = nltk.word_tokenize(text)\n",
    "    return [pos for _, pos in nltk.pos_tag(tokens)]\n",
    "\n",
    "X_train_tags = [pos_tagging(tweet_text) for tweet_text in X_train]\n",
    "X_test_tags = [pos_tagging(tweet_text) for tweet_text in X_test]"
   ]
  },
  {
   "cell_type": "code",
   "execution_count": 12,
   "id": "139d5436",
   "metadata": {},
   "outputs": [],
   "source": [
    "# Combine the text data and POS tags\n",
    "X_train_combined = []\n",
    "for i in range(len(X_train)):\n",
    "    combined = list(X_train)[i] + \" \" + \" \".join(X_train_tags[i])\n",
    "    X_train_combined.append(combined)\n",
    "\n",
    "X_test_combined = []\n",
    "for i in range(len(X_test)):\n",
    "    combined = list(X_test)[i] + \" \" + \" \".join(X_test_tags[i])\n",
    "    X_test_combined.append(combined)"
   ]
  },
  {
   "cell_type": "code",
   "execution_count": 13,
   "id": "acc19e0a",
   "metadata": {},
   "outputs": [],
   "source": [
    "vectorizer = TfidfVectorizer(max_features=1000)\n",
    "X_train_tfidf = vectorizer.fit_transform(X_train_combined)\n",
    "X_test_tfidf = vectorizer.transform(X_test_combined)"
   ]
  },
  {
   "cell_type": "code",
   "execution_count": 14,
   "id": "5f08e2de",
   "metadata": {},
   "outputs": [],
   "source": [
    "# Train the SVM model\n",
    "model = SVC(kernel='poly')\n",
    "model.fit(X_train_tfidf, y_train)\n",
    "\n",
    "# Evaluate the model on the testing set\n",
    "y_pred = model.predict(X_test_tfidf)"
   ]
  },
  {
   "cell_type": "code",
   "execution_count": 15,
   "id": "de7f9c8a",
   "metadata": {},
   "outputs": [
    {
     "name": "stdout",
     "output_type": "stream",
     "text": [
      "Accuracy: 0.7360824742268042\n",
      "Precision: 0.7550369968557342\n",
      "Recall: 0.7360824742268042\n",
      "F1 Score: 0.7052130103206541\n"
     ]
    }
   ],
   "source": [
    "accuracy = accuracy_score(y_test, y_pred)\n",
    "precision = precision_score(y_test, y_pred, average='weighted')\n",
    "recall = recall_score(y_test, y_pred, average='weighted')\n",
    "f1 = f1_score(y_test, y_pred, average='weighted')\n",
    "\n",
    "print(\"Accuracy:\", accuracy)\n",
    "print(\"Precision:\", precision)\n",
    "print(\"Recall:\", recall)\n",
    "print(\"F1 Score:\", f1)"
   ]
  },
  {
   "cell_type": "code",
   "execution_count": 16,
   "id": "d303b54e",
   "metadata": {},
   "outputs": [],
   "source": [
    "# Process the dataset using the spaCy language model\n",
    "def extract_morphology(reviews):\n",
    "    data = []\n",
    "    for review in reviews:\n",
    "        doc = nlp(review)\n",
    "        lemma_list = [token.lemma_ for token in doc if not token.is_stop]\n",
    "        pos_list = [token.pos_ for token in doc if not token.is_stop]\n",
    "        processed_review = \" \".join([lemma + \"_\" + pos for lemma, pos in zip(lemma_list, pos_list)])\n",
    "        data.append(processed_review)\n",
    "    return data\n",
    "\n",
    "train_data = extract_morphology(X_train)\n",
    "test_data = extract_morphology(X_test)"
   ]
  },
  {
   "cell_type": "code",
   "execution_count": 18,
   "id": "1de1beec",
   "metadata": {},
   "outputs": [],
   "source": [
    "# Vectorize the text data using TF-IDF\n",
    "tfidf = TfidfVectorizer(max_features=1000)\n",
    "X_train_tfidf = tfidf.fit_transform(train_data)\n",
    "X_test_tfidf = tfidf.transform(test_data)"
   ]
  },
  {
   "cell_type": "code",
   "execution_count": 19,
   "id": "3fc69165",
   "metadata": {},
   "outputs": [],
   "source": [
    "# Train the SVM model\n",
    "model = SVC(kernel='poly')\n",
    "model.fit(X_train_tfidf, y_train)\n",
    "\n",
    "# Evaluate the model on the testing set\n",
    "y_pred = model.predict(X_test_tfidf)"
   ]
  },
  {
   "cell_type": "code",
   "execution_count": 20,
   "id": "bb9c9896",
   "metadata": {},
   "outputs": [
    {
     "name": "stdout",
     "output_type": "stream",
     "text": [
      "Accuracy: 0.6845360824742268\n",
      "Precision: 0.7048846485408022\n",
      "Recall: 0.6845360824742268\n",
      "F1 Score: 0.6295278675434572\n"
     ]
    }
   ],
   "source": [
    "accuracy = accuracy_score(y_test, y_pred)\n",
    "precision = precision_score(y_test, y_pred, average='weighted')\n",
    "recall = recall_score(y_test, y_pred, average='weighted')\n",
    "f1 = f1_score(y_test, y_pred, average='weighted')\n",
    "\n",
    "print(\"Accuracy:\", accuracy)\n",
    "print(\"Precision:\", precision)\n",
    "print(\"Recall:\", recall)\n",
    "print(\"F1 Score:\", f1)"
   ]
  },
  {
   "cell_type": "code",
   "execution_count": 21,
   "id": "b0351463",
   "metadata": {},
   "outputs": [
    {
     "data": {
      "text/plain": [
       "<AxesSubplot:>"
      ]
     },
     "execution_count": 21,
     "metadata": {},
     "output_type": "execute_result"
    },
    {
     "data": {
      "image/png": "[encoded data removed]",
      "text/plain": [
       "<Figure size 640x480 with 2 Axes>"
      ]
     },
     "metadata": {},
     "output_type": "display_data"
    }
   ],
   "source": [
    "# Calculate the confusion matrix\n",
    "cm = confusion_matrix(y_test, y_pred)\n",
    "\n",
    "# Plot the confusion matrix as a heatmap using seaborn\n",
    "sns.heatmap(cm, annot=True, cmap='Blues', xticklabels=class_names, yticklabels=class_names)"
   ]
  },
  {
   "cell_type": "code",
   "execution_count": null,
   "id": "3f21565f",
   "metadata": {},
   "outputs": [],
   "source": []
  }
 ],
 "metadata": {
  "kernelspec": {
   "display_name": "Python 3 (ipykernel)",
   "language": "python",
   "name": "python3"
  },
  "language_info": {
   "codemirror_mode": {
    "name": "ipython",
    "version": 3
   },
   "file_extension": ".py",
   "mimetype": "text/x-python",
   "name": "python",
   "nbconvert_exporter": "python",
   "pygments_lexer": "ipython3",
   "version": "3.8.0"
  }
 },
 "nbformat": 4,
 "nbformat_minor": 5
}
