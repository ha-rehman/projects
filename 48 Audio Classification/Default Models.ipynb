{
 "cells": [
  {
   "cell_type": "code",
   "execution_count": 1,
   "id": "e712561c",
   "metadata": {},
   "outputs": [],
   "source": [
    "# !pip install tab2img"
   ]
  },
  {
   "cell_type": "markdown",
   "id": "c5d613a3",
   "metadata": {},
   "source": [
    "## import libraries"
   ]
  },
  {
   "cell_type": "code",
   "execution_count": 1,
   "id": "2067e91b",
   "metadata": {},
   "outputs": [
    {
     "name": "stderr",
     "output_type": "stream",
     "text": [
      "2022-04-05 15:06:53.754621: I tensorflow/stream_executor/platform/default/dso_loader.cc:48] Successfully opened dynamic library libcudart.so.10.1\n"
     ]
    }
   ],
   "source": [
    "import warnings\n",
    "warnings.filterwarnings('ignore')\n",
    "\n",
    "import pickle\n",
    "import numpy as np\n",
    "import pandas as pd\n",
    "import matplotlib.pyplot as plt\n",
    "from statistics import mean\n",
    "\n",
    "from sklearn.preprocessing import StandardScaler\n",
    "from sklearn.model_selection import train_test_split\n",
    "from sklearn.metrics import accuracy_score, balanced_accuracy_score\n",
    "from sklearn.metrics import classification_report\n",
    "from sklearn.metrics import precision_recall_fscore_support\n",
    "\n",
    "from sklearn.ensemble import RandomForestClassifier, AdaBoostClassifier, GradientBoostingClassifier\n",
    "\n",
    "import tensorflow as tf\n",
    "from tensorflow.keras.models import Sequential \n",
    "from tensorflow.keras.layers import Dense,Activation,Dropout \n",
    "from tensorflow.keras.layers import BatchNormalization \n",
    "from tensorflow.keras.utils import to_categorical\n",
    "\n",
    "from tab2img.converter import Tab2Img"
   ]
  },
  {
   "cell_type": "markdown",
   "id": "eaccd884",
   "metadata": {},
   "source": [
    "# **Read CSV files**"
   ]
  },
  {
   "cell_type": "code",
   "execution_count": 2,
   "id": "f8cee4fc",
   "metadata": {},
   "outputs": [
    {
     "data": {
      "text/html": [
       "<div>\n",
       "<style scoped>\n",
       "    .dataframe tbody tr th:only-of-type {\n",
       "        vertical-align: middle;\n",
       "    }\n",
       "\n",
       "    .dataframe tbody tr th {\n",
       "        vertical-align: top;\n",
       "    }\n",
       "\n",
       "    .dataframe thead th {\n",
       "        text-align: right;\n",
       "    }\n",
       "</style>\n",
       "<table border=\"1\" class=\"dataframe\">\n",
       "  <thead>\n",
       "    <tr style=\"text-align: right;\">\n",
       "      <th></th>\n",
       "      <th>Category of Trade</th>\n",
       "      <th>Volume/ Amount</th>\n",
       "      <th>Volume Type</th>\n",
       "      <th>Load Port</th>\n",
       "      <th>Discharge Port</th>\n",
       "      <th>Dangerous Goods</th>\n",
       "      <th>Organisation</th>\n",
       "    </tr>\n",
       "  </thead>\n",
       "  <tbody>\n",
       "    <tr>\n",
       "      <th>0</th>\n",
       "      <td>7</td>\n",
       "      <td>26,726</td>\n",
       "      <td>1</td>\n",
       "      <td>27</td>\n",
       "      <td>34</td>\n",
       "      <td>2</td>\n",
       "      <td>73</td>\n",
       "    </tr>\n",
       "    <tr>\n",
       "      <th>1</th>\n",
       "      <td>5</td>\n",
       "      <td>2,600</td>\n",
       "      <td>1</td>\n",
       "      <td>44</td>\n",
       "      <td>54</td>\n",
       "      <td>2</td>\n",
       "      <td>69</td>\n",
       "    </tr>\n",
       "    <tr>\n",
       "      <th>2</th>\n",
       "      <td>7</td>\n",
       "      <td>10,710</td>\n",
       "      <td>1</td>\n",
       "      <td>8</td>\n",
       "      <td>0</td>\n",
       "      <td>2</td>\n",
       "      <td>12</td>\n",
       "    </tr>\n",
       "    <tr>\n",
       "      <th>3</th>\n",
       "      <td>7</td>\n",
       "      <td>21,611</td>\n",
       "      <td>1</td>\n",
       "      <td>8</td>\n",
       "      <td>40</td>\n",
       "      <td>2</td>\n",
       "      <td>12</td>\n",
       "    </tr>\n",
       "    <tr>\n",
       "      <th>4</th>\n",
       "      <td>7</td>\n",
       "      <td>5,139</td>\n",
       "      <td>1</td>\n",
       "      <td>6</td>\n",
       "      <td>0</td>\n",
       "      <td>2</td>\n",
       "      <td>12</td>\n",
       "    </tr>\n",
       "  </tbody>\n",
       "</table>\n",
       "</div>"
      ],
      "text/plain": [
       "   Category of Trade Volume/ Amount  Volume Type  Load Port  Discharge Port  \\\n",
       "0                  7         26,726            1         27              34   \n",
       "1                  5          2,600            1         44              54   \n",
       "2                  7         10,710            1          8               0   \n",
       "3                  7         21,611            1          8              40   \n",
       "4                  7          5,139            1          6               0   \n",
       "\n",
       "   Dangerous Goods  Organisation  \n",
       "0                2            73  \n",
       "1                2            69  \n",
       "2                2            12  \n",
       "3                2            12  \n",
       "4                2            12  "
      ]
     },
     "execution_count": 2,
     "metadata": {},
     "output_type": "execute_result"
    }
   ],
   "source": [
    "# read file\n",
    "df  = pd.read_csv(\"dataset.csv\")\n",
    "df.head()"
   ]
  },
  {
   "cell_type": "markdown",
   "id": "34899ec5",
   "metadata": {},
   "source": [
    "# **Seperate features and target**"
   ]
  },
  {
   "cell_type": "code",
   "execution_count": 3,
   "id": "0b4fe543",
   "metadata": {},
   "outputs": [],
   "source": [
    "# seperate features and target column\n",
    "features = [\"Category of Trade\", \"Volume Type\", \"Load Port\", \"Discharge Port\", \"Dangerous Goods\"]\n",
    "target = \"Organisation\"\n",
    "\n",
    "# copy the feqatures and class dataframe in X and y variable\n",
    "X = df[features]\n",
    "y = df[target]"
   ]
  },
  {
   "cell_type": "markdown",
   "id": "f232f74f",
   "metadata": {},
   "source": [
    "# **Scale features and train test split**"
   ]
  },
  {
   "cell_type": "code",
   "execution_count": 4,
   "id": "c8d68f58",
   "metadata": {},
   "outputs": [],
   "source": [
    "# scalling feature value between the range of 0-1\n",
    "ss = StandardScaler()\n",
    "X = ss.fit_transform(X)\n"
   ]
  },
  {
   "cell_type": "markdown",
   "id": "9c33dda2",
   "metadata": {},
   "source": [
    "## customize functions"
   ]
  },
  {
   "cell_type": "code",
   "execution_count": 5,
   "id": "fc7f66e3",
   "metadata": {},
   "outputs": [],
   "source": [
    "#list of evaluation scores\n",
    "evalution_scores = []\n",
    "\n",
    "# save saller\n",
    "pkl_file = open('target_encoder.pkl', 'rb')\n",
    "le_target = pickle.load(pkl_file) \n",
    "\n",
    "# function for getting class labels via class integar using label encoder\n",
    "def get_classes(y_test):\n",
    "    y_test = y_test.unique()\n",
    "    print(len(y_test))\n",
    "    return le_target.inverse_transform(y_test)\n",
    "\n",
    "# get unique classes in test set\n",
    "def get_str_classes(y_test):\n",
    "    y_test = y_test.unique()\n",
    "    return [str(int) for int in y_test]\n",
    "\n",
    "# split dataset in training and testing set \n",
    "def get_train_test_split():\n",
    "    return train_test_split(X, y, test_size=0.2, random_state=42)\n",
    "\n",
    "\n",
    "# split data into train, test and validation set with splitted feature and class\n",
    "def get_train_test_val_split(X, y):\n",
    "    X_train, X_test, y_train, y_test = train_test_split(X, y, test_size=0.1, random_state=42)\n",
    "    X_train, X_val, y_train, y_val = train_test_split(X_train, y_train, test_size=0.22, random_state=2)\n",
    "    return X_train, X_test, X_val, y_train, y_test, y_val\n",
    "\n",
    "# split data into train, test and validation set with joined feature and class\n",
    "def get_train_test_val_split_df():\n",
    "    train, test = train_test_split(df, test_size=0.2, random_state=42)\n",
    "    train, val = train_test_split(train, test_size=0.25, random_state=2)\n",
    "    return train, test, val\n",
    "\n",
    "\n",
    "# compute the accuracy using true and predicted labels\n",
    "def compute_accuracy(y_true, y_pred):\n",
    "    correct_predictions = 0\n",
    "    # iterate over each label and check\n",
    "    for true, predicted in zip(y_true, y_pred):\n",
    "        if true == predicted:\n",
    "            correct_predictions += 1\n",
    "    # compute the accuracy\n",
    "    accuracy = correct_predictions/len(y_true)\n",
    "    return accuracy\n",
    "\n",
    "\n",
    "# compute other evaluation measures and print\n",
    "def make_predictions(y_test, y_pred):\n",
    "    accuracy=accuracy_score(y_test, y_pred)\n",
    "    P, R, F, S = precision_recall_fscore_support(y_test, y_pred, average=\"weighted\")\n",
    "    \n",
    "    accuracy = \"{:.4f}\".format(accuracy)\n",
    "    P = \"{:.4f}\".format(P)\n",
    "    R = \"{:.4f}\".format(R)\n",
    "    F = \"{:.4f}\".format(F)\n",
    "\n",
    "    print(\"Accuracy Score :\", accuracy)\n",
    "    print(\"=======================\\n\")\n",
    "\n",
    "    print(\"Precision Score :\", P)\n",
    "    print(\"========================\\n\")\n",
    "\n",
    "    print(\"Recall Score :\", R)\n",
    "    print(\"=====================\\n\")\n",
    "\n",
    "    print(\"F1 Score :\", F)\n",
    "    print(\"=================\\n\")\n",
    "\n",
    "    return accuracy, P, R, F\n",
    "\n",
    "\n",
    "# convert the vector input into matrix for deep leaning model\n",
    "def DL_preprocessing(train, target):\n",
    "    target = target.to_numpy()\n",
    "    model = Tab2Img()\n",
    "    images = model.fit_transform(train, target)\n",
    "    \n",
    "    size = (200, 200)\n",
    "    reshaped_images = []\n",
    "    for img in images:\n",
    "        img = np.resize(img, (img.shape[0], img.shape[1], 3))\n",
    "        reshaped_images.append(tf.keras.preprocessing.image.smart_resize(\n",
    "            img, size, interpolation='bilinear'\n",
    "        ))\n",
    "    reshaped_images = np.array(reshaped_images)\n",
    "    target = tf.keras.utils.to_categorical(target, 81)\n",
    "    return reshaped_images, target\n",
    "\n",
    "# plot graph of accuracy and loss using history object\n",
    "def plot_graph(history):\n",
    "    print(history.history.keys())\n",
    "    # summarize history for accuracy\n",
    "    plt.plot(history.history['accuracy'])\n",
    "    plt.plot(history.history['val_accuracy'])\n",
    "    plt.title('model accuracy')\n",
    "    plt.ylabel('accuracy')\n",
    "    plt.xlabel('epoch')\n",
    "    plt.legend(['train', 'test'], loc='upper left')\n",
    "    plt.show()\n",
    "    # summarize history for loss\n",
    "    plt.plot(history.history['loss'])\n",
    "    plt.plot(history.history['val_loss'])\n",
    "    plt.title('model loss')\n",
    "    plt.ylabel('loss')\n",
    "    plt.xlabel('epoch')\n",
    "    plt.legend(['train', 'test'], loc='upper left')\n",
    "    plt.show()"
   ]
  },
  {
   "cell_type": "markdown",
   "id": "a4b18d7d",
   "metadata": {},
   "source": [
    "# **Machine Learning Models**\n",
    "## **Random Forest**"
   ]
  },
  {
   "cell_type": "code",
   "execution_count": 6,
   "id": "8abe2f56",
   "metadata": {},
   "outputs": [
    {
     "name": "stdout",
     "output_type": "stream",
     "text": [
      "\n",
      "shape of training features : (17271, 5)\n",
      "=======================================\n",
      "\n",
      " shape of training labels : (17271,)\n",
      "====================================\n",
      "\n",
      " shape of testing features : (4318, 5)\n",
      "======================================\n",
      "\n",
      " shape of testing labels : (4318,)\n",
      "==================================\n"
     ]
    }
   ],
   "source": [
    "X_train, X_test, y_train, y_test = get_train_test_split()\n",
    "print(\"\\nshape of training features :\", X_train.shape)\n",
    "print(\"=======================================\")\n",
    "print(\"\\n shape of training labels :\", y_train.shape)\n",
    "print(\"====================================\")\n",
    "print(\"\\n shape of testing features :\", X_test.shape)\n",
    "print(\"======================================\")\n",
    "print(\"\\n shape of testing labels :\", y_test.shape)\n",
    "print(\"==================================\")"
   ]
  },
  {
   "cell_type": "code",
   "execution_count": 7,
   "id": "3e33a7be",
   "metadata": {},
   "outputs": [
    {
     "data": {
      "text/plain": [
       "<BarContainer object of 5 artists>"
      ]
     },
     "execution_count": 7,
     "metadata": {},
     "output_type": "execute_result"
    },
    {
     "data": {
      "image/png": "[encoded data removed]",
      "text/plain": [
       "<Figure size 432x288 with 1 Axes>"
      ]
     },
     "metadata": {
      "needs_background": "light"
     },
     "output_type": "display_data"
    }
   ],
   "source": [
    "# model initialization\n",
    "clf = RandomForestClassifier()\n",
    "# model training\n",
    "clf = clf.fit(X_train, y_train)\n",
    "plt.barh(features, clf.feature_importances_)"
   ]
  },
  {
   "cell_type": "code",
   "execution_count": 8,
   "id": "d63a19c6",
   "metadata": {},
   "outputs": [
    {
     "name": "stdout",
     "output_type": "stream",
     "text": [
      "Accuracy Score : 0.7911\n",
      "=======================\n",
      "\n",
      "Precision Score : 0.7939\n",
      "========================\n",
      "\n",
      "Recall Score : 0.7911\n",
      "=====================\n",
      "\n",
      "F1 Score : 0.7647\n",
      "=================\n",
      "\n"
     ]
    }
   ],
   "source": [
    "# model predictions\n",
    "y_pred = clf.predict(X_test)\n",
    "# evaluate results\n",
    "Acc, P, R, F = make_predictions(y_test, y_pred)\n",
    "evalution_scores.append([\"Random Forest\", Acc, P, R, F])"
   ]
  },
  {
   "cell_type": "markdown",
   "id": "3c5cc52a",
   "metadata": {},
   "source": [
    "# Gradient Boosting"
   ]
  },
  {
   "cell_type": "code",
   "execution_count": 9,
   "id": "25e68117",
   "metadata": {},
   "outputs": [
    {
     "name": "stdout",
     "output_type": "stream",
     "text": [
      "\n",
      "shape of training features : (17271, 5)\n",
      "=======================================\n",
      "\n",
      " shape of training labels : (17271,)\n",
      "====================================\n",
      "\n",
      " shape of testing features : (4318, 5)\n",
      "======================================\n",
      "\n",
      " shape of testing labels : (4318,)\n",
      "==================================\n"
     ]
    }
   ],
   "source": [
    "# train test split\n",
    "X_train, X_test, y_train, y_test = get_train_test_split()\n",
    "print(\"\\nshape of training features :\", X_train.shape)\n",
    "print(\"=======================================\")\n",
    "print(\"\\n shape of training labels :\", y_train.shape)\n",
    "print(\"====================================\")\n",
    "print(\"\\n shape of testing features :\", X_test.shape)\n",
    "print(\"======================================\")\n",
    "print(\"\\n shape of testing labels :\", y_test.shape)\n",
    "print(\"==================================\")"
   ]
  },
  {
   "cell_type": "code",
   "execution_count": 10,
   "id": "093df8d7",
   "metadata": {},
   "outputs": [
    {
     "data": {
      "text/plain": [
       "<BarContainer object of 5 artists>"
      ]
     },
     "execution_count": 10,
     "metadata": {},
     "output_type": "execute_result"
    },
    {
     "data": {
      "image/png": "[encoded data removed]",
      "text/plain": [
       "<Figure size 432x288 with 1 Axes>"
      ]
     },
     "metadata": {
      "needs_background": "light"
     },
     "output_type": "display_data"
    }
   ],
   "source": [
    "# model initialization\n",
    "clf =  GradientBoostingClassifier()\n",
    "# model training\n",
    "clf = clf.fit(X_train, y_train)\n",
    "plt.barh(features, clf.feature_importances_)"
   ]
  },
  {
   "cell_type": "code",
   "execution_count": 11,
   "id": "810f0ca1",
   "metadata": {},
   "outputs": [
    {
     "name": "stdout",
     "output_type": "stream",
     "text": [
      "Accuracy Score : 0.0195\n",
      "=======================\n",
      "\n",
      "Precision Score : 0.0807\n",
      "========================\n",
      "\n",
      "Recall Score : 0.0195\n",
      "=====================\n",
      "\n",
      "F1 Score : 0.0231\n",
      "=================\n",
      "\n"
     ]
    }
   ],
   "source": [
    "# model predictions\n",
    "y_pred = clf.predict(X_test)\n",
    "# evaluate results\n",
    "Acc, P, R, F = make_predictions(y_test, y_pred)\n",
    "evalution_scores.append([\"Gradient Boosting\", Acc, P, R, F])"
   ]
  },
  {
   "cell_type": "markdown",
   "id": "71dccf14",
   "metadata": {},
   "source": [
    "# **DL Models**\n",
    "## **Preprocessing**"
   ]
  },
  {
   "cell_type": "code",
   "execution_count": 12,
   "id": "a8d6698c",
   "metadata": {},
   "outputs": [
    {
     "name": "stderr",
     "output_type": "stream",
     "text": [
      "2022-04-05 15:09:23.351882: I tensorflow/stream_executor/platform/default/dso_loader.cc:48] Successfully opened dynamic library libcuda.so.1\n",
      "2022-04-05 15:09:23.573366: I tensorflow/stream_executor/cuda/cuda_gpu_executor.cc:982] successful NUMA node read from SysFS had negative value (-1), but there must be at least one NUMA node, so returning NUMA node zero\n",
      "2022-04-05 15:09:23.574794: I tensorflow/core/common_runtime/gpu/gpu_device.cc:1716] Found device 0 with properties: \n",
      "pciBusID: 0000:01:00.0 name: NVIDIA GeForce GTX 1080 Ti computeCapability: 6.1\n",
      "coreClock: 1.607GHz coreCount: 28 deviceMemorySize: 10.91GiB deviceMemoryBandwidth: 451.17GiB/s\n",
      "2022-04-05 15:09:23.574941: I tensorflow/stream_executor/platform/default/dso_loader.cc:48] Successfully opened dynamic library libcudart.so.10.1\n",
      "2022-04-05 15:09:23.846887: I tensorflow/stream_executor/platform/default/dso_loader.cc:48] Successfully opened dynamic library libcublas.so.10\n",
      "2022-04-05 15:09:23.960524: I tensorflow/stream_executor/platform/default/dso_loader.cc:48] Successfully opened dynamic library libcufft.so.10\n",
      "2022-04-05 15:09:23.985374: I tensorflow/stream_executor/platform/default/dso_loader.cc:48] Successfully opened dynamic library libcurand.so.10\n",
      "2022-04-05 15:09:24.225653: I tensorflow/stream_executor/platform/default/dso_loader.cc:48] Successfully opened dynamic library libcusolver.so.10\n",
      "2022-04-05 15:09:24.260561: I tensorflow/stream_executor/platform/default/dso_loader.cc:48] Successfully opened dynamic library libcusparse.so.10\n",
      "2022-04-05 15:09:24.260814: W tensorflow/stream_executor/platform/default/dso_loader.cc:59] Could not load dynamic library 'libcudnn.so.7'; dlerror: libcudnn.so.7: cannot open shared object file: No such file or directory\n",
      "2022-04-05 15:09:24.260823: W tensorflow/core/common_runtime/gpu/gpu_device.cc:1753] Cannot dlopen some GPU libraries. Please make sure the missing libraries mentioned above are installed properly if you would like to use GPU. Follow the guide at https://www.tensorflow.org/install/gpu for how to download and setup the required libraries for your platform.\n",
      "Skipping registering GPU devices...\n",
      "2022-04-05 15:09:24.290128: I tensorflow/core/platform/cpu_feature_guard.cc:142] This TensorFlow binary is optimized with oneAPI Deep Neural Network Library (oneDNN)to use the following CPU instructions in performance-critical operations:  AVX2 FMA\n",
      "To enable them in other operations, rebuild TensorFlow with the appropriate compiler flags.\n",
      "2022-04-05 15:09:24.425485: I tensorflow/core/platform/profile_utils/cpu_utils.cc:104] CPU Frequency: 3199980000 Hz\n",
      "2022-04-05 15:09:24.427146: I tensorflow/compiler/xla/service/service.cc:168] XLA service 0x558d31f6af60 initialized for platform Host (this does not guarantee that XLA will be used). Devices:\n",
      "2022-04-05 15:09:24.427202: I tensorflow/compiler/xla/service/service.cc:176]   StreamExecutor device (0): Host, Default Version\n",
      "2022-04-05 15:09:24.444691: I tensorflow/core/common_runtime/gpu/gpu_device.cc:1257] Device interconnect StreamExecutor with strength 1 edge matrix:\n",
      "2022-04-05 15:09:24.444759: I tensorflow/core/common_runtime/gpu/gpu_device.cc:1263]      \n"
     ]
    }
   ],
   "source": [
    "# convert vector data into image shape for deep learning model\n",
    "train, target = DL_preprocessing(X, y)"
   ]
  },
  {
   "cell_type": "markdown",
   "id": "800a76c2",
   "metadata": {},
   "source": [
    "# Resnet"
   ]
  },
  {
   "cell_type": "code",
   "execution_count": 13,
   "id": "7e60f817",
   "metadata": {},
   "outputs": [
    {
     "name": "stdout",
     "output_type": "stream",
     "text": [
      "\n",
      "shape of training features : (15155, 200, 200, 3)\n",
      "=======================================\n",
      "\n",
      " shape of training labels : (15155, 81)\n",
      "====================================\n",
      "\n",
      " shape of testing features : (2159, 200, 200, 3)\n",
      "======================================\n",
      "\n",
      " shape of testing labels : (2159, 81)\n",
      "==================================\n",
      "\n",
      " shape of validation features : (4275, 200, 200, 3)\n",
      "========================================\n",
      "\n",
      " shape of validation labels : (4275, 81)\n",
      "=====================================\n"
     ]
    }
   ],
   "source": [
    "# train test split\n",
    "X_train, X_test, X_val, y_train, y_test, y_val = get_train_test_val_split(train, target)\n",
    "print(\"\\nshape of training features :\", X_train.shape)\n",
    "print(\"=======================================\")\n",
    "print(\"\\n shape of training labels :\", y_train.shape)\n",
    "print(\"====================================\")\n",
    "print(\"\\n shape of testing features :\", X_test.shape)\n",
    "print(\"======================================\")\n",
    "print(\"\\n shape of testing labels :\", y_test.shape)\n",
    "print(\"==================================\")\n",
    "print(\"\\n shape of validation features :\", X_val.shape)\n",
    "print(\"========================================\")\n",
    "print(\"\\n shape of validation labels :\", y_val.shape)\n",
    "print(\"=====================================\")"
   ]
  },
  {
   "cell_type": "code",
   "execution_count": 14,
   "id": "baf35fa7",
   "metadata": {},
   "outputs": [],
   "source": [
    "# input shape configure\n",
    "input_t = tf.keras.Input(shape=(200, 200, 3))\n",
    "res_model = tf.keras.applications.ResNet50(include_top=False, \n",
    "                    weights=\"imagenet\", input_tensor=input_t)\n",
    "\n",
    "#freeze layers\n",
    "for layer in res_model.layers:\n",
    "    layer.trainable = False\n",
    "    \n",
    "# unfreeze layers\n",
    "for layer in res_model.layers[-5:]:\n",
    "    layer.trainable = True\n",
    "\n",
    "# to_res = (224, 224)\n",
    "model = tf.keras.models.Sequential()  \n",
    "model.add(res_model)\n",
    "model.add(tf.keras.layers.Flatten())\n",
    "model.add(tf.keras.layers.Dense(81, activation='softmax'))"
   ]
  },
  {
   "cell_type": "code",
   "execution_count": null,
   "id": "8449712c",
   "metadata": {},
   "outputs": [
    {
     "name": "stderr",
     "output_type": "stream",
     "text": [
      "2022-04-05 15:13:17.701319: W tensorflow/core/framework/cpu_allocator_impl.cc:81] Allocation of 7274400000 exceeds 10% of free system memory.\n"
     ]
    },
    {
     "name": "stdout",
     "output_type": "stream",
     "text": [
      "Epoch 1/10\n",
      "758/758 [==============================] - 467s 616ms/step - loss: 5.2161 - accuracy: 0.2218 - val_loss: 3.7475 - val_accuracy: 0.3443\n",
      "Epoch 2/10\n",
      "758/758 [==============================] - 437s 576ms/step - loss: 3.0705 - accuracy: 0.3516 - val_loss: 3.2991 - val_accuracy: 0.3579\n",
      "Epoch 3/10\n",
      "758/758 [==============================] - 440s 580ms/step - loss: 2.4150 - accuracy: 0.4165 - val_loss: 2.3720 - val_accuracy: 0.5130\n",
      "Epoch 4/10\n",
      "758/758 [==============================] - ETA: 0s - loss: 2.0509 - accuracy: 0.4625"
     ]
    }
   ],
   "source": [
    "# early stopping\n",
    "check_point = tf.keras.callbacks.ModelCheckpoint(filepath=\"default_resnet.h5\",\n",
    "                                          monitor=\"val_accuracy\",\n",
    "                                          mode=\"max\",\n",
    "                                          save_best_only=True,\n",
    "                                          )\n",
    "\n",
    "# model compilation\n",
    "model.compile(loss='categorical_crossentropy',\n",
    "              optimizer= tf.keras.optimizers.RMSprop(),\n",
    "              metrics=['accuracy'])\n",
    " \n",
    "# model training\n",
    "history = model.fit(X_train, y_train, batch_size=20, epochs=10, verbose=1,\n",
    "                validation_data=(X_val, y_val),\n",
    "                callbacks=[check_point])"
   ]
  },
  {
   "cell_type": "code",
   "execution_count": 18,
   "id": "ddaa7624",
   "metadata": {},
   "outputs": [
    {
     "name": "stdout",
     "output_type": "stream",
     "text": [
      "Model: \"sequential\"\n",
      "_________________________________________________________________\n",
      "Layer (type)                 Output Shape              Param #   \n",
      "=================================================================\n",
      "resnet50 (Functional)        (None, 7, 7, 2048)        23587712  \n",
      "_________________________________________________________________\n",
      "flatten (Flatten)            (None, 100352)            0         \n",
      "_________________________________________________________________\n",
      "dense (Dense)                (None, 81)                8128593   \n",
      "=================================================================\n",
      "Total params: 31,716,305\n",
      "Trainable params: 9,183,313\n",
      "Non-trainable params: 22,532,992\n",
      "_________________________________________________________________\n",
      "None\n",
      "dict_keys(['loss', 'accuracy', 'val_loss', 'val_accuracy'])\n"
     ]
    },
    {
     "data": {
      "image/png": "[encoded data removed]",
      "text/plain": [
       "<Figure size 432x288 with 1 Axes>"
      ]
     },
     "metadata": {
      "needs_background": "light"
     },
     "output_type": "display_data"
    },
    {
     "data": {
      "image/png": "[encoded data removed]",
      "text/plain": [
       "<Figure size 432x288 with 1 Axes>"
      ]
     },
     "metadata": {
      "needs_background": "light"
     },
     "output_type": "display_data"
    }
   ],
   "source": [
    "print(model.summary())\n",
    "plot_graph(history)"
   ]
  },
  {
   "cell_type": "code",
   "execution_count": 19,
   "id": "eb253b3e",
   "metadata": {},
   "outputs": [
    {
     "name": "stdout",
     "output_type": "stream",
     "text": [
      "Accuracy Score : 0.5994\n",
      "=======================\n",
      "\n",
      "Precision Score : 0.5702\n",
      "========================\n",
      "\n",
      "Recall Score : 0.5994\n",
      "=====================\n",
      "\n",
      "F1 Score : 0.5429\n",
      "=================\n",
      "\n"
     ]
    }
   ],
   "source": [
    "model.load_weights('default_resnet.h5')\n",
    "# make prediction using trained model\n",
    "predictions = model.predict(X_test)\n",
    "# calculate accuracy and other evaluation measures\n",
    "y_pred = [np.argmax(prediction) for prediction in predictions]\n",
    "yy_test = [list(yy).index(1) for yy in y_test]\n",
    "Acc, P, R, F = make_predictions(yy_test, y_pred) \n",
    "evalution_scores.append([\"ResNet\", Acc, P, R, F])"
   ]
  },
  {
   "cell_type": "markdown",
   "id": "5b64cb93",
   "metadata": {},
   "source": [
    "# MobilenNet"
   ]
  },
  {
   "cell_type": "code",
   "execution_count": 20,
   "id": "172490e4",
   "metadata": {},
   "outputs": [
    {
     "name": "stdout",
     "output_type": "stream",
     "text": [
      "\n",
      "shape of training features : (15155, 200, 200, 3)\n",
      "=======================================\n",
      "\n",
      " shape of training labels : (15155, 81)\n",
      "====================================\n",
      "\n",
      " shape of testing features : (2159, 200, 200, 3)\n",
      "======================================\n",
      "\n",
      " shape of testing labels : (2159, 81)\n",
      "==================================\n",
      "\n",
      " shape of validation features : (4275, 200, 200, 3)\n",
      "========================================\n",
      "\n",
      " shape of validation labels : (4275, 81)\n",
      "=====================================\n"
     ]
    }
   ],
   "source": [
    "X_train, X_test, X_val, y_train, y_test, y_val = get_train_test_val_split(train, target)\n",
    "print(\"\\nshape of training features :\", X_train.shape)\n",
    "print(\"=======================================\")\n",
    "print(\"\\n shape of training labels :\", y_train.shape)\n",
    "print(\"====================================\")\n",
    "print(\"\\n shape of testing features :\", X_test.shape)\n",
    "print(\"======================================\")\n",
    "print(\"\\n shape of testing labels :\", y_test.shape)\n",
    "print(\"==================================\")\n",
    "print(\"\\n shape of validation features :\", X_val.shape)\n",
    "print(\"========================================\")\n",
    "print(\"\\n shape of validation labels :\", y_val.shape)\n",
    "print(\"=====================================\")"
   ]
  },
  {
   "cell_type": "code",
   "execution_count": 21,
   "id": "6fe5ae39",
   "metadata": {},
   "outputs": [
    {
     "name": "stdout",
     "output_type": "stream",
     "text": [
      "WARNING:tensorflow:`input_shape` is undefined or non-square, or `rows` is not in [128, 160, 192, 224]. Weights for input shape (224, 224) will be loaded as the default.\n"
     ]
    }
   ],
   "source": [
    "input_t = tf.keras.Input(shape=(200, 200, 3))\n",
    "mobile_model = tf.keras.applications.MobileNet(include_top=False,\n",
    "                                    weights=\"imagenet\",\n",
    "                                    input_tensor=input_t)\n",
    "\n",
    "for layer in mobile_model.layers[:143]:\n",
    "    layer.trainable = False\n",
    "\n",
    "to_res = (224, 224)\n",
    "model = tf.keras.models.Sequential()  \n",
    "model.add(mobile_model)\n",
    "model.add(tf.keras.layers.Flatten())\n",
    "model.add(tf.keras.layers.Dense(81, activation='softmax'))"
   ]
  },
  {
   "cell_type": "code",
   "execution_count": 22,
   "id": "d6d67998",
   "metadata": {
    "scrolled": true
   },
   "outputs": [
    {
     "name": "stderr",
     "output_type": "stream",
     "text": [
      "2022-04-05 16:40:41.055444: W tensorflow/core/framework/cpu_allocator_impl.cc:81] Allocation of 7274400000 exceeds 10% of free system memory.\n"
     ]
    },
    {
     "name": "stdout",
     "output_type": "stream",
     "text": [
      "Epoch 1/10\n",
      "60/60 [==============================] - 205s 3s/step - loss: 2.4164 - accuracy: 0.3982 - val_loss: 1.6946 - val_accuracy: 0.5422\n",
      "Epoch 2/10\n",
      "60/60 [==============================] - 114s 2s/step - loss: 1.3731 - accuracy: 0.6220 - val_loss: 1.3209 - val_accuracy: 0.6126\n",
      "Epoch 3/10\n",
      "60/60 [==============================] - 114s 2s/step - loss: 1.1066 - accuracy: 0.6791 - val_loss: 1.1379 - val_accuracy: 0.6760\n",
      "Epoch 4/10\n",
      "60/60 [==============================] - 112s 2s/step - loss: 0.9744 - accuracy: 0.7062 - val_loss: 1.0378 - val_accuracy: 0.7053\n",
      "Epoch 5/10\n",
      "60/60 [==============================] - 115s 2s/step - loss: 0.8938 - accuracy: 0.7223 - val_loss: 0.9611 - val_accuracy: 0.7163\n",
      "Epoch 6/10\n",
      "60/60 [==============================] - 112s 2s/step - loss: 0.8391 - accuracy: 0.7343 - val_loss: 0.9419 - val_accuracy: 0.6868\n",
      "Epoch 7/10\n",
      "60/60 [==============================] - 119s 2s/step - loss: 0.7993 - accuracy: 0.7422 - val_loss: 0.8989 - val_accuracy: 0.7338\n",
      "Epoch 8/10\n",
      "60/60 [==============================] - 111s 2s/step - loss: 0.7684 - accuracy: 0.7533 - val_loss: 0.9041 - val_accuracy: 0.7132\n",
      "Epoch 9/10\n",
      "60/60 [==============================] - 112s 2s/step - loss: 0.7402 - accuracy: 0.7574 - val_loss: 0.8580 - val_accuracy: 0.7343\n",
      "Epoch 10/10\n",
      "60/60 [==============================] - 113s 2s/step - loss: 0.7211 - accuracy: 0.7604 - val_loss: 0.8371 - val_accuracy: 0.7408\n"
     ]
    }
   ],
   "source": [
    "check_point = tf.keras.callbacks.ModelCheckpoint(filepath=\"default_mobilenet.h5\",\n",
    "                                          monitor=\"val_accuracy\",\n",
    "                                          mode=\"max\",\n",
    "                                          save_best_only=True,\n",
    "                                          )\n",
    "\n",
    "model.compile(loss='categorical_crossentropy',\n",
    "              optimizer= tf.keras.optimizers.RMSprop(lr=2e-5),\n",
    "              metrics=['accuracy'])\n",
    "\n",
    "history = model.fit(X_train, y_train, batch_size=256, epochs=10, verbose=1,\n",
    "                        validation_data=(X_val, y_val),\n",
    "                        callbacks=[check_point])"
   ]
  },
  {
   "cell_type": "code",
   "execution_count": 23,
   "id": "adeb95e7",
   "metadata": {},
   "outputs": [
    {
     "name": "stdout",
     "output_type": "stream",
     "text": [
      "Model: \"sequential_1\"\n",
      "_________________________________________________________________\n",
      "Layer (type)                 Output Shape              Param #   \n",
      "=================================================================\n",
      "mobilenet_1.00_224 (Function (None, 6, 6, 1024)        3228864   \n",
      "_________________________________________________________________\n",
      "flatten_1 (Flatten)          (None, 36864)             0         \n",
      "_________________________________________________________________\n",
      "dense_1 (Dense)              (None, 81)                2986065   \n",
      "=================================================================\n",
      "Total params: 6,214,929\n",
      "Trainable params: 2,986,065\n",
      "Non-trainable params: 3,228,864\n",
      "_________________________________________________________________\n",
      "None\n",
      "dict_keys(['loss', 'accuracy', 'val_loss', 'val_accuracy'])\n"
     ]
    },
    {
     "data": {
      "image/png": "[encoded data removed]",
      "text/plain": [
       "<Figure size 432x288 with 1 Axes>"
      ]
     },
     "metadata": {
      "needs_background": "light"
     },
     "output_type": "display_data"
    },
    {
     "data": {
      "image/png": "[encoded data removed]",
      "text/plain": [
       "<Figure size 432x288 with 1 Axes>"
      ]
     },
     "metadata": {
      "needs_background": "light"
     },
     "output_type": "display_data"
    }
   ],
   "source": [
    "print(model.summary())\n",
    "plot_graph(history)"
   ]
  },
  {
   "cell_type": "code",
   "execution_count": 24,
   "id": "5a59480a",
   "metadata": {},
   "outputs": [
    {
     "name": "stdout",
     "output_type": "stream",
     "text": [
      "Accuracy Score : 0.7443\n",
      "=======================\n",
      "\n",
      "Precision Score : 0.7312\n",
      "========================\n",
      "\n",
      "Recall Score : 0.7443\n",
      "=====================\n",
      "\n",
      "F1 Score : 0.7113\n",
      "=================\n",
      "\n"
     ]
    }
   ],
   "source": [
    "model.load_weights('default_mobilenet.h5')\n",
    "# make prediction using trained model\n",
    "predictions = model.predict(X_test)\n",
    "# calculate accuracy and other evaluation measures\n",
    "y_pred = [np.argmax(prediction) for prediction in predictions]\n",
    "yy_test = [list(yy).index(1) for yy in y_test]\n",
    "Acc, P, R, F = make_predictions(yy_test, y_pred) \n",
    "evalution_scores.append([\"MobileNet\", Acc, P, R, F])"
   ]
  },
  {
   "cell_type": "markdown",
   "id": "64ab1dfa",
   "metadata": {},
   "source": [
    "# customize model"
   ]
  },
  {
   "cell_type": "code",
   "execution_count": 25,
   "id": "a736500f",
   "metadata": {},
   "outputs": [
    {
     "name": "stdout",
     "output_type": "stream",
     "text": [
      "\n",
      "shape of training features : (15155, 200, 200, 3)\n",
      "=======================================\n",
      "\n",
      " shape of training labels : (15155, 81)\n",
      "====================================\n",
      "\n",
      " shape of testing features : (2159, 200, 200, 3)\n",
      "======================================\n",
      "\n",
      " shape of testing labels : (2159, 81)\n",
      "==================================\n",
      "\n",
      " shape of validation features : (4275, 200, 200, 3)\n",
      "========================================\n",
      "\n",
      " shape of validation labels : (4275, 81)\n",
      "=====================================\n"
     ]
    }
   ],
   "source": [
    "X_train, X_test, X_val, y_train, y_test, y_val = get_train_test_val_split(train, target)\n",
    "print(\"\\nshape of training features :\", X_train.shape)\n",
    "print(\"=======================================\")\n",
    "print(\"\\n shape of training labels :\", y_train.shape)\n",
    "print(\"====================================\")\n",
    "print(\"\\n shape of testing features :\", X_test.shape)\n",
    "print(\"======================================\")\n",
    "print(\"\\n shape of testing labels :\", y_test.shape)\n",
    "print(\"==================================\")\n",
    "print(\"\\n shape of validation features :\", X_val.shape)\n",
    "print(\"========================================\")\n",
    "print(\"\\n shape of validation labels :\", y_val.shape)\n",
    "print(\"=====================================\")"
   ]
  },
  {
   "cell_type": "code",
   "execution_count": 26,
   "id": "a6f6b70e",
   "metadata": {},
   "outputs": [
    {
     "name": "stdout",
     "output_type": "stream",
     "text": [
      "WARNING:tensorflow:`input_shape` is undefined or non-square, or `rows` is not in [128, 160, 192, 224]. Weights for input shape (224, 224) will be loaded as the default.\n"
     ]
    }
   ],
   "source": [
    "input_t = tf.keras.Input(shape=(200, 200, 3))\n",
    "mobile_model = tf.keras.applications.MobileNet(include_top=False,\n",
    "                                    weights=\"imagenet\",\n",
    "                                    input_tensor=input_t)\n",
    "\n",
    "for layer in mobile_model.layers:\n",
    "    layer.trainable = False\n",
    "    \n",
    "\n",
    "for layer in mobile_model.layers[-5:]:\n",
    "    layer.trainable = True\n",
    "\n",
    "to_res = (224, 224)\n",
    "model = tf.keras.models.Sequential()  \n",
    "model.add(mobile_model)\n",
    "model.add(tf.keras.layers.Flatten())\n",
    "model.add(tf.keras.layers.BatchNormalization())\n",
    "model.add(tf.keras.layers.Dense(256, activation='relu'))\n",
    "# model.add(tf.keras.layers.Dropout(0.5))\n",
    "model.add(tf.keras.layers.BatchNormalization())\n",
    "model.add(tf.keras.layers.Dense(128, activation='relu'))\n",
    "# model.add(tf.keras.layers.Dropout(0.5))\n",
    "model.add(tf.keras.layers.BatchNormalization())\n",
    "model.add(tf.keras.layers.Dense(64, activation='relu'))\n",
    "# model.add(tf.keras.layers.Dropout(0.5))\n",
    "model.add(tf.keras.layers.BatchNormalization())\n",
    "model.add(tf.keras.layers.Dense(81, activation='softmax'))"
   ]
  },
  {
   "cell_type": "code",
   "execution_count": 27,
   "id": "d2850508",
   "metadata": {},
   "outputs": [
    {
     "name": "stderr",
     "output_type": "stream",
     "text": [
      "2022-04-05 17:18:01.656662: W tensorflow/core/framework/cpu_allocator_impl.cc:81] Allocation of 7274400000 exceeds 10% of free system memory.\n"
     ]
    },
    {
     "name": "stdout",
     "output_type": "stream",
     "text": [
      "Epoch 1/10\n",
      "60/60 [==============================] - 189s 3s/step - loss: 2.0202 - accuracy: 0.6707 - val_loss: 4.2001 - val_accuracy: 0.0564\n",
      "Epoch 2/10\n",
      "60/60 [==============================] - 135s 2s/step - loss: 1.3986 - accuracy: 0.7646 - val_loss: 3.9017 - val_accuracy: 0.1642\n",
      "Epoch 3/10\n",
      "60/60 [==============================] - 134s 2s/step - loss: 1.2444 - accuracy: 0.7799 - val_loss: 3.3809 - val_accuracy: 0.4634\n",
      "Epoch 4/10\n",
      "60/60 [==============================] - 133s 2s/step - loss: 1.1559 - accuracy: 0.7894 - val_loss: 2.8067 - val_accuracy: 0.6501\n",
      "Epoch 5/10\n",
      "60/60 [==============================] - 133s 2s/step - loss: 1.0925 - accuracy: 0.7914 - val_loss: 2.2660 - val_accuracy: 0.7240\n",
      "Epoch 6/10\n",
      "60/60 [==============================] - 134s 2s/step - loss: 1.0467 - accuracy: 0.7955 - val_loss: 1.7561 - val_accuracy: 0.7607\n",
      "Epoch 7/10\n",
      "60/60 [==============================] - 133s 2s/step - loss: 1.0018 - accuracy: 0.8000 - val_loss: 1.4471 - val_accuracy: 0.7544\n",
      "Epoch 8/10\n",
      "60/60 [==============================] - 134s 2s/step - loss: 0.9737 - accuracy: 0.7999 - val_loss: 1.2190 - val_accuracy: 0.7656\n",
      "Epoch 9/10\n",
      "60/60 [==============================] - 133s 2s/step - loss: 0.9443 - accuracy: 0.7994 - val_loss: 1.0927 - val_accuracy: 0.7832\n",
      "Epoch 10/10\n",
      "60/60 [==============================] - 134s 2s/step - loss: 0.9172 - accuracy: 0.8044 - val_loss: 0.9858 - val_accuracy: 0.7773\n"
     ]
    }
   ],
   "source": [
    "check_point = tf.keras.callbacks.ModelCheckpoint(filepath=\"customize-1.h5\",\n",
    "                                          monitor=\"val_accuracy\",\n",
    "                                          mode=\"max\",\n",
    "                                          save_best_only=True,\n",
    "                                          )\n",
    "\n",
    "model.compile(loss='categorical_crossentropy',\n",
    "              optimizer= tf.keras.optimizers.RMSprop(lr=2e-5),\n",
    "              metrics=['accuracy'])\n",
    "\n",
    "history = model.fit(X_train, y_train, batch_size=256, epochs=10, verbose=1,\n",
    "                        validation_data=(X_val, y_val),\n",
    "                        callbacks=[check_point])"
   ]
  },
  {
   "cell_type": "code",
   "execution_count": 28,
   "id": "6da6a2c7",
   "metadata": {},
   "outputs": [
    {
     "name": "stdout",
     "output_type": "stream",
     "text": [
      "Model: \"sequential_2\"\n",
      "_________________________________________________________________\n",
      "Layer (type)                 Output Shape              Param #   \n",
      "=================================================================\n",
      "mobilenet_1.00_224 (Function (None, 6, 6, 1024)        3228864   \n",
      "_________________________________________________________________\n",
      "flatten_2 (Flatten)          (None, 36864)             0         \n",
      "_________________________________________________________________\n",
      "batch_normalization (BatchNo (None, 36864)             147456    \n",
      "_________________________________________________________________\n",
      "dense_2 (Dense)              (None, 256)               9437440   \n",
      "_________________________________________________________________\n",
      "batch_normalization_1 (Batch (None, 256)               1024      \n",
      "_________________________________________________________________\n",
      "dense_3 (Dense)              (None, 128)               32896     \n",
      "_________________________________________________________________\n",
      "batch_normalization_2 (Batch (None, 128)               512       \n",
      "_________________________________________________________________\n",
      "dense_4 (Dense)              (None, 64)                8256      \n",
      "_________________________________________________________________\n",
      "batch_normalization_3 (Batch (None, 64)                256       \n",
      "_________________________________________________________________\n",
      "dense_5 (Dense)              (None, 81)                5265      \n",
      "=================================================================\n",
      "Total params: 12,861,969\n",
      "Trainable params: 10,611,153\n",
      "Non-trainable params: 2,250,816\n",
      "_________________________________________________________________\n",
      "None\n",
      "\n",
      "===================================\n",
      "\n",
      "dict_keys(['loss', 'accuracy', 'val_loss', 'val_accuracy'])\n"
     ]
    },
    {
     "data": {
      "image/png": "[encoded data removed]",
      "text/plain": [
       "<Figure size 432x288 with 1 Axes>"
      ]
     },
     "metadata": {
      "needs_background": "light"
     },
     "output_type": "display_data"
    },
    {
     "data": {
      "image/png": "[encoded data removed]",
      "text/plain": [
       "<Figure size 432x288 with 1 Axes>"
      ]
     },
     "metadata": {
      "needs_background": "light"
     },
     "output_type": "display_data"
    }
   ],
   "source": [
    "print(model.summary())\n",
    "print(\"\\n===================================\\n\")\n",
    "plot_graph(history)"
   ]
  },
  {
   "cell_type": "code",
   "execution_count": 29,
   "id": "b2304fe0",
   "metadata": {},
   "outputs": [
    {
     "name": "stdout",
     "output_type": "stream",
     "text": [
      "Accuracy Score : 0.7828\n",
      "=======================\n",
      "\n",
      "Precision Score : 0.7779\n",
      "========================\n",
      "\n",
      "Recall Score : 0.7828\n",
      "=====================\n",
      "\n",
      "F1 Score : 0.7527\n",
      "=================\n",
      "\n"
     ]
    }
   ],
   "source": [
    "model.load_weights('customize-1.h5')\n",
    "# make prediction using trained model\n",
    "predictions = model.predict(X_test)\n",
    "# calculate accuracy and other evaluation measures\n",
    "y_pred = [np.argmax(prediction) for prediction in predictions]\n",
    "yy_test = [list(yy).index(1) for yy in y_test]\n",
    "Acc, P, R, F = make_predictions(yy_test, y_pred) \n",
    "evalution_scores.append([\"Customize 1\", Acc, P, R, F])"
   ]
  },
  {
   "cell_type": "markdown",
   "id": "1499d779",
   "metadata": {},
   "source": [
    "## Customize Model 2"
   ]
  },
  {
   "cell_type": "code",
   "execution_count": 55,
   "id": "31b58537",
   "metadata": {},
   "outputs": [
    {
     "name": "stdout",
     "output_type": "stream",
     "text": [
      "\n",
      "shape of training features : (15155, 5)\n",
      "=======================================\n",
      "\n",
      " shape of training labels : (15155,)\n",
      "====================================\n",
      "\n",
      " shape of testing features : (2159, 5)\n",
      "======================================\n",
      "\n",
      " shape of testing labels : (2159,)\n",
      "==================================\n",
      "\n",
      " shape of validation features : (4275, 5)\n",
      "========================================\n",
      "\n",
      " shape of validation labels : (4275,)\n",
      "=====================================\n"
     ]
    }
   ],
   "source": [
    "# train test validation split\n",
    "X_train, X_test, X_val, y_train, y_test, y_val = get_train_test_val_split(X, y)\n",
    "print(\"\\nshape of training features :\", X_train.shape)\n",
    "print(\"=======================================\")\n",
    "print(\"\\n shape of training labels :\", y_train.shape)\n",
    "print(\"====================================\")\n",
    "print(\"\\n shape of testing features :\", X_test.shape)\n",
    "print(\"======================================\")\n",
    "print(\"\\n shape of testing labels :\", y_test.shape)\n",
    "print(\"==================================\")\n",
    "print(\"\\n shape of validation features :\", X_val.shape)\n",
    "print(\"========================================\")\n",
    "print(\"\\n shape of validation labels :\", y_val.shape)\n",
    "print(\"=====================================\")"
   ]
  },
  {
   "cell_type": "code",
   "execution_count": 56,
   "id": "0bc7eb1b",
   "metadata": {},
   "outputs": [],
   "source": [
    "# deep learning model initialization\n",
    "model = tf.keras.models.Sequential()  \n",
    "model.add(Dense(1000,input_dim=5,activation='relu'))\n",
    "model.add(Dense(500,activation='relu'))\n",
    "model.add(Dense(300,activation='relu'))\n",
    "model.add(Dense(150,activation='relu'))\n",
    "model.add(Dense(75,activation='relu'))\n",
    "model.add(Dense(30,activation='relu'))\n",
    "model.add(Dense(15,activation='relu'))\n",
    "model.add(Dropout(0.5))\n"
   ]
  },
  {
   "cell_type": "code",
   "execution_count": 57,
   "id": "139e1780",
   "metadata": {},
   "outputs": [],
   "source": [
    "RF_X_train = model.predict(X_train)\n",
    "RF_X_test = model.predict(X_test)"
   ]
  },
  {
   "cell_type": "code",
   "execution_count": 58,
   "id": "ed1f47c6",
   "metadata": {},
   "outputs": [],
   "source": [
    "# model initialization\n",
    "clf = RandomForestClassifier(n_estimators=50)\n",
    "# model training\n",
    "clf = clf.fit(RF_X_train, y_train)"
   ]
  },
  {
   "cell_type": "code",
   "execution_count": 59,
   "id": "b9062184",
   "metadata": {},
   "outputs": [
    {
     "name": "stdout",
     "output_type": "stream",
     "text": [
      "Accuracy Score : 0.7934\n",
      "=======================\n",
      "\n",
      "Precision Score : 0.7827\n",
      "========================\n",
      "\n",
      "Recall Score : 0.7934\n",
      "=====================\n",
      "\n",
      "F1 Score : 0.7684\n",
      "=================\n",
      "\n"
     ]
    }
   ],
   "source": [
    "# model predictions\n",
    "y_pred = clf.predict(RF_X_test)\n",
    "# evaluate results\n",
    "Acc, P, R, F = make_predictions(y_test, y_pred)\n",
    "evalution_scores.append([\"customize 2\", Acc, P, R, F])"
   ]
  },
  {
   "cell_type": "code",
   "execution_count": 54,
   "id": "a80f5530",
   "metadata": {},
   "outputs": [
    {
     "data": {
      "text/html": [
       "<div>\n",
       "<style scoped>\n",
       "    .dataframe tbody tr th:only-of-type {\n",
       "        vertical-align: middle;\n",
       "    }\n",
       "\n",
       "    .dataframe tbody tr th {\n",
       "        vertical-align: top;\n",
       "    }\n",
       "\n",
       "    .dataframe thead th {\n",
       "        text-align: right;\n",
       "    }\n",
       "</style>\n",
       "<table border=\"1\" class=\"dataframe\">\n",
       "  <thead>\n",
       "    <tr style=\"text-align: right;\">\n",
       "      <th></th>\n",
       "      <th>Model</th>\n",
       "      <th>Accuracy</th>\n",
       "      <th>Precision</th>\n",
       "      <th>Recall</th>\n",
       "      <th>F1 Score</th>\n",
       "    </tr>\n",
       "  </thead>\n",
       "  <tbody>\n",
       "    <tr>\n",
       "      <th>0</th>\n",
       "      <td>Random Forest</td>\n",
       "      <td>0.7911</td>\n",
       "      <td>0.7939</td>\n",
       "      <td>0.7911</td>\n",
       "      <td>0.7647</td>\n",
       "    </tr>\n",
       "    <tr>\n",
       "      <th>1</th>\n",
       "      <td>Gradient Boosting</td>\n",
       "      <td>0.0195</td>\n",
       "      <td>0.0807</td>\n",
       "      <td>0.0195</td>\n",
       "      <td>0.0231</td>\n",
       "    </tr>\n",
       "    <tr>\n",
       "      <th>2</th>\n",
       "      <td>ResNet</td>\n",
       "      <td>0.5994</td>\n",
       "      <td>0.5702</td>\n",
       "      <td>0.5994</td>\n",
       "      <td>0.5429</td>\n",
       "    </tr>\n",
       "    <tr>\n",
       "      <th>3</th>\n",
       "      <td>MobileNet</td>\n",
       "      <td>0.7443</td>\n",
       "      <td>0.7312</td>\n",
       "      <td>0.7443</td>\n",
       "      <td>0.7113</td>\n",
       "    </tr>\n",
       "    <tr>\n",
       "      <th>4</th>\n",
       "      <td>Customize 1</td>\n",
       "      <td>0.7828</td>\n",
       "      <td>0.7779</td>\n",
       "      <td>0.7828</td>\n",
       "      <td>0.7527</td>\n",
       "    </tr>\n",
       "    <tr>\n",
       "      <th>5</th>\n",
       "      <td>customize 2</td>\n",
       "      <td>0.7957</td>\n",
       "      <td>0.8011</td>\n",
       "      <td>0.7957</td>\n",
       "      <td>0.7721</td>\n",
       "    </tr>\n",
       "  </tbody>\n",
       "</table>\n",
       "</div>"
      ],
      "text/plain": [
       "               Model Accuracy Precision  Recall F1 Score\n",
       "0      Random Forest   0.7911    0.7939  0.7911   0.7647\n",
       "1  Gradient Boosting   0.0195    0.0807  0.0195   0.0231\n",
       "2             ResNet   0.5994    0.5702  0.5994   0.5429\n",
       "3          MobileNet   0.7443    0.7312  0.7443   0.7113\n",
       "4        Customize 1   0.7828    0.7779  0.7828   0.7527\n",
       "5        customize 2   0.7957    0.8011  0.7957   0.7721"
      ]
     },
     "execution_count": 54,
     "metadata": {},
     "output_type": "execute_result"
    }
   ],
   "source": [
    "evaluation_df = pd.DataFrame(evalution_scores, columns=['Model', 'Accuracy', 'Precision', 'Recall', 'F1 Score'])\n",
    "evaluation_df"
   ]
  },
  {
   "cell_type": "code",
   "execution_count": null,
   "id": "0abf183b",
   "metadata": {},
   "outputs": [],
   "source": []
  },
  {
   "cell_type": "code",
   "execution_count": null,
   "id": "1481f306",
   "metadata": {},
   "outputs": [],
   "source": []
  }
 ],
 "metadata": {
  "kernelspec": {
   "display_name": "Python 3 (ipykernel)",
   "language": "python",
   "name": "python3"
  },
  "language_info": {
   "codemirror_mode": {
    "name": "ipython",
    "version": 3
   },
   "file_extension": ".py",
   "mimetype": "text/x-python",
   "name": "python",
   "nbconvert_exporter": "python",
   "pygments_lexer": "ipython3",
   "version": "3.7.11"
  }
 },
 "nbformat": 4,
 "nbformat_minor": 5
}
