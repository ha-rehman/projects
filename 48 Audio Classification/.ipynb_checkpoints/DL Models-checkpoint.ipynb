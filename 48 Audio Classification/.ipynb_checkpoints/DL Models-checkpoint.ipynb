{
 "cells": [
  {
   "cell_type": "markdown",
   "id": "c5d613a3",
   "metadata": {},
   "source": [
    "## import libraries"
   ]
  },
  {
   "cell_type": "code",
   "execution_count": 62,
   "id": "2067e91b",
   "metadata": {},
   "outputs": [],
   "source": [
    "import warnings\n",
    "warnings.filterwarnings('ignore')\n",
    "\n",
    "from pytorch_tabnet.tab_model import TabNetClassifier, TabNetRegressor\n",
    "import numpy as np\n",
    "import pandas as pd\n",
    "from sklearn.preprocessing import StandardScaler\n",
    "from sklearn.model_selection import train_test_split\n",
    "\n",
    "#Neural network module\n",
    "import tensorflow as tf\n",
    "from tensorflow.keras.models import Sequential \n",
    "from tensorflow.keras.layers import Dense,Activation,Dropout \n",
    "from tensorflow.keras.layers import BatchNormalization \n",
    "from tensorflow.keras.utils import to_categorical\n",
    "\n",
    "# from XBNet.training_utils import training,predict\n",
    "# from XBNet.models import XBNETClassifier\n",
    "# from XBNet.run import run_XBNET\n",
    "\n",
    "from fastai.tabular.data import *\n",
    "import tensorflow as tf\n",
    "from tensorflow.keras import layers\n",
    "from sklearn.metrics import accuracy_score, balanced_accuracy_score\n",
    "from sklearn.metrics import classification_report\n",
    "import pickle\n",
    "from sklearn.metrics import precision_recall_fscore_support\n",
    "# build the lightgbm model\n",
    "import lightgbm as lgb\n",
    "\n",
    "from pytorch_tabular import TabularModel\n",
    "from pytorch_tabular.models import CategoryEmbeddingModelConfig\n",
    "from pytorch_tabular.config import DataConfig, OptimizerConfig, TrainerConfig, ExperimentConfig\n",
    "\n",
    "from catboost import CatBoostClassifier, Pool\n",
    "from hyperopt import fmin, hp, tpe\n",
    "import pandas as pd\n",
    "from sklearn.model_selection import StratifiedKFold\n",
    "\n",
    "import numpy as np\n",
    "from deeptables.models import deeptable, deepnets\n",
    "from deeptables.datasets import dsutils\n",
    "from sklearn.model_selection import train_test_split\n",
    "\n",
    "import torch\n",
    "from torch import nn\n",
    "from torch.utils.data import DataLoader,TensorDataset\n",
    "from torch.optim.lr_scheduler import ReduceLROnPlateau\n",
    "\n",
    "import pytorch_lightning as pl\n",
    "from pytorch_lightning.callbacks.early_stopping import EarlyStopping"
   ]
  },
  {
   "cell_type": "markdown",
   "id": "eaccd884",
   "metadata": {},
   "source": [
    "# read csv"
   ]
  },
  {
   "cell_type": "code",
   "execution_count": 63,
   "id": "f8cee4fc",
   "metadata": {},
   "outputs": [
    {
     "data": {
      "text/html": [
       "<div>\n",
       "<style scoped>\n",
       "    .dataframe tbody tr th:only-of-type {\n",
       "        vertical-align: middle;\n",
       "    }\n",
       "\n",
       "    .dataframe tbody tr th {\n",
       "        vertical-align: top;\n",
       "    }\n",
       "\n",
       "    .dataframe thead th {\n",
       "        text-align: right;\n",
       "    }\n",
       "</style>\n",
       "<table border=\"1\" class=\"dataframe\">\n",
       "  <thead>\n",
       "    <tr style=\"text-align: right;\">\n",
       "      <th></th>\n",
       "      <th>Category of Trade</th>\n",
       "      <th>Volume/ Amount</th>\n",
       "      <th>Volume Type</th>\n",
       "      <th>Load Port</th>\n",
       "      <th>Discharge Port</th>\n",
       "      <th>Dangerous Goods</th>\n",
       "      <th>Organisation</th>\n",
       "    </tr>\n",
       "  </thead>\n",
       "  <tbody>\n",
       "    <tr>\n",
       "      <th>0</th>\n",
       "      <td>7</td>\n",
       "      <td>26,726</td>\n",
       "      <td>1</td>\n",
       "      <td>27</td>\n",
       "      <td>34</td>\n",
       "      <td>2</td>\n",
       "      <td>73</td>\n",
       "    </tr>\n",
       "    <tr>\n",
       "      <th>1</th>\n",
       "      <td>5</td>\n",
       "      <td>2,600</td>\n",
       "      <td>1</td>\n",
       "      <td>44</td>\n",
       "      <td>54</td>\n",
       "      <td>2</td>\n",
       "      <td>69</td>\n",
       "    </tr>\n",
       "    <tr>\n",
       "      <th>2</th>\n",
       "      <td>7</td>\n",
       "      <td>10,710</td>\n",
       "      <td>1</td>\n",
       "      <td>8</td>\n",
       "      <td>0</td>\n",
       "      <td>2</td>\n",
       "      <td>12</td>\n",
       "    </tr>\n",
       "    <tr>\n",
       "      <th>3</th>\n",
       "      <td>7</td>\n",
       "      <td>21,611</td>\n",
       "      <td>1</td>\n",
       "      <td>8</td>\n",
       "      <td>40</td>\n",
       "      <td>2</td>\n",
       "      <td>12</td>\n",
       "    </tr>\n",
       "    <tr>\n",
       "      <th>4</th>\n",
       "      <td>7</td>\n",
       "      <td>5,139</td>\n",
       "      <td>1</td>\n",
       "      <td>6</td>\n",
       "      <td>0</td>\n",
       "      <td>2</td>\n",
       "      <td>12</td>\n",
       "    </tr>\n",
       "  </tbody>\n",
       "</table>\n",
       "</div>"
      ],
      "text/plain": [
       "   Category of Trade Volume/ Amount  Volume Type  Load Port  Discharge Port  \\\n",
       "0                  7         26,726            1         27              34   \n",
       "1                  5          2,600            1         44              54   \n",
       "2                  7         10,710            1          8               0   \n",
       "3                  7         21,611            1          8              40   \n",
       "4                  7          5,139            1          6               0   \n",
       "\n",
       "   Dangerous Goods  Organisation  \n",
       "0                2            73  \n",
       "1                2            69  \n",
       "2                2            12  \n",
       "3                2            12  \n",
       "4                2            12  "
      ]
     },
     "execution_count": 63,
     "metadata": {},
     "output_type": "execute_result"
    }
   ],
   "source": [
    "df  = pd.read_csv(\"dataset.csv\")\n",
    "df.head()"
   ]
  },
  {
   "cell_type": "markdown",
   "id": "34899ec5",
   "metadata": {},
   "source": [
    "## seperate features and target"
   ]
  },
  {
   "cell_type": "code",
   "execution_count": 64,
   "id": "0b4fe543",
   "metadata": {},
   "outputs": [],
   "source": [
    "# seperate features and target column\n",
    "features = [\"Category of Trade\", \"Volume Type\", \"Load Port\", \"Discharge Port\", \"Dangerous Goods\"]\n",
    "target = \"Organisation\"\n",
    "\n",
    "# copy the feqatures and class dataframe in X and y variable\n",
    "X = df[features]\n",
    "y = df[target]"
   ]
  },
  {
   "cell_type": "markdown",
   "id": "f232f74f",
   "metadata": {},
   "source": [
    "\n",
    "## scale features and train test split"
   ]
  },
  {
   "cell_type": "code",
   "execution_count": 65,
   "id": "c8d68f58",
   "metadata": {},
   "outputs": [],
   "source": [
    "# scalling feature value between the range of 0-1\n",
    "ss = StandardScaler()\n",
    "X = ss.fit_transform(X)\n"
   ]
  },
  {
   "cell_type": "markdown",
   "id": "9c33dda2",
   "metadata": {},
   "source": [
    "## customize functions"
   ]
  },
  {
   "cell_type": "code",
   "execution_count": 5,
   "id": "fc7f66e3",
   "metadata": {},
   "outputs": [],
   "source": [
    "# save saller\n",
    "pkl_file = open('target_encoder.pkl', 'rb')\n",
    "le_target = pickle.load(pkl_file) \n",
    "\n",
    "# function for getting class labels via class integar using label encoder\n",
    "def get_classes(y_test):\n",
    "    y_test = y_test.unique()\n",
    "    print(len(y_test))\n",
    "    return le_target.inverse_transform(y_test)\n",
    "\n",
    "# get unique classes in test set\n",
    "def get_str_classes(y_test):\n",
    "    y_test = y_test.unique()\n",
    "    return [str(int) for int in y_test]\n",
    "\n",
    "# split dataset in training and testing set \n",
    "def get_train_test_split():\n",
    "    return train_test_split(X, y, test_size=0.2, random_state=42)\n",
    "\n",
    "\n",
    "# split data into train, test and validation set with splitted feature and class\n",
    "def get_train_test_val_split():\n",
    "    X_train, X_test, y_train, y_test = train_test_split(X, y, test_size=0.1, random_state=42)\n",
    "    X_train, X_val, y_train, y_val = train_test_split(X_train, y_train, test_size=0.22, random_state=2)\n",
    "    return X_train, X_test, X_val, y_train, y_test, y_val\n",
    "\n",
    "# split data into train, test and validation set with joined feature and class\n",
    "def get_train_test_val_split_df():\n",
    "    train, test = train_test_split(df, test_size=0.2, random_state=42)\n",
    "    train, val = train_test_split(train, test_size=0.25, random_state=2)\n",
    "    return train, test, val\n",
    "\n",
    "\n",
    "# compute the accuracy using true and predicted labels\n",
    "def compute_accuracy(y_true, y_pred):\n",
    "    correct_predictions = 0\n",
    "    # iterate over each label and check\n",
    "    for true, predicted in zip(y_true, y_pred):\n",
    "        if true == predicted:\n",
    "            correct_predictions += 1\n",
    "    # compute the accuracy\n",
    "    accuracy = correct_predictions/len(y_true)\n",
    "    return accuracy\n",
    "\n",
    "from statistics import mean\n",
    "\n",
    "# compute other evaluation measures and print\n",
    "def make_predictions(y_test, y_pred):\n",
    "    accuracy=accuracy_score(y_test, y_pred)\n",
    "\n",
    "    print(\"Accuracy Score :\", accuracy)\n",
    "    print(\"=======================\\n\")\n",
    "\n",
    "    P, R, F, S = precision_recall_fscore_support(y_test, y_pred, average=\"weighted\")\n",
    "\n",
    "    \n",
    "    print(\"Precision Score :\", P)\n",
    "    print(\"========================\\n\")\n",
    "\n",
    "    print(\"Recall Score :\", R)\n",
    "    print(\"=====================\\n\")\n",
    "\n",
    "    print(\"F1 Score :\", F)\n",
    "    print(\"=================\\n\")\n",
    "    \n",
    "\n",
    "\n",
    "#     print(\"\\nClassification Report\")\n",
    "#     print(\"=====================\\n\")\n",
    "#     cr = classification_report(y_test, y_pred, target_names=get_str_classes(y_test))\n",
    "#     print(cr)"
   ]
  },
  {
   "cell_type": "markdown",
   "id": "169a0d98",
   "metadata": {},
   "source": [
    "# 01 TabNet"
   ]
  },
  {
   "cell_type": "code",
   "execution_count": 6,
   "id": "88f036b0",
   "metadata": {},
   "outputs": [
    {
     "name": "stdout",
     "output_type": "stream",
     "text": [
      "Device used : cuda\n",
      "epoch 0  | loss: 3.7276  | val_0_accuracy: 0.2654  |  0:00:00s\n",
      "epoch 1  | loss: 2.72403 | val_0_accuracy: 0.3358  |  0:00:00s\n",
      "epoch 2  | loss: 2.29673 | val_0_accuracy: 0.43122 |  0:00:01s\n",
      "epoch 3  | loss: 2.04263 | val_0_accuracy: 0.50116 |  0:00:01s\n",
      "epoch 4  | loss: 1.84536 | val_0_accuracy: 0.52779 |  0:00:02s\n",
      "epoch 5  | loss: 1.71848 | val_0_accuracy: 0.52964 |  0:00:02s\n",
      "epoch 6  | loss: 1.60182 | val_0_accuracy: 0.57226 |  0:00:02s\n",
      "epoch 7  | loss: 1.52409 | val_0_accuracy: 0.56276 |  0:00:03s\n",
      "epoch 8  | loss: 1.43405 | val_0_accuracy: 0.60653 |  0:00:03s\n",
      "epoch 9  | loss: 1.38196 | val_0_accuracy: 0.62923 |  0:00:03s\n",
      "epoch 10 | loss: 1.35851 | val_0_accuracy: 0.62691 |  0:00:04s\n",
      "epoch 11 | loss: 1.30362 | val_0_accuracy: 0.63386 |  0:00:04s\n",
      "epoch 12 | loss: 1.28762 | val_0_accuracy: 0.64822 |  0:00:05s\n",
      "epoch 13 | loss: 1.27522 | val_0_accuracy: 0.64521 |  0:00:05s\n",
      "epoch 14 | loss: 1.26025 | val_0_accuracy: 0.6503  |  0:00:05s\n",
      "epoch 15 | loss: 1.24147 | val_0_accuracy: 0.65632 |  0:00:06s\n",
      "epoch 16 | loss: 1.21587 | val_0_accuracy: 0.66443 |  0:00:06s\n",
      "epoch 17 | loss: 1.18477 | val_0_accuracy: 0.66813 |  0:00:07s\n",
      "epoch 18 | loss: 1.18483 | val_0_accuracy: 0.65401 |  0:00:07s\n",
      "epoch 19 | loss: 1.17248 | val_0_accuracy: 0.66813 |  0:00:07s\n",
      "epoch 20 | loss: 1.14915 | val_0_accuracy: 0.66258 |  0:00:08s\n",
      "epoch 21 | loss: 1.14803 | val_0_accuracy: 0.67879 |  0:00:08s\n",
      "epoch 22 | loss: 1.13473 | val_0_accuracy: 0.66999 |  0:00:08s\n",
      "epoch 23 | loss: 1.13166 | val_0_accuracy: 0.6679  |  0:00:09s\n",
      "epoch 24 | loss: 1.12712 | val_0_accuracy: 0.67717 |  0:00:09s\n",
      "epoch 25 | loss: 1.122   | val_0_accuracy: 0.64868 |  0:00:10s\n",
      "epoch 26 | loss: 1.10571 | val_0_accuracy: 0.66906 |  0:00:10s\n",
      "epoch 27 | loss: 1.06901 | val_0_accuracy: 0.6723  |  0:00:10s\n",
      "epoch 28 | loss: 1.06784 | val_0_accuracy: 0.66836 |  0:00:11s\n",
      "epoch 29 | loss: 1.06452 | val_0_accuracy: 0.67647 |  0:00:11s\n",
      "epoch 30 | loss: 1.05786 | val_0_accuracy: 0.68643 |  0:00:12s\n",
      "epoch 31 | loss: 1.05335 | val_0_accuracy: 0.6862  |  0:00:12s\n",
      "epoch 32 | loss: 1.04248 | val_0_accuracy: 0.68597 |  0:00:12s\n",
      "epoch 33 | loss: 1.04424 | val_0_accuracy: 0.67439 |  0:00:13s\n",
      "epoch 34 | loss: 1.02336 | val_0_accuracy: 0.68967 |  0:00:13s\n",
      "epoch 35 | loss: 1.02125 | val_0_accuracy: 0.69199 |  0:00:13s\n",
      "epoch 36 | loss: 1.012   | val_0_accuracy: 0.69569 |  0:00:14s\n",
      "epoch 37 | loss: 0.99396 | val_0_accuracy: 0.67786 |  0:00:14s\n",
      "epoch 38 | loss: 1.00851 | val_0_accuracy: 0.69037 |  0:00:15s\n",
      "epoch 39 | loss: 0.99098 | val_0_accuracy: 0.70102 |  0:00:15s\n",
      "epoch 40 | loss: 0.99985 | val_0_accuracy: 0.69106 |  0:00:15s\n",
      "epoch 41 | loss: 0.98658 | val_0_accuracy: 0.69685 |  0:00:16s\n",
      "epoch 42 | loss: 1.00579 | val_0_accuracy: 0.70218 |  0:00:16s\n",
      "epoch 43 | loss: 0.97405 | val_0_accuracy: 0.70264 |  0:00:17s\n",
      "epoch 44 | loss: 0.96915 | val_0_accuracy: 0.67369 |  0:00:17s\n",
      "epoch 45 | loss: 0.98214 | val_0_accuracy: 0.6906  |  0:00:17s\n",
      "epoch 46 | loss: 0.98931 | val_0_accuracy: 0.68272 |  0:00:18s\n",
      "epoch 47 | loss: 0.97349 | val_0_accuracy: 0.70403 |  0:00:18s\n",
      "epoch 48 | loss: 0.97987 | val_0_accuracy: 0.69685 |  0:00:19s\n",
      "epoch 49 | loss: 0.98142 | val_0_accuracy: 0.6943  |  0:00:19s\n",
      "epoch 50 | loss: 0.97913 | val_0_accuracy: 0.68272 |  0:00:19s\n",
      "epoch 51 | loss: 0.98478 | val_0_accuracy: 0.6994  |  0:00:20s\n",
      "epoch 52 | loss: 0.97954 | val_0_accuracy: 0.69801 |  0:00:20s\n",
      "epoch 53 | loss: 0.97192 | val_0_accuracy: 0.69361 |  0:00:20s\n",
      "epoch 54 | loss: 0.95404 | val_0_accuracy: 0.6987  |  0:00:21s\n",
      "epoch 55 | loss: 0.95638 | val_0_accuracy: 0.70241 |  0:00:21s\n",
      "epoch 56 | loss: 0.94809 | val_0_accuracy: 0.71538 |  0:00:22s\n",
      "epoch 57 | loss: 0.94288 | val_0_accuracy: 0.70519 |  0:00:22s\n",
      "epoch 58 | loss: 0.94876 | val_0_accuracy: 0.70982 |  0:00:22s\n",
      "epoch 59 | loss: 0.95319 | val_0_accuracy: 0.70936 |  0:00:23s\n",
      "epoch 60 | loss: 0.95459 | val_0_accuracy: 0.695   |  0:00:23s\n",
      "epoch 61 | loss: 0.92428 | val_0_accuracy: 0.69755 |  0:00:23s\n",
      "epoch 62 | loss: 0.93316 | val_0_accuracy: 0.69708 |  0:00:24s\n",
      "epoch 63 | loss: 0.92125 | val_0_accuracy: 0.71028 |  0:00:24s\n",
      "epoch 64 | loss: 0.89713 | val_0_accuracy: 0.70565 |  0:00:25s\n",
      "epoch 65 | loss: 0.91079 | val_0_accuracy: 0.68782 |  0:00:25s\n",
      "epoch 66 | loss: 0.93764 | val_0_accuracy: 0.65493 |  0:00:25s\n",
      "\n",
      "Early stopping occured at epoch 66 with best_epoch = 56 and best_val_0_accuracy = 0.71538\n",
      "Best weights from best epoch are automatically used!\n"
     ]
    }
   ],
   "source": [
    "# get train, test and validation set\n",
    "X_train, X_test, X_val, y_train, y_test, y_val = get_train_test_val_split()\n",
    "\n",
    "# initialize model\n",
    "clf = TabNetClassifier()  #TabNetRegressor()\n",
    "# fit model\n",
    "clf.fit(\n",
    "  X_train, y_train,\n",
    "  eval_set=[(X_val, y_val)]\n",
    ")"
   ]
  },
  {
   "cell_type": "markdown",
   "id": "185f67aa",
   "metadata": {},
   "source": [
    "## make predictions"
   ]
  },
  {
   "cell_type": "code",
   "execution_count": 7,
   "id": "c2717b36",
   "metadata": {},
   "outputs": [
    {
     "name": "stdout",
     "output_type": "stream",
     "text": [
      "Accuracy Score : 0.7044928207503474\n",
      "=======================\n",
      "\n",
      "Precision Score : 0.6641401044964104\n",
      "========================\n",
      "\n",
      "Recall Score : 0.7044928207503474\n",
      "=====================\n",
      "\n",
      "F1 Score : 0.662732425833082\n",
      "=================\n",
      "\n"
     ]
    }
   ],
   "source": [
    "# make prediction using trained model\n",
    "y_pred = clf.predict(X_test)\n",
    "# calculate accuracy and other evaluation measures\n",
    "make_predictions(y_test, y_pred)"
   ]
  },
  {
   "cell_type": "markdown",
   "id": "3f01045c",
   "metadata": {},
   "source": [
    "# 02 LGBM"
   ]
  },
  {
   "cell_type": "code",
   "execution_count": 10,
   "id": "2c8d4559",
   "metadata": {},
   "outputs": [
    {
     "data": {
      "text/plain": [
       "LGBMClassifier()"
      ]
     },
     "execution_count": 10,
     "metadata": {},
     "output_type": "execute_result"
    }
   ],
   "source": [
    "# get train, test and validation set\n",
    "X_train, X_test, y_train, y_test = get_train_test_split()\n",
    "# initialize model\n",
    "clf = lgb.LGBMClassifier()\n",
    "# fit model\n",
    "clf.fit(X_train, y_train)"
   ]
  },
  {
   "cell_type": "markdown",
   "id": "e2e79cb6",
   "metadata": {},
   "source": [
    "## make predictions"
   ]
  },
  {
   "cell_type": "code",
   "execution_count": 11,
   "id": "797c020e",
   "metadata": {},
   "outputs": [
    {
     "name": "stdout",
     "output_type": "stream",
     "text": [
      "Accuracy Score : 0.09286706808707736\n",
      "=======================\n",
      "\n",
      "Precision Score : 0.09108111166470294\n",
      "========================\n",
      "\n",
      "Recall Score : 0.09286706808707736\n",
      "=====================\n",
      "\n",
      "F1 Score : 0.058813415104430215\n",
      "=================\n",
      "\n"
     ]
    }
   ],
   "source": [
    "# make prediction using trained model\n",
    "y_pred = clf.predict(X_test)\n",
    "# calculate accuracy and other evaluation measures\n",
    "make_predictions(y_test, y_pred)"
   ]
  },
  {
   "cell_type": "markdown",
   "id": "45777677",
   "metadata": {},
   "source": [
    "# 03 CNN"
   ]
  },
  {
   "cell_type": "code",
   "execution_count": 12,
   "id": "d4628b9a",
   "metadata": {
    "scrolled": true
   },
   "outputs": [
    {
     "name": "stdout",
     "output_type": "stream",
     "text": [
      "Shape of y_train (12953,)\n",
      "Shape of y_test (4318,)\n",
      "Shape of y_val (4318,)\n",
      "Epoch 1/200\n"
     ]
    },
    {
     "name": "stderr",
     "output_type": "stream",
     "text": [
      "2022-03-18 12:11:25.995329: I tensorflow/compiler/jit/xla_cpu_device.cc:41] Not creating XLA devices, tf_xla_enable_xla_devices not set\n",
      "2022-03-18 12:11:25.995453: I tensorflow/stream_executor/platform/default/dso_loader.cc:49] Successfully opened dynamic library libcuda.so.1\n",
      "2022-03-18 12:11:25.995609: I tensorflow/stream_executor/cuda/cuda_gpu_executor.cc:941] successful NUMA node read from SysFS had negative value (-1), but there must be at least one NUMA node, so returning NUMA node zero\n",
      "2022-03-18 12:11:26.035741: I tensorflow/core/common_runtime/gpu/gpu_device.cc:1720] Found device 0 with properties: \n",
      "pciBusID: 0000:01:00.0 name: NVIDIA GeForce GTX 1080 Ti computeCapability: 6.1\n",
      "coreClock: 1.607GHz coreCount: 28 deviceMemorySize: 10.91GiB deviceMemoryBandwidth: 451.17GiB/s\n",
      "2022-03-18 12:11:26.035864: W tensorflow/stream_executor/platform/default/dso_loader.cc:60] Could not load dynamic library 'libcudart.so.11.0'; dlerror: libcudart.so.11.0: cannot open shared object file: No such file or directory\n",
      "2022-03-18 12:11:26.035922: W tensorflow/stream_executor/platform/default/dso_loader.cc:60] Could not load dynamic library 'libcublas.so.11'; dlerror: libcublas.so.11: cannot open shared object file: No such file or directory\n",
      "2022-03-18 12:11:26.035967: W tensorflow/stream_executor/platform/default/dso_loader.cc:60] Could not load dynamic library 'libcublasLt.so.11'; dlerror: libcublasLt.so.11: cannot open shared object file: No such file or directory\n",
      "2022-03-18 12:11:26.035997: I tensorflow/stream_executor/platform/default/dso_loader.cc:49] Successfully opened dynamic library libcufft.so.10\n",
      "2022-03-18 12:11:26.036020: I tensorflow/stream_executor/platform/default/dso_loader.cc:49] Successfully opened dynamic library libcurand.so.10\n",
      "2022-03-18 12:11:26.036042: I tensorflow/stream_executor/platform/default/dso_loader.cc:49] Successfully opened dynamic library libcusolver.so.10\n",
      "2022-03-18 12:11:26.036083: W tensorflow/stream_executor/platform/default/dso_loader.cc:60] Could not load dynamic library 'libcusparse.so.11'; dlerror: libcusparse.so.11: cannot open shared object file: No such file or directory\n",
      "2022-03-18 12:11:26.036199: I tensorflow/stream_executor/platform/default/dso_loader.cc:49] Successfully opened dynamic library libcudnn.so.8\n",
      "2022-03-18 12:11:26.036207: W tensorflow/core/common_runtime/gpu/gpu_device.cc:1757] Cannot dlopen some GPU libraries. Please make sure the missing libraries mentioned above are installed properly if you would like to use GPU. Follow the guide at https://www.tensorflow.org/install/gpu for how to download and setup the required libraries for your platform.\n",
      "Skipping registering GPU devices...\n",
      "2022-03-18 12:11:26.036469: I tensorflow/core/platform/cpu_feature_guard.cc:142] This TensorFlow binary is optimized with oneAPI Deep Neural Network Library (oneDNN) to use the following CPU instructions in performance-critical operations:  AVX2 FMA\n",
      "To enable them in other operations, rebuild TensorFlow with the appropriate compiler flags.\n",
      "2022-03-18 12:11:26.037225: I tensorflow/core/common_runtime/gpu/gpu_device.cc:1261] Device interconnect StreamExecutor with strength 1 edge matrix:\n",
      "2022-03-18 12:11:26.037237: I tensorflow/core/common_runtime/gpu/gpu_device.cc:1267]      \n",
      "2022-03-18 12:11:26.037245: I tensorflow/compiler/jit/xla_gpu_device.cc:99] Not creating XLA devices, tf_xla_enable_xla_devices not set\n",
      "2022-03-18 12:11:26.103390: I tensorflow/compiler/mlir/mlir_graph_optimization_pass.cc:116] None of the MLIR optimization passes are enabled (registered 2)\n",
      "2022-03-18 12:11:26.123688: I tensorflow/core/platform/profile_utils/cpu_utils.cc:112] CPU Frequency: 3199980000 Hz\n"
     ]
    },
    {
     "name": "stdout",
     "output_type": "stream",
     "text": [
      "2/2 [==============================] - 2s 680ms/step - loss: 4.4065 - accuracy: 0.0211 - val_loss: 4.3626 - val_accuracy: 0.1709\n",
      "Epoch 2/200\n",
      "2/2 [==============================] - 1s 293ms/step - loss: 3.9012 - accuracy: 0.1292 - val_loss: 4.3345 - val_accuracy: 0.2038\n",
      "Epoch 3/200\n",
      "2/2 [==============================] - 1s 284ms/step - loss: 3.6970 - accuracy: 0.1664 - val_loss: 4.3178 - val_accuracy: 0.2823\n",
      "Epoch 4/200\n",
      "2/2 [==============================] - 1s 283ms/step - loss: 3.5724 - accuracy: 0.2215 - val_loss: 4.3069 - val_accuracy: 0.3379\n",
      "Epoch 5/200\n",
      "2/2 [==============================] - 1s 288ms/step - loss: 3.4608 - accuracy: 0.2365 - val_loss: 4.2968 - val_accuracy: 0.3173\n",
      "Epoch 6/200\n",
      "2/2 [==============================] - 1s 291ms/step - loss: 3.3588 - accuracy: 0.2760 - val_loss: 4.2857 - val_accuracy: 0.3319\n",
      "Epoch 7/200\n",
      "2/2 [==============================] - 1s 291ms/step - loss: 3.2687 - accuracy: 0.3065 - val_loss: 4.2738 - val_accuracy: 0.3416\n",
      "Epoch 8/200\n",
      "2/2 [==============================] - 1s 289ms/step - loss: 3.1736 - accuracy: 0.3200 - val_loss: 4.2622 - val_accuracy: 0.3634\n",
      "Epoch 9/200\n",
      "2/2 [==============================] - 1s 302ms/step - loss: 3.0983 - accuracy: 0.3205 - val_loss: 4.2495 - val_accuracy: 0.3821\n",
      "Epoch 10/200\n",
      "2/2 [==============================] - 1s 295ms/step - loss: 3.0139 - accuracy: 0.3354 - val_loss: 4.2342 - val_accuracy: 0.3898\n",
      "Epoch 11/200\n",
      "2/2 [==============================] - 1s 285ms/step - loss: 2.9369 - accuracy: 0.3678 - val_loss: 4.2201 - val_accuracy: 0.4113\n",
      "Epoch 12/200\n",
      "2/2 [==============================] - 1s 292ms/step - loss: 2.8511 - accuracy: 0.4069 - val_loss: 4.2080 - val_accuracy: 0.4217\n",
      "Epoch 13/200\n",
      "2/2 [==============================] - 1s 292ms/step - loss: 2.7686 - accuracy: 0.4237 - val_loss: 4.1922 - val_accuracy: 0.4182\n",
      "Epoch 14/200\n",
      "2/2 [==============================] - 1s 288ms/step - loss: 2.6861 - accuracy: 0.4327 - val_loss: 4.1715 - val_accuracy: 0.4312\n",
      "Epoch 15/200\n",
      "2/2 [==============================] - 1s 297ms/step - loss: 2.6138 - accuracy: 0.4401 - val_loss: 4.1511 - val_accuracy: 0.4405\n",
      "Epoch 16/200\n",
      "2/2 [==============================] - 1s 289ms/step - loss: 2.5411 - accuracy: 0.4520 - val_loss: 4.1351 - val_accuracy: 0.4819\n",
      "Epoch 17/200\n",
      "2/2 [==============================] - 1s 298ms/step - loss: 2.4642 - accuracy: 0.4649 - val_loss: 4.1203 - val_accuracy: 0.4773\n",
      "Epoch 18/200\n",
      "2/2 [==============================] - 1s 289ms/step - loss: 2.3953 - accuracy: 0.4737 - val_loss: 4.1062 - val_accuracy: 0.4771\n",
      "Epoch 19/200\n",
      "2/2 [==============================] - 1s 299ms/step - loss: 2.3308 - accuracy: 0.4806 - val_loss: 4.0939 - val_accuracy: 0.4981\n",
      "Epoch 20/200\n",
      "2/2 [==============================] - 1s 294ms/step - loss: 2.2734 - accuracy: 0.5019 - val_loss: 4.0789 - val_accuracy: 0.5044\n",
      "Epoch 21/200\n",
      "2/2 [==============================] - 1s 296ms/step - loss: 2.2099 - accuracy: 0.5088 - val_loss: 4.0628 - val_accuracy: 0.5102\n",
      "Epoch 22/200\n",
      "2/2 [==============================] - 1s 298ms/step - loss: 2.1519 - accuracy: 0.5145 - val_loss: 4.0485 - val_accuracy: 0.5167\n",
      "Epoch 23/200\n",
      "2/2 [==============================] - 1s 296ms/step - loss: 2.0963 - accuracy: 0.5289 - val_loss: 4.0311 - val_accuracy: 0.5222\n",
      "Epoch 24/200\n",
      "2/2 [==============================] - 1s 297ms/step - loss: 2.0347 - accuracy: 0.5364 - val_loss: 4.0156 - val_accuracy: 0.5262\n",
      "Epoch 25/200\n",
      "2/2 [==============================] - 1s 296ms/step - loss: 1.9861 - accuracy: 0.5366 - val_loss: 4.0053 - val_accuracy: 0.5276\n",
      "Epoch 26/200\n",
      "2/2 [==============================] - 1s 302ms/step - loss: 1.9377 - accuracy: 0.5445 - val_loss: 3.9923 - val_accuracy: 0.5276\n",
      "Epoch 27/200\n",
      "2/2 [==============================] - 1s 304ms/step - loss: 1.8902 - accuracy: 0.5485 - val_loss: 3.9785 - val_accuracy: 0.5440\n",
      "Epoch 28/200\n",
      "2/2 [==============================] - 1s 293ms/step - loss: 1.8495 - accuracy: 0.5544 - val_loss: 3.9700 - val_accuracy: 0.5449\n",
      "Epoch 29/200\n",
      "2/2 [==============================] - 1s 302ms/step - loss: 1.8165 - accuracy: 0.5649 - val_loss: 3.9556 - val_accuracy: 0.5563\n",
      "Epoch 30/200\n",
      "2/2 [==============================] - 1s 296ms/step - loss: 1.7678 - accuracy: 0.5731 - val_loss: 3.9403 - val_accuracy: 0.5614\n",
      "Epoch 31/200\n",
      "2/2 [==============================] - 1s 298ms/step - loss: 1.7396 - accuracy: 0.5760 - val_loss: 3.9317 - val_accuracy: 0.5611\n",
      "Epoch 32/200\n",
      "2/2 [==============================] - 1s 290ms/step - loss: 1.6980 - accuracy: 0.5902 - val_loss: 3.9197 - val_accuracy: 0.5669\n",
      "Epoch 33/200\n",
      "2/2 [==============================] - 1s 295ms/step - loss: 1.6682 - accuracy: 0.5913 - val_loss: 3.9090 - val_accuracy: 0.5669\n",
      "Epoch 34/200\n",
      "2/2 [==============================] - 1s 293ms/step - loss: 1.6422 - accuracy: 0.6000 - val_loss: 3.8975 - val_accuracy: 0.5734\n",
      "Epoch 35/200\n",
      "2/2 [==============================] - 1s 299ms/step - loss: 1.6164 - accuracy: 0.6058 - val_loss: 3.8815 - val_accuracy: 0.5702\n",
      "Epoch 36/200\n",
      "2/2 [==============================] - 1s 286ms/step - loss: 1.5900 - accuracy: 0.6007 - val_loss: 3.8644 - val_accuracy: 0.5838\n",
      "Epoch 37/200\n",
      "2/2 [==============================] - 1s 312ms/step - loss: 1.5655 - accuracy: 0.6108 - val_loss: 3.8530 - val_accuracy: 0.5838\n",
      "Epoch 38/200\n",
      "2/2 [==============================] - 1s 293ms/step - loss: 1.5329 - accuracy: 0.6127 - val_loss: 3.8431 - val_accuracy: 0.5797\n",
      "Epoch 39/200\n",
      "2/2 [==============================] - 1s 299ms/step - loss: 1.5149 - accuracy: 0.6152 - val_loss: 3.8326 - val_accuracy: 0.5929\n",
      "Epoch 40/200\n",
      "2/2 [==============================] - 1s 298ms/step - loss: 1.4883 - accuracy: 0.6216 - val_loss: 3.8241 - val_accuracy: 0.5804\n",
      "Epoch 41/200\n",
      "2/2 [==============================] - 1s 299ms/step - loss: 1.4747 - accuracy: 0.6221 - val_loss: 3.8106 - val_accuracy: 0.5966\n",
      "Epoch 42/200\n",
      "2/2 [==============================] - 1s 294ms/step - loss: 1.4523 - accuracy: 0.6290 - val_loss: 3.8051 - val_accuracy: 0.5889\n",
      "Epoch 43/200\n",
      "2/2 [==============================] - 1s 304ms/step - loss: 1.4429 - accuracy: 0.6269 - val_loss: 3.7893 - val_accuracy: 0.5926\n",
      "Epoch 44/200\n",
      "2/2 [==============================] - 1s 303ms/step - loss: 1.4182 - accuracy: 0.6329 - val_loss: 3.7713 - val_accuracy: 0.6026\n",
      "Epoch 45/200\n",
      "2/2 [==============================] - 1s 299ms/step - loss: 1.3989 - accuracy: 0.6317 - val_loss: 3.7667 - val_accuracy: 0.6019\n",
      "Epoch 46/200\n",
      "2/2 [==============================] - 1s 293ms/step - loss: 1.3901 - accuracy: 0.6320 - val_loss: 3.7524 - val_accuracy: 0.6056\n",
      "Epoch 47/200\n",
      "2/2 [==============================] - 1s 300ms/step - loss: 1.3756 - accuracy: 0.6404 - val_loss: 3.7433 - val_accuracy: 0.6072\n",
      "Epoch 48/200\n",
      "2/2 [==============================] - 1s 305ms/step - loss: 1.3576 - accuracy: 0.6413 - val_loss: 3.7362 - val_accuracy: 0.6149\n",
      "Epoch 49/200\n",
      "2/2 [==============================] - 1s 295ms/step - loss: 1.3526 - accuracy: 0.6457 - val_loss: 3.7291 - val_accuracy: 0.6042\n",
      "Epoch 50/200\n",
      "2/2 [==============================] - 1s 302ms/step - loss: 1.3419 - accuracy: 0.6385 - val_loss: 3.7195 - val_accuracy: 0.6121\n",
      "Epoch 51/200\n",
      "2/2 [==============================] - 1s 298ms/step - loss: 1.3254 - accuracy: 0.6442 - val_loss: 3.7026 - val_accuracy: 0.6320\n",
      "Epoch 52/200\n",
      "2/2 [==============================] - 1s 307ms/step - loss: 1.3147 - accuracy: 0.6463 - val_loss: 3.6877 - val_accuracy: 0.6093\n",
      "Epoch 53/200\n",
      "2/2 [==============================] - 1s 295ms/step - loss: 1.3094 - accuracy: 0.6404 - val_loss: 3.6888 - val_accuracy: 0.6197\n",
      "Epoch 54/200\n",
      "2/2 [==============================] - 1s 297ms/step - loss: 1.2963 - accuracy: 0.6535 - val_loss: 3.6850 - val_accuracy: 0.5811\n",
      "Epoch 55/200\n",
      "2/2 [==============================] - 1s 298ms/step - loss: 1.2836 - accuracy: 0.6519 - val_loss: 3.6642 - val_accuracy: 0.6144\n",
      "Epoch 56/200\n",
      "2/2 [==============================] - 1s 300ms/step - loss: 1.2739 - accuracy: 0.6554 - val_loss: 3.6600 - val_accuracy: 0.6146\n",
      "Epoch 57/200\n",
      "2/2 [==============================] - 1s 296ms/step - loss: 1.2675 - accuracy: 0.6535 - val_loss: 3.6428 - val_accuracy: 0.6299\n",
      "Epoch 58/200\n",
      "2/2 [==============================] - 1s 300ms/step - loss: 1.2597 - accuracy: 0.6571 - val_loss: 3.6317 - val_accuracy: 0.6241\n"
     ]
    },
    {
     "name": "stdout",
     "output_type": "stream",
     "text": [
      "Epoch 59/200\n",
      "2/2 [==============================] - 1s 298ms/step - loss: 1.2490 - accuracy: 0.6536 - val_loss: 3.6160 - val_accuracy: 0.6320\n",
      "Epoch 60/200\n",
      "2/2 [==============================] - 1s 300ms/step - loss: 1.2385 - accuracy: 0.6616 - val_loss: 3.6002 - val_accuracy: 0.6269\n",
      "Epoch 61/200\n",
      "2/2 [==============================] - 1s 298ms/step - loss: 1.2313 - accuracy: 0.6600 - val_loss: 3.6038 - val_accuracy: 0.6132\n",
      "Epoch 62/200\n",
      "2/2 [==============================] - 1s 297ms/step - loss: 1.2255 - accuracy: 0.6620 - val_loss: 3.5884 - val_accuracy: 0.6396\n",
      "Epoch 63/200\n",
      "2/2 [==============================] - 1s 296ms/step - loss: 1.2135 - accuracy: 0.6650 - val_loss: 3.5654 - val_accuracy: 0.6295\n",
      "Epoch 64/200\n",
      "2/2 [==============================] - 1s 297ms/step - loss: 1.2098 - accuracy: 0.6577 - val_loss: 3.5477 - val_accuracy: 0.6593\n",
      "Epoch 65/200\n",
      "2/2 [==============================] - 1s 295ms/step - loss: 1.1973 - accuracy: 0.6684 - val_loss: 3.5456 - val_accuracy: 0.6241\n",
      "Epoch 66/200\n",
      "2/2 [==============================] - 1s 296ms/step - loss: 1.1973 - accuracy: 0.6646 - val_loss: 3.5460 - val_accuracy: 0.6510\n",
      "Epoch 67/200\n",
      "2/2 [==============================] - 1s 297ms/step - loss: 1.1938 - accuracy: 0.6722 - val_loss: 3.5310 - val_accuracy: 0.6230\n",
      "Epoch 68/200\n",
      "2/2 [==============================] - 1s 295ms/step - loss: 1.1856 - accuracy: 0.6685 - val_loss: 3.5113 - val_accuracy: 0.6542\n",
      "Epoch 69/200\n",
      "2/2 [==============================] - 1s 296ms/step - loss: 1.1681 - accuracy: 0.6728 - val_loss: 3.5026 - val_accuracy: 0.6350\n",
      "Epoch 70/200\n",
      "2/2 [==============================] - 1s 297ms/step - loss: 1.1600 - accuracy: 0.6766 - val_loss: 3.4917 - val_accuracy: 0.6526\n",
      "Epoch 71/200\n",
      "2/2 [==============================] - 1s 289ms/step - loss: 1.1576 - accuracy: 0.6753 - val_loss: 3.4803 - val_accuracy: 0.6346\n",
      "Epoch 72/200\n",
      "2/2 [==============================] - 1s 295ms/step - loss: 1.1582 - accuracy: 0.6733 - val_loss: 3.4668 - val_accuracy: 0.6380\n",
      "Epoch 73/200\n",
      "2/2 [==============================] - 1s 298ms/step - loss: 1.1499 - accuracy: 0.6788 - val_loss: 3.4611 - val_accuracy: 0.6559\n",
      "Epoch 74/200\n",
      "2/2 [==============================] - 1s 295ms/step - loss: 1.1475 - accuracy: 0.6711 - val_loss: 3.4438 - val_accuracy: 0.6628\n",
      "Epoch 75/200\n",
      "2/2 [==============================] - 1s 303ms/step - loss: 1.1421 - accuracy: 0.6796 - val_loss: 3.4407 - val_accuracy: 0.6452\n",
      "Epoch 76/200\n",
      "2/2 [==============================] - 1s 295ms/step - loss: 1.1339 - accuracy: 0.6761 - val_loss: 3.4263 - val_accuracy: 0.6619\n",
      "Epoch 77/200\n",
      "2/2 [==============================] - 1s 297ms/step - loss: 1.1281 - accuracy: 0.6836 - val_loss: 3.4021 - val_accuracy: 0.6468\n",
      "Epoch 78/200\n",
      "2/2 [==============================] - 1s 294ms/step - loss: 1.1193 - accuracy: 0.6762 - val_loss: 3.3882 - val_accuracy: 0.6700\n",
      "Epoch 79/200\n",
      "2/2 [==============================] - 1s 294ms/step - loss: 1.1131 - accuracy: 0.6822 - val_loss: 3.3899 - val_accuracy: 0.6559\n",
      "Epoch 80/200\n",
      "2/2 [==============================] - 1s 301ms/step - loss: 1.1098 - accuracy: 0.6820 - val_loss: 3.3726 - val_accuracy: 0.6554\n",
      "Epoch 81/200\n",
      "2/2 [==============================] - 1s 299ms/step - loss: 1.1075 - accuracy: 0.6823 - val_loss: 3.3522 - val_accuracy: 0.6760\n",
      "Epoch 82/200\n",
      "2/2 [==============================] - 1s 297ms/step - loss: 1.1011 - accuracy: 0.6820 - val_loss: 3.3458 - val_accuracy: 0.6434\n",
      "Epoch 83/200\n",
      "2/2 [==============================] - 1s 301ms/step - loss: 1.1006 - accuracy: 0.6785 - val_loss: 3.3313 - val_accuracy: 0.6584\n",
      "Epoch 84/200\n",
      "2/2 [==============================] - 1s 299ms/step - loss: 1.1009 - accuracy: 0.6804 - val_loss: 3.3208 - val_accuracy: 0.6667\n",
      "Epoch 85/200\n",
      "2/2 [==============================] - 1s 295ms/step - loss: 1.0920 - accuracy: 0.6845 - val_loss: 3.3072 - val_accuracy: 0.6538\n",
      "Epoch 86/200\n",
      "2/2 [==============================] - 1s 297ms/step - loss: 1.0877 - accuracy: 0.6859 - val_loss: 3.2940 - val_accuracy: 0.6610\n",
      "Epoch 87/200\n",
      "2/2 [==============================] - 1s 292ms/step - loss: 1.0798 - accuracy: 0.6841 - val_loss: 3.2782 - val_accuracy: 0.6672\n",
      "Epoch 88/200\n",
      "2/2 [==============================] - 1s 298ms/step - loss: 1.0743 - accuracy: 0.6859 - val_loss: 3.2695 - val_accuracy: 0.6503\n",
      "Epoch 89/200\n",
      "2/2 [==============================] - 1s 297ms/step - loss: 1.0699 - accuracy: 0.6808 - val_loss: 3.2515 - val_accuracy: 0.6725\n",
      "Epoch 90/200\n",
      "2/2 [==============================] - 1s 298ms/step - loss: 1.0688 - accuracy: 0.6869 - val_loss: 3.2435 - val_accuracy: 0.6554\n",
      "Epoch 91/200\n",
      "2/2 [==============================] - 1s 300ms/step - loss: 1.0693 - accuracy: 0.6797 - val_loss: 3.2319 - val_accuracy: 0.6679\n",
      "Epoch 92/200\n",
      "2/2 [==============================] - 1s 300ms/step - loss: 1.0612 - accuracy: 0.6886 - val_loss: 3.2234 - val_accuracy: 0.6679\n",
      "Epoch 93/200\n",
      "2/2 [==============================] - 1s 294ms/step - loss: 1.0522 - accuracy: 0.6906 - val_loss: 3.2066 - val_accuracy: 0.6656\n",
      "Epoch 94/200\n",
      "2/2 [==============================] - 1s 293ms/step - loss: 1.0517 - accuracy: 0.6874 - val_loss: 3.1922 - val_accuracy: 0.6744\n",
      "Epoch 95/200\n",
      "2/2 [==============================] - 1s 307ms/step - loss: 1.0422 - accuracy: 0.6883 - val_loss: 3.1864 - val_accuracy: 0.6698\n",
      "Epoch 96/200\n",
      "2/2 [==============================] - 1s 298ms/step - loss: 1.0387 - accuracy: 0.6948 - val_loss: 3.1627 - val_accuracy: 0.6702\n",
      "Epoch 97/200\n",
      "2/2 [==============================] - 1s 299ms/step - loss: 1.0374 - accuracy: 0.6871 - val_loss: 3.1556 - val_accuracy: 0.6700\n",
      "Epoch 98/200\n",
      "2/2 [==============================] - 1s 293ms/step - loss: 1.0351 - accuracy: 0.6894 - val_loss: 3.1450 - val_accuracy: 0.6765\n",
      "Epoch 99/200\n",
      "2/2 [==============================] - 1s 305ms/step - loss: 1.0332 - accuracy: 0.6958 - val_loss: 3.1270 - val_accuracy: 0.6700\n",
      "Epoch 100/200\n",
      "2/2 [==============================] - 1s 297ms/step - loss: 1.0278 - accuracy: 0.6895 - val_loss: 3.1110 - val_accuracy: 0.6811\n",
      "Epoch 101/200\n",
      "2/2 [==============================] - 1s 299ms/step - loss: 1.0211 - accuracy: 0.6949 - val_loss: 3.0956 - val_accuracy: 0.6649\n",
      "Epoch 102/200\n",
      "2/2 [==============================] - 1s 297ms/step - loss: 1.0233 - accuracy: 0.6940 - val_loss: 3.0883 - val_accuracy: 0.6818\n",
      "Epoch 103/200\n",
      "2/2 [==============================] - 1s 295ms/step - loss: 1.0215 - accuracy: 0.6970 - val_loss: 3.0666 - val_accuracy: 0.6730\n",
      "Epoch 104/200\n",
      "2/2 [==============================] - 1s 297ms/step - loss: 1.0131 - accuracy: 0.6910 - val_loss: 3.0503 - val_accuracy: 0.6700\n",
      "Epoch 105/200\n",
      "2/2 [==============================] - 1s 294ms/step - loss: 1.0143 - accuracy: 0.6858 - val_loss: 3.0462 - val_accuracy: 0.6721\n",
      "Epoch 106/200\n",
      "2/2 [==============================] - 1s 294ms/step - loss: 1.0129 - accuracy: 0.6996 - val_loss: 3.0185 - val_accuracy: 0.6628\n",
      "Epoch 107/200\n",
      "2/2 [==============================] - 1s 293ms/step - loss: 1.0119 - accuracy: 0.6895 - val_loss: 3.0023 - val_accuracy: 0.6760\n",
      "Epoch 108/200\n",
      "2/2 [==============================] - 1s 299ms/step - loss: 1.0046 - accuracy: 0.6950 - val_loss: 2.9888 - val_accuracy: 0.6681\n",
      "Epoch 109/200\n",
      "2/2 [==============================] - 1s 303ms/step - loss: 1.0042 - accuracy: 0.6927 - val_loss: 2.9704 - val_accuracy: 0.6716\n",
      "Epoch 110/200\n",
      "2/2 [==============================] - 1s 300ms/step - loss: 0.9967 - accuracy: 0.6947 - val_loss: 2.9658 - val_accuracy: 0.6760\n",
      "Epoch 111/200\n",
      "2/2 [==============================] - 1s 297ms/step - loss: 0.9967 - accuracy: 0.6962 - val_loss: 2.9326 - val_accuracy: 0.6765\n",
      "Epoch 112/200\n",
      "2/2 [==============================] - 1s 294ms/step - loss: 0.9936 - accuracy: 0.6983 - val_loss: 2.9227 - val_accuracy: 0.6855\n",
      "Epoch 113/200\n",
      "2/2 [==============================] - 1s 297ms/step - loss: 0.9963 - accuracy: 0.6955 - val_loss: 2.9107 - val_accuracy: 0.6753\n",
      "Epoch 114/200\n",
      "2/2 [==============================] - 1s 298ms/step - loss: 0.9859 - accuracy: 0.6992 - val_loss: 2.9028 - val_accuracy: 0.6792\n",
      "Epoch 115/200\n",
      "2/2 [==============================] - 1s 297ms/step - loss: 0.9872 - accuracy: 0.6977 - val_loss: 2.8757 - val_accuracy: 0.6739\n",
      "Epoch 116/200\n",
      "2/2 [==============================] - 1s 298ms/step - loss: 0.9825 - accuracy: 0.6996 - val_loss: 2.8589 - val_accuracy: 0.6887\n",
      "Epoch 117/200\n",
      "2/2 [==============================] - 1s 297ms/step - loss: 0.9832 - accuracy: 0.6940 - val_loss: 2.8531 - val_accuracy: 0.6929\n",
      "Epoch 118/200\n",
      "2/2 [==============================] - 1s 297ms/step - loss: 0.9830 - accuracy: 0.7017 - val_loss: 2.8339 - val_accuracy: 0.6751\n",
      "Epoch 119/200\n",
      "2/2 [==============================] - 1s 296ms/step - loss: 0.9771 - accuracy: 0.6955 - val_loss: 2.8156 - val_accuracy: 0.6901\n",
      "Epoch 120/200\n",
      "2/2 [==============================] - 1s 298ms/step - loss: 0.9801 - accuracy: 0.7017 - val_loss: 2.8061 - val_accuracy: 0.6651\n",
      "Epoch 121/200\n",
      "2/2 [==============================] - 1s 295ms/step - loss: 0.9798 - accuracy: 0.6915 - val_loss: 2.7805 - val_accuracy: 0.6809\n",
      "Epoch 122/200\n",
      "2/2 [==============================] - 1s 295ms/step - loss: 0.9696 - accuracy: 0.7027 - val_loss: 2.7732 - val_accuracy: 0.6881\n",
      "Epoch 123/200\n",
      "2/2 [==============================] - 1s 294ms/step - loss: 0.9703 - accuracy: 0.6966 - val_loss: 2.7554 - val_accuracy: 0.6855\n",
      "Epoch 124/200\n",
      "2/2 [==============================] - 1s 298ms/step - loss: 0.9698 - accuracy: 0.7016 - val_loss: 2.7383 - val_accuracy: 0.6830\n",
      "Epoch 125/200\n",
      "2/2 [==============================] - 1s 301ms/step - loss: 0.9627 - accuracy: 0.6973 - val_loss: 2.7144 - val_accuracy: 0.6841\n",
      "Epoch 126/200\n",
      "2/2 [==============================] - 1s 298ms/step - loss: 0.9585 - accuracy: 0.7034 - val_loss: 2.6995 - val_accuracy: 0.6806\n",
      "Epoch 127/200\n",
      "2/2 [==============================] - 1s 295ms/step - loss: 0.9555 - accuracy: 0.7008 - val_loss: 2.6899 - val_accuracy: 0.6952\n",
      "Epoch 128/200\n",
      "2/2 [==============================] - 1s 299ms/step - loss: 0.9525 - accuracy: 0.7102 - val_loss: 2.6843 - val_accuracy: 0.6818\n",
      "Epoch 129/200\n",
      "2/2 [==============================] - 1s 300ms/step - loss: 0.9509 - accuracy: 0.6993 - val_loss: 2.6627 - val_accuracy: 0.6830\n",
      "Epoch 130/200\n",
      "2/2 [==============================] - 1s 301ms/step - loss: 0.9549 - accuracy: 0.7017 - val_loss: 2.6315 - val_accuracy: 0.6836\n",
      "Epoch 131/200\n",
      "2/2 [==============================] - 1s 296ms/step - loss: 0.9494 - accuracy: 0.7063 - val_loss: 2.6160 - val_accuracy: 0.6857\n",
      "Epoch 132/200\n",
      "2/2 [==============================] - 1s 300ms/step - loss: 0.9555 - accuracy: 0.6954 - val_loss: 2.6118 - val_accuracy: 0.6853\n",
      "Epoch 133/200\n",
      "2/2 [==============================] - 1s 302ms/step - loss: 0.9494 - accuracy: 0.7115 - val_loss: 2.5919 - val_accuracy: 0.6790\n",
      "Epoch 134/200\n",
      "2/2 [==============================] - 1s 296ms/step - loss: 0.9440 - accuracy: 0.7011 - val_loss: 2.5711 - val_accuracy: 0.6927\n",
      "Epoch 135/200\n",
      "2/2 [==============================] - 1s 296ms/step - loss: 0.9419 - accuracy: 0.7044 - val_loss: 2.5564 - val_accuracy: 0.6980\n",
      "Epoch 136/200\n",
      "2/2 [==============================] - 1s 303ms/step - loss: 0.9362 - accuracy: 0.7054 - val_loss: 2.5414 - val_accuracy: 0.6869\n",
      "Epoch 137/200\n",
      "2/2 [==============================] - 1s 301ms/step - loss: 0.9434 - accuracy: 0.7045 - val_loss: 2.5347 - val_accuracy: 0.7019\n",
      "Epoch 138/200\n",
      "2/2 [==============================] - 1s 299ms/step - loss: 0.9281 - accuracy: 0.7064 - val_loss: 2.5048 - val_accuracy: 0.6959\n",
      "Epoch 139/200\n",
      "2/2 [==============================] - 1s 302ms/step - loss: 0.9357 - accuracy: 0.7080 - val_loss: 2.5034 - val_accuracy: 0.6887\n",
      "Epoch 140/200\n",
      "2/2 [==============================] - 1s 300ms/step - loss: 0.9318 - accuracy: 0.7072 - val_loss: 2.4827 - val_accuracy: 0.6857\n",
      "Epoch 141/200\n",
      "2/2 [==============================] - 1s 301ms/step - loss: 0.9282 - accuracy: 0.7071 - val_loss: 2.4610 - val_accuracy: 0.6962\n",
      "Epoch 142/200\n",
      "2/2 [==============================] - 1s 294ms/step - loss: 0.9258 - accuracy: 0.7120 - val_loss: 2.4525 - val_accuracy: 0.7061\n",
      "Epoch 143/200\n",
      "2/2 [==============================] - 1s 303ms/step - loss: 0.9269 - accuracy: 0.7084 - val_loss: 2.4320 - val_accuracy: 0.6901\n",
      "Epoch 144/200\n",
      "2/2 [==============================] - 1s 299ms/step - loss: 0.9308 - accuracy: 0.7071 - val_loss: 2.4105 - val_accuracy: 0.6994\n",
      "Epoch 145/200\n",
      "2/2 [==============================] - 1s 297ms/step - loss: 0.9276 - accuracy: 0.7043 - val_loss: 2.3797 - val_accuracy: 0.6975\n",
      "Epoch 146/200\n",
      "2/2 [==============================] - 1s 287ms/step - loss: 0.9255 - accuracy: 0.7069 - val_loss: 2.3846 - val_accuracy: 0.6927\n",
      "Epoch 147/200\n",
      "2/2 [==============================] - 1s 297ms/step - loss: 0.9279 - accuracy: 0.7032 - val_loss: 2.3665 - val_accuracy: 0.6922\n",
      "Epoch 148/200\n",
      "2/2 [==============================] - 1s 306ms/step - loss: 0.9125 - accuracy: 0.7126 - val_loss: 2.3524 - val_accuracy: 0.7022\n",
      "Epoch 149/200\n",
      "2/2 [==============================] - 1s 299ms/step - loss: 0.9174 - accuracy: 0.7102 - val_loss: 2.3441 - val_accuracy: 0.7089\n",
      "Epoch 150/200\n",
      "2/2 [==============================] - 1s 295ms/step - loss: 0.9140 - accuracy: 0.7118 - val_loss: 2.3228 - val_accuracy: 0.6874\n",
      "Epoch 151/200\n",
      "2/2 [==============================] - 1s 296ms/step - loss: 0.9148 - accuracy: 0.7045 - val_loss: 2.3067 - val_accuracy: 0.7182\n",
      "Epoch 152/200\n",
      "2/2 [==============================] - 1s 295ms/step - loss: 0.9171 - accuracy: 0.7097 - val_loss: 2.2843 - val_accuracy: 0.6901\n",
      "Epoch 153/200\n",
      "2/2 [==============================] - 1s 296ms/step - loss: 0.9129 - accuracy: 0.7094 - val_loss: 2.2744 - val_accuracy: 0.7080\n",
      "Epoch 154/200\n",
      "2/2 [==============================] - 1s 301ms/step - loss: 0.9051 - accuracy: 0.7144 - val_loss: 2.2470 - val_accuracy: 0.7133\n",
      "Epoch 155/200\n",
      "2/2 [==============================] - 1s 301ms/step - loss: 0.9129 - accuracy: 0.7050 - val_loss: 2.2163 - val_accuracy: 0.7107\n",
      "Epoch 156/200\n",
      "2/2 [==============================] - 1s 293ms/step - loss: 0.9118 - accuracy: 0.7106 - val_loss: 2.2126 - val_accuracy: 0.7066\n",
      "Epoch 157/200\n",
      "2/2 [==============================] - 1s 299ms/step - loss: 0.9040 - accuracy: 0.7099 - val_loss: 2.1886 - val_accuracy: 0.7024\n",
      "Epoch 158/200\n",
      "2/2 [==============================] - 1s 300ms/step - loss: 0.9077 - accuracy: 0.7073 - val_loss: 2.1880 - val_accuracy: 0.7066\n",
      "Epoch 159/200\n",
      "2/2 [==============================] - 1s 298ms/step - loss: 0.9049 - accuracy: 0.7097 - val_loss: 2.1592 - val_accuracy: 0.6948\n",
      "Epoch 160/200\n",
      "2/2 [==============================] - 1s 302ms/step - loss: 0.8988 - accuracy: 0.7046 - val_loss: 2.1392 - val_accuracy: 0.7209\n",
      "Epoch 161/200\n",
      "2/2 [==============================] - 1s 300ms/step - loss: 0.8958 - accuracy: 0.7114 - val_loss: 2.1233 - val_accuracy: 0.7151\n",
      "Epoch 162/200\n",
      "2/2 [==============================] - 1s 297ms/step - loss: 0.9020 - accuracy: 0.7112 - val_loss: 2.1007 - val_accuracy: 0.7098\n",
      "Epoch 163/200\n",
      "2/2 [==============================] - 1s 317ms/step - loss: 0.9007 - accuracy: 0.7144 - val_loss: 2.0977 - val_accuracy: 0.7103\n",
      "Epoch 164/200\n",
      "2/2 [==============================] - 1s 295ms/step - loss: 0.9009 - accuracy: 0.7108 - val_loss: 2.0774 - val_accuracy: 0.6989\n",
      "Epoch 165/200\n",
      "2/2 [==============================] - 1s 305ms/step - loss: 0.8875 - accuracy: 0.7127 - val_loss: 2.0729 - val_accuracy: 0.7142\n",
      "Epoch 166/200\n",
      "2/2 [==============================] - 1s 297ms/step - loss: 0.8945 - accuracy: 0.7150 - val_loss: 2.0505 - val_accuracy: 0.7033\n",
      "Epoch 167/200\n",
      "2/2 [==============================] - 1s 298ms/step - loss: 0.8915 - accuracy: 0.7126 - val_loss: 2.0273 - val_accuracy: 0.7112\n",
      "Epoch 168/200\n",
      "2/2 [==============================] - 1s 299ms/step - loss: 0.8898 - accuracy: 0.7117 - val_loss: 2.0093 - val_accuracy: 0.7154\n",
      "Epoch 169/200\n",
      "2/2 [==============================] - 1s 299ms/step - loss: 0.8805 - accuracy: 0.7230 - val_loss: 1.9902 - val_accuracy: 0.7138\n",
      "Epoch 170/200\n",
      "2/2 [==============================] - 1s 294ms/step - loss: 0.8852 - accuracy: 0.7160 - val_loss: 1.9839 - val_accuracy: 0.7128\n",
      "Epoch 171/200\n",
      "2/2 [==============================] - 1s 294ms/step - loss: 0.8834 - accuracy: 0.7147 - val_loss: 1.9591 - val_accuracy: 0.7156\n",
      "Epoch 172/200\n",
      "2/2 [==============================] - 1s 300ms/step - loss: 0.8882 - accuracy: 0.7190 - val_loss: 1.9651 - val_accuracy: 0.7135\n",
      "Epoch 173/200\n"
     ]
    },
    {
     "name": "stdout",
     "output_type": "stream",
     "text": [
      "2/2 [==============================] - 1s 307ms/step - loss: 0.8800 - accuracy: 0.7136 - val_loss: 1.9432 - val_accuracy: 0.7050\n",
      "Epoch 174/200\n",
      "2/2 [==============================] - 1s 301ms/step - loss: 0.8878 - accuracy: 0.7181 - val_loss: 1.9229 - val_accuracy: 0.7112\n",
      "Epoch 175/200\n",
      "2/2 [==============================] - 1s 300ms/step - loss: 0.8824 - accuracy: 0.7155 - val_loss: 1.8858 - val_accuracy: 0.7126\n",
      "Epoch 176/200\n",
      "2/2 [==============================] - 1s 297ms/step - loss: 0.8819 - accuracy: 0.7182 - val_loss: 1.8929 - val_accuracy: 0.7156\n",
      "Epoch 177/200\n",
      "2/2 [==============================] - 1s 299ms/step - loss: 0.8839 - accuracy: 0.7117 - val_loss: 1.8655 - val_accuracy: 0.7142\n",
      "Epoch 178/200\n",
      "2/2 [==============================] - 1s 301ms/step - loss: 0.8802 - accuracy: 0.7195 - val_loss: 1.8599 - val_accuracy: 0.7258\n",
      "Epoch 179/200\n",
      "2/2 [==============================] - 1s 293ms/step - loss: 0.8901 - accuracy: 0.7074 - val_loss: 1.8307 - val_accuracy: 0.7140\n",
      "Epoch 180/200\n",
      "2/2 [==============================] - 1s 294ms/step - loss: 0.8872 - accuracy: 0.7182 - val_loss: 1.8335 - val_accuracy: 0.7191\n",
      "Epoch 181/200\n",
      "2/2 [==============================] - 1s 298ms/step - loss: 0.8717 - accuracy: 0.7160 - val_loss: 1.8276 - val_accuracy: 0.7205\n",
      "Epoch 182/200\n",
      "2/2 [==============================] - 1s 299ms/step - loss: 0.8736 - accuracy: 0.7257 - val_loss: 1.7954 - val_accuracy: 0.7105\n",
      "Epoch 183/200\n",
      "2/2 [==============================] - 1s 365ms/step - loss: 0.8701 - accuracy: 0.7215 - val_loss: 1.7788 - val_accuracy: 0.7214\n",
      "Epoch 184/200\n",
      "2/2 [==============================] - 1s 294ms/step - loss: 0.8642 - accuracy: 0.7189 - val_loss: 1.7638 - val_accuracy: 0.7216\n",
      "Epoch 185/200\n",
      "2/2 [==============================] - 1s 300ms/step - loss: 0.8714 - accuracy: 0.7215 - val_loss: 1.7503 - val_accuracy: 0.7096\n",
      "Epoch 186/200\n",
      "2/2 [==============================] - 1s 303ms/step - loss: 0.8687 - accuracy: 0.7158 - val_loss: 1.7391 - val_accuracy: 0.7251\n",
      "Epoch 187/200\n",
      "2/2 [==============================] - 1s 298ms/step - loss: 0.8679 - accuracy: 0.7180 - val_loss: 1.7181 - val_accuracy: 0.7138\n",
      "Epoch 188/200\n",
      "2/2 [==============================] - 1s 305ms/step - loss: 0.8565 - accuracy: 0.7198 - val_loss: 1.7294 - val_accuracy: 0.7253\n",
      "Epoch 189/200\n",
      "2/2 [==============================] - 1s 295ms/step - loss: 0.8660 - accuracy: 0.7206 - val_loss: 1.6978 - val_accuracy: 0.7221\n",
      "Epoch 190/200\n",
      "2/2 [==============================] - 1s 294ms/step - loss: 0.8638 - accuracy: 0.7228 - val_loss: 1.6841 - val_accuracy: 0.7244\n",
      "Epoch 191/200\n",
      "2/2 [==============================] - 1s 300ms/step - loss: 0.8644 - accuracy: 0.7217 - val_loss: 1.6685 - val_accuracy: 0.7219\n",
      "Epoch 192/200\n",
      "2/2 [==============================] - 1s 300ms/step - loss: 0.8593 - accuracy: 0.7230 - val_loss: 1.6354 - val_accuracy: 0.7151\n",
      "Epoch 193/200\n",
      "2/2 [==============================] - 1s 292ms/step - loss: 0.8567 - accuracy: 0.7239 - val_loss: 1.6400 - val_accuracy: 0.7286\n",
      "Epoch 194/200\n",
      "2/2 [==============================] - 1s 296ms/step - loss: 0.8549 - accuracy: 0.7214 - val_loss: 1.6171 - val_accuracy: 0.7154\n",
      "Epoch 195/200\n",
      "2/2 [==============================] - 1s 291ms/step - loss: 0.8568 - accuracy: 0.7204 - val_loss: 1.6168 - val_accuracy: 0.7302\n",
      "Epoch 196/200\n",
      "2/2 [==============================] - 1s 297ms/step - loss: 0.8521 - accuracy: 0.7256 - val_loss: 1.5987 - val_accuracy: 0.7186\n",
      "Epoch 197/200\n",
      "2/2 [==============================] - 1s 297ms/step - loss: 0.8552 - accuracy: 0.7205 - val_loss: 1.5872 - val_accuracy: 0.7246\n",
      "Epoch 198/200\n",
      "2/2 [==============================] - 1s 301ms/step - loss: 0.8505 - accuracy: 0.7258 - val_loss: 1.5751 - val_accuracy: 0.7337\n",
      "Epoch 199/200\n",
      "2/2 [==============================] - 1s 300ms/step - loss: 0.8494 - accuracy: 0.7174 - val_loss: 1.5616 - val_accuracy: 0.7209\n",
      "Epoch 200/200\n",
      "2/2 [==============================] - 1s 290ms/step - loss: 0.8524 - accuracy: 0.7181 - val_loss: 1.5363 - val_accuracy: 0.7332\n"
     ]
    },
    {
     "data": {
      "text/plain": [
       "<tensorflow.python.keras.callbacks.History at 0x7ff5e44efa90>"
      ]
     },
     "execution_count": 12,
     "metadata": {},
     "output_type": "execute_result"
    }
   ],
   "source": [
    "# get train, test and validation set\n",
    "X_train, X_test, X_val, y_train, y_test, y_val = get_train_test_val_split()\n",
    "\n",
    "# convert target column into catogorical vector\n",
    "y_train1=to_categorical(y_train,num_classes=81)\n",
    "y_test1=to_categorical(y_test,num_classes=81)\n",
    "y_val1=to_categorical(y_val,num_classes=81)\n",
    "\n",
    "# display shape of each set\n",
    "print(\"Shape of y_train\",y_train.shape)\n",
    "print(\"Shape of y_test\",y_test.shape)\n",
    "print(\"Shape of y_val\",y_val.shape)\n",
    "\n",
    "# model initialization\n",
    "d1_cnn_model = tf.keras.Sequential([\n",
    "    layers.Dense(4096, input_dim=5,  activation='relu'),\n",
    "    layers.Reshape((256, 16)),\n",
    "    layers.BatchNormalization(),\n",
    "    layers.Dropout(0.2),\n",
    "    layers.Conv1D(filters=16, kernel_size=5, strides=1, activation='relu'),\n",
    "    layers.MaxPooling1D(pool_size=2),\n",
    "    layers.Flatten(),\n",
    "    layers.Dense(16, activation='relu'),\n",
    "    layers.Dense(81, activation='softmax'),\n",
    "])\n",
    "\n",
    "# compose model\n",
    "d1_cnn_model.compile(loss='categorical_crossentropy',optimizer='adam',metrics=['accuracy'])\n",
    "\n",
    "# congigure early stopping teachnique\n",
    "early_stopping = tf.keras.callbacks.EarlyStopping(\n",
    "    patience=5,\n",
    "    min_delta=0.005,\n",
    "    restore_best_weights=True,\n",
    ")\n",
    "\n",
    "# fit model\n",
    "d1_cnn_model.fit(\n",
    "    X_train, y_train1,\n",
    "    batch_size=10000,\n",
    "    epochs=200,\n",
    "    callbacks=[early_stopping],\n",
    "    validation_data=(X_val, y_val1),\n",
    ")"
   ]
  },
  {
   "cell_type": "code",
   "execution_count": 13,
   "id": "ab4eb88f",
   "metadata": {},
   "outputs": [
    {
     "name": "stdout",
     "output_type": "stream",
     "text": [
      "Accuracy Score : 0.721398795738768\n",
      "=======================\n",
      "\n",
      "Precision Score : 0.7114509277169722\n",
      "========================\n",
      "\n",
      "Recall Score : 0.721398795738768\n",
      "=====================\n",
      "\n",
      "F1 Score : 0.6907603908925406\n",
      "=================\n",
      "\n"
     ]
    }
   ],
   "source": [
    "# make prediction using trained model\n",
    "y_pred = d1_cnn_model.predict_classes(X_test)\n",
    "# calculate accuracy and other evaluation measures\n",
    "make_predictions(y_test, list(y_pred))"
   ]
  },
  {
   "cell_type": "markdown",
   "id": "9cc34bd3",
   "metadata": {},
   "source": [
    "# 04 Tabular"
   ]
  },
  {
   "cell_type": "code",
   "execution_count": 14,
   "id": "fe01221e",
   "metadata": {},
   "outputs": [
    {
     "name": "stderr",
     "output_type": "stream",
     "text": [
      "Global seed set to 42\n",
      "GPU available: True, used: False\n",
      "TPU available: False, using: 0 TPU cores\n",
      "\n",
      "  | Name                   | Type                | Params\n",
      "---------------------------------------------------------------\n",
      "0 | embedding_layers       | ModuleList          | 0     \n",
      "1 | normalizing_batch_norm | BatchNorm1d         | 10    \n",
      "2 | backbone               | FeedForwardBackbone | 793 K \n",
      "3 | output_layer           | Linear              | 41.6 K\n",
      "4 | loss                   | CrossEntropyLoss    | 0     \n",
      "---------------------------------------------------------------\n",
      "835 K     Trainable params\n",
      "0         Non-trainable params\n",
      "835 K     Total params\n",
      "3.341     Total estimated model params size (MB)\n",
      "Global seed set to 42\n"
     ]
    },
    {
     "data": {
      "application/vnd.jupyter.widget-view+json": {
       "model_id": "48a7d818108c4340aaec513577f1118f",
       "version_major": 2,
       "version_minor": 0
      },
      "text/plain": [
       "Finding best initial lr:   0%|          | 0/100 [00:00<?, ?it/s]"
      ]
     },
     "metadata": {},
     "output_type": "display_data"
    },
    {
     "name": "stdout",
     "output_type": "stream",
     "text": [
      "--------------------------------------------------------------------------------\n",
      "DATALOADER:0 VALIDATE RESULTS\n",
      "{}\n",
      "--------------------------------------------------------------------------------\n",
      "--------------------------------------------------------------------------------\n",
      "DATALOADER:0 VALIDATE RESULTS\n",
      "{}\n",
      "--------------------------------------------------------------------------------\n",
      "--------------------------------------------------------------------------------\n",
      "DATALOADER:0 VALIDATE RESULTS\n",
      "{}\n",
      "--------------------------------------------------------------------------------\n",
      "--------------------------------------------------------------------------------\n",
      "DATALOADER:0 VALIDATE RESULTS\n",
      "{}\n",
      "--------------------------------------------------------------------------------\n",
      "--------------------------------------------------------------------------------\n",
      "DATALOADER:0 VALIDATE RESULTS\n",
      "{}\n",
      "--------------------------------------------------------------------------------\n",
      "--------------------------------------------------------------------------------\n",
      "DATALOADER:0 VALIDATE RESULTS\n",
      "{}\n",
      "--------------------------------------------------------------------------------\n",
      "--------------------------------------------------------------------------------\n",
      "DATALOADER:0 VALIDATE RESULTS\n",
      "{}\n",
      "--------------------------------------------------------------------------------\n"
     ]
    },
    {
     "name": "stderr",
     "output_type": "stream",
     "text": [
      "LR finder stopped early after 99 steps due to diverging loss.\n",
      "Restored states from the checkpoint file at /home/icrl/abdul/service/lr_find_temp_model.ckpt\n",
      "Learning rate set to 0.0013182567385564075\n",
      "\n",
      "  | Name                   | Type                | Params\n",
      "---------------------------------------------------------------\n",
      "0 | embedding_layers       | ModuleList          | 0     \n",
      "1 | normalizing_batch_norm | BatchNorm1d         | 10    \n",
      "2 | backbone               | FeedForwardBackbone | 793 K \n",
      "3 | output_layer           | Linear              | 41.6 K\n",
      "4 | loss                   | CrossEntropyLoss    | 0     \n",
      "---------------------------------------------------------------\n",
      "835 K     Trainable params\n",
      "0         Non-trainable params\n",
      "835 K     Total params\n",
      "3.341     Total estimated model params size (MB)\n"
     ]
    },
    {
     "data": {
      "application/vnd.jupyter.widget-view+json": {
       "model_id": "",
       "version_major": 2,
       "version_minor": 0
      },
      "text/plain": [
       "Validation sanity check: 0it [00:00, ?it/s]"
      ]
     },
     "metadata": {},
     "output_type": "display_data"
    },
    {
     "name": "stderr",
     "output_type": "stream",
     "text": [
      "Global seed set to 42\n"
     ]
    },
    {
     "data": {
      "application/vnd.jupyter.widget-view+json": {
       "model_id": "e5ddd141d5684cd69c25d391956cd5e1",
       "version_major": 2,
       "version_minor": 0
      },
      "text/plain": [
       "Training: 7it [00:00, ?it/s]"
      ]
     },
     "metadata": {},
     "output_type": "display_data"
    },
    {
     "data": {
      "application/vnd.jupyter.widget-view+json": {
       "model_id": "",
       "version_major": 2,
       "version_minor": 0
      },
      "text/plain": [
       "Validating: 0it [00:00, ?it/s]"
      ]
     },
     "metadata": {},
     "output_type": "display_data"
    },
    {
     "data": {
      "application/vnd.jupyter.widget-view+json": {
       "model_id": "",
       "version_major": 2,
       "version_minor": 0
      },
      "text/plain": [
       "Validating: 0it [00:00, ?it/s]"
      ]
     },
     "metadata": {},
     "output_type": "display_data"
    },
    {
     "data": {
      "application/vnd.jupyter.widget-view+json": {
       "model_id": "",
       "version_major": 2,
       "version_minor": 0
      },
      "text/plain": [
       "Validating: 0it [00:00, ?it/s]"
      ]
     },
     "metadata": {},
     "output_type": "display_data"
    },
    {
     "data": {
      "application/vnd.jupyter.widget-view+json": {
       "model_id": "",
       "version_major": 2,
       "version_minor": 0
      },
      "text/plain": [
       "Validating: 0it [00:00, ?it/s]"
      ]
     },
     "metadata": {},
     "output_type": "display_data"
    },
    {
     "data": {
      "application/vnd.jupyter.widget-view+json": {
       "model_id": "",
       "version_major": 2,
       "version_minor": 0
      },
      "text/plain": [
       "Validating: 0it [00:00, ?it/s]"
      ]
     },
     "metadata": {},
     "output_type": "display_data"
    },
    {
     "data": {
      "application/vnd.jupyter.widget-view+json": {
       "model_id": "",
       "version_major": 2,
       "version_minor": 0
      },
      "text/plain": [
       "Validating: 0it [00:00, ?it/s]"
      ]
     },
     "metadata": {},
     "output_type": "display_data"
    },
    {
     "data": {
      "application/vnd.jupyter.widget-view+json": {
       "model_id": "",
       "version_major": 2,
       "version_minor": 0
      },
      "text/plain": [
       "Validating: 0it [00:00, ?it/s]"
      ]
     },
     "metadata": {},
     "output_type": "display_data"
    },
    {
     "data": {
      "application/vnd.jupyter.widget-view+json": {
       "model_id": "",
       "version_major": 2,
       "version_minor": 0
      },
      "text/plain": [
       "Validating: 0it [00:00, ?it/s]"
      ]
     },
     "metadata": {},
     "output_type": "display_data"
    },
    {
     "data": {
      "application/vnd.jupyter.widget-view+json": {
       "model_id": "",
       "version_major": 2,
       "version_minor": 0
      },
      "text/plain": [
       "Validating: 0it [00:00, ?it/s]"
      ]
     },
     "metadata": {},
     "output_type": "display_data"
    },
    {
     "data": {
      "application/vnd.jupyter.widget-view+json": {
       "model_id": "",
       "version_major": 2,
       "version_minor": 0
      },
      "text/plain": [
       "Validating: 0it [00:00, ?it/s]"
      ]
     },
     "metadata": {},
     "output_type": "display_data"
    },
    {
     "data": {
      "application/vnd.jupyter.widget-view+json": {
       "model_id": "",
       "version_major": 2,
       "version_minor": 0
      },
      "text/plain": [
       "Validating: 0it [00:00, ?it/s]"
      ]
     },
     "metadata": {},
     "output_type": "display_data"
    },
    {
     "data": {
      "application/vnd.jupyter.widget-view+json": {
       "model_id": "",
       "version_major": 2,
       "version_minor": 0
      },
      "text/plain": [
       "Validating: 0it [00:00, ?it/s]"
      ]
     },
     "metadata": {},
     "output_type": "display_data"
    },
    {
     "data": {
      "application/vnd.jupyter.widget-view+json": {
       "model_id": "",
       "version_major": 2,
       "version_minor": 0
      },
      "text/plain": [
       "Validating: 0it [00:00, ?it/s]"
      ]
     },
     "metadata": {},
     "output_type": "display_data"
    },
    {
     "data": {
      "application/vnd.jupyter.widget-view+json": {
       "model_id": "",
       "version_major": 2,
       "version_minor": 0
      },
      "text/plain": [
       "Validating: 0it [00:00, ?it/s]"
      ]
     },
     "metadata": {},
     "output_type": "display_data"
    },
    {
     "data": {
      "application/vnd.jupyter.widget-view+json": {
       "model_id": "",
       "version_major": 2,
       "version_minor": 0
      },
      "text/plain": [
       "Validating: 0it [00:00, ?it/s]"
      ]
     },
     "metadata": {},
     "output_type": "display_data"
    },
    {
     "data": {
      "application/vnd.jupyter.widget-view+json": {
       "model_id": "",
       "version_major": 2,
       "version_minor": 0
      },
      "text/plain": [
       "Validating: 0it [00:00, ?it/s]"
      ]
     },
     "metadata": {},
     "output_type": "display_data"
    },
    {
     "data": {
      "application/vnd.jupyter.widget-view+json": {
       "model_id": "",
       "version_major": 2,
       "version_minor": 0
      },
      "text/plain": [
       "Validating: 0it [00:00, ?it/s]"
      ]
     },
     "metadata": {},
     "output_type": "display_data"
    },
    {
     "data": {
      "application/vnd.jupyter.widget-view+json": {
       "model_id": "",
       "version_major": 2,
       "version_minor": 0
      },
      "text/plain": [
       "Validating: 0it [00:00, ?it/s]"
      ]
     },
     "metadata": {},
     "output_type": "display_data"
    },
    {
     "data": {
      "application/vnd.jupyter.widget-view+json": {
       "model_id": "",
       "version_major": 2,
       "version_minor": 0
      },
      "text/plain": [
       "Validating: 0it [00:00, ?it/s]"
      ]
     },
     "metadata": {},
     "output_type": "display_data"
    },
    {
     "data": {
      "application/vnd.jupyter.widget-view+json": {
       "model_id": "",
       "version_major": 2,
       "version_minor": 0
      },
      "text/plain": [
       "Validating: 0it [00:00, ?it/s]"
      ]
     },
     "metadata": {},
     "output_type": "display_data"
    },
    {
     "data": {
      "application/vnd.jupyter.widget-view+json": {
       "model_id": "",
       "version_major": 2,
       "version_minor": 0
      },
      "text/plain": [
       "Validating: 0it [00:00, ?it/s]"
      ]
     },
     "metadata": {},
     "output_type": "display_data"
    },
    {
     "data": {
      "application/vnd.jupyter.widget-view+json": {
       "model_id": "",
       "version_major": 2,
       "version_minor": 0
      },
      "text/plain": [
       "Validating: 0it [00:00, ?it/s]"
      ]
     },
     "metadata": {},
     "output_type": "display_data"
    },
    {
     "data": {
      "application/vnd.jupyter.widget-view+json": {
       "model_id": "",
       "version_major": 2,
       "version_minor": 0
      },
      "text/plain": [
       "Validating: 0it [00:00, ?it/s]"
      ]
     },
     "metadata": {},
     "output_type": "display_data"
    },
    {
     "data": {
      "application/vnd.jupyter.widget-view+json": {
       "model_id": "",
       "version_major": 2,
       "version_minor": 0
      },
      "text/plain": [
       "Validating: 0it [00:00, ?it/s]"
      ]
     },
     "metadata": {},
     "output_type": "display_data"
    },
    {
     "data": {
      "application/vnd.jupyter.widget-view+json": {
       "model_id": "",
       "version_major": 2,
       "version_minor": 0
      },
      "text/plain": [
       "Validating: 0it [00:00, ?it/s]"
      ]
     },
     "metadata": {},
     "output_type": "display_data"
    },
    {
     "data": {
      "application/vnd.jupyter.widget-view+json": {
       "model_id": "",
       "version_major": 2,
       "version_minor": 0
      },
      "text/plain": [
       "Validating: 0it [00:00, ?it/s]"
      ]
     },
     "metadata": {},
     "output_type": "display_data"
    },
    {
     "data": {
      "application/vnd.jupyter.widget-view+json": {
       "model_id": "",
       "version_major": 2,
       "version_minor": 0
      },
      "text/plain": [
       "Validating: 0it [00:00, ?it/s]"
      ]
     },
     "metadata": {},
     "output_type": "display_data"
    },
    {
     "data": {
      "application/vnd.jupyter.widget-view+json": {
       "model_id": "",
       "version_major": 2,
       "version_minor": 0
      },
      "text/plain": [
       "Validating: 0it [00:00, ?it/s]"
      ]
     },
     "metadata": {},
     "output_type": "display_data"
    },
    {
     "data": {
      "application/vnd.jupyter.widget-view+json": {
       "model_id": "",
       "version_major": 2,
       "version_minor": 0
      },
      "text/plain": [
       "Validating: 0it [00:00, ?it/s]"
      ]
     },
     "metadata": {},
     "output_type": "display_data"
    },
    {
     "data": {
      "application/vnd.jupyter.widget-view+json": {
       "model_id": "",
       "version_major": 2,
       "version_minor": 0
      },
      "text/plain": [
       "Validating: 0it [00:00, ?it/s]"
      ]
     },
     "metadata": {},
     "output_type": "display_data"
    },
    {
     "data": {
      "application/vnd.jupyter.widget-view+json": {
       "model_id": "",
       "version_major": 2,
       "version_minor": 0
      },
      "text/plain": [
       "Validating: 0it [00:00, ?it/s]"
      ]
     },
     "metadata": {},
     "output_type": "display_data"
    },
    {
     "data": {
      "application/vnd.jupyter.widget-view+json": {
       "model_id": "",
       "version_major": 2,
       "version_minor": 0
      },
      "text/plain": [
       "Validating: 0it [00:00, ?it/s]"
      ]
     },
     "metadata": {},
     "output_type": "display_data"
    },
    {
     "data": {
      "application/vnd.jupyter.widget-view+json": {
       "model_id": "",
       "version_major": 2,
       "version_minor": 0
      },
      "text/plain": [
       "Validating: 0it [00:00, ?it/s]"
      ]
     },
     "metadata": {},
     "output_type": "display_data"
    },
    {
     "data": {
      "application/vnd.jupyter.widget-view+json": {
       "model_id": "",
       "version_major": 2,
       "version_minor": 0
      },
      "text/plain": [
       "Validating: 0it [00:00, ?it/s]"
      ]
     },
     "metadata": {},
     "output_type": "display_data"
    },
    {
     "data": {
      "application/vnd.jupyter.widget-view+json": {
       "model_id": "",
       "version_major": 2,
       "version_minor": 0
      },
      "text/plain": [
       "Validating: 0it [00:00, ?it/s]"
      ]
     },
     "metadata": {},
     "output_type": "display_data"
    },
    {
     "data": {
      "application/vnd.jupyter.widget-view+json": {
       "model_id": "",
       "version_major": 2,
       "version_minor": 0
      },
      "text/plain": [
       "Validating: 0it [00:00, ?it/s]"
      ]
     },
     "metadata": {},
     "output_type": "display_data"
    },
    {
     "data": {
      "application/vnd.jupyter.widget-view+json": {
       "model_id": "",
       "version_major": 2,
       "version_minor": 0
      },
      "text/plain": [
       "Validating: 0it [00:00, ?it/s]"
      ]
     },
     "metadata": {},
     "output_type": "display_data"
    },
    {
     "data": {
      "application/vnd.jupyter.widget-view+json": {
       "model_id": "",
       "version_major": 2,
       "version_minor": 0
      },
      "text/plain": [
       "Validating: 0it [00:00, ?it/s]"
      ]
     },
     "metadata": {},
     "output_type": "display_data"
    },
    {
     "data": {
      "application/vnd.jupyter.widget-view+json": {
       "model_id": "",
       "version_major": 2,
       "version_minor": 0
      },
      "text/plain": [
       "Validating: 0it [00:00, ?it/s]"
      ]
     },
     "metadata": {},
     "output_type": "display_data"
    },
    {
     "data": {
      "application/vnd.jupyter.widget-view+json": {
       "model_id": "",
       "version_major": 2,
       "version_minor": 0
      },
      "text/plain": [
       "Validating: 0it [00:00, ?it/s]"
      ]
     },
     "metadata": {},
     "output_type": "display_data"
    },
    {
     "data": {
      "application/vnd.jupyter.widget-view+json": {
       "model_id": "",
       "version_major": 2,
       "version_minor": 0
      },
      "text/plain": [
       "Validating: 0it [00:00, ?it/s]"
      ]
     },
     "metadata": {},
     "output_type": "display_data"
    },
    {
     "data": {
      "application/vnd.jupyter.widget-view+json": {
       "model_id": "",
       "version_major": 2,
       "version_minor": 0
      },
      "text/plain": [
       "Validating: 0it [00:00, ?it/s]"
      ]
     },
     "metadata": {},
     "output_type": "display_data"
    },
    {
     "data": {
      "application/vnd.jupyter.widget-view+json": {
       "model_id": "",
       "version_major": 2,
       "version_minor": 0
      },
      "text/plain": [
       "Validating: 0it [00:00, ?it/s]"
      ]
     },
     "metadata": {},
     "output_type": "display_data"
    },
    {
     "data": {
      "application/vnd.jupyter.widget-view+json": {
       "model_id": "",
       "version_major": 2,
       "version_minor": 0
      },
      "text/plain": [
       "Validating: 0it [00:00, ?it/s]"
      ]
     },
     "metadata": {},
     "output_type": "display_data"
    },
    {
     "data": {
      "application/vnd.jupyter.widget-view+json": {
       "model_id": "",
       "version_major": 2,
       "version_minor": 0
      },
      "text/plain": [
       "Validating: 0it [00:00, ?it/s]"
      ]
     },
     "metadata": {},
     "output_type": "display_data"
    },
    {
     "data": {
      "application/vnd.jupyter.widget-view+json": {
       "model_id": "",
       "version_major": 2,
       "version_minor": 0
      },
      "text/plain": [
       "Validating: 0it [00:00, ?it/s]"
      ]
     },
     "metadata": {},
     "output_type": "display_data"
    },
    {
     "data": {
      "application/vnd.jupyter.widget-view+json": {
       "model_id": "",
       "version_major": 2,
       "version_minor": 0
      },
      "text/plain": [
       "Validating: 0it [00:00, ?it/s]"
      ]
     },
     "metadata": {},
     "output_type": "display_data"
    },
    {
     "data": {
      "application/vnd.jupyter.widget-view+json": {
       "model_id": "",
       "version_major": 2,
       "version_minor": 0
      },
      "text/plain": [
       "Validating: 0it [00:00, ?it/s]"
      ]
     },
     "metadata": {},
     "output_type": "display_data"
    },
    {
     "data": {
      "application/vnd.jupyter.widget-view+json": {
       "model_id": "",
       "version_major": 2,
       "version_minor": 0
      },
      "text/plain": [
       "Validating: 0it [00:00, ?it/s]"
      ]
     },
     "metadata": {},
     "output_type": "display_data"
    },
    {
     "data": {
      "application/vnd.jupyter.widget-view+json": {
       "model_id": "",
       "version_major": 2,
       "version_minor": 0
      },
      "text/plain": [
       "Validating: 0it [00:00, ?it/s]"
      ]
     },
     "metadata": {},
     "output_type": "display_data"
    },
    {
     "data": {
      "application/vnd.jupyter.widget-view+json": {
       "model_id": "",
       "version_major": 2,
       "version_minor": 0
      },
      "text/plain": [
       "Validating: 0it [00:00, ?it/s]"
      ]
     },
     "metadata": {},
     "output_type": "display_data"
    },
    {
     "data": {
      "application/vnd.jupyter.widget-view+json": {
       "model_id": "",
       "version_major": 2,
       "version_minor": 0
      },
      "text/plain": [
       "Validating: 0it [00:00, ?it/s]"
      ]
     },
     "metadata": {},
     "output_type": "display_data"
    },
    {
     "data": {
      "application/vnd.jupyter.widget-view+json": {
       "model_id": "",
       "version_major": 2,
       "version_minor": 0
      },
      "text/plain": [
       "Validating: 0it [00:00, ?it/s]"
      ]
     },
     "metadata": {},
     "output_type": "display_data"
    },
    {
     "data": {
      "application/vnd.jupyter.widget-view+json": {
       "model_id": "",
       "version_major": 2,
       "version_minor": 0
      },
      "text/plain": [
       "Validating: 0it [00:00, ?it/s]"
      ]
     },
     "metadata": {},
     "output_type": "display_data"
    },
    {
     "data": {
      "application/vnd.jupyter.widget-view+json": {
       "model_id": "",
       "version_major": 2,
       "version_minor": 0
      },
      "text/plain": [
       "Validating: 0it [00:00, ?it/s]"
      ]
     },
     "metadata": {},
     "output_type": "display_data"
    },
    {
     "data": {
      "application/vnd.jupyter.widget-view+json": {
       "model_id": "",
       "version_major": 2,
       "version_minor": 0
      },
      "text/plain": [
       "Validating: 0it [00:00, ?it/s]"
      ]
     },
     "metadata": {},
     "output_type": "display_data"
    },
    {
     "data": {
      "application/vnd.jupyter.widget-view+json": {
       "model_id": "",
       "version_major": 2,
       "version_minor": 0
      },
      "text/plain": [
       "Validating: 0it [00:00, ?it/s]"
      ]
     },
     "metadata": {},
     "output_type": "display_data"
    },
    {
     "data": {
      "application/vnd.jupyter.widget-view+json": {
       "model_id": "",
       "version_major": 2,
       "version_minor": 0
      },
      "text/plain": [
       "Validating: 0it [00:00, ?it/s]"
      ]
     },
     "metadata": {},
     "output_type": "display_data"
    },
    {
     "data": {
      "application/vnd.jupyter.widget-view+json": {
       "model_id": "",
       "version_major": 2,
       "version_minor": 0
      },
      "text/plain": [
       "Validating: 0it [00:00, ?it/s]"
      ]
     },
     "metadata": {},
     "output_type": "display_data"
    },
    {
     "data": {
      "application/vnd.jupyter.widget-view+json": {
       "model_id": "",
       "version_major": 2,
       "version_minor": 0
      },
      "text/plain": [
       "Validating: 0it [00:00, ?it/s]"
      ]
     },
     "metadata": {},
     "output_type": "display_data"
    },
    {
     "data": {
      "application/vnd.jupyter.widget-view+json": {
       "model_id": "",
       "version_major": 2,
       "version_minor": 0
      },
      "text/plain": [
       "Validating: 0it [00:00, ?it/s]"
      ]
     },
     "metadata": {},
     "output_type": "display_data"
    },
    {
     "data": {
      "application/vnd.jupyter.widget-view+json": {
       "model_id": "",
       "version_major": 2,
       "version_minor": 0
      },
      "text/plain": [
       "Validating: 0it [00:00, ?it/s]"
      ]
     },
     "metadata": {},
     "output_type": "display_data"
    },
    {
     "data": {
      "application/vnd.jupyter.widget-view+json": {
       "model_id": "",
       "version_major": 2,
       "version_minor": 0
      },
      "text/plain": [
       "Validating: 0it [00:00, ?it/s]"
      ]
     },
     "metadata": {},
     "output_type": "display_data"
    },
    {
     "data": {
      "application/vnd.jupyter.widget-view+json": {
       "model_id": "",
       "version_major": 2,
       "version_minor": 0
      },
      "text/plain": [
       "Validating: 0it [00:00, ?it/s]"
      ]
     },
     "metadata": {},
     "output_type": "display_data"
    },
    {
     "data": {
      "application/vnd.jupyter.widget-view+json": {
       "model_id": "",
       "version_major": 2,
       "version_minor": 0
      },
      "text/plain": [
       "Validating: 0it [00:00, ?it/s]"
      ]
     },
     "metadata": {},
     "output_type": "display_data"
    },
    {
     "data": {
      "application/vnd.jupyter.widget-view+json": {
       "model_id": "",
       "version_major": 2,
       "version_minor": 0
      },
      "text/plain": [
       "Validating: 0it [00:00, ?it/s]"
      ]
     },
     "metadata": {},
     "output_type": "display_data"
    },
    {
     "data": {
      "application/vnd.jupyter.widget-view+json": {
       "model_id": "",
       "version_major": 2,
       "version_minor": 0
      },
      "text/plain": [
       "Validating: 0it [00:00, ?it/s]"
      ]
     },
     "metadata": {},
     "output_type": "display_data"
    },
    {
     "data": {
      "application/vnd.jupyter.widget-view+json": {
       "model_id": "",
       "version_major": 2,
       "version_minor": 0
      },
      "text/plain": [
       "Validating: 0it [00:00, ?it/s]"
      ]
     },
     "metadata": {},
     "output_type": "display_data"
    },
    {
     "data": {
      "application/vnd.jupyter.widget-view+json": {
       "model_id": "",
       "version_major": 2,
       "version_minor": 0
      },
      "text/plain": [
       "Validating: 0it [00:00, ?it/s]"
      ]
     },
     "metadata": {},
     "output_type": "display_data"
    },
    {
     "data": {
      "application/vnd.jupyter.widget-view+json": {
       "model_id": "",
       "version_major": 2,
       "version_minor": 0
      },
      "text/plain": [
       "Validating: 0it [00:00, ?it/s]"
      ]
     },
     "metadata": {},
     "output_type": "display_data"
    },
    {
     "data": {
      "application/vnd.jupyter.widget-view+json": {
       "model_id": "",
       "version_major": 2,
       "version_minor": 0
      },
      "text/plain": [
       "Validating: 0it [00:00, ?it/s]"
      ]
     },
     "metadata": {},
     "output_type": "display_data"
    },
    {
     "data": {
      "application/vnd.jupyter.widget-view+json": {
       "model_id": "",
       "version_major": 2,
       "version_minor": 0
      },
      "text/plain": [
       "Validating: 0it [00:00, ?it/s]"
      ]
     },
     "metadata": {},
     "output_type": "display_data"
    },
    {
     "data": {
      "application/vnd.jupyter.widget-view+json": {
       "model_id": "",
       "version_major": 2,
       "version_minor": 0
      },
      "text/plain": [
       "Validating: 0it [00:00, ?it/s]"
      ]
     },
     "metadata": {},
     "output_type": "display_data"
    },
    {
     "data": {
      "application/vnd.jupyter.widget-view+json": {
       "model_id": "",
       "version_major": 2,
       "version_minor": 0
      },
      "text/plain": [
       "Validating: 0it [00:00, ?it/s]"
      ]
     },
     "metadata": {},
     "output_type": "display_data"
    },
    {
     "data": {
      "application/vnd.jupyter.widget-view+json": {
       "model_id": "",
       "version_major": 2,
       "version_minor": 0
      },
      "text/plain": [
       "Validating: 0it [00:00, ?it/s]"
      ]
     },
     "metadata": {},
     "output_type": "display_data"
    },
    {
     "data": {
      "application/vnd.jupyter.widget-view+json": {
       "model_id": "",
       "version_major": 2,
       "version_minor": 0
      },
      "text/plain": [
       "Validating: 0it [00:00, ?it/s]"
      ]
     },
     "metadata": {},
     "output_type": "display_data"
    },
    {
     "data": {
      "application/vnd.jupyter.widget-view+json": {
       "model_id": "",
       "version_major": 2,
       "version_minor": 0
      },
      "text/plain": [
       "Validating: 0it [00:00, ?it/s]"
      ]
     },
     "metadata": {},
     "output_type": "display_data"
    },
    {
     "data": {
      "application/vnd.jupyter.widget-view+json": {
       "model_id": "",
       "version_major": 2,
       "version_minor": 0
      },
      "text/plain": [
       "Validating: 0it [00:00, ?it/s]"
      ]
     },
     "metadata": {},
     "output_type": "display_data"
    },
    {
     "data": {
      "application/vnd.jupyter.widget-view+json": {
       "model_id": "",
       "version_major": 2,
       "version_minor": 0
      },
      "text/plain": [
       "Validating: 0it [00:00, ?it/s]"
      ]
     },
     "metadata": {},
     "output_type": "display_data"
    },
    {
     "data": {
      "application/vnd.jupyter.widget-view+json": {
       "model_id": "",
       "version_major": 2,
       "version_minor": 0
      },
      "text/plain": [
       "Validating: 0it [00:00, ?it/s]"
      ]
     },
     "metadata": {},
     "output_type": "display_data"
    },
    {
     "data": {
      "application/vnd.jupyter.widget-view+json": {
       "model_id": "",
       "version_major": 2,
       "version_minor": 0
      },
      "text/plain": [
       "Validating: 0it [00:00, ?it/s]"
      ]
     },
     "metadata": {},
     "output_type": "display_data"
    },
    {
     "data": {
      "application/vnd.jupyter.widget-view+json": {
       "model_id": "",
       "version_major": 2,
       "version_minor": 0
      },
      "text/plain": [
       "Validating: 0it [00:00, ?it/s]"
      ]
     },
     "metadata": {},
     "output_type": "display_data"
    },
    {
     "data": {
      "application/vnd.jupyter.widget-view+json": {
       "model_id": "",
       "version_major": 2,
       "version_minor": 0
      },
      "text/plain": [
       "Validating: 0it [00:00, ?it/s]"
      ]
     },
     "metadata": {},
     "output_type": "display_data"
    },
    {
     "data": {
      "application/vnd.jupyter.widget-view+json": {
       "model_id": "",
       "version_major": 2,
       "version_minor": 0
      },
      "text/plain": [
       "Validating: 0it [00:00, ?it/s]"
      ]
     },
     "metadata": {},
     "output_type": "display_data"
    },
    {
     "data": {
      "application/vnd.jupyter.widget-view+json": {
       "model_id": "",
       "version_major": 2,
       "version_minor": 0
      },
      "text/plain": [
       "Validating: 0it [00:00, ?it/s]"
      ]
     },
     "metadata": {},
     "output_type": "display_data"
    },
    {
     "data": {
      "application/vnd.jupyter.widget-view+json": {
       "model_id": "",
       "version_major": 2,
       "version_minor": 0
      },
      "text/plain": [
       "Validating: 0it [00:00, ?it/s]"
      ]
     },
     "metadata": {},
     "output_type": "display_data"
    },
    {
     "data": {
      "application/vnd.jupyter.widget-view+json": {
       "model_id": "",
       "version_major": 2,
       "version_minor": 0
      },
      "text/plain": [
       "Validating: 0it [00:00, ?it/s]"
      ]
     },
     "metadata": {},
     "output_type": "display_data"
    },
    {
     "data": {
      "application/vnd.jupyter.widget-view+json": {
       "model_id": "",
       "version_major": 2,
       "version_minor": 0
      },
      "text/plain": [
       "Validating: 0it [00:00, ?it/s]"
      ]
     },
     "metadata": {},
     "output_type": "display_data"
    },
    {
     "data": {
      "application/vnd.jupyter.widget-view+json": {
       "model_id": "714d34f2be554b2d8a6e8bd545917d53",
       "version_major": 2,
       "version_minor": 0
      },
      "text/plain": [
       "Testing: 0it [00:00, ?it/s]"
      ]
     },
     "metadata": {},
     "output_type": "display_data"
    },
    {
     "name": "stderr",
     "output_type": "stream",
     "text": [
      "Directory is not empty. Overwriting the contents.\n",
      "GPU available: True, used: False\n",
      "TPU available: False, using: 0 TPU cores\n"
     ]
    },
    {
     "name": "stdout",
     "output_type": "stream",
     "text": [
      "--------------------------------------------------------------------------------\n",
      "DATALOADER:0 TEST RESULTS\n",
      "{'test_accuracy': 0.7149143218994141}\n",
      "--------------------------------------------------------------------------------\n"
     ]
    }
   ],
   "source": [
    "# get train, test and validation set\n",
    "train, test, val = get_train_test_val_split_df()\n",
    "\n",
    "# configure data settings\n",
    "data_config = DataConfig(\n",
    "    target=[target], #target should always be a list. Multi-targets are only supported for regression. Multi-Task Classification is not implemented\n",
    "    continuous_cols= features,\n",
    "#     categorical_cols=cat_col_names,\n",
    ")\n",
    "\n",
    "# configure model settings\n",
    "trainer_config = TrainerConfig(\n",
    "    auto_lr_find=True, # Runs the LRFinder to automatically derive a learning rate\n",
    "    batch_size=1024,\n",
    "    max_epochs=100,\n",
    "     #index of the GPU to use. 0, means CPU\n",
    ")\n",
    "optimizer_config = OptimizerConfig()\n",
    "\n",
    "model_config = CategoryEmbeddingModelConfig(\n",
    "    task=\"classification\",\n",
    "    layers=\"1024-512-512\",  # Number of nodes in each layer\n",
    "    activation=\"LeakyReLU\", # Activation between each layers\n",
    "    learning_rate = 1e-3\n",
    ")\n",
    "\n",
    "# model initialization \n",
    "tabular_model = TabularModel(\n",
    "    data_config=data_config,\n",
    "    model_config=model_config,\n",
    "    optimizer_config=optimizer_config,\n",
    "    trainer_config=trainer_config,\n",
    ")\n",
    "\n",
    "# model training\n",
    "tabular_model.fit(train=train, validation=val)\n",
    "result = tabular_model.evaluate(test) # model evaluation\n",
    "tabular_model.save_model(\"examples/basic\") #save model\n",
    "loaded_model = TabularModel.load_from_checkpoint(\"examples/basic\") # load best model"
   ]
  },
  {
   "cell_type": "code",
   "execution_count": 15,
   "id": "b2aa0901",
   "metadata": {},
   "outputs": [
    {
     "data": {
      "application/vnd.jupyter.widget-view+json": {
       "model_id": "1f1a3fe7542a4c9b802fab66b03d3d87",
       "version_major": 2,
       "version_minor": 0
      },
      "text/plain": [
       "Generating Predictions...:   0%|          | 0/5 [00:00<?, ?it/s]"
      ]
     },
     "metadata": {},
     "output_type": "display_data"
    },
    {
     "name": "stdout",
     "output_type": "stream",
     "text": [
      "Accuracy Score : 0.7149143121815655\n",
      "=======================\n",
      "\n",
      "Precision Score : 0.8377158980326221\n",
      "========================\n",
      "\n",
      "Recall Score : 0.7149143121815655\n",
      "=====================\n",
      "\n",
      "F1 Score : 0.7481872850203887\n",
      "=================\n",
      "\n"
     ]
    }
   ],
   "source": [
    "# make prediction using trained model\n",
    "result = tabular_model.predict(test)\n",
    "# calculate accuracy and other evaluation measures\n",
    "make_predictions(list(result['prediction']), list(test['Organisation']))"
   ]
  },
  {
   "cell_type": "markdown",
   "id": "3310ac73",
   "metadata": {},
   "source": [
    "# 05 CatBoost"
   ]
  },
  {
   "cell_type": "code",
   "execution_count": 16,
   "id": "f0159675",
   "metadata": {},
   "outputs": [],
   "source": [
    "# get train, test and validation set\n",
    "X_train, X_test, y_train, y_test = get_train_test_split()\n",
    "\n",
    "# preparing data for model training\n",
    "train_pool = Pool(X_train, y_train)\n",
    "test_pool = Pool(X_test, y_test)"
   ]
  },
  {
   "cell_type": "code",
   "execution_count": 17,
   "id": "986da0b0",
   "metadata": {},
   "outputs": [
    {
     "name": "stdout",
     "output_type": "stream",
     "text": [
      "0:\tlearn: 6.6398889\ttotal: 133ms\tremaining: 13.1s\n",
      "1:\tlearn: 26.7154290\ttotal: 209ms\tremaining: 10.2s\n",
      "2:\tlearn: 25.0390011\ttotal: 291ms\tremaining: 9.41s\n",
      "3:\tlearn: 27.9179582\ttotal: 373ms\tremaining: 8.96s\n",
      "4:\tlearn: 27.6662266\ttotal: 451ms\tremaining: 8.57s\n",
      "5:\tlearn: 24.3365161\ttotal: 527ms\tremaining: 8.26s\n",
      "6:\tlearn: 22.7642866\ttotal: 606ms\tremaining: 8.06s\n",
      "7:\tlearn: 22.2705243\ttotal: 684ms\tremaining: 7.87s\n",
      "8:\tlearn: 30.0200739\ttotal: 762ms\tremaining: 7.7s\n",
      "9:\tlearn: 20.5755521\ttotal: 845ms\tremaining: 7.6s\n",
      "10:\tlearn: 25.7702153\ttotal: 921ms\tremaining: 7.45s\n",
      "11:\tlearn: 17.3316083\ttotal: 999ms\tremaining: 7.33s\n",
      "12:\tlearn: 17.9294586\ttotal: 1.08s\tremaining: 7.22s\n",
      "13:\tlearn: 17.4389841\ttotal: 1.16s\tremaining: 7.13s\n",
      "14:\tlearn: 18.2803072\ttotal: 1.25s\tremaining: 7.08s\n",
      "15:\tlearn: 15.3027875\ttotal: 1.33s\tremaining: 6.99s\n",
      "16:\tlearn: 13.7449825\ttotal: 1.41s\tremaining: 6.88s\n",
      "17:\tlearn: 18.9562253\ttotal: 1.49s\tremaining: 6.78s\n",
      "18:\tlearn: 17.3777941\ttotal: 1.57s\tremaining: 6.68s\n",
      "19:\tlearn: 18.1371312\ttotal: 1.64s\tremaining: 6.57s\n",
      "20:\tlearn: 17.0463122\ttotal: 1.72s\tremaining: 6.48s\n",
      "21:\tlearn: 20.5404726\ttotal: 1.8s\tremaining: 6.38s\n",
      "22:\tlearn: 24.7776065\ttotal: 1.88s\tremaining: 6.28s\n",
      "23:\tlearn: 21.0841403\ttotal: 1.96s\tremaining: 6.2s\n",
      "24:\tlearn: 19.8108228\ttotal: 2.04s\tremaining: 6.12s\n",
      "25:\tlearn: 18.6336348\ttotal: 2.12s\tremaining: 6.03s\n",
      "26:\tlearn: 17.3824511\ttotal: 2.2s\tremaining: 5.96s\n",
      "27:\tlearn: 17.8040614\ttotal: 2.28s\tremaining: 5.86s\n",
      "28:\tlearn: 15.5818041\ttotal: 2.36s\tremaining: 5.78s\n",
      "29:\tlearn: 26.0163857\ttotal: 2.45s\tremaining: 5.72s\n",
      "30:\tlearn: 20.6712505\ttotal: 2.53s\tremaining: 5.63s\n",
      "31:\tlearn: 15.9080157\ttotal: 2.61s\tremaining: 5.55s\n",
      "32:\tlearn: 16.0133970\ttotal: 2.69s\tremaining: 5.46s\n",
      "33:\tlearn: 18.8902222\ttotal: 2.77s\tremaining: 5.37s\n",
      "34:\tlearn: 24.1609136\ttotal: 2.85s\tremaining: 5.29s\n",
      "35:\tlearn: 17.3436187\ttotal: 2.93s\tremaining: 5.21s\n",
      "36:\tlearn: 15.4019095\ttotal: 3.02s\tremaining: 5.13s\n",
      "37:\tlearn: 17.1472040\ttotal: 3.09s\tremaining: 5.05s\n",
      "38:\tlearn: 14.2309998\ttotal: 3.17s\tremaining: 4.96s\n",
      "39:\tlearn: 16.9707745\ttotal: 3.25s\tremaining: 4.88s\n",
      "40:\tlearn: 14.9589273\ttotal: 3.33s\tremaining: 4.79s\n",
      "41:\tlearn: 15.5910575\ttotal: 3.41s\tremaining: 4.71s\n",
      "42:\tlearn: 11.5172459\ttotal: 3.49s\tremaining: 4.63s\n",
      "43:\tlearn: 24.9522142\ttotal: 3.57s\tremaining: 4.54s\n",
      "44:\tlearn: 17.0428877\ttotal: 3.66s\tremaining: 4.47s\n",
      "45:\tlearn: 11.7316834\ttotal: 3.74s\tremaining: 4.39s\n",
      "46:\tlearn: 10.3590697\ttotal: 3.82s\tremaining: 4.31s\n",
      "47:\tlearn: 12.7581034\ttotal: 3.9s\tremaining: 4.22s\n",
      "48:\tlearn: 13.3627077\ttotal: 3.98s\tremaining: 4.14s\n",
      "49:\tlearn: 14.4839208\ttotal: 4.06s\tremaining: 4.06s\n",
      "50:\tlearn: 14.7327228\ttotal: 4.13s\tremaining: 3.97s\n",
      "51:\tlearn: 17.9292876\ttotal: 4.21s\tremaining: 3.89s\n",
      "52:\tlearn: 13.7086165\ttotal: 4.29s\tremaining: 3.81s\n",
      "53:\tlearn: 13.7191423\ttotal: 4.37s\tremaining: 3.72s\n",
      "54:\tlearn: 13.4885063\ttotal: 4.45s\tremaining: 3.64s\n",
      "55:\tlearn: 15.5682648\ttotal: 4.53s\tremaining: 3.56s\n",
      "56:\tlearn: 12.6736808\ttotal: 4.6s\tremaining: 3.47s\n",
      "57:\tlearn: 16.1809545\ttotal: 4.69s\tremaining: 3.39s\n",
      "58:\tlearn: 14.4369939\ttotal: 4.77s\tremaining: 3.31s\n",
      "59:\tlearn: 13.0746552\ttotal: 4.85s\tremaining: 3.23s\n",
      "60:\tlearn: 25.7148150\ttotal: 4.93s\tremaining: 3.15s\n",
      "61:\tlearn: 22.2196896\ttotal: 5.02s\tremaining: 3.07s\n",
      "62:\tlearn: 15.9573559\ttotal: 5.1s\tremaining: 2.99s\n",
      "63:\tlearn: 14.9837447\ttotal: 5.18s\tremaining: 2.91s\n",
      "64:\tlearn: 11.5614485\ttotal: 5.25s\tremaining: 2.83s\n",
      "65:\tlearn: 15.8956526\ttotal: 5.33s\tremaining: 2.75s\n",
      "66:\tlearn: 21.8342287\ttotal: 5.41s\tremaining: 2.67s\n",
      "67:\tlearn: 13.5304281\ttotal: 5.49s\tremaining: 2.58s\n",
      "68:\tlearn: 17.2436473\ttotal: 5.57s\tremaining: 2.5s\n",
      "69:\tlearn: 15.3838564\ttotal: 5.65s\tremaining: 2.42s\n",
      "70:\tlearn: 13.1444804\ttotal: 5.73s\tremaining: 2.34s\n",
      "71:\tlearn: 21.6321794\ttotal: 5.81s\tremaining: 2.26s\n",
      "72:\tlearn: 19.9445995\ttotal: 5.89s\tremaining: 2.18s\n",
      "73:\tlearn: 19.1605823\ttotal: 5.97s\tremaining: 2.1s\n",
      "74:\tlearn: 15.7692669\ttotal: 6.08s\tremaining: 2.03s\n",
      "75:\tlearn: 16.4876599\ttotal: 6.16s\tremaining: 1.95s\n",
      "76:\tlearn: 13.9820496\ttotal: 6.24s\tremaining: 1.86s\n",
      "77:\tlearn: 12.3993383\ttotal: 6.32s\tremaining: 1.78s\n",
      "78:\tlearn: 13.9958769\ttotal: 6.4s\tremaining: 1.7s\n",
      "79:\tlearn: 14.5129825\ttotal: 6.48s\tremaining: 1.62s\n",
      "80:\tlearn: 14.1822986\ttotal: 6.56s\tremaining: 1.54s\n",
      "81:\tlearn: 13.0638687\ttotal: 6.64s\tremaining: 1.46s\n",
      "82:\tlearn: 17.2823639\ttotal: 6.72s\tremaining: 1.38s\n",
      "83:\tlearn: 15.2388446\ttotal: 6.8s\tremaining: 1.29s\n",
      "84:\tlearn: 12.7725034\ttotal: 6.88s\tremaining: 1.21s\n",
      "85:\tlearn: 15.4654517\ttotal: 6.96s\tremaining: 1.13s\n",
      "86:\tlearn: 18.5554100\ttotal: 7.06s\tremaining: 1.05s\n",
      "87:\tlearn: 16.9044196\ttotal: 7.13s\tremaining: 972ms\n",
      "88:\tlearn: 14.5718559\ttotal: 7.21s\tremaining: 891ms\n",
      "89:\tlearn: 12.9083575\ttotal: 7.29s\tremaining: 810ms\n",
      "90:\tlearn: 16.4839871\ttotal: 7.37s\tremaining: 728ms\n",
      "91:\tlearn: 12.8806912\ttotal: 7.45s\tremaining: 648ms\n",
      "92:\tlearn: 13.9705051\ttotal: 7.52s\tremaining: 566ms\n",
      "93:\tlearn: 17.7094791\ttotal: 7.61s\tremaining: 485ms\n",
      "94:\tlearn: 13.3948850\ttotal: 7.69s\tremaining: 405ms\n",
      "95:\tlearn: 15.8518621\ttotal: 7.77s\tremaining: 324ms\n",
      "96:\tlearn: 12.4124318\ttotal: 7.85s\tremaining: 243ms\n",
      "97:\tlearn: 15.2146022\ttotal: 7.93s\tremaining: 162ms\n",
      "98:\tlearn: 17.9863765\ttotal: 8.01s\tremaining: 80.9ms\n",
      "99:\tlearn: 19.6888390\ttotal: 8.09s\tremaining: 0us\n"
     ]
    },
    {
     "data": {
      "text/plain": [
       "<catboost.core.CatBoostClassifier at 0x7ff5a07788d0>"
      ]
     },
     "execution_count": 17,
     "metadata": {},
     "output_type": "execute_result"
    }
   ],
   "source": [
    "# model hyper paramete settings\n",
    "search_space = {'iterations': hp.quniform('iterations', 10, 1000, 10),\n",
    "                'depth': hp.quniform('depth', 2, 12, 1),\n",
    "                'lr': hp.uniform('lr', 0.01, 1)\n",
    "               }\n",
    "\n",
    "# model initialization and training\n",
    "model = CatBoostClassifier(iterations=100,\n",
    "                             depth=8,\n",
    "                             learning_rate=1,\n",
    "                             loss_function='MultiClass') \n",
    "model.fit(train_pool)"
   ]
  },
  {
   "cell_type": "code",
   "execution_count": 18,
   "id": "941dadde",
   "metadata": {},
   "outputs": [
    {
     "name": "stdout",
     "output_type": "stream",
     "text": [
      "Accuracy Score : 0.6922186197313571\n",
      "=======================\n",
      "\n",
      "Precision Score : 0.6738816359713172\n",
      "========================\n",
      "\n",
      "Recall Score : 0.6922186197313571\n",
      "=====================\n",
      "\n",
      "F1 Score : 0.6654606926174099\n",
      "=================\n",
      "\n"
     ]
    }
   ],
   "source": [
    "# make prediction using trained model\n",
    "predictions = model.predict(test_pool)\n",
    "# calculate accuracy and other evaluation measures\n",
    "y_pred = [pred[0] for pred in predictions]\n",
    "make_predictions(y_test, y_pred)"
   ]
  },
  {
   "cell_type": "markdown",
   "id": "f1f20bc2",
   "metadata": {},
   "source": [
    "# 06 Deeptables"
   ]
  },
  {
   "cell_type": "code",
   "execution_count": 19,
   "id": "3ae79a15",
   "metadata": {},
   "outputs": [
    {
     "name": "stdout",
     "output_type": "stream",
     "text": [
      "03-18 12:16:08 I deeptables.m.deeptable.py 338 - X.Shape=(12953, 5), y.Shape=(12953,), batch_size=128, config=ModelConfig(name='conf-1', nets=['dnn_nets'], categorical_columns='auto', exclude_columns=[], task='auto', pos_label=None, metrics=['accuracy'], auto_categorize=False, cat_exponent=0.5, cat_remain_numeric=True, auto_encode_label=True, auto_imputation=True, auto_discrete=False, auto_discard_unique=True, apply_gbm_features=False, gbm_params={}, gbm_feature_type='embedding', fixed_embedding_dim=True, embeddings_output_dim=4, embeddings_initializer='uniform', embeddings_regularizer=None, embeddings_activity_regularizer=None, dense_dropout=0, embedding_dropout=0.3, stacking_op='add', output_use_bias=True, apply_class_weight=False, optimizer='auto', loss='auto', dnn_params={'hidden_units': ((128, 0, False), (64, 0, False)), 'activation': 'relu'}, autoint_params={'num_attention': 3, 'num_heads': 1, 'dropout_rate': 0, 'use_residual': True}, fgcnn_params={'fg_filters': (14, 16), 'fg_heights': (7, 7), 'fg_pool_heights': (2, 2), 'fg_new_feat_filters': (2, 2)}, fibinet_params={'senet_pooling_op': 'mean', 'senet_reduction_ratio': 3, 'bilinear_type': 'field_interaction'}, cross_params={'num_cross_layer': 4}, pnn_params={'outer_product_kernel_type': 'mat'}, afm_params={'attention_factor': 4, 'dropout_rate': 0}, cin_params={'cross_layer_size': (128, 128), 'activation': 'relu', 'use_residual': False, 'use_bias': False, 'direct': False, 'reduce_D': False}, home_dir=None, monitor_metric=None, earlystopping_patience=1, earlystopping_mode='auto', gpu_usage_strategy='memory_growth', distribute_strategy=None, var_len_categorical_columns=None)\n",
      "03-18 12:16:08 I deeptables.m.deeptable.py 339 - metrics:['accuracy']\n",
      "03-18 12:16:08 I deeptables.m.preprocessor.py 242 - Transform [X]...\n"
     ]
    },
    {
     "name": "stderr",
     "output_type": "stream",
     "text": [
      "03-18 12:16:08 W deeptables.m.__init__.py 1395 - Column index of X has been converted: Index(['x_0', 'x_1', 'x_2', 'x_3', 'x_4'], dtype='object')\n"
     ]
    },
    {
     "name": "stdout",
     "output_type": "stream",
     "text": [
      "03-18 12:16:08 I deeptables.m.preprocessor.py 249 - transform_X taken 0.008198976516723633s\n",
      "03-18 12:16:08 I deeptables.m.preprocessor.py 230 - Transform [y]...\n",
      "03-18 12:16:08 I deeptables.m.preprocessor.py 236 - transform_y taken 0.001897573471069336s\n",
      "03-18 12:16:08 I deeptables.m.preprocessor.py 242 - Transform [X]...\n"
     ]
    },
    {
     "name": "stderr",
     "output_type": "stream",
     "text": [
      "03-18 12:16:08 W deeptables.m.__init__.py 1395 - Column index of X has been converted: Index(['x_0', 'x_1', 'x_2', 'x_3', 'x_4'], dtype='object')\n"
     ]
    },
    {
     "name": "stdout",
     "output_type": "stream",
     "text": [
      "03-18 12:16:08 I deeptables.m.preprocessor.py 249 - transform_X taken 0.007321596145629883s\n",
      "03-18 12:16:08 I deeptables.m.preprocessor.py 230 - Transform [y]...\n",
      "03-18 12:16:08 I deeptables.m.preprocessor.py 236 - transform_y taken 0.0010607242584228516s\n",
      "03-18 12:16:08 I deeptables.m.deeptable.py 354 - Training...\n",
      "03-18 12:16:08 I deeptables.m.deeptable.py 752 - Injected a callback [EarlyStopping]. monitor:val_accuracy, patience:1, mode:max\n",
      "03-18 12:16:08 I deeptables.u.dataset_generator.py 240 - create dataset generator with _TFDGForPandas, batch_size=128, shuffle=True, drop_remainder=True\n",
      "03-18 12:16:08 I deeptables.u.dataset_generator.py 240 - create dataset generator with _TFDGForPandas, batch_size=128, shuffle=True, drop_remainder=True\n",
      "03-18 12:16:08 I deeptables.m.deepmodel.py 231 - Building model...\n",
      "03-18 12:16:08 I deeptables.m.deepmodel.py 287 - >>>>>>>>>>>>>>>>>>>>>> Model Desc <<<<<<<<<<<<<<<<<<<<<<< \n",
      "---------------------------------------------------------\n",
      "inputs:\n",
      "---------------------------------------------------------\n",
      "['input_continuous_all: (5)']\n",
      "---------------------------------------------------------\n",
      "embeddings:\n",
      "---------------------------------------------------------\n",
      "None\n",
      "---------------------------------------------------------\n",
      "dense: dropout: 0\n",
      "batch_normalization: False\n",
      "---------------------------------------------------------\n",
      "concat_embed_dense: shape: (None, 5)\n",
      "---------------------------------------------------------\n",
      "nets: ['dnn_nets']\n",
      "---------------------------------------------------------\n",
      "dnn: input_shape (None, 5), output_shape (None, 64)\n",
      "---------------------------------------------------------\n",
      "stacking_op: add\n",
      "---------------------------------------------------------\n",
      "output: activation: softmax, output_shape: (None, 81), use_bias: True\n",
      "loss: categorical_crossentropy\n",
      "optimizer: Adam\n",
      "---------------------------------------------------------\n",
      "\n",
      "03-18 12:16:08 I deeptables.m.deepmodel.py 105 - training...\n",
      "Epoch 1/100\n",
      "101/101 [==============================] - 0s 2ms/step - loss: 3.4312 - accuracy: 0.2241 - val_loss: 1.9483 - val_accuracy: 0.4626\n",
      "Epoch 2/100\n",
      "101/101 [==============================] - 0s 1ms/step - loss: 1.8390 - accuracy: 0.4917 - val_loss: 1.6089 - val_accuracy: 0.5469\n",
      "Epoch 3/100\n",
      "101/101 [==============================] - 0s 1ms/step - loss: 1.5572 - accuracy: 0.5392 - val_loss: 1.4687 - val_accuracy: 0.5461\n",
      "Restoring model weights from the end of the best epoch.\n",
      "Epoch 00003: early stopping\n",
      "03-18 12:16:09 I deeptables.m.deepmodel.py 122 - Training finished.\n",
      "03-18 12:16:09 I deeptables.m.deeptable.py 370 - Training finished.\n",
      "03-18 12:16:09 I deeptables.m.deeptable.py 704 - Model has been saved to:dt_output/dt_20220318121608_dnn_nets/dnn_nets.h5\n"
     ]
    }
   ],
   "source": [
    "# get train, test and validation set\n",
    "X_train, X_test, X_val, y_train, y_test, y_val = get_train_test_val_split()\n",
    "# initialize model\n",
    "config = deeptable.ModelConfig(nets=deepnets.DeepFM)\n",
    "dt = deeptable.DeepTable()\n",
    "# fit model\n",
    "model, history = dt.fit(X_train, y_train, validation_data=(X_val, y_val), epochs=100)"
   ]
  },
  {
   "cell_type": "code",
   "execution_count": 21,
   "id": "fbaa284e",
   "metadata": {},
   "outputs": [
    {
     "name": "stdout",
     "output_type": "stream",
     "text": [
      "03-18 12:16:09 I deeptables.m.deeptable.py 685 - Perform prediction...\n",
      "03-18 12:16:09 I deeptables.m.preprocessor.py 242 - Transform [X]...\n"
     ]
    },
    {
     "name": "stderr",
     "output_type": "stream",
     "text": [
      "03-18 12:16:09 W deeptables.m.__init__.py 1395 - Column index of X has been converted: Index(['x_0', 'x_1', 'x_2', 'x_3', 'x_4'], dtype='object')\n"
     ]
    },
    {
     "name": "stdout",
     "output_type": "stream",
     "text": [
      "03-18 12:16:09 I deeptables.m.preprocessor.py 249 - transform_X taken 0.004881620407104492s\n",
      "03-18 12:16:09 I deeptables.m.deepmodel.py 130 - Performing predictions...\n",
      "03-18 12:16:09 I deeptables.u.dataset_generator.py 240 - create dataset generator with _TFDGForPandas, batch_size=128, shuffle=False, drop_remainder=False\n",
      "03-18 12:16:09 I deeptables.m.deeptable.py 559 - predict_proba taken 0.05611467361450195s\n",
      "03-18 12:16:09 I deeptables.m.deeptable.py 594 - Reverse indicators to labels.\n",
      "Accuracy Score : 0.5599814729041223\n",
      "=======================\n",
      "\n",
      "Precision Score : 0.4794534771568447\n",
      "========================\n",
      "\n",
      "Recall Score : 0.5599814729041223\n",
      "=====================\n",
      "\n",
      "F1 Score : 0.485408976577706\n",
      "=================\n",
      "\n"
     ]
    }
   ],
   "source": [
    "# make prediction using trained model\n",
    "preds = dt.predict(X_test)\n",
    "# calculate accuracy and other evaluation measures\n",
    "make_predictions(y_test, preds)"
   ]
  },
  {
   "cell_type": "markdown",
   "id": "690e431b",
   "metadata": {},
   "source": [
    "# 07 3-layer MLP"
   ]
  },
  {
   "cell_type": "code",
   "execution_count": 23,
   "id": "e7688649",
   "metadata": {},
   "outputs": [
    {
     "data": {
      "text/plain": [
       "device(type='cuda')"
      ]
     },
     "execution_count": 23,
     "metadata": {},
     "output_type": "execute_result"
    }
   ],
   "source": [
    "# check device\n",
    "device = torch.device(\"cuda\" if torch.cuda.is_available() else \"cpu\")\n",
    "device"
   ]
  },
  {
   "cell_type": "code",
   "execution_count": 24,
   "id": "6ea629e3",
   "metadata": {},
   "outputs": [],
   "source": [
    "X_train, X_test, X_val, y_train, y_test, y_val = get_train_test_val_split()\n",
    "# get train, test and validation set\n",
    "train, test, val = get_train_test_val_split_df()\n",
    "\n",
    "# convert class list into categorical vector\n",
    "y_train1=to_categorical(train[target],num_classes=81)\n",
    "y_test1=to_categorical(test[target],num_classes=81)\n",
    "y_val1=to_categorical(val[target],num_classes=81)"
   ]
  },
  {
   "cell_type": "code",
   "execution_count": null,
   "id": "2ccf194c",
   "metadata": {},
   "outputs": [],
   "source": [
    "# parsing inputs as pytorch tensor dataset\n",
    "train_tensor_dset = TensorDataset(\n",
    "    torch.tensor(train[features].values, dtype=torch.float),\n",
    "    torch.tensor(y_train1, dtype=torch.float)\n",
    ")\n",
    "\n",
    "# parsing inputs as pytorch tensor dataset\n",
    "valid_tensor_dset = TensorDataset(\n",
    "    torch.tensor(val[features].values, dtype=torch.float),\n",
    "    torch.tensor(y_val1, dtype=torch.float)\n",
    ")\n",
    "\n",
    "# parsing inputs as pytorch tensor dataset\n",
    "test_tensor_dset = TensorDataset(\n",
    "    torch.tensor(test[features].values, dtype=torch.float),\n",
    "    torch.tensor(y_test1, dtype=torch.float) \n",
    ")"
   ]
  },
  {
   "cell_type": "code",
   "execution_count": 26,
   "id": "c42d065e",
   "metadata": {},
   "outputs": [],
   "source": [
    "# model architecture development\n",
    "class DNN(pl.LightningModule):\n",
    "\n",
    "    def __init__(self, input_dim, output_dim, nn_depth, nn_width, dropout, momentum):\n",
    "        super().__init__()\n",
    "\n",
    "        self.bn_in = nn.BatchNorm1d(input_dim, momentum=momentum)\n",
    "        self.dp_in = nn.Dropout(dropout)\n",
    "        self.ln_in = nn.Linear(input_dim, nn_width, bias=False)\n",
    "\n",
    "        self.bnorms = nn.ModuleList([nn.BatchNorm1d(nn_width, momentum=momentum) for i in range(nn_depth-1)])\n",
    "        self.dropouts = nn.ModuleList([nn.Dropout(dropout) for i in range(nn_depth-1)])\n",
    "        self.linears = nn.ModuleList([nn.Linear(nn_width, nn_width, bias=False) for i in range(nn_depth-1)])\n",
    "        \n",
    "        self.bn_out = nn.BatchNorm1d(nn_width, momentum=momentum)\n",
    "        self.dp_out = nn.Dropout(dropout/2)\n",
    "        self.ln_out = nn.Linear(nn_width, output_dim, bias=False)\n",
    "\n",
    "        self.loss = nn.BCEWithLogitsLoss()\n",
    "\n",
    "    def forward(self, x):\n",
    "        x = self.bn_in(x)\n",
    "        x = self.dp_in(x)\n",
    "        x = nn.functional.relu(self.ln_in(x))\n",
    "\n",
    "        for bn_layer,dp_layer,ln_layer in zip(self.bnorms,self.dropouts,self.linears):\n",
    "            x = bn_layer(x)\n",
    "            x = dp_layer(x)\n",
    "            x = ln_layer(x)\n",
    "            x = nn.functional.relu(x)\n",
    "            \n",
    "        x = self.bn_out(x)\n",
    "        x = self.dp_out(x)\n",
    "        x = self.ln_out(x)\n",
    "        return x\n",
    "\n",
    "    def training_step(self, batch, batch_idx):\n",
    "        X, y = batch\n",
    "        y_hat = self.forward(X)\n",
    "        loss = self.loss(y_hat, y)\n",
    "        self.log('train_loss', loss)\n",
    "        return loss\n",
    "    \n",
    "    def validation_step(self, batch, batch_idx):\n",
    "        X, y = batch\n",
    "        y_hat = self.forward(X)\n",
    "        loss = self.loss(y_hat, y)\n",
    "        self.log('valid_loss', loss)\n",
    "        \n",
    "    def test_step(self, batch, batch_idx):\n",
    "        X, y = batch\n",
    "        y_logit = self.forward(X)\n",
    "        y_probs = torch.sigmoid(y_logit).detach().cpu().numpy()\n",
    "        y_tests = torch.sigmoid(y).detach().cpu().numpy()\n",
    "        \n",
    "        y_pred = [np.argmax(y_prob) for y_prob in y_probs]\n",
    "        y_test = [np.argmax(y_test) for y_test in y_tests]\n",
    "        \n",
    "        make_predictions(y_test, y_pred)\n",
    "        \n",
    "    def configure_optimizers(self):\n",
    "        optimizer = torch.optim.SGD(self.parameters(), lr=1e-2, momentum=0.9)\n",
    "        scheduler = {\n",
    "            'scheduler': ReduceLROnPlateau(\n",
    "                optimizer, \n",
    "                mode=\"min\", \n",
    "                factor=0.5, \n",
    "                patience=5, \n",
    "                min_lr=1e-5),\n",
    "            'interval': 'epoch',\n",
    "            'frequency': 1,\n",
    "            'reduce_on_plateau': True,\n",
    "            'monitor': 'train_loss',\n",
    "        }\n",
    "        return [optimizer], [scheduler]"
   ]
  },
  {
   "cell_type": "code",
   "execution_count": 27,
   "id": "69c052a1",
   "metadata": {},
   "outputs": [
    {
     "name": "stderr",
     "output_type": "stream",
     "text": [
      "GPU available: True, used: True\n",
      "TPU available: False, using: 0 TPU cores\n"
     ]
    }
   ],
   "source": [
    "# initialize model\n",
    "model = DNN(\n",
    "    input_dim=len(features), \n",
    "    output_dim=81, \n",
    "    nn_depth=3, \n",
    "    nn_width=256, \n",
    "    dropout=0.2, \n",
    "    momentum=0.1\n",
    ")\n",
    "\n",
    "# congigure early stopping teachnique\n",
    "early_stop_callback = EarlyStopping(\n",
    "   monitor='train_loss',\n",
    "   min_delta= .001,\n",
    "   patience=20,\n",
    "   verbose=True,\n",
    "   mode='min'\n",
    ")\n",
    "\n",
    "# model configuration\n",
    "trainer = pl.Trainer(callbacks=[early_stop_callback], min_epochs=10, max_epochs=200, gpus=1)\n",
    "# model.summarize()"
   ]
  },
  {
   "cell_type": "code",
   "execution_count": 28,
   "id": "491f05b4",
   "metadata": {},
   "outputs": [
    {
     "name": "stderr",
     "output_type": "stream",
     "text": [
      "LOCAL_RANK: 0 - CUDA_VISIBLE_DEVICES: [0]\n",
      "\n",
      "  | Name     | Type              | Params\n",
      "-----------------------------------------------\n",
      "0 | bn_in    | BatchNorm1d       | 10    \n",
      "1 | dp_in    | Dropout           | 0     \n",
      "2 | ln_in    | Linear            | 1.3 K \n",
      "3 | bnorms   | ModuleList        | 1.0 K \n",
      "4 | dropouts | ModuleList        | 0     \n",
      "5 | linears  | ModuleList        | 131 K \n",
      "6 | bn_out   | BatchNorm1d       | 512   \n",
      "7 | dp_out   | Dropout           | 0     \n",
      "8 | ln_out   | Linear            | 20.7 K\n",
      "9 | loss     | BCEWithLogitsLoss | 0     \n",
      "-----------------------------------------------\n",
      "154 K     Trainable params\n",
      "0         Non-trainable params\n",
      "154 K     Total params\n",
      "0.619     Total estimated model params size (MB)\n"
     ]
    },
    {
     "data": {
      "application/vnd.jupyter.widget-view+json": {
       "model_id": "",
       "version_major": 2,
       "version_minor": 0
      },
      "text/plain": [
       "Validation sanity check: 0it [00:00, ?it/s]"
      ]
     },
     "metadata": {},
     "output_type": "display_data"
    },
    {
     "name": "stderr",
     "output_type": "stream",
     "text": [
      "Global seed set to 42\n"
     ]
    },
    {
     "data": {
      "application/vnd.jupyter.widget-view+json": {
       "model_id": "6b496fd879484c06a6c889ceafe2b939",
       "version_major": 2,
       "version_minor": 0
      },
      "text/plain": [
       "Training: 0it [00:00, ?it/s]"
      ]
     },
     "metadata": {},
     "output_type": "display_data"
    },
    {
     "data": {
      "application/vnd.jupyter.widget-view+json": {
       "model_id": "",
       "version_major": 2,
       "version_minor": 0
      },
      "text/plain": [
       "Validating: 0it [00:00, ?it/s]"
      ]
     },
     "metadata": {},
     "output_type": "display_data"
    },
    {
     "name": "stderr",
     "output_type": "stream",
     "text": [
      "Metric train_loss improved. New best score: 0.737\n"
     ]
    },
    {
     "data": {
      "application/vnd.jupyter.widget-view+json": {
       "model_id": "",
       "version_major": 2,
       "version_minor": 0
      },
      "text/plain": [
       "Validating: 0it [00:00, ?it/s]"
      ]
     },
     "metadata": {},
     "output_type": "display_data"
    },
    {
     "name": "stderr",
     "output_type": "stream",
     "text": [
      "Metric train_loss improved by 0.002 >= min_delta = 0.001. New best score: 0.736\n"
     ]
    },
    {
     "data": {
      "application/vnd.jupyter.widget-view+json": {
       "model_id": "",
       "version_major": 2,
       "version_minor": 0
      },
      "text/plain": [
       "Validating: 0it [00:00, ?it/s]"
      ]
     },
     "metadata": {},
     "output_type": "display_data"
    },
    {
     "name": "stderr",
     "output_type": "stream",
     "text": [
      "Metric train_loss improved by 0.004 >= min_delta = 0.001. New best score: 0.732\n"
     ]
    },
    {
     "data": {
      "application/vnd.jupyter.widget-view+json": {
       "model_id": "",
       "version_major": 2,
       "version_minor": 0
      },
      "text/plain": [
       "Validating: 0it [00:00, ?it/s]"
      ]
     },
     "metadata": {},
     "output_type": "display_data"
    },
    {
     "name": "stderr",
     "output_type": "stream",
     "text": [
      "Metric train_loss improved by 0.003 >= min_delta = 0.001. New best score: 0.729\n"
     ]
    },
    {
     "data": {
      "application/vnd.jupyter.widget-view+json": {
       "model_id": "",
       "version_major": 2,
       "version_minor": 0
      },
      "text/plain": [
       "Validating: 0it [00:00, ?it/s]"
      ]
     },
     "metadata": {},
     "output_type": "display_data"
    },
    {
     "name": "stderr",
     "output_type": "stream",
     "text": [
      "Metric train_loss improved by 0.002 >= min_delta = 0.001. New best score: 0.727\n"
     ]
    },
    {
     "data": {
      "application/vnd.jupyter.widget-view+json": {
       "model_id": "",
       "version_major": 2,
       "version_minor": 0
      },
      "text/plain": [
       "Validating: 0it [00:00, ?it/s]"
      ]
     },
     "metadata": {},
     "output_type": "display_data"
    },
    {
     "name": "stderr",
     "output_type": "stream",
     "text": [
      "Metric train_loss improved by 0.003 >= min_delta = 0.001. New best score: 0.724\n"
     ]
    },
    {
     "data": {
      "application/vnd.jupyter.widget-view+json": {
       "model_id": "",
       "version_major": 2,
       "version_minor": 0
      },
      "text/plain": [
       "Validating: 0it [00:00, ?it/s]"
      ]
     },
     "metadata": {},
     "output_type": "display_data"
    },
    {
     "name": "stderr",
     "output_type": "stream",
     "text": [
      "Metric train_loss improved by 0.002 >= min_delta = 0.001. New best score: 0.722\n"
     ]
    },
    {
     "data": {
      "application/vnd.jupyter.widget-view+json": {
       "model_id": "",
       "version_major": 2,
       "version_minor": 0
      },
      "text/plain": [
       "Validating: 0it [00:00, ?it/s]"
      ]
     },
     "metadata": {},
     "output_type": "display_data"
    },
    {
     "name": "stderr",
     "output_type": "stream",
     "text": [
      "Metric train_loss improved by 0.002 >= min_delta = 0.001. New best score: 0.720\n"
     ]
    },
    {
     "data": {
      "application/vnd.jupyter.widget-view+json": {
       "model_id": "",
       "version_major": 2,
       "version_minor": 0
      },
      "text/plain": [
       "Validating: 0it [00:00, ?it/s]"
      ]
     },
     "metadata": {},
     "output_type": "display_data"
    },
    {
     "name": "stderr",
     "output_type": "stream",
     "text": [
      "Metric train_loss improved by 0.002 >= min_delta = 0.001. New best score: 0.718\n"
     ]
    },
    {
     "data": {
      "application/vnd.jupyter.widget-view+json": {
       "model_id": "",
       "version_major": 2,
       "version_minor": 0
      },
      "text/plain": [
       "Validating: 0it [00:00, ?it/s]"
      ]
     },
     "metadata": {},
     "output_type": "display_data"
    },
    {
     "name": "stderr",
     "output_type": "stream",
     "text": [
      "Metric train_loss improved by 0.002 >= min_delta = 0.001. New best score: 0.716\n"
     ]
    },
    {
     "data": {
      "application/vnd.jupyter.widget-view+json": {
       "model_id": "",
       "version_major": 2,
       "version_minor": 0
      },
      "text/plain": [
       "Validating: 0it [00:00, ?it/s]"
      ]
     },
     "metadata": {},
     "output_type": "display_data"
    },
    {
     "name": "stderr",
     "output_type": "stream",
     "text": [
      "Metric train_loss improved by 0.001 >= min_delta = 0.001. New best score: 0.715\n"
     ]
    },
    {
     "data": {
      "application/vnd.jupyter.widget-view+json": {
       "model_id": "",
       "version_major": 2,
       "version_minor": 0
      },
      "text/plain": [
       "Validating: 0it [00:00, ?it/s]"
      ]
     },
     "metadata": {},
     "output_type": "display_data"
    },
    {
     "name": "stderr",
     "output_type": "stream",
     "text": [
      "Metric train_loss improved by 0.002 >= min_delta = 0.001. New best score: 0.713\n"
     ]
    },
    {
     "data": {
      "application/vnd.jupyter.widget-view+json": {
       "model_id": "",
       "version_major": 2,
       "version_minor": 0
      },
      "text/plain": [
       "Validating: 0it [00:00, ?it/s]"
      ]
     },
     "metadata": {},
     "output_type": "display_data"
    },
    {
     "name": "stderr",
     "output_type": "stream",
     "text": [
      "Metric train_loss improved by 0.002 >= min_delta = 0.001. New best score: 0.712\n"
     ]
    },
    {
     "data": {
      "application/vnd.jupyter.widget-view+json": {
       "model_id": "",
       "version_major": 2,
       "version_minor": 0
      },
      "text/plain": [
       "Validating: 0it [00:00, ?it/s]"
      ]
     },
     "metadata": {},
     "output_type": "display_data"
    },
    {
     "name": "stderr",
     "output_type": "stream",
     "text": [
      "Metric train_loss improved by 0.003 >= min_delta = 0.001. New best score: 0.709\n"
     ]
    },
    {
     "data": {
      "application/vnd.jupyter.widget-view+json": {
       "model_id": "",
       "version_major": 2,
       "version_minor": 0
      },
      "text/plain": [
       "Validating: 0it [00:00, ?it/s]"
      ]
     },
     "metadata": {},
     "output_type": "display_data"
    },
    {
     "name": "stderr",
     "output_type": "stream",
     "text": [
      "Metric train_loss improved by 0.001 >= min_delta = 0.001. New best score: 0.708\n"
     ]
    },
    {
     "data": {
      "application/vnd.jupyter.widget-view+json": {
       "model_id": "",
       "version_major": 2,
       "version_minor": 0
      },
      "text/plain": [
       "Validating: 0it [00:00, ?it/s]"
      ]
     },
     "metadata": {},
     "output_type": "display_data"
    },
    {
     "name": "stderr",
     "output_type": "stream",
     "text": [
      "Metric train_loss improved by 0.002 >= min_delta = 0.001. New best score: 0.706\n"
     ]
    },
    {
     "data": {
      "application/vnd.jupyter.widget-view+json": {
       "model_id": "",
       "version_major": 2,
       "version_minor": 0
      },
      "text/plain": [
       "Validating: 0it [00:00, ?it/s]"
      ]
     },
     "metadata": {},
     "output_type": "display_data"
    },
    {
     "data": {
      "application/vnd.jupyter.widget-view+json": {
       "model_id": "",
       "version_major": 2,
       "version_minor": 0
      },
      "text/plain": [
       "Validating: 0it [00:00, ?it/s]"
      ]
     },
     "metadata": {},
     "output_type": "display_data"
    },
    {
     "name": "stderr",
     "output_type": "stream",
     "text": [
      "Metric train_loss improved by 0.002 >= min_delta = 0.001. New best score: 0.704\n"
     ]
    },
    {
     "data": {
      "application/vnd.jupyter.widget-view+json": {
       "model_id": "",
       "version_major": 2,
       "version_minor": 0
      },
      "text/plain": [
       "Validating: 0it [00:00, ?it/s]"
      ]
     },
     "metadata": {},
     "output_type": "display_data"
    },
    {
     "name": "stderr",
     "output_type": "stream",
     "text": [
      "Metric train_loss improved by 0.002 >= min_delta = 0.001. New best score: 0.701\n"
     ]
    },
    {
     "data": {
      "application/vnd.jupyter.widget-view+json": {
       "model_id": "",
       "version_major": 2,
       "version_minor": 0
      },
      "text/plain": [
       "Validating: 0it [00:00, ?it/s]"
      ]
     },
     "metadata": {},
     "output_type": "display_data"
    },
    {
     "name": "stderr",
     "output_type": "stream",
     "text": [
      "Metric train_loss improved by 0.002 >= min_delta = 0.001. New best score: 0.700\n"
     ]
    },
    {
     "data": {
      "application/vnd.jupyter.widget-view+json": {
       "model_id": "",
       "version_major": 2,
       "version_minor": 0
      },
      "text/plain": [
       "Validating: 0it [00:00, ?it/s]"
      ]
     },
     "metadata": {},
     "output_type": "display_data"
    },
    {
     "name": "stderr",
     "output_type": "stream",
     "text": [
      "Metric train_loss improved by 0.002 >= min_delta = 0.001. New best score: 0.698\n"
     ]
    },
    {
     "data": {
      "application/vnd.jupyter.widget-view+json": {
       "model_id": "",
       "version_major": 2,
       "version_minor": 0
      },
      "text/plain": [
       "Validating: 0it [00:00, ?it/s]"
      ]
     },
     "metadata": {},
     "output_type": "display_data"
    },
    {
     "name": "stderr",
     "output_type": "stream",
     "text": [
      "Metric train_loss improved by 0.002 >= min_delta = 0.001. New best score: 0.696\n"
     ]
    },
    {
     "data": {
      "application/vnd.jupyter.widget-view+json": {
       "model_id": "",
       "version_major": 2,
       "version_minor": 0
      },
      "text/plain": [
       "Validating: 0it [00:00, ?it/s]"
      ]
     },
     "metadata": {},
     "output_type": "display_data"
    },
    {
     "name": "stderr",
     "output_type": "stream",
     "text": [
      "Metric train_loss improved by 0.002 >= min_delta = 0.001. New best score: 0.694\n"
     ]
    },
    {
     "data": {
      "application/vnd.jupyter.widget-view+json": {
       "model_id": "",
       "version_major": 2,
       "version_minor": 0
      },
      "text/plain": [
       "Validating: 0it [00:00, ?it/s]"
      ]
     },
     "metadata": {},
     "output_type": "display_data"
    },
    {
     "name": "stderr",
     "output_type": "stream",
     "text": [
      "Metric train_loss improved by 0.001 >= min_delta = 0.001. New best score: 0.693\n"
     ]
    },
    {
     "data": {
      "application/vnd.jupyter.widget-view+json": {
       "model_id": "",
       "version_major": 2,
       "version_minor": 0
      },
      "text/plain": [
       "Validating: 0it [00:00, ?it/s]"
      ]
     },
     "metadata": {},
     "output_type": "display_data"
    },
    {
     "name": "stderr",
     "output_type": "stream",
     "text": [
      "Metric train_loss improved by 0.002 >= min_delta = 0.001. New best score: 0.690\n"
     ]
    },
    {
     "data": {
      "application/vnd.jupyter.widget-view+json": {
       "model_id": "",
       "version_major": 2,
       "version_minor": 0
      },
      "text/plain": [
       "Validating: 0it [00:00, ?it/s]"
      ]
     },
     "metadata": {},
     "output_type": "display_data"
    },
    {
     "name": "stderr",
     "output_type": "stream",
     "text": [
      "Metric train_loss improved by 0.002 >= min_delta = 0.001. New best score: 0.689\n"
     ]
    },
    {
     "data": {
      "application/vnd.jupyter.widget-view+json": {
       "model_id": "",
       "version_major": 2,
       "version_minor": 0
      },
      "text/plain": [
       "Validating: 0it [00:00, ?it/s]"
      ]
     },
     "metadata": {},
     "output_type": "display_data"
    },
    {
     "name": "stderr",
     "output_type": "stream",
     "text": [
      "Metric train_loss improved by 0.003 >= min_delta = 0.001. New best score: 0.686\n"
     ]
    },
    {
     "data": {
      "application/vnd.jupyter.widget-view+json": {
       "model_id": "",
       "version_major": 2,
       "version_minor": 0
      },
      "text/plain": [
       "Validating: 0it [00:00, ?it/s]"
      ]
     },
     "metadata": {},
     "output_type": "display_data"
    },
    {
     "name": "stderr",
     "output_type": "stream",
     "text": [
      "Metric train_loss improved by 0.003 >= min_delta = 0.001. New best score: 0.683\n"
     ]
    },
    {
     "data": {
      "application/vnd.jupyter.widget-view+json": {
       "model_id": "",
       "version_major": 2,
       "version_minor": 0
      },
      "text/plain": [
       "Validating: 0it [00:00, ?it/s]"
      ]
     },
     "metadata": {},
     "output_type": "display_data"
    },
    {
     "data": {
      "application/vnd.jupyter.widget-view+json": {
       "model_id": "",
       "version_major": 2,
       "version_minor": 0
      },
      "text/plain": [
       "Validating: 0it [00:00, ?it/s]"
      ]
     },
     "metadata": {},
     "output_type": "display_data"
    },
    {
     "name": "stderr",
     "output_type": "stream",
     "text": [
      "Metric train_loss improved by 0.003 >= min_delta = 0.001. New best score: 0.680\n"
     ]
    },
    {
     "data": {
      "application/vnd.jupyter.widget-view+json": {
       "model_id": "",
       "version_major": 2,
       "version_minor": 0
      },
      "text/plain": [
       "Validating: 0it [00:00, ?it/s]"
      ]
     },
     "metadata": {},
     "output_type": "display_data"
    },
    {
     "name": "stderr",
     "output_type": "stream",
     "text": [
      "Metric train_loss improved by 0.002 >= min_delta = 0.001. New best score: 0.677\n"
     ]
    },
    {
     "data": {
      "application/vnd.jupyter.widget-view+json": {
       "model_id": "",
       "version_major": 2,
       "version_minor": 0
      },
      "text/plain": [
       "Validating: 0it [00:00, ?it/s]"
      ]
     },
     "metadata": {},
     "output_type": "display_data"
    },
    {
     "name": "stderr",
     "output_type": "stream",
     "text": [
      "Metric train_loss improved by 0.004 >= min_delta = 0.001. New best score: 0.674\n"
     ]
    },
    {
     "data": {
      "application/vnd.jupyter.widget-view+json": {
       "model_id": "",
       "version_major": 2,
       "version_minor": 0
      },
      "text/plain": [
       "Validating: 0it [00:00, ?it/s]"
      ]
     },
     "metadata": {},
     "output_type": "display_data"
    },
    {
     "name": "stderr",
     "output_type": "stream",
     "text": [
      "Metric train_loss improved by 0.002 >= min_delta = 0.001. New best score: 0.672\n"
     ]
    },
    {
     "data": {
      "application/vnd.jupyter.widget-view+json": {
       "model_id": "",
       "version_major": 2,
       "version_minor": 0
      },
      "text/plain": [
       "Validating: 0it [00:00, ?it/s]"
      ]
     },
     "metadata": {},
     "output_type": "display_data"
    },
    {
     "name": "stderr",
     "output_type": "stream",
     "text": [
      "Metric train_loss improved by 0.003 >= min_delta = 0.001. New best score: 0.668\n"
     ]
    },
    {
     "data": {
      "application/vnd.jupyter.widget-view+json": {
       "model_id": "",
       "version_major": 2,
       "version_minor": 0
      },
      "text/plain": [
       "Validating: 0it [00:00, ?it/s]"
      ]
     },
     "metadata": {},
     "output_type": "display_data"
    },
    {
     "name": "stderr",
     "output_type": "stream",
     "text": [
      "Metric train_loss improved by 0.004 >= min_delta = 0.001. New best score: 0.664\n"
     ]
    },
    {
     "data": {
      "application/vnd.jupyter.widget-view+json": {
       "model_id": "",
       "version_major": 2,
       "version_minor": 0
      },
      "text/plain": [
       "Validating: 0it [00:00, ?it/s]"
      ]
     },
     "metadata": {},
     "output_type": "display_data"
    },
    {
     "name": "stderr",
     "output_type": "stream",
     "text": [
      "Metric train_loss improved by 0.001 >= min_delta = 0.001. New best score: 0.663\n"
     ]
    },
    {
     "data": {
      "application/vnd.jupyter.widget-view+json": {
       "model_id": "",
       "version_major": 2,
       "version_minor": 0
      },
      "text/plain": [
       "Validating: 0it [00:00, ?it/s]"
      ]
     },
     "metadata": {},
     "output_type": "display_data"
    },
    {
     "name": "stderr",
     "output_type": "stream",
     "text": [
      "Metric train_loss improved by 0.004 >= min_delta = 0.001. New best score: 0.659\n"
     ]
    },
    {
     "data": {
      "application/vnd.jupyter.widget-view+json": {
       "model_id": "",
       "version_major": 2,
       "version_minor": 0
      },
      "text/plain": [
       "Validating: 0it [00:00, ?it/s]"
      ]
     },
     "metadata": {},
     "output_type": "display_data"
    },
    {
     "name": "stderr",
     "output_type": "stream",
     "text": [
      "Metric train_loss improved by 0.005 >= min_delta = 0.001. New best score: 0.655\n"
     ]
    },
    {
     "data": {
      "application/vnd.jupyter.widget-view+json": {
       "model_id": "",
       "version_major": 2,
       "version_minor": 0
      },
      "text/plain": [
       "Validating: 0it [00:00, ?it/s]"
      ]
     },
     "metadata": {},
     "output_type": "display_data"
    },
    {
     "name": "stderr",
     "output_type": "stream",
     "text": [
      "Metric train_loss improved by 0.005 >= min_delta = 0.001. New best score: 0.649\n"
     ]
    },
    {
     "data": {
      "application/vnd.jupyter.widget-view+json": {
       "model_id": "",
       "version_major": 2,
       "version_minor": 0
      },
      "text/plain": [
       "Validating: 0it [00:00, ?it/s]"
      ]
     },
     "metadata": {},
     "output_type": "display_data"
    },
    {
     "name": "stderr",
     "output_type": "stream",
     "text": [
      "Metric train_loss improved by 0.002 >= min_delta = 0.001. New best score: 0.648\n"
     ]
    },
    {
     "data": {
      "application/vnd.jupyter.widget-view+json": {
       "model_id": "",
       "version_major": 2,
       "version_minor": 0
      },
      "text/plain": [
       "Validating: 0it [00:00, ?it/s]"
      ]
     },
     "metadata": {},
     "output_type": "display_data"
    },
    {
     "name": "stderr",
     "output_type": "stream",
     "text": [
      "Metric train_loss improved by 0.005 >= min_delta = 0.001. New best score: 0.642\n"
     ]
    },
    {
     "data": {
      "application/vnd.jupyter.widget-view+json": {
       "model_id": "",
       "version_major": 2,
       "version_minor": 0
      },
      "text/plain": [
       "Validating: 0it [00:00, ?it/s]"
      ]
     },
     "metadata": {},
     "output_type": "display_data"
    },
    {
     "name": "stderr",
     "output_type": "stream",
     "text": [
      "Metric train_loss improved by 0.005 >= min_delta = 0.001. New best score: 0.637\n"
     ]
    },
    {
     "data": {
      "application/vnd.jupyter.widget-view+json": {
       "model_id": "",
       "version_major": 2,
       "version_minor": 0
      },
      "text/plain": [
       "Validating: 0it [00:00, ?it/s]"
      ]
     },
     "metadata": {},
     "output_type": "display_data"
    },
    {
     "name": "stderr",
     "output_type": "stream",
     "text": [
      "Metric train_loss improved by 0.004 >= min_delta = 0.001. New best score: 0.633\n"
     ]
    },
    {
     "data": {
      "application/vnd.jupyter.widget-view+json": {
       "model_id": "",
       "version_major": 2,
       "version_minor": 0
      },
      "text/plain": [
       "Validating: 0it [00:00, ?it/s]"
      ]
     },
     "metadata": {},
     "output_type": "display_data"
    },
    {
     "name": "stderr",
     "output_type": "stream",
     "text": [
      "Metric train_loss improved by 0.004 >= min_delta = 0.001. New best score: 0.629\n"
     ]
    },
    {
     "data": {
      "application/vnd.jupyter.widget-view+json": {
       "model_id": "",
       "version_major": 2,
       "version_minor": 0
      },
      "text/plain": [
       "Validating: 0it [00:00, ?it/s]"
      ]
     },
     "metadata": {},
     "output_type": "display_data"
    },
    {
     "name": "stderr",
     "output_type": "stream",
     "text": [
      "Metric train_loss improved by 0.006 >= min_delta = 0.001. New best score: 0.623\n"
     ]
    },
    {
     "data": {
      "application/vnd.jupyter.widget-view+json": {
       "model_id": "",
       "version_major": 2,
       "version_minor": 0
      },
      "text/plain": [
       "Validating: 0it [00:00, ?it/s]"
      ]
     },
     "metadata": {},
     "output_type": "display_data"
    },
    {
     "name": "stderr",
     "output_type": "stream",
     "text": [
      "Metric train_loss improved by 0.009 >= min_delta = 0.001. New best score: 0.615\n"
     ]
    },
    {
     "data": {
      "application/vnd.jupyter.widget-view+json": {
       "model_id": "",
       "version_major": 2,
       "version_minor": 0
      },
      "text/plain": [
       "Validating: 0it [00:00, ?it/s]"
      ]
     },
     "metadata": {},
     "output_type": "display_data"
    },
    {
     "name": "stderr",
     "output_type": "stream",
     "text": [
      "Metric train_loss improved by 0.004 >= min_delta = 0.001. New best score: 0.611\n"
     ]
    },
    {
     "data": {
      "application/vnd.jupyter.widget-view+json": {
       "model_id": "",
       "version_major": 2,
       "version_minor": 0
      },
      "text/plain": [
       "Validating: 0it [00:00, ?it/s]"
      ]
     },
     "metadata": {},
     "output_type": "display_data"
    },
    {
     "name": "stderr",
     "output_type": "stream",
     "text": [
      "Metric train_loss improved by 0.006 >= min_delta = 0.001. New best score: 0.605\n"
     ]
    },
    {
     "data": {
      "application/vnd.jupyter.widget-view+json": {
       "model_id": "",
       "version_major": 2,
       "version_minor": 0
      },
      "text/plain": [
       "Validating: 0it [00:00, ?it/s]"
      ]
     },
     "metadata": {},
     "output_type": "display_data"
    },
    {
     "name": "stderr",
     "output_type": "stream",
     "text": [
      "Metric train_loss improved by 0.008 >= min_delta = 0.001. New best score: 0.597\n"
     ]
    },
    {
     "data": {
      "application/vnd.jupyter.widget-view+json": {
       "model_id": "",
       "version_major": 2,
       "version_minor": 0
      },
      "text/plain": [
       "Validating: 0it [00:00, ?it/s]"
      ]
     },
     "metadata": {},
     "output_type": "display_data"
    },
    {
     "name": "stderr",
     "output_type": "stream",
     "text": [
      "Metric train_loss improved by 0.005 >= min_delta = 0.001. New best score: 0.592\n"
     ]
    },
    {
     "data": {
      "application/vnd.jupyter.widget-view+json": {
       "model_id": "",
       "version_major": 2,
       "version_minor": 0
      },
      "text/plain": [
       "Validating: 0it [00:00, ?it/s]"
      ]
     },
     "metadata": {},
     "output_type": "display_data"
    },
    {
     "name": "stderr",
     "output_type": "stream",
     "text": [
      "Metric train_loss improved by 0.009 >= min_delta = 0.001. New best score: 0.583\n"
     ]
    },
    {
     "data": {
      "application/vnd.jupyter.widget-view+json": {
       "model_id": "",
       "version_major": 2,
       "version_minor": 0
      },
      "text/plain": [
       "Validating: 0it [00:00, ?it/s]"
      ]
     },
     "metadata": {},
     "output_type": "display_data"
    },
    {
     "name": "stderr",
     "output_type": "stream",
     "text": [
      "Metric train_loss improved by 0.006 >= min_delta = 0.001. New best score: 0.577\n"
     ]
    },
    {
     "data": {
      "application/vnd.jupyter.widget-view+json": {
       "model_id": "",
       "version_major": 2,
       "version_minor": 0
      },
      "text/plain": [
       "Validating: 0it [00:00, ?it/s]"
      ]
     },
     "metadata": {},
     "output_type": "display_data"
    },
    {
     "name": "stderr",
     "output_type": "stream",
     "text": [
      "Metric train_loss improved by 0.007 >= min_delta = 0.001. New best score: 0.569\n"
     ]
    },
    {
     "data": {
      "application/vnd.jupyter.widget-view+json": {
       "model_id": "",
       "version_major": 2,
       "version_minor": 0
      },
      "text/plain": [
       "Validating: 0it [00:00, ?it/s]"
      ]
     },
     "metadata": {},
     "output_type": "display_data"
    },
    {
     "name": "stderr",
     "output_type": "stream",
     "text": [
      "Metric train_loss improved by 0.011 >= min_delta = 0.001. New best score: 0.559\n"
     ]
    },
    {
     "data": {
      "application/vnd.jupyter.widget-view+json": {
       "model_id": "",
       "version_major": 2,
       "version_minor": 0
      },
      "text/plain": [
       "Validating: 0it [00:00, ?it/s]"
      ]
     },
     "metadata": {},
     "output_type": "display_data"
    },
    {
     "name": "stderr",
     "output_type": "stream",
     "text": [
      "Metric train_loss improved by 0.008 >= min_delta = 0.001. New best score: 0.551\n"
     ]
    },
    {
     "data": {
      "application/vnd.jupyter.widget-view+json": {
       "model_id": "",
       "version_major": 2,
       "version_minor": 0
      },
      "text/plain": [
       "Validating: 0it [00:00, ?it/s]"
      ]
     },
     "metadata": {},
     "output_type": "display_data"
    },
    {
     "name": "stderr",
     "output_type": "stream",
     "text": [
      "Metric train_loss improved by 0.008 >= min_delta = 0.001. New best score: 0.543\n"
     ]
    },
    {
     "data": {
      "application/vnd.jupyter.widget-view+json": {
       "model_id": "",
       "version_major": 2,
       "version_minor": 0
      },
      "text/plain": [
       "Validating: 0it [00:00, ?it/s]"
      ]
     },
     "metadata": {},
     "output_type": "display_data"
    },
    {
     "name": "stderr",
     "output_type": "stream",
     "text": [
      "Metric train_loss improved by 0.009 >= min_delta = 0.001. New best score: 0.535\n"
     ]
    },
    {
     "data": {
      "application/vnd.jupyter.widget-view+json": {
       "model_id": "",
       "version_major": 2,
       "version_minor": 0
      },
      "text/plain": [
       "Validating: 0it [00:00, ?it/s]"
      ]
     },
     "metadata": {},
     "output_type": "display_data"
    },
    {
     "name": "stderr",
     "output_type": "stream",
     "text": [
      "Metric train_loss improved by 0.009 >= min_delta = 0.001. New best score: 0.526\n"
     ]
    },
    {
     "data": {
      "application/vnd.jupyter.widget-view+json": {
       "model_id": "",
       "version_major": 2,
       "version_minor": 0
      },
      "text/plain": [
       "Validating: 0it [00:00, ?it/s]"
      ]
     },
     "metadata": {},
     "output_type": "display_data"
    },
    {
     "name": "stderr",
     "output_type": "stream",
     "text": [
      "Metric train_loss improved by 0.011 >= min_delta = 0.001. New best score: 0.515\n"
     ]
    },
    {
     "data": {
      "application/vnd.jupyter.widget-view+json": {
       "model_id": "",
       "version_major": 2,
       "version_minor": 0
      },
      "text/plain": [
       "Validating: 0it [00:00, ?it/s]"
      ]
     },
     "metadata": {},
     "output_type": "display_data"
    },
    {
     "name": "stderr",
     "output_type": "stream",
     "text": [
      "Metric train_loss improved by 0.010 >= min_delta = 0.001. New best score: 0.505\n"
     ]
    },
    {
     "data": {
      "application/vnd.jupyter.widget-view+json": {
       "model_id": "",
       "version_major": 2,
       "version_minor": 0
      },
      "text/plain": [
       "Validating: 0it [00:00, ?it/s]"
      ]
     },
     "metadata": {},
     "output_type": "display_data"
    },
    {
     "name": "stderr",
     "output_type": "stream",
     "text": [
      "Metric train_loss improved by 0.011 >= min_delta = 0.001. New best score: 0.495\n"
     ]
    },
    {
     "data": {
      "application/vnd.jupyter.widget-view+json": {
       "model_id": "",
       "version_major": 2,
       "version_minor": 0
      },
      "text/plain": [
       "Validating: 0it [00:00, ?it/s]"
      ]
     },
     "metadata": {},
     "output_type": "display_data"
    },
    {
     "name": "stderr",
     "output_type": "stream",
     "text": [
      "Metric train_loss improved by 0.012 >= min_delta = 0.001. New best score: 0.483\n"
     ]
    },
    {
     "data": {
      "application/vnd.jupyter.widget-view+json": {
       "model_id": "",
       "version_major": 2,
       "version_minor": 0
      },
      "text/plain": [
       "Validating: 0it [00:00, ?it/s]"
      ]
     },
     "metadata": {},
     "output_type": "display_data"
    },
    {
     "name": "stderr",
     "output_type": "stream",
     "text": [
      "Metric train_loss improved by 0.008 >= min_delta = 0.001. New best score: 0.475\n"
     ]
    },
    {
     "data": {
      "application/vnd.jupyter.widget-view+json": {
       "model_id": "",
       "version_major": 2,
       "version_minor": 0
      },
      "text/plain": [
       "Validating: 0it [00:00, ?it/s]"
      ]
     },
     "metadata": {},
     "output_type": "display_data"
    },
    {
     "name": "stderr",
     "output_type": "stream",
     "text": [
      "Metric train_loss improved by 0.013 >= min_delta = 0.001. New best score: 0.463\n"
     ]
    },
    {
     "data": {
      "application/vnd.jupyter.widget-view+json": {
       "model_id": "",
       "version_major": 2,
       "version_minor": 0
      },
      "text/plain": [
       "Validating: 0it [00:00, ?it/s]"
      ]
     },
     "metadata": {},
     "output_type": "display_data"
    },
    {
     "name": "stderr",
     "output_type": "stream",
     "text": [
      "Metric train_loss improved by 0.009 >= min_delta = 0.001. New best score: 0.453\n"
     ]
    },
    {
     "data": {
      "application/vnd.jupyter.widget-view+json": {
       "model_id": "",
       "version_major": 2,
       "version_minor": 0
      },
      "text/plain": [
       "Validating: 0it [00:00, ?it/s]"
      ]
     },
     "metadata": {},
     "output_type": "display_data"
    },
    {
     "name": "stderr",
     "output_type": "stream",
     "text": [
      "Metric train_loss improved by 0.012 >= min_delta = 0.001. New best score: 0.441\n"
     ]
    },
    {
     "data": {
      "application/vnd.jupyter.widget-view+json": {
       "model_id": "",
       "version_major": 2,
       "version_minor": 0
      },
      "text/plain": [
       "Validating: 0it [00:00, ?it/s]"
      ]
     },
     "metadata": {},
     "output_type": "display_data"
    },
    {
     "name": "stderr",
     "output_type": "stream",
     "text": [
      "Metric train_loss improved by 0.013 >= min_delta = 0.001. New best score: 0.429\n"
     ]
    },
    {
     "data": {
      "application/vnd.jupyter.widget-view+json": {
       "model_id": "",
       "version_major": 2,
       "version_minor": 0
      },
      "text/plain": [
       "Validating: 0it [00:00, ?it/s]"
      ]
     },
     "metadata": {},
     "output_type": "display_data"
    },
    {
     "name": "stderr",
     "output_type": "stream",
     "text": [
      "Metric train_loss improved by 0.011 >= min_delta = 0.001. New best score: 0.418\n"
     ]
    },
    {
     "data": {
      "application/vnd.jupyter.widget-view+json": {
       "model_id": "",
       "version_major": 2,
       "version_minor": 0
      },
      "text/plain": [
       "Validating: 0it [00:00, ?it/s]"
      ]
     },
     "metadata": {},
     "output_type": "display_data"
    },
    {
     "name": "stderr",
     "output_type": "stream",
     "text": [
      "Metric train_loss improved by 0.010 >= min_delta = 0.001. New best score: 0.409\n"
     ]
    },
    {
     "data": {
      "application/vnd.jupyter.widget-view+json": {
       "model_id": "",
       "version_major": 2,
       "version_minor": 0
      },
      "text/plain": [
       "Validating: 0it [00:00, ?it/s]"
      ]
     },
     "metadata": {},
     "output_type": "display_data"
    },
    {
     "name": "stderr",
     "output_type": "stream",
     "text": [
      "Metric train_loss improved by 0.012 >= min_delta = 0.001. New best score: 0.397\n"
     ]
    },
    {
     "data": {
      "application/vnd.jupyter.widget-view+json": {
       "model_id": "",
       "version_major": 2,
       "version_minor": 0
      },
      "text/plain": [
       "Validating: 0it [00:00, ?it/s]"
      ]
     },
     "metadata": {},
     "output_type": "display_data"
    },
    {
     "name": "stderr",
     "output_type": "stream",
     "text": [
      "Metric train_loss improved by 0.012 >= min_delta = 0.001. New best score: 0.384\n"
     ]
    },
    {
     "data": {
      "application/vnd.jupyter.widget-view+json": {
       "model_id": "",
       "version_major": 2,
       "version_minor": 0
      },
      "text/plain": [
       "Validating: 0it [00:00, ?it/s]"
      ]
     },
     "metadata": {},
     "output_type": "display_data"
    },
    {
     "name": "stderr",
     "output_type": "stream",
     "text": [
      "Metric train_loss improved by 0.009 >= min_delta = 0.001. New best score: 0.376\n"
     ]
    },
    {
     "data": {
      "application/vnd.jupyter.widget-view+json": {
       "model_id": "",
       "version_major": 2,
       "version_minor": 0
      },
      "text/plain": [
       "Validating: 0it [00:00, ?it/s]"
      ]
     },
     "metadata": {},
     "output_type": "display_data"
    },
    {
     "name": "stderr",
     "output_type": "stream",
     "text": [
      "Metric train_loss improved by 0.013 >= min_delta = 0.001. New best score: 0.362\n"
     ]
    },
    {
     "data": {
      "application/vnd.jupyter.widget-view+json": {
       "model_id": "",
       "version_major": 2,
       "version_minor": 0
      },
      "text/plain": [
       "Validating: 0it [00:00, ?it/s]"
      ]
     },
     "metadata": {},
     "output_type": "display_data"
    },
    {
     "name": "stderr",
     "output_type": "stream",
     "text": [
      "Metric train_loss improved by 0.009 >= min_delta = 0.001. New best score: 0.353\n"
     ]
    },
    {
     "data": {
      "application/vnd.jupyter.widget-view+json": {
       "model_id": "",
       "version_major": 2,
       "version_minor": 0
      },
      "text/plain": [
       "Validating: 0it [00:00, ?it/s]"
      ]
     },
     "metadata": {},
     "output_type": "display_data"
    },
    {
     "name": "stderr",
     "output_type": "stream",
     "text": [
      "Metric train_loss improved by 0.011 >= min_delta = 0.001. New best score: 0.342\n"
     ]
    },
    {
     "data": {
      "application/vnd.jupyter.widget-view+json": {
       "model_id": "",
       "version_major": 2,
       "version_minor": 0
      },
      "text/plain": [
       "Validating: 0it [00:00, ?it/s]"
      ]
     },
     "metadata": {},
     "output_type": "display_data"
    },
    {
     "name": "stderr",
     "output_type": "stream",
     "text": [
      "Metric train_loss improved by 0.011 >= min_delta = 0.001. New best score: 0.330\n"
     ]
    },
    {
     "data": {
      "application/vnd.jupyter.widget-view+json": {
       "model_id": "",
       "version_major": 2,
       "version_minor": 0
      },
      "text/plain": [
       "Validating: 0it [00:00, ?it/s]"
      ]
     },
     "metadata": {},
     "output_type": "display_data"
    },
    {
     "name": "stderr",
     "output_type": "stream",
     "text": [
      "Metric train_loss improved by 0.011 >= min_delta = 0.001. New best score: 0.320\n"
     ]
    },
    {
     "data": {
      "application/vnd.jupyter.widget-view+json": {
       "model_id": "",
       "version_major": 2,
       "version_minor": 0
      },
      "text/plain": [
       "Validating: 0it [00:00, ?it/s]"
      ]
     },
     "metadata": {},
     "output_type": "display_data"
    },
    {
     "name": "stderr",
     "output_type": "stream",
     "text": [
      "Metric train_loss improved by 0.011 >= min_delta = 0.001. New best score: 0.309\n"
     ]
    },
    {
     "data": {
      "application/vnd.jupyter.widget-view+json": {
       "model_id": "",
       "version_major": 2,
       "version_minor": 0
      },
      "text/plain": [
       "Validating: 0it [00:00, ?it/s]"
      ]
     },
     "metadata": {},
     "output_type": "display_data"
    },
    {
     "name": "stderr",
     "output_type": "stream",
     "text": [
      "Metric train_loss improved by 0.010 >= min_delta = 0.001. New best score: 0.299\n"
     ]
    },
    {
     "data": {
      "application/vnd.jupyter.widget-view+json": {
       "model_id": "",
       "version_major": 2,
       "version_minor": 0
      },
      "text/plain": [
       "Validating: 0it [00:00, ?it/s]"
      ]
     },
     "metadata": {},
     "output_type": "display_data"
    },
    {
     "name": "stderr",
     "output_type": "stream",
     "text": [
      "Metric train_loss improved by 0.009 >= min_delta = 0.001. New best score: 0.290\n"
     ]
    },
    {
     "data": {
      "application/vnd.jupyter.widget-view+json": {
       "model_id": "",
       "version_major": 2,
       "version_minor": 0
      },
      "text/plain": [
       "Validating: 0it [00:00, ?it/s]"
      ]
     },
     "metadata": {},
     "output_type": "display_data"
    },
    {
     "name": "stderr",
     "output_type": "stream",
     "text": [
      "Metric train_loss improved by 0.011 >= min_delta = 0.001. New best score: 0.279\n"
     ]
    },
    {
     "data": {
      "application/vnd.jupyter.widget-view+json": {
       "model_id": "",
       "version_major": 2,
       "version_minor": 0
      },
      "text/plain": [
       "Validating: 0it [00:00, ?it/s]"
      ]
     },
     "metadata": {},
     "output_type": "display_data"
    },
    {
     "name": "stderr",
     "output_type": "stream",
     "text": [
      "Metric train_loss improved by 0.010 >= min_delta = 0.001. New best score: 0.269\n"
     ]
    },
    {
     "data": {
      "application/vnd.jupyter.widget-view+json": {
       "model_id": "",
       "version_major": 2,
       "version_minor": 0
      },
      "text/plain": [
       "Validating: 0it [00:00, ?it/s]"
      ]
     },
     "metadata": {},
     "output_type": "display_data"
    },
    {
     "name": "stderr",
     "output_type": "stream",
     "text": [
      "Metric train_loss improved by 0.007 >= min_delta = 0.001. New best score: 0.262\n"
     ]
    },
    {
     "data": {
      "application/vnd.jupyter.widget-view+json": {
       "model_id": "",
       "version_major": 2,
       "version_minor": 0
      },
      "text/plain": [
       "Validating: 0it [00:00, ?it/s]"
      ]
     },
     "metadata": {},
     "output_type": "display_data"
    },
    {
     "name": "stderr",
     "output_type": "stream",
     "text": [
      "Metric train_loss improved by 0.009 >= min_delta = 0.001. New best score: 0.253\n"
     ]
    },
    {
     "data": {
      "application/vnd.jupyter.widget-view+json": {
       "model_id": "",
       "version_major": 2,
       "version_minor": 0
      },
      "text/plain": [
       "Validating: 0it [00:00, ?it/s]"
      ]
     },
     "metadata": {},
     "output_type": "display_data"
    },
    {
     "name": "stderr",
     "output_type": "stream",
     "text": [
      "Metric train_loss improved by 0.008 >= min_delta = 0.001. New best score: 0.245\n"
     ]
    },
    {
     "data": {
      "application/vnd.jupyter.widget-view+json": {
       "model_id": "",
       "version_major": 2,
       "version_minor": 0
      },
      "text/plain": [
       "Validating: 0it [00:00, ?it/s]"
      ]
     },
     "metadata": {},
     "output_type": "display_data"
    },
    {
     "name": "stderr",
     "output_type": "stream",
     "text": [
      "Metric train_loss improved by 0.009 >= min_delta = 0.001. New best score: 0.236\n"
     ]
    },
    {
     "data": {
      "application/vnd.jupyter.widget-view+json": {
       "model_id": "",
       "version_major": 2,
       "version_minor": 0
      },
      "text/plain": [
       "Validating: 0it [00:00, ?it/s]"
      ]
     },
     "metadata": {},
     "output_type": "display_data"
    },
    {
     "name": "stderr",
     "output_type": "stream",
     "text": [
      "Metric train_loss improved by 0.006 >= min_delta = 0.001. New best score: 0.230\n"
     ]
    },
    {
     "data": {
      "application/vnd.jupyter.widget-view+json": {
       "model_id": "",
       "version_major": 2,
       "version_minor": 0
      },
      "text/plain": [
       "Validating: 0it [00:00, ?it/s]"
      ]
     },
     "metadata": {},
     "output_type": "display_data"
    },
    {
     "name": "stderr",
     "output_type": "stream",
     "text": [
      "Metric train_loss improved by 0.010 >= min_delta = 0.001. New best score: 0.220\n"
     ]
    },
    {
     "data": {
      "application/vnd.jupyter.widget-view+json": {
       "model_id": "",
       "version_major": 2,
       "version_minor": 0
      },
      "text/plain": [
       "Validating: 0it [00:00, ?it/s]"
      ]
     },
     "metadata": {},
     "output_type": "display_data"
    },
    {
     "name": "stderr",
     "output_type": "stream",
     "text": [
      "Metric train_loss improved by 0.007 >= min_delta = 0.001. New best score: 0.213\n"
     ]
    },
    {
     "data": {
      "application/vnd.jupyter.widget-view+json": {
       "model_id": "",
       "version_major": 2,
       "version_minor": 0
      },
      "text/plain": [
       "Validating: 0it [00:00, ?it/s]"
      ]
     },
     "metadata": {},
     "output_type": "display_data"
    },
    {
     "name": "stderr",
     "output_type": "stream",
     "text": [
      "Metric train_loss improved by 0.007 >= min_delta = 0.001. New best score: 0.206\n"
     ]
    },
    {
     "data": {
      "application/vnd.jupyter.widget-view+json": {
       "model_id": "",
       "version_major": 2,
       "version_minor": 0
      },
      "text/plain": [
       "Validating: 0it [00:00, ?it/s]"
      ]
     },
     "metadata": {},
     "output_type": "display_data"
    },
    {
     "name": "stderr",
     "output_type": "stream",
     "text": [
      "Metric train_loss improved by 0.006 >= min_delta = 0.001. New best score: 0.200\n"
     ]
    },
    {
     "data": {
      "application/vnd.jupyter.widget-view+json": {
       "model_id": "",
       "version_major": 2,
       "version_minor": 0
      },
      "text/plain": [
       "Validating: 0it [00:00, ?it/s]"
      ]
     },
     "metadata": {},
     "output_type": "display_data"
    },
    {
     "name": "stderr",
     "output_type": "stream",
     "text": [
      "Metric train_loss improved by 0.005 >= min_delta = 0.001. New best score: 0.194\n"
     ]
    },
    {
     "data": {
      "application/vnd.jupyter.widget-view+json": {
       "model_id": "",
       "version_major": 2,
       "version_minor": 0
      },
      "text/plain": [
       "Validating: 0it [00:00, ?it/s]"
      ]
     },
     "metadata": {},
     "output_type": "display_data"
    },
    {
     "name": "stderr",
     "output_type": "stream",
     "text": [
      "Metric train_loss improved by 0.007 >= min_delta = 0.001. New best score: 0.188\n"
     ]
    },
    {
     "data": {
      "application/vnd.jupyter.widget-view+json": {
       "model_id": "",
       "version_major": 2,
       "version_minor": 0
      },
      "text/plain": [
       "Validating: 0it [00:00, ?it/s]"
      ]
     },
     "metadata": {},
     "output_type": "display_data"
    },
    {
     "name": "stderr",
     "output_type": "stream",
     "text": [
      "Metric train_loss improved by 0.005 >= min_delta = 0.001. New best score: 0.183\n"
     ]
    },
    {
     "data": {
      "application/vnd.jupyter.widget-view+json": {
       "model_id": "",
       "version_major": 2,
       "version_minor": 0
      },
      "text/plain": [
       "Validating: 0it [00:00, ?it/s]"
      ]
     },
     "metadata": {},
     "output_type": "display_data"
    },
    {
     "name": "stderr",
     "output_type": "stream",
     "text": [
      "Metric train_loss improved by 0.007 >= min_delta = 0.001. New best score: 0.176\n"
     ]
    },
    {
     "data": {
      "application/vnd.jupyter.widget-view+json": {
       "model_id": "",
       "version_major": 2,
       "version_minor": 0
      },
      "text/plain": [
       "Validating: 0it [00:00, ?it/s]"
      ]
     },
     "metadata": {},
     "output_type": "display_data"
    },
    {
     "name": "stderr",
     "output_type": "stream",
     "text": [
      "Metric train_loss improved by 0.005 >= min_delta = 0.001. New best score: 0.171\n"
     ]
    },
    {
     "data": {
      "application/vnd.jupyter.widget-view+json": {
       "model_id": "",
       "version_major": 2,
       "version_minor": 0
      },
      "text/plain": [
       "Validating: 0it [00:00, ?it/s]"
      ]
     },
     "metadata": {},
     "output_type": "display_data"
    },
    {
     "name": "stderr",
     "output_type": "stream",
     "text": [
      "Metric train_loss improved by 0.006 >= min_delta = 0.001. New best score: 0.165\n"
     ]
    },
    {
     "data": {
      "application/vnd.jupyter.widget-view+json": {
       "model_id": "",
       "version_major": 2,
       "version_minor": 0
      },
      "text/plain": [
       "Validating: 0it [00:00, ?it/s]"
      ]
     },
     "metadata": {},
     "output_type": "display_data"
    },
    {
     "name": "stderr",
     "output_type": "stream",
     "text": [
      "Metric train_loss improved by 0.003 >= min_delta = 0.001. New best score: 0.162\n"
     ]
    },
    {
     "data": {
      "application/vnd.jupyter.widget-view+json": {
       "model_id": "",
       "version_major": 2,
       "version_minor": 0
      },
      "text/plain": [
       "Validating: 0it [00:00, ?it/s]"
      ]
     },
     "metadata": {},
     "output_type": "display_data"
    },
    {
     "name": "stderr",
     "output_type": "stream",
     "text": [
      "Metric train_loss improved by 0.005 >= min_delta = 0.001. New best score: 0.157\n"
     ]
    },
    {
     "data": {
      "application/vnd.jupyter.widget-view+json": {
       "model_id": "",
       "version_major": 2,
       "version_minor": 0
      },
      "text/plain": [
       "Validating: 0it [00:00, ?it/s]"
      ]
     },
     "metadata": {},
     "output_type": "display_data"
    },
    {
     "name": "stderr",
     "output_type": "stream",
     "text": [
      "Metric train_loss improved by 0.004 >= min_delta = 0.001. New best score: 0.152\n"
     ]
    },
    {
     "data": {
      "application/vnd.jupyter.widget-view+json": {
       "model_id": "",
       "version_major": 2,
       "version_minor": 0
      },
      "text/plain": [
       "Validating: 0it [00:00, ?it/s]"
      ]
     },
     "metadata": {},
     "output_type": "display_data"
    },
    {
     "name": "stderr",
     "output_type": "stream",
     "text": [
      "Metric train_loss improved by 0.004 >= min_delta = 0.001. New best score: 0.148\n"
     ]
    },
    {
     "data": {
      "application/vnd.jupyter.widget-view+json": {
       "model_id": "",
       "version_major": 2,
       "version_minor": 0
      },
      "text/plain": [
       "Validating: 0it [00:00, ?it/s]"
      ]
     },
     "metadata": {},
     "output_type": "display_data"
    },
    {
     "name": "stderr",
     "output_type": "stream",
     "text": [
      "Metric train_loss improved by 0.003 >= min_delta = 0.001. New best score: 0.145\n"
     ]
    },
    {
     "data": {
      "application/vnd.jupyter.widget-view+json": {
       "model_id": "",
       "version_major": 2,
       "version_minor": 0
      },
      "text/plain": [
       "Validating: 0it [00:00, ?it/s]"
      ]
     },
     "metadata": {},
     "output_type": "display_data"
    },
    {
     "name": "stderr",
     "output_type": "stream",
     "text": [
      "Metric train_loss improved by 0.004 >= min_delta = 0.001. New best score: 0.142\n"
     ]
    },
    {
     "data": {
      "application/vnd.jupyter.widget-view+json": {
       "model_id": "",
       "version_major": 2,
       "version_minor": 0
      },
      "text/plain": [
       "Validating: 0it [00:00, ?it/s]"
      ]
     },
     "metadata": {},
     "output_type": "display_data"
    },
    {
     "name": "stderr",
     "output_type": "stream",
     "text": [
      "Metric train_loss improved by 0.004 >= min_delta = 0.001. New best score: 0.138\n"
     ]
    },
    {
     "data": {
      "application/vnd.jupyter.widget-view+json": {
       "model_id": "",
       "version_major": 2,
       "version_minor": 0
      },
      "text/plain": [
       "Validating: 0it [00:00, ?it/s]"
      ]
     },
     "metadata": {},
     "output_type": "display_data"
    },
    {
     "name": "stderr",
     "output_type": "stream",
     "text": [
      "Metric train_loss improved by 0.004 >= min_delta = 0.001. New best score: 0.134\n"
     ]
    },
    {
     "data": {
      "application/vnd.jupyter.widget-view+json": {
       "model_id": "",
       "version_major": 2,
       "version_minor": 0
      },
      "text/plain": [
       "Validating: 0it [00:00, ?it/s]"
      ]
     },
     "metadata": {},
     "output_type": "display_data"
    },
    {
     "name": "stderr",
     "output_type": "stream",
     "text": [
      "Metric train_loss improved by 0.003 >= min_delta = 0.001. New best score: 0.131\n"
     ]
    },
    {
     "data": {
      "application/vnd.jupyter.widget-view+json": {
       "model_id": "",
       "version_major": 2,
       "version_minor": 0
      },
      "text/plain": [
       "Validating: 0it [00:00, ?it/s]"
      ]
     },
     "metadata": {},
     "output_type": "display_data"
    },
    {
     "name": "stderr",
     "output_type": "stream",
     "text": [
      "Metric train_loss improved by 0.002 >= min_delta = 0.001. New best score: 0.129\n"
     ]
    },
    {
     "data": {
      "application/vnd.jupyter.widget-view+json": {
       "model_id": "",
       "version_major": 2,
       "version_minor": 0
      },
      "text/plain": [
       "Validating: 0it [00:00, ?it/s]"
      ]
     },
     "metadata": {},
     "output_type": "display_data"
    },
    {
     "name": "stderr",
     "output_type": "stream",
     "text": [
      "Metric train_loss improved by 0.004 >= min_delta = 0.001. New best score: 0.124\n"
     ]
    },
    {
     "data": {
      "application/vnd.jupyter.widget-view+json": {
       "model_id": "",
       "version_major": 2,
       "version_minor": 0
      },
      "text/plain": [
       "Validating: 0it [00:00, ?it/s]"
      ]
     },
     "metadata": {},
     "output_type": "display_data"
    },
    {
     "name": "stderr",
     "output_type": "stream",
     "text": [
      "Metric train_loss improved by 0.003 >= min_delta = 0.001. New best score: 0.122\n"
     ]
    },
    {
     "data": {
      "application/vnd.jupyter.widget-view+json": {
       "model_id": "",
       "version_major": 2,
       "version_minor": 0
      },
      "text/plain": [
       "Validating: 0it [00:00, ?it/s]"
      ]
     },
     "metadata": {},
     "output_type": "display_data"
    },
    {
     "name": "stderr",
     "output_type": "stream",
     "text": [
      "Metric train_loss improved by 0.004 >= min_delta = 0.001. New best score: 0.118\n"
     ]
    },
    {
     "data": {
      "application/vnd.jupyter.widget-view+json": {
       "model_id": "",
       "version_major": 2,
       "version_minor": 0
      },
      "text/plain": [
       "Validating: 0it [00:00, ?it/s]"
      ]
     },
     "metadata": {},
     "output_type": "display_data"
    },
    {
     "data": {
      "application/vnd.jupyter.widget-view+json": {
       "model_id": "",
       "version_major": 2,
       "version_minor": 0
      },
      "text/plain": [
       "Validating: 0it [00:00, ?it/s]"
      ]
     },
     "metadata": {},
     "output_type": "display_data"
    },
    {
     "name": "stderr",
     "output_type": "stream",
     "text": [
      "Metric train_loss improved by 0.003 >= min_delta = 0.001. New best score: 0.115\n"
     ]
    },
    {
     "data": {
      "application/vnd.jupyter.widget-view+json": {
       "model_id": "",
       "version_major": 2,
       "version_minor": 0
      },
      "text/plain": [
       "Validating: 0it [00:00, ?it/s]"
      ]
     },
     "metadata": {},
     "output_type": "display_data"
    },
    {
     "name": "stderr",
     "output_type": "stream",
     "text": [
      "Metric train_loss improved by 0.003 >= min_delta = 0.001. New best score: 0.112\n"
     ]
    },
    {
     "data": {
      "application/vnd.jupyter.widget-view+json": {
       "model_id": "",
       "version_major": 2,
       "version_minor": 0
      },
      "text/plain": [
       "Validating: 0it [00:00, ?it/s]"
      ]
     },
     "metadata": {},
     "output_type": "display_data"
    },
    {
     "data": {
      "application/vnd.jupyter.widget-view+json": {
       "model_id": "",
       "version_major": 2,
       "version_minor": 0
      },
      "text/plain": [
       "Validating: 0it [00:00, ?it/s]"
      ]
     },
     "metadata": {},
     "output_type": "display_data"
    },
    {
     "name": "stderr",
     "output_type": "stream",
     "text": [
      "Metric train_loss improved by 0.005 >= min_delta = 0.001. New best score: 0.107\n"
     ]
    },
    {
     "data": {
      "application/vnd.jupyter.widget-view+json": {
       "model_id": "",
       "version_major": 2,
       "version_minor": 0
      },
      "text/plain": [
       "Validating: 0it [00:00, ?it/s]"
      ]
     },
     "metadata": {},
     "output_type": "display_data"
    },
    {
     "name": "stderr",
     "output_type": "stream",
     "text": [
      "Metric train_loss improved by 0.002 >= min_delta = 0.001. New best score: 0.105\n"
     ]
    },
    {
     "data": {
      "application/vnd.jupyter.widget-view+json": {
       "model_id": "",
       "version_major": 2,
       "version_minor": 0
      },
      "text/plain": [
       "Validating: 0it [00:00, ?it/s]"
      ]
     },
     "metadata": {},
     "output_type": "display_data"
    },
    {
     "data": {
      "application/vnd.jupyter.widget-view+json": {
       "model_id": "",
       "version_major": 2,
       "version_minor": 0
      },
      "text/plain": [
       "Validating: 0it [00:00, ?it/s]"
      ]
     },
     "metadata": {},
     "output_type": "display_data"
    },
    {
     "name": "stderr",
     "output_type": "stream",
     "text": [
      "Metric train_loss improved by 0.003 >= min_delta = 0.001. New best score: 0.102\n"
     ]
    },
    {
     "data": {
      "application/vnd.jupyter.widget-view+json": {
       "model_id": "",
       "version_major": 2,
       "version_minor": 0
      },
      "text/plain": [
       "Validating: 0it [00:00, ?it/s]"
      ]
     },
     "metadata": {},
     "output_type": "display_data"
    },
    {
     "name": "stderr",
     "output_type": "stream",
     "text": [
      "Metric train_loss improved by 0.001 >= min_delta = 0.001. New best score: 0.100\n"
     ]
    },
    {
     "data": {
      "application/vnd.jupyter.widget-view+json": {
       "model_id": "",
       "version_major": 2,
       "version_minor": 0
      },
      "text/plain": [
       "Validating: 0it [00:00, ?it/s]"
      ]
     },
     "metadata": {},
     "output_type": "display_data"
    },
    {
     "name": "stderr",
     "output_type": "stream",
     "text": [
      "Metric train_loss improved by 0.003 >= min_delta = 0.001. New best score: 0.097\n"
     ]
    },
    {
     "data": {
      "application/vnd.jupyter.widget-view+json": {
       "model_id": "",
       "version_major": 2,
       "version_minor": 0
      },
      "text/plain": [
       "Validating: 0it [00:00, ?it/s]"
      ]
     },
     "metadata": {},
     "output_type": "display_data"
    },
    {
     "data": {
      "application/vnd.jupyter.widget-view+json": {
       "model_id": "",
       "version_major": 2,
       "version_minor": 0
      },
      "text/plain": [
       "Validating: 0it [00:00, ?it/s]"
      ]
     },
     "metadata": {},
     "output_type": "display_data"
    },
    {
     "name": "stderr",
     "output_type": "stream",
     "text": [
      "Metric train_loss improved by 0.002 >= min_delta = 0.001. New best score: 0.095\n"
     ]
    },
    {
     "data": {
      "application/vnd.jupyter.widget-view+json": {
       "model_id": "",
       "version_major": 2,
       "version_minor": 0
      },
      "text/plain": [
       "Validating: 0it [00:00, ?it/s]"
      ]
     },
     "metadata": {},
     "output_type": "display_data"
    },
    {
     "data": {
      "application/vnd.jupyter.widget-view+json": {
       "model_id": "",
       "version_major": 2,
       "version_minor": 0
      },
      "text/plain": [
       "Validating: 0it [00:00, ?it/s]"
      ]
     },
     "metadata": {},
     "output_type": "display_data"
    },
    {
     "name": "stderr",
     "output_type": "stream",
     "text": [
      "Metric train_loss improved by 0.004 >= min_delta = 0.001. New best score: 0.091\n"
     ]
    },
    {
     "data": {
      "application/vnd.jupyter.widget-view+json": {
       "model_id": "",
       "version_major": 2,
       "version_minor": 0
      },
      "text/plain": [
       "Validating: 0it [00:00, ?it/s]"
      ]
     },
     "metadata": {},
     "output_type": "display_data"
    },
    {
     "data": {
      "application/vnd.jupyter.widget-view+json": {
       "model_id": "",
       "version_major": 2,
       "version_minor": 0
      },
      "text/plain": [
       "Validating: 0it [00:00, ?it/s]"
      ]
     },
     "metadata": {},
     "output_type": "display_data"
    },
    {
     "name": "stderr",
     "output_type": "stream",
     "text": [
      "Metric train_loss improved by 0.001 >= min_delta = 0.001. New best score: 0.090\n"
     ]
    },
    {
     "data": {
      "application/vnd.jupyter.widget-view+json": {
       "model_id": "",
       "version_major": 2,
       "version_minor": 0
      },
      "text/plain": [
       "Validating: 0it [00:00, ?it/s]"
      ]
     },
     "metadata": {},
     "output_type": "display_data"
    },
    {
     "name": "stderr",
     "output_type": "stream",
     "text": [
      "Metric train_loss improved by 0.002 >= min_delta = 0.001. New best score: 0.088\n"
     ]
    },
    {
     "data": {
      "application/vnd.jupyter.widget-view+json": {
       "model_id": "",
       "version_major": 2,
       "version_minor": 0
      },
      "text/plain": [
       "Validating: 0it [00:00, ?it/s]"
      ]
     },
     "metadata": {},
     "output_type": "display_data"
    },
    {
     "data": {
      "application/vnd.jupyter.widget-view+json": {
       "model_id": "",
       "version_major": 2,
       "version_minor": 0
      },
      "text/plain": [
       "Validating: 0it [00:00, ?it/s]"
      ]
     },
     "metadata": {},
     "output_type": "display_data"
    },
    {
     "name": "stderr",
     "output_type": "stream",
     "text": [
      "Metric train_loss improved by 0.001 >= min_delta = 0.001. New best score: 0.086\n"
     ]
    },
    {
     "data": {
      "application/vnd.jupyter.widget-view+json": {
       "model_id": "",
       "version_major": 2,
       "version_minor": 0
      },
      "text/plain": [
       "Validating: 0it [00:00, ?it/s]"
      ]
     },
     "metadata": {},
     "output_type": "display_data"
    },
    {
     "name": "stderr",
     "output_type": "stream",
     "text": [
      "Metric train_loss improved by 0.002 >= min_delta = 0.001. New best score: 0.085\n"
     ]
    },
    {
     "data": {
      "application/vnd.jupyter.widget-view+json": {
       "model_id": "",
       "version_major": 2,
       "version_minor": 0
      },
      "text/plain": [
       "Validating: 0it [00:00, ?it/s]"
      ]
     },
     "metadata": {},
     "output_type": "display_data"
    },
    {
     "name": "stderr",
     "output_type": "stream",
     "text": [
      "Metric train_loss improved by 0.002 >= min_delta = 0.001. New best score: 0.083\n"
     ]
    },
    {
     "data": {
      "application/vnd.jupyter.widget-view+json": {
       "model_id": "",
       "version_major": 2,
       "version_minor": 0
      },
      "text/plain": [
       "Validating: 0it [00:00, ?it/s]"
      ]
     },
     "metadata": {},
     "output_type": "display_data"
    },
    {
     "data": {
      "application/vnd.jupyter.widget-view+json": {
       "model_id": "",
       "version_major": 2,
       "version_minor": 0
      },
      "text/plain": [
       "Validating: 0it [00:00, ?it/s]"
      ]
     },
     "metadata": {},
     "output_type": "display_data"
    },
    {
     "name": "stderr",
     "output_type": "stream",
     "text": [
      "Metric train_loss improved by 0.002 >= min_delta = 0.001. New best score: 0.081\n"
     ]
    },
    {
     "data": {
      "application/vnd.jupyter.widget-view+json": {
       "model_id": "",
       "version_major": 2,
       "version_minor": 0
      },
      "text/plain": [
       "Validating: 0it [00:00, ?it/s]"
      ]
     },
     "metadata": {},
     "output_type": "display_data"
    },
    {
     "data": {
      "application/vnd.jupyter.widget-view+json": {
       "model_id": "",
       "version_major": 2,
       "version_minor": 0
      },
      "text/plain": [
       "Validating: 0it [00:00, ?it/s]"
      ]
     },
     "metadata": {},
     "output_type": "display_data"
    },
    {
     "name": "stderr",
     "output_type": "stream",
     "text": [
      "Metric train_loss improved by 0.001 >= min_delta = 0.001. New best score: 0.080\n"
     ]
    },
    {
     "data": {
      "application/vnd.jupyter.widget-view+json": {
       "model_id": "",
       "version_major": 2,
       "version_minor": 0
      },
      "text/plain": [
       "Validating: 0it [00:00, ?it/s]"
      ]
     },
     "metadata": {},
     "output_type": "display_data"
    },
    {
     "name": "stderr",
     "output_type": "stream",
     "text": [
      "Metric train_loss improved by 0.002 >= min_delta = 0.001. New best score: 0.078\n"
     ]
    },
    {
     "data": {
      "application/vnd.jupyter.widget-view+json": {
       "model_id": "",
       "version_major": 2,
       "version_minor": 0
      },
      "text/plain": [
       "Validating: 0it [00:00, ?it/s]"
      ]
     },
     "metadata": {},
     "output_type": "display_data"
    },
    {
     "data": {
      "application/vnd.jupyter.widget-view+json": {
       "model_id": "",
       "version_major": 2,
       "version_minor": 0
      },
      "text/plain": [
       "Validating: 0it [00:00, ?it/s]"
      ]
     },
     "metadata": {},
     "output_type": "display_data"
    },
    {
     "data": {
      "application/vnd.jupyter.widget-view+json": {
       "model_id": "",
       "version_major": 2,
       "version_minor": 0
      },
      "text/plain": [
       "Validating: 0it [00:00, ?it/s]"
      ]
     },
     "metadata": {},
     "output_type": "display_data"
    },
    {
     "name": "stderr",
     "output_type": "stream",
     "text": [
      "Metric train_loss improved by 0.002 >= min_delta = 0.001. New best score: 0.076\n"
     ]
    },
    {
     "data": {
      "application/vnd.jupyter.widget-view+json": {
       "model_id": "",
       "version_major": 2,
       "version_minor": 0
      },
      "text/plain": [
       "Validating: 0it [00:00, ?it/s]"
      ]
     },
     "metadata": {},
     "output_type": "display_data"
    },
    {
     "data": {
      "application/vnd.jupyter.widget-view+json": {
       "model_id": "",
       "version_major": 2,
       "version_minor": 0
      },
      "text/plain": [
       "Validating: 0it [00:00, ?it/s]"
      ]
     },
     "metadata": {},
     "output_type": "display_data"
    },
    {
     "data": {
      "application/vnd.jupyter.widget-view+json": {
       "model_id": "",
       "version_major": 2,
       "version_minor": 0
      },
      "text/plain": [
       "Validating: 0it [00:00, ?it/s]"
      ]
     },
     "metadata": {},
     "output_type": "display_data"
    },
    {
     "data": {
      "application/vnd.jupyter.widget-view+json": {
       "model_id": "",
       "version_major": 2,
       "version_minor": 0
      },
      "text/plain": [
       "Validating: 0it [00:00, ?it/s]"
      ]
     },
     "metadata": {},
     "output_type": "display_data"
    },
    {
     "name": "stderr",
     "output_type": "stream",
     "text": [
      "Metric train_loss improved by 0.002 >= min_delta = 0.001. New best score: 0.074\n"
     ]
    },
    {
     "data": {
      "application/vnd.jupyter.widget-view+json": {
       "model_id": "",
       "version_major": 2,
       "version_minor": 0
      },
      "text/plain": [
       "Validating: 0it [00:00, ?it/s]"
      ]
     },
     "metadata": {},
     "output_type": "display_data"
    },
    {
     "name": "stderr",
     "output_type": "stream",
     "text": [
      "Metric train_loss improved by 0.002 >= min_delta = 0.001. New best score: 0.072\n"
     ]
    },
    {
     "data": {
      "application/vnd.jupyter.widget-view+json": {
       "model_id": "",
       "version_major": 2,
       "version_minor": 0
      },
      "text/plain": [
       "Validating: 0it [00:00, ?it/s]"
      ]
     },
     "metadata": {},
     "output_type": "display_data"
    },
    {
     "data": {
      "application/vnd.jupyter.widget-view+json": {
       "model_id": "",
       "version_major": 2,
       "version_minor": 0
      },
      "text/plain": [
       "Validating: 0it [00:00, ?it/s]"
      ]
     },
     "metadata": {},
     "output_type": "display_data"
    },
    {
     "data": {
      "application/vnd.jupyter.widget-view+json": {
       "model_id": "",
       "version_major": 2,
       "version_minor": 0
      },
      "text/plain": [
       "Validating: 0it [00:00, ?it/s]"
      ]
     },
     "metadata": {},
     "output_type": "display_data"
    },
    {
     "data": {
      "application/vnd.jupyter.widget-view+json": {
       "model_id": "",
       "version_major": 2,
       "version_minor": 0
      },
      "text/plain": [
       "Validating: 0it [00:00, ?it/s]"
      ]
     },
     "metadata": {},
     "output_type": "display_data"
    },
    {
     "name": "stderr",
     "output_type": "stream",
     "text": [
      "Metric train_loss improved by 0.002 >= min_delta = 0.001. New best score: 0.070\n"
     ]
    },
    {
     "data": {
      "application/vnd.jupyter.widget-view+json": {
       "model_id": "",
       "version_major": 2,
       "version_minor": 0
      },
      "text/plain": [
       "Validating: 0it [00:00, ?it/s]"
      ]
     },
     "metadata": {},
     "output_type": "display_data"
    },
    {
     "data": {
      "application/vnd.jupyter.widget-view+json": {
       "model_id": "",
       "version_major": 2,
       "version_minor": 0
      },
      "text/plain": [
       "Validating: 0it [00:00, ?it/s]"
      ]
     },
     "metadata": {},
     "output_type": "display_data"
    },
    {
     "data": {
      "application/vnd.jupyter.widget-view+json": {
       "model_id": "",
       "version_major": 2,
       "version_minor": 0
      },
      "text/plain": [
       "Validating: 0it [00:00, ?it/s]"
      ]
     },
     "metadata": {},
     "output_type": "display_data"
    },
    {
     "name": "stderr",
     "output_type": "stream",
     "text": [
      "Metric train_loss improved by 0.002 >= min_delta = 0.001. New best score: 0.068\n"
     ]
    },
    {
     "data": {
      "application/vnd.jupyter.widget-view+json": {
       "model_id": "",
       "version_major": 2,
       "version_minor": 0
      },
      "text/plain": [
       "Validating: 0it [00:00, ?it/s]"
      ]
     },
     "metadata": {},
     "output_type": "display_data"
    },
    {
     "data": {
      "application/vnd.jupyter.widget-view+json": {
       "model_id": "",
       "version_major": 2,
       "version_minor": 0
      },
      "text/plain": [
       "Validating: 0it [00:00, ?it/s]"
      ]
     },
     "metadata": {},
     "output_type": "display_data"
    },
    {
     "data": {
      "application/vnd.jupyter.widget-view+json": {
       "model_id": "",
       "version_major": 2,
       "version_minor": 0
      },
      "text/plain": [
       "Validating: 0it [00:00, ?it/s]"
      ]
     },
     "metadata": {},
     "output_type": "display_data"
    },
    {
     "name": "stderr",
     "output_type": "stream",
     "text": [
      "Metric train_loss improved by 0.001 >= min_delta = 0.001. New best score: 0.067\n"
     ]
    },
    {
     "data": {
      "application/vnd.jupyter.widget-view+json": {
       "model_id": "",
       "version_major": 2,
       "version_minor": 0
      },
      "text/plain": [
       "Validating: 0it [00:00, ?it/s]"
      ]
     },
     "metadata": {},
     "output_type": "display_data"
    },
    {
     "data": {
      "application/vnd.jupyter.widget-view+json": {
       "model_id": "",
       "version_major": 2,
       "version_minor": 0
      },
      "text/plain": [
       "Validating: 0it [00:00, ?it/s]"
      ]
     },
     "metadata": {},
     "output_type": "display_data"
    },
    {
     "data": {
      "application/vnd.jupyter.widget-view+json": {
       "model_id": "",
       "version_major": 2,
       "version_minor": 0
      },
      "text/plain": [
       "Validating: 0it [00:00, ?it/s]"
      ]
     },
     "metadata": {},
     "output_type": "display_data"
    },
    {
     "data": {
      "application/vnd.jupyter.widget-view+json": {
       "model_id": "",
       "version_major": 2,
       "version_minor": 0
      },
      "text/plain": [
       "Validating: 0it [00:00, ?it/s]"
      ]
     },
     "metadata": {},
     "output_type": "display_data"
    },
    {
     "name": "stderr",
     "output_type": "stream",
     "text": [
      "Metric train_loss improved by 0.003 >= min_delta = 0.001. New best score: 0.063\n"
     ]
    },
    {
     "data": {
      "application/vnd.jupyter.widget-view+json": {
       "model_id": "",
       "version_major": 2,
       "version_minor": 0
      },
      "text/plain": [
       "Validating: 0it [00:00, ?it/s]"
      ]
     },
     "metadata": {},
     "output_type": "display_data"
    },
    {
     "data": {
      "application/vnd.jupyter.widget-view+json": {
       "model_id": "",
       "version_major": 2,
       "version_minor": 0
      },
      "text/plain": [
       "Validating: 0it [00:00, ?it/s]"
      ]
     },
     "metadata": {},
     "output_type": "display_data"
    },
    {
     "data": {
      "application/vnd.jupyter.widget-view+json": {
       "model_id": "",
       "version_major": 2,
       "version_minor": 0
      },
      "text/plain": [
       "Validating: 0it [00:00, ?it/s]"
      ]
     },
     "metadata": {},
     "output_type": "display_data"
    },
    {
     "data": {
      "application/vnd.jupyter.widget-view+json": {
       "model_id": "",
       "version_major": 2,
       "version_minor": 0
      },
      "text/plain": [
       "Validating: 0it [00:00, ?it/s]"
      ]
     },
     "metadata": {},
     "output_type": "display_data"
    },
    {
     "data": {
      "application/vnd.jupyter.widget-view+json": {
       "model_id": "",
       "version_major": 2,
       "version_minor": 0
      },
      "text/plain": [
       "Validating: 0it [00:00, ?it/s]"
      ]
     },
     "metadata": {},
     "output_type": "display_data"
    },
    {
     "data": {
      "application/vnd.jupyter.widget-view+json": {
       "model_id": "",
       "version_major": 2,
       "version_minor": 0
      },
      "text/plain": [
       "Validating: 0it [00:00, ?it/s]"
      ]
     },
     "metadata": {},
     "output_type": "display_data"
    },
    {
     "data": {
      "application/vnd.jupyter.widget-view+json": {
       "model_id": "",
       "version_major": 2,
       "version_minor": 0
      },
      "text/plain": [
       "Validating: 0it [00:00, ?it/s]"
      ]
     },
     "metadata": {},
     "output_type": "display_data"
    },
    {
     "name": "stderr",
     "output_type": "stream",
     "text": [
      "Metric train_loss improved by 0.001 >= min_delta = 0.001. New best score: 0.062\n"
     ]
    },
    {
     "data": {
      "application/vnd.jupyter.widget-view+json": {
       "model_id": "",
       "version_major": 2,
       "version_minor": 0
      },
      "text/plain": [
       "Validating: 0it [00:00, ?it/s]"
      ]
     },
     "metadata": {},
     "output_type": "display_data"
    },
    {
     "data": {
      "application/vnd.jupyter.widget-view+json": {
       "model_id": "",
       "version_major": 2,
       "version_minor": 0
      },
      "text/plain": [
       "Validating: 0it [00:00, ?it/s]"
      ]
     },
     "metadata": {},
     "output_type": "display_data"
    },
    {
     "name": "stderr",
     "output_type": "stream",
     "text": [
      "Metric train_loss improved by 0.001 >= min_delta = 0.001. New best score: 0.061\n"
     ]
    },
    {
     "data": {
      "application/vnd.jupyter.widget-view+json": {
       "model_id": "",
       "version_major": 2,
       "version_minor": 0
      },
      "text/plain": [
       "Validating: 0it [00:00, ?it/s]"
      ]
     },
     "metadata": {},
     "output_type": "display_data"
    },
    {
     "data": {
      "application/vnd.jupyter.widget-view+json": {
       "model_id": "",
       "version_major": 2,
       "version_minor": 0
      },
      "text/plain": [
       "Validating: 0it [00:00, ?it/s]"
      ]
     },
     "metadata": {},
     "output_type": "display_data"
    },
    {
     "data": {
      "application/vnd.jupyter.widget-view+json": {
       "model_id": "",
       "version_major": 2,
       "version_minor": 0
      },
      "text/plain": [
       "Validating: 0it [00:00, ?it/s]"
      ]
     },
     "metadata": {},
     "output_type": "display_data"
    },
    {
     "data": {
      "application/vnd.jupyter.widget-view+json": {
       "model_id": "",
       "version_major": 2,
       "version_minor": 0
      },
      "text/plain": [
       "Validating: 0it [00:00, ?it/s]"
      ]
     },
     "metadata": {},
     "output_type": "display_data"
    },
    {
     "data": {
      "application/vnd.jupyter.widget-view+json": {
       "model_id": "",
       "version_major": 2,
       "version_minor": 0
      },
      "text/plain": [
       "Validating: 0it [00:00, ?it/s]"
      ]
     },
     "metadata": {},
     "output_type": "display_data"
    },
    {
     "data": {
      "application/vnd.jupyter.widget-view+json": {
       "model_id": "",
       "version_major": 2,
       "version_minor": 0
      },
      "text/plain": [
       "Validating: 0it [00:00, ?it/s]"
      ]
     },
     "metadata": {},
     "output_type": "display_data"
    },
    {
     "name": "stderr",
     "output_type": "stream",
     "text": [
      "Metric train_loss improved by 0.001 >= min_delta = 0.001. New best score: 0.060\n"
     ]
    },
    {
     "data": {
      "application/vnd.jupyter.widget-view+json": {
       "model_id": "",
       "version_major": 2,
       "version_minor": 0
      },
      "text/plain": [
       "Validating: 0it [00:00, ?it/s]"
      ]
     },
     "metadata": {},
     "output_type": "display_data"
    },
    {
     "data": {
      "application/vnd.jupyter.widget-view+json": {
       "model_id": "",
       "version_major": 2,
       "version_minor": 0
      },
      "text/plain": [
       "Validating: 0it [00:00, ?it/s]"
      ]
     },
     "metadata": {},
     "output_type": "display_data"
    },
    {
     "data": {
      "application/vnd.jupyter.widget-view+json": {
       "model_id": "",
       "version_major": 2,
       "version_minor": 0
      },
      "text/plain": [
       "Validating: 0it [00:00, ?it/s]"
      ]
     },
     "metadata": {},
     "output_type": "display_data"
    },
    {
     "data": {
      "application/vnd.jupyter.widget-view+json": {
       "model_id": "",
       "version_major": 2,
       "version_minor": 0
      },
      "text/plain": [
       "Validating: 0it [00:00, ?it/s]"
      ]
     },
     "metadata": {},
     "output_type": "display_data"
    },
    {
     "name": "stderr",
     "output_type": "stream",
     "text": [
      "Metric train_loss improved by 0.002 >= min_delta = 0.001. New best score: 0.058\n"
     ]
    },
    {
     "data": {
      "application/vnd.jupyter.widget-view+json": {
       "model_id": "",
       "version_major": 2,
       "version_minor": 0
      },
      "text/plain": [
       "Validating: 0it [00:00, ?it/s]"
      ]
     },
     "metadata": {},
     "output_type": "display_data"
    },
    {
     "data": {
      "application/vnd.jupyter.widget-view+json": {
       "model_id": "",
       "version_major": 2,
       "version_minor": 0
      },
      "text/plain": [
       "Validating: 0it [00:00, ?it/s]"
      ]
     },
     "metadata": {},
     "output_type": "display_data"
    },
    {
     "data": {
      "application/vnd.jupyter.widget-view+json": {
       "model_id": "",
       "version_major": 2,
       "version_minor": 0
      },
      "text/plain": [
       "Validating: 0it [00:00, ?it/s]"
      ]
     },
     "metadata": {},
     "output_type": "display_data"
    },
    {
     "data": {
      "application/vnd.jupyter.widget-view+json": {
       "model_id": "",
       "version_major": 2,
       "version_minor": 0
      },
      "text/plain": [
       "Validating: 0it [00:00, ?it/s]"
      ]
     },
     "metadata": {},
     "output_type": "display_data"
    },
    {
     "data": {
      "application/vnd.jupyter.widget-view+json": {
       "model_id": "",
       "version_major": 2,
       "version_minor": 0
      },
      "text/plain": [
       "Validating: 0it [00:00, ?it/s]"
      ]
     },
     "metadata": {},
     "output_type": "display_data"
    },
    {
     "data": {
      "application/vnd.jupyter.widget-view+json": {
       "model_id": "",
       "version_major": 2,
       "version_minor": 0
      },
      "text/plain": [
       "Validating: 0it [00:00, ?it/s]"
      ]
     },
     "metadata": {},
     "output_type": "display_data"
    },
    {
     "name": "stderr",
     "output_type": "stream",
     "text": [
      "Metric train_loss improved by 0.002 >= min_delta = 0.001. New best score: 0.056\n"
     ]
    },
    {
     "data": {
      "application/vnd.jupyter.widget-view+json": {
       "model_id": "",
       "version_major": 2,
       "version_minor": 0
      },
      "text/plain": [
       "Validating: 0it [00:00, ?it/s]"
      ]
     },
     "metadata": {},
     "output_type": "display_data"
    },
    {
     "data": {
      "application/vnd.jupyter.widget-view+json": {
       "model_id": "",
       "version_major": 2,
       "version_minor": 0
      },
      "text/plain": [
       "Validating: 0it [00:00, ?it/s]"
      ]
     },
     "metadata": {},
     "output_type": "display_data"
    },
    {
     "data": {
      "application/vnd.jupyter.widget-view+json": {
       "model_id": "",
       "version_major": 2,
       "version_minor": 0
      },
      "text/plain": [
       "Validating: 0it [00:00, ?it/s]"
      ]
     },
     "metadata": {},
     "output_type": "display_data"
    },
    {
     "data": {
      "application/vnd.jupyter.widget-view+json": {
       "model_id": "",
       "version_major": 2,
       "version_minor": 0
      },
      "text/plain": [
       "Validating: 0it [00:00, ?it/s]"
      ]
     },
     "metadata": {},
     "output_type": "display_data"
    },
    {
     "data": {
      "application/vnd.jupyter.widget-view+json": {
       "model_id": "",
       "version_major": 2,
       "version_minor": 0
      },
      "text/plain": [
       "Validating: 0it [00:00, ?it/s]"
      ]
     },
     "metadata": {},
     "output_type": "display_data"
    },
    {
     "data": {
      "application/vnd.jupyter.widget-view+json": {
       "model_id": "",
       "version_major": 2,
       "version_minor": 0
      },
      "text/plain": [
       "Validating: 0it [00:00, ?it/s]"
      ]
     },
     "metadata": {},
     "output_type": "display_data"
    },
    {
     "data": {
      "application/vnd.jupyter.widget-view+json": {
       "model_id": "",
       "version_major": 2,
       "version_minor": 0
      },
      "text/plain": [
       "Validating: 0it [00:00, ?it/s]"
      ]
     },
     "metadata": {},
     "output_type": "display_data"
    },
    {
     "data": {
      "application/vnd.jupyter.widget-view+json": {
       "model_id": "",
       "version_major": 2,
       "version_minor": 0
      },
      "text/plain": [
       "Validating: 0it [00:00, ?it/s]"
      ]
     },
     "metadata": {},
     "output_type": "display_data"
    },
    {
     "data": {
      "application/vnd.jupyter.widget-view+json": {
       "model_id": "",
       "version_major": 2,
       "version_minor": 0
      },
      "text/plain": [
       "Validating: 0it [00:00, ?it/s]"
      ]
     },
     "metadata": {},
     "output_type": "display_data"
    },
    {
     "name": "stderr",
     "output_type": "stream",
     "text": [
      "Metric train_loss improved by 0.002 >= min_delta = 0.001. New best score: 0.054\n"
     ]
    },
    {
     "data": {
      "application/vnd.jupyter.widget-view+json": {
       "model_id": "",
       "version_major": 2,
       "version_minor": 0
      },
      "text/plain": [
       "Validating: 0it [00:00, ?it/s]"
      ]
     },
     "metadata": {},
     "output_type": "display_data"
    },
    {
     "data": {
      "application/vnd.jupyter.widget-view+json": {
       "model_id": "",
       "version_major": 2,
       "version_minor": 0
      },
      "text/plain": [
       "Validating: 0it [00:00, ?it/s]"
      ]
     },
     "metadata": {},
     "output_type": "display_data"
    },
    {
     "data": {
      "application/vnd.jupyter.widget-view+json": {
       "model_id": "",
       "version_major": 2,
       "version_minor": 0
      },
      "text/plain": [
       "Validating: 0it [00:00, ?it/s]"
      ]
     },
     "metadata": {},
     "output_type": "display_data"
    },
    {
     "name": "stderr",
     "output_type": "stream",
     "text": [
      "Metric train_loss improved by 0.001 >= min_delta = 0.001. New best score: 0.053\n"
     ]
    },
    {
     "data": {
      "application/vnd.jupyter.widget-view+json": {
       "model_id": "",
       "version_major": 2,
       "version_minor": 0
      },
      "text/plain": [
       "Validating: 0it [00:00, ?it/s]"
      ]
     },
     "metadata": {},
     "output_type": "display_data"
    },
    {
     "data": {
      "application/vnd.jupyter.widget-view+json": {
       "model_id": "",
       "version_major": 2,
       "version_minor": 0
      },
      "text/plain": [
       "Validating: 0it [00:00, ?it/s]"
      ]
     },
     "metadata": {},
     "output_type": "display_data"
    },
    {
     "data": {
      "application/vnd.jupyter.widget-view+json": {
       "model_id": "",
       "version_major": 2,
       "version_minor": 0
      },
      "text/plain": [
       "Validating: 0it [00:00, ?it/s]"
      ]
     },
     "metadata": {},
     "output_type": "display_data"
    },
    {
     "data": {
      "application/vnd.jupyter.widget-view+json": {
       "model_id": "",
       "version_major": 2,
       "version_minor": 0
      },
      "text/plain": [
       "Validating: 0it [00:00, ?it/s]"
      ]
     },
     "metadata": {},
     "output_type": "display_data"
    },
    {
     "data": {
      "application/vnd.jupyter.widget-view+json": {
       "model_id": "",
       "version_major": 2,
       "version_minor": 0
      },
      "text/plain": [
       "Validating: 0it [00:00, ?it/s]"
      ]
     },
     "metadata": {},
     "output_type": "display_data"
    }
   ],
   "source": [
    "# model training\n",
    "trainer.fit(\n",
    "    model, \n",
    "    DataLoader(train_tensor_dset, batch_size=2048, shuffle=True, num_workers=4),\n",
    "    DataLoader(valid_tensor_dset, batch_size=2048, shuffle=False, num_workers=4)\n",
    ")"
   ]
  },
  {
   "cell_type": "code",
   "execution_count": 29,
   "id": "87db500d",
   "metadata": {},
   "outputs": [
    {
     "name": "stderr",
     "output_type": "stream",
     "text": [
      "LOCAL_RANK: 0 - CUDA_VISIBLE_DEVICES: [0]\n"
     ]
    },
    {
     "data": {
      "application/vnd.jupyter.widget-view+json": {
       "model_id": "1815d73fc8f84000b0d8b6c4c0ce0bc4",
       "version_major": 2,
       "version_minor": 0
      },
      "text/plain": [
       "Testing: 0it [00:00, ?it/s]"
      ]
     },
     "metadata": {},
     "output_type": "display_data"
    },
    {
     "name": "stdout",
     "output_type": "stream",
     "text": [
      "Accuracy Score : 0.4333024548402038\n",
      "=======================\n",
      "\n",
      "Precision Score : 0.30445008102378956\n",
      "========================\n",
      "\n",
      "Recall Score : 0.4333024548402038\n",
      "=====================\n",
      "\n",
      "F1 Score : 0.3350250816247459\n",
      "=================\n",
      "\n",
      "--------------------------------------------------------------------------------\n",
      "DATALOADER:0 TEST RESULTS\n",
      "{}\n",
      "--------------------------------------------------------------------------------\n"
     ]
    },
    {
     "data": {
      "text/plain": [
       "[{}]"
      ]
     },
     "execution_count": 29,
     "metadata": {},
     "output_type": "execute_result"
    }
   ],
   "source": [
    "# AUC on testing dataset\n",
    "trainer.test(model, DataLoader(test_tensor_dset, batch_size=test.shape[0], shuffle=False, num_workers=1))"
   ]
  },
  {
   "cell_type": "markdown",
   "id": "5343c328",
   "metadata": {},
   "source": [
    "# 08 SoftOrdering1DCNN¶"
   ]
  },
  {
   "cell_type": "code",
   "execution_count": 30,
   "id": "8ee15f8e",
   "metadata": {},
   "outputs": [],
   "source": [
    "# model architecture development\n",
    "class SoftOrdering1DCNN(pl.LightningModule):\n",
    "\n",
    "    def __init__(self, input_dim, output_dim, sign_size=32, cha_input=16, cha_hidden=32, \n",
    "                 K=2, dropout_input=0.2, dropout_hidden=0.2, dropout_output=0.2):\n",
    "        super().__init__()\n",
    "\n",
    "        hidden_size = sign_size*cha_input\n",
    "        sign_size1 = sign_size\n",
    "        sign_size2 = sign_size//2\n",
    "        output_size = (sign_size//4) * cha_hidden\n",
    "\n",
    "        self.hidden_size = hidden_size\n",
    "        self.cha_input = cha_input\n",
    "        self.cha_hidden = cha_hidden\n",
    "        self.K = K\n",
    "        self.sign_size1 = sign_size1\n",
    "        self.sign_size2 = sign_size2\n",
    "        self.output_size = output_size\n",
    "        self.dropout_input = dropout_input\n",
    "        self.dropout_hidden = dropout_hidden\n",
    "        self.dropout_output = dropout_output\n",
    "\n",
    "        self.batch_norm1 = nn.BatchNorm1d(input_dim)\n",
    "        self.dropout1 = nn.Dropout(dropout_input)\n",
    "        dense1 = nn.Linear(input_dim, hidden_size, bias=False)\n",
    "        self.dense1 = nn.utils.weight_norm(dense1)\n",
    "\n",
    "        # 1st conv layer\n",
    "        self.batch_norm_c1 = nn.BatchNorm1d(cha_input)\n",
    "        conv1 = conv1 = nn.Conv1d(\n",
    "            cha_input, \n",
    "            cha_input*K, \n",
    "            kernel_size=5, \n",
    "            stride = 1, \n",
    "            padding=2,  \n",
    "            groups=cha_input, \n",
    "            bias=False)\n",
    "        self.conv1 = nn.utils.weight_norm(conv1, dim=None)\n",
    "\n",
    "        self.ave_po_c1 = nn.AdaptiveAvgPool1d(output_size = sign_size2)\n",
    "\n",
    "        # 2nd conv layer\n",
    "        self.batch_norm_c2 = nn.BatchNorm1d(cha_input*K)\n",
    "        self.dropout_c2 = nn.Dropout(dropout_hidden)\n",
    "        conv2 = nn.Conv1d(\n",
    "            cha_input*K, \n",
    "            cha_hidden, \n",
    "            kernel_size=3, \n",
    "            stride=1, \n",
    "            padding=1, \n",
    "            bias=False)\n",
    "        self.conv2 = nn.utils.weight_norm(conv2, dim=None)\n",
    "\n",
    "        # 3rd conv layer\n",
    "        self.batch_norm_c3 = nn.BatchNorm1d(cha_hidden)\n",
    "        self.dropout_c3 = nn.Dropout(dropout_hidden)\n",
    "        conv3 = nn.Conv1d(\n",
    "            cha_hidden, \n",
    "            cha_hidden, \n",
    "            kernel_size=3, \n",
    "            stride=1, \n",
    "            padding=1, \n",
    "            bias=False)\n",
    "        self.conv3 = nn.utils.weight_norm(conv3, dim=None)\n",
    "        \n",
    "\n",
    "        # 4th conv layer\n",
    "        self.batch_norm_c4 = nn.BatchNorm1d(cha_hidden)\n",
    "        conv4 = nn.Conv1d(\n",
    "            cha_hidden, \n",
    "            cha_hidden, \n",
    "            kernel_size=5, \n",
    "            stride=1, \n",
    "            padding=2, \n",
    "            groups=cha_hidden, \n",
    "            bias=False)\n",
    "        self.conv4 = nn.utils.weight_norm(conv4, dim=None)\n",
    "\n",
    "        self.avg_po_c4 = nn.AvgPool1d(kernel_size=4, stride=2, padding=1)\n",
    "\n",
    "        self.flt = nn.Flatten()\n",
    "\n",
    "        self.batch_norm2 = nn.BatchNorm1d(output_size)\n",
    "        self.dropout2 = nn.Dropout(dropout_output)\n",
    "        dense2 = nn.Linear(output_size, output_dim, bias=False)\n",
    "        self.dense2 = nn.utils.weight_norm(dense2)\n",
    "\n",
    "        self.loss = nn.BCEWithLogitsLoss()\n",
    "\n",
    "    def forward(self, x):\n",
    "        x = self.batch_norm1(x)\n",
    "        x = self.dropout1(x)\n",
    "        x = nn.functional.celu(self.dense1(x))\n",
    "\n",
    "        x = x.reshape(x.shape[0], self.cha_input, self.sign_size1)\n",
    "\n",
    "        x = self.batch_norm_c1(x)\n",
    "        x = nn.functional.relu(self.conv1(x))\n",
    "\n",
    "        x = self.ave_po_c1(x)\n",
    "\n",
    "        x = self.batch_norm_c2(x)\n",
    "        x = self.dropout_c2(x)\n",
    "        x = nn.functional.relu(self.conv2(x))\n",
    "        x_s = x\n",
    "\n",
    "        x = self.batch_norm_c3(x)\n",
    "        x = self.dropout_c3(x)\n",
    "        x = nn.functional.relu(self.conv3(x))\n",
    "\n",
    "        x = self.batch_norm_c4(x)\n",
    "        x = self.conv4(x)\n",
    "        x =  x + x_s\n",
    "        x = nn.functional.relu(x)\n",
    "\n",
    "        x = self.avg_po_c4(x)\n",
    "\n",
    "        x = self.flt(x)\n",
    "\n",
    "        x = self.batch_norm2(x)\n",
    "        x = self.dropout2(x)\n",
    "        x = self.dense2(x)\n",
    "\n",
    "        return x\n",
    "\n",
    "    def training_step(self, batch, batch_idx):\n",
    "        X, y = batch\n",
    "        y_hat = self.forward(X)\n",
    "        loss = self.loss(y_hat, y)\n",
    "        self.log('train_loss', loss)\n",
    "        return loss\n",
    "    \n",
    "    def validation_step(self, batch, batch_idx):\n",
    "        X, y = batch\n",
    "        y_hat = self.forward(X)\n",
    "        loss = self.loss(y_hat, y)\n",
    "        self.log('valid_loss', loss)\n",
    "        \n",
    "    def test_step(self, batch, batch_idx):\n",
    "        X, y = batch\n",
    "        y_logit = self.forward(X)\n",
    "        y_probs = torch.sigmoid(y_logit).detach().cpu().numpy()\n",
    "        y_tests = torch.sigmoid(y).detach().cpu().numpy()\n",
    "        \n",
    "        y_pred = [np.argmax(y_prob) for y_prob in y_probs]\n",
    "        y_test = [np.argmax(y_test) for y_test in y_tests]\n",
    "        \n",
    "        make_predictions(y_test, y_pred)\n",
    "\n",
    "    def configure_optimizers(self):\n",
    "        optimizer = torch.optim.SGD(self.parameters(), lr=1e-2, momentum=0.9)\n",
    "        scheduler = {\n",
    "            'scheduler': ReduceLROnPlateau(\n",
    "                optimizer, \n",
    "                mode=\"min\", \n",
    "                factor=0.5, \n",
    "                patience=5, \n",
    "                min_lr=1e-5),\n",
    "            'interval': 'epoch',\n",
    "            'frequency': 1,\n",
    "            'reduce_on_plateau': True,\n",
    "            'monitor': 'train_loss',\n",
    "        }\n",
    "        return [optimizer], [scheduler]"
   ]
  },
  {
   "cell_type": "code",
   "execution_count": 31,
   "id": "971152eb",
   "metadata": {},
   "outputs": [
    {
     "name": "stderr",
     "output_type": "stream",
     "text": [
      "GPU available: True, used: True\n",
      "TPU available: False, using: 0 TPU cores\n"
     ]
    }
   ],
   "source": [
    "# model initialization\n",
    "model = SoftOrdering1DCNN(\n",
    "    input_dim=len(features), \n",
    "    output_dim=81, \n",
    "    sign_size=16, \n",
    "    cha_input=64, \n",
    "    cha_hidden=64, \n",
    "    K=2, \n",
    "    dropout_input=0.3, \n",
    "    dropout_hidden=0.3, \n",
    "    dropout_output=0.2\n",
    ")\n",
    "\n",
    "# congigure early stopping teachnique\n",
    "early_stop_callback = EarlyStopping(\n",
    "   monitor='train_loss',\n",
    "   min_delta= .001,\n",
    "   patience=21,\n",
    "   verbose=True,\n",
    "   mode='min'\n",
    ")\n",
    "\n",
    "# model configuration\n",
    "trainer = pl.Trainer(callbacks=[early_stop_callback], min_epochs=10, max_epochs=200, gpus=1)\n"
   ]
  },
  {
   "cell_type": "code",
   "execution_count": 32,
   "id": "3f868309",
   "metadata": {},
   "outputs": [
    {
     "name": "stderr",
     "output_type": "stream",
     "text": [
      "LOCAL_RANK: 0 - CUDA_VISIBLE_DEVICES: [0]\n",
      "\n",
      "   | Name          | Type              | Params\n",
      "-----------------------------------------------------\n",
      "0  | batch_norm1   | BatchNorm1d       | 10    \n",
      "1  | dropout1      | Dropout           | 0     \n",
      "2  | dense1        | Linear            | 6.1 K \n",
      "3  | batch_norm_c1 | BatchNorm1d       | 128   \n",
      "4  | conv1         | Conv1d            | 641   \n",
      "5  | ave_po_c1     | AdaptiveAvgPool1d | 0     \n",
      "6  | batch_norm_c2 | BatchNorm1d       | 256   \n",
      "7  | dropout_c2    | Dropout           | 0     \n",
      "8  | conv2         | Conv1d            | 24.6 K\n",
      "9  | batch_norm_c3 | BatchNorm1d       | 128   \n",
      "10 | dropout_c3    | Dropout           | 0     \n",
      "11 | conv3         | Conv1d            | 12.3 K\n",
      "12 | batch_norm_c4 | BatchNorm1d       | 128   \n",
      "13 | conv4         | Conv1d            | 321   \n",
      "14 | avg_po_c4     | AvgPool1d         | 0     \n",
      "15 | flt           | Flatten           | 0     \n",
      "16 | batch_norm2   | BatchNorm1d       | 512   \n",
      "17 | dropout2      | Dropout           | 0     \n",
      "18 | dense2        | Linear            | 20.8 K\n",
      "19 | loss          | BCEWithLogitsLoss | 0     \n",
      "-----------------------------------------------------\n",
      "66.0 K    Trainable params\n",
      "0         Non-trainable params\n",
      "66.0 K    Total params\n",
      "0.264     Total estimated model params size (MB)\n"
     ]
    },
    {
     "data": {
      "application/vnd.jupyter.widget-view+json": {
       "model_id": "",
       "version_major": 2,
       "version_minor": 0
      },
      "text/plain": [
       "Validation sanity check: 0it [00:00, ?it/s]"
      ]
     },
     "metadata": {},
     "output_type": "display_data"
    },
    {
     "name": "stderr",
     "output_type": "stream",
     "text": [
      "Global seed set to 42\n"
     ]
    },
    {
     "data": {
      "application/vnd.jupyter.widget-view+json": {
       "model_id": "6db7f006c6904c8082a55531bf38443e",
       "version_major": 2,
       "version_minor": 0
      },
      "text/plain": [
       "Training: 0it [00:00, ?it/s]"
      ]
     },
     "metadata": {},
     "output_type": "display_data"
    },
    {
     "data": {
      "application/vnd.jupyter.widget-view+json": {
       "model_id": "",
       "version_major": 2,
       "version_minor": 0
      },
      "text/plain": [
       "Validating: 0it [00:00, ?it/s]"
      ]
     },
     "metadata": {},
     "output_type": "display_data"
    },
    {
     "name": "stderr",
     "output_type": "stream",
     "text": [
      "Metric train_loss improved. New best score: 0.739\n"
     ]
    },
    {
     "data": {
      "application/vnd.jupyter.widget-view+json": {
       "model_id": "",
       "version_major": 2,
       "version_minor": 0
      },
      "text/plain": [
       "Validating: 0it [00:00, ?it/s]"
      ]
     },
     "metadata": {},
     "output_type": "display_data"
    },
    {
     "name": "stderr",
     "output_type": "stream",
     "text": [
      "Metric train_loss improved by 0.002 >= min_delta = 0.001. New best score: 0.736\n"
     ]
    },
    {
     "data": {
      "application/vnd.jupyter.widget-view+json": {
       "model_id": "",
       "version_major": 2,
       "version_minor": 0
      },
      "text/plain": [
       "Validating: 0it [00:00, ?it/s]"
      ]
     },
     "metadata": {},
     "output_type": "display_data"
    },
    {
     "name": "stderr",
     "output_type": "stream",
     "text": [
      "Metric train_loss improved by 0.004 >= min_delta = 0.001. New best score: 0.732\n"
     ]
    },
    {
     "data": {
      "application/vnd.jupyter.widget-view+json": {
       "model_id": "",
       "version_major": 2,
       "version_minor": 0
      },
      "text/plain": [
       "Validating: 0it [00:00, ?it/s]"
      ]
     },
     "metadata": {},
     "output_type": "display_data"
    },
    {
     "name": "stderr",
     "output_type": "stream",
     "text": [
      "Metric train_loss improved by 0.002 >= min_delta = 0.001. New best score: 0.731\n"
     ]
    },
    {
     "data": {
      "application/vnd.jupyter.widget-view+json": {
       "model_id": "",
       "version_major": 2,
       "version_minor": 0
      },
      "text/plain": [
       "Validating: 0it [00:00, ?it/s]"
      ]
     },
     "metadata": {},
     "output_type": "display_data"
    },
    {
     "name": "stderr",
     "output_type": "stream",
     "text": [
      "Metric train_loss improved by 0.003 >= min_delta = 0.001. New best score: 0.728\n"
     ]
    },
    {
     "data": {
      "application/vnd.jupyter.widget-view+json": {
       "model_id": "",
       "version_major": 2,
       "version_minor": 0
      },
      "text/plain": [
       "Validating: 0it [00:00, ?it/s]"
      ]
     },
     "metadata": {},
     "output_type": "display_data"
    },
    {
     "name": "stderr",
     "output_type": "stream",
     "text": [
      "Metric train_loss improved by 0.001 >= min_delta = 0.001. New best score: 0.726\n"
     ]
    },
    {
     "data": {
      "application/vnd.jupyter.widget-view+json": {
       "model_id": "",
       "version_major": 2,
       "version_minor": 0
      },
      "text/plain": [
       "Validating: 0it [00:00, ?it/s]"
      ]
     },
     "metadata": {},
     "output_type": "display_data"
    },
    {
     "name": "stderr",
     "output_type": "stream",
     "text": [
      "Metric train_loss improved by 0.004 >= min_delta = 0.001. New best score: 0.722\n"
     ]
    },
    {
     "data": {
      "application/vnd.jupyter.widget-view+json": {
       "model_id": "",
       "version_major": 2,
       "version_minor": 0
      },
      "text/plain": [
       "Validating: 0it [00:00, ?it/s]"
      ]
     },
     "metadata": {},
     "output_type": "display_data"
    },
    {
     "name": "stderr",
     "output_type": "stream",
     "text": [
      "Metric train_loss improved by 0.001 >= min_delta = 0.001. New best score: 0.721\n"
     ]
    },
    {
     "data": {
      "application/vnd.jupyter.widget-view+json": {
       "model_id": "",
       "version_major": 2,
       "version_minor": 0
      },
      "text/plain": [
       "Validating: 0it [00:00, ?it/s]"
      ]
     },
     "metadata": {},
     "output_type": "display_data"
    },
    {
     "name": "stderr",
     "output_type": "stream",
     "text": [
      "Metric train_loss improved by 0.002 >= min_delta = 0.001. New best score: 0.718\n"
     ]
    },
    {
     "data": {
      "application/vnd.jupyter.widget-view+json": {
       "model_id": "",
       "version_major": 2,
       "version_minor": 0
      },
      "text/plain": [
       "Validating: 0it [00:00, ?it/s]"
      ]
     },
     "metadata": {},
     "output_type": "display_data"
    },
    {
     "name": "stderr",
     "output_type": "stream",
     "text": [
      "Metric train_loss improved by 0.001 >= min_delta = 0.001. New best score: 0.717\n"
     ]
    },
    {
     "data": {
      "application/vnd.jupyter.widget-view+json": {
       "model_id": "",
       "version_major": 2,
       "version_minor": 0
      },
      "text/plain": [
       "Validating: 0it [00:00, ?it/s]"
      ]
     },
     "metadata": {},
     "output_type": "display_data"
    },
    {
     "name": "stderr",
     "output_type": "stream",
     "text": [
      "Metric train_loss improved by 0.004 >= min_delta = 0.001. New best score: 0.713\n"
     ]
    },
    {
     "data": {
      "application/vnd.jupyter.widget-view+json": {
       "model_id": "",
       "version_major": 2,
       "version_minor": 0
      },
      "text/plain": [
       "Validating: 0it [00:00, ?it/s]"
      ]
     },
     "metadata": {},
     "output_type": "display_data"
    },
    {
     "data": {
      "application/vnd.jupyter.widget-view+json": {
       "model_id": "",
       "version_major": 2,
       "version_minor": 0
      },
      "text/plain": [
       "Validating: 0it [00:00, ?it/s]"
      ]
     },
     "metadata": {},
     "output_type": "display_data"
    },
    {
     "name": "stderr",
     "output_type": "stream",
     "text": [
      "Metric train_loss improved by 0.001 >= min_delta = 0.001. New best score: 0.712\n"
     ]
    },
    {
     "data": {
      "application/vnd.jupyter.widget-view+json": {
       "model_id": "",
       "version_major": 2,
       "version_minor": 0
      },
      "text/plain": [
       "Validating: 0it [00:00, ?it/s]"
      ]
     },
     "metadata": {},
     "output_type": "display_data"
    },
    {
     "name": "stderr",
     "output_type": "stream",
     "text": [
      "Metric train_loss improved by 0.004 >= min_delta = 0.001. New best score: 0.708\n"
     ]
    },
    {
     "data": {
      "application/vnd.jupyter.widget-view+json": {
       "model_id": "",
       "version_major": 2,
       "version_minor": 0
      },
      "text/plain": [
       "Validating: 0it [00:00, ?it/s]"
      ]
     },
     "metadata": {},
     "output_type": "display_data"
    },
    {
     "data": {
      "application/vnd.jupyter.widget-view+json": {
       "model_id": "",
       "version_major": 2,
       "version_minor": 0
      },
      "text/plain": [
       "Validating: 0it [00:00, ?it/s]"
      ]
     },
     "metadata": {},
     "output_type": "display_data"
    },
    {
     "name": "stderr",
     "output_type": "stream",
     "text": [
      "Metric train_loss improved by 0.002 >= min_delta = 0.001. New best score: 0.706\n"
     ]
    },
    {
     "data": {
      "application/vnd.jupyter.widget-view+json": {
       "model_id": "",
       "version_major": 2,
       "version_minor": 0
      },
      "text/plain": [
       "Validating: 0it [00:00, ?it/s]"
      ]
     },
     "metadata": {},
     "output_type": "display_data"
    },
    {
     "name": "stderr",
     "output_type": "stream",
     "text": [
      "Metric train_loss improved by 0.003 >= min_delta = 0.001. New best score: 0.702\n"
     ]
    },
    {
     "data": {
      "application/vnd.jupyter.widget-view+json": {
       "model_id": "",
       "version_major": 2,
       "version_minor": 0
      },
      "text/plain": [
       "Validating: 0it [00:00, ?it/s]"
      ]
     },
     "metadata": {},
     "output_type": "display_data"
    },
    {
     "data": {
      "application/vnd.jupyter.widget-view+json": {
       "model_id": "",
       "version_major": 2,
       "version_minor": 0
      },
      "text/plain": [
       "Validating: 0it [00:00, ?it/s]"
      ]
     },
     "metadata": {},
     "output_type": "display_data"
    },
    {
     "name": "stderr",
     "output_type": "stream",
     "text": [
      "Metric train_loss improved by 0.002 >= min_delta = 0.001. New best score: 0.700\n"
     ]
    },
    {
     "data": {
      "application/vnd.jupyter.widget-view+json": {
       "model_id": "",
       "version_major": 2,
       "version_minor": 0
      },
      "text/plain": [
       "Validating: 0it [00:00, ?it/s]"
      ]
     },
     "metadata": {},
     "output_type": "display_data"
    },
    {
     "name": "stderr",
     "output_type": "stream",
     "text": [
      "Metric train_loss improved by 0.001 >= min_delta = 0.001. New best score: 0.699\n"
     ]
    },
    {
     "data": {
      "application/vnd.jupyter.widget-view+json": {
       "model_id": "",
       "version_major": 2,
       "version_minor": 0
      },
      "text/plain": [
       "Validating: 0it [00:00, ?it/s]"
      ]
     },
     "metadata": {},
     "output_type": "display_data"
    },
    {
     "name": "stderr",
     "output_type": "stream",
     "text": [
      "Metric train_loss improved by 0.002 >= min_delta = 0.001. New best score: 0.697\n"
     ]
    },
    {
     "data": {
      "application/vnd.jupyter.widget-view+json": {
       "model_id": "",
       "version_major": 2,
       "version_minor": 0
      },
      "text/plain": [
       "Validating: 0it [00:00, ?it/s]"
      ]
     },
     "metadata": {},
     "output_type": "display_data"
    },
    {
     "name": "stderr",
     "output_type": "stream",
     "text": [
      "Metric train_loss improved by 0.004 >= min_delta = 0.001. New best score: 0.694\n"
     ]
    },
    {
     "data": {
      "application/vnd.jupyter.widget-view+json": {
       "model_id": "",
       "version_major": 2,
       "version_minor": 0
      },
      "text/plain": [
       "Validating: 0it [00:00, ?it/s]"
      ]
     },
     "metadata": {},
     "output_type": "display_data"
    },
    {
     "data": {
      "application/vnd.jupyter.widget-view+json": {
       "model_id": "",
       "version_major": 2,
       "version_minor": 0
      },
      "text/plain": [
       "Validating: 0it [00:00, ?it/s]"
      ]
     },
     "metadata": {},
     "output_type": "display_data"
    },
    {
     "name": "stderr",
     "output_type": "stream",
     "text": [
      "Metric train_loss improved by 0.003 >= min_delta = 0.001. New best score: 0.690\n"
     ]
    },
    {
     "data": {
      "application/vnd.jupyter.widget-view+json": {
       "model_id": "",
       "version_major": 2,
       "version_minor": 0
      },
      "text/plain": [
       "Validating: 0it [00:00, ?it/s]"
      ]
     },
     "metadata": {},
     "output_type": "display_data"
    },
    {
     "data": {
      "application/vnd.jupyter.widget-view+json": {
       "model_id": "",
       "version_major": 2,
       "version_minor": 0
      },
      "text/plain": [
       "Validating: 0it [00:00, ?it/s]"
      ]
     },
     "metadata": {},
     "output_type": "display_data"
    },
    {
     "name": "stderr",
     "output_type": "stream",
     "text": [
      "Metric train_loss improved by 0.004 >= min_delta = 0.001. New best score: 0.686\n"
     ]
    },
    {
     "data": {
      "application/vnd.jupyter.widget-view+json": {
       "model_id": "",
       "version_major": 2,
       "version_minor": 0
      },
      "text/plain": [
       "Validating: 0it [00:00, ?it/s]"
      ]
     },
     "metadata": {},
     "output_type": "display_data"
    },
    {
     "data": {
      "application/vnd.jupyter.widget-view+json": {
       "model_id": "",
       "version_major": 2,
       "version_minor": 0
      },
      "text/plain": [
       "Validating: 0it [00:00, ?it/s]"
      ]
     },
     "metadata": {},
     "output_type": "display_data"
    },
    {
     "name": "stderr",
     "output_type": "stream",
     "text": [
      "Metric train_loss improved by 0.003 >= min_delta = 0.001. New best score: 0.684\n"
     ]
    },
    {
     "data": {
      "application/vnd.jupyter.widget-view+json": {
       "model_id": "",
       "version_major": 2,
       "version_minor": 0
      },
      "text/plain": [
       "Validating: 0it [00:00, ?it/s]"
      ]
     },
     "metadata": {},
     "output_type": "display_data"
    },
    {
     "name": "stderr",
     "output_type": "stream",
     "text": [
      "Metric train_loss improved by 0.005 >= min_delta = 0.001. New best score: 0.679\n"
     ]
    },
    {
     "data": {
      "application/vnd.jupyter.widget-view+json": {
       "model_id": "",
       "version_major": 2,
       "version_minor": 0
      },
      "text/plain": [
       "Validating: 0it [00:00, ?it/s]"
      ]
     },
     "metadata": {},
     "output_type": "display_data"
    },
    {
     "data": {
      "application/vnd.jupyter.widget-view+json": {
       "model_id": "",
       "version_major": 2,
       "version_minor": 0
      },
      "text/plain": [
       "Validating: 0it [00:00, ?it/s]"
      ]
     },
     "metadata": {},
     "output_type": "display_data"
    },
    {
     "name": "stderr",
     "output_type": "stream",
     "text": [
      "Metric train_loss improved by 0.005 >= min_delta = 0.001. New best score: 0.674\n"
     ]
    },
    {
     "data": {
      "application/vnd.jupyter.widget-view+json": {
       "model_id": "",
       "version_major": 2,
       "version_minor": 0
      },
      "text/plain": [
       "Validating: 0it [00:00, ?it/s]"
      ]
     },
     "metadata": {},
     "output_type": "display_data"
    },
    {
     "name": "stderr",
     "output_type": "stream",
     "text": [
      "Metric train_loss improved by 0.002 >= min_delta = 0.001. New best score: 0.672\n"
     ]
    },
    {
     "data": {
      "application/vnd.jupyter.widget-view+json": {
       "model_id": "",
       "version_major": 2,
       "version_minor": 0
      },
      "text/plain": [
       "Validating: 0it [00:00, ?it/s]"
      ]
     },
     "metadata": {},
     "output_type": "display_data"
    },
    {
     "name": "stderr",
     "output_type": "stream",
     "text": [
      "Metric train_loss improved by 0.003 >= min_delta = 0.001. New best score: 0.669\n"
     ]
    },
    {
     "data": {
      "application/vnd.jupyter.widget-view+json": {
       "model_id": "",
       "version_major": 2,
       "version_minor": 0
      },
      "text/plain": [
       "Validating: 0it [00:00, ?it/s]"
      ]
     },
     "metadata": {},
     "output_type": "display_data"
    },
    {
     "name": "stderr",
     "output_type": "stream",
     "text": [
      "Metric train_loss improved by 0.004 >= min_delta = 0.001. New best score: 0.665\n"
     ]
    },
    {
     "data": {
      "application/vnd.jupyter.widget-view+json": {
       "model_id": "",
       "version_major": 2,
       "version_minor": 0
      },
      "text/plain": [
       "Validating: 0it [00:00, ?it/s]"
      ]
     },
     "metadata": {},
     "output_type": "display_data"
    },
    {
     "name": "stderr",
     "output_type": "stream",
     "text": [
      "Metric train_loss improved by 0.004 >= min_delta = 0.001. New best score: 0.661\n"
     ]
    },
    {
     "data": {
      "application/vnd.jupyter.widget-view+json": {
       "model_id": "",
       "version_major": 2,
       "version_minor": 0
      },
      "text/plain": [
       "Validating: 0it [00:00, ?it/s]"
      ]
     },
     "metadata": {},
     "output_type": "display_data"
    },
    {
     "name": "stderr",
     "output_type": "stream",
     "text": [
      "Metric train_loss improved by 0.002 >= min_delta = 0.001. New best score: 0.659\n"
     ]
    },
    {
     "data": {
      "application/vnd.jupyter.widget-view+json": {
       "model_id": "",
       "version_major": 2,
       "version_minor": 0
      },
      "text/plain": [
       "Validating: 0it [00:00, ?it/s]"
      ]
     },
     "metadata": {},
     "output_type": "display_data"
    },
    {
     "name": "stderr",
     "output_type": "stream",
     "text": [
      "Metric train_loss improved by 0.002 >= min_delta = 0.001. New best score: 0.658\n"
     ]
    },
    {
     "data": {
      "application/vnd.jupyter.widget-view+json": {
       "model_id": "",
       "version_major": 2,
       "version_minor": 0
      },
      "text/plain": [
       "Validating: 0it [00:00, ?it/s]"
      ]
     },
     "metadata": {},
     "output_type": "display_data"
    },
    {
     "name": "stderr",
     "output_type": "stream",
     "text": [
      "Metric train_loss improved by 0.007 >= min_delta = 0.001. New best score: 0.651\n"
     ]
    },
    {
     "data": {
      "application/vnd.jupyter.widget-view+json": {
       "model_id": "",
       "version_major": 2,
       "version_minor": 0
      },
      "text/plain": [
       "Validating: 0it [00:00, ?it/s]"
      ]
     },
     "metadata": {},
     "output_type": "display_data"
    },
    {
     "name": "stderr",
     "output_type": "stream",
     "text": [
      "Metric train_loss improved by 0.003 >= min_delta = 0.001. New best score: 0.648\n"
     ]
    },
    {
     "data": {
      "application/vnd.jupyter.widget-view+json": {
       "model_id": "",
       "version_major": 2,
       "version_minor": 0
      },
      "text/plain": [
       "Validating: 0it [00:00, ?it/s]"
      ]
     },
     "metadata": {},
     "output_type": "display_data"
    },
    {
     "name": "stderr",
     "output_type": "stream",
     "text": [
      "Metric train_loss improved by 0.007 >= min_delta = 0.001. New best score: 0.641\n"
     ]
    },
    {
     "data": {
      "application/vnd.jupyter.widget-view+json": {
       "model_id": "",
       "version_major": 2,
       "version_minor": 0
      },
      "text/plain": [
       "Validating: 0it [00:00, ?it/s]"
      ]
     },
     "metadata": {},
     "output_type": "display_data"
    },
    {
     "name": "stderr",
     "output_type": "stream",
     "text": [
      "Metric train_loss improved by 0.002 >= min_delta = 0.001. New best score: 0.639\n"
     ]
    },
    {
     "data": {
      "application/vnd.jupyter.widget-view+json": {
       "model_id": "",
       "version_major": 2,
       "version_minor": 0
      },
      "text/plain": [
       "Validating: 0it [00:00, ?it/s]"
      ]
     },
     "metadata": {},
     "output_type": "display_data"
    },
    {
     "name": "stderr",
     "output_type": "stream",
     "text": [
      "Metric train_loss improved by 0.002 >= min_delta = 0.001. New best score: 0.637\n"
     ]
    },
    {
     "data": {
      "application/vnd.jupyter.widget-view+json": {
       "model_id": "",
       "version_major": 2,
       "version_minor": 0
      },
      "text/plain": [
       "Validating: 0it [00:00, ?it/s]"
      ]
     },
     "metadata": {},
     "output_type": "display_data"
    },
    {
     "name": "stderr",
     "output_type": "stream",
     "text": [
      "Metric train_loss improved by 0.009 >= min_delta = 0.001. New best score: 0.628\n"
     ]
    },
    {
     "data": {
      "application/vnd.jupyter.widget-view+json": {
       "model_id": "",
       "version_major": 2,
       "version_minor": 0
      },
      "text/plain": [
       "Validating: 0it [00:00, ?it/s]"
      ]
     },
     "metadata": {},
     "output_type": "display_data"
    },
    {
     "name": "stderr",
     "output_type": "stream",
     "text": [
      "Metric train_loss improved by 0.004 >= min_delta = 0.001. New best score: 0.623\n"
     ]
    },
    {
     "data": {
      "application/vnd.jupyter.widget-view+json": {
       "model_id": "",
       "version_major": 2,
       "version_minor": 0
      },
      "text/plain": [
       "Validating: 0it [00:00, ?it/s]"
      ]
     },
     "metadata": {},
     "output_type": "display_data"
    },
    {
     "name": "stderr",
     "output_type": "stream",
     "text": [
      "Metric train_loss improved by 0.006 >= min_delta = 0.001. New best score: 0.617\n"
     ]
    },
    {
     "data": {
      "application/vnd.jupyter.widget-view+json": {
       "model_id": "",
       "version_major": 2,
       "version_minor": 0
      },
      "text/plain": [
       "Validating: 0it [00:00, ?it/s]"
      ]
     },
     "metadata": {},
     "output_type": "display_data"
    },
    {
     "name": "stderr",
     "output_type": "stream",
     "text": [
      "Metric train_loss improved by 0.007 >= min_delta = 0.001. New best score: 0.611\n"
     ]
    },
    {
     "data": {
      "application/vnd.jupyter.widget-view+json": {
       "model_id": "",
       "version_major": 2,
       "version_minor": 0
      },
      "text/plain": [
       "Validating: 0it [00:00, ?it/s]"
      ]
     },
     "metadata": {},
     "output_type": "display_data"
    },
    {
     "name": "stderr",
     "output_type": "stream",
     "text": [
      "Metric train_loss improved by 0.004 >= min_delta = 0.001. New best score: 0.607\n"
     ]
    },
    {
     "data": {
      "application/vnd.jupyter.widget-view+json": {
       "model_id": "",
       "version_major": 2,
       "version_minor": 0
      },
      "text/plain": [
       "Validating: 0it [00:00, ?it/s]"
      ]
     },
     "metadata": {},
     "output_type": "display_data"
    },
    {
     "name": "stderr",
     "output_type": "stream",
     "text": [
      "Metric train_loss improved by 0.006 >= min_delta = 0.001. New best score: 0.601\n"
     ]
    },
    {
     "data": {
      "application/vnd.jupyter.widget-view+json": {
       "model_id": "",
       "version_major": 2,
       "version_minor": 0
      },
      "text/plain": [
       "Validating: 0it [00:00, ?it/s]"
      ]
     },
     "metadata": {},
     "output_type": "display_data"
    },
    {
     "name": "stderr",
     "output_type": "stream",
     "text": [
      "Metric train_loss improved by 0.005 >= min_delta = 0.001. New best score: 0.596\n"
     ]
    },
    {
     "data": {
      "application/vnd.jupyter.widget-view+json": {
       "model_id": "",
       "version_major": 2,
       "version_minor": 0
      },
      "text/plain": [
       "Validating: 0it [00:00, ?it/s]"
      ]
     },
     "metadata": {},
     "output_type": "display_data"
    },
    {
     "name": "stderr",
     "output_type": "stream",
     "text": [
      "Metric train_loss improved by 0.011 >= min_delta = 0.001. New best score: 0.585\n"
     ]
    },
    {
     "data": {
      "application/vnd.jupyter.widget-view+json": {
       "model_id": "",
       "version_major": 2,
       "version_minor": 0
      },
      "text/plain": [
       "Validating: 0it [00:00, ?it/s]"
      ]
     },
     "metadata": {},
     "output_type": "display_data"
    },
    {
     "name": "stderr",
     "output_type": "stream",
     "text": [
      "Metric train_loss improved by 0.007 >= min_delta = 0.001. New best score: 0.579\n"
     ]
    },
    {
     "data": {
      "application/vnd.jupyter.widget-view+json": {
       "model_id": "",
       "version_major": 2,
       "version_minor": 0
      },
      "text/plain": [
       "Validating: 0it [00:00, ?it/s]"
      ]
     },
     "metadata": {},
     "output_type": "display_data"
    },
    {
     "name": "stderr",
     "output_type": "stream",
     "text": [
      "Metric train_loss improved by 0.009 >= min_delta = 0.001. New best score: 0.570\n"
     ]
    },
    {
     "data": {
      "application/vnd.jupyter.widget-view+json": {
       "model_id": "",
       "version_major": 2,
       "version_minor": 0
      },
      "text/plain": [
       "Validating: 0it [00:00, ?it/s]"
      ]
     },
     "metadata": {},
     "output_type": "display_data"
    },
    {
     "name": "stderr",
     "output_type": "stream",
     "text": [
      "Metric train_loss improved by 0.008 >= min_delta = 0.001. New best score: 0.562\n"
     ]
    },
    {
     "data": {
      "application/vnd.jupyter.widget-view+json": {
       "model_id": "",
       "version_major": 2,
       "version_minor": 0
      },
      "text/plain": [
       "Validating: 0it [00:00, ?it/s]"
      ]
     },
     "metadata": {},
     "output_type": "display_data"
    },
    {
     "name": "stderr",
     "output_type": "stream",
     "text": [
      "Metric train_loss improved by 0.006 >= min_delta = 0.001. New best score: 0.556\n"
     ]
    },
    {
     "data": {
      "application/vnd.jupyter.widget-view+json": {
       "model_id": "",
       "version_major": 2,
       "version_minor": 0
      },
      "text/plain": [
       "Validating: 0it [00:00, ?it/s]"
      ]
     },
     "metadata": {},
     "output_type": "display_data"
    },
    {
     "name": "stderr",
     "output_type": "stream",
     "text": [
      "Metric train_loss improved by 0.005 >= min_delta = 0.001. New best score: 0.551\n"
     ]
    },
    {
     "data": {
      "application/vnd.jupyter.widget-view+json": {
       "model_id": "",
       "version_major": 2,
       "version_minor": 0
      },
      "text/plain": [
       "Validating: 0it [00:00, ?it/s]"
      ]
     },
     "metadata": {},
     "output_type": "display_data"
    },
    {
     "name": "stderr",
     "output_type": "stream",
     "text": [
      "Metric train_loss improved by 0.012 >= min_delta = 0.001. New best score: 0.539\n"
     ]
    },
    {
     "data": {
      "application/vnd.jupyter.widget-view+json": {
       "model_id": "",
       "version_major": 2,
       "version_minor": 0
      },
      "text/plain": [
       "Validating: 0it [00:00, ?it/s]"
      ]
     },
     "metadata": {},
     "output_type": "display_data"
    },
    {
     "name": "stderr",
     "output_type": "stream",
     "text": [
      "Metric train_loss improved by 0.010 >= min_delta = 0.001. New best score: 0.530\n"
     ]
    },
    {
     "data": {
      "application/vnd.jupyter.widget-view+json": {
       "model_id": "",
       "version_major": 2,
       "version_minor": 0
      },
      "text/plain": [
       "Validating: 0it [00:00, ?it/s]"
      ]
     },
     "metadata": {},
     "output_type": "display_data"
    },
    {
     "name": "stderr",
     "output_type": "stream",
     "text": [
      "Metric train_loss improved by 0.007 >= min_delta = 0.001. New best score: 0.522\n"
     ]
    },
    {
     "data": {
      "application/vnd.jupyter.widget-view+json": {
       "model_id": "",
       "version_major": 2,
       "version_minor": 0
      },
      "text/plain": [
       "Validating: 0it [00:00, ?it/s]"
      ]
     },
     "metadata": {},
     "output_type": "display_data"
    },
    {
     "name": "stderr",
     "output_type": "stream",
     "text": [
      "Metric train_loss improved by 0.009 >= min_delta = 0.001. New best score: 0.513\n"
     ]
    },
    {
     "data": {
      "application/vnd.jupyter.widget-view+json": {
       "model_id": "",
       "version_major": 2,
       "version_minor": 0
      },
      "text/plain": [
       "Validating: 0it [00:00, ?it/s]"
      ]
     },
     "metadata": {},
     "output_type": "display_data"
    },
    {
     "name": "stderr",
     "output_type": "stream",
     "text": [
      "Metric train_loss improved by 0.006 >= min_delta = 0.001. New best score: 0.508\n"
     ]
    },
    {
     "data": {
      "application/vnd.jupyter.widget-view+json": {
       "model_id": "",
       "version_major": 2,
       "version_minor": 0
      },
      "text/plain": [
       "Validating: 0it [00:00, ?it/s]"
      ]
     },
     "metadata": {},
     "output_type": "display_data"
    },
    {
     "name": "stderr",
     "output_type": "stream",
     "text": [
      "Metric train_loss improved by 0.016 >= min_delta = 0.001. New best score: 0.492\n"
     ]
    },
    {
     "data": {
      "application/vnd.jupyter.widget-view+json": {
       "model_id": "",
       "version_major": 2,
       "version_minor": 0
      },
      "text/plain": [
       "Validating: 0it [00:00, ?it/s]"
      ]
     },
     "metadata": {},
     "output_type": "display_data"
    },
    {
     "name": "stderr",
     "output_type": "stream",
     "text": [
      "Metric train_loss improved by 0.009 >= min_delta = 0.001. New best score: 0.483\n"
     ]
    },
    {
     "data": {
      "application/vnd.jupyter.widget-view+json": {
       "model_id": "",
       "version_major": 2,
       "version_minor": 0
      },
      "text/plain": [
       "Validating: 0it [00:00, ?it/s]"
      ]
     },
     "metadata": {},
     "output_type": "display_data"
    },
    {
     "name": "stderr",
     "output_type": "stream",
     "text": [
      "Metric train_loss improved by 0.014 >= min_delta = 0.001. New best score: 0.469\n"
     ]
    },
    {
     "data": {
      "application/vnd.jupyter.widget-view+json": {
       "model_id": "",
       "version_major": 2,
       "version_minor": 0
      },
      "text/plain": [
       "Validating: 0it [00:00, ?it/s]"
      ]
     },
     "metadata": {},
     "output_type": "display_data"
    },
    {
     "name": "stderr",
     "output_type": "stream",
     "text": [
      "Metric train_loss improved by 0.012 >= min_delta = 0.001. New best score: 0.457\n"
     ]
    },
    {
     "data": {
      "application/vnd.jupyter.widget-view+json": {
       "model_id": "",
       "version_major": 2,
       "version_minor": 0
      },
      "text/plain": [
       "Validating: 0it [00:00, ?it/s]"
      ]
     },
     "metadata": {},
     "output_type": "display_data"
    },
    {
     "name": "stderr",
     "output_type": "stream",
     "text": [
      "Metric train_loss improved by 0.006 >= min_delta = 0.001. New best score: 0.450\n"
     ]
    },
    {
     "data": {
      "application/vnd.jupyter.widget-view+json": {
       "model_id": "",
       "version_major": 2,
       "version_minor": 0
      },
      "text/plain": [
       "Validating: 0it [00:00, ?it/s]"
      ]
     },
     "metadata": {},
     "output_type": "display_data"
    },
    {
     "name": "stderr",
     "output_type": "stream",
     "text": [
      "Metric train_loss improved by 0.014 >= min_delta = 0.001. New best score: 0.436\n"
     ]
    },
    {
     "data": {
      "application/vnd.jupyter.widget-view+json": {
       "model_id": "",
       "version_major": 2,
       "version_minor": 0
      },
      "text/plain": [
       "Validating: 0it [00:00, ?it/s]"
      ]
     },
     "metadata": {},
     "output_type": "display_data"
    },
    {
     "name": "stderr",
     "output_type": "stream",
     "text": [
      "Metric train_loss improved by 0.009 >= min_delta = 0.001. New best score: 0.427\n"
     ]
    },
    {
     "data": {
      "application/vnd.jupyter.widget-view+json": {
       "model_id": "",
       "version_major": 2,
       "version_minor": 0
      },
      "text/plain": [
       "Validating: 0it [00:00, ?it/s]"
      ]
     },
     "metadata": {},
     "output_type": "display_data"
    },
    {
     "name": "stderr",
     "output_type": "stream",
     "text": [
      "Metric train_loss improved by 0.010 >= min_delta = 0.001. New best score: 0.416\n"
     ]
    },
    {
     "data": {
      "application/vnd.jupyter.widget-view+json": {
       "model_id": "",
       "version_major": 2,
       "version_minor": 0
      },
      "text/plain": [
       "Validating: 0it [00:00, ?it/s]"
      ]
     },
     "metadata": {},
     "output_type": "display_data"
    },
    {
     "name": "stderr",
     "output_type": "stream",
     "text": [
      "Metric train_loss improved by 0.014 >= min_delta = 0.001. New best score: 0.402\n"
     ]
    },
    {
     "data": {
      "application/vnd.jupyter.widget-view+json": {
       "model_id": "",
       "version_major": 2,
       "version_minor": 0
      },
      "text/plain": [
       "Validating: 0it [00:00, ?it/s]"
      ]
     },
     "metadata": {},
     "output_type": "display_data"
    },
    {
     "name": "stderr",
     "output_type": "stream",
     "text": [
      "Metric train_loss improved by 0.012 >= min_delta = 0.001. New best score: 0.390\n"
     ]
    },
    {
     "data": {
      "application/vnd.jupyter.widget-view+json": {
       "model_id": "",
       "version_major": 2,
       "version_minor": 0
      },
      "text/plain": [
       "Validating: 0it [00:00, ?it/s]"
      ]
     },
     "metadata": {},
     "output_type": "display_data"
    },
    {
     "name": "stderr",
     "output_type": "stream",
     "text": [
      "Metric train_loss improved by 0.013 >= min_delta = 0.001. New best score: 0.377\n"
     ]
    },
    {
     "data": {
      "application/vnd.jupyter.widget-view+json": {
       "model_id": "",
       "version_major": 2,
       "version_minor": 0
      },
      "text/plain": [
       "Validating: 0it [00:00, ?it/s]"
      ]
     },
     "metadata": {},
     "output_type": "display_data"
    },
    {
     "name": "stderr",
     "output_type": "stream",
     "text": [
      "Metric train_loss improved by 0.008 >= min_delta = 0.001. New best score: 0.369\n"
     ]
    },
    {
     "data": {
      "application/vnd.jupyter.widget-view+json": {
       "model_id": "",
       "version_major": 2,
       "version_minor": 0
      },
      "text/plain": [
       "Validating: 0it [00:00, ?it/s]"
      ]
     },
     "metadata": {},
     "output_type": "display_data"
    },
    {
     "name": "stderr",
     "output_type": "stream",
     "text": [
      "Metric train_loss improved by 0.016 >= min_delta = 0.001. New best score: 0.353\n"
     ]
    },
    {
     "data": {
      "application/vnd.jupyter.widget-view+json": {
       "model_id": "",
       "version_major": 2,
       "version_minor": 0
      },
      "text/plain": [
       "Validating: 0it [00:00, ?it/s]"
      ]
     },
     "metadata": {},
     "output_type": "display_data"
    },
    {
     "name": "stderr",
     "output_type": "stream",
     "text": [
      "Metric train_loss improved by 0.009 >= min_delta = 0.001. New best score: 0.344\n"
     ]
    },
    {
     "data": {
      "application/vnd.jupyter.widget-view+json": {
       "model_id": "",
       "version_major": 2,
       "version_minor": 0
      },
      "text/plain": [
       "Validating: 0it [00:00, ?it/s]"
      ]
     },
     "metadata": {},
     "output_type": "display_data"
    },
    {
     "name": "stderr",
     "output_type": "stream",
     "text": [
      "Metric train_loss improved by 0.007 >= min_delta = 0.001. New best score: 0.337\n"
     ]
    },
    {
     "data": {
      "application/vnd.jupyter.widget-view+json": {
       "model_id": "",
       "version_major": 2,
       "version_minor": 0
      },
      "text/plain": [
       "Validating: 0it [00:00, ?it/s]"
      ]
     },
     "metadata": {},
     "output_type": "display_data"
    },
    {
     "name": "stderr",
     "output_type": "stream",
     "text": [
      "Metric train_loss improved by 0.017 >= min_delta = 0.001. New best score: 0.320\n"
     ]
    },
    {
     "data": {
      "application/vnd.jupyter.widget-view+json": {
       "model_id": "",
       "version_major": 2,
       "version_minor": 0
      },
      "text/plain": [
       "Validating: 0it [00:00, ?it/s]"
      ]
     },
     "metadata": {},
     "output_type": "display_data"
    },
    {
     "name": "stderr",
     "output_type": "stream",
     "text": [
      "Metric train_loss improved by 0.007 >= min_delta = 0.001. New best score: 0.313\n"
     ]
    },
    {
     "data": {
      "application/vnd.jupyter.widget-view+json": {
       "model_id": "",
       "version_major": 2,
       "version_minor": 0
      },
      "text/plain": [
       "Validating: 0it [00:00, ?it/s]"
      ]
     },
     "metadata": {},
     "output_type": "display_data"
    },
    {
     "name": "stderr",
     "output_type": "stream",
     "text": [
      "Metric train_loss improved by 0.012 >= min_delta = 0.001. New best score: 0.302\n"
     ]
    },
    {
     "data": {
      "application/vnd.jupyter.widget-view+json": {
       "model_id": "",
       "version_major": 2,
       "version_minor": 0
      },
      "text/plain": [
       "Validating: 0it [00:00, ?it/s]"
      ]
     },
     "metadata": {},
     "output_type": "display_data"
    },
    {
     "name": "stderr",
     "output_type": "stream",
     "text": [
      "Metric train_loss improved by 0.010 >= min_delta = 0.001. New best score: 0.291\n"
     ]
    },
    {
     "data": {
      "application/vnd.jupyter.widget-view+json": {
       "model_id": "",
       "version_major": 2,
       "version_minor": 0
      },
      "text/plain": [
       "Validating: 0it [00:00, ?it/s]"
      ]
     },
     "metadata": {},
     "output_type": "display_data"
    },
    {
     "name": "stderr",
     "output_type": "stream",
     "text": [
      "Metric train_loss improved by 0.009 >= min_delta = 0.001. New best score: 0.282\n"
     ]
    },
    {
     "data": {
      "application/vnd.jupyter.widget-view+json": {
       "model_id": "",
       "version_major": 2,
       "version_minor": 0
      },
      "text/plain": [
       "Validating: 0it [00:00, ?it/s]"
      ]
     },
     "metadata": {},
     "output_type": "display_data"
    },
    {
     "name": "stderr",
     "output_type": "stream",
     "text": [
      "Metric train_loss improved by 0.007 >= min_delta = 0.001. New best score: 0.275\n"
     ]
    },
    {
     "data": {
      "application/vnd.jupyter.widget-view+json": {
       "model_id": "",
       "version_major": 2,
       "version_minor": 0
      },
      "text/plain": [
       "Validating: 0it [00:00, ?it/s]"
      ]
     },
     "metadata": {},
     "output_type": "display_data"
    },
    {
     "name": "stderr",
     "output_type": "stream",
     "text": [
      "Metric train_loss improved by 0.013 >= min_delta = 0.001. New best score: 0.262\n"
     ]
    },
    {
     "data": {
      "application/vnd.jupyter.widget-view+json": {
       "model_id": "",
       "version_major": 2,
       "version_minor": 0
      },
      "text/plain": [
       "Validating: 0it [00:00, ?it/s]"
      ]
     },
     "metadata": {},
     "output_type": "display_data"
    },
    {
     "name": "stderr",
     "output_type": "stream",
     "text": [
      "Metric train_loss improved by 0.007 >= min_delta = 0.001. New best score: 0.254\n"
     ]
    },
    {
     "data": {
      "application/vnd.jupyter.widget-view+json": {
       "model_id": "",
       "version_major": 2,
       "version_minor": 0
      },
      "text/plain": [
       "Validating: 0it [00:00, ?it/s]"
      ]
     },
     "metadata": {},
     "output_type": "display_data"
    },
    {
     "name": "stderr",
     "output_type": "stream",
     "text": [
      "Metric train_loss improved by 0.014 >= min_delta = 0.001. New best score: 0.240\n"
     ]
    },
    {
     "data": {
      "application/vnd.jupyter.widget-view+json": {
       "model_id": "",
       "version_major": 2,
       "version_minor": 0
      },
      "text/plain": [
       "Validating: 0it [00:00, ?it/s]"
      ]
     },
     "metadata": {},
     "output_type": "display_data"
    },
    {
     "name": "stderr",
     "output_type": "stream",
     "text": [
      "Metric train_loss improved by 0.002 >= min_delta = 0.001. New best score: 0.238\n"
     ]
    },
    {
     "data": {
      "application/vnd.jupyter.widget-view+json": {
       "model_id": "",
       "version_major": 2,
       "version_minor": 0
      },
      "text/plain": [
       "Validating: 0it [00:00, ?it/s]"
      ]
     },
     "metadata": {},
     "output_type": "display_data"
    },
    {
     "name": "stderr",
     "output_type": "stream",
     "text": [
      "Metric train_loss improved by 0.014 >= min_delta = 0.001. New best score: 0.224\n"
     ]
    },
    {
     "data": {
      "application/vnd.jupyter.widget-view+json": {
       "model_id": "",
       "version_major": 2,
       "version_minor": 0
      },
      "text/plain": [
       "Validating: 0it [00:00, ?it/s]"
      ]
     },
     "metadata": {},
     "output_type": "display_data"
    },
    {
     "name": "stderr",
     "output_type": "stream",
     "text": [
      "Metric train_loss improved by 0.006 >= min_delta = 0.001. New best score: 0.219\n"
     ]
    },
    {
     "data": {
      "application/vnd.jupyter.widget-view+json": {
       "model_id": "",
       "version_major": 2,
       "version_minor": 0
      },
      "text/plain": [
       "Validating: 0it [00:00, ?it/s]"
      ]
     },
     "metadata": {},
     "output_type": "display_data"
    },
    {
     "name": "stderr",
     "output_type": "stream",
     "text": [
      "Metric train_loss improved by 0.004 >= min_delta = 0.001. New best score: 0.215\n"
     ]
    },
    {
     "data": {
      "application/vnd.jupyter.widget-view+json": {
       "model_id": "",
       "version_major": 2,
       "version_minor": 0
      },
      "text/plain": [
       "Validating: 0it [00:00, ?it/s]"
      ]
     },
     "metadata": {},
     "output_type": "display_data"
    },
    {
     "name": "stderr",
     "output_type": "stream",
     "text": [
      "Metric train_loss improved by 0.013 >= min_delta = 0.001. New best score: 0.203\n"
     ]
    },
    {
     "data": {
      "application/vnd.jupyter.widget-view+json": {
       "model_id": "",
       "version_major": 2,
       "version_minor": 0
      },
      "text/plain": [
       "Validating: 0it [00:00, ?it/s]"
      ]
     },
     "metadata": {},
     "output_type": "display_data"
    },
    {
     "name": "stderr",
     "output_type": "stream",
     "text": [
      "Metric train_loss improved by 0.009 >= min_delta = 0.001. New best score: 0.194\n"
     ]
    },
    {
     "data": {
      "application/vnd.jupyter.widget-view+json": {
       "model_id": "",
       "version_major": 2,
       "version_minor": 0
      },
      "text/plain": [
       "Validating: 0it [00:00, ?it/s]"
      ]
     },
     "metadata": {},
     "output_type": "display_data"
    },
    {
     "name": "stderr",
     "output_type": "stream",
     "text": [
      "Metric train_loss improved by 0.002 >= min_delta = 0.001. New best score: 0.192\n"
     ]
    },
    {
     "data": {
      "application/vnd.jupyter.widget-view+json": {
       "model_id": "",
       "version_major": 2,
       "version_minor": 0
      },
      "text/plain": [
       "Validating: 0it [00:00, ?it/s]"
      ]
     },
     "metadata": {},
     "output_type": "display_data"
    },
    {
     "name": "stderr",
     "output_type": "stream",
     "text": [
      "Metric train_loss improved by 0.008 >= min_delta = 0.001. New best score: 0.185\n"
     ]
    },
    {
     "data": {
      "application/vnd.jupyter.widget-view+json": {
       "model_id": "",
       "version_major": 2,
       "version_minor": 0
      },
      "text/plain": [
       "Validating: 0it [00:00, ?it/s]"
      ]
     },
     "metadata": {},
     "output_type": "display_data"
    },
    {
     "name": "stderr",
     "output_type": "stream",
     "text": [
      "Metric train_loss improved by 0.006 >= min_delta = 0.001. New best score: 0.178\n"
     ]
    },
    {
     "data": {
      "application/vnd.jupyter.widget-view+json": {
       "model_id": "",
       "version_major": 2,
       "version_minor": 0
      },
      "text/plain": [
       "Validating: 0it [00:00, ?it/s]"
      ]
     },
     "metadata": {},
     "output_type": "display_data"
    },
    {
     "data": {
      "application/vnd.jupyter.widget-view+json": {
       "model_id": "",
       "version_major": 2,
       "version_minor": 0
      },
      "text/plain": [
       "Validating: 0it [00:00, ?it/s]"
      ]
     },
     "metadata": {},
     "output_type": "display_data"
    },
    {
     "name": "stderr",
     "output_type": "stream",
     "text": [
      "Metric train_loss improved by 0.012 >= min_delta = 0.001. New best score: 0.167\n"
     ]
    },
    {
     "data": {
      "application/vnd.jupyter.widget-view+json": {
       "model_id": "",
       "version_major": 2,
       "version_minor": 0
      },
      "text/plain": [
       "Validating: 0it [00:00, ?it/s]"
      ]
     },
     "metadata": {},
     "output_type": "display_data"
    },
    {
     "name": "stderr",
     "output_type": "stream",
     "text": [
      "Metric train_loss improved by 0.007 >= min_delta = 0.001. New best score: 0.160\n"
     ]
    },
    {
     "data": {
      "application/vnd.jupyter.widget-view+json": {
       "model_id": "",
       "version_major": 2,
       "version_minor": 0
      },
      "text/plain": [
       "Validating: 0it [00:00, ?it/s]"
      ]
     },
     "metadata": {},
     "output_type": "display_data"
    },
    {
     "name": "stderr",
     "output_type": "stream",
     "text": [
      "Metric train_loss improved by 0.004 >= min_delta = 0.001. New best score: 0.157\n"
     ]
    },
    {
     "data": {
      "application/vnd.jupyter.widget-view+json": {
       "model_id": "",
       "version_major": 2,
       "version_minor": 0
      },
      "text/plain": [
       "Validating: 0it [00:00, ?it/s]"
      ]
     },
     "metadata": {},
     "output_type": "display_data"
    },
    {
     "data": {
      "application/vnd.jupyter.widget-view+json": {
       "model_id": "",
       "version_major": 2,
       "version_minor": 0
      },
      "text/plain": [
       "Validating: 0it [00:00, ?it/s]"
      ]
     },
     "metadata": {},
     "output_type": "display_data"
    },
    {
     "name": "stderr",
     "output_type": "stream",
     "text": [
      "Metric train_loss improved by 0.006 >= min_delta = 0.001. New best score: 0.150\n"
     ]
    },
    {
     "data": {
      "application/vnd.jupyter.widget-view+json": {
       "model_id": "",
       "version_major": 2,
       "version_minor": 0
      },
      "text/plain": [
       "Validating: 0it [00:00, ?it/s]"
      ]
     },
     "metadata": {},
     "output_type": "display_data"
    },
    {
     "name": "stderr",
     "output_type": "stream",
     "text": [
      "Metric train_loss improved by 0.002 >= min_delta = 0.001. New best score: 0.148\n"
     ]
    },
    {
     "data": {
      "application/vnd.jupyter.widget-view+json": {
       "model_id": "",
       "version_major": 2,
       "version_minor": 0
      },
      "text/plain": [
       "Validating: 0it [00:00, ?it/s]"
      ]
     },
     "metadata": {},
     "output_type": "display_data"
    },
    {
     "name": "stderr",
     "output_type": "stream",
     "text": [
      "Metric train_loss improved by 0.007 >= min_delta = 0.001. New best score: 0.141\n"
     ]
    },
    {
     "data": {
      "application/vnd.jupyter.widget-view+json": {
       "model_id": "",
       "version_major": 2,
       "version_minor": 0
      },
      "text/plain": [
       "Validating: 0it [00:00, ?it/s]"
      ]
     },
     "metadata": {},
     "output_type": "display_data"
    },
    {
     "name": "stderr",
     "output_type": "stream",
     "text": [
      "Metric train_loss improved by 0.005 >= min_delta = 0.001. New best score: 0.136\n"
     ]
    },
    {
     "data": {
      "application/vnd.jupyter.widget-view+json": {
       "model_id": "",
       "version_major": 2,
       "version_minor": 0
      },
      "text/plain": [
       "Validating: 0it [00:00, ?it/s]"
      ]
     },
     "metadata": {},
     "output_type": "display_data"
    },
    {
     "name": "stderr",
     "output_type": "stream",
     "text": [
      "Metric train_loss improved by 0.001 >= min_delta = 0.001. New best score: 0.135\n"
     ]
    },
    {
     "data": {
      "application/vnd.jupyter.widget-view+json": {
       "model_id": "",
       "version_major": 2,
       "version_minor": 0
      },
      "text/plain": [
       "Validating: 0it [00:00, ?it/s]"
      ]
     },
     "metadata": {},
     "output_type": "display_data"
    },
    {
     "name": "stderr",
     "output_type": "stream",
     "text": [
      "Metric train_loss improved by 0.004 >= min_delta = 0.001. New best score: 0.131\n"
     ]
    },
    {
     "data": {
      "application/vnd.jupyter.widget-view+json": {
       "model_id": "",
       "version_major": 2,
       "version_minor": 0
      },
      "text/plain": [
       "Validating: 0it [00:00, ?it/s]"
      ]
     },
     "metadata": {},
     "output_type": "display_data"
    },
    {
     "name": "stderr",
     "output_type": "stream",
     "text": [
      "Metric train_loss improved by 0.007 >= min_delta = 0.001. New best score: 0.124\n"
     ]
    },
    {
     "data": {
      "application/vnd.jupyter.widget-view+json": {
       "model_id": "",
       "version_major": 2,
       "version_minor": 0
      },
      "text/plain": [
       "Validating: 0it [00:00, ?it/s]"
      ]
     },
     "metadata": {},
     "output_type": "display_data"
    },
    {
     "data": {
      "application/vnd.jupyter.widget-view+json": {
       "model_id": "",
       "version_major": 2,
       "version_minor": 0
      },
      "text/plain": [
       "Validating: 0it [00:00, ?it/s]"
      ]
     },
     "metadata": {},
     "output_type": "display_data"
    },
    {
     "name": "stderr",
     "output_type": "stream",
     "text": [
      "Metric train_loss improved by 0.005 >= min_delta = 0.001. New best score: 0.119\n"
     ]
    },
    {
     "data": {
      "application/vnd.jupyter.widget-view+json": {
       "model_id": "",
       "version_major": 2,
       "version_minor": 0
      },
      "text/plain": [
       "Validating: 0it [00:00, ?it/s]"
      ]
     },
     "metadata": {},
     "output_type": "display_data"
    },
    {
     "name": "stderr",
     "output_type": "stream",
     "text": [
      "Metric train_loss improved by 0.002 >= min_delta = 0.001. New best score: 0.118\n"
     ]
    },
    {
     "data": {
      "application/vnd.jupyter.widget-view+json": {
       "model_id": "",
       "version_major": 2,
       "version_minor": 0
      },
      "text/plain": [
       "Validating: 0it [00:00, ?it/s]"
      ]
     },
     "metadata": {},
     "output_type": "display_data"
    },
    {
     "name": "stderr",
     "output_type": "stream",
     "text": [
      "Metric train_loss improved by 0.004 >= min_delta = 0.001. New best score: 0.114\n"
     ]
    },
    {
     "data": {
      "application/vnd.jupyter.widget-view+json": {
       "model_id": "",
       "version_major": 2,
       "version_minor": 0
      },
      "text/plain": [
       "Validating: 0it [00:00, ?it/s]"
      ]
     },
     "metadata": {},
     "output_type": "display_data"
    },
    {
     "data": {
      "application/vnd.jupyter.widget-view+json": {
       "model_id": "",
       "version_major": 2,
       "version_minor": 0
      },
      "text/plain": [
       "Validating: 0it [00:00, ?it/s]"
      ]
     },
     "metadata": {},
     "output_type": "display_data"
    },
    {
     "name": "stderr",
     "output_type": "stream",
     "text": [
      "Metric train_loss improved by 0.004 >= min_delta = 0.001. New best score: 0.110\n"
     ]
    },
    {
     "data": {
      "application/vnd.jupyter.widget-view+json": {
       "model_id": "",
       "version_major": 2,
       "version_minor": 0
      },
      "text/plain": [
       "Validating: 0it [00:00, ?it/s]"
      ]
     },
     "metadata": {},
     "output_type": "display_data"
    },
    {
     "data": {
      "application/vnd.jupyter.widget-view+json": {
       "model_id": "",
       "version_major": 2,
       "version_minor": 0
      },
      "text/plain": [
       "Validating: 0it [00:00, ?it/s]"
      ]
     },
     "metadata": {},
     "output_type": "display_data"
    },
    {
     "name": "stderr",
     "output_type": "stream",
     "text": [
      "Metric train_loss improved by 0.004 >= min_delta = 0.001. New best score: 0.106\n"
     ]
    },
    {
     "data": {
      "application/vnd.jupyter.widget-view+json": {
       "model_id": "",
       "version_major": 2,
       "version_minor": 0
      },
      "text/plain": [
       "Validating: 0it [00:00, ?it/s]"
      ]
     },
     "metadata": {},
     "output_type": "display_data"
    },
    {
     "name": "stderr",
     "output_type": "stream",
     "text": [
      "Metric train_loss improved by 0.002 >= min_delta = 0.001. New best score: 0.104\n"
     ]
    },
    {
     "data": {
      "application/vnd.jupyter.widget-view+json": {
       "model_id": "",
       "version_major": 2,
       "version_minor": 0
      },
      "text/plain": [
       "Validating: 0it [00:00, ?it/s]"
      ]
     },
     "metadata": {},
     "output_type": "display_data"
    },
    {
     "name": "stderr",
     "output_type": "stream",
     "text": [
      "Metric train_loss improved by 0.002 >= min_delta = 0.001. New best score: 0.102\n"
     ]
    },
    {
     "data": {
      "application/vnd.jupyter.widget-view+json": {
       "model_id": "",
       "version_major": 2,
       "version_minor": 0
      },
      "text/plain": [
       "Validating: 0it [00:00, ?it/s]"
      ]
     },
     "metadata": {},
     "output_type": "display_data"
    },
    {
     "data": {
      "application/vnd.jupyter.widget-view+json": {
       "model_id": "",
       "version_major": 2,
       "version_minor": 0
      },
      "text/plain": [
       "Validating: 0it [00:00, ?it/s]"
      ]
     },
     "metadata": {},
     "output_type": "display_data"
    },
    {
     "name": "stderr",
     "output_type": "stream",
     "text": [
      "Metric train_loss improved by 0.002 >= min_delta = 0.001. New best score: 0.100\n"
     ]
    },
    {
     "data": {
      "application/vnd.jupyter.widget-view+json": {
       "model_id": "",
       "version_major": 2,
       "version_minor": 0
      },
      "text/plain": [
       "Validating: 0it [00:00, ?it/s]"
      ]
     },
     "metadata": {},
     "output_type": "display_data"
    },
    {
     "name": "stderr",
     "output_type": "stream",
     "text": [
      "Metric train_loss improved by 0.004 >= min_delta = 0.001. New best score: 0.096\n"
     ]
    },
    {
     "data": {
      "application/vnd.jupyter.widget-view+json": {
       "model_id": "",
       "version_major": 2,
       "version_minor": 0
      },
      "text/plain": [
       "Validating: 0it [00:00, ?it/s]"
      ]
     },
     "metadata": {},
     "output_type": "display_data"
    },
    {
     "name": "stderr",
     "output_type": "stream",
     "text": [
      "Metric train_loss improved by 0.001 >= min_delta = 0.001. New best score: 0.095\n"
     ]
    },
    {
     "data": {
      "application/vnd.jupyter.widget-view+json": {
       "model_id": "",
       "version_major": 2,
       "version_minor": 0
      },
      "text/plain": [
       "Validating: 0it [00:00, ?it/s]"
      ]
     },
     "metadata": {},
     "output_type": "display_data"
    },
    {
     "name": "stderr",
     "output_type": "stream",
     "text": [
      "Metric train_loss improved by 0.002 >= min_delta = 0.001. New best score: 0.093\n"
     ]
    },
    {
     "data": {
      "application/vnd.jupyter.widget-view+json": {
       "model_id": "",
       "version_major": 2,
       "version_minor": 0
      },
      "text/plain": [
       "Validating: 0it [00:00, ?it/s]"
      ]
     },
     "metadata": {},
     "output_type": "display_data"
    },
    {
     "data": {
      "application/vnd.jupyter.widget-view+json": {
       "model_id": "",
       "version_major": 2,
       "version_minor": 0
      },
      "text/plain": [
       "Validating: 0it [00:00, ?it/s]"
      ]
     },
     "metadata": {},
     "output_type": "display_data"
    },
    {
     "name": "stderr",
     "output_type": "stream",
     "text": [
      "Metric train_loss improved by 0.002 >= min_delta = 0.001. New best score: 0.091\n"
     ]
    },
    {
     "data": {
      "application/vnd.jupyter.widget-view+json": {
       "model_id": "",
       "version_major": 2,
       "version_minor": 0
      },
      "text/plain": [
       "Validating: 0it [00:00, ?it/s]"
      ]
     },
     "metadata": {},
     "output_type": "display_data"
    },
    {
     "name": "stderr",
     "output_type": "stream",
     "text": [
      "Metric train_loss improved by 0.001 >= min_delta = 0.001. New best score: 0.090\n"
     ]
    },
    {
     "data": {
      "application/vnd.jupyter.widget-view+json": {
       "model_id": "",
       "version_major": 2,
       "version_minor": 0
      },
      "text/plain": [
       "Validating: 0it [00:00, ?it/s]"
      ]
     },
     "metadata": {},
     "output_type": "display_data"
    },
    {
     "name": "stderr",
     "output_type": "stream",
     "text": [
      "Metric train_loss improved by 0.003 >= min_delta = 0.001. New best score: 0.087\n"
     ]
    },
    {
     "data": {
      "application/vnd.jupyter.widget-view+json": {
       "model_id": "",
       "version_major": 2,
       "version_minor": 0
      },
      "text/plain": [
       "Validating: 0it [00:00, ?it/s]"
      ]
     },
     "metadata": {},
     "output_type": "display_data"
    },
    {
     "data": {
      "application/vnd.jupyter.widget-view+json": {
       "model_id": "",
       "version_major": 2,
       "version_minor": 0
      },
      "text/plain": [
       "Validating: 0it [00:00, ?it/s]"
      ]
     },
     "metadata": {},
     "output_type": "display_data"
    },
    {
     "name": "stderr",
     "output_type": "stream",
     "text": [
      "Metric train_loss improved by 0.002 >= min_delta = 0.001. New best score: 0.085\n"
     ]
    },
    {
     "data": {
      "application/vnd.jupyter.widget-view+json": {
       "model_id": "",
       "version_major": 2,
       "version_minor": 0
      },
      "text/plain": [
       "Validating: 0it [00:00, ?it/s]"
      ]
     },
     "metadata": {},
     "output_type": "display_data"
    },
    {
     "name": "stderr",
     "output_type": "stream",
     "text": [
      "Metric train_loss improved by 0.001 >= min_delta = 0.001. New best score: 0.084\n"
     ]
    },
    {
     "data": {
      "application/vnd.jupyter.widget-view+json": {
       "model_id": "",
       "version_major": 2,
       "version_minor": 0
      },
      "text/plain": [
       "Validating: 0it [00:00, ?it/s]"
      ]
     },
     "metadata": {},
     "output_type": "display_data"
    },
    {
     "name": "stderr",
     "output_type": "stream",
     "text": [
      "Metric train_loss improved by 0.001 >= min_delta = 0.001. New best score: 0.083\n"
     ]
    },
    {
     "data": {
      "application/vnd.jupyter.widget-view+json": {
       "model_id": "",
       "version_major": 2,
       "version_minor": 0
      },
      "text/plain": [
       "Validating: 0it [00:00, ?it/s]"
      ]
     },
     "metadata": {},
     "output_type": "display_data"
    },
    {
     "data": {
      "application/vnd.jupyter.widget-view+json": {
       "model_id": "",
       "version_major": 2,
       "version_minor": 0
      },
      "text/plain": [
       "Validating: 0it [00:00, ?it/s]"
      ]
     },
     "metadata": {},
     "output_type": "display_data"
    },
    {
     "data": {
      "application/vnd.jupyter.widget-view+json": {
       "model_id": "",
       "version_major": 2,
       "version_minor": 0
      },
      "text/plain": [
       "Validating: 0it [00:00, ?it/s]"
      ]
     },
     "metadata": {},
     "output_type": "display_data"
    },
    {
     "name": "stderr",
     "output_type": "stream",
     "text": [
      "Metric train_loss improved by 0.003 >= min_delta = 0.001. New best score: 0.080\n"
     ]
    },
    {
     "data": {
      "application/vnd.jupyter.widget-view+json": {
       "model_id": "",
       "version_major": 2,
       "version_minor": 0
      },
      "text/plain": [
       "Validating: 0it [00:00, ?it/s]"
      ]
     },
     "metadata": {},
     "output_type": "display_data"
    },
    {
     "data": {
      "application/vnd.jupyter.widget-view+json": {
       "model_id": "",
       "version_major": 2,
       "version_minor": 0
      },
      "text/plain": [
       "Validating: 0it [00:00, ?it/s]"
      ]
     },
     "metadata": {},
     "output_type": "display_data"
    },
    {
     "name": "stderr",
     "output_type": "stream",
     "text": [
      "Metric train_loss improved by 0.002 >= min_delta = 0.001. New best score: 0.078\n"
     ]
    },
    {
     "data": {
      "application/vnd.jupyter.widget-view+json": {
       "model_id": "",
       "version_major": 2,
       "version_minor": 0
      },
      "text/plain": [
       "Validating: 0it [00:00, ?it/s]"
      ]
     },
     "metadata": {},
     "output_type": "display_data"
    },
    {
     "data": {
      "application/vnd.jupyter.widget-view+json": {
       "model_id": "",
       "version_major": 2,
       "version_minor": 0
      },
      "text/plain": [
       "Validating: 0it [00:00, ?it/s]"
      ]
     },
     "metadata": {},
     "output_type": "display_data"
    },
    {
     "name": "stderr",
     "output_type": "stream",
     "text": [
      "Metric train_loss improved by 0.002 >= min_delta = 0.001. New best score: 0.076\n"
     ]
    },
    {
     "data": {
      "application/vnd.jupyter.widget-view+json": {
       "model_id": "",
       "version_major": 2,
       "version_minor": 0
      },
      "text/plain": [
       "Validating: 0it [00:00, ?it/s]"
      ]
     },
     "metadata": {},
     "output_type": "display_data"
    },
    {
     "data": {
      "application/vnd.jupyter.widget-view+json": {
       "model_id": "",
       "version_major": 2,
       "version_minor": 0
      },
      "text/plain": [
       "Validating: 0it [00:00, ?it/s]"
      ]
     },
     "metadata": {},
     "output_type": "display_data"
    },
    {
     "data": {
      "application/vnd.jupyter.widget-view+json": {
       "model_id": "",
       "version_major": 2,
       "version_minor": 0
      },
      "text/plain": [
       "Validating: 0it [00:00, ?it/s]"
      ]
     },
     "metadata": {},
     "output_type": "display_data"
    },
    {
     "name": "stderr",
     "output_type": "stream",
     "text": [
      "Metric train_loss improved by 0.002 >= min_delta = 0.001. New best score: 0.074\n"
     ]
    },
    {
     "data": {
      "application/vnd.jupyter.widget-view+json": {
       "model_id": "",
       "version_major": 2,
       "version_minor": 0
      },
      "text/plain": [
       "Validating: 0it [00:00, ?it/s]"
      ]
     },
     "metadata": {},
     "output_type": "display_data"
    },
    {
     "data": {
      "application/vnd.jupyter.widget-view+json": {
       "model_id": "",
       "version_major": 2,
       "version_minor": 0
      },
      "text/plain": [
       "Validating: 0it [00:00, ?it/s]"
      ]
     },
     "metadata": {},
     "output_type": "display_data"
    },
    {
     "name": "stderr",
     "output_type": "stream",
     "text": [
      "Metric train_loss improved by 0.001 >= min_delta = 0.001. New best score: 0.073\n"
     ]
    },
    {
     "data": {
      "application/vnd.jupyter.widget-view+json": {
       "model_id": "",
       "version_major": 2,
       "version_minor": 0
      },
      "text/plain": [
       "Validating: 0it [00:00, ?it/s]"
      ]
     },
     "metadata": {},
     "output_type": "display_data"
    },
    {
     "data": {
      "application/vnd.jupyter.widget-view+json": {
       "model_id": "",
       "version_major": 2,
       "version_minor": 0
      },
      "text/plain": [
       "Validating: 0it [00:00, ?it/s]"
      ]
     },
     "metadata": {},
     "output_type": "display_data"
    },
    {
     "name": "stderr",
     "output_type": "stream",
     "text": [
      "Metric train_loss improved by 0.001 >= min_delta = 0.001. New best score: 0.072\n"
     ]
    },
    {
     "data": {
      "application/vnd.jupyter.widget-view+json": {
       "model_id": "",
       "version_major": 2,
       "version_minor": 0
      },
      "text/plain": [
       "Validating: 0it [00:00, ?it/s]"
      ]
     },
     "metadata": {},
     "output_type": "display_data"
    },
    {
     "data": {
      "application/vnd.jupyter.widget-view+json": {
       "model_id": "",
       "version_major": 2,
       "version_minor": 0
      },
      "text/plain": [
       "Validating: 0it [00:00, ?it/s]"
      ]
     },
     "metadata": {},
     "output_type": "display_data"
    },
    {
     "data": {
      "application/vnd.jupyter.widget-view+json": {
       "model_id": "",
       "version_major": 2,
       "version_minor": 0
      },
      "text/plain": [
       "Validating: 0it [00:00, ?it/s]"
      ]
     },
     "metadata": {},
     "output_type": "display_data"
    },
    {
     "data": {
      "application/vnd.jupyter.widget-view+json": {
       "model_id": "",
       "version_major": 2,
       "version_minor": 0
      },
      "text/plain": [
       "Validating: 0it [00:00, ?it/s]"
      ]
     },
     "metadata": {},
     "output_type": "display_data"
    },
    {
     "name": "stderr",
     "output_type": "stream",
     "text": [
      "Metric train_loss improved by 0.002 >= min_delta = 0.001. New best score: 0.070\n"
     ]
    },
    {
     "data": {
      "application/vnd.jupyter.widget-view+json": {
       "model_id": "",
       "version_major": 2,
       "version_minor": 0
      },
      "text/plain": [
       "Validating: 0it [00:00, ?it/s]"
      ]
     },
     "metadata": {},
     "output_type": "display_data"
    },
    {
     "data": {
      "application/vnd.jupyter.widget-view+json": {
       "model_id": "",
       "version_major": 2,
       "version_minor": 0
      },
      "text/plain": [
       "Validating: 0it [00:00, ?it/s]"
      ]
     },
     "metadata": {},
     "output_type": "display_data"
    },
    {
     "data": {
      "application/vnd.jupyter.widget-view+json": {
       "model_id": "",
       "version_major": 2,
       "version_minor": 0
      },
      "text/plain": [
       "Validating: 0it [00:00, ?it/s]"
      ]
     },
     "metadata": {},
     "output_type": "display_data"
    },
    {
     "data": {
      "application/vnd.jupyter.widget-view+json": {
       "model_id": "",
       "version_major": 2,
       "version_minor": 0
      },
      "text/plain": [
       "Validating: 0it [00:00, ?it/s]"
      ]
     },
     "metadata": {},
     "output_type": "display_data"
    },
    {
     "name": "stderr",
     "output_type": "stream",
     "text": [
      "Metric train_loss improved by 0.001 >= min_delta = 0.001. New best score: 0.068\n"
     ]
    },
    {
     "data": {
      "application/vnd.jupyter.widget-view+json": {
       "model_id": "",
       "version_major": 2,
       "version_minor": 0
      },
      "text/plain": [
       "Validating: 0it [00:00, ?it/s]"
      ]
     },
     "metadata": {},
     "output_type": "display_data"
    },
    {
     "data": {
      "application/vnd.jupyter.widget-view+json": {
       "model_id": "",
       "version_major": 2,
       "version_minor": 0
      },
      "text/plain": [
       "Validating: 0it [00:00, ?it/s]"
      ]
     },
     "metadata": {},
     "output_type": "display_data"
    },
    {
     "name": "stderr",
     "output_type": "stream",
     "text": [
      "Metric train_loss improved by 0.002 >= min_delta = 0.001. New best score: 0.066\n"
     ]
    },
    {
     "data": {
      "application/vnd.jupyter.widget-view+json": {
       "model_id": "",
       "version_major": 2,
       "version_minor": 0
      },
      "text/plain": [
       "Validating: 0it [00:00, ?it/s]"
      ]
     },
     "metadata": {},
     "output_type": "display_data"
    },
    {
     "data": {
      "application/vnd.jupyter.widget-view+json": {
       "model_id": "",
       "version_major": 2,
       "version_minor": 0
      },
      "text/plain": [
       "Validating: 0it [00:00, ?it/s]"
      ]
     },
     "metadata": {},
     "output_type": "display_data"
    },
    {
     "data": {
      "application/vnd.jupyter.widget-view+json": {
       "model_id": "",
       "version_major": 2,
       "version_minor": 0
      },
      "text/plain": [
       "Validating: 0it [00:00, ?it/s]"
      ]
     },
     "metadata": {},
     "output_type": "display_data"
    },
    {
     "data": {
      "application/vnd.jupyter.widget-view+json": {
       "model_id": "",
       "version_major": 2,
       "version_minor": 0
      },
      "text/plain": [
       "Validating: 0it [00:00, ?it/s]"
      ]
     },
     "metadata": {},
     "output_type": "display_data"
    },
    {
     "name": "stderr",
     "output_type": "stream",
     "text": [
      "Metric train_loss improved by 0.002 >= min_delta = 0.001. New best score: 0.065\n"
     ]
    },
    {
     "data": {
      "application/vnd.jupyter.widget-view+json": {
       "model_id": "",
       "version_major": 2,
       "version_minor": 0
      },
      "text/plain": [
       "Validating: 0it [00:00, ?it/s]"
      ]
     },
     "metadata": {},
     "output_type": "display_data"
    },
    {
     "data": {
      "application/vnd.jupyter.widget-view+json": {
       "model_id": "",
       "version_major": 2,
       "version_minor": 0
      },
      "text/plain": [
       "Validating: 0it [00:00, ?it/s]"
      ]
     },
     "metadata": {},
     "output_type": "display_data"
    },
    {
     "name": "stderr",
     "output_type": "stream",
     "text": [
      "Metric train_loss improved by 0.002 >= min_delta = 0.001. New best score: 0.063\n"
     ]
    },
    {
     "data": {
      "application/vnd.jupyter.widget-view+json": {
       "model_id": "",
       "version_major": 2,
       "version_minor": 0
      },
      "text/plain": [
       "Validating: 0it [00:00, ?it/s]"
      ]
     },
     "metadata": {},
     "output_type": "display_data"
    },
    {
     "data": {
      "application/vnd.jupyter.widget-view+json": {
       "model_id": "",
       "version_major": 2,
       "version_minor": 0
      },
      "text/plain": [
       "Validating: 0it [00:00, ?it/s]"
      ]
     },
     "metadata": {},
     "output_type": "display_data"
    },
    {
     "data": {
      "application/vnd.jupyter.widget-view+json": {
       "model_id": "",
       "version_major": 2,
       "version_minor": 0
      },
      "text/plain": [
       "Validating: 0it [00:00, ?it/s]"
      ]
     },
     "metadata": {},
     "output_type": "display_data"
    },
    {
     "data": {
      "application/vnd.jupyter.widget-view+json": {
       "model_id": "",
       "version_major": 2,
       "version_minor": 0
      },
      "text/plain": [
       "Validating: 0it [00:00, ?it/s]"
      ]
     },
     "metadata": {},
     "output_type": "display_data"
    },
    {
     "data": {
      "application/vnd.jupyter.widget-view+json": {
       "model_id": "",
       "version_major": 2,
       "version_minor": 0
      },
      "text/plain": [
       "Validating: 0it [00:00, ?it/s]"
      ]
     },
     "metadata": {},
     "output_type": "display_data"
    },
    {
     "data": {
      "application/vnd.jupyter.widget-view+json": {
       "model_id": "",
       "version_major": 2,
       "version_minor": 0
      },
      "text/plain": [
       "Validating: 0it [00:00, ?it/s]"
      ]
     },
     "metadata": {},
     "output_type": "display_data"
    },
    {
     "data": {
      "application/vnd.jupyter.widget-view+json": {
       "model_id": "",
       "version_major": 2,
       "version_minor": 0
      },
      "text/plain": [
       "Validating: 0it [00:00, ?it/s]"
      ]
     },
     "metadata": {},
     "output_type": "display_data"
    },
    {
     "data": {
      "application/vnd.jupyter.widget-view+json": {
       "model_id": "",
       "version_major": 2,
       "version_minor": 0
      },
      "text/plain": [
       "Validating: 0it [00:00, ?it/s]"
      ]
     },
     "metadata": {},
     "output_type": "display_data"
    },
    {
     "name": "stderr",
     "output_type": "stream",
     "text": [
      "Metric train_loss improved by 0.001 >= min_delta = 0.001. New best score: 0.062\n"
     ]
    },
    {
     "data": {
      "application/vnd.jupyter.widget-view+json": {
       "model_id": "",
       "version_major": 2,
       "version_minor": 0
      },
      "text/plain": [
       "Validating: 0it [00:00, ?it/s]"
      ]
     },
     "metadata": {},
     "output_type": "display_data"
    },
    {
     "data": {
      "application/vnd.jupyter.widget-view+json": {
       "model_id": "",
       "version_major": 2,
       "version_minor": 0
      },
      "text/plain": [
       "Validating: 0it [00:00, ?it/s]"
      ]
     },
     "metadata": {},
     "output_type": "display_data"
    },
    {
     "data": {
      "application/vnd.jupyter.widget-view+json": {
       "model_id": "",
       "version_major": 2,
       "version_minor": 0
      },
      "text/plain": [
       "Validating: 0it [00:00, ?it/s]"
      ]
     },
     "metadata": {},
     "output_type": "display_data"
    },
    {
     "data": {
      "application/vnd.jupyter.widget-view+json": {
       "model_id": "",
       "version_major": 2,
       "version_minor": 0
      },
      "text/plain": [
       "Validating: 0it [00:00, ?it/s]"
      ]
     },
     "metadata": {},
     "output_type": "display_data"
    },
    {
     "data": {
      "application/vnd.jupyter.widget-view+json": {
       "model_id": "",
       "version_major": 2,
       "version_minor": 0
      },
      "text/plain": [
       "Validating: 0it [00:00, ?it/s]"
      ]
     },
     "metadata": {},
     "output_type": "display_data"
    },
    {
     "name": "stderr",
     "output_type": "stream",
     "text": [
      "Metric train_loss improved by 0.001 >= min_delta = 0.001. New best score: 0.060\n"
     ]
    },
    {
     "data": {
      "application/vnd.jupyter.widget-view+json": {
       "model_id": "",
       "version_major": 2,
       "version_minor": 0
      },
      "text/plain": [
       "Validating: 0it [00:00, ?it/s]"
      ]
     },
     "metadata": {},
     "output_type": "display_data"
    },
    {
     "data": {
      "application/vnd.jupyter.widget-view+json": {
       "model_id": "",
       "version_major": 2,
       "version_minor": 0
      },
      "text/plain": [
       "Validating: 0it [00:00, ?it/s]"
      ]
     },
     "metadata": {},
     "output_type": "display_data"
    },
    {
     "data": {
      "application/vnd.jupyter.widget-view+json": {
       "model_id": "",
       "version_major": 2,
       "version_minor": 0
      },
      "text/plain": [
       "Validating: 0it [00:00, ?it/s]"
      ]
     },
     "metadata": {},
     "output_type": "display_data"
    },
    {
     "data": {
      "application/vnd.jupyter.widget-view+json": {
       "model_id": "",
       "version_major": 2,
       "version_minor": 0
      },
      "text/plain": [
       "Validating: 0it [00:00, ?it/s]"
      ]
     },
     "metadata": {},
     "output_type": "display_data"
    },
    {
     "data": {
      "application/vnd.jupyter.widget-view+json": {
       "model_id": "",
       "version_major": 2,
       "version_minor": 0
      },
      "text/plain": [
       "Validating: 0it [00:00, ?it/s]"
      ]
     },
     "metadata": {},
     "output_type": "display_data"
    },
    {
     "name": "stderr",
     "output_type": "stream",
     "text": [
      "Metric train_loss improved by 0.001 >= min_delta = 0.001. New best score: 0.059\n"
     ]
    },
    {
     "data": {
      "application/vnd.jupyter.widget-view+json": {
       "model_id": "",
       "version_major": 2,
       "version_minor": 0
      },
      "text/plain": [
       "Validating: 0it [00:00, ?it/s]"
      ]
     },
     "metadata": {},
     "output_type": "display_data"
    },
    {
     "name": "stderr",
     "output_type": "stream",
     "text": [
      "Metric train_loss improved by 0.002 >= min_delta = 0.001. New best score: 0.057\n"
     ]
    },
    {
     "data": {
      "application/vnd.jupyter.widget-view+json": {
       "model_id": "",
       "version_major": 2,
       "version_minor": 0
      },
      "text/plain": [
       "Validating: 0it [00:00, ?it/s]"
      ]
     },
     "metadata": {},
     "output_type": "display_data"
    },
    {
     "data": {
      "application/vnd.jupyter.widget-view+json": {
       "model_id": "",
       "version_major": 2,
       "version_minor": 0
      },
      "text/plain": [
       "Validating: 0it [00:00, ?it/s]"
      ]
     },
     "metadata": {},
     "output_type": "display_data"
    },
    {
     "data": {
      "application/vnd.jupyter.widget-view+json": {
       "model_id": "",
       "version_major": 2,
       "version_minor": 0
      },
      "text/plain": [
       "Validating: 0it [00:00, ?it/s]"
      ]
     },
     "metadata": {},
     "output_type": "display_data"
    },
    {
     "data": {
      "application/vnd.jupyter.widget-view+json": {
       "model_id": "",
       "version_major": 2,
       "version_minor": 0
      },
      "text/plain": [
       "Validating: 0it [00:00, ?it/s]"
      ]
     },
     "metadata": {},
     "output_type": "display_data"
    },
    {
     "data": {
      "application/vnd.jupyter.widget-view+json": {
       "model_id": "",
       "version_major": 2,
       "version_minor": 0
      },
      "text/plain": [
       "Validating: 0it [00:00, ?it/s]"
      ]
     },
     "metadata": {},
     "output_type": "display_data"
    },
    {
     "data": {
      "application/vnd.jupyter.widget-view+json": {
       "model_id": "",
       "version_major": 2,
       "version_minor": 0
      },
      "text/plain": [
       "Validating: 0it [00:00, ?it/s]"
      ]
     },
     "metadata": {},
     "output_type": "display_data"
    },
    {
     "data": {
      "application/vnd.jupyter.widget-view+json": {
       "model_id": "",
       "version_major": 2,
       "version_minor": 0
      },
      "text/plain": [
       "Validating: 0it [00:00, ?it/s]"
      ]
     },
     "metadata": {},
     "output_type": "display_data"
    },
    {
     "data": {
      "application/vnd.jupyter.widget-view+json": {
       "model_id": "",
       "version_major": 2,
       "version_minor": 0
      },
      "text/plain": [
       "Validating: 0it [00:00, ?it/s]"
      ]
     },
     "metadata": {},
     "output_type": "display_data"
    },
    {
     "data": {
      "application/vnd.jupyter.widget-view+json": {
       "model_id": "",
       "version_major": 2,
       "version_minor": 0
      },
      "text/plain": [
       "Validating: 0it [00:00, ?it/s]"
      ]
     },
     "metadata": {},
     "output_type": "display_data"
    },
    {
     "data": {
      "application/vnd.jupyter.widget-view+json": {
       "model_id": "",
       "version_major": 2,
       "version_minor": 0
      },
      "text/plain": [
       "Validating: 0it [00:00, ?it/s]"
      ]
     },
     "metadata": {},
     "output_type": "display_data"
    },
    {
     "data": {
      "application/vnd.jupyter.widget-view+json": {
       "model_id": "",
       "version_major": 2,
       "version_minor": 0
      },
      "text/plain": [
       "Validating: 0it [00:00, ?it/s]"
      ]
     },
     "metadata": {},
     "output_type": "display_data"
    },
    {
     "data": {
      "application/vnd.jupyter.widget-view+json": {
       "model_id": "",
       "version_major": 2,
       "version_minor": 0
      },
      "text/plain": [
       "Validating: 0it [00:00, ?it/s]"
      ]
     },
     "metadata": {},
     "output_type": "display_data"
    },
    {
     "data": {
      "application/vnd.jupyter.widget-view+json": {
       "model_id": "",
       "version_major": 2,
       "version_minor": 0
      },
      "text/plain": [
       "Validating: 0it [00:00, ?it/s]"
      ]
     },
     "metadata": {},
     "output_type": "display_data"
    },
    {
     "data": {
      "application/vnd.jupyter.widget-view+json": {
       "model_id": "",
       "version_major": 2,
       "version_minor": 0
      },
      "text/plain": [
       "Validating: 0it [00:00, ?it/s]"
      ]
     },
     "metadata": {},
     "output_type": "display_data"
    },
    {
     "name": "stderr",
     "output_type": "stream",
     "text": [
      "Metric train_loss improved by 0.001 >= min_delta = 0.001. New best score: 0.056\n"
     ]
    },
    {
     "data": {
      "application/vnd.jupyter.widget-view+json": {
       "model_id": "",
       "version_major": 2,
       "version_minor": 0
      },
      "text/plain": [
       "Validating: 0it [00:00, ?it/s]"
      ]
     },
     "metadata": {},
     "output_type": "display_data"
    },
    {
     "data": {
      "application/vnd.jupyter.widget-view+json": {
       "model_id": "",
       "version_major": 2,
       "version_minor": 0
      },
      "text/plain": [
       "Validating: 0it [00:00, ?it/s]"
      ]
     },
     "metadata": {},
     "output_type": "display_data"
    },
    {
     "data": {
      "application/vnd.jupyter.widget-view+json": {
       "model_id": "",
       "version_major": 2,
       "version_minor": 0
      },
      "text/plain": [
       "Validating: 0it [00:00, ?it/s]"
      ]
     },
     "metadata": {},
     "output_type": "display_data"
    },
    {
     "data": {
      "application/vnd.jupyter.widget-view+json": {
       "model_id": "",
       "version_major": 2,
       "version_minor": 0
      },
      "text/plain": [
       "Validating: 0it [00:00, ?it/s]"
      ]
     },
     "metadata": {},
     "output_type": "display_data"
    },
    {
     "name": "stderr",
     "output_type": "stream",
     "text": [
      "Metric train_loss improved by 0.002 >= min_delta = 0.001. New best score: 0.054\n"
     ]
    },
    {
     "data": {
      "application/vnd.jupyter.widget-view+json": {
       "model_id": "",
       "version_major": 2,
       "version_minor": 0
      },
      "text/plain": [
       "Validating: 0it [00:00, ?it/s]"
      ]
     },
     "metadata": {},
     "output_type": "display_data"
    },
    {
     "data": {
      "application/vnd.jupyter.widget-view+json": {
       "model_id": "",
       "version_major": 2,
       "version_minor": 0
      },
      "text/plain": [
       "Validating: 0it [00:00, ?it/s]"
      ]
     },
     "metadata": {},
     "output_type": "display_data"
    },
    {
     "data": {
      "application/vnd.jupyter.widget-view+json": {
       "model_id": "",
       "version_major": 2,
       "version_minor": 0
      },
      "text/plain": [
       "Validating: 0it [00:00, ?it/s]"
      ]
     },
     "metadata": {},
     "output_type": "display_data"
    },
    {
     "data": {
      "application/vnd.jupyter.widget-view+json": {
       "model_id": "",
       "version_major": 2,
       "version_minor": 0
      },
      "text/plain": [
       "Validating: 0it [00:00, ?it/s]"
      ]
     },
     "metadata": {},
     "output_type": "display_data"
    },
    {
     "data": {
      "application/vnd.jupyter.widget-view+json": {
       "model_id": "",
       "version_major": 2,
       "version_minor": 0
      },
      "text/plain": [
       "Validating: 0it [00:00, ?it/s]"
      ]
     },
     "metadata": {},
     "output_type": "display_data"
    }
   ],
   "source": [
    "# model training\n",
    "trainer.fit(\n",
    "    model, \n",
    "    DataLoader(train_tensor_dset, batch_size=2048, shuffle=True, num_workers=4),\n",
    "    DataLoader(valid_tensor_dset, batch_size=2048, shuffle=False, num_workers=4)\n",
    ")"
   ]
  },
  {
   "cell_type": "code",
   "execution_count": 33,
   "id": "aa93190d",
   "metadata": {},
   "outputs": [
    {
     "name": "stderr",
     "output_type": "stream",
     "text": [
      "LOCAL_RANK: 0 - CUDA_VISIBLE_DEVICES: [0]\n"
     ]
    },
    {
     "data": {
      "application/vnd.jupyter.widget-view+json": {
       "model_id": "2759feec9f4d425da21be8919a251257",
       "version_major": 2,
       "version_minor": 0
      },
      "text/plain": [
       "Testing: 0it [00:00, ?it/s]"
      ]
     },
     "metadata": {},
     "output_type": "display_data"
    },
    {
     "name": "stdout",
     "output_type": "stream",
     "text": [
      "Accuracy Score : 0.356878184344604\n",
      "=======================\n",
      "\n",
      "Precision Score : 0.18414976111122988\n",
      "========================\n",
      "\n",
      "Recall Score : 0.356878184344604\n",
      "=====================\n",
      "\n",
      "F1 Score : 0.233275113305976\n",
      "=================\n",
      "\n",
      "--------------------------------------------------------------------------------\n",
      "DATALOADER:0 TEST RESULTS\n",
      "{}\n",
      "--------------------------------------------------------------------------------\n"
     ]
    },
    {
     "data": {
      "text/plain": [
       "[{}]"
      ]
     },
     "execution_count": 33,
     "metadata": {},
     "output_type": "execute_result"
    }
   ],
   "source": [
    "# AUC on testing dataset\n",
    "trainer.test(model, DataLoader(test_tensor_dset, batch_size=test.shape[0], shuffle=False, num_workers=1))"
   ]
  },
  {
   "cell_type": "markdown",
   "id": "2130549e",
   "metadata": {},
   "source": [
    "# Customize Model"
   ]
  },
  {
   "cell_type": "code",
   "execution_count": 34,
   "id": "d6156bf1",
   "metadata": {},
   "outputs": [
    {
     "name": "stdout",
     "output_type": "stream",
     "text": [
      "Shape of y_train (12953, 81)\n",
      "Shape of y_test (4318, 81)\n",
      "Shape of y_test (4318, 81)\n"
     ]
    }
   ],
   "source": [
    "# get train, test and validation set\n",
    "X_train, X_test, X_val, y_train, y_test, y_val = get_train_test_val_split()\n",
    "# convert target list into categorical list\n",
    "y_train1 = to_categorical(y_train,num_classes=81)\n",
    "y_test1 = to_categorical(y_test,num_classes=81)\n",
    "y_val1 = to_categorical(y_val,num_classes=81)\n",
    "# display shape of all data sets\n",
    "print(\"Shape of y_train\",y_train1.shape)\n",
    "print(\"Shape of y_test\",y_test1.shape)\n",
    "print(\"Shape of y_test\",y_val1.shape)"
   ]
  },
  {
   "cell_type": "code",
   "execution_count": 35,
   "id": "e41ae69d",
   "metadata": {},
   "outputs": [
    {
     "name": "stdout",
     "output_type": "stream",
     "text": [
      "Model: \"sequential_1\"\n",
      "_________________________________________________________________\n",
      "Layer (type)                 Output Shape              Param #   \n",
      "=================================================================\n",
      "dense_3 (Dense)              (None, 1000)              6000      \n",
      "_________________________________________________________________\n",
      "dense_4 (Dense)              (None, 500)               500500    \n",
      "_________________________________________________________________\n",
      "dense_5 (Dense)              (None, 300)               150300    \n",
      "_________________________________________________________________\n",
      "dropout_1 (Dropout)          (None, 300)               0         \n",
      "_________________________________________________________________\n",
      "dense_6 (Dense)              (None, 81)                24381     \n",
      "=================================================================\n",
      "Total params: 681,181\n",
      "Trainable params: 681,181\n",
      "Non-trainable params: 0\n",
      "_________________________________________________________________\n"
     ]
    }
   ],
   "source": [
    "# model development\n",
    "model=Sequential()\n",
    "model.add(Dense(1000,input_dim=5,activation='relu'))\n",
    "model.add(Dense(500,activation='relu'))\n",
    "model.add(Dense(300,activation='relu'))\n",
    "model.add(Dropout(0.2))\n",
    "model.add(Dense(81,activation='softmax'))\n",
    "model.compile(loss='categorical_crossentropy',optimizer='adam',metrics=['accuracy'])\n",
    "model.summary()"
   ]
  },
  {
   "cell_type": "code",
   "execution_count": 36,
   "id": "3a9b8ed5",
   "metadata": {},
   "outputs": [
    {
     "name": "stdout",
     "output_type": "stream",
     "text": [
      "Epoch 1/50\n",
      "648/648 [==============================] - 2s 3ms/step - loss: 2.1654 - accuracy: 0.4182 - val_loss: 1.3078 - val_accuracy: 0.5933\n",
      "Epoch 2/50\n",
      "648/648 [==============================] - 2s 3ms/step - loss: 1.2533 - accuracy: 0.6099 - val_loss: 1.1088 - val_accuracy: 0.6274\n",
      "Epoch 3/50\n",
      "648/648 [==============================] - 2s 3ms/step - loss: 1.0707 - accuracy: 0.6550 - val_loss: 1.0572 - val_accuracy: 0.6533\n",
      "Epoch 4/50\n",
      "648/648 [==============================] - 2s 2ms/step - loss: 0.9652 - accuracy: 0.6890 - val_loss: 0.9285 - val_accuracy: 0.6955\n",
      "Epoch 5/50\n",
      "648/648 [==============================] - 2s 2ms/step - loss: 0.8982 - accuracy: 0.7014 - val_loss: 0.8775 - val_accuracy: 0.7267\n",
      "Epoch 6/50\n",
      "648/648 [==============================] - 2s 2ms/step - loss: 0.8455 - accuracy: 0.7161 - val_loss: 0.8435 - val_accuracy: 0.7105\n",
      "Epoch 7/50\n",
      "648/648 [==============================] - 2s 2ms/step - loss: 0.8126 - accuracy: 0.7190 - val_loss: 0.8036 - val_accuracy: 0.7432\n",
      "Epoch 8/50\n",
      "648/648 [==============================] - 2s 2ms/step - loss: 0.7858 - accuracy: 0.7233 - val_loss: 0.8302 - val_accuracy: 0.7253\n",
      "Epoch 9/50\n",
      "648/648 [==============================] - 2s 2ms/step - loss: 0.7411 - accuracy: 0.7429 - val_loss: 0.7838 - val_accuracy: 0.7520\n",
      "Epoch 10/50\n",
      "648/648 [==============================] - 2s 3ms/step - loss: 0.7342 - accuracy: 0.7421 - val_loss: 0.7725 - val_accuracy: 0.7538\n",
      "Epoch 11/50\n",
      "648/648 [==============================] - 2s 3ms/step - loss: 0.7104 - accuracy: 0.7516 - val_loss: 0.7773 - val_accuracy: 0.7469\n",
      "Epoch 12/50\n",
      "648/648 [==============================] - 2s 2ms/step - loss: 0.6960 - accuracy: 0.7513 - val_loss: 0.7673 - val_accuracy: 0.7554\n",
      "Epoch 13/50\n",
      "648/648 [==============================] - 2s 3ms/step - loss: 0.6994 - accuracy: 0.7488 - val_loss: 0.7690 - val_accuracy: 0.7487\n",
      "Epoch 14/50\n",
      "648/648 [==============================] - 2s 2ms/step - loss: 0.6512 - accuracy: 0.7594 - val_loss: 0.7563 - val_accuracy: 0.7589\n",
      "Epoch 15/50\n",
      "648/648 [==============================] - 2s 2ms/step - loss: 0.6588 - accuracy: 0.7612 - val_loss: 0.7496 - val_accuracy: 0.7647\n",
      "Epoch 16/50\n",
      "648/648 [==============================] - 2s 3ms/step - loss: 0.6390 - accuracy: 0.7675 - val_loss: 0.7756 - val_accuracy: 0.7510\n",
      "Epoch 17/50\n",
      "648/648 [==============================] - 2s 3ms/step - loss: 0.6461 - accuracy: 0.7630 - val_loss: 0.7376 - val_accuracy: 0.7585\n",
      "Epoch 18/50\n",
      "648/648 [==============================] - 2s 3ms/step - loss: 0.6280 - accuracy: 0.7697 - val_loss: 0.7571 - val_accuracy: 0.7610\n",
      "Epoch 19/50\n",
      "648/648 [==============================] - 2s 3ms/step - loss: 0.6291 - accuracy: 0.7631 - val_loss: 0.7356 - val_accuracy: 0.7661\n",
      "Epoch 20/50\n",
      "648/648 [==============================] - 2s 3ms/step - loss: 0.6160 - accuracy: 0.7687 - val_loss: 0.7448 - val_accuracy: 0.7647\n",
      "Epoch 21/50\n",
      "648/648 [==============================] - 2s 3ms/step - loss: 0.5920 - accuracy: 0.7811 - val_loss: 0.7547 - val_accuracy: 0.7589\n",
      "Epoch 22/50\n",
      "648/648 [==============================] - 2s 2ms/step - loss: 0.6109 - accuracy: 0.7721 - val_loss: 0.7471 - val_accuracy: 0.7619\n",
      "Epoch 23/50\n",
      "648/648 [==============================] - 2s 3ms/step - loss: 0.6001 - accuracy: 0.7740 - val_loss: 0.7395 - val_accuracy: 0.7712\n",
      "Epoch 24/50\n",
      "648/648 [==============================] - 2s 2ms/step - loss: 0.5991 - accuracy: 0.7736 - val_loss: 0.7378 - val_accuracy: 0.7654\n",
      "Epoch 25/50\n",
      "648/648 [==============================] - 2s 3ms/step - loss: 0.6011 - accuracy: 0.7724 - val_loss: 0.7349 - val_accuracy: 0.7663\n",
      "Epoch 26/50\n",
      "648/648 [==============================] - 2s 2ms/step - loss: 0.5741 - accuracy: 0.7804 - val_loss: 0.7480 - val_accuracy: 0.7596\n",
      "Epoch 27/50\n",
      "648/648 [==============================] - 2s 3ms/step - loss: 0.5909 - accuracy: 0.7794 - val_loss: 0.7396 - val_accuracy: 0.7726\n",
      "Epoch 28/50\n",
      "648/648 [==============================] - 2s 3ms/step - loss: 0.5830 - accuracy: 0.7834 - val_loss: 0.7245 - val_accuracy: 0.7703\n",
      "Epoch 29/50\n",
      "648/648 [==============================] - 2s 2ms/step - loss: 0.5715 - accuracy: 0.7860 - val_loss: 0.7410 - val_accuracy: 0.7686\n",
      "Epoch 30/50\n",
      "648/648 [==============================] - 2s 3ms/step - loss: 0.5634 - accuracy: 0.7852 - val_loss: 0.7432 - val_accuracy: 0.7633\n",
      "Epoch 31/50\n",
      "648/648 [==============================] - 2s 2ms/step - loss: 0.5771 - accuracy: 0.7767 - val_loss: 0.7801 - val_accuracy: 0.7670\n",
      "Epoch 32/50\n",
      "648/648 [==============================] - 2s 2ms/step - loss: 0.5650 - accuracy: 0.7864 - val_loss: 0.7408 - val_accuracy: 0.7633\n",
      "Epoch 33/50\n",
      "648/648 [==============================] - 2s 2ms/step - loss: 0.5716 - accuracy: 0.7818 - val_loss: 0.7392 - val_accuracy: 0.7666\n",
      "Epoch 34/50\n",
      "648/648 [==============================] - 2s 2ms/step - loss: 0.5600 - accuracy: 0.7882 - val_loss: 0.7381 - val_accuracy: 0.7791\n",
      "Epoch 35/50\n",
      "648/648 [==============================] - 2s 3ms/step - loss: 0.5698 - accuracy: 0.7773 - val_loss: 0.7434 - val_accuracy: 0.7811\n",
      "Epoch 36/50\n",
      "648/648 [==============================] - 2s 3ms/step - loss: 0.5578 - accuracy: 0.7882 - val_loss: 0.7380 - val_accuracy: 0.7793\n",
      "Epoch 37/50\n",
      "648/648 [==============================] - 2s 3ms/step - loss: 0.5423 - accuracy: 0.7934 - val_loss: 0.7520 - val_accuracy: 0.7693\n",
      "Epoch 38/50\n",
      "648/648 [==============================] - 2s 2ms/step - loss: 0.5485 - accuracy: 0.7887 - val_loss: 0.7408 - val_accuracy: 0.7698\n",
      "Epoch 39/50\n",
      "648/648 [==============================] - 2s 2ms/step - loss: 0.5339 - accuracy: 0.7964 - val_loss: 0.7367 - val_accuracy: 0.7730\n",
      "Epoch 40/50\n",
      "648/648 [==============================] - 2s 3ms/step - loss: 0.5461 - accuracy: 0.7890 - val_loss: 0.7427 - val_accuracy: 0.7814\n",
      "Epoch 41/50\n",
      "648/648 [==============================] - 2s 2ms/step - loss: 0.5547 - accuracy: 0.7829 - val_loss: 0.7715 - val_accuracy: 0.7698\n",
      "Epoch 42/50\n",
      "648/648 [==============================] - 2s 2ms/step - loss: 0.5499 - accuracy: 0.7960 - val_loss: 0.7475 - val_accuracy: 0.7719\n",
      "Epoch 43/50\n",
      "648/648 [==============================] - 2s 2ms/step - loss: 0.5494 - accuracy: 0.7874 - val_loss: 0.7509 - val_accuracy: 0.7779\n",
      "Epoch 44/50\n",
      "648/648 [==============================] - 2s 3ms/step - loss: 0.5255 - accuracy: 0.7926 - val_loss: 0.7683 - val_accuracy: 0.7670\n",
      "Epoch 45/50\n",
      "648/648 [==============================] - 2s 2ms/step - loss: 0.5426 - accuracy: 0.7851 - val_loss: 0.7416 - val_accuracy: 0.7761\n",
      "Epoch 46/50\n",
      "648/648 [==============================] - 2s 3ms/step - loss: 0.5395 - accuracy: 0.7929 - val_loss: 0.7594 - val_accuracy: 0.7763\n",
      "Epoch 47/50\n",
      "648/648 [==============================] - 2s 2ms/step - loss: 0.5299 - accuracy: 0.7955 - val_loss: 0.7561 - val_accuracy: 0.7705\n",
      "Epoch 48/50\n",
      "648/648 [==============================] - 2s 2ms/step - loss: 0.5467 - accuracy: 0.7860 - val_loss: 0.7559 - val_accuracy: 0.7791\n",
      "Epoch 49/50\n",
      "648/648 [==============================] - 2s 2ms/step - loss: 0.5177 - accuracy: 0.8006 - val_loss: 0.7640 - val_accuracy: 0.7705\n",
      "Epoch 50/50\n",
      "648/648 [==============================] - 2s 3ms/step - loss: 0.5286 - accuracy: 0.7925 - val_loss: 0.7574 - val_accuracy: 0.7811\n"
     ]
    },
    {
     "data": {
      "text/plain": [
       "<tensorflow.python.keras.callbacks.History at 0x7ff677969150>"
      ]
     },
     "execution_count": 36,
     "metadata": {},
     "output_type": "execute_result"
    }
   ],
   "source": [
    "# congigure early stopping teachnique\n",
    "callback = tf.keras.callbacks.EarlyStopping(monitor='accuracy', patience=10, min_delta=.001, verbose=True, mode='max')\n",
    "# fit model\n",
    "model.fit(X_train,y_train1,validation_data=(X_val,y_val1), batch_size=20,epochs=50,verbose=1, callbacks=[callback])"
   ]
  },
  {
   "cell_type": "code",
   "execution_count": 37,
   "id": "f6e5e79f",
   "metadata": {},
   "outputs": [
    {
     "name": "stdout",
     "output_type": "stream",
     "text": [
      "Accuracy Score : 0.7774432607688745\n",
      "=======================\n",
      "\n",
      "Precision Score : 0.770478872882279\n",
      "========================\n",
      "\n",
      "Recall Score : 0.7774432607688745\n",
      "=====================\n",
      "\n",
      "F1 Score : 0.7472326077751351\n",
      "=================\n",
      "\n"
     ]
    }
   ],
   "source": [
    "# make prediction using trained model\n",
    "predictions = model.predict(X_test)\n",
    "# calculate accuracy and other evaluation measures\n",
    "y_pred = [np.argmax(prediction) for prediction in predictions]\n",
    "make_predictions(y_test, y_pred)"
   ]
  },
  {
   "cell_type": "markdown",
   "id": "9f6ef49c",
   "metadata": {},
   "source": [
    "## predict 4 Best Service Providers"
   ]
  },
  {
   "cell_type": "code",
   "execution_count": 48,
   "id": "2b62ba0b",
   "metadata": {},
   "outputs": [],
   "source": [
    "# load and return dictionary of label encoders\n",
    "def get_label_encoders():\n",
    "    columns = [\"Category of Trade\", \"Volume Type\",\n",
    "               \"Load Port\", \"Discharge Port\", \"Dangerous Goods\"]\n",
    "\n",
    "    le_dict = open(\"le_dict.pickle\",'rb')\n",
    "    le_dict = pickle.load(le_dict)\n",
    "    \n",
    "    le_target = open(\"target_encoder.pkl\",'rb')\n",
    "    le_target = pickle.load(le_target)\n",
    "    return le_dict, le_target, columns\n",
    "\n",
    "# convert the integral value of class into its label\n",
    "def tranform_label(le_dict, le_dict_name, val):\n",
    "    return le_dict[le_dict_name].transform([val])[0]\n",
    "\n",
    "# display the best four service providers on screen\n",
    "def display_output(le_target, indices):\n",
    "    print(\"\\nName of theBest 4 Service Providers :\")\n",
    "    print(\"====================================\\n\")\n",
    "    for idx, indice in enumerate(indices):\n",
    "        SP = le_target.inverse_transform([indice])\n",
    "        print(idx, \"--> \", SP[0], \"\\n\")\n",
    "    print(\"\\n\")"
   ]
  },
  {
   "cell_type": "code",
   "execution_count": null,
   "id": "22071d96",
   "metadata": {},
   "outputs": [],
   "source": [
    "# sample \n",
    "feature_list = [\"Petroleum\", \"MT\", \"Geelong\", \"Kwinana\", \"No\"]\n",
    "\n",
    "# list for appending encoded values of sample\n",
    "le_features = []\n",
    "# get label encoders dictionary\n",
    "le_dict, le_target, columns = get_label_encoders()\n",
    "\n",
    "# convert string value into numerical bvalues using label encoders\n",
    "for idx, val in enumerate(feature_list):\n",
    "    le_dict_name = columns[idx]\n",
    "    value = tranform_label(le_dict, le_dict_name, val) if le_dict_name in le_dict else int(val)\n",
    "    le_features.append(value)\n",
    "\n",
    "noramilzed_features = ss.transform(np.array(le_features).reshape(1, -1)) #normalized values\n",
    "result = model.predict(noramilzed_features) # predict normalized sample using trained model"
   ]
  },
  {
   "cell_type": "code",
   "execution_count": 58,
   "id": "1a1171c0",
   "metadata": {},
   "outputs": [
    {
     "name": "stdout",
     "output_type": "stream",
     "text": [
      "\n",
      "probability of all Classes\n",
      "==========================\n",
      "\n",
      "[3.5926445e-24 6.2424702e-22 1.5508780e-21 1.2550252e-20 9.7726502e-22\n",
      " 5.3949694e-16 1.3614162e-23 2.7255021e-04 1.8105859e-13 3.6592106e-04\n",
      " 1.1154948e-25 5.1582778e-15 1.6106678e-02 6.3504293e-12 3.7818565e-17\n",
      " 1.0243772e-11 4.6038302e-11 3.0939740e-11 4.4440314e-16 6.5268134e-04\n",
      " 2.7866626e-17 2.5192378e-19 2.3175690e-24 1.4094428e-21 8.2882982e-25\n",
      " 7.0724423e-19 1.2082167e-21 2.2928848e-13 1.2270894e-09 2.3605449e-20\n",
      " 1.0188430e-04 1.6692966e-11 4.8270954e-06 6.2743322e-10 1.2977853e-07\n",
      " 7.6877109e-09 7.8029769e-22 5.9600633e-14 2.1714239e-16 6.1899321e-19\n",
      " 1.6834822e-20 5.1435502e-19 8.0002879e-12 7.6075445e-04 4.2972004e-09\n",
      " 9.0058126e-20 1.5290814e-09 5.1999840e-15 1.3520453e-20 2.4866962e-21\n",
      " 5.0227671e-13 1.3310781e-06 2.1943034e-11 9.1304461e-20 3.0338096e-13\n",
      " 1.9337291e-13 2.3915177e-18 1.6819986e-21 6.1028634e-23 8.7787791e-11\n",
      " 5.3118749e-16 1.6684997e-16 9.0373951e-11 2.8978381e-16 1.2149705e-19\n",
      " 4.8998260e-15 3.1267414e-17 8.9203054e-19 1.8633712e-23 2.6945654e-10\n",
      " 3.1836706e-17 1.2047621e-18 7.4987688e-26 9.8173308e-01 3.1768567e-11\n",
      " 6.8496099e-14 1.3354986e-20 1.2700488e-13 2.0655396e-16 8.4944766e-08\n",
      " 1.5548299e-20]\n"
     ]
    }
   ],
   "source": [
    "print(\"\\nprobability of all Classes\")\n",
    "print(\"==========================\\n\")\n",
    "print(result[0])"
   ]
  },
  {
   "cell_type": "code",
   "execution_count": 59,
   "id": "13877711",
   "metadata": {},
   "outputs": [
    {
     "name": "stdout",
     "output_type": "stream",
     "text": [
      "\n",
      "probability of all Classes in sorting order\n",
      "===========================================\n",
      "\n",
      "[73 12 43 19  9  7 30 32 51 34 79 35 44 46 28 33 69 62 59 16 74 17 52 31\n",
      " 15 42 13 50 54 27 55  8 77 75 37 47 11 65  5 60 18 63 38 78 61 14 70 66\n",
      " 20 56 71 67 25 39 41 21 64 53 45 29 40 80 48 76  3 49 57  2 23 26  4 36\n",
      "  1 58 68  6  0 22 24 10 72]\n"
     ]
    }
   ],
   "source": [
    "print(\"\\nprobability of all Classes in sorting order\")\n",
    "print(\"===========================================\\n\")\n",
    "print((-result[0]).argsort())"
   ]
  },
  {
   "cell_type": "code",
   "execution_count": 60,
   "id": "51f42840",
   "metadata": {},
   "outputs": [
    {
     "name": "stdout",
     "output_type": "stream",
     "text": [
      "[73 12 43 19]\n"
     ]
    }
   ],
   "source": [
    "# select the first four indices\n",
    "n = 4\n",
    "indices = (-result[0]).argsort()[:n]\n",
    "print(indices)"
   ]
  },
  {
   "cell_type": "code",
   "execution_count": 61,
   "id": "0645305a",
   "metadata": {},
   "outputs": [
    {
     "name": "stdout",
     "output_type": "stream",
     "text": [
      "\n",
      "Name of theBest 4 Service Providers :\n",
      "====================================\n",
      "\n",
      "0 -->  Viva Energy Australia Ltd \n",
      "\n",
      "1 -->  BP Australia Pty Ltd \n",
      "\n",
      "2 -->  Mobil Oil Australia Pty Ltd \n",
      "\n",
      "3 -->  Caltex Australia Petroleum Pty Ltd \n",
      "\n",
      "\n",
      "\n"
     ]
    }
   ],
   "source": [
    "# convert the class integar into its label value using Label Encoder\n",
    "display_output(le_target, indices)"
   ]
  },
  {
   "cell_type": "code",
   "execution_count": null,
   "id": "b2304fe0",
   "metadata": {},
   "outputs": [],
   "source": []
  }
 ],
 "metadata": {
  "kernelspec": {
   "display_name": "Python 3 (ipykernel)",
   "language": "python",
   "name": "python3"
  },
  "language_info": {
   "codemirror_mode": {
    "name": "ipython",
    "version": 3
   },
   "file_extension": ".py",
   "mimetype": "text/x-python",
   "name": "python",
   "nbconvert_exporter": "python",
   "pygments_lexer": "ipython3",
   "version": "3.9.7"
  }
 },
 "nbformat": 4,
 "nbformat_minor": 5
}
