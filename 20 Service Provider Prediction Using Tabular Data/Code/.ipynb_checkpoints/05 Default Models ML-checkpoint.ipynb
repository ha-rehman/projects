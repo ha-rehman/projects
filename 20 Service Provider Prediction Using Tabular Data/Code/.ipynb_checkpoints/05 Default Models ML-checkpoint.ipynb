{
 "cells": [
  {
   "cell_type": "code",
   "execution_count": 1,
   "id": "e712561c",
   "metadata": {},
   "outputs": [],
   "source": [
    "# !pip install tab2img"
   ]
  },
  {
   "cell_type": "markdown",
   "id": "c5d613a3",
   "metadata": {},
   "source": [
    "## import libraries"
   ]
  },
  {
   "cell_type": "code",
   "execution_count": 2,
   "id": "2067e91b",
   "metadata": {},
   "outputs": [],
   "source": [
    "import warnings\n",
    "warnings.filterwarnings('ignore')\n",
    "\n",
    "import pickle\n",
    "import numpy as np\n",
    "import pandas as pd\n",
    "import matplotlib.pyplot as plt\n",
    "from statistics import mean\n",
    "\n",
    "from sklearn import svm\n",
    "from sklearn.preprocessing import StandardScaler\n",
    "from sklearn.model_selection import train_test_split\n",
    "from sklearn.metrics import accuracy_score, balanced_accuracy_score\n",
    "from sklearn.metrics import classification_report\n",
    "from sklearn.metrics import precision_recall_fscore_support\n",
    "\n",
    "from sklearn.ensemble import RandomForestClassifier, AdaBoostClassifier, GradientBoostingClassifier\n",
    "\n",
    "import tensorflow as tf\n",
    "from tensorflow.keras.models import Sequential \n",
    "from tensorflow.keras.layers import Dense,Activation,Dropout \n",
    "from tensorflow.keras.layers import BatchNormalization \n",
    "from tensorflow.keras.utils import to_categorical\n",
    "\n",
    "# from tab2img.converter import Tab2Img\n",
    "from xgboost import XGBClassifier"
   ]
  },
  {
   "cell_type": "markdown",
   "id": "eaccd884",
   "metadata": {},
   "source": [
    "# **Read CSV files**"
   ]
  },
  {
   "cell_type": "code",
   "execution_count": 4,
   "id": "f8cee4fc",
   "metadata": {},
   "outputs": [
    {
     "data": {
      "text/html": [
       "<div>\n",
       "<style scoped>\n",
       "    .dataframe tbody tr th:only-of-type {\n",
       "        vertical-align: middle;\n",
       "    }\n",
       "\n",
       "    .dataframe tbody tr th {\n",
       "        vertical-align: top;\n",
       "    }\n",
       "\n",
       "    .dataframe thead th {\n",
       "        text-align: right;\n",
       "    }\n",
       "</style>\n",
       "<table border=\"1\" class=\"dataframe\">\n",
       "  <thead>\n",
       "    <tr style=\"text-align: right;\">\n",
       "      <th></th>\n",
       "      <th>Category of Trade</th>\n",
       "      <th>Volume/ Amount</th>\n",
       "      <th>Volume Type</th>\n",
       "      <th>Load Port</th>\n",
       "      <th>Discharge Port</th>\n",
       "      <th>Dangerous Goods</th>\n",
       "      <th>Organisation</th>\n",
       "    </tr>\n",
       "  </thead>\n",
       "  <tbody>\n",
       "    <tr>\n",
       "      <th>0</th>\n",
       "      <td>7</td>\n",
       "      <td>26,726</td>\n",
       "      <td>1</td>\n",
       "      <td>27</td>\n",
       "      <td>34</td>\n",
       "      <td>2</td>\n",
       "      <td>73</td>\n",
       "    </tr>\n",
       "    <tr>\n",
       "      <th>1</th>\n",
       "      <td>5</td>\n",
       "      <td>2,600</td>\n",
       "      <td>1</td>\n",
       "      <td>44</td>\n",
       "      <td>54</td>\n",
       "      <td>2</td>\n",
       "      <td>69</td>\n",
       "    </tr>\n",
       "    <tr>\n",
       "      <th>2</th>\n",
       "      <td>7</td>\n",
       "      <td>10,710</td>\n",
       "      <td>1</td>\n",
       "      <td>8</td>\n",
       "      <td>0</td>\n",
       "      <td>2</td>\n",
       "      <td>12</td>\n",
       "    </tr>\n",
       "    <tr>\n",
       "      <th>3</th>\n",
       "      <td>7</td>\n",
       "      <td>21,611</td>\n",
       "      <td>1</td>\n",
       "      <td>8</td>\n",
       "      <td>40</td>\n",
       "      <td>2</td>\n",
       "      <td>12</td>\n",
       "    </tr>\n",
       "    <tr>\n",
       "      <th>4</th>\n",
       "      <td>7</td>\n",
       "      <td>5,139</td>\n",
       "      <td>1</td>\n",
       "      <td>6</td>\n",
       "      <td>0</td>\n",
       "      <td>2</td>\n",
       "      <td>12</td>\n",
       "    </tr>\n",
       "  </tbody>\n",
       "</table>\n",
       "</div>"
      ],
      "text/plain": [
       "   Category of Trade Volume/ Amount  Volume Type  Load Port  Discharge Port  \\\n",
       "0                  7         26,726            1         27              34   \n",
       "1                  5          2,600            1         44              54   \n",
       "2                  7         10,710            1          8               0   \n",
       "3                  7         21,611            1          8              40   \n",
       "4                  7          5,139            1          6               0   \n",
       "\n",
       "   Dangerous Goods  Organisation  \n",
       "0                2            73  \n",
       "1                2            69  \n",
       "2                2            12  \n",
       "3                2            12  \n",
       "4                2            12  "
      ]
     },
     "execution_count": 4,
     "metadata": {},
     "output_type": "execute_result"
    }
   ],
   "source": [
    "# read file\n",
    "df  = pd.read_csv(\"dataset/dataset.csv\")\n",
    "df.head()"
   ]
  },
  {
   "cell_type": "markdown",
   "id": "34899ec5",
   "metadata": {},
   "source": [
    "# **Seperate features and target**"
   ]
  },
  {
   "cell_type": "code",
   "execution_count": 5,
   "id": "0b4fe543",
   "metadata": {},
   "outputs": [],
   "source": [
    "# seperate features and target column\n",
    "features = [\"Category of Trade\", \"Volume Type\", \"Load Port\", \"Discharge Port\", \"Dangerous Goods\"]\n",
    "target = \"Organisation\"\n",
    "\n",
    "# copy the feqatures and class dataframe in X and y variable\n",
    "X = df[features]\n",
    "y = df[target]"
   ]
  },
  {
   "cell_type": "markdown",
   "id": "f232f74f",
   "metadata": {},
   "source": [
    "# **Scale features and train test split**"
   ]
  },
  {
   "cell_type": "code",
   "execution_count": 6,
   "id": "c8d68f58",
   "metadata": {},
   "outputs": [],
   "source": [
    "# scalling feature value between the range of 0-1\n",
    "ss = StandardScaler()\n",
    "X = ss.fit_transform(X)\n"
   ]
  },
  {
   "cell_type": "markdown",
   "id": "9c33dda2",
   "metadata": {},
   "source": [
    "## customize functions"
   ]
  },
  {
   "cell_type": "code",
   "execution_count": 7,
   "id": "fc7f66e3",
   "metadata": {},
   "outputs": [],
   "source": [
    "#list of evaluation scores\n",
    "evalution_scores = []\n",
    "\n",
    "# save saller\n",
    "pkl_file = open('others/target_encoder.pkl', 'rb')\n",
    "le_target = pickle.load(pkl_file) \n",
    "\n",
    "# function for getting class labels via class integar using label encoder\n",
    "def get_classes(y_test):\n",
    "    y_test = y_test.unique()\n",
    "    print(len(y_test))\n",
    "    return le_target.inverse_transform(y_test)\n",
    "\n",
    "# get unique classes in test set\n",
    "def get_str_classes(y_test):\n",
    "    y_test = y_test.unique()\n",
    "    return [str(int) for int in y_test]\n",
    "\n",
    "# split dataset in training and testing set \n",
    "def get_train_test_split():\n",
    "    return train_test_split(X, y, test_size=0.2, random_state=42)\n",
    "\n",
    "\n",
    "# split data into train, test and validation set with splitted feature and class\n",
    "def get_train_test_val_split(X, y):\n",
    "    X_train, X_test, y_train, y_test = train_test_split(X, y, test_size=0.1, random_state=42)\n",
    "    X_train, X_val, y_train, y_val = train_test_split(X_train, y_train, test_size=0.22, random_state=2)\n",
    "    return X_train, X_test, X_val, y_train, y_test, y_val\n",
    "\n",
    "# split data into train, test and validation set with joined feature and class\n",
    "def get_train_test_val_split_df():\n",
    "    train, test = train_test_split(df, test_size=0.2, random_state=42)\n",
    "    train, val = train_test_split(train, test_size=0.25, random_state=2)\n",
    "    return train, test, val\n",
    "\n",
    "\n",
    "# compute the accuracy using true and predicted labels\n",
    "def compute_accuracy(y_true, y_pred):\n",
    "    correct_predictions = 0\n",
    "    # iterate over each label and check\n",
    "    for true, predicted in zip(y_true, y_pred):\n",
    "        if true == predicted:\n",
    "            correct_predictions += 1\n",
    "    # compute the accuracy\n",
    "    accuracy = correct_predictions/len(y_true)\n",
    "    return accuracy\n",
    "\n",
    "\n",
    "# compute other evaluation measures and print\n",
    "def make_predictions(y_test, y_pred):\n",
    "    accuracy=accuracy_score(y_test, y_pred)\n",
    "    P, R, F, S = precision_recall_fscore_support(y_test, y_pred, average=\"weighted\")\n",
    "    \n",
    "    accuracy = \"{:.4f}\".format(accuracy)\n",
    "    P = \"{:.4f}\".format(P)\n",
    "    R = \"{:.4f}\".format(R)\n",
    "    F = \"{:.4f}\".format(F)\n",
    "\n",
    "    print(\"Accuracy Score :\", accuracy)\n",
    "    print(\"=======================\\n\")\n",
    "\n",
    "    print(\"Precision Score :\", P)\n",
    "    print(\"========================\\n\")\n",
    "\n",
    "    print(\"Recall Score :\", R)\n",
    "    print(\"=====================\\n\")\n",
    "\n",
    "    print(\"F1 Score :\", F)\n",
    "    print(\"=================\\n\")\n",
    "\n",
    "    return accuracy, P, R, F\n",
    "\n",
    "\n",
    "# convert the vector input into matrix for deep leaning model\n",
    "def DL_preprocessing(train, target):\n",
    "    target = target.to_numpy()\n",
    "    model = Tab2Img()\n",
    "    images = model.fit_transform(train, target)\n",
    "    \n",
    "    size = (200, 200)\n",
    "    reshaped_images = []\n",
    "    for img in images:\n",
    "        img = np.resize(img, (img.shape[0], img.shape[1], 3))\n",
    "        reshaped_images.append(tf.keras.preprocessing.image.smart_resize(\n",
    "            img, size, interpolation='bilinear'\n",
    "        ))\n",
    "    reshaped_images = np.array(reshaped_images)\n",
    "    target = tf.keras.utils.to_categorical(target, 81)\n",
    "    return reshaped_images, target\n",
    "\n",
    "# plot graph of accuracy and loss using history object\n",
    "def plot_graph(history):\n",
    "    print(history.history.keys())\n",
    "    # summarize history for accuracy\n",
    "    plt.plot(history.history['accuracy'])\n",
    "    plt.plot(history.history['val_accuracy'])\n",
    "    plt.title('model accuracy')\n",
    "    plt.ylabel('accuracy')\n",
    "    plt.xlabel('epoch')\n",
    "    plt.legend(['train', 'test'], loc='upper left')\n",
    "    plt.show()\n",
    "    # summarize history for loss\n",
    "    plt.plot(history.history['loss'])\n",
    "    plt.plot(history.history['val_loss'])\n",
    "    plt.title('model loss')\n",
    "    plt.ylabel('loss')\n",
    "    plt.xlabel('epoch')\n",
    "    plt.legend(['train', 'test'], loc='upper left')\n",
    "    plt.show()"
   ]
  },
  {
   "cell_type": "markdown",
   "id": "a4b18d7d",
   "metadata": {},
   "source": [
    "# **Machine Learning Models**\n",
    "## **Random Forest**"
   ]
  },
  {
   "cell_type": "code",
   "execution_count": 8,
   "id": "8abe2f56",
   "metadata": {},
   "outputs": [
    {
     "name": "stdout",
     "output_type": "stream",
     "text": [
      "\n",
      "shape of training features : (17271, 5)\n",
      "=======================================\n",
      "\n",
      " shape of training labels : (17271,)\n",
      "====================================\n",
      "\n",
      " shape of testing features : (4318, 5)\n",
      "======================================\n",
      "\n",
      " shape of testing labels : (4318,)\n",
      "==================================\n"
     ]
    }
   ],
   "source": [
    "X_train, X_test, y_train, y_test = get_train_test_split()\n",
    "print(\"\\nshape of training features :\", X_train.shape)\n",
    "print(\"=======================================\")\n",
    "print(\"\\n shape of training labels :\", y_train.shape)\n",
    "print(\"====================================\")\n",
    "print(\"\\n shape of testing features :\", X_test.shape)\n",
    "print(\"======================================\")\n",
    "print(\"\\n shape of testing labels :\", y_test.shape)\n",
    "print(\"==================================\")"
   ]
  },
  {
   "cell_type": "code",
   "execution_count": 9,
   "id": "3e33a7be",
   "metadata": {},
   "outputs": [
    {
     "data": {
      "text/plain": [
       "<BarContainer object of 5 artists>"
      ]
     },
     "execution_count": 9,
     "metadata": {},
     "output_type": "execute_result"
    },
    {
     "data": {
      "image/png": "[encoded data removed]",
      "text/plain": [
       "<Figure size 432x288 with 1 Axes>"
      ]
     },
     "metadata": {
      "needs_background": "light"
     },
     "output_type": "display_data"
    }
   ],
   "source": [
    "# model initialization\n",
    "clf = RandomForestClassifier()\n",
    "# model training\n",
    "clf = clf.fit(X_train, y_train)\n",
    "plt.barh(features, clf.feature_importances_)"
   ]
  },
  {
   "cell_type": "code",
   "execution_count": 10,
   "id": "d63a19c6",
   "metadata": {},
   "outputs": [
    {
     "name": "stdout",
     "output_type": "stream",
     "text": [
      "Accuracy Score : 0.7923\n",
      "=======================\n",
      "\n",
      "Precision Score : 0.7989\n",
      "========================\n",
      "\n",
      "Recall Score : 0.7923\n",
      "=====================\n",
      "\n",
      "F1 Score : 0.7674\n",
      "=================\n",
      "\n"
     ]
    }
   ],
   "source": [
    "# model predictions\n",
    "y_pred = clf.predict(X_test)\n",
    "# evaluate results\n",
    "Acc, P, R, F = make_predictions(y_test, y_pred)\n",
    "evalution_scores.append([\"Random Forest\", Acc, P, R, F])"
   ]
  },
  {
   "cell_type": "markdown",
   "id": "3c5cc52a",
   "metadata": {},
   "source": [
    "## **XG Boost**"
   ]
  },
  {
   "cell_type": "code",
   "execution_count": 11,
   "id": "25e68117",
   "metadata": {},
   "outputs": [
    {
     "name": "stdout",
     "output_type": "stream",
     "text": [
      "\n",
      "shape of training features : (17271, 5)\n",
      "=======================================\n",
      "\n",
      " shape of training labels : (17271,)\n",
      "====================================\n",
      "\n",
      " shape of testing features : (4318, 5)\n",
      "======================================\n",
      "\n",
      " shape of testing labels : (4318,)\n",
      "==================================\n"
     ]
    }
   ],
   "source": [
    "# train test split\n",
    "X_train, X_test, y_train, y_test = get_train_test_split()\n",
    "print(\"\\nshape of training features :\", X_train.shape)\n",
    "print(\"=======================================\")\n",
    "print(\"\\n shape of training labels :\", y_train.shape)\n",
    "print(\"====================================\")\n",
    "print(\"\\n shape of testing features :\", X_test.shape)\n",
    "print(\"======================================\")\n",
    "print(\"\\n shape of testing labels :\", y_test.shape)\n",
    "print(\"==================================\")"
   ]
  },
  {
   "cell_type": "code",
   "execution_count": 12,
   "id": "093df8d7",
   "metadata": {},
   "outputs": [
    {
     "data": {
      "text/plain": [
       "<BarContainer object of 5 artists>"
      ]
     },
     "execution_count": 12,
     "metadata": {},
     "output_type": "execute_result"
    },
    {
     "data": {
      "image/png": "[encoded data removed]",
      "text/plain": [
       "<Figure size 432x288 with 1 Axes>"
      ]
     },
     "metadata": {
      "needs_background": "light"
     },
     "output_type": "display_data"
    }
   ],
   "source": [
    "# model initialization\n",
    "clf = XGBClassifier()\n",
    "# model training\n",
    "clf = clf.fit(X_train, y_train)\n",
    "plt.barh(features, clf.feature_importances_)"
   ]
  },
  {
   "cell_type": "code",
   "execution_count": 13,
   "id": "810f0ca1",
   "metadata": {},
   "outputs": [
    {
     "name": "stdout",
     "output_type": "stream",
     "text": [
      "Accuracy Score : 0.7825\n",
      "=======================\n",
      "\n",
      "Precision Score : 0.7832\n",
      "========================\n",
      "\n",
      "Recall Score : 0.7825\n",
      "=====================\n",
      "\n",
      "F1 Score : 0.7527\n",
      "=================\n",
      "\n"
     ]
    }
   ],
   "source": [
    "# model predictions\n",
    "y_pred = clf.predict(X_test)\n",
    "# evaluate results\n",
    "Acc, P, R, F = make_predictions(y_test, y_pred)\n",
    "evalution_scores.append([\"XG Boost\", Acc, P, R, F])"
   ]
  },
  {
   "cell_type": "markdown",
   "id": "e96986a1",
   "metadata": {},
   "source": [
    "## **SVM Model**"
   ]
  },
  {
   "cell_type": "code",
   "execution_count": 14,
   "id": "3ba66d7a",
   "metadata": {},
   "outputs": [],
   "source": [
    "# model initialization\n",
    "clf = svm.SVC()\n",
    "# model training\n",
    "clf = clf.fit(X_train, y_train)\n",
    "# plt.barh(features, clf.coef_)"
   ]
  },
  {
   "cell_type": "code",
   "execution_count": 15,
   "id": "da3f289e",
   "metadata": {},
   "outputs": [
    {
     "name": "stdout",
     "output_type": "stream",
     "text": [
      "Accuracy Score : 0.6721\n",
      "=======================\n",
      "\n",
      "Precision Score : 0.6194\n",
      "========================\n",
      "\n",
      "Recall Score : 0.6721\n",
      "=====================\n",
      "\n",
      "F1 Score : 0.6237\n",
      "=================\n",
      "\n"
     ]
    }
   ],
   "source": [
    "# model predictions\n",
    "y_pred = clf.predict(X_test)\n",
    "# evaluate results\n",
    "Acc, P, R, F = make_predictions(y_test, y_pred)\n",
    "evalution_scores.append([\"SVM\", Acc, P, R, F])"
   ]
  },
  {
   "cell_type": "markdown",
   "id": "04ec6c91",
   "metadata": {},
   "source": [
    "## **KNN Model**"
   ]
  },
  {
   "cell_type": "code",
   "execution_count": 16,
   "id": "0b3fa31c",
   "metadata": {},
   "outputs": [],
   "source": [
    "from sklearn.neighbors import KNeighborsClassifier\n",
    "# model initialization\n",
    "clf = KNeighborsClassifier()\n",
    "# model training\n",
    "clf = clf.fit(X_train, y_train)\n",
    "# plt.barh(features, clf.coef_)"
   ]
  },
  {
   "cell_type": "code",
   "execution_count": 17,
   "id": "60c0b94f",
   "metadata": {},
   "outputs": [
    {
     "name": "stdout",
     "output_type": "stream",
     "text": [
      "Accuracy Score : 0.7564\n",
      "=======================\n",
      "\n",
      "Precision Score : 0.7699\n",
      "========================\n",
      "\n",
      "Recall Score : 0.7564\n",
      "=====================\n",
      "\n",
      "F1 Score : 0.7422\n",
      "=================\n",
      "\n"
     ]
    }
   ],
   "source": [
    "# model predictions\n",
    "y_pred = clf.predict(X_test)\n",
    "# evaluate results\n",
    "Acc, P, R, F = make_predictions(y_test, y_pred)\n",
    "evalution_scores.append([\"KNN\", Acc, P, R, F])"
   ]
  },
  {
   "cell_type": "markdown",
   "id": "1499d779",
   "metadata": {},
   "source": [
    "## Customize Model 1"
   ]
  },
  {
   "cell_type": "code",
   "execution_count": 18,
   "id": "31b58537",
   "metadata": {},
   "outputs": [
    {
     "name": "stdout",
     "output_type": "stream",
     "text": [
      "\n",
      "shape of training features : (15155, 5)\n",
      "=======================================\n",
      "\n",
      " shape of training labels : (15155,)\n",
      "====================================\n",
      "\n",
      " shape of testing features : (2159, 5)\n",
      "======================================\n",
      "\n",
      " shape of testing labels : (2159,)\n",
      "==================================\n",
      "\n",
      " shape of validation features : (4275, 5)\n",
      "========================================\n",
      "\n",
      " shape of validation labels : (4275,)\n",
      "=====================================\n"
     ]
    }
   ],
   "source": [
    "X_train, X_test, X_val, y_train, y_test, y_val = get_train_test_val_split(X, y)\n",
    "print(\"\\nshape of training features :\", X_train.shape)\n",
    "print(\"=======================================\")\n",
    "print(\"\\n shape of training labels :\", y_train.shape)\n",
    "print(\"====================================\")\n",
    "print(\"\\n shape of testing features :\", X_test.shape)\n",
    "print(\"======================================\")\n",
    "print(\"\\n shape of testing labels :\", y_test.shape)\n",
    "print(\"==================================\")\n",
    "print(\"\\n shape of validation features :\", X_val.shape)\n",
    "print(\"========================================\")\n",
    "print(\"\\n shape of validation labels :\", y_val.shape)\n",
    "print(\"=====================================\")"
   ]
  },
  {
   "cell_type": "code",
   "execution_count": 19,
   "id": "0bc7eb1b",
   "metadata": {},
   "outputs": [],
   "source": [
    "# deep learning model initialization\n",
    "model = tf.keras.models.Sequential()  \n",
    "model.add(Dense(1000,input_dim=5,activation='relu'))\n",
    "model.add(Dense(500,activation='relu'))\n",
    "model.add(Dense(300,activation='relu'))\n",
    "model.add(Dense(150,activation='relu'))\n",
    "model.add(Dense(75,activation='relu'))\n",
    "model.add(Dense(30,activation='relu'))\n",
    "model.add(Dense(15,activation='relu'))\n",
    "model.add(Dropout(0.5))\n",
    "\n",
    "RF_X_train = model.predict(X_train)\n",
    "RF_X_test = model.predict(X_test)"
   ]
  },
  {
   "cell_type": "code",
   "execution_count": 20,
   "id": "ed1f47c6",
   "metadata": {},
   "outputs": [],
   "source": [
    "# model initialization\n",
    "clf = RandomForestClassifier(random_state=1)\n",
    "# model training\n",
    "clf = clf.fit(RF_X_train, y_train)"
   ]
  },
  {
   "cell_type": "code",
   "execution_count": 21,
   "id": "b9062184",
   "metadata": {},
   "outputs": [
    {
     "name": "stdout",
     "output_type": "stream",
     "text": [
      "Accuracy Score : 0.7939\n",
      "=======================\n",
      "\n",
      "Precision Score : 0.7851\n",
      "========================\n",
      "\n",
      "Recall Score : 0.7939\n",
      "=====================\n",
      "\n",
      "F1 Score : 0.7695\n",
      "=================\n",
      "\n"
     ]
    }
   ],
   "source": [
    "# model predictions\n",
    "y_pred = clf.predict(RF_X_test)\n",
    "# evaluate results\n",
    "Acc, P, R, F = make_predictions(y_test, y_pred)\n",
    "evalution_scores.append([\"customize 1\", Acc, P, R, F])"
   ]
  },
  {
   "cell_type": "markdown",
   "id": "97049e19",
   "metadata": {},
   "source": [
    "## Customize 2"
   ]
  },
  {
   "cell_type": "code",
   "execution_count": 22,
   "id": "87c3355b",
   "metadata": {},
   "outputs": [],
   "source": [
    "from sklearn.ensemble import VotingClassifier\n",
    "\n",
    "clf1 = RandomForestClassifier(random_state=1)\n",
    "clf2 = XGBClassifier()\n",
    "clf3 = KNeighborsClassifier()\n",
    "\n",
    "eclf = VotingClassifier(estimators=[('rf', clf1), ('cgb', clf2), ('knn', clf3)], voting='soft', weights=[1, 1, 1])\n",
    "eclf = eclf.fit(X_train, y_train)"
   ]
  },
  {
   "cell_type": "code",
   "execution_count": 23,
   "id": "a0660738",
   "metadata": {},
   "outputs": [
    {
     "name": "stdout",
     "output_type": "stream",
     "text": [
      "Accuracy Score : 0.7948\n",
      "=======================\n",
      "\n",
      "Precision Score : 0.7804\n",
      "========================\n",
      "\n",
      "Recall Score : 0.7948\n",
      "=====================\n",
      "\n",
      "F1 Score : 0.7650\n",
      "=================\n",
      "\n"
     ]
    }
   ],
   "source": [
    "# model predictions\n",
    "y_pred = eclf.predict(X_test)\n",
    "# evaluate results\n",
    "Acc, P, R, F = make_predictions(y_test, y_pred)\n",
    "evalution_scores.append([\"customize 2\", Acc, P, R, F])"
   ]
  },
  {
   "cell_type": "code",
   "execution_count": 24,
   "id": "a80f5530",
   "metadata": {},
   "outputs": [
    {
     "data": {
      "text/html": [
       "<div>\n",
       "<style scoped>\n",
       "    .dataframe tbody tr th:only-of-type {\n",
       "        vertical-align: middle;\n",
       "    }\n",
       "\n",
       "    .dataframe tbody tr th {\n",
       "        vertical-align: top;\n",
       "    }\n",
       "\n",
       "    .dataframe thead th {\n",
       "        text-align: right;\n",
       "    }\n",
       "</style>\n",
       "<table border=\"1\" class=\"dataframe\">\n",
       "  <thead>\n",
       "    <tr style=\"text-align: right;\">\n",
       "      <th></th>\n",
       "      <th>Model</th>\n",
       "      <th>Accuracy</th>\n",
       "      <th>Precision</th>\n",
       "      <th>Recall</th>\n",
       "      <th>F1 Score</th>\n",
       "    </tr>\n",
       "  </thead>\n",
       "  <tbody>\n",
       "    <tr>\n",
       "      <th>0</th>\n",
       "      <td>Random Forest</td>\n",
       "      <td>0.7923</td>\n",
       "      <td>0.7989</td>\n",
       "      <td>0.7923</td>\n",
       "      <td>0.7674</td>\n",
       "    </tr>\n",
       "    <tr>\n",
       "      <th>1</th>\n",
       "      <td>XG Boost</td>\n",
       "      <td>0.7825</td>\n",
       "      <td>0.7832</td>\n",
       "      <td>0.7825</td>\n",
       "      <td>0.7527</td>\n",
       "    </tr>\n",
       "    <tr>\n",
       "      <th>2</th>\n",
       "      <td>SVM</td>\n",
       "      <td>0.6721</td>\n",
       "      <td>0.6194</td>\n",
       "      <td>0.6721</td>\n",
       "      <td>0.6237</td>\n",
       "    </tr>\n",
       "    <tr>\n",
       "      <th>3</th>\n",
       "      <td>KNN</td>\n",
       "      <td>0.7564</td>\n",
       "      <td>0.7699</td>\n",
       "      <td>0.7564</td>\n",
       "      <td>0.7422</td>\n",
       "    </tr>\n",
       "    <tr>\n",
       "      <th>4</th>\n",
       "      <td>customize 1</td>\n",
       "      <td>0.7939</td>\n",
       "      <td>0.7851</td>\n",
       "      <td>0.7939</td>\n",
       "      <td>0.7695</td>\n",
       "    </tr>\n",
       "    <tr>\n",
       "      <th>5</th>\n",
       "      <td>customize 2</td>\n",
       "      <td>0.7948</td>\n",
       "      <td>0.7804</td>\n",
       "      <td>0.7948</td>\n",
       "      <td>0.7650</td>\n",
       "    </tr>\n",
       "  </tbody>\n",
       "</table>\n",
       "</div>"
      ],
      "text/plain": [
       "           Model Accuracy Precision  Recall F1 Score\n",
       "0  Random Forest   0.7923    0.7989  0.7923   0.7674\n",
       "1       XG Boost   0.7825    0.7832  0.7825   0.7527\n",
       "2            SVM   0.6721    0.6194  0.6721   0.6237\n",
       "3            KNN   0.7564    0.7699  0.7564   0.7422\n",
       "4    customize 1   0.7939    0.7851  0.7939   0.7695\n",
       "5    customize 2   0.7948    0.7804  0.7948   0.7650"
      ]
     },
     "execution_count": 24,
     "metadata": {},
     "output_type": "execute_result"
    }
   ],
   "source": [
    "evaluation_df = pd.DataFrame(evalution_scores, columns=['Model', 'Accuracy', 'Precision', 'Recall', 'F1 Score'])\n",
    "evaluation_df"
   ]
  },
  {
   "cell_type": "markdown",
   "id": "74bf0ef9",
   "metadata": {},
   "source": [
    "## predict 4 Best Service Providers"
   ]
  },
  {
   "cell_type": "code",
   "execution_count": null,
   "id": "ed62f111",
   "metadata": {},
   "outputs": [],
   "source": [
    "# load and return dictionary of label encoders\n",
    "def get_label_encoders():\n",
    "    columns = [\"Category of Trade\", \"Volume Type\",\n",
    "               \"Load Port\", \"Discharge Port\", \"Dangerous Goods\"]\n",
    "\n",
    "    le_dict = open(\"le_dict.pickle\",'rb')\n",
    "    le_dict = pickle.load(le_dict)\n",
    "    \n",
    "    le_target = open(\"target_encoder.pkl\",'rb')\n",
    "    le_target = pickle.load(le_target)\n",
    "    return le_dict, le_target, columns\n",
    "\n",
    "# convert the integral value of class into its label\n",
    "def tranform_label(le_dict, le_dict_name, val):\n",
    "    return le_dict[le_dict_name].transform([val])[0]\n",
    "\n",
    "# display the best four service providers on screen\n",
    "def display_output(le_target, indices):\n",
    "    print(\"\\nName of theBest 4 Service Providers :\")\n",
    "    print(\"====================================\\n\")\n",
    "    for idx, indice in enumerate(indices):\n",
    "        SP = le_target.inverse_transform([indice])\n",
    "        print(idx, \"--> \", SP[0], \"\\n\")\n",
    "    print(\"\\n\")"
   ]
  },
  {
   "cell_type": "code",
   "execution_count": null,
   "id": "9b4dfa49",
   "metadata": {},
   "outputs": [],
   "source": [
    "# sample \n",
    "feature_list = [\"Petroleum\", \"MT\", \"Geelong\", \"Kwinana\", \"No\"]\n",
    "\n",
    "# list for appending encoded values of sample\n",
    "le_features = []\n",
    "# get label encoders dictionary\n",
    "le_dict, le_target, columns = get_label_encoders()\n",
    "\n",
    "# convert string value into numerical bvalues using label encoders\n",
    "for idx, val in enumerate(feature_list):\n",
    "    le_dict_name = columns[idx]\n",
    "    value = tranform_label(le_dict, le_dict_name, val) if le_dict_name in le_dict else int(val)\n",
    "    le_features.append(value)\n",
    "\n",
    "noramilzed_features = ss.transform(np.array(le_features).reshape(1, -1)) #normalized values\n",
    "result = eclf.predict_proba(noramilzed_features) # predict normalized sample using trained model"
   ]
  },
  {
   "cell_type": "code",
   "execution_count": null,
   "id": "9255d340",
   "metadata": {},
   "outputs": [],
   "source": [
    "print(\"\\nprobability of all Classes\")\n",
    "print(\"==========================\\n\")\n",
    "print(result[0])"
   ]
  },
  {
   "cell_type": "code",
   "execution_count": null,
   "id": "518262ea",
   "metadata": {},
   "outputs": [],
   "source": [
    "print(\"\\nprobability of all Classes in sorting order\")\n",
    "print(\"===========================================\\n\")\n",
    "print((-result[0]).argsort())"
   ]
  },
  {
   "cell_type": "code",
   "execution_count": null,
   "id": "672f6431",
   "metadata": {},
   "outputs": [],
   "source": [
    "# select the first four indices\n",
    "n = 4\n",
    "indices = (-result[0]).argsort()[:n]\n",
    "print(indices)"
   ]
  },
  {
   "cell_type": "code",
   "execution_count": null,
   "id": "2fd5b79c",
   "metadata": {},
   "outputs": [],
   "source": [
    "# convert the class integar into its label value using Label Encoder\n",
    "display_output(le_target, indices)"
   ]
  },
  {
   "cell_type": "code",
   "execution_count": null,
   "id": "1be41d83",
   "metadata": {},
   "outputs": [],
   "source": []
  }
 ],
 "metadata": {
  "kernelspec": {
   "display_name": "Python 3 (ipykernel)",
   "language": "python",
   "name": "python3"
  },
  "language_info": {
   "codemirror_mode": {
    "name": "ipython",
    "version": 3
   },
   "file_extension": ".py",
   "mimetype": "text/x-python",
   "name": "python",
   "nbconvert_exporter": "python",
   "pygments_lexer": "ipython3",
   "version": "3.9.7"
  }
 },
 "nbformat": 4,
 "nbformat_minor": 5
}
