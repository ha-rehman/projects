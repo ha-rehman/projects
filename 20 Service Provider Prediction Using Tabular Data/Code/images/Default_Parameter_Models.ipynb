{
 "cells": [
  {
   "cell_type": "code",
   "execution_count": 1,
   "metadata": {
    "colab": {
     "base_uri": "https://localhost:8080/"
    },
    "id": "1zDzw-yavZXQ",
    "outputId": "6fc42e8b-7064-426f-bd46-278f0d73502c"
   },
   "outputs": [
    {
     "name": "stdout",
     "output_type": "stream",
     "text": [
      "Requirement already satisfied: tab2img in c:\\users\\abdul\\.conda\\envs\\tf2x\\lib\\site-packages (0.0.2)\n"
     ]
    }
   ],
   "source": [
    "!pip install tab2img"
   ]
  },
  {
   "cell_type": "code",
   "execution_count": 2,
   "metadata": {
    "id": "c8Be4ftoyZSx"
   },
   "outputs": [],
   "source": [
    "import warnings\n",
    "warnings.filterwarnings('ignore')\n",
    "\n",
    "import pickle\n",
    "import numpy as np\n",
    "import pandas as pd\n",
    "import matplotlib.pyplot as plt\n",
    "from statistics import mean\n",
    "\n",
    "from sklearn.preprocessing import StandardScaler\n",
    "from sklearn.model_selection import train_test_split\n",
    "from sklearn.metrics import accuracy_score, balanced_accuracy_score\n",
    "from sklearn.metrics import classification_report\n",
    "from sklearn.metrics import precision_recall_fscore_support\n",
    "\n",
    "from sklearn.ensemble import RandomForestClassifier, AdaBoostClassifier, GradientBoostingClassifier\n",
    "\n",
    "import tensorflow as tf\n",
    "from tensorflow.keras.models import Sequential \n",
    "from tensorflow.keras.layers import Dense,Activation,Dropout \n",
    "from tensorflow.keras.layers import BatchNormalization \n",
    "from tensorflow.keras.utils import to_categorical\n",
    "\n",
    "from tab2img.converter import Tab2Img"
   ]
  },
  {
   "cell_type": "code",
   "execution_count": 5,
   "metadata": {
    "colab": {
     "base_uri": "https://localhost:8080/"
    },
    "id": "JL96H8LB0RPG",
    "outputId": "4868f3f4-52c2-48a1-b2c3-3946341ffc4a"
   },
   "outputs": [],
   "source": [
    "# from google.colab import drive\n",
    "# drive.mount('/content/drive')"
   ]
  },
  {
   "cell_type": "markdown",
   "metadata": {
    "id": "0U7Yftkxz4-A"
   },
   "source": [
    "### **Read CSV files**"
   ]
  },
  {
   "cell_type": "code",
   "execution_count": 7,
   "metadata": {
    "colab": {
     "base_uri": "https://localhost:8080/",
     "height": 206
    },
    "id": "A47tv8Bu0S1s",
    "outputId": "09d3b93d-9b3c-4e3c-9859-635cc604b95e"
   },
   "outputs": [
    {
     "data": {
      "text/html": [
       "<div>\n",
       "<style scoped>\n",
       "    .dataframe tbody tr th:only-of-type {\n",
       "        vertical-align: middle;\n",
       "    }\n",
       "\n",
       "    .dataframe tbody tr th {\n",
       "        vertical-align: top;\n",
       "    }\n",
       "\n",
       "    .dataframe thead th {\n",
       "        text-align: right;\n",
       "    }\n",
       "</style>\n",
       "<table border=\"1\" class=\"dataframe\">\n",
       "  <thead>\n",
       "    <tr style=\"text-align: right;\">\n",
       "      <th></th>\n",
       "      <th>Category of Trade</th>\n",
       "      <th>Volume/ Amount</th>\n",
       "      <th>Volume Type</th>\n",
       "      <th>Load Port</th>\n",
       "      <th>Discharge Port</th>\n",
       "      <th>Dangerous Goods</th>\n",
       "      <th>Organisation</th>\n",
       "    </tr>\n",
       "  </thead>\n",
       "  <tbody>\n",
       "    <tr>\n",
       "      <th>0</th>\n",
       "      <td>7</td>\n",
       "      <td>26,726</td>\n",
       "      <td>1</td>\n",
       "      <td>27</td>\n",
       "      <td>34</td>\n",
       "      <td>2</td>\n",
       "      <td>73</td>\n",
       "    </tr>\n",
       "    <tr>\n",
       "      <th>1</th>\n",
       "      <td>5</td>\n",
       "      <td>2,600</td>\n",
       "      <td>1</td>\n",
       "      <td>44</td>\n",
       "      <td>54</td>\n",
       "      <td>2</td>\n",
       "      <td>69</td>\n",
       "    </tr>\n",
       "    <tr>\n",
       "      <th>2</th>\n",
       "      <td>7</td>\n",
       "      <td>10,710</td>\n",
       "      <td>1</td>\n",
       "      <td>8</td>\n",
       "      <td>0</td>\n",
       "      <td>2</td>\n",
       "      <td>12</td>\n",
       "    </tr>\n",
       "    <tr>\n",
       "      <th>3</th>\n",
       "      <td>7</td>\n",
       "      <td>21,611</td>\n",
       "      <td>1</td>\n",
       "      <td>8</td>\n",
       "      <td>40</td>\n",
       "      <td>2</td>\n",
       "      <td>12</td>\n",
       "    </tr>\n",
       "    <tr>\n",
       "      <th>4</th>\n",
       "      <td>7</td>\n",
       "      <td>5,139</td>\n",
       "      <td>1</td>\n",
       "      <td>6</td>\n",
       "      <td>0</td>\n",
       "      <td>2</td>\n",
       "      <td>12</td>\n",
       "    </tr>\n",
       "  </tbody>\n",
       "</table>\n",
       "</div>"
      ],
      "text/plain": [
       "   Category of Trade Volume/ Amount  Volume Type  Load Port  Discharge Port  \\\n",
       "0                  7         26,726            1         27              34   \n",
       "1                  5          2,600            1         44              54   \n",
       "2                  7         10,710            1          8               0   \n",
       "3                  7         21,611            1          8              40   \n",
       "4                  7          5,139            1          6               0   \n",
       "\n",
       "   Dangerous Goods  Organisation  \n",
       "0                2            73  \n",
       "1                2            69  \n",
       "2                2            12  \n",
       "3                2            12  \n",
       "4                2            12  "
      ]
     },
     "execution_count": 7,
     "metadata": {},
     "output_type": "execute_result"
    }
   ],
   "source": [
    "df = pd.read_csv(\"dataset.csv\")\n",
    "df.head()"
   ]
  },
  {
   "cell_type": "markdown",
   "metadata": {
    "id": "-35wODo70wlu"
   },
   "source": [
    "# **Seperate features and target**"
   ]
  },
  {
   "cell_type": "code",
   "execution_count": 8,
   "metadata": {
    "id": "Z37KSPMV04Zt"
   },
   "outputs": [],
   "source": [
    "# seperate features and target column\n",
    "features = [\"Category of Trade\", \"Volume Type\", \"Load Port\", \"Discharge Port\", \"Dangerous Goods\"]\n",
    "target = \"Organisation\"\n",
    "\n",
    "# copy the feqatures and class dataframe in X and y variable\n",
    "X = df[features]\n",
    "y = df[target]"
   ]
  },
  {
   "cell_type": "markdown",
   "metadata": {
    "id": "poZd_s7z1MLN"
   },
   "source": [
    "# **Scale features and train test split**"
   ]
  },
  {
   "cell_type": "code",
   "execution_count": 9,
   "metadata": {
    "id": "eQXlIIJt1Pwb"
   },
   "outputs": [],
   "source": [
    "# scalling feature value between the range of 0-1\n",
    "ss = StandardScaler()\n",
    "X = ss.fit_transform(X)"
   ]
  },
  {
   "cell_type": "markdown",
   "metadata": {
    "id": "lvJuLEOP1WTN"
   },
   "source": [
    "# **customize functions**"
   ]
  },
  {
   "cell_type": "code",
   "execution_count": 22,
   "metadata": {
    "id": "6bwDTHFb1qy-"
   },
   "outputs": [],
   "source": [
    "#list of evaluation scores\n",
    "evalution_scores = []\n",
    "\n",
    "# save saller\n",
    "pkl_file = open('target_encoder.pkl', 'rb')\n",
    "le_target = pickle.load(pkl_file) \n",
    "\n",
    "# function for getting class labels via class integar using label encoder\n",
    "def get_classes(y_test):\n",
    "    y_test = y_test.unique()\n",
    "    print(len(y_test))\n",
    "    return le_target.inverse_transform(y_test)\n",
    "\n",
    "# get unique classes in test set\n",
    "def get_str_classes(y_test):\n",
    "    y_test = y_test.unique()\n",
    "    return [str(int) for int in y_test]\n",
    "\n",
    "# split dataset in training and testing set \n",
    "def get_train_test_split():\n",
    "    return train_test_split(X, y, test_size=0.2, random_state=42)\n",
    "\n",
    "\n",
    "# split data into train, test and validation set with splitted feature and class\n",
    "def get_train_test_val_split(X, y):\n",
    "    X_train, X_test, y_train, y_test = train_test_split(X, y, test_size=0.1, random_state=42)\n",
    "    X_train, X_val, y_train, y_val = train_test_split(X_train, y_train, test_size=0.22, random_state=2)\n",
    "    return X_train, X_test, X_val, y_train, y_test, y_val\n",
    "\n",
    "# split data into train, test and validation set with joined feature and class\n",
    "def get_train_test_val_split_df():\n",
    "    train, test = train_test_split(df, test_size=0.2, random_state=42)\n",
    "    train, val = train_test_split(train, test_size=0.25, random_state=2)\n",
    "    return train, test, val\n",
    "\n",
    "\n",
    "# compute the accuracy using true and predicted labels\n",
    "def compute_accuracy(y_true, y_pred):\n",
    "    correct_predictions = 0\n",
    "    # iterate over each label and check\n",
    "    for true, predicted in zip(y_true, y_pred):\n",
    "        if true == predicted:\n",
    "            correct_predictions += 1\n",
    "    # compute the accuracy\n",
    "    accuracy = correct_predictions/len(y_true)\n",
    "    return accuracy\n",
    "\n",
    "\n",
    "# compute other evaluation measures and print\n",
    "def make_predictions(y_test, y_pred):\n",
    "    accuracy=accuracy_score(y_test, y_pred)\n",
    "    P, R, F, S = precision_recall_fscore_support(y_test, y_pred, average=\"weighted\")\n",
    "    \n",
    "    accuracy = \"{:.4f}\".format(accuracy)\n",
    "    P = \"{:.4f}\".format(P)\n",
    "    R = \"{:.4f}\".format(R)\n",
    "    F = \"{:.4f}\".format(F)\n",
    "\n",
    "    print(\"Accuracy Score :\", accuracy)\n",
    "    print(\"=======================\\n\")\n",
    "\n",
    "    print(\"Precision Score :\", P)\n",
    "    print(\"========================\\n\")\n",
    "\n",
    "    print(\"Recall Score :\", R)\n",
    "    print(\"=====================\\n\")\n",
    "\n",
    "    print(\"F1 Score :\", F)\n",
    "    print(\"=================\\n\")\n",
    "\n",
    "    return accuracy, P, R, F\n",
    "\n",
    "\n",
    "def DL_preprocessing(train, target):\n",
    "    target = target.to_numpy()\n",
    "    model = Tab2Img()\n",
    "    images = model.fit_transform(train, target)\n",
    "    \n",
    "    size = (200, 200)\n",
    "    reshaped_images = []\n",
    "    for img in images:\n",
    "        img = np.resize(img, (img.shape[0], img.shape[1], 3))\n",
    "        reshaped_images.append(tf.keras.preprocessing.image.smart_resize(\n",
    "            img, size, interpolation='bilinear'\n",
    "        ))\n",
    "    reshaped_images = np.array(reshaped_images)\n",
    "    target = tf.keras.utils.to_categorical(target, 81)\n",
    "    return reshaped_images, target\n",
    "\n",
    "\n",
    "def plot_graph(history):\n",
    "    print(history.history.keys())\n",
    "    # summarize history for accuracy\n",
    "    plt.plot(history.history['accuracy'])\n",
    "    plt.plot(history.history['val_accuracy'])\n",
    "    plt.title('model accuracy')\n",
    "    plt.ylabel('accuracy')\n",
    "    plt.xlabel('epoch')\n",
    "    plt.legend(['train', 'test'], loc='upper left')\n",
    "    plt.show()\n",
    "    # summarize history for loss\n",
    "    plt.plot(history.history['loss'])\n",
    "    plt.plot(history.history['val_loss'])\n",
    "    plt.title('model loss')\n",
    "    plt.ylabel('loss')\n",
    "    plt.xlabel('epoch')\n",
    "    plt.legend(['train', 'test'], loc='upper left')\n",
    "    plt.show()"
   ]
  },
  {
   "cell_type": "markdown",
   "metadata": {
    "id": "_bhKGnBi1pk9"
   },
   "source": [
    "# **Machine Learning Models**\n",
    "## **Random Forest**"
   ]
  },
  {
   "cell_type": "code",
   "execution_count": 11,
   "metadata": {
    "colab": {
     "base_uri": "https://localhost:8080/"
    },
    "id": "wdcgSNrM2jtl",
    "outputId": "ae3d4727-0dc9-4b2f-9f62-8967610fcfa3"
   },
   "outputs": [
    {
     "name": "stdout",
     "output_type": "stream",
     "text": [
      "\n",
      "shape of training features : (17271, 5)\n",
      "=======================================\n",
      "\n",
      " shape of training labels : (17271,)\n",
      "====================================\n",
      "\n",
      " shape of testing features : (4318, 5)\n",
      "======================================\n",
      "\n",
      " shape of testing labels : (4318,)\n",
      "==================================\n"
     ]
    }
   ],
   "source": [
    "X_train, X_test, y_train, y_test = get_train_test_split()\n",
    "print(\"\\nshape of training features :\", X_train.shape)\n",
    "print(\"=======================================\")\n",
    "print(\"\\n shape of training labels :\", y_train.shape)\n",
    "print(\"====================================\")\n",
    "print(\"\\n shape of testing features :\", X_test.shape)\n",
    "print(\"======================================\")\n",
    "print(\"\\n shape of testing labels :\", y_test.shape)\n",
    "print(\"==================================\")"
   ]
  },
  {
   "cell_type": "code",
   "execution_count": 12,
   "metadata": {
    "id": "5et_l5l73s10"
   },
   "outputs": [],
   "source": [
    "# model initialization\n",
    "clf = RandomForestClassifier(n_estimators=10)\n",
    "# model training\n",
    "clf = clf.fit(X_train, y_train)"
   ]
  },
  {
   "cell_type": "code",
   "execution_count": 13,
   "metadata": {
    "colab": {
     "base_uri": "https://localhost:8080/"
    },
    "id": "3_oxcj6B4MLb",
    "outputId": "f2bb6672-d7a8-401b-aae7-10031831ca43"
   },
   "outputs": [
    {
     "name": "stdout",
     "output_type": "stream",
     "text": [
      "Accuracy Score : 0.7909\n",
      "=======================\n",
      "\n",
      "Precision Score : 0.7942\n",
      "========================\n",
      "\n",
      "Recall Score : 0.7909\n",
      "=====================\n",
      "\n",
      "F1 Score : 0.7639\n",
      "=================\n",
      "\n"
     ]
    }
   ],
   "source": [
    "# model predictions\n",
    "y_pred = clf.predict(X_test)\n",
    "# evaluate results\n",
    "Acc, P, R, F = make_predictions(y_test, y_pred)\n",
    "evalution_scores.append([\"Random Forest\", Acc, P, R, F])"
   ]
  },
  {
   "cell_type": "markdown",
   "metadata": {
    "id": "geXgfipM1poN"
   },
   "source": [
    "# **Gradient Boosting**"
   ]
  },
  {
   "cell_type": "code",
   "execution_count": 14,
   "metadata": {
    "colab": {
     "base_uri": "https://localhost:8080/"
    },
    "id": "0ue0AYMA4NGa",
    "outputId": "0fb69885-a4bf-452b-c0cc-00004fba3c49"
   },
   "outputs": [
    {
     "name": "stdout",
     "output_type": "stream",
     "text": [
      "\n",
      "shape of training features : (17271, 5)\n",
      "=======================================\n",
      "\n",
      " shape of training labels : (17271,)\n",
      "====================================\n",
      "\n",
      " shape of testing features : (4318, 5)\n",
      "======================================\n",
      "\n",
      " shape of testing labels : (4318,)\n",
      "==================================\n"
     ]
    }
   ],
   "source": [
    "X_train, X_test, y_train, y_test = get_train_test_split()\n",
    "print(\"\\nshape of training features :\", X_train.shape)\n",
    "print(\"=======================================\")\n",
    "print(\"\\n shape of training labels :\", y_train.shape)\n",
    "print(\"====================================\")\n",
    "print(\"\\n shape of testing features :\", X_test.shape)\n",
    "print(\"======================================\")\n",
    "print(\"\\n shape of testing labels :\", y_test.shape)\n",
    "print(\"==================================\")"
   ]
  },
  {
   "cell_type": "code",
   "execution_count": 15,
   "metadata": {
    "id": "8TIikCKa7Coy"
   },
   "outputs": [],
   "source": [
    "# model predictions\n",
    "clf =  GradientBoostingClassifier(n_estimators=10)\n",
    "# model training\n",
    "clf = clf.fit(X_train, y_train)"
   ]
  },
  {
   "cell_type": "code",
   "execution_count": 16,
   "metadata": {
    "colab": {
     "base_uri": "https://localhost:8080/"
    },
    "id": "bQpSpdy87Cl_",
    "outputId": "0aefbe33-9902-4119-8ad2-336eb8a0270b"
   },
   "outputs": [
    {
     "name": "stdout",
     "output_type": "stream",
     "text": [
      "Accuracy Score : 0.6971\n",
      "=======================\n",
      "\n",
      "Precision Score : 0.7046\n",
      "========================\n",
      "\n",
      "Recall Score : 0.6971\n",
      "=====================\n",
      "\n",
      "F1 Score : 0.6725\n",
      "=================\n",
      "\n"
     ]
    }
   ],
   "source": [
    "# model predictions\n",
    "y_pred = clf.predict(X_test)\n",
    "# evaluate results\n",
    "Acc, P, R, F = make_predictions(y_test, y_pred)\n",
    "evalution_scores.append([\"Random Forest\", Acc, P, R, F])"
   ]
  },
  {
   "cell_type": "markdown",
   "metadata": {
    "id": "zC0VhwJ41WgM"
   },
   "source": [
    "# **DL Models**\n",
    "## **Preprocessing**"
   ]
  },
  {
   "cell_type": "code",
   "execution_count": 17,
   "metadata": {
    "id": "l3DTaj9T7p9n"
   },
   "outputs": [],
   "source": [
    "train, target = DL_preprocessing(X, y)"
   ]
  },
  {
   "cell_type": "code",
   "execution_count": 27,
   "metadata": {},
   "outputs": [],
   "source": [
    "np.save('data.npy', train) # save\n",
    "np.save('target.npy', target) # save"
   ]
  },
  {
   "cell_type": "code",
   "execution_count": 29,
   "metadata": {},
   "outputs": [
    {
     "ename": "TypeError",
     "evalue": "load() got an unexpected keyword argument 'dtype'",
     "output_type": "error",
     "traceback": [
      "\u001b[1;31m---------------------------------------------------------------------------\u001b[0m",
      "\u001b[1;31mTypeError\u001b[0m                                 Traceback (most recent call last)",
      "\u001b[1;32m~\\AppData\\Local\\Temp/ipykernel_19684/2151397228.py\u001b[0m in \u001b[0;36m<module>\u001b[1;34m\u001b[0m\n\u001b[1;32m----> 1\u001b[1;33m \u001b[0mtrain\u001b[0m \u001b[1;33m=\u001b[0m \u001b[0mnp\u001b[0m\u001b[1;33m.\u001b[0m\u001b[0mload\u001b[0m\u001b[1;33m(\u001b[0m\u001b[1;34m'data.npy'\u001b[0m\u001b[1;33m,\u001b[0m \u001b[0mdtype\u001b[0m\u001b[1;33m=\u001b[0m\u001b[1;34m'uint8'\u001b[0m\u001b[1;33m)\u001b[0m\u001b[1;33m\u001b[0m\u001b[1;33m\u001b[0m\u001b[0m\n\u001b[0m\u001b[0;32m      2\u001b[0m \u001b[0mtarget\u001b[0m \u001b[1;33m=\u001b[0m \u001b[0mnp\u001b[0m\u001b[1;33m.\u001b[0m\u001b[0mload\u001b[0m\u001b[1;33m(\u001b[0m\u001b[1;34m'target.npy'\u001b[0m\u001b[1;33m,\u001b[0m \u001b[0mdtype\u001b[0m\u001b[1;33m=\u001b[0m\u001b[1;34m'uint8'\u001b[0m\u001b[1;33m)\u001b[0m \u001b[1;31m# load\u001b[0m\u001b[1;33m\u001b[0m\u001b[1;33m\u001b[0m\u001b[0m\n",
      "\u001b[1;31mTypeError\u001b[0m: load() got an unexpected keyword argument 'dtype'"
     ]
    }
   ],
   "source": [
    "train = np.load('data.npy', dtype='uint8')\n",
    "target = np.load('target.npy', dtype='uint8') # load"
   ]
  },
  {
   "cell_type": "markdown",
   "metadata": {
    "id": "yKIMcgF5-aoa"
   },
   "source": [
    "## **Resnet**"
   ]
  },
  {
   "cell_type": "code",
   "execution_count": 18,
   "metadata": {
    "id": "oYmNEqdY7qAv"
   },
   "outputs": [
    {
     "name": "stdout",
     "output_type": "stream",
     "text": [
      "\n",
      "shape of training features : (15155, 200, 200, 3)\n",
      "=======================================\n",
      "\n",
      " shape of training labels : (15155, 81)\n",
      "====================================\n",
      "\n",
      " shape of testing features : (2159, 200, 200, 3)\n",
      "======================================\n",
      "\n",
      " shape of testing labels : (2159, 81)\n",
      "==================================\n",
      "\n",
      " shape of validation features : (4275, 200, 200, 3)\n",
      "========================================\n",
      "\n",
      " shape of validation labels : (4275, 81)\n",
      "=====================================\n"
     ]
    }
   ],
   "source": [
    "X_train, X_test, X_val, y_train, y_test, y_val = get_train_test_val_split(train, target)\n",
    "print(\"\\nshape of training features :\", X_train.shape)\n",
    "print(\"=======================================\")\n",
    "print(\"\\n shape of training labels :\", y_train.shape)\n",
    "print(\"====================================\")\n",
    "print(\"\\n shape of testing features :\", X_test.shape)\n",
    "print(\"======================================\")\n",
    "print(\"\\n shape of testing labels :\", y_test.shape)\n",
    "print(\"==================================\")\n",
    "print(\"\\n shape of validation features :\", X_val.shape)\n",
    "print(\"========================================\")\n",
    "print(\"\\n shape of validation labels :\", y_val.shape)\n",
    "print(\"=====================================\")"
   ]
  },
  {
   "cell_type": "code",
   "execution_count": 19,
   "metadata": {
    "id": "jI2iWuYK7qDv"
   },
   "outputs": [],
   "source": [
    "# input shape configure\n",
    "input_t = tf.keras.Input(shape=(200, 200, 3))\n",
    "res_model = tf.keras.applications.ResNet50(include_top=False, \n",
    "                    weights=\"imagenet\", input_tensor=input_t)\n",
    "\n",
    "for layer in res_model.layers[:143]:\n",
    "    layer.trainable = False\n",
    "\n",
    "# to_res = (224, 224)\n",
    "model = tf.keras.models.Sequential()  \n",
    "model.add(res_model)\n",
    "model.add(tf.keras.layers.Flatten())\n",
    "model.add(tf.keras.layers.Dense(81, activation='softmax'))"
   ]
  },
  {
   "cell_type": "code",
   "execution_count": 24,
   "metadata": {
    "id": "rmzFEFUE1WjN"
   },
   "outputs": [
    {
     "name": "stdout",
     "output_type": "stream",
     "text": [
      "Epoch 1/10\n",
      "60/60 [==============================] - ETA: 0s - loss: 2.7872 - accuracy: 0.3479 WARNING:tensorflow:Can save best model only with val_acc   available, skipping.\n",
      "60/60 [==============================] - 1318s 22s/step - loss: 2.7872 - accuracy: 0.3479 - val_loss: 4.3243 - val_accuracy: 0.0154\n",
      "Epoch 2/10\n",
      "60/60 [==============================] - ETA: 0s - loss: 1.8180 - accuracy: 0.4829   WARNING:tensorflow:Can save best model only with val_acc   available, skipping.\n",
      "60/60 [==============================] - 56740s 946s/step - loss: 1.8180 - accuracy: 0.4829 - val_loss: 4.1849 - val_accuracy: 0.0283\n",
      "Epoch 3/10\n",
      "60/60 [==============================] - ETA: 0s - loss: 1.5040 - accuracy: 0.5444 WARNING:tensorflow:Can save best model only with val_acc   available, skipping.\n",
      "60/60 [==============================] - 1337s 22s/step - loss: 1.5040 - accuracy: 0.5444 - val_loss: 3.7500 - val_accuracy: 0.0611\n",
      "Epoch 4/10\n",
      "60/60 [==============================] - ETA: 0s - loss: 1.3598 - accuracy: 0.5788 WARNING:tensorflow:Can save best model only with val_acc   available, skipping.\n",
      "60/60 [==============================] - 1321s 22s/step - loss: 1.3598 - accuracy: 0.5788 - val_loss: 3.1130 - val_accuracy: 0.1649\n",
      "Epoch 5/10\n",
      "60/60 [==============================] - ETA: 0s - loss: 1.2566 - accuracy: 0.6067 WARNING:tensorflow:Can save best model only with val_acc   available, skipping.\n",
      "60/60 [==============================] - 1352s 23s/step - loss: 1.2566 - accuracy: 0.6067 - val_loss: 2.3104 - val_accuracy: 0.3476\n",
      "Epoch 6/10\n",
      "60/60 [==============================] - ETA: 0s - loss: 1.1879 - accuracy: 0.6127 WARNING:tensorflow:Can save best model only with val_acc   available, skipping.\n",
      "60/60 [==============================] - 1331s 22s/step - loss: 1.1879 - accuracy: 0.6127 - val_loss: 2.1205 - val_accuracy: 0.3142\n",
      "Epoch 7/10\n",
      "60/60 [==============================] - ETA: 0s - loss: 1.1124 - accuracy: 0.6315 WARNING:tensorflow:Can save best model only with val_acc   available, skipping.\n",
      "60/60 [==============================] - 1383s 23s/step - loss: 1.1124 - accuracy: 0.6315 - val_loss: 1.6208 - val_accuracy: 0.5268\n",
      "Epoch 8/10\n",
      "60/60 [==============================] - ETA: 0s - loss: 1.0658 - accuracy: 0.6483 WARNING:tensorflow:Can save best model only with val_acc   available, skipping.\n",
      "60/60 [==============================] - 1406s 23s/step - loss: 1.0658 - accuracy: 0.6483 - val_loss: 2.8564 - val_accuracy: 0.2842\n",
      "Epoch 9/10\n",
      "28/60 [=============>................] - ETA: 10:47 - loss: 1.0522 - accuracy: 0.6497"
     ]
    },
    {
     "ename": "KeyboardInterrupt",
     "evalue": "",
     "output_type": "error",
     "traceback": [
      "\u001b[1;31m---------------------------------------------------------------------------\u001b[0m",
      "\u001b[1;31mKeyboardInterrupt\u001b[0m                         Traceback (most recent call last)",
      "\u001b[1;32m~\\AppData\\Local\\Temp/ipykernel_19684/514311099.py\u001b[0m in \u001b[0;36m<module>\u001b[1;34m\u001b[0m\n\u001b[0;32m     14\u001b[0m history = model.fit(X_train, y_train, batch_size=256, epochs=10, verbose=1,\n\u001b[0;32m     15\u001b[0m                 \u001b[0mvalidation_data\u001b[0m\u001b[1;33m=\u001b[0m\u001b[1;33m(\u001b[0m\u001b[0mX_val\u001b[0m\u001b[1;33m,\u001b[0m \u001b[0my_val\u001b[0m\u001b[1;33m)\u001b[0m\u001b[1;33m,\u001b[0m\u001b[1;33m\u001b[0m\u001b[1;33m\u001b[0m\u001b[0m\n\u001b[1;32m---> 16\u001b[1;33m                 callbacks=[check_point])\n\u001b[0m",
      "\u001b[1;32m~\\.conda\\envs\\tf2x\\lib\\site-packages\\tensorflow\\python\\keras\\engine\\training.py\u001b[0m in \u001b[0;36m_method_wrapper\u001b[1;34m(self, *args, **kwargs)\u001b[0m\n\u001b[0;32m    106\u001b[0m   \u001b[1;32mdef\u001b[0m \u001b[0m_method_wrapper\u001b[0m\u001b[1;33m(\u001b[0m\u001b[0mself\u001b[0m\u001b[1;33m,\u001b[0m \u001b[1;33m*\u001b[0m\u001b[0margs\u001b[0m\u001b[1;33m,\u001b[0m \u001b[1;33m**\u001b[0m\u001b[0mkwargs\u001b[0m\u001b[1;33m)\u001b[0m\u001b[1;33m:\u001b[0m\u001b[1;33m\u001b[0m\u001b[1;33m\u001b[0m\u001b[0m\n\u001b[0;32m    107\u001b[0m     \u001b[1;32mif\u001b[0m \u001b[1;32mnot\u001b[0m \u001b[0mself\u001b[0m\u001b[1;33m.\u001b[0m\u001b[0m_in_multi_worker_mode\u001b[0m\u001b[1;33m(\u001b[0m\u001b[1;33m)\u001b[0m\u001b[1;33m:\u001b[0m  \u001b[1;31m# pylint: disable=protected-access\u001b[0m\u001b[1;33m\u001b[0m\u001b[1;33m\u001b[0m\u001b[0m\n\u001b[1;32m--> 108\u001b[1;33m       \u001b[1;32mreturn\u001b[0m \u001b[0mmethod\u001b[0m\u001b[1;33m(\u001b[0m\u001b[0mself\u001b[0m\u001b[1;33m,\u001b[0m \u001b[1;33m*\u001b[0m\u001b[0margs\u001b[0m\u001b[1;33m,\u001b[0m \u001b[1;33m**\u001b[0m\u001b[0mkwargs\u001b[0m\u001b[1;33m)\u001b[0m\u001b[1;33m\u001b[0m\u001b[1;33m\u001b[0m\u001b[0m\n\u001b[0m\u001b[0;32m    109\u001b[0m \u001b[1;33m\u001b[0m\u001b[0m\n\u001b[0;32m    110\u001b[0m     \u001b[1;31m# Running inside `run_distribute_coordinator` already.\u001b[0m\u001b[1;33m\u001b[0m\u001b[1;33m\u001b[0m\u001b[1;33m\u001b[0m\u001b[0m\n",
      "\u001b[1;32m~\\.conda\\envs\\tf2x\\lib\\site-packages\\tensorflow\\python\\keras\\engine\\training.py\u001b[0m in \u001b[0;36mfit\u001b[1;34m(self, x, y, batch_size, epochs, verbose, callbacks, validation_split, validation_data, shuffle, class_weight, sample_weight, initial_epoch, steps_per_epoch, validation_steps, validation_batch_size, validation_freq, max_queue_size, workers, use_multiprocessing)\u001b[0m\n\u001b[0;32m   1096\u001b[0m                 batch_size=batch_size):\n\u001b[0;32m   1097\u001b[0m               \u001b[0mcallbacks\u001b[0m\u001b[1;33m.\u001b[0m\u001b[0mon_train_batch_begin\u001b[0m\u001b[1;33m(\u001b[0m\u001b[0mstep\u001b[0m\u001b[1;33m)\u001b[0m\u001b[1;33m\u001b[0m\u001b[1;33m\u001b[0m\u001b[0m\n\u001b[1;32m-> 1098\u001b[1;33m               \u001b[0mtmp_logs\u001b[0m \u001b[1;33m=\u001b[0m \u001b[0mtrain_function\u001b[0m\u001b[1;33m(\u001b[0m\u001b[0miterator\u001b[0m\u001b[1;33m)\u001b[0m\u001b[1;33m\u001b[0m\u001b[1;33m\u001b[0m\u001b[0m\n\u001b[0m\u001b[0;32m   1099\u001b[0m               \u001b[1;32mif\u001b[0m \u001b[0mdata_handler\u001b[0m\u001b[1;33m.\u001b[0m\u001b[0mshould_sync\u001b[0m\u001b[1;33m:\u001b[0m\u001b[1;33m\u001b[0m\u001b[1;33m\u001b[0m\u001b[0m\n\u001b[0;32m   1100\u001b[0m                 \u001b[0mcontext\u001b[0m\u001b[1;33m.\u001b[0m\u001b[0masync_wait\u001b[0m\u001b[1;33m(\u001b[0m\u001b[1;33m)\u001b[0m\u001b[1;33m\u001b[0m\u001b[1;33m\u001b[0m\u001b[0m\n",
      "\u001b[1;32m~\\.conda\\envs\\tf2x\\lib\\site-packages\\tensorflow\\python\\eager\\def_function.py\u001b[0m in \u001b[0;36m__call__\u001b[1;34m(self, *args, **kwds)\u001b[0m\n\u001b[0;32m    778\u001b[0m       \u001b[1;32melse\u001b[0m\u001b[1;33m:\u001b[0m\u001b[1;33m\u001b[0m\u001b[1;33m\u001b[0m\u001b[0m\n\u001b[0;32m    779\u001b[0m         \u001b[0mcompiler\u001b[0m \u001b[1;33m=\u001b[0m \u001b[1;34m\"nonXla\"\u001b[0m\u001b[1;33m\u001b[0m\u001b[1;33m\u001b[0m\u001b[0m\n\u001b[1;32m--> 780\u001b[1;33m         \u001b[0mresult\u001b[0m \u001b[1;33m=\u001b[0m \u001b[0mself\u001b[0m\u001b[1;33m.\u001b[0m\u001b[0m_call\u001b[0m\u001b[1;33m(\u001b[0m\u001b[1;33m*\u001b[0m\u001b[0margs\u001b[0m\u001b[1;33m,\u001b[0m \u001b[1;33m**\u001b[0m\u001b[0mkwds\u001b[0m\u001b[1;33m)\u001b[0m\u001b[1;33m\u001b[0m\u001b[1;33m\u001b[0m\u001b[0m\n\u001b[0m\u001b[0;32m    781\u001b[0m \u001b[1;33m\u001b[0m\u001b[0m\n\u001b[0;32m    782\u001b[0m       \u001b[0mnew_tracing_count\u001b[0m \u001b[1;33m=\u001b[0m \u001b[0mself\u001b[0m\u001b[1;33m.\u001b[0m\u001b[0m_get_tracing_count\u001b[0m\u001b[1;33m(\u001b[0m\u001b[1;33m)\u001b[0m\u001b[1;33m\u001b[0m\u001b[1;33m\u001b[0m\u001b[0m\n",
      "\u001b[1;32m~\\.conda\\envs\\tf2x\\lib\\site-packages\\tensorflow\\python\\eager\\def_function.py\u001b[0m in \u001b[0;36m_call\u001b[1;34m(self, *args, **kwds)\u001b[0m\n\u001b[0;32m    805\u001b[0m       \u001b[1;31m# In this case we have created variables on the first call, so we run the\u001b[0m\u001b[1;33m\u001b[0m\u001b[1;33m\u001b[0m\u001b[1;33m\u001b[0m\u001b[0m\n\u001b[0;32m    806\u001b[0m       \u001b[1;31m# defunned version which is guaranteed to never create variables.\u001b[0m\u001b[1;33m\u001b[0m\u001b[1;33m\u001b[0m\u001b[1;33m\u001b[0m\u001b[0m\n\u001b[1;32m--> 807\u001b[1;33m       \u001b[1;32mreturn\u001b[0m \u001b[0mself\u001b[0m\u001b[1;33m.\u001b[0m\u001b[0m_stateless_fn\u001b[0m\u001b[1;33m(\u001b[0m\u001b[1;33m*\u001b[0m\u001b[0margs\u001b[0m\u001b[1;33m,\u001b[0m \u001b[1;33m**\u001b[0m\u001b[0mkwds\u001b[0m\u001b[1;33m)\u001b[0m  \u001b[1;31m# pylint: disable=not-callable\u001b[0m\u001b[1;33m\u001b[0m\u001b[1;33m\u001b[0m\u001b[0m\n\u001b[0m\u001b[0;32m    808\u001b[0m     \u001b[1;32melif\u001b[0m \u001b[0mself\u001b[0m\u001b[1;33m.\u001b[0m\u001b[0m_stateful_fn\u001b[0m \u001b[1;32mis\u001b[0m \u001b[1;32mnot\u001b[0m \u001b[1;32mNone\u001b[0m\u001b[1;33m:\u001b[0m\u001b[1;33m\u001b[0m\u001b[1;33m\u001b[0m\u001b[0m\n\u001b[0;32m    809\u001b[0m       \u001b[1;31m# Release the lock early so that multiple threads can perform the call\u001b[0m\u001b[1;33m\u001b[0m\u001b[1;33m\u001b[0m\u001b[1;33m\u001b[0m\u001b[0m\n",
      "\u001b[1;32m~\\.conda\\envs\\tf2x\\lib\\site-packages\\tensorflow\\python\\eager\\function.py\u001b[0m in \u001b[0;36m__call__\u001b[1;34m(self, *args, **kwargs)\u001b[0m\n\u001b[0;32m   2827\u001b[0m     \u001b[1;32mwith\u001b[0m \u001b[0mself\u001b[0m\u001b[1;33m.\u001b[0m\u001b[0m_lock\u001b[0m\u001b[1;33m:\u001b[0m\u001b[1;33m\u001b[0m\u001b[1;33m\u001b[0m\u001b[0m\n\u001b[0;32m   2828\u001b[0m       \u001b[0mgraph_function\u001b[0m\u001b[1;33m,\u001b[0m \u001b[0margs\u001b[0m\u001b[1;33m,\u001b[0m \u001b[0mkwargs\u001b[0m \u001b[1;33m=\u001b[0m \u001b[0mself\u001b[0m\u001b[1;33m.\u001b[0m\u001b[0m_maybe_define_function\u001b[0m\u001b[1;33m(\u001b[0m\u001b[0margs\u001b[0m\u001b[1;33m,\u001b[0m \u001b[0mkwargs\u001b[0m\u001b[1;33m)\u001b[0m\u001b[1;33m\u001b[0m\u001b[1;33m\u001b[0m\u001b[0m\n\u001b[1;32m-> 2829\u001b[1;33m     \u001b[1;32mreturn\u001b[0m \u001b[0mgraph_function\u001b[0m\u001b[1;33m.\u001b[0m\u001b[0m_filtered_call\u001b[0m\u001b[1;33m(\u001b[0m\u001b[0margs\u001b[0m\u001b[1;33m,\u001b[0m \u001b[0mkwargs\u001b[0m\u001b[1;33m)\u001b[0m  \u001b[1;31m# pylint: disable=protected-access\u001b[0m\u001b[1;33m\u001b[0m\u001b[1;33m\u001b[0m\u001b[0m\n\u001b[0m\u001b[0;32m   2830\u001b[0m \u001b[1;33m\u001b[0m\u001b[0m\n\u001b[0;32m   2831\u001b[0m   \u001b[1;33m@\u001b[0m\u001b[0mproperty\u001b[0m\u001b[1;33m\u001b[0m\u001b[1;33m\u001b[0m\u001b[0m\n",
      "\u001b[1;32m~\\.conda\\envs\\tf2x\\lib\\site-packages\\tensorflow\\python\\eager\\function.py\u001b[0m in \u001b[0;36m_filtered_call\u001b[1;34m(self, args, kwargs, cancellation_manager)\u001b[0m\n\u001b[0;32m   1846\u001b[0m                            resource_variable_ops.BaseResourceVariable))],\n\u001b[0;32m   1847\u001b[0m         \u001b[0mcaptured_inputs\u001b[0m\u001b[1;33m=\u001b[0m\u001b[0mself\u001b[0m\u001b[1;33m.\u001b[0m\u001b[0mcaptured_inputs\u001b[0m\u001b[1;33m,\u001b[0m\u001b[1;33m\u001b[0m\u001b[1;33m\u001b[0m\u001b[0m\n\u001b[1;32m-> 1848\u001b[1;33m         cancellation_manager=cancellation_manager)\n\u001b[0m\u001b[0;32m   1849\u001b[0m \u001b[1;33m\u001b[0m\u001b[0m\n\u001b[0;32m   1850\u001b[0m   \u001b[1;32mdef\u001b[0m \u001b[0m_call_flat\u001b[0m\u001b[1;33m(\u001b[0m\u001b[0mself\u001b[0m\u001b[1;33m,\u001b[0m \u001b[0margs\u001b[0m\u001b[1;33m,\u001b[0m \u001b[0mcaptured_inputs\u001b[0m\u001b[1;33m,\u001b[0m \u001b[0mcancellation_manager\u001b[0m\u001b[1;33m=\u001b[0m\u001b[1;32mNone\u001b[0m\u001b[1;33m)\u001b[0m\u001b[1;33m:\u001b[0m\u001b[1;33m\u001b[0m\u001b[1;33m\u001b[0m\u001b[0m\n",
      "\u001b[1;32m~\\.conda\\envs\\tf2x\\lib\\site-packages\\tensorflow\\python\\eager\\function.py\u001b[0m in \u001b[0;36m_call_flat\u001b[1;34m(self, args, captured_inputs, cancellation_manager)\u001b[0m\n\u001b[0;32m   1922\u001b[0m       \u001b[1;31m# No tape is watching; skip to running the function.\u001b[0m\u001b[1;33m\u001b[0m\u001b[1;33m\u001b[0m\u001b[1;33m\u001b[0m\u001b[0m\n\u001b[0;32m   1923\u001b[0m       return self._build_call_outputs(self._inference_function.call(\n\u001b[1;32m-> 1924\u001b[1;33m           ctx, args, cancellation_manager=cancellation_manager))\n\u001b[0m\u001b[0;32m   1925\u001b[0m     forward_backward = self._select_forward_and_backward_functions(\n\u001b[0;32m   1926\u001b[0m         \u001b[0margs\u001b[0m\u001b[1;33m,\u001b[0m\u001b[1;33m\u001b[0m\u001b[1;33m\u001b[0m\u001b[0m\n",
      "\u001b[1;32m~\\.conda\\envs\\tf2x\\lib\\site-packages\\tensorflow\\python\\eager\\function.py\u001b[0m in \u001b[0;36mcall\u001b[1;34m(self, ctx, args, cancellation_manager)\u001b[0m\n\u001b[0;32m    548\u001b[0m               \u001b[0minputs\u001b[0m\u001b[1;33m=\u001b[0m\u001b[0margs\u001b[0m\u001b[1;33m,\u001b[0m\u001b[1;33m\u001b[0m\u001b[1;33m\u001b[0m\u001b[0m\n\u001b[0;32m    549\u001b[0m               \u001b[0mattrs\u001b[0m\u001b[1;33m=\u001b[0m\u001b[0mattrs\u001b[0m\u001b[1;33m,\u001b[0m\u001b[1;33m\u001b[0m\u001b[1;33m\u001b[0m\u001b[0m\n\u001b[1;32m--> 550\u001b[1;33m               ctx=ctx)\n\u001b[0m\u001b[0;32m    551\u001b[0m         \u001b[1;32melse\u001b[0m\u001b[1;33m:\u001b[0m\u001b[1;33m\u001b[0m\u001b[1;33m\u001b[0m\u001b[0m\n\u001b[0;32m    552\u001b[0m           outputs = execute.execute_with_cancellation(\n",
      "\u001b[1;32m~\\.conda\\envs\\tf2x\\lib\\site-packages\\tensorflow\\python\\eager\\execute.py\u001b[0m in \u001b[0;36mquick_execute\u001b[1;34m(op_name, num_outputs, inputs, attrs, ctx, name)\u001b[0m\n\u001b[0;32m     58\u001b[0m     \u001b[0mctx\u001b[0m\u001b[1;33m.\u001b[0m\u001b[0mensure_initialized\u001b[0m\u001b[1;33m(\u001b[0m\u001b[1;33m)\u001b[0m\u001b[1;33m\u001b[0m\u001b[1;33m\u001b[0m\u001b[0m\n\u001b[0;32m     59\u001b[0m     tensors = pywrap_tfe.TFE_Py_Execute(ctx._handle, device_name, op_name,\n\u001b[1;32m---> 60\u001b[1;33m                                         inputs, attrs, num_outputs)\n\u001b[0m\u001b[0;32m     61\u001b[0m   \u001b[1;32mexcept\u001b[0m \u001b[0mcore\u001b[0m\u001b[1;33m.\u001b[0m\u001b[0m_NotOkStatusException\u001b[0m \u001b[1;32mas\u001b[0m \u001b[0me\u001b[0m\u001b[1;33m:\u001b[0m\u001b[1;33m\u001b[0m\u001b[1;33m\u001b[0m\u001b[0m\n\u001b[0;32m     62\u001b[0m     \u001b[1;32mif\u001b[0m \u001b[0mname\u001b[0m \u001b[1;32mis\u001b[0m \u001b[1;32mnot\u001b[0m \u001b[1;32mNone\u001b[0m\u001b[1;33m:\u001b[0m\u001b[1;33m\u001b[0m\u001b[1;33m\u001b[0m\u001b[0m\n",
      "\u001b[1;31mKeyboardInterrupt\u001b[0m: "
     ]
    }
   ],
   "source": [
    "# early stopping\n",
    "check_point = tf.keras.callbacks.ModelCheckpoint(filepath=\"cifar10.h5\",\n",
    "                                          monitor=\"val_acc  \",\n",
    "                                          mode=\"max\",\n",
    "                                          save_best_only=True,\n",
    "                                          )\n",
    "\n",
    "# model compilation\n",
    "model.compile(loss='categorical_crossentropy',\n",
    "              optimizer= tf.keras.optimizers.RMSprop(lr=2e-5),\n",
    "              metrics=['accuracy'])\n",
    " \n",
    "# model training\n",
    "history = model.fit(X_train, y_train, batch_size=256, epochs=10, verbose=1,\n",
    "                validation_data=(X_val, y_val),\n",
    "                callbacks=[check_point])"
   ]
  },
  {
   "cell_type": "code",
   "execution_count": null,
   "metadata": {},
   "outputs": [],
   "source": [
    "print(model.summary())\n",
    "plot_graph(history)"
   ]
  }
 ],
 "metadata": {
  "colab": {
   "name": "Default Parameter Models.ipynb",
   "provenance": []
  },
  "kernelspec": {
   "display_name": "Python 3 (ipykernel)",
   "language": "python",
   "name": "python3"
  },
  "language_info": {
   "codemirror_mode": {
    "name": "ipython",
    "version": 3
   },
   "file_extension": ".py",
   "mimetype": "text/x-python",
   "name": "python",
   "nbconvert_exporter": "python",
   "pygments_lexer": "ipython3",
   "version": "3.7.11"
  }
 },
 "nbformat": 4,
 "nbformat_minor": 1
}
