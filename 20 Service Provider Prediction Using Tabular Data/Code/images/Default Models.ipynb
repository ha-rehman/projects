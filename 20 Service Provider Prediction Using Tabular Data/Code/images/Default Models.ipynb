{
 "cells": [
  {
   "cell_type": "code",
   "execution_count": 23,
   "id": "e712561c",
   "metadata": {},
   "outputs": [
    {
     "name": "stdout",
     "output_type": "stream",
     "text": [
      "2.3.0\n"
     ]
    }
   ],
   "source": [
    "!pip install tab2img"
   ]
  },
  {
   "cell_type": "markdown",
   "id": "c5d613a3",
   "metadata": {},
   "source": [
    "## import libraries"
   ]
  },
  {
   "cell_type": "code",
   "execution_count": 1,
   "id": "2067e91b",
   "metadata": {},
   "outputs": [],
   "source": [
    "import warnings\n",
    "warnings.filterwarnings('ignore')\n",
    "\n",
    "import pickle\n",
    "import numpy as np\n",
    "import pandas as pd\n",
    "import matplotlib.pyplot as plt\n",
    "from statistics import mean\n",
    "\n",
    "from sklearn.preprocessing import StandardScaler\n",
    "from sklearn.model_selection import train_test_split\n",
    "from sklearn.metrics import accuracy_score, balanced_accuracy_score\n",
    "from sklearn.metrics import classification_report\n",
    "from sklearn.metrics import precision_recall_fscore_support\n",
    "\n",
    "from sklearn.ensemble import RandomForestClassifier, AdaBoostClassifier, GradientBoostingClassifier\n",
    "\n",
    "import tensorflow as tf\n",
    "from tensorflow.keras.models import Sequential \n",
    "from tensorflow.keras.layers import Dense,Activation,Dropout \n",
    "from tensorflow.keras.layers import BatchNormalization \n",
    "from tensorflow.keras.utils import to_categorical\n",
    "\n",
    "from tab2img.converter import Tab2Img"
   ]
  },
  {
   "cell_type": "markdown",
   "id": "eaccd884",
   "metadata": {},
   "source": [
    "# **Read CSV files**"
   ]
  },
  {
   "cell_type": "code",
   "execution_count": 2,
   "id": "f8cee4fc",
   "metadata": {},
   "outputs": [
    {
     "data": {
      "text/html": [
       "<div>\n",
       "<style scoped>\n",
       "    .dataframe tbody tr th:only-of-type {\n",
       "        vertical-align: middle;\n",
       "    }\n",
       "\n",
       "    .dataframe tbody tr th {\n",
       "        vertical-align: top;\n",
       "    }\n",
       "\n",
       "    .dataframe thead th {\n",
       "        text-align: right;\n",
       "    }\n",
       "</style>\n",
       "<table border=\"1\" class=\"dataframe\">\n",
       "  <thead>\n",
       "    <tr style=\"text-align: right;\">\n",
       "      <th></th>\n",
       "      <th>Category of Trade</th>\n",
       "      <th>Volume/ Amount</th>\n",
       "      <th>Volume Type</th>\n",
       "      <th>Load Port</th>\n",
       "      <th>Discharge Port</th>\n",
       "      <th>Dangerous Goods</th>\n",
       "      <th>Organisation</th>\n",
       "    </tr>\n",
       "  </thead>\n",
       "  <tbody>\n",
       "    <tr>\n",
       "      <th>0</th>\n",
       "      <td>7</td>\n",
       "      <td>26,726</td>\n",
       "      <td>1</td>\n",
       "      <td>27</td>\n",
       "      <td>34</td>\n",
       "      <td>2</td>\n",
       "      <td>73</td>\n",
       "    </tr>\n",
       "    <tr>\n",
       "      <th>1</th>\n",
       "      <td>5</td>\n",
       "      <td>2,600</td>\n",
       "      <td>1</td>\n",
       "      <td>44</td>\n",
       "      <td>54</td>\n",
       "      <td>2</td>\n",
       "      <td>69</td>\n",
       "    </tr>\n",
       "    <tr>\n",
       "      <th>2</th>\n",
       "      <td>7</td>\n",
       "      <td>10,710</td>\n",
       "      <td>1</td>\n",
       "      <td>8</td>\n",
       "      <td>0</td>\n",
       "      <td>2</td>\n",
       "      <td>12</td>\n",
       "    </tr>\n",
       "    <tr>\n",
       "      <th>3</th>\n",
       "      <td>7</td>\n",
       "      <td>21,611</td>\n",
       "      <td>1</td>\n",
       "      <td>8</td>\n",
       "      <td>40</td>\n",
       "      <td>2</td>\n",
       "      <td>12</td>\n",
       "    </tr>\n",
       "    <tr>\n",
       "      <th>4</th>\n",
       "      <td>7</td>\n",
       "      <td>5,139</td>\n",
       "      <td>1</td>\n",
       "      <td>6</td>\n",
       "      <td>0</td>\n",
       "      <td>2</td>\n",
       "      <td>12</td>\n",
       "    </tr>\n",
       "  </tbody>\n",
       "</table>\n",
       "</div>"
      ],
      "text/plain": [
       "   Category of Trade Volume/ Amount  Volume Type  Load Port  Discharge Port  \\\n",
       "0                  7         26,726            1         27              34   \n",
       "1                  5          2,600            1         44              54   \n",
       "2                  7         10,710            1          8               0   \n",
       "3                  7         21,611            1          8              40   \n",
       "4                  7          5,139            1          6               0   \n",
       "\n",
       "   Dangerous Goods  Organisation  \n",
       "0                2            73  \n",
       "1                2            69  \n",
       "2                2            12  \n",
       "3                2            12  \n",
       "4                2            12  "
      ]
     },
     "execution_count": 2,
     "metadata": {},
     "output_type": "execute_result"
    }
   ],
   "source": [
    "df  = pd.read_csv(\"dataset.csv\")\n",
    "df.head()"
   ]
  },
  {
   "cell_type": "markdown",
   "id": "34899ec5",
   "metadata": {},
   "source": [
    "# **Seperate features and target**"
   ]
  },
  {
   "cell_type": "code",
   "execution_count": 3,
   "id": "0b4fe543",
   "metadata": {},
   "outputs": [],
   "source": [
    "# seperate features and target column\n",
    "features = [\"Category of Trade\", \"Volume Type\", \"Load Port\", \"Discharge Port\", \"Dangerous Goods\"]\n",
    "target = \"Organisation\"\n",
    "\n",
    "# copy the feqatures and class dataframe in X and y variable\n",
    "X = df[features]\n",
    "y = df[target]"
   ]
  },
  {
   "cell_type": "markdown",
   "id": "f232f74f",
   "metadata": {},
   "source": [
    "# **Scale features and train test split**"
   ]
  },
  {
   "cell_type": "code",
   "execution_count": 4,
   "id": "c8d68f58",
   "metadata": {},
   "outputs": [],
   "source": [
    "# scalling feature value between the range of 0-1\n",
    "ss = StandardScaler()\n",
    "X = ss.fit_transform(X)\n"
   ]
  },
  {
   "cell_type": "markdown",
   "id": "9c33dda2",
   "metadata": {},
   "source": [
    "## customize functions"
   ]
  },
  {
   "cell_type": "code",
   "execution_count": 5,
   "id": "fc7f66e3",
   "metadata": {},
   "outputs": [],
   "source": [
    "#list of evaluation scores\n",
    "evalution_scores = []\n",
    "\n",
    "# save saller\n",
    "pkl_file = open('target_encoder.pkl', 'rb')\n",
    "le_target = pickle.load(pkl_file) \n",
    "\n",
    "# function for getting class labels via class integar using label encoder\n",
    "def get_classes(y_test):\n",
    "    y_test = y_test.unique()\n",
    "    print(len(y_test))\n",
    "    return le_target.inverse_transform(y_test)\n",
    "\n",
    "# get unique classes in test set\n",
    "def get_str_classes(y_test):\n",
    "    y_test = y_test.unique()\n",
    "    return [str(int) for int in y_test]\n",
    "\n",
    "# split dataset in training and testing set \n",
    "def get_train_test_split():\n",
    "    return train_test_split(X, y, test_size=0.2, random_state=42)\n",
    "\n",
    "\n",
    "# split data into train, test and validation set with splitted feature and class\n",
    "def get_train_test_val_split(X, y):\n",
    "    X_train, X_test, y_train, y_test = train_test_split(X, y, test_size=0.1, random_state=42)\n",
    "    X_train, X_val, y_train, y_val = train_test_split(X_train, y_train, test_size=0.22, random_state=2)\n",
    "    return X_train, X_test, X_val, y_train, y_test, y_val\n",
    "\n",
    "# split data into train, test and validation set with joined feature and class\n",
    "def get_train_test_val_split_df():\n",
    "    train, test = train_test_split(df, test_size=0.2, random_state=42)\n",
    "    train, val = train_test_split(train, test_size=0.25, random_state=2)\n",
    "    return train, test, val\n",
    "\n",
    "\n",
    "# compute the accuracy using true and predicted labels\n",
    "def compute_accuracy(y_true, y_pred):\n",
    "    correct_predictions = 0\n",
    "    # iterate over each label and check\n",
    "    for true, predicted in zip(y_true, y_pred):\n",
    "        if true == predicted:\n",
    "            correct_predictions += 1\n",
    "    # compute the accuracy\n",
    "    accuracy = correct_predictions/len(y_true)\n",
    "    return accuracy\n",
    "\n",
    "\n",
    "# compute other evaluation measures and print\n",
    "def make_predictions(y_test, y_pred):\n",
    "    accuracy=accuracy_score(y_test, y_pred)\n",
    "    P, R, F, S = precision_recall_fscore_support(y_test, y_pred, average=\"weighted\")\n",
    "    \n",
    "    accuracy = \"{:.4f}\".format(accuracy)\n",
    "    P = \"{:.4f}\".format(P)\n",
    "    R = \"{:.4f}\".format(R)\n",
    "    F = \"{:.4f}\".format(F)\n",
    "\n",
    "    print(\"Accuracy Score :\", accuracy)\n",
    "    print(\"=======================\\n\")\n",
    "\n",
    "    print(\"Precision Score :\", P)\n",
    "    print(\"========================\\n\")\n",
    "\n",
    "    print(\"Recall Score :\", R)\n",
    "    print(\"=====================\\n\")\n",
    "\n",
    "    print(\"F1 Score :\", F)\n",
    "    print(\"=================\\n\")\n",
    "\n",
    "    return accuracy, P, R, F\n",
    "\n",
    "\n",
    "def DL_preprocessing(train, target):\n",
    "    target = target.to_numpy()\n",
    "    model = Tab2Img()\n",
    "    images = model.fit_transform(train, target)\n",
    "    \n",
    "    size = (200, 200)\n",
    "    reshaped_images = []\n",
    "    for img in images:\n",
    "        img = np.resize(img, (img.shape[0], img.shape[1], 3))\n",
    "        reshaped_images.append(tf.keras.preprocessing.image.smart_resize(\n",
    "            img, size, interpolation='bilinear'\n",
    "        ))\n",
    "    reshaped_images = np.array(reshaped_images)\n",
    "    target = tf.keras.utils.to_categorical(target, 81)\n",
    "    return reshaped_images, target\n",
    "\n",
    "\n",
    "def plot_graph(history):\n",
    "    print(history.history.keys())\n",
    "    # summarize history for accuracy\n",
    "    plt.plot(history.history['accuracy'])\n",
    "    plt.plot(history.history['val_accuracy'])\n",
    "    plt.title('model accuracy')\n",
    "    plt.ylabel('accuracy')\n",
    "    plt.xlabel('epoch')\n",
    "    plt.legend(['train', 'test'], loc='upper left')\n",
    "    plt.show()\n",
    "    # summarize history for loss\n",
    "    plt.plot(history.history['loss'])\n",
    "    plt.plot(history.history['val_loss'])\n",
    "    plt.title('model loss')\n",
    "    plt.ylabel('loss')\n",
    "    plt.xlabel('epoch')\n",
    "    plt.legend(['train', 'test'], loc='upper left')\n",
    "    plt.show()"
   ]
  },
  {
   "cell_type": "markdown",
   "id": "a4b18d7d",
   "metadata": {},
   "source": [
    "# **Machine Learning Models**\n",
    "## **Random Forest**"
   ]
  },
  {
   "cell_type": "code",
   "execution_count": 6,
   "id": "29ae82ad",
   "metadata": {},
   "outputs": [
    {
     "name": "stdout",
     "output_type": "stream",
     "text": [
      "\n",
      "shape of training features : (17271, 5)\n",
      "=======================================\n",
      "\n",
      " shape of training labels : (17271,)\n",
      "====================================\n",
      "\n",
      " shape of testing features : (4318, 5)\n",
      "======================================\n",
      "\n",
      " shape of testing labels : (4318,)\n",
      "==================================\n"
     ]
    }
   ],
   "source": [
    "X_train, X_test, y_train, y_test = get_train_test_split()\n",
    "print(\"\\nshape of training features :\", X_train.shape)\n",
    "print(\"=======================================\")\n",
    "print(\"\\n shape of training labels :\", y_train.shape)\n",
    "print(\"====================================\")\n",
    "print(\"\\n shape of testing features :\", X_test.shape)\n",
    "print(\"======================================\")\n",
    "print(\"\\n shape of testing labels :\", y_test.shape)\n",
    "print(\"==================================\")"
   ]
  },
  {
   "cell_type": "code",
   "execution_count": 7,
   "id": "3e33a7be",
   "metadata": {},
   "outputs": [],
   "source": [
    "# model initialization\n",
    "clf = RandomForestClassifier()\n",
    "# model training\n",
    "clf = clf.fit(X_train, y_train)"
   ]
  },
  {
   "cell_type": "code",
   "execution_count": 8,
   "id": "d63a19c6",
   "metadata": {},
   "outputs": [
    {
     "name": "stdout",
     "output_type": "stream",
     "text": [
      "Accuracy Score : 0.7913\n",
      "=======================\n",
      "\n",
      "Precision Score : 0.7867\n",
      "========================\n",
      "\n",
      "Recall Score : 0.7913\n",
      "=====================\n",
      "\n",
      "F1 Score : 0.7644\n",
      "=================\n",
      "\n"
     ]
    }
   ],
   "source": [
    "# model predictions\n",
    "y_pred = clf.predict(X_test)\n",
    "# evaluate results\n",
    "Acc, P, R, F = make_predictions(y_test, y_pred)\n",
    "evalution_scores.append([\"Random Forest\", Acc, P, R, F])"
   ]
  },
  {
   "cell_type": "markdown",
   "id": "3c5cc52a",
   "metadata": {},
   "source": [
    "# Gradient Boosting"
   ]
  },
  {
   "cell_type": "code",
   "execution_count": 9,
   "id": "c2428111",
   "metadata": {},
   "outputs": [
    {
     "name": "stdout",
     "output_type": "stream",
     "text": [
      "\n",
      "shape of training features : (17271, 5)\n",
      "=======================================\n",
      "\n",
      " shape of training labels : (17271,)\n",
      "====================================\n",
      "\n",
      " shape of testing features : (4318, 5)\n",
      "======================================\n",
      "\n",
      " shape of testing labels : (4318,)\n",
      "==================================\n"
     ]
    }
   ],
   "source": [
    "X_train, X_test, y_train, y_test = get_train_test_split()\n",
    "print(\"\\nshape of training features :\", X_train.shape)\n",
    "print(\"=======================================\")\n",
    "print(\"\\n shape of training labels :\", y_train.shape)\n",
    "print(\"====================================\")\n",
    "print(\"\\n shape of testing features :\", X_test.shape)\n",
    "print(\"======================================\")\n",
    "print(\"\\n shape of testing labels :\", y_test.shape)\n",
    "print(\"==================================\")"
   ]
  },
  {
   "cell_type": "code",
   "execution_count": 10,
   "id": "093df8d7",
   "metadata": {},
   "outputs": [],
   "source": [
    "# model predictions\n",
    "clf =  GradientBoostingClassifier()\n",
    "# model training\n",
    "clf = clf.fit(X_train, y_train)"
   ]
  },
  {
   "cell_type": "code",
   "execution_count": 11,
   "id": "810f0ca1",
   "metadata": {},
   "outputs": [
    {
     "name": "stdout",
     "output_type": "stream",
     "text": [
      "Accuracy Score : 0.6971\n",
      "=======================\n",
      "\n",
      "Precision Score : 0.7046\n",
      "========================\n",
      "\n",
      "Recall Score : 0.6971\n",
      "=====================\n",
      "\n",
      "F1 Score : 0.6725\n",
      "=================\n",
      "\n"
     ]
    }
   ],
   "source": [
    "# model predictions\n",
    "y_pred = clf.predict(X_test)\n",
    "# evaluate results\n",
    "Acc, P, R, F = make_predictions(y_test, y_pred)\n",
    "evalution_scores.append([\"Gradient Boosting\", Acc, P, R, F])"
   ]
  },
  {
   "cell_type": "markdown",
   "id": "d3f844eb",
   "metadata": {},
   "source": [
    "# **DL Models**\n",
    "## **Preprocessing**"
   ]
  },
  {
   "cell_type": "code",
   "execution_count": 12,
   "id": "2f4be10b",
   "metadata": {},
   "outputs": [],
   "source": [
    "train, target = DL_preprocessing(X, y)"
   ]
  },
  {
   "cell_type": "markdown",
   "id": "800a76c2",
   "metadata": {},
   "source": [
    "# Resnet"
   ]
  },
  {
   "cell_type": "code",
   "execution_count": 13,
   "id": "7e60f817",
   "metadata": {},
   "outputs": [
    {
     "name": "stdout",
     "output_type": "stream",
     "text": [
      "\n",
      "shape of training features : (15155, 200, 200, 3)\n",
      "=======================================\n",
      "\n",
      " shape of training labels : (15155, 81)\n",
      "====================================\n",
      "\n",
      " shape of testing features : (2159, 200, 200, 3)\n",
      "======================================\n",
      "\n",
      " shape of testing labels : (2159, 81)\n",
      "==================================\n",
      "\n",
      " shape of validation features : (4275, 200, 200, 3)\n",
      "========================================\n",
      "\n",
      " shape of validation labels : (4275, 81)\n",
      "=====================================\n"
     ]
    }
   ],
   "source": [
    "X_train, X_test, X_val, y_train, y_test, y_val = get_train_test_val_split(train, target)\n",
    "print(\"\\nshape of training features :\", X_train.shape)\n",
    "print(\"=======================================\")\n",
    "print(\"\\n shape of training labels :\", y_train.shape)\n",
    "print(\"====================================\")\n",
    "print(\"\\n shape of testing features :\", X_test.shape)\n",
    "print(\"======================================\")\n",
    "print(\"\\n shape of testing labels :\", y_test.shape)\n",
    "print(\"==================================\")\n",
    "print(\"\\n shape of validation features :\", X_val.shape)\n",
    "print(\"========================================\")\n",
    "print(\"\\n shape of validation labels :\", y_val.shape)\n",
    "print(\"=====================================\")"
   ]
  },
  {
   "cell_type": "code",
   "execution_count": 14,
   "id": "baf35fa7",
   "metadata": {},
   "outputs": [],
   "source": [
    "# input shape configure\n",
    "input_t = tf.keras.Input(shape=(200, 200, 3))\n",
    "res_model = tf.keras.applications.ResNet50(include_top=False, \n",
    "                    weights=\"imagenet\", input_tensor=input_t)\n",
    "\n",
    "for layer in res_model.layers[:143]:\n",
    "    layer.trainable = False\n",
    "\n",
    "# to_res = (224, 224)\n",
    "model = tf.keras.models.Sequential()  \n",
    "model.add(res_model)\n",
    "model.add(tf.keras.layers.Flatten())\n",
    "model.add(tf.keras.layers.Dense(81, activation='softmax'))"
   ]
  },
  {
   "cell_type": "code",
   "execution_count": 50,
   "id": "8449712c",
   "metadata": {},
   "outputs": [
    {
     "name": "stdout",
     "output_type": "stream",
     "text": [
      "Epoch 1/10\n",
      "60/60 [==============================] - ETA: 0s - loss: 2.7886 - accuracy: 0.3295 WARNING:tensorflow:Can save best model only with val_acc available, skipping.\n",
      "60/60 [==============================] - 1332s 22s/step - loss: 2.7886 - accuracy: 0.3295 - val_loss: 4.3704 - val_accuracy: 0.0678\n",
      "Epoch 2/10\n",
      "60/60 [==============================] - ETA: 0s - loss: 1.9207 - accuracy: 0.4608 WARNING:tensorflow:Can save best model only with val_acc available, skipping.\n",
      "60/60 [==============================] - 1721s 29s/step - loss: 1.9207 - accuracy: 0.4608 - val_loss: 4.2225 - val_accuracy: 0.0400\n",
      "Epoch 3/10\n",
      "60/60 [==============================] - ETA: 0s - loss: 1.6329 - accuracy: 0.5121 WARNING:tensorflow:Can save best model only with val_acc available, skipping.\n",
      "60/60 [==============================] - 1353s 23s/step - loss: 1.6329 - accuracy: 0.5121 - val_loss: 3.6561 - val_accuracy: 0.0985\n",
      "Epoch 4/10\n",
      "60/60 [==============================] - ETA: 0s - loss: 1.4258 - accuracy: 0.5588 WARNING:tensorflow:Can save best model only with val_acc available, skipping.\n",
      "60/60 [==============================] - 1865s 31s/step - loss: 1.4258 - accuracy: 0.5588 - val_loss: 3.1043 - val_accuracy: 0.1506\n",
      "Epoch 5/10\n",
      "60/60 [==============================] - ETA: 0s - loss: 1.3236 - accuracy: 0.5857  WARNING:tensorflow:Can save best model only with val_acc available, skipping.\n",
      "60/60 [==============================] - 4752s 79s/step - loss: 1.3236 - accuracy: 0.5857 - val_loss: 2.8198 - val_accuracy: 0.1897\n",
      "Epoch 6/10\n",
      "60/60 [==============================] - ETA: 0s - loss: 1.2431 - accuracy: 0.6027   WARNING:tensorflow:Can save best model only with val_acc available, skipping.\n",
      "60/60 [==============================] - 44825s 747s/step - loss: 1.2431 - accuracy: 0.6027 - val_loss: 2.3901 - val_accuracy: 0.3312\n",
      "Epoch 7/10\n",
      "60/60 [==============================] - ETA: 0s - loss: 1.1719 - accuracy: 0.6237  WARNING:tensorflow:Can save best model only with val_acc available, skipping.\n",
      "60/60 [==============================] - 5907s 98s/step - loss: 1.1719 - accuracy: 0.6237 - val_loss: 1.9348 - val_accuracy: 0.4281\n",
      "Epoch 8/10\n",
      "60/60 [==============================] - ETA: 0s - loss: 1.1025 - accuracy: 0.6404 WARNING:tensorflow:Can save best model only with val_acc available, skipping.\n",
      "60/60 [==============================] - 1370s 23s/step - loss: 1.1025 - accuracy: 0.6404 - val_loss: 1.6789 - val_accuracy: 0.4795\n",
      "Epoch 9/10\n",
      "60/60 [==============================] - ETA: 0s - loss: 1.0630 - accuracy: 0.6498 WARNING:tensorflow:Can save best model only with val_acc available, skipping.\n",
      "60/60 [==============================] - 1394s 23s/step - loss: 1.0630 - accuracy: 0.6498 - val_loss: 2.7091 - val_accuracy: 0.3396\n",
      "Epoch 10/10\n",
      "60/60 [==============================] - ETA: 0s - loss: 1.0406 - accuracy: 0.6535 WARNING:tensorflow:Can save best model only with val_acc available, skipping.\n",
      "60/60 [==============================] - 1343s 22s/step - loss: 1.0406 - accuracy: 0.6535 - val_loss: 1.4814 - val_accuracy: 0.5958\n"
     ]
    }
   ],
   "source": [
    "# early stopping\n",
    "check_point = tf.keras.callbacks.ModelCheckpoint(filepath=\"cifar10.h5\",\n",
    "                                          monitor=\"val_acc  \",\n",
    "                                          mode=\"max\",\n",
    "                                          save_best_only=True,\n",
    "                                          )\n",
    "\n",
    "# model compilation\n",
    "model.compile(loss='categorical_crossentropy',\n",
    "              optimizer= tf.keras.optimizers.RMSprop(lr=2e-5),\n",
    "              metrics=['accuracy'])\n",
    " \n",
    "# model training\n",
    "history = model.fit(X_train, y_train, batch_size=256, epochs=10, verbose=1,\n",
    "                validation_data=(X_val, y_val),\n",
    "                callbacks=[check_point])"
   ]
  },
  {
   "cell_type": "code",
   "execution_count": 54,
   "id": "ddaa7624",
   "metadata": {},
   "outputs": [
    {
     "name": "stdout",
     "output_type": "stream",
     "text": [
      "dict_keys(['loss', 'accuracy', 'val_loss', 'val_accuracy'])\n"
     ]
    },
    {
     "data": {
      "image/png": "[encoded data removed]",
      "text/plain": [
       "<Figure size 432x288 with 1 Axes>"
      ]
     },
     "metadata": {
      "needs_background": "light"
     },
     "output_type": "display_data"
    },
    {
     "data": {
      "image/png": "[encoded data removed]",
      "text/plain": [
       "<Figure size 432x288 with 1 Axes>"
      ]
     },
     "metadata": {
      "needs_background": "light"
     },
     "output_type": "display_data"
    }
   ],
   "source": [
    "print(model.summary())\n",
    "plot_graph(history)"
   ]
  },
  {
   "cell_type": "code",
   "execution_count": null,
   "id": "bce7c28e",
   "metadata": {},
   "outputs": [],
   "source": [
    "# make prediction using trained model\n",
    "predictions = model.predict(X_test)\n",
    "# calculate accuracy and other evaluation measures\n",
    "y_pred = [np.argmax(prediction) for prediction in predictions]\n",
    "yy_test = [list(yy).index(1) for yy in y_test]\n",
    "Acc, P, R, F = make_predictions(yy_test, y_pred) \n",
    "evalution_scores.append([\"ResNet\", Acc, P, R, F])"
   ]
  },
  {
   "cell_type": "markdown",
   "id": "5b64cb93",
   "metadata": {},
   "source": [
    "# MobilenNet"
   ]
  },
  {
   "cell_type": "code",
   "execution_count": 15,
   "id": "172490e4",
   "metadata": {},
   "outputs": [
    {
     "name": "stdout",
     "output_type": "stream",
     "text": [
      "\n",
      "shape of training features : (15155, 200, 200, 3)\n",
      "=======================================\n",
      "\n",
      " shape of training labels : (15155, 81)\n",
      "====================================\n",
      "\n",
      " shape of testing features : (2159, 200, 200, 3)\n",
      "======================================\n",
      "\n",
      " shape of testing labels : (2159, 81)\n",
      "==================================\n",
      "\n",
      " shape of validation features : (4275, 200, 200, 3)\n",
      "========================================\n",
      "\n",
      " shape of validation labels : (4275, 81)\n",
      "=====================================\n"
     ]
    }
   ],
   "source": [
    "X_train, X_test, X_val, y_train, y_test, y_val = get_train_test_val_split(train, target)\n",
    "print(\"\\nshape of training features :\", X_train.shape)\n",
    "print(\"=======================================\")\n",
    "print(\"\\n shape of training labels :\", y_train.shape)\n",
    "print(\"====================================\")\n",
    "print(\"\\n shape of testing features :\", X_test.shape)\n",
    "print(\"======================================\")\n",
    "print(\"\\n shape of testing labels :\", y_test.shape)\n",
    "print(\"==================================\")\n",
    "print(\"\\n shape of validation features :\", X_val.shape)\n",
    "print(\"========================================\")\n",
    "print(\"\\n shape of validation labels :\", y_val.shape)\n",
    "print(\"=====================================\")"
   ]
  },
  {
   "cell_type": "code",
   "execution_count": 16,
   "id": "6fe5ae39",
   "metadata": {},
   "outputs": [
    {
     "name": "stdout",
     "output_type": "stream",
     "text": [
      "WARNING:tensorflow:`input_shape` is undefined or non-square, or `rows` is not in [128, 160, 192, 224]. Weights for input shape (224, 224) will be loaded as the default.\n"
     ]
    }
   ],
   "source": [
    "input_t = tf.keras.Input(shape=(200, 200, 3))\n",
    "mobile_model = tf.keras.applications.MobileNet(include_top=False,\n",
    "                                    weights=\"imagenet\",\n",
    "                                    input_tensor=input_t,\n",
    "                                              input_shape= (200, 200, 3))\n",
    "\n",
    "for layer in mobile_model.layers[:143]:\n",
    "    layer.trainable = False\n",
    "\n",
    "to_res = (224, 224)\n",
    "model = tf.keras.models.Sequential()  \n",
    "model.add(mobile_model)\n",
    "model.add(tf.keras.layers.Flatten())\n",
    "model.add(tf.keras.layers.Dense(81, activation='softmax'))"
   ]
  },
  {
   "cell_type": "code",
   "execution_count": 10,
   "id": "d6d67998",
   "metadata": {},
   "outputs": [
    {
     "name": "stdout",
     "output_type": "stream",
     "text": [
      "Epoch 1/10\n",
      "60/60 [==============================] - ETA: 0s - loss: 2.3420 - accuracy: 0.4054WARNING:tensorflow:Can save best model only with val_acc   available, skipping.\n",
      "60/60 [==============================] - 209s 3s/step - loss: 2.3420 - accuracy: 0.4054 - val_loss: 1.6888 - val_accuracy: 0.5497\n",
      "Epoch 2/10\n",
      "60/60 [==============================] - ETA: 0s - loss: 1.3704 - accuracy: 0.6207WARNING:tensorflow:Can save best model only with val_acc   available, skipping.\n",
      "60/60 [==============================] - 208s 3s/step - loss: 1.3704 - accuracy: 0.6207 - val_loss: 1.2951 - val_accuracy: 0.6108\n",
      "Epoch 3/10\n",
      "60/60 [==============================] - ETA: 0s - loss: 1.1006 - accuracy: 0.6774WARNING:tensorflow:Can save best model only with val_acc   available, skipping.\n",
      "60/60 [==============================] - 208s 3s/step - loss: 1.1006 - accuracy: 0.6774 - val_loss: 1.1318 - val_accuracy: 0.6653\n",
      "Epoch 4/10\n",
      "60/60 [==============================] - ETA: 0s - loss: 0.9694 - accuracy: 0.7093WARNING:tensorflow:Can save best model only with val_acc   available, skipping.\n",
      "60/60 [==============================] - 219s 4s/step - loss: 0.9694 - accuracy: 0.7093 - val_loss: 1.0221 - val_accuracy: 0.7029\n",
      "Epoch 5/10\n",
      "60/60 [==============================] - ETA: 0s - loss: 0.8899 - accuracy: 0.7249WARNING:tensorflow:Can save best model only with val_acc   available, skipping.\n",
      "60/60 [==============================] - 204s 3s/step - loss: 0.8899 - accuracy: 0.7249 - val_loss: 0.9748 - val_accuracy: 0.7130\n",
      "Epoch 6/10\n",
      "60/60 [==============================] - ETA: 0s - loss: 0.8374 - accuracy: 0.7372WARNING:tensorflow:Can save best model only with val_acc   available, skipping.\n",
      "60/60 [==============================] - 252s 4s/step - loss: 0.8374 - accuracy: 0.7372 - val_loss: 0.9407 - val_accuracy: 0.7165\n",
      "Epoch 7/10\n",
      "60/60 [==============================] - ETA: 0s - loss: 0.7984 - accuracy: 0.7433WARNING:tensorflow:Can save best model only with val_acc   available, skipping.\n",
      "60/60 [==============================] - 202s 3s/step - loss: 0.7984 - accuracy: 0.7433 - val_loss: 0.8975 - val_accuracy: 0.7186\n",
      "Epoch 8/10\n",
      "60/60 [==============================] - ETA: 0s - loss: 0.7654 - accuracy: 0.7491 WARNING:tensorflow:Can save best model only with val_acc   available, skipping.\n",
      "60/60 [==============================] - 718s 12s/step - loss: 0.7654 - accuracy: 0.7491 - val_loss: 0.8792 - val_accuracy: 0.7333\n",
      "Epoch 9/10\n",
      "60/60 [==============================] - ETA: 0s - loss: 0.7409 - accuracy: 0.7541WARNING:tensorflow:Can save best model only with val_acc   available, skipping.\n",
      "60/60 [==============================] - 206s 3s/step - loss: 0.7409 - accuracy: 0.7541 - val_loss: 0.8469 - val_accuracy: 0.7439\n",
      "Epoch 10/10\n",
      "60/60 [==============================] - ETA: 0s - loss: 0.7194 - accuracy: 0.7597WARNING:tensorflow:Can save best model only with val_acc   available, skipping.\n",
      "60/60 [==============================] - 206s 3s/step - loss: 0.7194 - accuracy: 0.7597 - val_loss: 0.8397 - val_accuracy: 0.7364\n"
     ]
    }
   ],
   "source": [
    "check_point = tf.keras.callbacks.ModelCheckpoint(filepath=\"cifar10.h5\",\n",
    "                                          monitor=\"val_acc  \",\n",
    "                                          mode=\"max\",\n",
    "                                          save_best_only=True,\n",
    "                                          )\n",
    "\n",
    "model.compile(loss='categorical_crossentropy',\n",
    "              optimizer= tf.keras.optimizers.RMSprop(lr=2e-5),\n",
    "              metrics=['accuracy'])\n",
    "\n",
    "history = model.fit(X_train, y_train, batch_size=256, epochs=10, verbose=1,\n",
    "                        validation_data=(X_val, y_val),\n",
    "                        callbacks=[check_point])"
   ]
  },
  {
   "cell_type": "code",
   "execution_count": null,
   "id": "adeb95e7",
   "metadata": {},
   "outputs": [],
   "source": [
    "print(model.summary())\n",
    "plot_graph(history)"
   ]
  },
  {
   "cell_type": "code",
   "execution_count": null,
   "id": "c77f131e",
   "metadata": {},
   "outputs": [],
   "source": [
    "# make prediction using trained model\n",
    "predictions = model.predict(X_test)\n",
    "# calculate accuracy and other evaluation measures\n",
    "y_pred = [np.argmax(prediction) for prediction in predictions]\n",
    "yy_test = [list(yy).index(1) for yy in y_test]\n",
    "Acc, P, R, F = make_predictions(yy_test, y_pred) \n",
    "evalution_scores.append([\"MobileNet\", Acc, P, R, F])"
   ]
  },
  {
   "cell_type": "markdown",
   "id": "64ab1dfa",
   "metadata": {},
   "source": [
    "# customize model"
   ]
  },
  {
   "cell_type": "code",
   "execution_count": 17,
   "id": "4d82be1f",
   "metadata": {},
   "outputs": [
    {
     "name": "stdout",
     "output_type": "stream",
     "text": [
      "\n",
      "shape of training features : (15155, 200, 200, 3)\n",
      "=======================================\n",
      "\n",
      " shape of training labels : (15155, 81)\n",
      "====================================\n",
      "\n",
      " shape of testing features : (2159, 200, 200, 3)\n",
      "======================================\n",
      "\n",
      " shape of testing labels : (2159, 81)\n",
      "==================================\n",
      "\n",
      " shape of validation features : (4275, 200, 200, 3)\n",
      "========================================\n",
      "\n",
      " shape of validation labels : (4275, 81)\n",
      "=====================================\n"
     ]
    }
   ],
   "source": [
    "X_train, X_test, X_val, y_train, y_test, y_val = get_train_test_val_split(train, target)\n",
    "print(\"\\nshape of training features :\", X_train.shape)\n",
    "print(\"=======================================\")\n",
    "print(\"\\n shape of training labels :\", y_train.shape)\n",
    "print(\"====================================\")\n",
    "print(\"\\n shape of testing features :\", X_test.shape)\n",
    "print(\"======================================\")\n",
    "print(\"\\n shape of testing labels :\", y_test.shape)\n",
    "print(\"==================================\")\n",
    "print(\"\\n shape of validation features :\", X_val.shape)\n",
    "print(\"========================================\")\n",
    "print(\"\\n shape of validation labels :\", y_val.shape)\n",
    "print(\"=====================================\")"
   ]
  },
  {
   "cell_type": "code",
   "execution_count": 18,
   "id": "a6f6b70e",
   "metadata": {},
   "outputs": [
    {
     "name": "stdout",
     "output_type": "stream",
     "text": [
      "WARNING:tensorflow:`input_shape` is undefined or non-square, or `rows` is not in [128, 160, 192, 224]. Weights for input shape (224, 224) will be loaded as the default.\n"
     ]
    }
   ],
   "source": [
    "input_t = tf.keras.Input(shape=(200, 200, 3))\n",
    "mobile_model = tf.keras.applications.MobileNet(include_top=False,\n",
    "                                    weights=\"imagenet\",\n",
    "                                    input_tensor=input_t,\n",
    "                                              input_shape= (200, 200, 3))\n",
    "\n",
    "for layer in mobile_model.layers[:143]:\n",
    "    layer.trainable = False\n",
    "\n",
    "to_res = (224, 224)\n",
    "model = tf.keras.models.Sequential()  \n",
    "model.add(mobile_model)\n",
    "model.add(tf.keras.layers.Flatten())\n",
    "model.add(tf.keras.layers.BatchNormalization())\n",
    "model.add(tf.keras.layers.Dense(256, activation='relu'))\n",
    "# model.add(tf.keras.layers.Dropout(0.5))\n",
    "model.add(tf.keras.layers.BatchNormalization())\n",
    "model.add(tf.keras.layers.Dense(128, activation='relu'))\n",
    "# model.add(tf.keras.layers.Dropout(0.5))\n",
    "model.add(tf.keras.layers.BatchNormalization())\n",
    "model.add(tf.keras.layers.Dense(64, activation='relu'))\n",
    "# model.add(tf.keras.layers.Dropout(0.5))\n",
    "model.add(tf.keras.layers.BatchNormalization())\n",
    "model.add(tf.keras.layers.Dense(81, activation='softmax'))"
   ]
  },
  {
   "cell_type": "code",
   "execution_count": 19,
   "id": "d2850508",
   "metadata": {},
   "outputs": [
    {
     "name": "stdout",
     "output_type": "stream",
     "text": [
      "Epoch 1/10\n",
      "60/60 [==============================] - ETA: 0s - loss: 2.2882 - accuracy: 0.6200WARNING:tensorflow:Can save best model only with val_acc   available, skipping.\n",
      "60/60 [==============================] - 211s 4s/step - loss: 2.2882 - accuracy: 0.6200 - val_loss: 3.7305 - val_accuracy: 0.3588\n",
      "Epoch 2/10\n",
      "60/60 [==============================] - ETA: 0s - loss: 1.6104 - accuracy: 0.7481WARNING:tensorflow:Can save best model only with val_acc   available, skipping.\n",
      "60/60 [==============================] - 211s 4s/step - loss: 1.6104 - accuracy: 0.7481 - val_loss: 3.1686 - val_accuracy: 0.6182\n",
      "Epoch 3/10\n",
      "60/60 [==============================] - ETA: 0s - loss: 1.4226 - accuracy: 0.7673WARNING:tensorflow:Can save best model only with val_acc   available, skipping.\n",
      "60/60 [==============================] - 215s 4s/step - loss: 1.4226 - accuracy: 0.7673 - val_loss: 2.5940 - val_accuracy: 0.6996\n",
      "Epoch 4/10\n",
      "60/60 [==============================] - ETA: 0s - loss: 1.3097 - accuracy: 0.7784WARNING:tensorflow:Can save best model only with val_acc   available, skipping.\n",
      "60/60 [==============================] - 213s 4s/step - loss: 1.3097 - accuracy: 0.7784 - val_loss: 2.0840 - val_accuracy: 0.7261\n",
      "Epoch 5/10\n",
      "60/60 [==============================] - ETA: 0s - loss: 1.2253 - accuracy: 0.7859WARNING:tensorflow:Can save best model only with val_acc   available, skipping.\n",
      "60/60 [==============================] - 212s 4s/step - loss: 1.2253 - accuracy: 0.7859 - val_loss: 1.7066 - val_accuracy: 0.7443\n",
      "Epoch 6/10\n",
      "60/60 [==============================] - ETA: 0s - loss: 1.1670 - accuracy: 0.7871WARNING:tensorflow:Can save best model only with val_acc   available, skipping.\n",
      "60/60 [==============================] - 215s 4s/step - loss: 1.1670 - accuracy: 0.7871 - val_loss: 1.4928 - val_accuracy: 0.7558\n",
      "Epoch 7/10\n",
      "60/60 [==============================] - ETA: 0s - loss: 1.1150 - accuracy: 0.7933WARNING:tensorflow:Can save best model only with val_acc   available, skipping.\n",
      "60/60 [==============================] - 214s 4s/step - loss: 1.1150 - accuracy: 0.7933 - val_loss: 1.3282 - val_accuracy: 0.7670\n",
      "Epoch 8/10\n",
      "60/60 [==============================] - ETA: 0s - loss: 1.0749 - accuracy: 0.7935WARNING:tensorflow:Can save best model only with val_acc   available, skipping.\n",
      "60/60 [==============================] - 212s 4s/step - loss: 1.0749 - accuracy: 0.7935 - val_loss: 1.2145 - val_accuracy: 0.7743\n",
      "Epoch 9/10\n",
      "60/60 [==============================] - ETA: 0s - loss: 1.0344 - accuracy: 0.7970WARNING:tensorflow:Can save best model only with val_acc   available, skipping.\n",
      "60/60 [==============================] - 211s 4s/step - loss: 1.0344 - accuracy: 0.7970 - val_loss: 1.1151 - val_accuracy: 0.7764\n",
      "Epoch 10/10\n",
      "60/60 [==============================] - ETA: 0s - loss: 1.0065 - accuracy: 0.7978WARNING:tensorflow:Can save best model only with val_acc   available, skipping.\n",
      "60/60 [==============================] - 212s 4s/step - loss: 1.0065 - accuracy: 0.7978 - val_loss: 1.0804 - val_accuracy: 0.7789\n"
     ]
    }
   ],
   "source": [
    "check_point = tf.keras.callbacks.ModelCheckpoint(filepath=\"cifar10.h5\",\n",
    "                                          monitor=\"val_acc  \",\n",
    "                                          mode=\"max\",\n",
    "                                          save_best_only=True,\n",
    "                                          )\n",
    "\n",
    "model.compile(loss='categorical_crossentropy',\n",
    "              optimizer= tf.keras.optimizers.RMSprop(lr=2e-5),\n",
    "              metrics=['accuracy'])\n",
    "\n",
    "history = model.fit(X_train, y_train, batch_size=256, epochs=10, verbose=1,\n",
    "                        validation_data=(X_val, y_val),\n",
    "                        callbacks=[check_point])"
   ]
  },
  {
   "cell_type": "code",
   "execution_count": 22,
   "id": "71cdf49a",
   "metadata": {},
   "outputs": [
    {
     "name": "stdout",
     "output_type": "stream",
     "text": [
      "Model: \"sequential_2\"\n",
      "_________________________________________________________________\n",
      "Layer (type)                 Output Shape              Param #   \n",
      "=================================================================\n",
      "mobilenet_1.00_224 (Function (None, 6, 6, 1024)        3228864   \n",
      "_________________________________________________________________\n",
      "flatten_2 (Flatten)          (None, 36864)             0         \n",
      "_________________________________________________________________\n",
      "batch_normalization (BatchNo (None, 36864)             147456    \n",
      "_________________________________________________________________\n",
      "dense_2 (Dense)              (None, 256)               9437440   \n",
      "_________________________________________________________________\n",
      "batch_normalization_1 (Batch (None, 256)               1024      \n",
      "_________________________________________________________________\n",
      "dense_3 (Dense)              (None, 128)               32896     \n",
      "_________________________________________________________________\n",
      "batch_normalization_2 (Batch (None, 128)               512       \n",
      "_________________________________________________________________\n",
      "dense_4 (Dense)              (None, 64)                8256      \n",
      "_________________________________________________________________\n",
      "batch_normalization_3 (Batch (None, 64)                256       \n",
      "_________________________________________________________________\n",
      "dense_5 (Dense)              (None, 81)                5265      \n",
      "=================================================================\n",
      "Total params: 12,861,969\n",
      "Trainable params: 9,558,481\n",
      "Non-trainable params: 3,303,488\n",
      "_________________________________________________________________\n",
      "None\n",
      "\n",
      "===================================\n",
      "\n",
      "dict_keys(['loss', 'accuracy', 'val_loss', 'val_accuracy'])\n"
     ]
    },
    {
     "data": {
      "image/png": "[encoded data removed]",
      "text/plain": [
       "<Figure size 432x288 with 1 Axes>"
      ]
     },
     "metadata": {
      "needs_background": "light"
     },
     "output_type": "display_data"
    },
    {
     "data": {
      "image/png": "[encoded data removed]",
      "text/plain": [
       "<Figure size 432x288 with 1 Axes>"
      ]
     },
     "metadata": {
      "needs_background": "light"
     },
     "output_type": "display_data"
    }
   ],
   "source": [
    "print(model.summary())\n",
    "print(\"\\n===================================\\n\")\n",
    "plot_graph(history)"
   ]
  },
  {
   "cell_type": "code",
   "execution_count": 29,
   "id": "b2304fe0",
   "metadata": {},
   "outputs": [
    {
     "name": "stdout",
     "output_type": "stream",
     "text": [
      "Accuracy Score : 0.7717\n",
      "=======================\n",
      "\n",
      "Precision Score : 0.7652\n",
      "========================\n",
      "\n",
      "Recall Score : 0.7717\n",
      "=====================\n",
      "\n",
      "F1 Score : 0.7454\n",
      "=================\n",
      "\n"
     ]
    }
   ],
   "source": [
    "# make prediction using trained model\n",
    "predictions = model.predict(X_test)\n",
    "# calculate accuracy and other evaluation measures\n",
    "y_pred = [np.argmax(prediction) for prediction in predictions]\n",
    "yy_test = [list(yy).index(1) for yy in y_test]\n",
    "Acc, P, R, F = make_predictions(yy_test, y_pred) \n",
    "evalution_scores.append([\"Customize\", Acc, P, R, F])"
   ]
  },
  {
   "cell_type": "code",
   "execution_count": null,
   "id": "3d33c0f2",
   "metadata": {},
   "outputs": [],
   "source": []
  }
 ],
 "metadata": {
  "kernelspec": {
   "display_name": "Python 3 (ipykernel)",
   "language": "python",
   "name": "python3"
  },
  "language_info": {
   "codemirror_mode": {
    "name": "ipython",
    "version": 3
   },
   "file_extension": ".py",
   "mimetype": "text/x-python",
   "name": "python",
   "nbconvert_exporter": "python",
   "pygments_lexer": "ipython3",
   "version": "3.7.11"
  }
 },
 "nbformat": 4,
 "nbformat_minor": 5
}
