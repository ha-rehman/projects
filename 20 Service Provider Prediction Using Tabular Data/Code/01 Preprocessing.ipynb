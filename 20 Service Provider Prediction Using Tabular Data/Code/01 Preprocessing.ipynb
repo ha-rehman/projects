{
 "cells": [
  {
   "cell_type": "markdown",
   "id": "debf22ab",
   "metadata": {},
   "source": [
    "# import libraries"
   ]
  },
  {
   "cell_type": "code",
   "execution_count": 1,
   "id": "a2d2a532",
   "metadata": {},
   "outputs": [],
   "source": [
    "import pandas as pd\n",
    "from sklearn.preprocessing import LabelEncoder\n",
    "from sklearn.pipeline import Pipeline\n",
    "import pickle\n",
    "import warnings\n",
    "warnings.filterwarnings('ignore')"
   ]
  },
  {
   "cell_type": "markdown",
   "id": "7b8bab84",
   "metadata": {},
   "source": [
    "# read csv file"
   ]
  },
  {
   "cell_type": "code",
   "execution_count": 2,
   "id": "944c8a07",
   "metadata": {},
   "outputs": [
    {
     "name": "stdout",
     "output_type": "stream",
     "text": [
      "\n",
      "Features Name\n",
      "==================\n",
      "\n",
      "['Vessel Name', 'Vessel Type', 'Vessel Capacity/Size (Gross Tonnes)', 'Load Date', 'Category of Trade', 'Cargo Description', 'Volume/ Amount', 'Volume Type', 'Load Port', 'Discharge Port', 'Dangerous Goods', 'Organisation', 'Application Number', 'Licence Number', 'Voyage Number']\n"
     ]
    }
   ],
   "source": [
    "df = pd.read_csv(\"voyage-reports.csv\")\n",
    "\n",
    "print(\"\\nFeatures Name\")\n",
    "print(\"==================\\n\")\n",
    "print(list(df.columns))"
   ]
  },
  {
   "cell_type": "code",
   "execution_count": 3,
   "id": "bcaa1aad",
   "metadata": {},
   "outputs": [
    {
     "name": "stdout",
     "output_type": "stream",
     "text": [
      "\n",
      "Statistics of dataset Columns\n",
      "==============================\n",
      "              Vessel Name\n",
      "count               21587\n",
      "unique               4284\n",
      "top     ICS Silver Lining\n",
      "freq                  583\n",
      "\n",
      "Statistics of dataset Columns\n",
      "==============================\n",
      "       Vessel Type\n",
      "count        10376\n",
      "unique         234\n",
      "top      Container\n",
      "freq          2175\n",
      "\n",
      "Statistics of dataset Columns\n",
      "==============================\n",
      "       Vessel Capacity/Size (Gross Tonnes)\n",
      "count                                 7741\n",
      "unique                                 863\n",
      "top                                 47,000\n",
      "freq                                   521\n",
      "\n",
      "Statistics of dataset Columns\n",
      "==============================\n",
      "        Load Date\n",
      "count       21589\n",
      "unique       3439\n",
      "top     2/10/2018\n",
      "freq           25\n",
      "\n",
      "Statistics of dataset Columns\n",
      "==============================\n",
      "       Category of Trade\n",
      "count              21589\n",
      "unique                 8\n",
      "top             Dry Bulk\n",
      "freq                6230\n",
      "\n",
      "Statistics of dataset Columns\n",
      "==============================\n",
      "       Cargo Description\n",
      "count              16351\n",
      "unique                48\n",
      "top      Petroleum Clean\n",
      "freq                2482\n",
      "\n",
      "Statistics of dataset Columns\n",
      "==============================\n",
      "       Volume/ Amount\n",
      "count           21589\n",
      "unique           9012\n",
      "top                 2\n",
      "freq              250\n",
      "\n",
      "Statistics of dataset Columns\n",
      "==============================\n",
      "       Volume Type\n",
      "count        21589\n",
      "unique           5\n",
      "top             MT\n",
      "freq         15465\n",
      "\n",
      "Statistics of dataset Columns\n",
      "==============================\n",
      "        Load Port\n",
      "count       21582\n",
      "unique         74\n",
      "top     Melbourne\n",
      "freq         3311\n",
      "\n",
      "Statistics of dataset Columns\n",
      "==============================\n",
      "       Discharge Port\n",
      "count           21582\n",
      "unique             67\n",
      "top         Fremantle\n",
      "freq             6344\n",
      "\n",
      "Statistics of dataset Columns\n",
      "==============================\n",
      "       Dangerous Goods\n",
      "count            20832\n",
      "unique               3\n",
      "top                 No\n",
      "freq             14559\n",
      "\n",
      "Statistics of dataset Columns\n",
      "==============================\n",
      "                            Organisation\n",
      "count                              21589\n",
      "unique                                81\n",
      "top     CMA CGM & ANL Australia Agencies\n",
      "freq                                2564\n",
      "\n",
      "Statistics of dataset Columns\n",
      "==============================\n",
      "       Application Number\n",
      "count               21589\n",
      "unique                450\n",
      "top              17065802\n",
      "freq                  348\n",
      "\n",
      "Statistics of dataset Columns\n",
      "==============================\n",
      "       Licence Number\n",
      "count           21589\n",
      "unique            447\n",
      "top         0010TL575\n",
      "freq              348\n",
      "\n",
      "Statistics of dataset Columns\n",
      "==============================\n",
      "       Voyage Number\n",
      "count          21589\n",
      "unique         21570\n",
      "top             3852\n",
      "freq               2\n"
     ]
    }
   ],
   "source": [
    "for i in df:\n",
    "    print(\"\\nStatistics of dataset Columns\")\n",
    "    print(\"==============================\")\n",
    "    print(df[[i]].describe())"
   ]
  },
  {
   "cell_type": "markdown",
   "id": "9bfb4524",
   "metadata": {},
   "source": [
    "## data statistics "
   ]
  },
  {
   "cell_type": "code",
   "execution_count": 29,
   "id": "a6dbffd7",
   "metadata": {},
   "outputs": [
    {
     "name": "stdout",
     "output_type": "stream",
     "text": [
      "\n",
      "Number of Clesses =  81\n",
      "==========================\n",
      "\n",
      "\n",
      "Clesses Names\n",
      "=============\n",
      "\n",
      "['Viva Energy Australia Ltd' 'Teekay Shipping (Australia) Pty Ltd'\n",
      " 'BP Australia Pty Ltd' 'Asiaworld Shipping Service Pty Ltd'\n",
      " 'CSL Australia Pty Ltd' 'Seaway Agencies'\n",
      " 'The China Navigation Company Pte Ltd' 'Maersk Line A/S'\n",
      " 'Wallenius Wilhelmsen Logistics' 'Orica Australia Pty Ltd'\n",
      " 'Incitec Pivot Limited' 'BHPB Freight Pty Ltd' 'K Line Australia Pty Ltd'\n",
      " 'Inco Ships Pty Ltd' 'Bluescope Steel (AIS) Pty Ltd'\n",
      " 'OOCL Australia Pty Ltd' 'NYK Line Australia'\n",
      " 'Caltex Australia Petroleum Pty Ltd' 'Q Coast Shipping Pty Ltd'\n",
      " 'APL Co Pte Ltd' 'Inchcape Shipping Services' 'Rio Tinto Marine'\n",
      " 'Wilmar BioEthanol Pty Ltd' 'Wilmar Sugar Pty Ltd'\n",
      " 'Mobil Oil Australia Pty Ltd' 'DONT USE Bemax Resources Ltd'\n",
      " 'Pacific Asia Express' 'Coogee Energy Pty Ltd'\n",
      " 'Braemar ACM Shipbroking Pty Ltd' 'INTERACID AUSTRALIA PTY LTD'\n",
      " 'CMA CGM & ANL Australia Agencies' 'Mitsui OSK Lines Australia Pty Ltd'\n",
      " 'BBC chartering Australia Pty Ltd' 'Trans Global projects Pty Ltd'\n",
      " 'Perkins Shipping Pty Ltd' 'Origin Energy Contracting Limited'\n",
      " 'Harvey Bay Pty Ltd' 'Wilhelmsen Ships Service Pty Ltd'\n",
      " 'Cristal Mining Australia Ltd' 'FBA Freight Brokers Australia Pty Ltd'\n",
      " 'Jebsens Coastal Shipping Pty Ltd' 'Alcoa Australia Pty Ltd'\n",
      " 'Bundaberg Molasses' 'Sugar Australia Pty Ltd'\n",
      " 'Pacific Aluminium Services Pty Ltd' 'Allways Shipping Pty Ltd'\n",
      " 'Egon Oldendorff VmbH' 'Yang Ming (Australia) Pty. Ltd.'\n",
      " 'SHOALHAVEN STARCHES Pty Ltd' 'Queensland Nickel Pty Ltd'\n",
      " 'National Biodiesel Distributors (Australia) Pty Limited'\n",
      " 'Ixom Operations Pty Ltd' 'South32 Freight Australia Pty Ltd'\n",
      " 'Geogas Trading S.A.' 'Gearbulk Australasia Pty Ltd' 'MUR Shipping B.V.'\n",
      " 'Tasmania Mines Limited' 'Sea Swift Pty Ltd'\n",
      " 'Ampol Singapore Trading Pte Ltd' 'Monson Agencies Australia Pty Ltd'\n",
      " 'Process Minerals International Pty Ltd' 'Ameropa Australia Pty Ltd'\n",
      " 'Adelaide Brighton Cement Ltd' 'Alcoa Portland Aluminium'\n",
      " 'Ship Agency Services Pty Ltd' 'NYK Australia Pty Ltd'\n",
      " 'Alcoa Portland Aluminium Pty Ltd'\n",
      " 'Gypsum Resources Australia Pty Limited' 'Australia Pacific Touring'\n",
      " 'Gulf Agency Company (Australia) Pty Ltd' 'LD Bulk SAS'\n",
      " 'Tasmania Mines Pty Ltd' 'MSF Marketing Pty Ltd'\n",
      " 'Oldendorff Carriers Melbourne Pty Ltd' 'NEPTUNE PACIFIC LINE'\n",
      " 'Cosco Shipping Lines (Oceania) Pty Ltd'\n",
      " 'Tronox Mining Australia Limited' 'Wallenius Wilhelmsen Ocean AS'\n",
      " 'CARTER MARINE AGENCIES PTY LTD' 'Sunion Pty Ltd' 'Wave Shipping Pty Ltd']\n"
     ]
    }
   ],
   "source": [
    "# get target column from dataframe\n",
    "CLASSES = df['Organisation'].unique()\n",
    "\n",
    "print(\"\\nNumber of Clesses = \", len(CLASSES))\n",
    "print(\"==========================\\n\")\n",
    "\n",
    "print(\"\\nClesses Names\")\n",
    "print(\"=============\\n\")\n",
    "print(CLASSES)"
   ]
  },
  {
   "cell_type": "markdown",
   "id": "74096a0d",
   "metadata": {},
   "source": [
    "## visualization of data samples"
   ]
  },
  {
   "cell_type": "code",
   "execution_count": 30,
   "id": "075ae82a",
   "metadata": {},
   "outputs": [
    {
     "name": "stdout",
     "output_type": "stream",
     "text": [
      "\n",
      "Selected Features shape : (21589, 6)\n",
      "======================================\n",
      "\n",
      "\n",
      "Selected Features\n",
      "=================\n",
      "\n"
     ]
    },
    {
     "data": {
      "text/html": [
       "<div>\n",
       "<style scoped>\n",
       "    .dataframe tbody tr th:only-of-type {\n",
       "        vertical-align: middle;\n",
       "    }\n",
       "\n",
       "    .dataframe tbody tr th {\n",
       "        vertical-align: top;\n",
       "    }\n",
       "\n",
       "    .dataframe thead th {\n",
       "        text-align: right;\n",
       "    }\n",
       "</style>\n",
       "<table border=\"1\" class=\"dataframe\">\n",
       "  <thead>\n",
       "    <tr style=\"text-align: right;\">\n",
       "      <th></th>\n",
       "      <th>Category of Trade</th>\n",
       "      <th>Volume/ Amount</th>\n",
       "      <th>Volume Type</th>\n",
       "      <th>Load Port</th>\n",
       "      <th>Discharge Port</th>\n",
       "      <th>Dangerous Goods</th>\n",
       "    </tr>\n",
       "  </thead>\n",
       "  <tbody>\n",
       "    <tr>\n",
       "      <th>0</th>\n",
       "      <td>Petroleum</td>\n",
       "      <td>26,726</td>\n",
       "      <td>MT</td>\n",
       "      <td>Geelong</td>\n",
       "      <td>Kwinana</td>\n",
       "      <td>Yes</td>\n",
       "    </tr>\n",
       "    <tr>\n",
       "      <th>1</th>\n",
       "      <td>Other Bulk Liquids</td>\n",
       "      <td>2,600</td>\n",
       "      <td>MT</td>\n",
       "      <td>Newcastle</td>\n",
       "      <td>Portland</td>\n",
       "      <td>Yes</td>\n",
       "    </tr>\n",
       "    <tr>\n",
       "      <th>2</th>\n",
       "      <td>Petroleum</td>\n",
       "      <td>10,710</td>\n",
       "      <td>MT</td>\n",
       "      <td>Brisbane</td>\n",
       "      <td>Adelaide</td>\n",
       "      <td>Yes</td>\n",
       "    </tr>\n",
       "    <tr>\n",
       "      <th>3</th>\n",
       "      <td>Petroleum</td>\n",
       "      <td>21,611</td>\n",
       "      <td>MT</td>\n",
       "      <td>Brisbane</td>\n",
       "      <td>Newcastle</td>\n",
       "      <td>Yes</td>\n",
       "    </tr>\n",
       "    <tr>\n",
       "      <th>4</th>\n",
       "      <td>Petroleum</td>\n",
       "      <td>5,139</td>\n",
       "      <td>MT</td>\n",
       "      <td>Botany</td>\n",
       "      <td>Adelaide</td>\n",
       "      <td>Yes</td>\n",
       "    </tr>\n",
       "  </tbody>\n",
       "</table>\n",
       "</div>"
      ],
      "text/plain": [
       "    Category of Trade Volume/ Amount Volume Type  Load Port Discharge Port  \\\n",
       "0           Petroleum         26,726          MT    Geelong        Kwinana   \n",
       "1  Other Bulk Liquids          2,600          MT  Newcastle       Portland   \n",
       "2           Petroleum         10,710          MT   Brisbane       Adelaide   \n",
       "3           Petroleum         21,611          MT   Brisbane      Newcastle   \n",
       "4           Petroleum          5,139          MT     Botany       Adelaide   \n",
       "\n",
       "  Dangerous Goods  \n",
       "0             Yes  \n",
       "1             Yes  \n",
       "2             Yes  \n",
       "3             Yes  \n",
       "4             Yes  "
      ]
     },
     "execution_count": 30,
     "metadata": {},
     "output_type": "execute_result"
    }
   ],
   "source": [
    "# extract features \n",
    "features_data = df[['Category of Trade', 'Volume/ Amount',\n",
    "       'Volume Type', 'Load Port', 'Discharge Port', 'Dangerous Goods',]]\n",
    "\n",
    "# print shape of the features\n",
    "print(\"\\nSelected Features shape :\", features_data.shape)\n",
    "print(\"======================================\\n\")\n",
    "\n",
    "# print selected features\n",
    "print(\"\\nSelected Features\")\n",
    "print(\"=================\\n\")\n",
    "features_data.head()"
   ]
  },
  {
   "cell_type": "code",
   "execution_count": 31,
   "id": "f592132f",
   "metadata": {},
   "outputs": [
    {
     "name": "stdout",
     "output_type": "stream",
     "text": [
      "\n",
      "Target Class\n",
      "==============\n",
      "\n"
     ]
    },
    {
     "data": {
      "text/html": [
       "<div>\n",
       "<style scoped>\n",
       "    .dataframe tbody tr th:only-of-type {\n",
       "        vertical-align: middle;\n",
       "    }\n",
       "\n",
       "    .dataframe tbody tr th {\n",
       "        vertical-align: top;\n",
       "    }\n",
       "\n",
       "    .dataframe thead th {\n",
       "        text-align: right;\n",
       "    }\n",
       "</style>\n",
       "<table border=\"1\" class=\"dataframe\">\n",
       "  <thead>\n",
       "    <tr style=\"text-align: right;\">\n",
       "      <th></th>\n",
       "      <th>Organisation</th>\n",
       "    </tr>\n",
       "  </thead>\n",
       "  <tbody>\n",
       "    <tr>\n",
       "      <th>0</th>\n",
       "      <td>Viva Energy Australia Ltd</td>\n",
       "    </tr>\n",
       "    <tr>\n",
       "      <th>1</th>\n",
       "      <td>Teekay Shipping (Australia) Pty Ltd</td>\n",
       "    </tr>\n",
       "  </tbody>\n",
       "</table>\n",
       "</div>"
      ],
      "text/plain": [
       "                          Organisation\n",
       "0            Viva Energy Australia Ltd\n",
       "1  Teekay Shipping (Australia) Pty Ltd"
      ]
     },
     "execution_count": 31,
     "metadata": {},
     "output_type": "execute_result"
    }
   ],
   "source": [
    "target = df[['Organisation']]\n",
    "\n",
    "# print target class\n",
    "print(\"\\nTarget Class\")\n",
    "print(\"==============\\n\")\n",
    "target.head(2)"
   ]
  },
  {
   "cell_type": "markdown",
   "id": "40681073",
   "metadata": {},
   "source": [
    "## plot class distribution"
   ]
  },
  {
   "cell_type": "code",
   "execution_count": 32,
   "id": "681fa4ef",
   "metadata": {},
   "outputs": [
    {
     "data": {
      "text/plain": [
       "Text(0.5, 0, 'Number of samples in dataset')"
      ]
     },
     "execution_count": 32,
     "metadata": {},
     "output_type": "execute_result"
    },
    {
     "data": {
      "image/png": "[encoded data removed]",
      "text/plain": [
       "<Figure size 432x288 with 1 Axes>"
      ]
     },
     "metadata": {
      "needs_background": "light"
     },
     "output_type": "display_data"
    }
   ],
   "source": [
    "# extract target column and group_by it\n",
    "abc = df.groupby('Organisation').size()\n",
    "# convert column into dataframe\n",
    "target_df = pd.DataFrame({'Organisation': abc.index, 'vals': list(abc)})\n",
    "\n",
    "from matplotlib import pyplot as plt\n",
    "# plot grapgh\n",
    "target_df['vals'].plot(kind='barh')\n",
    "# set axis lables and title\n",
    "plt.xticks(rotation=90, horizontalalignment=\"center\")\n",
    "plt.title(\"Class Distribution Bar Chart\")\n",
    "plt.ylabel(\"Class Names\")\n",
    "plt.xlabel(\"Number of samples in dataset\")"
   ]
  },
  {
   "cell_type": "markdown",
   "id": "58306a4a",
   "metadata": {},
   "source": [
    "# Label Encoding"
   ]
  },
  {
   "cell_type": "code",
   "execution_count": 9,
   "id": "e6cbcca7",
   "metadata": {},
   "outputs": [],
   "source": [
    "class MultiColumnLabelEncoder:\n",
    "    def __init__(self,columns = None):\n",
    "        self.columns = columns # array of column names to encode\n",
    "\n",
    "    def fit(self,X,y=None):\n",
    "        return self # not relevant here\n",
    "\n",
    "    def transform(self,X):\n",
    "        '''\n",
    "        Transforms columns of X specified in self.columns using\n",
    "        LabelEncoder(). If no columns specified, transforms all\n",
    "        columns in X.\n",
    "        '''\n",
    "        output = X.copy()\n",
    "        le_dict = {}\n",
    "        if self.columns is not None:\n",
    "            for col in self.columns:\n",
    "                le = LabelEncoder()\n",
    "                output[col] = le.fit_transform(output[col])\n",
    "                le_dict[col] = le\n",
    "        else:\n",
    "            for colname,col in output.iteritems():\n",
    "                output[colname] = LabelEncoder().fit_transform(col)\n",
    "        return output, le_dict\n",
    "\n",
    "    def fit_transform(self,X,y=None):\n",
    "        return self.fit(X,y).transform(X)"
   ]
  },
  {
   "cell_type": "code",
   "execution_count": 33,
   "id": "19cd1fd8",
   "metadata": {},
   "outputs": [
    {
     "name": "stdout",
     "output_type": "stream",
     "text": [
      "\n",
      "Label Encoder Dataframe\n",
      "=================\n",
      "\n",
      "   Category of Trade  Volume Type  Load Port  Discharge Port  Dangerous Goods\n",
      "0                  7            1         27              34                2\n",
      "1                  5            1         44              54                2\n",
      "\n",
      "\n",
      "Dictionary of Label Encoders\n",
      "==============================\n",
      "\n",
      "{'Category of Trade': LabelEncoder(), 'Volume Type': LabelEncoder(), 'Load Port': LabelEncoder(), 'Discharge Port': LabelEncoder(), 'Dangerous Goods': LabelEncoder()} \n",
      "\n"
     ]
    }
   ],
   "source": [
    "# get non_numerical fetaures\n",
    "encoder_features = features_data[['Category of Trade', 'Volume Type', 'Load Port', 'Discharge Port', 'Dangerous Goods',]]\n",
    "# pass feature to lable encoder class that encode each feature one by one\n",
    "encoder_features, le_dict = MultiColumnLabelEncoder(columns = encoder_features.columns).fit_transform(encoder_features)\n",
    "\n",
    "# display the dataframe after label encoding\n",
    "print(\"\\nLabel Encoder Dataframe\")\n",
    "print(\"=================\\n\")\n",
    "print(encoder_features.head(2))\n",
    "\n",
    "# display dictionary of label encoders\n",
    "print(\"\\n\\nDictionary of Label Encoders\")\n",
    "print(\"==============================\\n\")\n",
    "print(le_dict,\"\\n\")\n",
    "\n",
    "# save label encoders dictionary\n",
    "with open('le_dict.pickle', 'wb') as file:\n",
    "    pickle.dump(le_dict, file, protocol=pickle.HIGHEST_PROTOCOL)"
   ]
  },
  {
   "cell_type": "code",
   "execution_count": 34,
   "id": "7af645f3",
   "metadata": {},
   "outputs": [
    {
     "name": "stdout",
     "output_type": "stream",
     "text": [
      "\n",
      "clean Dataframe\n",
      "=================\n",
      "\n"
     ]
    },
    {
     "data": {
      "text/html": [
       "<div>\n",
       "<style scoped>\n",
       "    .dataframe tbody tr th:only-of-type {\n",
       "        vertical-align: middle;\n",
       "    }\n",
       "\n",
       "    .dataframe tbody tr th {\n",
       "        vertical-align: top;\n",
       "    }\n",
       "\n",
       "    .dataframe thead th {\n",
       "        text-align: right;\n",
       "    }\n",
       "</style>\n",
       "<table border=\"1\" class=\"dataframe\">\n",
       "  <thead>\n",
       "    <tr style=\"text-align: right;\">\n",
       "      <th></th>\n",
       "      <th>Volume/ Amount</th>\n",
       "      <th>Category of Trade</th>\n",
       "      <th>Volume Type</th>\n",
       "      <th>Load Port</th>\n",
       "      <th>Discharge Port</th>\n",
       "      <th>Dangerous Goods</th>\n",
       "    </tr>\n",
       "  </thead>\n",
       "  <tbody>\n",
       "    <tr>\n",
       "      <th>0</th>\n",
       "      <td>26,726</td>\n",
       "      <td>7</td>\n",
       "      <td>1</td>\n",
       "      <td>27</td>\n",
       "      <td>34</td>\n",
       "      <td>2</td>\n",
       "    </tr>\n",
       "    <tr>\n",
       "      <th>1</th>\n",
       "      <td>2,600</td>\n",
       "      <td>5</td>\n",
       "      <td>1</td>\n",
       "      <td>44</td>\n",
       "      <td>54</td>\n",
       "      <td>2</td>\n",
       "    </tr>\n",
       "    <tr>\n",
       "      <th>2</th>\n",
       "      <td>10,710</td>\n",
       "      <td>7</td>\n",
       "      <td>1</td>\n",
       "      <td>8</td>\n",
       "      <td>0</td>\n",
       "      <td>2</td>\n",
       "    </tr>\n",
       "    <tr>\n",
       "      <th>3</th>\n",
       "      <td>21,611</td>\n",
       "      <td>7</td>\n",
       "      <td>1</td>\n",
       "      <td>8</td>\n",
       "      <td>40</td>\n",
       "      <td>2</td>\n",
       "    </tr>\n",
       "    <tr>\n",
       "      <th>4</th>\n",
       "      <td>5,139</td>\n",
       "      <td>7</td>\n",
       "      <td>1</td>\n",
       "      <td>6</td>\n",
       "      <td>0</td>\n",
       "      <td>2</td>\n",
       "    </tr>\n",
       "  </tbody>\n",
       "</table>\n",
       "</div>"
      ],
      "text/plain": [
       "  Volume/ Amount  Category of Trade  Volume Type  Load Port  Discharge Port  \\\n",
       "0         26,726                  7            1         27              34   \n",
       "1          2,600                  5            1         44              54   \n",
       "2         10,710                  7            1          8               0   \n",
       "3         21,611                  7            1          8              40   \n",
       "4          5,139                  7            1          6               0   \n",
       "\n",
       "   Dangerous Goods  \n",
       "0                2  \n",
       "1                2  \n",
       "2                2  \n",
       "3                2  \n",
       "4                2  "
      ]
     },
     "execution_count": 34,
     "metadata": {},
     "output_type": "execute_result"
    }
   ],
   "source": [
    "# join the encoded features and prepare finalize dataframe\n",
    "features_data[['Category of Trade', 'Volume Type', 'Load Port', 'Discharge Port', 'Dangerous Goods']] = encoder_features[['Category of Trade', 'Volume Type', 'Load Port', 'Discharge Port', 'Dangerous Goods']]\n",
    "clean_df = features_data[['Volume/ Amount', 'Category of Trade', 'Volume Type', 'Load Port', 'Discharge Port', 'Dangerous Goods']]\n",
    "\n",
    "# display cleaned dataframe after label encoding\n",
    "print(\"\\nclean Dataframe\")\n",
    "print(\"=================\\n\")\n",
    "clean_df.head()"
   ]
  },
  {
   "cell_type": "markdown",
   "id": "488d56f1",
   "metadata": {},
   "source": [
    "## Target class encoding"
   ]
  },
  {
   "cell_type": "code",
   "execution_count": 35,
   "id": "b3fabaa3",
   "metadata": {},
   "outputs": [],
   "source": [
    "# initialize label encoder and encode the target/class column of dataset\n",
    "le = LabelEncoder()\n",
    "target['Organisation'] = le.fit_transform(target['Organisation'])"
   ]
  },
  {
   "cell_type": "code",
   "execution_count": 36,
   "id": "624f67a1",
   "metadata": {},
   "outputs": [
    {
     "name": "stdout",
     "output_type": "stream",
     "text": [
      "\n",
      "Shape of Features Dataframe : (21589, 6)\n",
      "============================\n",
      "\n",
      "\n",
      "Shape of Class Dataframe : (21589, 1)\n",
      "============================\n",
      "\n"
     ]
    }
   ],
   "source": [
    "print(\"\\nShape of Features Dataframe :\", clean_df.shape)\n",
    "print(\"============================\\n\")\n",
    "\n",
    "print(\"\\nShape of Class Dataframe :\", target.shape)\n",
    "print(\"============================\\n\")"
   ]
  },
  {
   "cell_type": "code",
   "execution_count": 37,
   "id": "0e951a41",
   "metadata": {},
   "outputs": [],
   "source": [
    "# save target column label encoder\n",
    "output = open('target_encoder.pkl', 'wb')\n",
    "pickle.dump(le, output)\n",
    "output.close()"
   ]
  },
  {
   "cell_type": "markdown",
   "id": "33456cb1",
   "metadata": {},
   "source": [
    "## preppare final dataframe"
   ]
  },
  {
   "cell_type": "code",
   "execution_count": 38,
   "id": "be7662a4",
   "metadata": {},
   "outputs": [
    {
     "name": "stdout",
     "output_type": "stream",
     "text": [
      "\n",
      "Shape of Final Dataframe : (21589, 7)\n",
      "============================\n",
      "\n",
      "\n",
      "Final Dataframe\n",
      "===============\n",
      "\n"
     ]
    },
    {
     "data": {
      "text/html": [
       "<div>\n",
       "<style scoped>\n",
       "    .dataframe tbody tr th:only-of-type {\n",
       "        vertical-align: middle;\n",
       "    }\n",
       "\n",
       "    .dataframe tbody tr th {\n",
       "        vertical-align: top;\n",
       "    }\n",
       "\n",
       "    .dataframe thead th {\n",
       "        text-align: right;\n",
       "    }\n",
       "</style>\n",
       "<table border=\"1\" class=\"dataframe\">\n",
       "  <thead>\n",
       "    <tr style=\"text-align: right;\">\n",
       "      <th></th>\n",
       "      <th>Category of Trade</th>\n",
       "      <th>Volume/ Amount</th>\n",
       "      <th>Volume Type</th>\n",
       "      <th>Load Port</th>\n",
       "      <th>Discharge Port</th>\n",
       "      <th>Dangerous Goods</th>\n",
       "      <th>Organisation</th>\n",
       "    </tr>\n",
       "  </thead>\n",
       "  <tbody>\n",
       "    <tr>\n",
       "      <th>0</th>\n",
       "      <td>7</td>\n",
       "      <td>26,726</td>\n",
       "      <td>1</td>\n",
       "      <td>27</td>\n",
       "      <td>34</td>\n",
       "      <td>2</td>\n",
       "      <td>73</td>\n",
       "    </tr>\n",
       "    <tr>\n",
       "      <th>1</th>\n",
       "      <td>5</td>\n",
       "      <td>2,600</td>\n",
       "      <td>1</td>\n",
       "      <td>44</td>\n",
       "      <td>54</td>\n",
       "      <td>2</td>\n",
       "      <td>69</td>\n",
       "    </tr>\n",
       "    <tr>\n",
       "      <th>2</th>\n",
       "      <td>7</td>\n",
       "      <td>10,710</td>\n",
       "      <td>1</td>\n",
       "      <td>8</td>\n",
       "      <td>0</td>\n",
       "      <td>2</td>\n",
       "      <td>12</td>\n",
       "    </tr>\n",
       "    <tr>\n",
       "      <th>3</th>\n",
       "      <td>7</td>\n",
       "      <td>21,611</td>\n",
       "      <td>1</td>\n",
       "      <td>8</td>\n",
       "      <td>40</td>\n",
       "      <td>2</td>\n",
       "      <td>12</td>\n",
       "    </tr>\n",
       "    <tr>\n",
       "      <th>4</th>\n",
       "      <td>7</td>\n",
       "      <td>5,139</td>\n",
       "      <td>1</td>\n",
       "      <td>6</td>\n",
       "      <td>0</td>\n",
       "      <td>2</td>\n",
       "      <td>12</td>\n",
       "    </tr>\n",
       "  </tbody>\n",
       "</table>\n",
       "</div>"
      ],
      "text/plain": [
       "   Category of Trade Volume/ Amount  Volume Type  Load Port  Discharge Port  \\\n",
       "0                  7         26,726            1         27              34   \n",
       "1                  5          2,600            1         44              54   \n",
       "2                  7         10,710            1          8               0   \n",
       "3                  7         21,611            1          8              40   \n",
       "4                  7          5,139            1          6               0   \n",
       "\n",
       "   Dangerous Goods  Organisation  \n",
       "0                2            73  \n",
       "1                2            69  \n",
       "2                2            12  \n",
       "3                2            12  \n",
       "4                2            12  "
      ]
     },
     "execution_count": 38,
     "metadata": {},
     "output_type": "execute_result"
    }
   ],
   "source": [
    "# make copy\n",
    "all_features = features_data.copy()\n",
    "# append class column\n",
    "all_features['Organisation'] = target['Organisation']\n",
    "\n",
    "print(\"\\nShape of Final Dataframe :\", all_features.shape)\n",
    "print(\"============================\\n\")\n",
    "\n",
    "print(\"\\nFinal Dataframe\")\n",
    "print(\"===============\\n\")\n",
    "all_features.head()"
   ]
  },
  {
   "cell_type": "markdown",
   "id": "8b035977",
   "metadata": {},
   "source": [
    "## plot correlation metrics"
   ]
  },
  {
   "cell_type": "code",
   "execution_count": 39,
   "id": "f470da56",
   "metadata": {},
   "outputs": [
    {
     "data": {
      "text/html": [
       "<style  type=\"text/css\" >\n",
       "#T_1ac00cb4_a909_11ec_9770_3106048b00c3row0_col0,#T_1ac00cb4_a909_11ec_9770_3106048b00c3row1_col1,#T_1ac00cb4_a909_11ec_9770_3106048b00c3row2_col2,#T_1ac00cb4_a909_11ec_9770_3106048b00c3row3_col3,#T_1ac00cb4_a909_11ec_9770_3106048b00c3row4_col4,#T_1ac00cb4_a909_11ec_9770_3106048b00c3row5_col5{\n",
       "            background-color:  #b40426;\n",
       "            color:  #f1f1f1;\n",
       "        }#T_1ac00cb4_a909_11ec_9770_3106048b00c3row0_col1,#T_1ac00cb4_a909_11ec_9770_3106048b00c3row0_col2,#T_1ac00cb4_a909_11ec_9770_3106048b00c3row1_col0,#T_1ac00cb4_a909_11ec_9770_3106048b00c3row1_col3,#T_1ac00cb4_a909_11ec_9770_3106048b00c3row1_col4,#T_1ac00cb4_a909_11ec_9770_3106048b00c3row2_col5{\n",
       "            background-color:  #3b4cc0;\n",
       "            color:  #f1f1f1;\n",
       "        }#T_1ac00cb4_a909_11ec_9770_3106048b00c3row0_col3{\n",
       "            background-color:  #5e7de7;\n",
       "            color:  #000000;\n",
       "        }#T_1ac00cb4_a909_11ec_9770_3106048b00c3row0_col4{\n",
       "            background-color:  #f2cbb7;\n",
       "            color:  #000000;\n",
       "        }#T_1ac00cb4_a909_11ec_9770_3106048b00c3row0_col5{\n",
       "            background-color:  #7b9ff9;\n",
       "            color:  #000000;\n",
       "        }#T_1ac00cb4_a909_11ec_9770_3106048b00c3row1_col2,#T_1ac00cb4_a909_11ec_9770_3106048b00c3row3_col4{\n",
       "            background-color:  #5f7fe8;\n",
       "            color:  #000000;\n",
       "        }#T_1ac00cb4_a909_11ec_9770_3106048b00c3row1_col5{\n",
       "            background-color:  #4055c8;\n",
       "            color:  #f1f1f1;\n",
       "        }#T_1ac00cb4_a909_11ec_9770_3106048b00c3row2_col0{\n",
       "            background-color:  #86a9fc;\n",
       "            color:  #000000;\n",
       "        }#T_1ac00cb4_a909_11ec_9770_3106048b00c3row2_col1{\n",
       "            background-color:  #a6c4fe;\n",
       "            color:  #000000;\n",
       "        }#T_1ac00cb4_a909_11ec_9770_3106048b00c3row2_col3{\n",
       "            background-color:  #536edd;\n",
       "            color:  #000000;\n",
       "        }#T_1ac00cb4_a909_11ec_9770_3106048b00c3row2_col4{\n",
       "            background-color:  #6485ec;\n",
       "            color:  #000000;\n",
       "        }#T_1ac00cb4_a909_11ec_9770_3106048b00c3row3_col0{\n",
       "            background-color:  #93b5fe;\n",
       "            color:  #000000;\n",
       "        }#T_1ac00cb4_a909_11ec_9770_3106048b00c3row3_col1{\n",
       "            background-color:  #7295f4;\n",
       "            color:  #000000;\n",
       "        }#T_1ac00cb4_a909_11ec_9770_3106048b00c3row3_col2{\n",
       "            background-color:  #3c4ec2;\n",
       "            color:  #f1f1f1;\n",
       "        }#T_1ac00cb4_a909_11ec_9770_3106048b00c3row3_col5{\n",
       "            background-color:  #3f53c6;\n",
       "            color:  #f1f1f1;\n",
       "        }#T_1ac00cb4_a909_11ec_9770_3106048b00c3row4_col0{\n",
       "            background-color:  #f7b79b;\n",
       "            color:  #000000;\n",
       "        }#T_1ac00cb4_a909_11ec_9770_3106048b00c3row4_col1{\n",
       "            background-color:  #7597f6;\n",
       "            color:  #000000;\n",
       "        }#T_1ac00cb4_a909_11ec_9770_3106048b00c3row4_col2{\n",
       "            background-color:  #506bda;\n",
       "            color:  #000000;\n",
       "        }#T_1ac00cb4_a909_11ec_9770_3106048b00c3row4_col3,#T_1ac00cb4_a909_11ec_9770_3106048b00c3row5_col3{\n",
       "            background-color:  #6282ea;\n",
       "            color:  #000000;\n",
       "        }#T_1ac00cb4_a909_11ec_9770_3106048b00c3row4_col5{\n",
       "            background-color:  #4a63d3;\n",
       "            color:  #f1f1f1;\n",
       "        }#T_1ac00cb4_a909_11ec_9770_3106048b00c3row5_col0{\n",
       "            background-color:  #c3d5f4;\n",
       "            color:  #000000;\n",
       "        }#T_1ac00cb4_a909_11ec_9770_3106048b00c3row5_col1{\n",
       "            background-color:  #97b8ff;\n",
       "            color:  #000000;\n",
       "        }#T_1ac00cb4_a909_11ec_9770_3106048b00c3row5_col2{\n",
       "            background-color:  #455cce;\n",
       "            color:  #f1f1f1;\n",
       "        }#T_1ac00cb4_a909_11ec_9770_3106048b00c3row5_col4{\n",
       "            background-color:  #688aef;\n",
       "            color:  #000000;\n",
       "        }</style><table id=\"T_1ac00cb4_a909_11ec_9770_3106048b00c3\" ><thead>    <tr>        <th class=\"blank level0\" ></th>        <th class=\"col_heading level0 col0\" >Category of Trade</th>        <th class=\"col_heading level0 col1\" >Volume Type</th>        <th class=\"col_heading level0 col2\" >Load Port</th>        <th class=\"col_heading level0 col3\" >Discharge Port</th>        <th class=\"col_heading level0 col4\" >Dangerous Goods</th>        <th class=\"col_heading level0 col5\" >Organisation</th>    </tr></thead><tbody>\n",
       "                <tr>\n",
       "                        <th id=\"T_1ac00cb4_a909_11ec_9770_3106048b00c3level0_row0\" class=\"row_heading level0 row0\" >Category of Trade</th>\n",
       "                        <td id=\"T_1ac00cb4_a909_11ec_9770_3106048b00c3row0_col0\" class=\"data row0 col0\" >1.000000</td>\n",
       "                        <td id=\"T_1ac00cb4_a909_11ec_9770_3106048b00c3row0_col1\" class=\"data row0 col1\" >-0.422956</td>\n",
       "                        <td id=\"T_1ac00cb4_a909_11ec_9770_3106048b00c3row0_col2\" class=\"data row0 col2\" >-0.091438</td>\n",
       "                        <td id=\"T_1ac00cb4_a909_11ec_9770_3106048b00c3row0_col3\" class=\"data row0 col3\" >-0.043481</td>\n",
       "                        <td id=\"T_1ac00cb4_a909_11ec_9770_3106048b00c3row0_col4\" class=\"data row0 col4\" >0.531135</td>\n",
       "                        <td id=\"T_1ac00cb4_a909_11ec_9770_3106048b00c3row0_col5\" class=\"data row0 col5\" >0.160264</td>\n",
       "            </tr>\n",
       "            <tr>\n",
       "                        <th id=\"T_1ac00cb4_a909_11ec_9770_3106048b00c3level0_row1\" class=\"row_heading level0 row1\" >Volume Type</th>\n",
       "                        <td id=\"T_1ac00cb4_a909_11ec_9770_3106048b00c3row1_col0\" class=\"data row1 col0\" >-0.422956</td>\n",
       "                        <td id=\"T_1ac00cb4_a909_11ec_9770_3106048b00c3row1_col1\" class=\"data row1 col1\" >1.000000</td>\n",
       "                        <td id=\"T_1ac00cb4_a909_11ec_9770_3106048b00c3row1_col2\" class=\"data row1 col2\" >0.037284</td>\n",
       "                        <td id=\"T_1ac00cb4_a909_11ec_9770_3106048b00c3row1_col3\" class=\"data row1 col3\" >-0.177869</td>\n",
       "                        <td id=\"T_1ac00cb4_a909_11ec_9770_3106048b00c3row1_col4\" class=\"data row1 col4\" >-0.166779</td>\n",
       "                        <td id=\"T_1ac00cb4_a909_11ec_9770_3106048b00c3row1_col5\" class=\"data row1 col5\" >-0.026099</td>\n",
       "            </tr>\n",
       "            <tr>\n",
       "                        <th id=\"T_1ac00cb4_a909_11ec_9770_3106048b00c3level0_row2\" class=\"row_heading level0 row2\" >Load Port</th>\n",
       "                        <td id=\"T_1ac00cb4_a909_11ec_9770_3106048b00c3row2_col0\" class=\"data row2 col0\" >-0.091438</td>\n",
       "                        <td id=\"T_1ac00cb4_a909_11ec_9770_3106048b00c3row2_col1\" class=\"data row2 col1\" >0.037284</td>\n",
       "                        <td id=\"T_1ac00cb4_a909_11ec_9770_3106048b00c3row2_col2\" class=\"data row2 col2\" >1.000000</td>\n",
       "                        <td id=\"T_1ac00cb4_a909_11ec_9770_3106048b00c3row2_col3\" class=\"data row2 col3\" >-0.083486</td>\n",
       "                        <td id=\"T_1ac00cb4_a909_11ec_9770_3106048b00c3row2_col4\" class=\"data row2 col4\" >-0.011709</td>\n",
       "                        <td id=\"T_1ac00cb4_a909_11ec_9770_3106048b00c3row2_col5\" class=\"data row2 col5\" >-0.049692</td>\n",
       "            </tr>\n",
       "            <tr>\n",
       "                        <th id=\"T_1ac00cb4_a909_11ec_9770_3106048b00c3level0_row3\" class=\"row_heading level0 row3\" >Discharge Port</th>\n",
       "                        <td id=\"T_1ac00cb4_a909_11ec_9770_3106048b00c3row3_col0\" class=\"data row3 col0\" >-0.043481</td>\n",
       "                        <td id=\"T_1ac00cb4_a909_11ec_9770_3106048b00c3row3_col1\" class=\"data row3 col1\" >-0.177869</td>\n",
       "                        <td id=\"T_1ac00cb4_a909_11ec_9770_3106048b00c3row3_col2\" class=\"data row3 col2\" >-0.083486</td>\n",
       "                        <td id=\"T_1ac00cb4_a909_11ec_9770_3106048b00c3row3_col3\" class=\"data row3 col3\" >1.000000</td>\n",
       "                        <td id=\"T_1ac00cb4_a909_11ec_9770_3106048b00c3row3_col4\" class=\"data row3 col4\" >-0.026711</td>\n",
       "                        <td id=\"T_1ac00cb4_a909_11ec_9770_3106048b00c3row3_col5\" class=\"data row3 col5\" >-0.029774</td>\n",
       "            </tr>\n",
       "            <tr>\n",
       "                        <th id=\"T_1ac00cb4_a909_11ec_9770_3106048b00c3level0_row4\" class=\"row_heading level0 row4\" >Dangerous Goods</th>\n",
       "                        <td id=\"T_1ac00cb4_a909_11ec_9770_3106048b00c3row4_col0\" class=\"data row4 col0\" >0.531135</td>\n",
       "                        <td id=\"T_1ac00cb4_a909_11ec_9770_3106048b00c3row4_col1\" class=\"data row4 col1\" >-0.166779</td>\n",
       "                        <td id=\"T_1ac00cb4_a909_11ec_9770_3106048b00c3row4_col2\" class=\"data row4 col2\" >-0.011709</td>\n",
       "                        <td id=\"T_1ac00cb4_a909_11ec_9770_3106048b00c3row4_col3\" class=\"data row4 col3\" >-0.026711</td>\n",
       "                        <td id=\"T_1ac00cb4_a909_11ec_9770_3106048b00c3row4_col4\" class=\"data row4 col4\" >1.000000</td>\n",
       "                        <td id=\"T_1ac00cb4_a909_11ec_9770_3106048b00c3row4_col5\" class=\"data row4 col5\" >0.005337</td>\n",
       "            </tr>\n",
       "            <tr>\n",
       "                        <th id=\"T_1ac00cb4_a909_11ec_9770_3106048b00c3level0_row5\" class=\"row_heading level0 row5\" >Organisation</th>\n",
       "                        <td id=\"T_1ac00cb4_a909_11ec_9770_3106048b00c3row5_col0\" class=\"data row5 col0\" >0.160264</td>\n",
       "                        <td id=\"T_1ac00cb4_a909_11ec_9770_3106048b00c3row5_col1\" class=\"data row5 col1\" >-0.026099</td>\n",
       "                        <td id=\"T_1ac00cb4_a909_11ec_9770_3106048b00c3row5_col2\" class=\"data row5 col2\" >-0.049692</td>\n",
       "                        <td id=\"T_1ac00cb4_a909_11ec_9770_3106048b00c3row5_col3\" class=\"data row5 col3\" >-0.029774</td>\n",
       "                        <td id=\"T_1ac00cb4_a909_11ec_9770_3106048b00c3row5_col4\" class=\"data row5 col4\" >0.005337</td>\n",
       "                        <td id=\"T_1ac00cb4_a909_11ec_9770_3106048b00c3row5_col5\" class=\"data row5 col5\" >1.000000</td>\n",
       "            </tr>\n",
       "    </tbody></table>"
      ],
      "text/plain": [
       "<pandas.io.formats.style.Styler at 0x7fbe20647f10>"
      ]
     },
     "execution_count": 39,
     "metadata": {},
     "output_type": "execute_result"
    }
   ],
   "source": [
    "# plot correlation graph\n",
    "corr = all_features.corr()\n",
    "# congigure backgound colors scheme\n",
    "corr.style.background_gradient(cmap='coolwarm')"
   ]
  },
  {
   "cell_type": "markdown",
   "id": "57a0ab32",
   "metadata": {},
   "source": [
    "## Grapghs"
   ]
  },
  {
   "cell_type": "code",
   "execution_count": 40,
   "id": "731bbe73",
   "metadata": {},
   "outputs": [
    {
     "data": {
      "text/html": [
       "<div>\n",
       "<style scoped>\n",
       "    .dataframe tbody tr th:only-of-type {\n",
       "        vertical-align: middle;\n",
       "    }\n",
       "\n",
       "    .dataframe tbody tr th {\n",
       "        vertical-align: top;\n",
       "    }\n",
       "\n",
       "    .dataframe thead th {\n",
       "        text-align: right;\n",
       "    }\n",
       "</style>\n",
       "<table border=\"1\" class=\"dataframe\">\n",
       "  <thead>\n",
       "    <tr style=\"text-align: right;\">\n",
       "      <th></th>\n",
       "      <th>Category of Trade</th>\n",
       "      <th>Volume/ Amount</th>\n",
       "      <th>Volume Type</th>\n",
       "      <th>Load Port</th>\n",
       "      <th>Discharge Port</th>\n",
       "      <th>Dangerous Goods</th>\n",
       "      <th>Organisation</th>\n",
       "    </tr>\n",
       "  </thead>\n",
       "  <tbody>\n",
       "    <tr>\n",
       "      <th>0</th>\n",
       "      <td>7</td>\n",
       "      <td>26,726</td>\n",
       "      <td>1</td>\n",
       "      <td>27</td>\n",
       "      <td>34</td>\n",
       "      <td>2</td>\n",
       "      <td>73</td>\n",
       "    </tr>\n",
       "    <tr>\n",
       "      <th>1</th>\n",
       "      <td>5</td>\n",
       "      <td>2,600</td>\n",
       "      <td>1</td>\n",
       "      <td>44</td>\n",
       "      <td>54</td>\n",
       "      <td>2</td>\n",
       "      <td>69</td>\n",
       "    </tr>\n",
       "    <tr>\n",
       "      <th>2</th>\n",
       "      <td>7</td>\n",
       "      <td>10,710</td>\n",
       "      <td>1</td>\n",
       "      <td>8</td>\n",
       "      <td>0</td>\n",
       "      <td>2</td>\n",
       "      <td>12</td>\n",
       "    </tr>\n",
       "    <tr>\n",
       "      <th>3</th>\n",
       "      <td>7</td>\n",
       "      <td>21,611</td>\n",
       "      <td>1</td>\n",
       "      <td>8</td>\n",
       "      <td>40</td>\n",
       "      <td>2</td>\n",
       "      <td>12</td>\n",
       "    </tr>\n",
       "    <tr>\n",
       "      <th>4</th>\n",
       "      <td>7</td>\n",
       "      <td>5,139</td>\n",
       "      <td>1</td>\n",
       "      <td>6</td>\n",
       "      <td>0</td>\n",
       "      <td>2</td>\n",
       "      <td>12</td>\n",
       "    </tr>\n",
       "  </tbody>\n",
       "</table>\n",
       "</div>"
      ],
      "text/plain": [
       "   Category of Trade Volume/ Amount  Volume Type  Load Port  Discharge Port  \\\n",
       "0                  7         26,726            1         27              34   \n",
       "1                  5          2,600            1         44              54   \n",
       "2                  7         10,710            1          8               0   \n",
       "3                  7         21,611            1          8              40   \n",
       "4                  7          5,139            1          6               0   \n",
       "\n",
       "   Dangerous Goods  Organisation  \n",
       "0                2            73  \n",
       "1                2            69  \n",
       "2                2            12  \n",
       "3                2            12  \n",
       "4                2            12  "
      ]
     },
     "execution_count": 40,
     "metadata": {},
     "output_type": "execute_result"
    }
   ],
   "source": [
    "# display finalized dataframe samples\n",
    "all_features.head()"
   ]
  },
  {
   "cell_type": "code",
   "execution_count": 41,
   "id": "e06d4cf1",
   "metadata": {},
   "outputs": [
    {
     "data": {
      "text/plain": [
       "<seaborn.axisgrid.FacetGrid at 0x7fbdfd24d290>"
      ]
     },
     "execution_count": 41,
     "metadata": {},
     "output_type": "execute_result"
    },
    {
     "data": {
      "image/png": "[encoded data removed]",
      "text/plain": [
       "<Figure size 360x360 with 1 Axes>"
      ]
     },
     "metadata": {
      "needs_background": "light"
     },
     "output_type": "display_data"
    }
   ],
   "source": [
    "import seaborn as sns\n",
    "# plot scatter plot between category of trade and class column\n",
    "sns.relplot(x=\"Category of Trade\", y=\"Organisation\", data=all_features)"
   ]
  },
  {
   "cell_type": "code",
   "execution_count": 21,
   "id": "c6c851af",
   "metadata": {},
   "outputs": [
    {
     "data": {
      "text/plain": [
       "<seaborn.axisgrid.FacetGrid at 0x7fbe2127c590>"
      ]
     },
     "execution_count": 21,
     "metadata": {},
     "output_type": "execute_result"
    },
    {
     "data": {
      "image/png": "[encoded data removed]",
      "text/plain": [
       "<Figure size 431x360 with 1 Axes>"
      ]
     },
     "metadata": {
      "needs_background": "light"
     },
     "output_type": "display_data"
    }
   ],
   "source": [
    "# plot scatter plot between category of trade and class column by selecting hue\n",
    "sns.relplot(x=\"Category of Trade\", y=\"Organisation\", hue=\"Volume Type\", data=all_features)"
   ]
  },
  {
   "cell_type": "code",
   "execution_count": 42,
   "id": "1b2f8312",
   "metadata": {},
   "outputs": [
    {
     "data": {
      "text/plain": [
       "<seaborn.axisgrid.FacetGrid at 0x7fbe1bf52b50>"
      ]
     },
     "execution_count": 42,
     "metadata": {},
     "output_type": "execute_result"
    },
    {
     "data": {
      "image/png": "[encoded data removed]",
      "text/plain": [
       "<Figure size 431x360 with 1 Axes>"
      ]
     },
     "metadata": {
      "needs_background": "light"
     },
     "output_type": "display_data"
    }
   ],
   "source": [
    "# plot scatter plot between category of trade and class column by different congiguration\n",
    "sns.relplot(x=\"Category of Trade\", y=\"Organisation\", hue=\"Volume Type\", style=\"Volume Type\", data=all_features)"
   ]
  },
  {
   "cell_type": "code",
   "execution_count": 43,
   "id": "8c540dc3",
   "metadata": {},
   "outputs": [
    {
     "data": {
      "text/plain": [
       "<seaborn.axisgrid.FacetGrid at 0x7fbe205b1890>"
      ]
     },
     "execution_count": 43,
     "metadata": {},
     "output_type": "execute_result"
    },
    {
     "data": {
      "image/png": "[encoded data removed]",
      "text/plain": [
       "<Figure size 414.625x360 with 1 Axes>"
      ]
     },
     "metadata": {
      "needs_background": "light"
     },
     "output_type": "display_data"
    }
   ],
   "source": [
    "# plot scatter plot between category of trade and class column\n",
    "sns.relplot(x=\"Load Port\", hue=\"Load Port\", y=\"Organisation\", data=all_features)"
   ]
  },
  {
   "cell_type": "markdown",
   "id": "af360166",
   "metadata": {},
   "source": [
    "## save clean files"
   ]
  },
  {
   "cell_type": "code",
   "execution_count": 44,
   "id": "0ebda33e",
   "metadata": {},
   "outputs": [],
   "source": [
    "# save finalize dataframe in csv file\n",
    "all_features.to_csv(\"dataset.csv\", index=False)"
   ]
  },
  {
   "cell_type": "code",
   "execution_count": null,
   "id": "35276131",
   "metadata": {},
   "outputs": [],
   "source": []
  }
 ],
 "metadata": {
  "kernelspec": {
   "display_name": "Python 3 (ipykernel)",
   "language": "python",
   "name": "python3"
  },
  "language_info": {
   "codemirror_mode": {
    "name": "ipython",
    "version": 3
   },
   "file_extension": ".py",
   "mimetype": "text/x-python",
   "name": "python",
   "nbconvert_exporter": "python",
   "pygments_lexer": "ipython3",
   "version": "3.9.7"
  }
 },
 "nbformat": 4,
 "nbformat_minor": 5
}
