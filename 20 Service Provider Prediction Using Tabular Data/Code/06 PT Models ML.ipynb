{
 "cells": [
  {
   "cell_type": "code",
   "execution_count": 1,
   "id": "e712561c",
   "metadata": {},
   "outputs": [],
   "source": [
    "# !pip install tab2img"
   ]
  },
  {
   "cell_type": "markdown",
   "id": "c5d613a3",
   "metadata": {},
   "source": [
    "## import libraries"
   ]
  },
  {
   "cell_type": "code",
   "execution_count": 2,
   "id": "2067e91b",
   "metadata": {},
   "outputs": [],
   "source": [
    "import warnings\n",
    "warnings.filterwarnings('ignore')\n",
    "\n",
    "import pickle\n",
    "import numpy as np\n",
    "import pandas as pd\n",
    "import matplotlib.pyplot as plt\n",
    "from statistics import mean\n",
    "\n",
    "from sklearn import svm\n",
    "from sklearn.preprocessing import StandardScaler\n",
    "from sklearn.model_selection import train_test_split\n",
    "from sklearn.metrics import accuracy_score, balanced_accuracy_score\n",
    "from sklearn.metrics import classification_report\n",
    "from sklearn.metrics import precision_recall_fscore_support\n",
    "\n",
    "from sklearn.ensemble import RandomForestClassifier, AdaBoostClassifier, GradientBoostingClassifier\n",
    "\n",
    "import tensorflow as tf\n",
    "from tensorflow.keras.models import Sequential \n",
    "from tensorflow.keras.layers import Dense,Activation,Dropout \n",
    "from tensorflow.keras.layers import BatchNormalization \n",
    "from tensorflow.keras.utils import to_categorical\n",
    "\n",
    "# from tab2img.converter import Tab2Img\n",
    "from xgboost import XGBClassifier"
   ]
  },
  {
   "cell_type": "markdown",
   "id": "eaccd884",
   "metadata": {},
   "source": [
    "# **Read CSV files**"
   ]
  },
  {
   "cell_type": "code",
   "execution_count": 3,
   "id": "f8cee4fc",
   "metadata": {},
   "outputs": [
    {
     "data": {
      "text/html": [
       "<div>\n",
       "<style scoped>\n",
       "    .dataframe tbody tr th:only-of-type {\n",
       "        vertical-align: middle;\n",
       "    }\n",
       "\n",
       "    .dataframe tbody tr th {\n",
       "        vertical-align: top;\n",
       "    }\n",
       "\n",
       "    .dataframe thead th {\n",
       "        text-align: right;\n",
       "    }\n",
       "</style>\n",
       "<table border=\"1\" class=\"dataframe\">\n",
       "  <thead>\n",
       "    <tr style=\"text-align: right;\">\n",
       "      <th></th>\n",
       "      <th>Category of Trade</th>\n",
       "      <th>Volume/ Amount</th>\n",
       "      <th>Volume Type</th>\n",
       "      <th>Load Port</th>\n",
       "      <th>Discharge Port</th>\n",
       "      <th>Dangerous Goods</th>\n",
       "      <th>Organisation</th>\n",
       "    </tr>\n",
       "  </thead>\n",
       "  <tbody>\n",
       "    <tr>\n",
       "      <th>0</th>\n",
       "      <td>7</td>\n",
       "      <td>26,726</td>\n",
       "      <td>1</td>\n",
       "      <td>27</td>\n",
       "      <td>34</td>\n",
       "      <td>2</td>\n",
       "      <td>73</td>\n",
       "    </tr>\n",
       "    <tr>\n",
       "      <th>1</th>\n",
       "      <td>5</td>\n",
       "      <td>2,600</td>\n",
       "      <td>1</td>\n",
       "      <td>44</td>\n",
       "      <td>54</td>\n",
       "      <td>2</td>\n",
       "      <td>69</td>\n",
       "    </tr>\n",
       "    <tr>\n",
       "      <th>2</th>\n",
       "      <td>7</td>\n",
       "      <td>10,710</td>\n",
       "      <td>1</td>\n",
       "      <td>8</td>\n",
       "      <td>0</td>\n",
       "      <td>2</td>\n",
       "      <td>12</td>\n",
       "    </tr>\n",
       "    <tr>\n",
       "      <th>3</th>\n",
       "      <td>7</td>\n",
       "      <td>21,611</td>\n",
       "      <td>1</td>\n",
       "      <td>8</td>\n",
       "      <td>40</td>\n",
       "      <td>2</td>\n",
       "      <td>12</td>\n",
       "    </tr>\n",
       "    <tr>\n",
       "      <th>4</th>\n",
       "      <td>7</td>\n",
       "      <td>5,139</td>\n",
       "      <td>1</td>\n",
       "      <td>6</td>\n",
       "      <td>0</td>\n",
       "      <td>2</td>\n",
       "      <td>12</td>\n",
       "    </tr>\n",
       "  </tbody>\n",
       "</table>\n",
       "</div>"
      ],
      "text/plain": [
       "   Category of Trade Volume/ Amount  Volume Type  Load Port  Discharge Port  \\\n",
       "0                  7         26,726            1         27              34   \n",
       "1                  5          2,600            1         44              54   \n",
       "2                  7         10,710            1          8               0   \n",
       "3                  7         21,611            1          8              40   \n",
       "4                  7          5,139            1          6               0   \n",
       "\n",
       "   Dangerous Goods  Organisation  \n",
       "0                2            73  \n",
       "1                2            69  \n",
       "2                2            12  \n",
       "3                2            12  \n",
       "4                2            12  "
      ]
     },
     "execution_count": 3,
     "metadata": {},
     "output_type": "execute_result"
    }
   ],
   "source": [
    "# read file\n",
    "df  = pd.read_csv(\"dataset/dataset.csv\")\n",
    "df.head()"
   ]
  },
  {
   "cell_type": "markdown",
   "id": "34899ec5",
   "metadata": {},
   "source": [
    "# **Seperate features and target**"
   ]
  },
  {
   "cell_type": "code",
   "execution_count": 4,
   "id": "0b4fe543",
   "metadata": {},
   "outputs": [],
   "source": [
    "# seperate features and target column\n",
    "features = [\"Category of Trade\", \"Volume Type\", \"Load Port\", \"Discharge Port\", \"Dangerous Goods\"]\n",
    "target = \"Organisation\"\n",
    "\n",
    "# copy the feqatures and class dataframe in X and y variable\n",
    "X = df[features]\n",
    "y = df[target]"
   ]
  },
  {
   "cell_type": "markdown",
   "id": "f232f74f",
   "metadata": {},
   "source": [
    "# **Scale features and train test split**"
   ]
  },
  {
   "cell_type": "code",
   "execution_count": 5,
   "id": "c8d68f58",
   "metadata": {},
   "outputs": [],
   "source": [
    "# scalling feature value between the range of 0-1\n",
    "ss = StandardScaler()\n",
    "X = ss.fit_transform(X)\n"
   ]
  },
  {
   "cell_type": "markdown",
   "id": "9c33dda2",
   "metadata": {},
   "source": [
    "## customize functions"
   ]
  },
  {
   "cell_type": "code",
   "execution_count": 6,
   "id": "fc7f66e3",
   "metadata": {},
   "outputs": [],
   "source": [
    "#list of evaluation scores\n",
    "evalution_scores = []\n",
    "\n",
    "# save saller\n",
    "pkl_file = open('others/target_encoder.pkl', 'rb')\n",
    "le_target = pickle.load(pkl_file) \n",
    "\n",
    "# function for getting class labels via class integar using label encoder\n",
    "def get_classes(y_test):\n",
    "    y_test = y_test.unique()\n",
    "    print(len(y_test))\n",
    "    return le_target.inverse_transform(y_test)\n",
    "\n",
    "# get unique classes in test set\n",
    "def get_str_classes(y_test):\n",
    "    y_test = y_test.unique()\n",
    "    return [str(int) for int in y_test]\n",
    "\n",
    "# split dataset in training and testing set \n",
    "def get_train_test_split():\n",
    "    return train_test_split(X, y, test_size=0.2, random_state=42)\n",
    "\n",
    "\n",
    "# split data into train, test and validation set with splitted feature and class\n",
    "def get_train_test_val_split(X, y):\n",
    "    X_train, X_test, y_train, y_test = train_test_split(X, y, test_size=0.1, random_state=42)\n",
    "    X_train, X_val, y_train, y_val = train_test_split(X_train, y_train, test_size=0.22, random_state=2)\n",
    "    return X_train, X_test, X_val, y_train, y_test, y_val\n",
    "\n",
    "# split data into train, test and validation set with joined feature and class\n",
    "def get_train_test_val_split_df():\n",
    "    train, test = train_test_split(df, test_size=0.2, random_state=42)\n",
    "    train, val = train_test_split(train, test_size=0.25, random_state=2)\n",
    "    return train, test, val\n",
    "\n",
    "\n",
    "# compute the accuracy using true and predicted labels\n",
    "def compute_accuracy(y_true, y_pred):\n",
    "    correct_predictions = 0\n",
    "    # iterate over each label and check\n",
    "    for true, predicted in zip(y_true, y_pred):\n",
    "        if true == predicted:\n",
    "            correct_predictions += 1\n",
    "    # compute the accuracy\n",
    "    accuracy = correct_predictions/len(y_true)\n",
    "    return accuracy\n",
    "\n",
    "\n",
    "# compute other evaluation measures and print\n",
    "def make_predictions(y_test, y_pred):\n",
    "    accuracy=accuracy_score(y_test, y_pred)\n",
    "    P, R, F, S = precision_recall_fscore_support(y_test, y_pred, average=\"weighted\")\n",
    "    \n",
    "    accuracy = \"{:.4f}\".format(accuracy)\n",
    "    P = \"{:.4f}\".format(P)\n",
    "    R = \"{:.4f}\".format(R)\n",
    "    F = \"{:.4f}\".format(F)\n",
    "\n",
    "    print(\"Accuracy Score :\", accuracy)\n",
    "    print(\"=======================\\n\")\n",
    "\n",
    "    print(\"Precision Score :\", P)\n",
    "    print(\"========================\\n\")\n",
    "\n",
    "    print(\"Recall Score :\", R)\n",
    "    print(\"=====================\\n\")\n",
    "\n",
    "    print(\"F1 Score :\", F)\n",
    "    print(\"=================\\n\")\n",
    "\n",
    "    return accuracy, P, R, F\n",
    "\n",
    "\n",
    "# convert the vector input into matrix for deep leaning model\n",
    "def DL_preprocessing(train, target):\n",
    "    target = target.to_numpy()\n",
    "    model = Tab2Img()\n",
    "    images = model.fit_transform(train, target)\n",
    "    \n",
    "    size = (200, 200)\n",
    "    reshaped_images = []\n",
    "    for img in images:\n",
    "        img = np.resize(img, (img.shape[0], img.shape[1], 3))\n",
    "        reshaped_images.append(tf.keras.preprocessing.image.smart_resize(\n",
    "            img, size, interpolation='bilinear'\n",
    "        ))\n",
    "    reshaped_images = np.array(reshaped_images)\n",
    "    target = tf.keras.utils.to_categorical(target, 81)\n",
    "    return reshaped_images, target\n",
    "\n",
    "# plot graph of accuracy and loss using history object\n",
    "def plot_graph(history):\n",
    "    print(history.history.keys())\n",
    "    # summarize history for accuracy\n",
    "    plt.plot(history.history['accuracy'])\n",
    "    plt.plot(history.history['val_accuracy'])\n",
    "    plt.title('model accuracy')\n",
    "    plt.ylabel('accuracy')\n",
    "    plt.xlabel('epoch')\n",
    "    plt.legend(['train', 'test'], loc='upper left')\n",
    "    plt.show()\n",
    "    # summarize history for loss\n",
    "    plt.plot(history.history['loss'])\n",
    "    plt.plot(history.history['val_loss'])\n",
    "    plt.title('model loss')\n",
    "    plt.ylabel('loss')\n",
    "    plt.xlabel('epoch')\n",
    "    plt.legend(['train', 'test'], loc='upper left')\n",
    "    plt.show()"
   ]
  },
  {
   "cell_type": "markdown",
   "id": "a4b18d7d",
   "metadata": {},
   "source": [
    "# **Machine Learning Models**\n",
    "## **Random Forest**"
   ]
  },
  {
   "cell_type": "code",
   "execution_count": 7,
   "id": "8abe2f56",
   "metadata": {},
   "outputs": [
    {
     "name": "stdout",
     "output_type": "stream",
     "text": [
      "\n",
      "shape of training features : (17271, 5)\n",
      "=======================================\n",
      "\n",
      " shape of training labels : (17271,)\n",
      "====================================\n",
      "\n",
      " shape of testing features : (4318, 5)\n",
      "======================================\n",
      "\n",
      " shape of testing labels : (4318,)\n",
      "==================================\n"
     ]
    }
   ],
   "source": [
    "X_train, X_test, y_train, y_test = get_train_test_split()\n",
    "print(\"\\nshape of training features :\", X_train.shape)\n",
    "print(\"=======================================\")\n",
    "print(\"\\n shape of training labels :\", y_train.shape)\n",
    "print(\"====================================\")\n",
    "print(\"\\n shape of testing features :\", X_test.shape)\n",
    "print(\"======================================\")\n",
    "print(\"\\n shape of testing labels :\", y_test.shape)\n",
    "print(\"==================================\")"
   ]
  },
  {
   "cell_type": "code",
   "execution_count": 8,
   "id": "3e33a7be",
   "metadata": {},
   "outputs": [
    {
     "data": {
      "text/plain": [
       "<BarContainer object of 5 artists>"
      ]
     },
     "execution_count": 8,
     "metadata": {},
     "output_type": "execute_result"
    },
    {
     "data": {
      "image/png": "[encoded data removed]",
      "text/plain": [
       "<Figure size 432x288 with 1 Axes>"
      ]
     },
     "metadata": {
      "needs_background": "light"
     },
     "output_type": "display_data"
    }
   ],
   "source": [
    "# model initialization\n",
    "clf = RandomForestClassifier(n_estimators=50, max_depth=11, random_state=0)\n",
    "# model training\n",
    "clf = clf.fit(X_train, y_train)\n",
    "plt.barh(features, clf.feature_importances_)"
   ]
  },
  {
   "cell_type": "code",
   "execution_count": 9,
   "id": "d63a19c6",
   "metadata": {},
   "outputs": [
    {
     "name": "stdout",
     "output_type": "stream",
     "text": [
      "Accuracy Score : 0.7774\n",
      "=======================\n",
      "\n",
      "Precision Score : 0.7594\n",
      "========================\n",
      "\n",
      "Recall Score : 0.7774\n",
      "=====================\n",
      "\n",
      "F1 Score : 0.7433\n",
      "=================\n",
      "\n"
     ]
    }
   ],
   "source": [
    "# model predictions\n",
    "y_pred = clf.predict(X_test)\n",
    "# evaluate results\n",
    "Acc, P, R, F = make_predictions(y_test, y_pred)\n",
    "evalution_scores.append([\"Random Forest\", Acc, P, R, F])"
   ]
  },
  {
   "cell_type": "markdown",
   "id": "3c5cc52a",
   "metadata": {},
   "source": [
    "## **XG Boost**"
   ]
  },
  {
   "cell_type": "code",
   "execution_count": 10,
   "id": "25e68117",
   "metadata": {},
   "outputs": [
    {
     "name": "stdout",
     "output_type": "stream",
     "text": [
      "\n",
      "shape of training features : (17271, 5)\n",
      "=======================================\n",
      "\n",
      " shape of training labels : (17271,)\n",
      "====================================\n",
      "\n",
      " shape of testing features : (4318, 5)\n",
      "======================================\n",
      "\n",
      " shape of testing labels : (4318,)\n",
      "==================================\n"
     ]
    }
   ],
   "source": [
    "# train test split\n",
    "X_train, X_test, y_train, y_test = get_train_test_split()\n",
    "print(\"\\nshape of training features :\", X_train.shape)\n",
    "print(\"=======================================\")\n",
    "print(\"\\n shape of training labels :\", y_train.shape)\n",
    "print(\"====================================\")\n",
    "print(\"\\n shape of testing features :\", X_test.shape)\n",
    "print(\"======================================\")\n",
    "print(\"\\n shape of testing labels :\", y_test.shape)\n",
    "print(\"==================================\")"
   ]
  },
  {
   "cell_type": "code",
   "execution_count": 11,
   "id": "093df8d7",
   "metadata": {},
   "outputs": [
    {
     "data": {
      "text/plain": [
       "<BarContainer object of 5 artists>"
      ]
     },
     "execution_count": 11,
     "metadata": {},
     "output_type": "execute_result"
    },
    {
     "data": {
      "image/png": "[encoded data removed]",
      "text/plain": [
       "<Figure size 432x288 with 1 Axes>"
      ]
     },
     "metadata": {
      "needs_background": "light"
     },
     "output_type": "display_data"
    }
   ],
   "source": [
    "# model initialization\n",
    "clf = XGBClassifier(learning_rate=0.2, n_estimators=10, max_depth=5)\n",
    "# model training\n",
    "clf = clf.fit(X_train, y_train)\n",
    "plt.barh(features, clf.feature_importances_)"
   ]
  },
  {
   "cell_type": "code",
   "execution_count": 12,
   "id": "810f0ca1",
   "metadata": {},
   "outputs": [
    {
     "name": "stdout",
     "output_type": "stream",
     "text": [
      "Accuracy Score : 0.7730\n",
      "=======================\n",
      "\n",
      "Precision Score : 0.7700\n",
      "========================\n",
      "\n",
      "Recall Score : 0.7730\n",
      "=====================\n",
      "\n",
      "F1 Score : 0.7447\n",
      "=================\n",
      "\n"
     ]
    }
   ],
   "source": [
    "# model predictions\n",
    "y_pred = clf.predict(X_test)\n",
    "# evaluate results\n",
    "Acc, P, R, F = make_predictions(y_test, y_pred)\n",
    "evalution_scores.append([\"XG Boost\", Acc, P, R, F])"
   ]
  },
  {
   "cell_type": "markdown",
   "id": "4ac7174a",
   "metadata": {},
   "source": [
    "## **SVM Model**"
   ]
  },
  {
   "cell_type": "code",
   "execution_count": 13,
   "id": "f32c11fc",
   "metadata": {},
   "outputs": [],
   "source": [
    "# model initialization\n",
    "clf = svm.SVC(kernel='rbf', gamma=1, C=0.5)\n",
    "# model training\n",
    "clf = clf.fit(X_train, y_train)\n",
    "# plt.barh(features, clf.coef_)"
   ]
  },
  {
   "cell_type": "code",
   "execution_count": 14,
   "id": "910cf2ae",
   "metadata": {},
   "outputs": [
    {
     "name": "stdout",
     "output_type": "stream",
     "text": [
      "Accuracy Score : 0.7186\n",
      "=======================\n",
      "\n",
      "Precision Score : 0.6930\n",
      "========================\n",
      "\n",
      "Recall Score : 0.7186\n",
      "=====================\n",
      "\n",
      "F1 Score : 0.6819\n",
      "=================\n",
      "\n"
     ]
    }
   ],
   "source": [
    "# model predictions\n",
    "y_pred = clf.predict(X_test)\n",
    "# evaluate results\n",
    "Acc, P, R, F = make_predictions(y_test, y_pred)\n",
    "evalution_scores.append([\"SVM\", Acc, P, R, F])"
   ]
  },
  {
   "cell_type": "markdown",
   "id": "806b36d0",
   "metadata": {},
   "source": [
    "## **KNN Model**"
   ]
  },
  {
   "cell_type": "code",
   "execution_count": 15,
   "id": "848d1cee",
   "metadata": {},
   "outputs": [],
   "source": [
    "from sklearn.neighbors import KNeighborsClassifier\n",
    "# model initialization\n",
    "clf = KNeighborsClassifier(n_neighbors=6, p=1, leaf_size=3)\n",
    "# model training\n",
    "clf = clf.fit(X_train, y_train)\n",
    "# plt.barh(features, clf.coef_)"
   ]
  },
  {
   "cell_type": "code",
   "execution_count": 16,
   "id": "49a470db",
   "metadata": {},
   "outputs": [
    {
     "name": "stdout",
     "output_type": "stream",
     "text": [
      "Accuracy Score : 0.7754\n",
      "=======================\n",
      "\n",
      "Precision Score : 0.7927\n",
      "========================\n",
      "\n",
      "Recall Score : 0.7754\n",
      "=====================\n",
      "\n",
      "F1 Score : 0.7523\n",
      "=================\n",
      "\n"
     ]
    }
   ],
   "source": [
    "# model predictions\n",
    "y_pred = clf.predict(X_test)\n",
    "# evaluate results\n",
    "Acc, P, R, F = make_predictions(y_test, y_pred)\n",
    "evalution_scores.append([\"KNN\", Acc, P, R, F])"
   ]
  },
  {
   "cell_type": "markdown",
   "id": "1499d779",
   "metadata": {},
   "source": [
    "## Customize Model 1"
   ]
  },
  {
   "cell_type": "code",
   "execution_count": 17,
   "id": "31b58537",
   "metadata": {},
   "outputs": [
    {
     "name": "stdout",
     "output_type": "stream",
     "text": [
      "\n",
      "shape of training features : (15155, 5)\n",
      "=======================================\n",
      "\n",
      " shape of training labels : (15155,)\n",
      "====================================\n",
      "\n",
      " shape of testing features : (2159, 5)\n",
      "======================================\n",
      "\n",
      " shape of testing labels : (2159,)\n",
      "==================================\n",
      "\n",
      " shape of validation features : (4275, 5)\n",
      "========================================\n",
      "\n",
      " shape of validation labels : (4275,)\n",
      "=====================================\n"
     ]
    }
   ],
   "source": [
    "X_train, X_test, X_val, y_train, y_test, y_val = get_train_test_val_split(X, y)\n",
    "print(\"\\nshape of training features :\", X_train.shape)\n",
    "print(\"=======================================\")\n",
    "print(\"\\n shape of training labels :\", y_train.shape)\n",
    "print(\"====================================\")\n",
    "print(\"\\n shape of testing features :\", X_test.shape)\n",
    "print(\"======================================\")\n",
    "print(\"\\n shape of testing labels :\", y_test.shape)\n",
    "print(\"==================================\")\n",
    "print(\"\\n shape of validation features :\", X_val.shape)\n",
    "print(\"========================================\")\n",
    "print(\"\\n shape of validation labels :\", y_val.shape)\n",
    "print(\"=====================================\")"
   ]
  },
  {
   "cell_type": "code",
   "execution_count": 18,
   "id": "0bc7eb1b",
   "metadata": {},
   "outputs": [],
   "source": [
    "# deep learning model initialization\n",
    "model = tf.keras.models.Sequential()  \n",
    "model.add(Dense(1000,input_dim=5,activation='relu'))\n",
    "model.add(Dense(500,activation='relu'))\n",
    "model.add(Dense(300,activation='relu'))\n",
    "model.add(Dense(150,activation='relu'))\n",
    "model.add(Dense(75,activation='relu'))\n",
    "model.add(Dense(30,activation='relu'))\n",
    "model.add(Dense(15,activation='relu'))\n",
    "model.add(Dropout(0.5))\n",
    "\n",
    "RF_X_train = model.predict(X_train)\n",
    "RF_X_test = model.predict(X_test)"
   ]
  },
  {
   "cell_type": "code",
   "execution_count": 19,
   "id": "ed1f47c6",
   "metadata": {},
   "outputs": [],
   "source": [
    "# model initialization\n",
    "clf = RandomForestClassifier(n_estimators=20, max_depth=None, random_state=1)\n",
    "# model training\n",
    "clf = clf.fit(RF_X_train, y_train)"
   ]
  },
  {
   "cell_type": "code",
   "execution_count": 20,
   "id": "b9062184",
   "metadata": {},
   "outputs": [
    {
     "name": "stdout",
     "output_type": "stream",
     "text": [
      "Accuracy Score : 0.7934\n",
      "=======================\n",
      "\n",
      "Precision Score : 0.8049\n",
      "========================\n",
      "\n",
      "Recall Score : 0.7934\n",
      "=====================\n",
      "\n",
      "F1 Score : 0.7705\n",
      "=================\n",
      "\n"
     ]
    }
   ],
   "source": [
    "# model predictions\n",
    "y_pred = clf.predict(RF_X_test)\n",
    "# evaluate results\n",
    "Acc, P, R, F = make_predictions(y_test, y_pred)\n",
    "evalution_scores.append([\"customize 1\", Acc, P, R, F])"
   ]
  },
  {
   "cell_type": "code",
   "execution_count": 2,
   "id": "819f0e2b",
   "metadata": {},
   "outputs": [
    {
     "ename": "ModuleNotFoundError",
     "evalue": "No module named 'eli5'",
     "output_type": "error",
     "traceback": [
      "\u001b[1;31m---------------------------------------------------------------------------\u001b[0m",
      "\u001b[1;31mModuleNotFoundError\u001b[0m                       Traceback (most recent call last)",
      "\u001b[1;32m~\\AppData\\Local\\Temp/ipykernel_16368/3582215422.py\u001b[0m in \u001b[0;36m<module>\u001b[1;34m\u001b[0m\n\u001b[1;32m----> 1\u001b[1;33m \u001b[1;32mfrom\u001b[0m \u001b[0meli5\u001b[0m\u001b[1;33m.\u001b[0m\u001b[0msklearn\u001b[0m \u001b[1;32mimport\u001b[0m \u001b[0mPermutationImportance\u001b[0m\u001b[1;33m\u001b[0m\u001b[1;33m\u001b[0m\u001b[0m\n\u001b[0m",
      "\u001b[1;31mModuleNotFoundError\u001b[0m: No module named 'eli5'"
     ]
    }
   ],
   "source": [
    "from eli5.sklearn import PermutationImportance"
   ]
  },
  {
   "cell_type": "code",
   "execution_count": 4,
   "id": "69065cca",
   "metadata": {},
   "outputs": [
    {
     "name": "stdout",
     "output_type": "stream",
     "text": [
      "Collecting eli5\n",
      "  Using cached eli5-0.13.0.tar.gz (216 kB)\n",
      "Requirement already satisfied: attrs>17.1.0 in c:\\users\\abdul\\.conda\\envs\\tf2x\\lib\\site-packages (from eli5) (21.4.0)\n",
      "Requirement already satisfied: jinja2>=3.0.0 in c:\\users\\abdul\\.conda\\envs\\tf2x\\lib\\site-packages (from eli5) (3.0.2)\n",
      "Requirement already satisfied: numpy>=1.9.0 in c:\\users\\abdul\\.conda\\envs\\tf2x\\lib\\site-packages (from eli5) (1.21.5)\n",
      "Requirement already satisfied: scipy in c:\\users\\abdul\\.conda\\envs\\tf2x\\lib\\site-packages (from eli5) (1.7.3)\n",
      "Requirement already satisfied: six in c:\\users\\abdul\\appdata\\roaming\\python\\python37\\site-packages (from eli5) (1.16.0)\n",
      "Requirement already satisfied: scikit-learn>=0.20 in c:\\users\\abdul\\.conda\\envs\\tf2x\\lib\\site-packages (from eli5) (1.0.2)\n",
      "Requirement already satisfied: graphviz in c:\\users\\abdul\\.conda\\envs\\tf2x\\lib\\site-packages (from eli5) (0.19.1)\n",
      "Requirement already satisfied: tabulate>=0.7.7 in c:\\users\\abdul\\.conda\\envs\\tf2x\\lib\\site-packages (from eli5) (0.8.9)\n",
      "Requirement already satisfied: MarkupSafe>=2.0 in c:\\users\\abdul\\.conda\\envs\\tf2x\\lib\\site-packages (from jinja2>=3.0.0->eli5) (2.0.1)\n"
     ]
    },
    {
     "name": "stderr",
     "output_type": "stream",
     "text": [
      "WARNING: Ignoring invalid distribution -atplotlib (c:\\users\\abdul\\appdata\\roaming\\python\\python37\\site-packages)\n",
      "WARNING: Ignoring invalid distribution -atplotlib (c:\\users\\abdul\\appdata\\roaming\\python\\python37\\site-packages)\n",
      "ERROR: Could not install packages due to an OSError: [Errno 2] No such file or directory: 'c:\\\\users\\\\abdul\\\\.conda\\\\envs\\\\tf2x\\\\lib\\\\site-packages\\\\numpy-1.21.5.dist-info\\\\METADATA'\n",
      "\n",
      "WARNING: Ignoring invalid distribution -atplotlib (c:\\users\\abdul\\appdata\\roaming\\python\\python37\\site-packages)\n",
      "WARNING: Ignoring invalid distribution -atplotlib (c:\\users\\abdul\\appdata\\roaming\\python\\python37\\site-packages)\n",
      "WARNING: Ignoring invalid distribution -atplotlib (c:\\users\\abdul\\appdata\\roaming\\python\\python37\\site-packages)\n"
     ]
    }
   ],
   "source": [
    "!pip install eli5"
   ]
  },
  {
   "cell_type": "markdown",
   "id": "38b40db1",
   "metadata": {},
   "source": [
    "## Customize 2"
   ]
  },
  {
   "cell_type": "code",
   "execution_count": 21,
   "id": "07f14d54",
   "metadata": {},
   "outputs": [],
   "source": [
    "from sklearn.ensemble import VotingClassifier\n",
    "\n",
    "clf1 = RandomForestClassifier(random_state=1)\n",
    "clf2 = XGBClassifier(learning_rate=0.2, n_estimators=100, max_depth=5)\n",
    "clf3 = KNeighborsClassifier()\n",
    "\n",
    "eclf = VotingClassifier(estimators=[('rf', clf1), ('cgb', clf2), ('knn', clf3)], voting='soft', weights=[1, 1, 1])\n",
    "eclf = eclf.fit(X_train, y_train)"
   ]
  },
  {
   "cell_type": "code",
   "execution_count": 22,
   "id": "4f32ca11",
   "metadata": {},
   "outputs": [
    {
     "name": "stdout",
     "output_type": "stream",
     "text": [
      "Accuracy Score : 0.7962\n",
      "=======================\n",
      "\n",
      "Precision Score : 0.7827\n",
      "========================\n",
      "\n",
      "Recall Score : 0.7962\n",
      "=====================\n",
      "\n",
      "F1 Score : 0.7673\n",
      "=================\n",
      "\n"
     ]
    }
   ],
   "source": [
    "# model predictions\n",
    "y_pred = eclf.predict(X_test)\n",
    "# evaluate results\n",
    "Acc, P, R, F = make_predictions(y_test, y_pred)\n",
    "evalution_scores.append([\"customize 2\", Acc, P, R, F])"
   ]
  },
  {
   "cell_type": "code",
   "execution_count": 23,
   "id": "a80f5530",
   "metadata": {},
   "outputs": [
    {
     "data": {
      "text/html": [
       "<div>\n",
       "<style scoped>\n",
       "    .dataframe tbody tr th:only-of-type {\n",
       "        vertical-align: middle;\n",
       "    }\n",
       "\n",
       "    .dataframe tbody tr th {\n",
       "        vertical-align: top;\n",
       "    }\n",
       "\n",
       "    .dataframe thead th {\n",
       "        text-align: right;\n",
       "    }\n",
       "</style>\n",
       "<table border=\"1\" class=\"dataframe\">\n",
       "  <thead>\n",
       "    <tr style=\"text-align: right;\">\n",
       "      <th></th>\n",
       "      <th>Model</th>\n",
       "      <th>Accuracy</th>\n",
       "      <th>Precision</th>\n",
       "      <th>Recall</th>\n",
       "      <th>F1 Score</th>\n",
       "    </tr>\n",
       "  </thead>\n",
       "  <tbody>\n",
       "    <tr>\n",
       "      <th>0</th>\n",
       "      <td>Random Forest</td>\n",
       "      <td>0.7774</td>\n",
       "      <td>0.7594</td>\n",
       "      <td>0.7774</td>\n",
       "      <td>0.7433</td>\n",
       "    </tr>\n",
       "    <tr>\n",
       "      <th>1</th>\n",
       "      <td>XG Boost</td>\n",
       "      <td>0.7730</td>\n",
       "      <td>0.7700</td>\n",
       "      <td>0.7730</td>\n",
       "      <td>0.7447</td>\n",
       "    </tr>\n",
       "    <tr>\n",
       "      <th>2</th>\n",
       "      <td>SVM</td>\n",
       "      <td>0.7186</td>\n",
       "      <td>0.6930</td>\n",
       "      <td>0.7186</td>\n",
       "      <td>0.6819</td>\n",
       "    </tr>\n",
       "    <tr>\n",
       "      <th>3</th>\n",
       "      <td>KNN</td>\n",
       "      <td>0.7754</td>\n",
       "      <td>0.7927</td>\n",
       "      <td>0.7754</td>\n",
       "      <td>0.7523</td>\n",
       "    </tr>\n",
       "    <tr>\n",
       "      <th>4</th>\n",
       "      <td>customize 1</td>\n",
       "      <td>0.7934</td>\n",
       "      <td>0.8049</td>\n",
       "      <td>0.7934</td>\n",
       "      <td>0.7705</td>\n",
       "    </tr>\n",
       "    <tr>\n",
       "      <th>5</th>\n",
       "      <td>customize 2</td>\n",
       "      <td>0.7962</td>\n",
       "      <td>0.7827</td>\n",
       "      <td>0.7962</td>\n",
       "      <td>0.7673</td>\n",
       "    </tr>\n",
       "  </tbody>\n",
       "</table>\n",
       "</div>"
      ],
      "text/plain": [
       "           Model Accuracy Precision  Recall F1 Score\n",
       "0  Random Forest   0.7774    0.7594  0.7774   0.7433\n",
       "1       XG Boost   0.7730    0.7700  0.7730   0.7447\n",
       "2            SVM   0.7186    0.6930  0.7186   0.6819\n",
       "3            KNN   0.7754    0.7927  0.7754   0.7523\n",
       "4    customize 1   0.7934    0.8049  0.7934   0.7705\n",
       "5    customize 2   0.7962    0.7827  0.7962   0.7673"
      ]
     },
     "execution_count": 23,
     "metadata": {},
     "output_type": "execute_result"
    }
   ],
   "source": [
    "evaluation_df = pd.DataFrame(evalution_scores, columns=['Model', 'Accuracy', 'Precision', 'Recall', 'F1 Score'])\n",
    "evaluation_df"
   ]
  },
  {
   "cell_type": "markdown",
   "id": "1a711841",
   "metadata": {},
   "source": [
    "## predict 4 Best Service Providers"
   ]
  },
  {
   "cell_type": "code",
   "execution_count": 24,
   "id": "7416beb2",
   "metadata": {},
   "outputs": [],
   "source": [
    "# load and return dictionary of label encoders\n",
    "def get_label_encoders():\n",
    "    columns = [\"Category of Trade\", \"Volume Type\",\n",
    "               \"Load Port\", \"Discharge Port\", \"Dangerous Goods\"]\n",
    "\n",
    "    le_dict = open(\"others/le_dict.pickle\",'rb')\n",
    "    le_dict = pickle.load(le_dict)\n",
    "    \n",
    "    le_target = open(\"others/target_encoder.pkl\",'rb')\n",
    "    le_target = pickle.load(le_target)\n",
    "    return le_dict, le_target, columns\n",
    "\n",
    "# convert the integral value of class into its label\n",
    "def tranform_label(le_dict, le_dict_name, val):\n",
    "    return le_dict[le_dict_name].transform([val])[0]\n",
    "\n",
    "# display the best four service providers on screen\n",
    "def display_output(le_target, indices):\n",
    "    print(\"\\nName of theBest 4 Service Providers :\")\n",
    "    print(\"====================================\\n\")\n",
    "    for idx, indice in enumerate(indices):\n",
    "        SP = le_target.inverse_transform([indice])\n",
    "        print(idx, \"--> \", SP[0], \"\\n\")\n",
    "    print(\"\\n\")"
   ]
  },
  {
   "cell_type": "code",
   "execution_count": 25,
   "id": "84f619d8",
   "metadata": {},
   "outputs": [],
   "source": [
    "# sample \n",
    "feature_list = [\"Petroleum\", \"MT\", \"Geelong\", \"Kwinana\", \"No\"]\n",
    "\n",
    "# list for appending encoded values of sample\n",
    "le_features = []\n",
    "# get label encoders dictionary\n",
    "le_dict, le_target, columns = get_label_encoders()\n",
    "\n",
    "# convert string value into numerical bvalues using label encoders\n",
    "for idx, val in enumerate(feature_list):\n",
    "    le_dict_name = columns[idx]\n",
    "    value = tranform_label(le_dict, le_dict_name, val) if le_dict_name in le_dict else int(val)\n",
    "    le_features.append(value)\n",
    "\n",
    "noramilzed_features = ss.transform(np.array(le_features).reshape(1, -1)) #normalized values\n",
    "result = eclf.predict_proba(noramilzed_features) # predict normalized sample using trained model"
   ]
  },
  {
   "cell_type": "code",
   "execution_count": 26,
   "id": "9247a443",
   "metadata": {},
   "outputs": [
    {
     "name": "stdout",
     "output_type": "stream",
     "text": [
      "\n",
      "probability of all Classes\n",
      "==========================\n",
      "\n",
      "[2.06325882e-05 2.38595734e-06 2.42513291e-06 2.82372366e-06\n",
      " 2.94014808e-06 2.72003520e-06 1.92779711e-06 1.74783176e-01\n",
      " 6.34536697e-03 3.59477387e-06 1.14344846e-04 2.38198557e-06\n",
      " 1.14284563e-01 1.67288939e-06 1.83412673e-06 1.35873549e-05\n",
      " 2.97862522e-05 4.88978677e-05 1.26151849e-06 1.07593172e-01\n",
      " 4.10380259e-06 2.67070088e-06 2.50367111e-06 2.72921534e-06\n",
      " 1.82471770e-06 2.96510734e-06 4.22275601e-06 6.36918836e-06\n",
      " 3.87916380e-04 3.08348262e-06 4.84067809e-03 8.80816697e-06\n",
      " 1.43223200e-04 2.31182712e-05 1.03717836e-06 4.66478681e-06\n",
      " 1.85054205e-06 2.81733028e-04 6.35505118e-06 2.17747720e-06\n",
      " 1.44875670e-06 2.82444550e-06 6.29829992e-06 7.02366379e-04\n",
      " 1.76742130e-05 1.39684516e-06 2.13125022e-04 6.69168487e-05\n",
      " 8.34524447e-06 2.19551415e-06 1.84778849e-05 6.87869760e-05\n",
      " 9.18573339e-06 3.37880071e-06 1.75316624e-06 8.59357594e-07\n",
      " 2.11360521e-06 4.80625780e-06 2.58967793e-06 3.04247684e-06\n",
      " 2.95535525e-05 1.18177339e-06 2.89824237e-05 2.60922237e-06\n",
      " 9.92898625e-07 1.60595543e-06 2.32279951e-05 3.39689723e-06\n",
      " 4.03496142e-06 6.35097967e-06 1.24698075e-06 1.92628462e-06\n",
      " 1.61494457e-06 5.56911629e-01 8.46725798e-03 4.35179326e-03\n",
      " 2.63464699e-06 9.32868776e-06 1.16110799e-05 2.00070495e-02\n",
      " 2.85140171e-06]\n"
     ]
    }
   ],
   "source": [
    "print(\"\\nprobability of all Classes\")\n",
    "print(\"==========================\\n\")\n",
    "print(result[0])"
   ]
  },
  {
   "cell_type": "code",
   "execution_count": 27,
   "id": "95fe4158",
   "metadata": {},
   "outputs": [
    {
     "name": "stdout",
     "output_type": "stream",
     "text": [
      "\n",
      "probability of all Classes in sorting order\n",
      "===========================================\n",
      "\n",
      "[73  7 12 19 79 74  8 30 75 43 28 37 46 32 10 51 47 17 16 60 62 66 33  0\n",
      " 50 44 15 78 77 52 31 48 27 38 69 42 57 35 26 20 68  9 67 53 29 59 25  4\n",
      " 80 41  3 23  5 21 76 63 58 22  2  1 11 49 39 56  6 71 36 14 24 54 13 72\n",
      " 65 40 45 18 70 61 34 64 55]\n"
     ]
    }
   ],
   "source": [
    "print(\"\\nprobability of all Classes in sorting order\")\n",
    "print(\"===========================================\\n\")\n",
    "print((-result[0]).argsort())"
   ]
  },
  {
   "cell_type": "code",
   "execution_count": 28,
   "id": "28e36309",
   "metadata": {},
   "outputs": [
    {
     "name": "stdout",
     "output_type": "stream",
     "text": [
      "[73  7 12 19]\n"
     ]
    }
   ],
   "source": [
    "# select the first four indices\n",
    "n = 4\n",
    "indices = (-result[0]).argsort()[:n]\n",
    "print(indices)"
   ]
  },
  {
   "cell_type": "code",
   "execution_count": 29,
   "id": "1695ad29",
   "metadata": {},
   "outputs": [
    {
     "name": "stdout",
     "output_type": "stream",
     "text": [
      "\n",
      "Name of theBest 4 Service Providers :\n",
      "====================================\n",
      "\n",
      "0 -->  Viva Energy Australia Ltd \n",
      "\n",
      "1 -->  Ampol Singapore Trading Pte Ltd \n",
      "\n",
      "2 -->  BP Australia Pty Ltd \n",
      "\n",
      "3 -->  Caltex Australia Petroleum Pty Ltd \n",
      "\n",
      "\n",
      "\n"
     ]
    }
   ],
   "source": [
    "# convert the class integar into its label value using Label Encoder\n",
    "display_output(le_target, indices)"
   ]
  },
  {
   "cell_type": "code",
   "execution_count": null,
   "id": "faff3c6b",
   "metadata": {},
   "outputs": [],
   "source": []
  }
 ],
 "metadata": {
  "kernelspec": {
   "display_name": "Python 3 (ipykernel)",
   "language": "python",
   "name": "python3"
  },
  "language_info": {
   "codemirror_mode": {
    "name": "ipython",
    "version": 3
   },
   "file_extension": ".py",
   "mimetype": "text/x-python",
   "name": "python",
   "nbconvert_exporter": "python",
   "pygments_lexer": "ipython3",
   "version": "3.9.7"
  }
 },
 "nbformat": 4,
 "nbformat_minor": 5
}
