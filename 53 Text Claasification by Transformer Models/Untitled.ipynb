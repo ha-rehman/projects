{
 "cells": [
  {
   "cell_type": "code",
   "execution_count": null,
   "id": "4feeb59c",
   "metadata": {},
   "outputs": [],
   "source": [
    "torch.save(model.state_dict(), \"models/best-transformer-model.pth\")"
   ]
  },
  {
   "cell_type": "code",
   "execution_count": null,
   "id": "22888dc2",
   "metadata": {},
   "outputs": [],
   "source": [
    "import gcsfs\n",
    "\n",
    "fs = gcsfs.GCSFileSystem(project = '<enter your gc project>')\n",
    "with fs.open(\"gs://bucket_name/\"+f'best-transformer-model.pth', 'wb') as f:\n",
    "    torch.save(model.state_dict(), f)"
   ]
  }
 ],
 "metadata": {
  "kernelspec": {
   "display_name": "Python 3 (ipykernel)",
   "language": "python",
   "name": "python3"
  },
  "language_info": {
   "codemirror_mode": {
    "name": "ipython",
    "version": 3
   },
   "file_extension": ".py",
   "mimetype": "text/x-python",
   "name": "python",
   "nbconvert_exporter": "python",
   "pygments_lexer": "ipython3",
   "version": "3.9.7"
  }
 },
 "nbformat": 4,
 "nbformat_minor": 5
}
