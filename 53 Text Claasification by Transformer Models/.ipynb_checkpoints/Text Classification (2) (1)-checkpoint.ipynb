{
 "cells": [
  {
   "cell_type": "markdown",
   "id": "53f1bff0-05ce-43f4-9bff-7792e22cb837",
   "metadata": {},
   "source": [
    "## Install libraries"
   ]
  },
  {
   "cell_type": "code",
   "execution_count": null,
   "id": "2c408199-9fe7-42e1-b4f1-9ac28c1b9d1e",
   "metadata": {
    "tags": []
   },
   "outputs": [],
   "source": [
    "pip install transformers"
   ]
  },
  {
   "cell_type": "code",
   "execution_count": null,
   "id": "a3e42397-4322-4890-9870-f6f732ba96c8",
   "metadata": {
    "tags": []
   },
   "outputs": [],
   "source": [
    "pip install torch==1.6.0 torchvision==0.7.0"
   ]
  },
  {
   "cell_type": "code",
   "execution_count": null,
   "id": "d5e684bf-4781-4bb5-a046-c9577ea8d3ae",
   "metadata": {},
   "outputs": [],
   "source": []
  },
  {
   "cell_type": "markdown",
   "id": "bb87dd1e",
   "metadata": {},
   "source": [
    "## Import Libraries"
   ]
  },
  {
   "cell_type": "code",
   "execution_count": 1,
   "id": "473c2f18",
   "metadata": {},
   "outputs": [],
   "source": [
    "import warnings\n",
    "warnings.filterwarnings('ignore')"
   ]
  },
  {
   "cell_type": "code",
   "execution_count": 2,
   "id": "480eca97",
   "metadata": {},
   "outputs": [],
   "source": [
    "import os\n",
    "import json\n",
    "import math\n",
    "import random\n",
    "import pickle\n",
    "import numpy as np\n",
    "import pandas as pd\n",
    "from tabulate import tabulate\n",
    "from tqdm.notebook import tqdm\n",
    "from matplotlib import pyplot as plt\n",
    "from sklearn.metrics import classification_report\n",
    "from sklearn.model_selection import train_test_split\n",
    "from sklearn.metrics import ConfusionMatrixDisplay, confusion_matrix\n",
    "from sklearn.metrics import accuracy_score,precision_score, recall_score, f1_score, matthews_corrcoef\n",
    "\n",
    "import torch\n",
    "import torch.nn as nn\n",
    "from torch.optim import Adam, AdamW, SGD\n",
    "from torch.nn.utils import clip_grad_norm_\n",
    "from torch.utils.data import TensorDataset, DataLoader, RandomSampler, SequentialSampler\n",
    "\n",
    "from transformers import get_linear_schedule_with_warmup\n",
    "from transformers import BertTokenizer, Trainer, TrainingArguments,AutoTokenizer\n",
    "from transformers import DataCollatorWithPadding,AutoModelForSequenceClassification, AutoModel,AutoConfig\n",
    "from transformers.modeling_outputs import TokenClassifierOutput\n"
   ]
  },
  {
   "cell_type": "markdown",
   "id": "8fa03fec",
   "metadata": {},
   "source": [
    "## Read Dataset"
   ]
  },
  {
   "cell_type": "code",
   "execution_count": 3,
   "id": "0dd20a97",
   "metadata": {},
   "outputs": [
    {
     "data": {
      "text/plain": [
       "array([0, 1, 2])"
      ]
     },
     "execution_count": 3,
     "metadata": {},
     "output_type": "execute_result"
    }
   ],
   "source": [
    "#df = pickle.load(open('dataset/230130_SmallOberkategorie.pickle', 'rb'))\n",
    "df = pd.read_pickle(\"gs://transformer-textclassification/280223_beispieldaten.pickle\")\n",
    "\n",
    "label_names = df['labels'].unique()\n",
    "label_names"
   ]
  },
  {
   "cell_type": "code",
   "execution_count": 4,
   "id": "32a8fcba",
   "metadata": {},
   "outputs": [
    {
     "data": {
      "text/plain": [
       "Text(0, 0.5, 'Count')"
      ]
     },
     "execution_count": 4,
     "metadata": {},
     "output_type": "execute_result"
    },
    {
     "data": {
      "image/png": "[encoded data removed]",
      "text/plain": [
       "<Figure size 640x480 with 1 Axes>"
      ]
     },
     "metadata": {},
     "output_type": "display_data"
    }
   ],
   "source": [
    "df['labels'].value_counts().plot(kind='bar')\n",
    "plt.title(\"Class Distribution in the Dataset\")\n",
    "plt.xlabel(\"Label\")\n",
    "plt.ylabel(\"Count\")"
   ]
  },
  {
   "cell_type": "markdown",
   "id": "6f4cbbfd",
   "metadata": {},
   "source": [
    "# Data Preprocessing\n",
    "## Train Test Split"
   ]
  },
  {
   "cell_type": "code",
   "execution_count": 3,
   "id": "62dd0641",
   "metadata": {},
   "outputs": [],
   "source": [
    "def split_df(X, y):    \n",
    "\n",
    "    X_train, X_val, y_train, y_val = train_test_split(X, y, test_size=0.10, random_state=42, stratify=df.labels.values)\n",
    "\n",
    "    fig, axes = plt.subplots(figsize=(12,4),nrows=1, ncols=2)\n",
    "\n",
    "    ax1=axes[0]\n",
    "    y_train.value_counts().plot(ax= ax1, kind='bar')\n",
    "    ax1.set_title(\"Class Distribution in the Train Set\")\n",
    "    ax1.set_xlabel(\"Label\")\n",
    "    ax1.set_ylabel(\"Count\")\n",
    "\n",
    "\n",
    "    ax2=axes[1]\n",
    "    y_val.value_counts().plot(ax=ax2, kind='bar')\n",
    "    ax2.set_title(\"Class Distribution in the Test Set\")\n",
    "    ax2.set_xlabel(\"Label\")\n",
    "    ax2.set_ylabel(\"Count\")\n",
    "    plt.show()\n",
    "    \n",
    "    return X_train, X_val, y_train, y_val"
   ]
  },
  {
   "cell_type": "markdown",
   "id": "5b5abfdf",
   "metadata": {},
   "source": [
    "## Tokenization"
   ]
  },
  {
   "cell_type": "code",
   "execution_count": 4,
   "id": "0f1feac9",
   "metadata": {},
   "outputs": [],
   "source": [
    "def tokenize(model_name):\n",
    "    try:\n",
    "        tokenizer = BertTokenizer.from_pretrained(model_name, do_lower_case=True)\n",
    "    except:\n",
    "        tokenizer = AutoTokenizer.from_pretrained(model_name, do_lower_case=True)\n",
    "    return tokenizer"
   ]
  },
  {
   "cell_type": "markdown",
   "id": "d667bb17",
   "metadata": {},
   "source": [
    "## Encode datasets"
   ]
  },
  {
   "cell_type": "code",
   "execution_count": 5,
   "id": "2d9e873c",
   "metadata": {},
   "outputs": [],
   "source": [
    "def encode(docs, tokenizer):\n",
    "    '''\n",
    "    This function takes list of texts and returns input_ids and attention_mask of texts\n",
    "    '''\n",
    "    encoded_dict = tokenizer.batch_encode_plus(docs, add_special_tokens=True, max_length=128, padding='max_length',\n",
    "                            return_attention_mask=True, truncation=True, return_tensors='pt')\n",
    "    input_ids = encoded_dict['input_ids']\n",
    "    attention_masks = encoded_dict['attention_mask']\n",
    "    return input_ids, attention_masks"
   ]
  },
  {
   "cell_type": "markdown",
   "id": "fef25089",
   "metadata": {},
   "source": [
    "## Process datasets"
   ]
  },
  {
   "cell_type": "code",
   "execution_count": 6,
   "id": "4187590d",
   "metadata": {},
   "outputs": [],
   "source": [
    "def preprocess_dataset(model_name, X, y, batch_size):\n",
    "    # initialize tokenizer\n",
    "    tokenizer = tokenize(model_name)\n",
    "    \n",
    "    # encode dataset with the tokenizer\n",
    "    train_input_ids, train_att_masks = encode(X['text'].values.tolist(), tokenizer)\n",
    "\n",
    "    \n",
    "    # convert the labels into tensor\n",
    "    train_y = torch.LongTensor(y.values.tolist())\n",
    "\n",
    "    \n",
    "    # convert the encoded dataset into dataloaders\n",
    "    train_dataset = TensorDataset(train_input_ids, train_att_masks, train_y)\n",
    "    train_sampler = RandomSampler(train_dataset)\n",
    "    train_dataloader = DataLoader(train_dataset, sampler=train_sampler, batch_size=batch_size)\n",
    "    \n",
    "    return train_dataloader"
   ]
  },
  {
   "cell_type": "markdown",
   "id": "d2afdf32",
   "metadata": {},
   "source": [
    "# Transformer Models\n",
    "## Model Creation"
   ]
  },
  {
   "cell_type": "code",
   "execution_count": 7,
   "id": "1d773785",
   "metadata": {},
   "outputs": [],
   "source": [
    "best_params_dict_path = 'best_params.text'\n",
    "if os.path.exists(best_params_dict_path):\n",
    "    best_prams = json.load(best_params_dict_path)\n",
    "else:\n",
    "    best_prams = dict.fromkeys(['best_acc', 'model', 'optimizer', 'epochs',\n",
    "                            'batch_size', 'learning_rate'], 0.0)\n",
    "\n",
    "\n",
    "class CustomModel(nn.Module):\n",
    "    def __init__(self, checkpoint, num_labels): \n",
    "        super(CustomModel,self).__init__() \n",
    "        self.num_labels = num_labels \n",
    "\n",
    "        #Load Model with given checkpoint and extract its body\n",
    "        self.model = model = AutoModel.from_pretrained(checkpoint,config=AutoConfig.from_pretrained(checkpoint, output_attentions=True,output_hidden_states=True))\n",
    "        self.dropout = nn.Dropout(0.1) \n",
    "        self.classifier = nn.Linear(768,num_labels) # set sequence length\n",
    "\n",
    "    def forward(self, input_ids=None, attention_mask=None,labels=None):\n",
    "        #Extract outputs from the body\n",
    "        outputs = self.model(input_ids=input_ids, attention_mask=attention_mask)\n",
    "\n",
    "        #Add custom layers\n",
    "        sequence_output = self.dropout(outputs[0]) #outputs[0]=last hidden state\n",
    "\n",
    "        logits = self.classifier(sequence_output[:,0,:].view(-1,768)) # calculate losses\n",
    "\n",
    "        loss = None\n",
    "        if labels is not None:\n",
    "          # set class weights here  \n",
    "#           device = torch.device(\"cuda\" if torch.cuda.is_available() else \"cpu\")\n",
    "#           class_weights = torch.tensor([1.0, 1.0, 1.0, 1.0, 1.0, 1.0, 1.0, 1.0, 1.0, 1.0, 1.0, 1.0, 1.0, 1.0, 1.0, 1.0, 1.0, 1.0, 1.0, 1.0, 1.0, 1.0]).to(device) # set weights here\n",
    "          loss_fct = nn.CrossEntropyLoss()\n",
    "          loss = loss_fct(logits.view(-1, self.num_labels), labels.view(-1))\n",
    "\n",
    "        return TokenClassifierOutput(loss=loss, logits=logits, hidden_states=outputs.hidden_states,attentions=outputs.attentions)"
   ]
  },
  {
   "cell_type": "markdown",
   "id": "498a3d74",
   "metadata": {},
   "source": [
    "## Model Trainer\n",
    "<span style='color:red'>P1<span>"
   ]
  },
  {
   "cell_type": "code",
   "execution_count": 8,
   "id": "9cb683fd",
   "metadata": {},
   "outputs": [],
   "source": [
    "def trainer(model, batch_size, optimizer, epochs, train_dataloader, valid_dataloader, val_steps):\n",
    "\n",
    "    steps = 0\n",
    "    train_acc_per_epoch = []\n",
    "    train_loss_per_epoch = []\n",
    "    val_acc_per_epoch = []\n",
    "    val_loss_per_epoch = []\n",
    "    \n",
    "    # Set the seed for reproducibility\n",
    "    seed_val = 42\n",
    "    random.seed(seed_val)\n",
    "    np.random.seed(seed_val)\n",
    "    torch.manual_seed(seed_val)\n",
    "    torch.cuda.manual_seed_all(seed_val)\n",
    "\n",
    "    device = torch.device(\"cuda\" if torch.cuda.is_available() else \"cpu\")\n",
    "    scheduler = get_linear_schedule_with_warmup(optimizer, \n",
    "                 num_warmup_steps=0,\n",
    "                num_training_steps=len(train_dataloader)*epochs )\n",
    "\n",
    "    \n",
    "    train_loss = 0\n",
    "    train_total_correct = 0\n",
    "    train_total_examples = 0\n",
    "    \n",
    "    for epoch_num in range(epochs):\n",
    "        print('Epoch: ', epoch_num + 1)\n",
    "        '''\n",
    "        Training\n",
    "        '''\n",
    "        model.train()\n",
    "\n",
    "        for step_num, batch_data in enumerate(tqdm(train_dataloader,desc='Training')):\n",
    "            input_ids, att_mask, labels = [data.to(device) for data in batch_data]\n",
    "            output = model(input_ids = input_ids, attention_mask=att_mask, labels= labels)\n",
    "\n",
    "            loss = output.loss\n",
    "            train_loss += loss.item()\n",
    "\n",
    "            model.zero_grad()\n",
    "            loss.backward()\n",
    "            del loss\n",
    "\n",
    "            clip_grad_norm_(parameters=model.parameters(), max_norm=1.0)\n",
    "            optimizer.step()\n",
    "            scheduler.step()\n",
    "            \n",
    "            # update accuracy\n",
    "            _, predicted = torch.max(output.logits, dim=1)\n",
    "            train_total_correct += (predicted == labels).sum().item()\n",
    "            train_total_examples += labels.size(0)            \n",
    "            steps += 1\n",
    "            \n",
    "            '''\n",
    "            Validation\n",
    "            '''\n",
    "\n",
    "            if steps >= val_steps:\n",
    "                \n",
    "                model.eval()\n",
    "                val_total_correct = 0\n",
    "                val_total_examples = 0\n",
    "                valid_loss = 0\n",
    "                valid_pred = []\n",
    "                valid_label = []\n",
    "                with torch.no_grad():\n",
    "                    for step_num_e, batch_data in enumerate(tqdm(valid_dataloader,desc='Validation')):\n",
    "                        input_ids, att_mask, labels = [data.to(device) for data in batch_data]\n",
    "                        output = model(input_ids = input_ids, attention_mask=att_mask, labels= labels)\n",
    "\n",
    "                        loss = output.loss\n",
    "                        valid_loss += loss.item()\n",
    "\n",
    "                        valid_label.append(labels.cpu().detach().numpy())\n",
    "                        valid_pred.append(np.argmax(output.logits.cpu().detach().numpy(),axis=-1))\n",
    "\n",
    "                        # update accuracy\n",
    "                        _, predicted = torch.max(output.logits, dim=1)\n",
    "                        val_total_correct += (predicted == labels).sum().item()\n",
    "                        val_total_examples += labels.size(0)\n",
    "                \n",
    "                val_acc_per_epoch.append(val_total_correct / val_total_examples)\n",
    "                val_loss_per_epoch.append(valid_loss / steps)\n",
    "                \n",
    "                valid_label = np.concatenate(valid_label)\n",
    "                valid_pred = np.concatenate(valid_pred)\n",
    "                \n",
    "                print(\"{0}/{1} val accuracy: {2} \".format(steps, math.ceil(len(X_val) / batch_size), val_total_correct / val_total_examples))\n",
    "                print(\"{0}/{1} val loss: {2} \".format(steps, math.ceil(len(X_val) / batch_size), valid_loss / steps))\n",
    "                \n",
    "                \n",
    "                train_acc_per_epoch.append(train_total_correct / train_total_examples)\n",
    "                train_loss_per_epoch.append(train_loss / steps)  \n",
    "\n",
    "                print(\"{0}/{1} train accuracy: {2} \".format(steps, math.ceil(len(X_train) / batch_size), train_total_correct / train_total_examples))\n",
    "                print(\"{0}/{1} train loss: {2} \".format(steps, math.ceil(len(X_train) / batch_size), train_loss / steps + 1))\n",
    "                \n",
    "                steps = 0\n",
    "                train_loss = 0\n",
    "                train_total_correct = 0\n",
    "                train_total_examples = 0\n",
    "    return model, train_acc_per_epoch, train_loss_per_epoch, val_acc_per_epoch, val_loss_per_epoch, valid_label, valid_pred"
   ]
  },
  {
   "cell_type": "markdown",
   "id": "9c66bec5",
   "metadata": {},
   "source": [
    "## Evaluation and Plotting"
   ]
  },
  {
   "cell_type": "code",
   "execution_count": 9,
   "id": "a5832fad",
   "metadata": {},
   "outputs": [],
   "source": [
    "def plot_acc(epochs, train_acc_per_epoch, val_acc_per_epoch, model_name=\"Initial\"):\n",
    "    epochs_list = range(1, len(train_acc_per_epoch) +1 )\n",
    "    fig, ax = plt.subplots()\n",
    "    ax.plot(epochs_list,train_acc_per_epoch,label ='training accuracy')\n",
    "    ax.plot(epochs_list,val_acc_per_epoch,label ='validation accuracy')\n",
    "    ax.set_title('Training and Validation Accuracy of {} model'.format(model_name))\n",
    "    ax.set_xlabel('Steps')\n",
    "    ax.set_ylabel('Accuracy')\n",
    "    ax.legend()\n",
    "    '''SAVING DOES NOT WORK'''\n",
    "    #img_url = 'figures/accuracy-train-' + model_name + '.png' \n",
    "    #plt.savefig(img_url)\n",
    "    plt.show()\n",
    "    \n",
    "def plot_loss(epochs, train_loss_per_epoch, val_loss_per_epoch, model_name=\"Initial\"):\n",
    "    epochs_list = range(1, len(train_loss_per_epoch) +1 )\n",
    "    fig, ax = plt.subplots()\n",
    "    ax.plot(epochs_list,train_loss_per_epoch,label ='train loss')\n",
    "    ax.plot(epochs_list, val_loss_per_epoch, label = 'validation loss' )\n",
    "    ax.set_title('Training and Validation Loss of {} model'.format(model_name))\n",
    "    ax.set_xlabel('Steps')\n",
    "    ax.set_ylabel('Loss')\n",
    "    ax.legend()\n",
    "    '''SAVING DOES NOT WORK'''\n",
    "    #img_url = 'figures/loss-train-' + model_name + '.png' '''SAVING DOES NOT WORK'''\n",
    "    #plt.savefig(img_url)\n",
    "    plt.show()"
   ]
  },
  {
   "cell_type": "code",
   "execution_count": 10,
   "id": "55fe3982",
   "metadata": {},
   "outputs": [],
   "source": [
    "def calculate_classification_reprot(label_names, val_label, valid_pred, model_name=\"Initial\"):\n",
    "    label_names_str = [str(x) for x in label_names]\n",
    "    print('classifiation report of {} model'.format(model_name))\n",
    "    print(classification_report(valid_pred, val_label, target_names=label_names_str))"
   ]
  },
  {
   "cell_type": "code",
   "execution_count": 11,
   "id": "f97370ed",
   "metadata": {},
   "outputs": [],
   "source": [
    "def plot_confusion_matrix(y_preds, y_true, label_names, training=False, model_name=\"Initial\"):\n",
    "    label_names_str = [str(x) for x in label_names]\n",
    "    cm = confusion_matrix(y_true, y_preds, normalize=None)\n",
    "    \n",
    "    index= 0\n",
    "    data = []\n",
    "    for row in cm:\n",
    "        label = label_names[index]\n",
    "        total_correct = row[index]\n",
    "        total_count = row.sum()\n",
    "        data.append([label, total_correct, total_count])\n",
    "        index += 1\n",
    "    \n",
    "    # Create the pandas DataFrame\n",
    "    df = pd.DataFrame(data, columns = ['Label', 'Correct_preds', 'Total_preds'])\n",
    "    print(df)"
   ]
  },
  {
   "cell_type": "code",
   "execution_count": 12,
   "id": "9b7e5c7e",
   "metadata": {},
   "outputs": [],
   "source": [
    "def get_evaluation_results(y_test_set, predictions):\n",
    "    #store results of model\n",
    "    acc = accuracy_score(y_test_set, predictions)\n",
    "    precision = precision_score(y_test_set, predictions,average='macro')\n",
    "    recall = recall_score(y_test_set, predictions,average='macro')\n",
    "    f1 = f1_score(y_test_set, predictions,average='macro')\n",
    "    mcc = matthews_corrcoef(y_test_set, predictions)\n",
    "    \n",
    "    results = [round(acc, 4), round(precision, 4), round(recall, 4), round(f1, 4), round(mcc, 4)]\n",
    "    return results"
   ]
  },
  {
   "cell_type": "markdown",
   "id": "cf6f3b4f",
   "metadata": {},
   "source": [
    "## Training"
   ]
  },
  {
   "cell_type": "code",
   "execution_count": 13,
   "id": "f5d4a367",
   "metadata": {},
   "outputs": [],
   "source": [
    "def training(models, optimizers, configs, dataset):\n",
    "    epochs = configs['epochs']\n",
    "    batch_size = configs['batch_size']\n",
    "    learning_rate = configs['learning_rate']\n",
    "    val_steps = configs['val_steps']\n",
    "    \n",
    "    X_train, y_train, X_val, y_val = dataset.values() \n",
    "    \n",
    "    # dic form store results of all models\n",
    "    collect_train_results_of_all_model= {\n",
    "        'Metrics':['accuracy','precision','recall','f1-score', 'MCC']\n",
    "    }\n",
    "    \n",
    "    for model_name in models:\n",
    "\n",
    "        device = torch.device(\"cuda\" if torch.cuda.is_available() else \"cpu\")\n",
    "        train_dataloader = preprocess_dataset(model_name, X_train, y_train, configs['batch_size'])\n",
    "        valid_dataloader = preprocess_dataset(model_name, X_val, y_val, configs['batch_size'])\n",
    "\n",
    "        '''SAVING DOES NOT WORK'''\n",
    "        for optimizer_name in optimizers:\n",
    "            op = str(optimizer_name).split('.')[-1].split(\"'\")[0]\n",
    "            model_name_variant = str(model_name).replace('/', '-') + '-' + op\n",
    "            model_url = 'models/' + model_name_variant + '.pth' #model_url = 'models/' + model_name_variant + '.pth'\n",
    "            if os.path.exists(model_url):\n",
    "                continue\n",
    "\n",
    "            print(\"===========================================\")\n",
    "            print(\"Start Training of {}\".format(model_name_variant))\n",
    "            print(\"===========================================\")\n",
    "\n",
    "            model = CustomModel(checkpoint=model_name, num_labels=len(label_names)).to(device)\n",
    "            optimizer = optimizer_name(model.parameters(), lr=learning_rate)\n",
    "            model, train_acc_per_epoch, train_loss_per_epoch, val_acc_per_epoch, val_loss_per_epoch, valid_label, valid_pred = trainer(model, batch_size, optimizer, epochs, train_dataloader, valid_dataloader, val_steps)\n",
    "            \n",
    "            \n",
    "            val_total_correct = (valid_label == valid_pred).sum().item()\n",
    "            val_acc =  val_total_correct/len(valid_label)\n",
    "            print(val_acc)\n",
    "            \n",
    "            plot_acc(epochs, train_acc_per_epoch, val_acc_per_epoch, model_name_variant)\n",
    "            plot_loss(epochs, train_loss_per_epoch, val_loss_per_epoch, model_name_variant)\n",
    "#             calculate_classification_reprot(label_names, valid_label, valid_pred, model_name_variant)\n",
    "            plot_confusion_matrix(valid_pred, valid_label, label_names, True, model_name_variant)\n",
    "            collect_train_results_of_all_model[model_name_variant] = get_evaluation_results(valid_label, valid_pred)\n",
    "            print(\"\\n\\n\")\n",
    "            \n",
    "#             torch.save(model.state_dict(), model_url)\n",
    "            if val_acc > best_prams['best_acc']:\n",
    "                best_prams['model'] = str(model_name)\n",
    "                best_prams['best_acc'] = val_acc\n",
    "                best_prams['optimizer'] = op\n",
    "                best_prams['epochs'] = epochs\n",
    "                best_prams['batch_size'] = batch_size\n",
    "                best_prams['learning_rate'] = learning_rate\n",
    "                \n",
    "                '''SAVING DOES NOT WORK'''\n",
    "                with open(best_params_dict_path, \"w\") as fp:\n",
    "                    json.dump(best_prams, fp)  # encode dict into JSON\n",
    "                #torch.save(model.state_dict(), \"models/best-transformer-model.pth\")\n",
    "                \n",
    "                # fs = gcsfs.GCSFileSystem(project = 'gs://transformer-textclassification/')\n",
    "                with open('models/best-transformer-model.pth', 'wb') as f:\n",
    "                    torch.save(model.state_dict(), f)\n",
    "\n",
    "                \n",
    "                \n",
    "            \n",
    "    metrics_data_frame = pd.DataFrame.from_dict(collect_train_results_of_all_model, orient='index')\n",
    "    print(tabulate(metrics_data_frame)) # convert results in to table"
   ]
  },
  {
   "cell_type": "markdown",
   "id": "7cee0b39",
   "metadata": {},
   "source": [
    "## Configurations and Settings\n",
    "<span style='color:red'>P2<span>"
   ]
  },
  {
   "cell_type": "code",
   "execution_count": 14,
   "id": "d28eb215",
   "metadata": {},
   "outputs": [
    {
     "data": {
      "image/png": "[encoded data removed]",
      "text/plain": [
       "<Figure size 1200x400 with 2 Axes>"
      ]
     },
     "metadata": {},
     "output_type": "display_data"
    },
    {
     "name": "stdout",
     "output_type": "stream",
     "text": [
      "===========================================\n",
      "Start Training of Bert-base-german-cased-Adam\n",
      "===========================================\n"
     ]
    },
    {
     "name": "stderr",
     "output_type": "stream",
     "text": [
      "Some weights of the model checkpoint at Bert-base-german-cased were not used when initializing BertModel: ['cls.seq_relationship.weight', 'cls.predictions.bias', 'cls.predictions.transform.dense.weight', 'cls.predictions.transform.LayerNorm.weight', 'cls.seq_relationship.bias', 'cls.predictions.decoder.weight', 'cls.predictions.transform.LayerNorm.bias', 'cls.predictions.transform.dense.bias']\n",
      "- This IS expected if you are initializing BertModel from the checkpoint of a model trained on another task or with another architecture (e.g. initializing a BertForSequenceClassification model from a BertForPreTraining model).\n",
      "- This IS NOT expected if you are initializing BertModel from the checkpoint of a model that you expect to be exactly identical (initializing a BertForSequenceClassification model from a BertForSequenceClassification model).\n"
     ]
    },
    {
     "name": "stdout",
     "output_type": "stream",
     "text": [
      "Epoch:  1\n"
     ]
    },
    {
     "data": {
      "application/vnd.jupyter.widget-view+json": {
       "model_id": "6ce554718a3d44cab5eac36c2dffd864",
       "version_major": 2,
       "version_minor": 0
      },
      "text/plain": [
       "Training:   0%|          | 0/2 [00:00<?, ?it/s]"
      ]
     },
     "metadata": {},
     "output_type": "display_data"
    },
    {
     "ename": "UnboundLocalError",
     "evalue": "local variable 'valid_label' referenced before assignment",
     "output_type": "error",
     "traceback": [
      "\u001b[0;31m---------------------------------------------------------------------------\u001b[0m",
      "\u001b[0;31mUnboundLocalError\u001b[0m                         Traceback (most recent call last)",
      "\u001b[0;32m/var/tmp/ipykernel_27112/4077052403.py\u001b[0m in \u001b[0;36m<module>\u001b[0;34m\u001b[0m\n\u001b[1;32m     19\u001b[0m ]\n\u001b[1;32m     20\u001b[0m \u001b[0;34m\u001b[0m\u001b[0m\n\u001b[0;32m---> 21\u001b[0;31m \u001b[0mtraining\u001b[0m\u001b[0;34m(\u001b[0m\u001b[0mmodels\u001b[0m\u001b[0;34m,\u001b[0m \u001b[0moptimizers\u001b[0m\u001b[0;34m,\u001b[0m \u001b[0mconfigs\u001b[0m\u001b[0;34m,\u001b[0m \u001b[0mdataset\u001b[0m\u001b[0;34m)\u001b[0m\u001b[0;34m\u001b[0m\u001b[0;34m\u001b[0m\u001b[0m\n\u001b[0m",
      "\u001b[0;32m/var/tmp/ipykernel_27112/1530206354.py\u001b[0m in \u001b[0;36mtraining\u001b[0;34m(models, optimizers, configs, dataset)\u001b[0m\n\u001b[1;32m     32\u001b[0m             \u001b[0mmodel\u001b[0m \u001b[0;34m=\u001b[0m \u001b[0mCustomModel\u001b[0m\u001b[0;34m(\u001b[0m\u001b[0mcheckpoint\u001b[0m\u001b[0;34m=\u001b[0m\u001b[0mmodel_name\u001b[0m\u001b[0;34m,\u001b[0m \u001b[0mnum_labels\u001b[0m\u001b[0;34m=\u001b[0m\u001b[0mlen\u001b[0m\u001b[0;34m(\u001b[0m\u001b[0mlabel_names\u001b[0m\u001b[0;34m)\u001b[0m\u001b[0;34m)\u001b[0m\u001b[0;34m.\u001b[0m\u001b[0mto\u001b[0m\u001b[0;34m(\u001b[0m\u001b[0mdevice\u001b[0m\u001b[0;34m)\u001b[0m\u001b[0;34m\u001b[0m\u001b[0;34m\u001b[0m\u001b[0m\n\u001b[1;32m     33\u001b[0m             \u001b[0moptimizer\u001b[0m \u001b[0;34m=\u001b[0m \u001b[0moptimizer_name\u001b[0m\u001b[0;34m(\u001b[0m\u001b[0mmodel\u001b[0m\u001b[0;34m.\u001b[0m\u001b[0mparameters\u001b[0m\u001b[0;34m(\u001b[0m\u001b[0;34m)\u001b[0m\u001b[0;34m,\u001b[0m \u001b[0mlr\u001b[0m\u001b[0;34m=\u001b[0m\u001b[0mlearning_rate\u001b[0m\u001b[0;34m)\u001b[0m\u001b[0;34m\u001b[0m\u001b[0;34m\u001b[0m\u001b[0m\n\u001b[0;32m---> 34\u001b[0;31m             \u001b[0mmodel\u001b[0m\u001b[0;34m,\u001b[0m \u001b[0mtrain_acc_per_epoch\u001b[0m\u001b[0;34m,\u001b[0m \u001b[0mtrain_loss_per_epoch\u001b[0m\u001b[0;34m,\u001b[0m \u001b[0mval_acc_per_epoch\u001b[0m\u001b[0;34m,\u001b[0m \u001b[0mval_loss_per_epoch\u001b[0m\u001b[0;34m,\u001b[0m \u001b[0mvalid_label\u001b[0m\u001b[0;34m,\u001b[0m \u001b[0mvalid_pred\u001b[0m \u001b[0;34m=\u001b[0m \u001b[0mtrainer\u001b[0m\u001b[0;34m(\u001b[0m\u001b[0mmodel\u001b[0m\u001b[0;34m,\u001b[0m \u001b[0mbatch_size\u001b[0m\u001b[0;34m,\u001b[0m \u001b[0moptimizer\u001b[0m\u001b[0;34m,\u001b[0m \u001b[0mepochs\u001b[0m\u001b[0;34m,\u001b[0m \u001b[0mtrain_dataloader\u001b[0m\u001b[0;34m,\u001b[0m \u001b[0mvalid_dataloader\u001b[0m\u001b[0;34m,\u001b[0m \u001b[0mval_steps\u001b[0m\u001b[0;34m)\u001b[0m\u001b[0;34m\u001b[0m\u001b[0;34m\u001b[0m\u001b[0m\n\u001b[0m\u001b[1;32m     35\u001b[0m \u001b[0;34m\u001b[0m\u001b[0m\n\u001b[1;32m     36\u001b[0m \u001b[0;34m\u001b[0m\u001b[0m\n",
      "\u001b[0;32m/var/tmp/ipykernel_27112/418167340.py\u001b[0m in \u001b[0;36mtrainer\u001b[0;34m(model, batch_size, optimizer, epochs, train_dataloader, valid_dataloader, val_steps)\u001b[0m\n\u001b[1;32m    100\u001b[0m                 \u001b[0mtrain_total_correct\u001b[0m \u001b[0;34m=\u001b[0m \u001b[0;36m0\u001b[0m\u001b[0;34m\u001b[0m\u001b[0;34m\u001b[0m\u001b[0m\n\u001b[1;32m    101\u001b[0m                 \u001b[0mtrain_total_examples\u001b[0m \u001b[0;34m=\u001b[0m \u001b[0;36m0\u001b[0m\u001b[0;34m\u001b[0m\u001b[0;34m\u001b[0m\u001b[0m\n\u001b[0;32m--> 102\u001b[0;31m     \u001b[0;32mreturn\u001b[0m \u001b[0mmodel\u001b[0m\u001b[0;34m,\u001b[0m \u001b[0mtrain_acc_per_epoch\u001b[0m\u001b[0;34m,\u001b[0m \u001b[0mtrain_loss_per_epoch\u001b[0m\u001b[0;34m,\u001b[0m \u001b[0mval_acc_per_epoch\u001b[0m\u001b[0;34m,\u001b[0m \u001b[0mval_loss_per_epoch\u001b[0m\u001b[0;34m,\u001b[0m \u001b[0mvalid_label\u001b[0m\u001b[0;34m,\u001b[0m \u001b[0mvalid_pred\u001b[0m\u001b[0;34m\u001b[0m\u001b[0;34m\u001b[0m\u001b[0m\n\u001b[0m",
      "\u001b[0;31mUnboundLocalError\u001b[0m: local variable 'valid_label' referenced before assignment"
     ]
    }
   ],
   "source": [
    "#df = pickle.load(open('dataset/230130_SmallOberkategorie.pickle', 'rb'))\n",
    "df = pd.read_pickle(\"gs://transformer-textclassification/280223_beispieldaten.pickle\") \n",
    "label_names = df['labels'].unique()\n",
    "# label_names\n",
    "\n",
    "X = df[['text']]\n",
    "y = df['labels']\n",
    "X_train, X_val, y_train, y_val = split_df(X, y)\n",
    "\n",
    "optimizers = [Adam, SGD]\n",
    "configs =     {'epochs': 1, 'batch_size': 16, 'learning_rate': 2e-6, 'val_steps':100}\n",
    "dataset = {'X_train': X_train, 'y_train': y_train, 'X_val': X_val, 'y_val': y_val}\n",
    "\n",
    "models = ['Bert-base-german-cased', \n",
    "#'Dbmdz/bert-base-german-uncased',\n",
    "# 'Deepset/gbert-base',\n",
    "# 'Xlm-roberta-base',\n",
    "# 'Uklfr/gottbert-base'\n",
    "]\n",
    "\n",
    "training(models, optimizers, configs, dataset) "
   ]
  },
  {
   "cell_type": "markdown",
   "id": "2734338a",
   "metadata": {},
   "source": [
    "# Testing"
   ]
  },
  {
   "cell_type": "code",
   "execution_count": null,
   "id": "6fac7371",
   "metadata": {},
   "outputs": [],
   "source": [
    "def validator(model, test_dataloader):\n",
    "    model.eval()\n",
    "    test_label = []\n",
    "    test_pred = []\n",
    "    test_loss= 0\n",
    "    device = torch.device(\"cuda\" if torch.cuda.is_available() else \"cpu\")\n",
    "    with torch.no_grad():\n",
    "        for step_num, batch_data in tqdm(enumerate(test_dataloader)):\n",
    "            input_ids, att_mask, labels = [data.to(device) for data in batch_data]\n",
    "            output = model(input_ids = input_ids, attention_mask=att_mask, labels= labels)\n",
    "\n",
    "            loss = output.loss\n",
    "            test_loss += loss.item()\n",
    "            \n",
    "            test_label.append(labels.cpu().detach().numpy())\n",
    "            test_pred.append(np.argmax(output.logits.cpu().detach().numpy(),axis=-1))\n",
    "    \n",
    "    test_label = np.concatenate(test_label)\n",
    "    test_pred = np.concatenate(test_pred)\n",
    "    \n",
    "    return test_label, test_pred"
   ]
  },
  {
   "cell_type": "code",
   "execution_count": null,
   "id": "2e9fb71f",
   "metadata": {},
   "outputs": [],
   "source": [
    "def testing(models, optimizers, configs, dataset):\n",
    "    \n",
    "    batch_size = configs['batch_size']\n",
    "    X_test, y_test = dataset.values() \n",
    "\n",
    "    #dic form store results of all models\n",
    "    collect_test_results_of_all_model= {\n",
    "        'Metrics':['accuracy','precision','recall','f1-score', 'MCC']\n",
    "    }\n",
    "    \n",
    "    for model_name in models:\n",
    "\n",
    "        device = torch.device(\"cuda\" if torch.cuda.is_available() else \"cpu\")\n",
    "        test_dataloader = preprocess_dataset(model_name, X_test, y_test, configs['batch_size'])\n",
    "        \n",
    "        for optimizer_name in optimizers:\n",
    "            op = str(optimizer_name).split('.')[-1].split(\"'\")[0]\n",
    "            model_name_variant = str(model_name).replace('/', '-') + '-' + op\n",
    "            model_url = 'models/best-transformer-model.pth' #'models/best-transformer-model.pth'\n",
    "            if os.path.exists(model_url):\n",
    "\n",
    "                print(\"===========================================\")\n",
    "                print(\"Start Validating on {}\".format(model_name_variant))\n",
    "                print(\"===========================================\")\n",
    "\n",
    "                model = CustomModel(checkpoint=model_name, num_labels=len(label_names)).to(device)\n",
    "                model.load_state_dict(torch.load(model_url))\n",
    "                test_label, test_pred = validator(model, test_dataloader)\n",
    "\n",
    "                calculate_classification_reprot(label_names, test_label, test_pred, model_name_variant)\n",
    "                plot_confusion_matrix(test_pred, test_label, label_names, False, model_name_variant)"
   ]
  },
  {
   "cell_type": "markdown",
   "id": "24da2d19",
   "metadata": {},
   "source": [
    "<span style='color:red'>P3<span>"
   ]
  },
  {
   "cell_type": "code",
   "execution_count": null,
   "id": "8222cf6f-d4b9-4dcf-bdd2-d6b237ba3efb",
   "metadata": {},
   "outputs": [],
   "source": [
    "# df = pickle.load(open('path of the test set.pickle', 'rb'))\n",
    "df = pd.read_pickle(\"gs://transformer-textclassification/230130_testdata.pickle\")\n",
    "\n",
    "X = df[['text']] #X_val # change with df['text'] for test text\n",
    "y = df['labels'] #y_val # change with df['label'] for test labels\n",
    "\n",
    "\n",
    "with open(\"best_params.text\", \"r\") as fp:\n",
    "    best_prams = json.load(fp)\n",
    "\n",
    "#optimizers = [Adam, AdamW, SGD]\n",
    "optimizers = [best_prams['optimizer']]\n",
    "\n",
    "dataset = {'X_test': X, 'y_test': y}\n",
    "configs =     {'epochs': 30, 'batch_size':16}\n",
    "models = [best_prams['model']]\n",
    "\n",
    "\n",
    "\n",
    "testing(models, optimizers, configs, dataset)"
   ]
  },
  {
   "cell_type": "markdown",
   "id": "82b10773",
   "metadata": {},
   "source": [
    "## check mismatches"
   ]
  },
  {
   "cell_type": "code",
   "execution_count": null,
   "id": "c5627aef",
   "metadata": {},
   "outputs": [],
   "source": [
    "def unit_testing(model_name, optimizer, test_dataloader):\n",
    " \n",
    "    device = torch.device(\"cuda\" if torch.cuda.is_available() else \"cpu\")\n",
    "        \n",
    "    op = str(optimizer).split('.')[-1].split(\"'\")[0]\n",
    "    model_name_variant = str(model_name).replace('/', '-') + '-' + op\n",
    "#     model_url = 'models/' + model_name_variant + '.pth'\n",
    "    model_url = 'models/best-transformer-model.pth' \n",
    "    \n",
    "    if os.path.exists(model_url):\n",
    "\n",
    "        model = CustomModel(checkpoint=model_name, num_labels=len(label_names)).to(device)\n",
    "        model.load_state_dict(torch.load(model_url))\n",
    "        test_label, test_pred = validator(model, test_dataloader)\n",
    "\n",
    "        return test_label, test_pred\n",
    "    \n",
    "    return \"trained model doesn't exist on path!\", None\n",
    "\n",
    "\n",
    "optimizer = Adam\n",
    "model_name = best_prams['model']\n",
    "test_dataloader = preprocess_dataset(model_name, X, y, configs['batch_size'])\n",
    "test_label, test_pred = unit_testing(model_name, optimizer, test_dataloader)\n",
    "\n",
    "mismatch_df = X\n",
    "mismatch_df['label'] = test_label\n",
    "mismatch_df['pred'] = test_pred\n",
    "print(mismatch_df[mismatch_df['label']!=mismatch_df['pred']].shape)\n",
    "mismatch_df[mismatch_df['label']!=mismatch_df['pred']][['text','label','pred']]\n",
    "print(mismatch_df.head(10))\n",
    "mismatch_df.to_csv('mismatched.csv')"
   ]
  },
  {
   "cell_type": "markdown",
   "id": "a3bda951",
   "metadata": {},
   "source": [
    "## Attention Wights"
   ]
  },
  {
   "cell_type": "code",
   "execution_count": null,
   "id": "50098b1c",
   "metadata": {},
   "outputs": [],
   "source": [
    "# Load pre-trained model and tokenizer\n",
    "model_name = best_prams['model']\n",
    "model_url = \"models/best-transformer-model.pth\"\n",
    "device = torch.device(\"cuda\" if torch.cuda.is_available() else \"cpu\")\n",
    "\n",
    "tokenizer = AutoTokenizer.from_pretrained(model_name)\n",
    "model = CustomModel(checkpoint=model_name, num_labels=len(label_names)).to(device)\n",
    "model.load_state_dict(torch.load(model_url))\n",
    "\n",
    "# Encode input sentence and get attention masks\n",
    "input_sentence = \"This is a sample input sentence to visualize attention weights.\"\n",
    "input_tokens = tokenizer.encode(input_sentence, add_special_tokens=True)\n",
    "input_tensor = torch.tensor([input_tokens]).to(device)\n",
    "attention_mask = torch.ones_like(input_tensor).to(device)\n",
    "\n",
    "# Forward pass through the model to get attention weights\n",
    "outputs = model(input_tensor, attention_mask=attention_mask)\n",
    "attentions = outputs[-1]\n",
    "\n",
    "# Iterate over each layer and head to visualize attention weights\n",
    "for layer, layer_attentions in enumerate(attentions):\n",
    "    print(f\"Layer {layer+1}:\")\n",
    "    for head, head_attentions in enumerate(layer_attentions):\n",
    "        print(f\"Head {head+1}:\")\n",
    "        for token, weight in zip(input_tokens, head_attentions):\n",
    "            print(f\"{tokenizer.decode([token])} - {weight[0][0].item():.4f}\")\n",
    "        print(\"\\n\")"
   ]
  },
  {
   "cell_type": "code",
   "execution_count": null,
   "id": "dabc3726",
   "metadata": {},
   "outputs": [],
   "source": []
  },
  {
   "cell_type": "code",
   "execution_count": null,
   "id": "1a38ead8",
   "metadata": {},
   "outputs": [],
   "source": []
  },
  {
   "cell_type": "code",
   "execution_count": null,
   "id": "b10821da",
   "metadata": {},
   "outputs": [],
   "source": []
  }
 ],
 "metadata": {
  "environment": {
   "kernel": "python3",
   "name": "common-cu110.m103",
   "type": "gcloud",
   "uri": "gcr.io/deeplearning-platform-release/base-cu110:m103"
  },
  "kernelspec": {
   "display_name": "Python 3 (ipykernel)",
   "language": "python",
   "name": "python3"
  },
  "language_info": {
   "codemirror_mode": {
    "name": "ipython",
    "version": 3
   },
   "file_extension": ".py",
   "mimetype": "text/x-python",
   "name": "python",
   "nbconvert_exporter": "python",
   "pygments_lexer": "ipython3",
   "version": "3.9.7"
  }
 },
 "nbformat": 4,
 "nbformat_minor": 5
}
