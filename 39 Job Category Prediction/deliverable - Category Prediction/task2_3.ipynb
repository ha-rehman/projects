{
 "cells": [
  {
   "cell_type": "markdown",
   "metadata": {},
   "source": [
    "# Assignment 2: Milestone I Natural Language Processing\n",
    "## Task 2&3\n",
    "#### Student Name: XXXX XXXX\n",
    "#### Student ID: 000000\n",
    "\n",
    "Date: XXXX\n",
    "\n",
    "Version: 1.0\n",
    "\n",
    "Environment: Python 3 and Jupyter notebook\n",
    "\n",
    "Libraries used: please include all the libraries you used in your assignment, e.g.,:\n",
    "* pandas\n",
    "* re\n",
    "* numpy\n",
    "\n",
    "## Introduction\n",
    "You should give a brief information of this assessment task here.\n",
    "\n",
    "<span style=\"color: red\"> Note that this is a sample notebook only. You will need to fill in the proper markdown and code blocks. You might also want to make necessary changes to the structure to meet your own needs. Note also that any generic comments written in this notebook are to be removed and replace with your own words.</span>"
   ]
  },
  {
   "cell_type": "markdown",
   "metadata": {},
   "source": [
    "## Importing libraries "
   ]
  },
  {
   "cell_type": "code",
   "execution_count": 1,
   "metadata": {},
   "outputs": [
    {
     "name": "stderr",
     "output_type": "stream",
     "text": [
      "C:\\Users\\abdul\\.conda\\envs\\tf2x\\lib\\site-packages\\sklearn\\feature_extraction\\text.py:17: DeprecationWarning: Using or importing the ABCs from 'collections' instead of from 'collections.abc' is deprecated since Python 3.3,and in 3.9 it will stop working\n",
      "  from collections import Mapping, defaultdict\n",
      "C:\\Users\\abdul\\.conda\\envs\\tf2x\\lib\\site-packages\\sklearn\\ensemble\\weight_boosting.py:29: DeprecationWarning: numpy.core.umath_tests is an internal NumPy module and should not be imported. It will be removed in a future NumPy release.\n",
      "  from numpy.core.umath_tests import inner1d\n"
     ]
    }
   ],
   "source": [
    "# Code to import libraries as you need in this assessment, e.g.,\n",
    "import re\n",
    "import os\n",
    "import json\n",
    "import string\n",
    "import numpy as np\n",
    "import pandas as pd\n",
    "from sklearn.feature_extraction.text import CountVectorizer\n",
    "from nltk.stem import WordNetLemmatizer\n",
    "from nltk.stem.porter import PorterStemmer\n",
    "from collections import OrderedDict\n",
    "from sklearn.feature_extraction.text import TfidfVectorizer\n",
    "from gensim.models import Word2Vec\n",
    "import gensim\n",
    "from sklearn.model_selection import train_test_split\n",
    "\n",
    "from sklearn.svm import SVC\n",
    "from sklearn.model_selection import cross_val_score\n",
    "from sklearn.ensemble import RandomForestClassifier\n",
    "from sklearn.neighbors import KNeighborsClassifier\n",
    "from sklearn.linear_model import LogisticRegression\n",
    "from sklearn.naive_bayes import GaussianNB\n",
    "from sklearn.ensemble import GradientBoostingClassifier\n",
    "import matplotlib.pyplot as plt\n",
    " "
   ]
  },
  {
   "cell_type": "markdown",
   "metadata": {},
   "source": [
    "## Task 2. Generating Feature Representations for Job Advertisement Descriptions"
   ]
  },
  {
   "cell_type": "markdown",
   "metadata": {},
   "source": [
    "...... Sections and code blocks on buidling different document feature represetations\n",
    "\n",
    "\n",
    "<span style=\"color: red\"> You might have complex notebook structure in this section, please feel free to create your own notebook structure. </span>"
   ]
  },
  {
   "cell_type": "code",
   "execution_count": 2,
   "metadata": {},
   "outputs": [
    {
     "data": {
      "text/html": [
       "<div>\n",
       "<style scoped>\n",
       "    .dataframe tbody tr th:only-of-type {\n",
       "        vertical-align: middle;\n",
       "    }\n",
       "\n",
       "    .dataframe tbody tr th {\n",
       "        vertical-align: top;\n",
       "    }\n",
       "\n",
       "    .dataframe thead th {\n",
       "        text-align: right;\n",
       "    }\n",
       "</style>\n",
       "<table border=\"1\" class=\"dataframe\">\n",
       "  <thead>\n",
       "    <tr style=\"text-align: right;\">\n",
       "      <th></th>\n",
       "      <th>web_index</th>\n",
       "      <th>title</th>\n",
       "      <th>text</th>\n",
       "      <th>label</th>\n",
       "    </tr>\n",
       "  </thead>\n",
       "  <tbody>\n",
       "    <tr>\n",
       "      <th>0</th>\n",
       "      <td>68802053</td>\n",
       "      <td>FP&amp;A  Blue Chip</td>\n",
       "      <td>market leading retail rapid growth and due exp...</td>\n",
       "      <td>Accounting_Finance</td>\n",
       "    </tr>\n",
       "    <tr>\n",
       "      <th>1</th>\n",
       "      <td>70757636</td>\n",
       "      <td>Part time Management Accountant</td>\n",
       "      <td>leading staff responsible production creating ...</td>\n",
       "      <td>Accounting_Finance</td>\n",
       "    </tr>\n",
       "    <tr>\n",
       "      <th>2</th>\n",
       "      <td>71356489</td>\n",
       "      <td>IFA  EMPLOYED</td>\n",
       "      <td>purpose provide advice telephone lead supplied...</td>\n",
       "      <td>Accounting_Finance</td>\n",
       "    </tr>\n",
       "    <tr>\n",
       "      <th>3</th>\n",
       "      <td>69073629</td>\n",
       "      <td>Finance Manager</td>\n",
       "      <td>join expanding recruit aca qualified accountan...</td>\n",
       "      <td>Accounting_Finance</td>\n",
       "    </tr>\n",
       "    <tr>\n",
       "      <th>4</th>\n",
       "      <td>70656648</td>\n",
       "      <td>Management Accountant</td>\n",
       "      <td>offer interesting part qualified acca cima acc...</td>\n",
       "      <td>Accounting_Finance</td>\n",
       "    </tr>\n",
       "  </tbody>\n",
       "</table>\n",
       "</div>"
      ],
      "text/plain": [
       "   web_index                            title  \\\n",
       "0   68802053                  FP&A  Blue Chip   \n",
       "1   70757636  Part time Management Accountant   \n",
       "2   71356489                    IFA  EMPLOYED   \n",
       "3   69073629                  Finance Manager   \n",
       "4   70656648            Management Accountant   \n",
       "\n",
       "                                                text               label  \n",
       "0  market leading retail rapid growth and due exp...  Accounting_Finance  \n",
       "1  leading staff responsible production creating ...  Accounting_Finance  \n",
       "2  purpose provide advice telephone lead supplied...  Accounting_Finance  \n",
       "3  join expanding recruit aca qualified accountan...  Accounting_Finance  \n",
       "4  offer interesting part qualified acca cima acc...  Accounting_Finance  "
      ]
     },
     "execution_count": 2,
     "metadata": {},
     "output_type": "execute_result"
    }
   ],
   "source": [
    "# Code to perform the task...\n",
    "df = pd.read_csv('out/task1.df.csv', encoding='utf-8')\n",
    "df.head()"
   ]
  },
  {
   "cell_type": "code",
   "execution_count": 3,
   "metadata": {},
   "outputs": [],
   "source": [
    "def write_txt(vectorizer_df, method_num):\n",
    "    file_name = 'out/count_vector{}.txt'.format(method_num)\n",
    "    with open(file_name, 'w') as f:\n",
    "        for index, row in vectorizer_df.iterrows():\n",
    "            row_dict = row[1:].to_dict()\n",
    "            filtered_dict = { key:value for (key,value) in row_dict.items() if value > 0}\n",
    "            index = \"#\" + str(int(row['web_index']))\n",
    "\n",
    "            f.write(index)\n",
    "            f.write(\",\")\n",
    "            f.writelines('{}:{},'.format(k,v) for k, v in filtered_dict.items())\n",
    "            f.write(\"\\n\")"
   ]
  },
  {
   "cell_type": "code",
   "execution_count": 4,
   "metadata": {},
   "outputs": [
    {
     "name": "stdout",
     "output_type": "stream",
     "text": [
      "(776, 3439)\n"
     ]
    }
   ],
   "source": [
    "# count vectorizer (Bag of Words)\n",
    "vectorizer1 = CountVectorizer(analyzer='word')\n",
    "X = vectorizer1.fit_transform(list(df['text'].values.astype('U')))\n",
    "\n",
    "vectorizer1_df = pd.DataFrame(X.toarray())\n",
    "vectorizer1_df.insert(0, 'web_index', df['web_index'])\n",
    "print(vectorizer1_df.shape)"
   ]
  },
  {
   "cell_type": "code",
   "execution_count": 5,
   "metadata": {},
   "outputs": [
    {
     "name": "stdout",
     "output_type": "stream",
     "text": [
      "(776, 3439)\n"
     ]
    }
   ],
   "source": [
    "# count vectorizer (TF-IDF)\n",
    "vectorizer2 = TfidfVectorizer()\n",
    "X = vectorizer2.fit_transform(list(df['text'].values.astype('U')))\n",
    "\n",
    "vectorizer2_df = pd.DataFrame(X.toarray())\n",
    "vectorizer2_df.insert(0, 'web_index', df['web_index'])\n",
    "print(vectorizer1_df.shape)"
   ]
  },
  {
   "cell_type": "code",
   "execution_count": 6,
   "metadata": {},
   "outputs": [
    {
     "name": "stdout",
     "output_type": "stream",
     "text": [
      "(776, 101)\n"
     ]
    }
   ],
   "source": [
    "text = df['text'].apply(lambda x: gensim.utils.simple_preprocess(str(x)))\n",
    "\n",
    "w2v_model = gensim.models.Word2Vec(text,\n",
    "                                   vector_size=100,\n",
    "                                   window=5,\n",
    "                                   min_count=2)\n",
    "\n",
    "words = set(w2v_model.wv.index_to_key )\n",
    "text_vec = np.array([np.array([w2v_model.wv[i] for i in ls if i in words])\n",
    "                         for ls in text])\n",
    "\n",
    "text_vec_avg = []\n",
    "for v in text_vec:\n",
    "    if v.size:\n",
    "        text_vec_avg.append(v.mean(axis=0))\n",
    "    else:\n",
    "        text_vec_avg.append(np.zeros(100, dtype=float))\n",
    "        \n",
    "vectorizer3_df = pd.DataFrame(text_vec_avg)\n",
    "vectorizer3_df.insert(0, 'web_index', df['web_index'])\n",
    "print(vectorizer3_df.shape)"
   ]
  },
  {
   "cell_type": "markdown",
   "metadata": {},
   "source": [
    "### Saving outputs\n",
    "Save the count vector representation as per spectification.\n",
    "- count_vectors.txt"
   ]
  },
  {
   "cell_type": "code",
   "execution_count": 7,
   "metadata": {},
   "outputs": [],
   "source": [
    "# code to save output data...\n",
    "write_txt(vectorizer1_df, 1)\n",
    "write_txt(vectorizer2_df, 2)\n",
    "write_txt(vectorizer3_df, 3)"
   ]
  },
  {
   "cell_type": "markdown",
   "metadata": {},
   "source": [
    "## Task 3. Job Advertisement Classification"
   ]
  },
  {
   "cell_type": "markdown",
   "metadata": {},
   "source": [
    "...... Sections and code blocks on buidling classification models based on different document feature represetations. \n",
    "Detailed comparsions and evaluations on different models to answer each question as per specification. \n",
    "\n",
    "<span style=\"color: red\"> You might have complex notebook structure in this section, please feel free to create your own notebook structure. </span>"
   ]
  },
  {
   "cell_type": "markdown",
   "metadata": {},
   "source": [
    "#### Classification with description vectors"
   ]
  },
  {
   "cell_type": "code",
   "execution_count": 8,
   "metadata": {},
   "outputs": [],
   "source": [
    "# Code to perform the task...\n",
    "label_df = df[['web_index', 'label']]\n",
    "final_df1 = pd.merge(vectorizer2_df, label_df, on='web_index')\n",
    "\n",
    "X = final_df1.iloc[:,1:-1]\n",
    "y = final_df1['label']\n",
    "X_train,X_test,y_train,y_test = train_test_split(X, y, test_size=0.2, random_state=123)"
   ]
  },
  {
   "cell_type": "code",
   "execution_count": 9,
   "metadata": {},
   "outputs": [
    {
     "name": "stdout",
     "output_type": "stream",
     "text": [
      "Training Accuracy of the RF model with 5 cross fold 0.6487770809136663\n",
      "Training Accuracy of the KNN model with 5 cross fold 0.7371735191637631\n",
      "Training Accuracy of the LR model with 5 cross fold 0.7725701897018971\n",
      "Training Accuracy of the NB model with 5 cross fold 0.6935166860240031\n",
      "Training Accuracy of the GB model with 5 cross fold 0.67606968641115\n"
     ]
    },
    {
     "data": {
      "image/png": "[encoded data removed]",
      "text/plain": [
       "<Figure size 720x360 with 1 Axes>"
      ]
     },
     "metadata": {
      "needs_background": "light"
     },
     "output_type": "display_data"
    }
   ],
   "source": [
    "accuracy_scores = []\n",
    "models = ['RF', 'KNN', 'LR', 'NB', 'GB']\n",
    "\n",
    "RF = RandomForestClassifier()\n",
    "scores = cross_val_score(RF, X_train, y_train, cv=5)\n",
    "accuracy_scores.append(sum(scores)/len(scores))\n",
    "print(\"Training Accuracy of the RF model with 5 cross fold {}\".format(sum(scores)/len(scores)))\n",
    "\n",
    "neighbors_clf = KNeighborsClassifier(n_neighbors=5,)\n",
    "scores = cross_val_score(neighbors_clf, X_train, y_train, cv=5)\n",
    "accuracy_scores.append(sum(scores)/len(scores))\n",
    "print(\"Training Accuracy of the KNN model with 5 cross fold {}\".format(sum(scores)/len(scores)))\n",
    "\n",
    "lr_clf = LogisticRegression(random_state=0)\n",
    "scores = cross_val_score(lr_clf, X_train, y_train, cv=5)\n",
    "accuracy_scores.append(sum(scores)/len(scores))\n",
    "print(\"Training Accuracy of the LR model with 5 cross fold {}\".format(sum(scores)/len(scores)))\n",
    "\n",
    "NB_classifier = GaussianNB()\n",
    "scores = cross_val_score(NB_classifier, X_train, y_train, cv=5)\n",
    "accuracy_scores.append(sum(scores)/len(scores))\n",
    "print(\"Training Accuracy of the NB model with 5 cross fold {}\".format(sum(scores)/len(scores)))\n",
    "\n",
    "gb_clf = GradientBoostingClassifier(n_estimators=100, learning_rate=1.0, max_depth=1, random_state=0)\n",
    "scores = cross_val_score(gb_clf, X_train, y_train, cv=5)\n",
    "accuracy_scores.append(sum(scores)/len(scores))\n",
    "print(\"Training Accuracy of the GB model with 5 cross fold {}\".format(sum(scores)/len(scores)))\n",
    "\n",
    "fig = plt.figure(figsize = (10, 5))\n",
    "plt.bar(models, accuracy_scores, color ='maroon',\n",
    "        width = 0.4)\n",
    " \n",
    "plt.xlabel(\"Machine Learning Models\")\n",
    "plt.ylabel(\"Accuracy Scores\")\n",
    "plt.title(\"Accuracy Scores of trained Models with Cross Fold Validation\")\n",
    "plt.show()"
   ]
  },
  {
   "cell_type": "markdown",
   "metadata": {},
   "source": [
    "#### classification with title vectors"
   ]
  },
  {
   "cell_type": "code",
   "execution_count": 10,
   "metadata": {},
   "outputs": [
    {
     "name": "stdout",
     "output_type": "stream",
     "text": [
      "(776, 986)\n"
     ]
    }
   ],
   "source": [
    "vectorizer2 = TfidfVectorizer()\n",
    "X = vectorizer2.fit_transform(list(df['title'].values.astype('U')))\n",
    "\n",
    "title_vectorizer1_df = pd.DataFrame(X.toarray())\n",
    "title_vectorizer1_df.insert(0, 'web_index', df['web_index'])\n",
    "print(title_vectorizer1_df.shape)\n",
    "   \n",
    "label_df = df[['web_index', 'label']]\n",
    "final_df2 = pd.merge(title_vectorizer1_df, label_df, on='web_index')\n",
    "\n",
    "X = final_df2.iloc[:,1:-1]\n",
    "y = final_df2['label']\n",
    "X_train,X_test,y_train,y_test = train_test_split(X, y, test_size=0.2, random_state=123)"
   ]
  },
  {
   "cell_type": "code",
   "execution_count": 11,
   "metadata": {},
   "outputs": [
    {
     "name": "stdout",
     "output_type": "stream",
     "text": [
      "Training Accuracy of the RF model with 5 cross fold 0.7544384049554782\n",
      "Training Accuracy of the KNN model with 5 cross fold 0.7902488579171507\n",
      "Training Accuracy of the LR model with 5 cross fold 0.824072164150213\n",
      "Training Accuracy of the NB model with 5 cross fold 0.7098276422764227\n",
      "Training Accuracy of the GB model with 5 cross fold 0.7515868370112273\n"
     ]
    },
    {
     "data": {
      "image/png": "[encoded data removed]",
      "text/plain": [
       "<Figure size 720x360 with 1 Axes>"
      ]
     },
     "metadata": {
      "needs_background": "light"
     },
     "output_type": "display_data"
    }
   ],
   "source": [
    "accuracy_scores = []\n",
    "models = ['RF', 'KNN', 'LR', 'NB', 'GB']\n",
    "\n",
    "RF = RandomForestClassifier()\n",
    "scores = cross_val_score(RF, X_train, y_train, cv=5)\n",
    "accuracy_scores.append(sum(scores)/len(scores))\n",
    "print(\"Training Accuracy of the RF model with 5 cross fold {}\".format(sum(scores)/len(scores)))\n",
    "\n",
    "neighbors_clf = KNeighborsClassifier(n_neighbors=5,)\n",
    "scores = cross_val_score(neighbors_clf, X_train, y_train, cv=5)\n",
    "accuracy_scores.append(sum(scores)/len(scores))\n",
    "print(\"Training Accuracy of the KNN model with 5 cross fold {}\".format(sum(scores)/len(scores)))\n",
    "\n",
    "lr_clf = LogisticRegression(random_state=0)\n",
    "scores = cross_val_score(lr_clf, X_train, y_train, cv=5)\n",
    "accuracy_scores.append(sum(scores)/len(scores))\n",
    "print(\"Training Accuracy of the LR model with 5 cross fold {}\".format(sum(scores)/len(scores)))\n",
    "\n",
    "NB_classifier = GaussianNB()\n",
    "scores = cross_val_score(NB_classifier, X_train, y_train, cv=5)\n",
    "accuracy_scores.append(sum(scores)/len(scores))\n",
    "print(\"Training Accuracy of the NB model with 5 cross fold {}\".format(sum(scores)/len(scores)))\n",
    "\n",
    "gb_clf = GradientBoostingClassifier(n_estimators=100, learning_rate=1.0, max_depth=1, random_state=0)\n",
    "scores = cross_val_score(gb_clf, X_train, y_train, cv=5)\n",
    "accuracy_scores.append(sum(scores)/len(scores))\n",
    "print(\"Training Accuracy of the GB model with 5 cross fold {}\".format(sum(scores)/len(scores)))\n",
    "\n",
    "fig = plt.figure(figsize = (10, 5))\n",
    "plt.bar(models, accuracy_scores, color ='maroon',\n",
    "        width = 0.4)\n",
    " \n",
    "plt.xlabel(\"Machine Learning Models\")\n",
    "plt.ylabel(\"Accuracy Scores\")\n",
    "plt.title(\"Accuracy Scores of trained Models with Cross Fold Validation\")\n",
    "plt.show()"
   ]
  },
  {
   "cell_type": "markdown",
   "metadata": {},
   "source": [
    "#### classification with title and description vectors"
   ]
  },
  {
   "cell_type": "code",
   "execution_count": 12,
   "metadata": {},
   "outputs": [],
   "source": [
    "final_df2 = final_df2.drop('label', axis=1)\n",
    "final_df = pd.merge(final_df2, final_df1, on='web_index')\n",
    "\n",
    "X = final_df.iloc[:,1:-1]\n",
    "y = final_df['label']\n",
    "X_train,X_test,y_train,y_test = train_test_split(X, y, test_size=0.2, random_state=123)\n"
   ]
  },
  {
   "cell_type": "code",
   "execution_count": 13,
   "metadata": {},
   "outputs": [
    {
     "name": "stdout",
     "output_type": "stream",
     "text": [
      "Training Accuracy of the RF model with 5 cross fold 0.7451995354239257\n",
      "Training Accuracy of the KNN model with 5 cross fold 0.8161096399535424\n",
      "Training Accuracy of the LR model with 5 cross fold 0.8804775842044135\n",
      "Training Accuracy of the NB model with 5 cross fold 0.8062894308943089\n",
      "Training Accuracy of the GB model with 5 cross fold 0.7903008904374758\n"
     ]
    },
    {
     "data": {
      "image/png": "[encoded data removed]",
      "text/plain": [
       "<Figure size 720x360 with 1 Axes>"
      ]
     },
     "metadata": {
      "needs_background": "light"
     },
     "output_type": "display_data"
    }
   ],
   "source": [
    "accuracy_scores = []\n",
    "models = ['RF', 'KNN', 'LR', 'NB', 'GB']\n",
    "\n",
    "RF = RandomForestClassifier()\n",
    "scores = cross_val_score(RF, X_train, y_train, cv=5)\n",
    "accuracy_scores.append(sum(scores)/len(scores))\n",
    "print(\"Training Accuracy of the RF model with 5 cross fold {}\".format(sum(scores)/len(scores)))\n",
    "\n",
    "neighbors_clf = KNeighborsClassifier(n_neighbors=5,)\n",
    "scores = cross_val_score(neighbors_clf, X_train, y_train, cv=5)\n",
    "accuracy_scores.append(sum(scores)/len(scores))\n",
    "print(\"Training Accuracy of the KNN model with 5 cross fold {}\".format(sum(scores)/len(scores)))\n",
    "\n",
    "lr_clf = LogisticRegression(random_state=0)\n",
    "scores = cross_val_score(lr_clf, X_train, y_train, cv=5)\n",
    "accuracy_scores.append(sum(scores)/len(scores))\n",
    "print(\"Training Accuracy of the LR model with 5 cross fold {}\".format(sum(scores)/len(scores)))\n",
    "\n",
    "NB_classifier = GaussianNB()\n",
    "scores = cross_val_score(NB_classifier, X_train, y_train, cv=5)\n",
    "accuracy_scores.append(sum(scores)/len(scores))\n",
    "print(\"Training Accuracy of the NB model with 5 cross fold {}\".format(sum(scores)/len(scores)))\n",
    "\n",
    "gb_clf = GradientBoostingClassifier(n_estimators=100, learning_rate=1.0, max_depth=1, random_state=0)\n",
    "scores = cross_val_score(gb_clf, X_train, y_train, cv=5)\n",
    "accuracy_scores.append(sum(scores)/len(scores))\n",
    "print(\"Training Accuracy of the GB model with 5 cross fold {}\".format(sum(scores)/len(scores)))\n",
    "\n",
    "fig = plt.figure(figsize = (10, 5))\n",
    "plt.bar(models, accuracy_scores, color ='maroon',\n",
    "        width = 0.4)\n",
    " \n",
    "plt.xlabel(\"Machine Learning Models\")\n",
    "plt.ylabel(\"Accuracy Scores\")\n",
    "plt.title(\"Accuracy Scores of trained Models with Cross Fold Validation\")\n",
    "plt.show()"
   ]
  },
  {
   "cell_type": "markdown",
   "metadata": {},
   "source": [
    "## Summary\n",
    "With the vectors of title and description, each model perform well compare to seperatly train on the title and description vector.\n",
    "\n",
    "Resultantly, we can say that more information of word increase the performance of the model and Logistic Regression model outer perform relative to other trained models."
   ]
  }
 ],
 "metadata": {
  "kernelspec": {
   "display_name": "Python 3 (ipykernel)",
   "language": "python",
   "name": "python3"
  },
  "language_info": {
   "codemirror_mode": {
    "name": "ipython",
    "version": 3
   },
   "file_extension": ".py",
   "mimetype": "text/x-python",
   "name": "python",
   "nbconvert_exporter": "python",
   "pygments_lexer": "ipython3",
   "version": "3.7.11"
  }
 },
 "nbformat": 4,
 "nbformat_minor": 1
}
